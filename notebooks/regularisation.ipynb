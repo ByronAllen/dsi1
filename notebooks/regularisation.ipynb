{
 "cells": [
  {
   "cell_type": "code",
   "execution_count": 2,
   "metadata": {
    "collapsed": true
   },
   "outputs": [],
   "source": [
    "%matplotlib inline\n",
    "import pandas as pd"
   ]
  },
  {
   "cell_type": "code",
   "execution_count": 3,
   "metadata": {
    "collapsed": true
   },
   "outputs": [],
   "source": [
    "weather = pd.read_csv('sydney_climate.csv')"
   ]
  },
  {
   "cell_type": "code",
   "execution_count": 5,
   "metadata": {
    "collapsed": false
   },
   "outputs": [
    {
     "data": {
      "text/html": [
       "<div>\n",
       "<table border=\"1\" class=\"dataframe\">\n",
       "  <thead>\n",
       "    <tr style=\"text-align: right;\">\n",
       "      <th></th>\n",
       "      <th>Year_Month_Day</th>\n",
       "      <th>MANGROVE_MOUNTAIN</th>\n",
       "      <th>GOSFORD</th>\n",
       "      <th>SPRINGWOOD</th>\n",
       "      <th>SYDNEY_AIRPORT</th>\n",
       "      <th>TERREY_HILLS</th>\n",
       "      <th>SYDNEY</th>\n",
       "      <th>PARRAMATTA_NORTH</th>\n",
       "      <th>BANKSTOWN_AIRPORT</th>\n",
       "      <th>HOLSWORTHY_AERODROME</th>\n",
       "      <th>...</th>\n",
       "      <th>SYDNEY_HARBOUR</th>\n",
       "      <th>PROSPECT_RESERVOIR</th>\n",
       "      <th>RICHMOND_RAAF</th>\n",
       "      <th>BADGERYS_CREEK</th>\n",
       "      <th>PENRITH_LAKES</th>\n",
       "      <th>HORSLEY_PARK_EQUESTRIAN_CENTRE</th>\n",
       "      <th>CAMDEN_AIRPORT</th>\n",
       "      <th>BELLAMBI</th>\n",
       "      <th>PORT_KEMBLA_NTC</th>\n",
       "      <th>CAMPBELLTOWN</th>\n",
       "    </tr>\n",
       "  </thead>\n",
       "  <tbody>\n",
       "    <tr>\n",
       "      <th>0</th>\n",
       "      <td>2016-01-02</td>\n",
       "      <td>24.5</td>\n",
       "      <td>24.8</td>\n",
       "      <td>25.2</td>\n",
       "      <td>25.3</td>\n",
       "      <td>23.3</td>\n",
       "      <td>25.4</td>\n",
       "      <td>24.9</td>\n",
       "      <td>26.1</td>\n",
       "      <td>26.2</td>\n",
       "      <td>...</td>\n",
       "      <td>22.6</td>\n",
       "      <td>26.1</td>\n",
       "      <td>26.6</td>\n",
       "      <td>28.8</td>\n",
       "      <td>28.2</td>\n",
       "      <td>26.7</td>\n",
       "      <td>27.5</td>\n",
       "      <td>22.9</td>\n",
       "      <td>22.0</td>\n",
       "      <td>27.6</td>\n",
       "    </tr>\n",
       "    <tr>\n",
       "      <th>1</th>\n",
       "      <td>2016-01-03</td>\n",
       "      <td>21.2</td>\n",
       "      <td>23.4</td>\n",
       "      <td>21.0</td>\n",
       "      <td>24.3</td>\n",
       "      <td>NaN</td>\n",
       "      <td>24.6</td>\n",
       "      <td>25.0</td>\n",
       "      <td>25.6</td>\n",
       "      <td>24.1</td>\n",
       "      <td>...</td>\n",
       "      <td>22.7</td>\n",
       "      <td>24.0</td>\n",
       "      <td>24.3</td>\n",
       "      <td>24.6</td>\n",
       "      <td>23.6</td>\n",
       "      <td>23.3</td>\n",
       "      <td>24.6</td>\n",
       "      <td>22.9</td>\n",
       "      <td>22.9</td>\n",
       "      <td>24.6</td>\n",
       "    </tr>\n",
       "    <tr>\n",
       "      <th>2</th>\n",
       "      <td>2016-01-04</td>\n",
       "      <td>22.2</td>\n",
       "      <td>24.4</td>\n",
       "      <td>20.1</td>\n",
       "      <td>25.4</td>\n",
       "      <td>NaN</td>\n",
       "      <td>23.6</td>\n",
       "      <td>21.8</td>\n",
       "      <td>23.6</td>\n",
       "      <td>23.5</td>\n",
       "      <td>...</td>\n",
       "      <td>23.1</td>\n",
       "      <td>23.0</td>\n",
       "      <td>22.3</td>\n",
       "      <td>22.1</td>\n",
       "      <td>21.1</td>\n",
       "      <td>22.8</td>\n",
       "      <td>23.0</td>\n",
       "      <td>22.4</td>\n",
       "      <td>21.8</td>\n",
       "      <td>23.1</td>\n",
       "    </tr>\n",
       "    <tr>\n",
       "      <th>3</th>\n",
       "      <td>2016-01-05</td>\n",
       "      <td>18.6</td>\n",
       "      <td>20.6</td>\n",
       "      <td>16.2</td>\n",
       "      <td>21.0</td>\n",
       "      <td>NaN</td>\n",
       "      <td>20.3</td>\n",
       "      <td>19.8</td>\n",
       "      <td>20.5</td>\n",
       "      <td>19.9</td>\n",
       "      <td>...</td>\n",
       "      <td>20.7</td>\n",
       "      <td>19.2</td>\n",
       "      <td>19.8</td>\n",
       "      <td>19.3</td>\n",
       "      <td>18.8</td>\n",
       "      <td>18.9</td>\n",
       "      <td>19.8</td>\n",
       "      <td>21.0</td>\n",
       "      <td>21.3</td>\n",
       "      <td>20.4</td>\n",
       "    </tr>\n",
       "    <tr>\n",
       "      <th>4</th>\n",
       "      <td>2016-01-06</td>\n",
       "      <td>16.4</td>\n",
       "      <td>19.0</td>\n",
       "      <td>18.4</td>\n",
       "      <td>19.2</td>\n",
       "      <td>NaN</td>\n",
       "      <td>18.6</td>\n",
       "      <td>19.0</td>\n",
       "      <td>20.0</td>\n",
       "      <td>20.5</td>\n",
       "      <td>...</td>\n",
       "      <td>19.9</td>\n",
       "      <td>19.7</td>\n",
       "      <td>21.2</td>\n",
       "      <td>21.2</td>\n",
       "      <td>21.4</td>\n",
       "      <td>20.3</td>\n",
       "      <td>21.4</td>\n",
       "      <td>19.6</td>\n",
       "      <td>19.8</td>\n",
       "      <td>20.8</td>\n",
       "    </tr>\n",
       "  </tbody>\n",
       "</table>\n",
       "<p>5 rows × 21 columns</p>\n",
       "</div>"
      ],
      "text/plain": [
       "  Year_Month_Day  MANGROVE_MOUNTAIN  GOSFORD  SPRINGWOOD  SYDNEY_AIRPORT  \\\n",
       "0     2016-01-02               24.5     24.8        25.2            25.3   \n",
       "1     2016-01-03               21.2     23.4        21.0            24.3   \n",
       "2     2016-01-04               22.2     24.4        20.1            25.4   \n",
       "3     2016-01-05               18.6     20.6        16.2            21.0   \n",
       "4     2016-01-06               16.4     19.0        18.4            19.2   \n",
       "\n",
       "   TERREY_HILLS  SYDNEY  PARRAMATTA_NORTH  BANKSTOWN_AIRPORT  \\\n",
       "0          23.3    25.4              24.9               26.1   \n",
       "1           NaN    24.6              25.0               25.6   \n",
       "2           NaN    23.6              21.8               23.6   \n",
       "3           NaN    20.3              19.8               20.5   \n",
       "4           NaN    18.6              19.0               20.0   \n",
       "\n",
       "   HOLSWORTHY_AERODROME      ...       SYDNEY_HARBOUR  PROSPECT_RESERVOIR  \\\n",
       "0                  26.2      ...                 22.6                26.1   \n",
       "1                  24.1      ...                 22.7                24.0   \n",
       "2                  23.5      ...                 23.1                23.0   \n",
       "3                  19.9      ...                 20.7                19.2   \n",
       "4                  20.5      ...                 19.9                19.7   \n",
       "\n",
       "   RICHMOND_RAAF  BADGERYS_CREEK  PENRITH_LAKES  \\\n",
       "0           26.6            28.8           28.2   \n",
       "1           24.3            24.6           23.6   \n",
       "2           22.3            22.1           21.1   \n",
       "3           19.8            19.3           18.8   \n",
       "4           21.2            21.2           21.4   \n",
       "\n",
       "   HORSLEY_PARK_EQUESTRIAN_CENTRE  CAMDEN_AIRPORT  BELLAMBI  PORT_KEMBLA_NTC  \\\n",
       "0                            26.7            27.5      22.9             22.0   \n",
       "1                            23.3            24.6      22.9             22.9   \n",
       "2                            22.8            23.0      22.4             21.8   \n",
       "3                            18.9            19.8      21.0             21.3   \n",
       "4                            20.3            21.4      19.6             19.8   \n",
       "\n",
       "   CAMPBELLTOWN  \n",
       "0          27.6  \n",
       "1          24.6  \n",
       "2          23.1  \n",
       "3          20.4  \n",
       "4          20.8  \n",
       "\n",
       "[5 rows x 21 columns]"
      ]
     },
     "execution_count": 5,
     "metadata": {},
     "output_type": "execute_result"
    }
   ],
   "source": [
    "weather.head()"
   ]
  },
  {
   "cell_type": "code",
   "execution_count": 8,
   "metadata": {
    "collapsed": false
   },
   "outputs": [
    {
     "data": {
      "text/plain": [
       "Year_Month_Day                     object\n",
       "MANGROVE_MOUNTAIN                 float64\n",
       "GOSFORD                           float64\n",
       "SPRINGWOOD                        float64\n",
       "SYDNEY_AIRPORT                    float64\n",
       "TERREY_HILLS                      float64\n",
       "SYDNEY                            float64\n",
       "PARRAMATTA_NORTH                  float64\n",
       "BANKSTOWN_AIRPORT                 float64\n",
       "HOLSWORTHY_AERODROME              float64\n",
       "CANTERBURY_RACECOURSE             float64\n",
       "SYDNEY_HARBOUR                    float64\n",
       "PROSPECT_RESERVOIR                float64\n",
       "RICHMOND_RAAF                     float64\n",
       "BADGERYS_CREEK                    float64\n",
       "PENRITH_LAKES                     float64\n",
       "HORSLEY_PARK_EQUESTRIAN_CENTRE    float64\n",
       "CAMDEN_AIRPORT                    float64\n",
       "BELLAMBI                          float64\n",
       "PORT_KEMBLA_NTC                   float64\n",
       "CAMPBELLTOWN                      float64\n",
       "dtype: object"
      ]
     },
     "execution_count": 8,
     "metadata": {},
     "output_type": "execute_result"
    }
   ],
   "source": [
    "weather.dtypes"
   ]
  },
  {
   "cell_type": "code",
   "execution_count": 12,
   "metadata": {
    "collapsed": false
   },
   "outputs": [
    {
     "data": {
      "text/plain": [
       "<matplotlib.axes._subplots.AxesSubplot at 0x116474c10>"
      ]
     },
     "execution_count": 12,
     "metadata": {},
     "output_type": "execute_result"
    },
    {
     "data": {
      "image/png": "[encoded data removed]",
      "text/plain": [
       "<matplotlib.figure.Figure at 0x116474310>"
      ]
     },
     "metadata": {},
     "output_type": "display_data"
    }
   ],
   "source": [
    "weather[['SYDNEY', 'MANGROVE_MOUNTAIN', 'SYDNEY_AIRPORT']].plot()"
   ]
  },
  {
   "cell_type": "code",
   "execution_count": 13,
   "metadata": {
    "collapsed": true
   },
   "outputs": [],
   "source": [
    "import seaborn as sb"
   ]
  },
  {
   "cell_type": "code",
   "execution_count": 16,
   "metadata": {
    "collapsed": true
   },
   "outputs": [],
   "source": [
    "weather.dropna(inplace=True)"
   ]
  },
  {
   "cell_type": "code",
   "execution_count": 17,
   "metadata": {
    "collapsed": false
   },
   "outputs": [
    {
     "data": {
      "text/plain": [
       "<seaborn.axisgrid.PairGrid at 0x11b946650>"
      ]
     },
     "execution_count": 17,
     "metadata": {},
     "output_type": "execute_result"
    },
    {
     "data": {
      "image/png": "[encoded data removed]",
      "text/plain": [
       "<matplotlib.figure.Figure at 0x11b92c610>"
      ]
     },
     "metadata": {},
     "output_type": "display_data"
    }
   ],
   "source": [
    "sb.pairplot(weather[['SYDNEY', 'MANGROVE_MOUNTAIN', 'SYDNEY_AIRPORT']])"
   ]
  },
  {
   "cell_type": "code",
   "execution_count": 22,
   "metadata": {
    "collapsed": true
   },
   "outputs": [],
   "source": [
    "import sklearn.linear_model\n",
    "import matplotlib.pyplot as plt"
   ]
  },
  {
   "cell_type": "code",
   "execution_count": 24,
   "metadata": {
    "collapsed": false
   },
   "outputs": [
    {
     "data": {
      "text/plain": [
       "<matplotlib.collections.PathCollection at 0x12e0f7cd0>"
      ]
     },
     "execution_count": 24,
     "metadata": {},
     "output_type": "execute_result"
    },
    {
     "data": {
      "image/png": "[encoded data removed]",
      "text/plain": [
       "<matplotlib.figure.Figure at 0x12c5e83d0>"
      ]
     },
     "metadata": {},
     "output_type": "display_data"
    }
   ],
   "source": [
    "ols = sklearn.linear_model.LinearRegression()\n",
    "non_syd_col = [x for x in weather.columns if x not in ['SYDNEY', 'Year_Month_Day']]\n",
    "ols.fit(weather[non_syd_col], weather.SYDNEY)\n",
    "predictions = ols.predict(weather[non_syd_col])\n",
    "plt.scatter(weather.SYDNEY, predictions)"
   ]
  },
  {
   "cell_type": "code",
   "execution_count": 27,
   "metadata": {
    "collapsed": true
   },
   "outputs": [],
   "source": [
    "ols.fit?"
   ]
  },
  {
   "cell_type": "markdown",
   "metadata": {},
   "source": [
    "##### We should score this"
   ]
  },
  {
   "cell_type": "code",
   "execution_count": 25,
   "metadata": {
    "collapsed": false
   },
   "outputs": [
    {
     "data": {
      "text/plain": [
       "0.97840261999037548"
      ]
     },
     "execution_count": 25,
     "metadata": {},
     "output_type": "execute_result"
    }
   ],
   "source": [
    "ols.score(weather[non_syd_col], weather.SYDNEY)"
   ]
  },
  {
   "cell_type": "code",
   "execution_count": 26,
   "metadata": {
    "collapsed": false
   },
   "outputs": [
    {
     "data": {
      "text/plain": [
       "[('MANGROVE_MOUNTAIN', -0.26220631164824293),\n",
       " ('GOSFORD', 0.1357676309725416),\n",
       " ('SPRINGWOOD', 0.10356996984971881),\n",
       " ('SYDNEY_AIRPORT', -0.15399718905104029),\n",
       " ('TERREY_HILLS', 0.41991260599990859),\n",
       " ('PARRAMATTA_NORTH', 0.39702053248216057),\n",
       " ('BANKSTOWN_AIRPORT', -0.035978722658213162),\n",
       " ('HOLSWORTHY_AERODROME', 0.17478117127800172),\n",
       " ('CANTERBURY_RACECOURSE', -0.080282870119453689),\n",
       " ('SYDNEY_HARBOUR', 0.43403900742427937),\n",
       " ('PROSPECT_RESERVOIR', -0.048002716084284525),\n",
       " ('RICHMOND_RAAF', 0.079538542262050579),\n",
       " ('BADGERYS_CREEK', -0.051296195240681151),\n",
       " ('PENRITH_LAKES', 0.01499540235788418),\n",
       " ('HORSLEY_PARK_EQUESTRIAN_CENTRE', -0.34343871333617398),\n",
       " ('CAMDEN_AIRPORT', 0.025221908647474735),\n",
       " ('BELLAMBI', 0.13797446309147127),\n",
       " ('PORT_KEMBLA_NTC', -0.0087360771503590604),\n",
       " ('CAMPBELLTOWN', 0.13329920380432689)]"
      ]
     },
     "execution_count": 26,
     "metadata": {},
     "output_type": "execute_result"
    }
   ],
   "source": [
    "zip(non_syd_col, ols.coef_)"
   ]
  },
  {
   "cell_type": "markdown",
   "metadata": {},
   "source": [
    "# Lasso"
   ]
  },
  {
   "cell_type": "code",
   "execution_count": 32,
   "metadata": {
    "collapsed": false
   },
   "outputs": [
    {
     "name": "stdout",
     "output_type": "stream",
     "text": [
      "0.786371282308\n",
      "12.3518656535\n"
     ]
    },
    {
     "data": {
      "text/plain": [
       "[('MANGROVE_MOUNTAIN', 0.0),\n",
       " ('GOSFORD', 0.0),\n",
       " ('SPRINGWOOD', 0.0),\n",
       " ('SYDNEY_AIRPORT', 0.0),\n",
       " ('TERREY_HILLS', 0.0),\n",
       " ('PARRAMATTA_NORTH', 0.0),\n",
       " ('BANKSTOWN_AIRPORT', 0.0),\n",
       " ('HOLSWORTHY_AERODROME', 0.0),\n",
       " ('CANTERBURY_RACECOURSE', 0.0),\n",
       " ('SYDNEY_HARBOUR', 0.0),\n",
       " ('PROSPECT_RESERVOIR', 0.0),\n",
       " ('RICHMOND_RAAF', 0.0),\n",
       " ('BADGERYS_CREEK', 0.0),\n",
       " ('PENRITH_LAKES', 0.45950055859491051),\n",
       " ('HORSLEY_PARK_EQUESTRIAN_CENTRE', 0.0),\n",
       " ('CAMDEN_AIRPORT', 0.0),\n",
       " ('BELLAMBI', 0.0),\n",
       " ('PORT_KEMBLA_NTC', 0.0),\n",
       " ('CAMPBELLTOWN', 0.0)]"
      ]
     },
     "execution_count": 32,
     "metadata": {},
     "output_type": "execute_result"
    }
   ],
   "source": [
    "lasso = sklearn.linear_model.Lasso(alpha=10)\n",
    "lasso.fit(weather[non_syd_col], weather.SYDNEY)\n",
    "print lasso.score(weather[non_syd_col], weather.SYDNEY)\n",
    "print lasso.intercept_\n",
    "zip(non_syd_col, lasso.coef_)"
   ]
  },
  {
   "cell_type": "code",
   "execution_count": 33,
   "metadata": {
    "collapsed": false
   },
   "outputs": [
    {
     "name": "stdout",
     "output_type": "stream",
     "text": [
      "0.834279459686\n",
      "10.9496456655\n"
     ]
    },
    {
     "data": {
      "text/plain": [
       "[('MANGROVE_MOUNTAIN', 0.0),\n",
       " ('GOSFORD', 0.0),\n",
       " ('SPRINGWOOD', 0.0),\n",
       " ('SYDNEY_AIRPORT', 0.0),\n",
       " ('TERREY_HILLS', 0.0),\n",
       " ('PARRAMATTA_NORTH', 0.0),\n",
       " ('BANKSTOWN_AIRPORT', 0.0),\n",
       " ('HOLSWORTHY_AERODROME', 0.0),\n",
       " ('CANTERBURY_RACECOURSE', 0.0),\n",
       " ('SYDNEY_HARBOUR', 0.0),\n",
       " ('PROSPECT_RESERVOIR', 0.10698149653107916),\n",
       " ('RICHMOND_RAAF', 0.0),\n",
       " ('BADGERYS_CREEK', 0.0),\n",
       " ('PENRITH_LAKES', 0.41088294779003126),\n",
       " ('HORSLEY_PARK_EQUESTRIAN_CENTRE', 0.0),\n",
       " ('CAMDEN_AIRPORT', 0.0),\n",
       " ('BELLAMBI', 0.0),\n",
       " ('PORT_KEMBLA_NTC', 0.0),\n",
       " ('CAMPBELLTOWN', 0.0)]"
      ]
     },
     "execution_count": 33,
     "metadata": {},
     "output_type": "execute_result"
    }
   ],
   "source": [
    "lasso = sklearn.linear_model.Lasso(alpha=8)\n",
    "lasso.fit(weather[non_syd_col], weather.SYDNEY)\n",
    "print lasso.score(weather[non_syd_col], weather.SYDNEY)\n",
    "print lasso.intercept_\n",
    "zip(non_syd_col, lasso.coef_)"
   ]
  },
  {
   "cell_type": "code",
   "execution_count": 34,
   "metadata": {
    "collapsed": false
   },
   "outputs": [
    {
     "name": "stdout",
     "output_type": "stream",
     "text": [
      "0.89878454664\n",
      "8.6309864533\n"
     ]
    },
    {
     "data": {
      "text/plain": [
       "[('MANGROVE_MOUNTAIN', 0.0),\n",
       " ('GOSFORD', 0.0),\n",
       " ('SPRINGWOOD', 0.061339823397065209),\n",
       " ('SYDNEY_AIRPORT', 0.0),\n",
       " ('TERREY_HILLS', 0.052516567927554679),\n",
       " ('PARRAMATTA_NORTH', 0.0),\n",
       " ('BANKSTOWN_AIRPORT', 0.0),\n",
       " ('HOLSWORTHY_AERODROME', 0.16029915949198631),\n",
       " ('CANTERBURY_RACECOURSE', 0.0),\n",
       " ('SYDNEY_HARBOUR', 0.0),\n",
       " ('PROSPECT_RESERVOIR', 0.14310562519964867),\n",
       " ('RICHMOND_RAAF', 0.0),\n",
       " ('BADGERYS_CREEK', 0.0),\n",
       " ('PENRITH_LAKES', 0.21160595085958217),\n",
       " ('HORSLEY_PARK_EQUESTRIAN_CENTRE', 0.0),\n",
       " ('CAMDEN_AIRPORT', 0.0),\n",
       " ('BELLAMBI', 0.0),\n",
       " ('PORT_KEMBLA_NTC', 0.0),\n",
       " ('CAMPBELLTOWN', 0.0)]"
      ]
     },
     "execution_count": 34,
     "metadata": {},
     "output_type": "execute_result"
    }
   ],
   "source": [
    "lasso = sklearn.linear_model.Lasso(alpha=5)\n",
    "lasso.fit(weather[non_syd_col], weather.SYDNEY)\n",
    "print lasso.score(weather[non_syd_col], weather.SYDNEY)\n",
    "print lasso.intercept_\n",
    "zip(non_syd_col, lasso.coef_)"
   ]
  },
  {
   "cell_type": "markdown",
   "metadata": {},
   "source": [
    "##### If your alpha = 0 that is the same as Linear Regression "
   ]
  },
  {
   "cell_type": "code",
   "execution_count": 36,
   "metadata": {
    "collapsed": false
   },
   "outputs": [
    {
     "name": "stdout",
     "output_type": "stream",
     "text": [
      "0.978306913505\n",
      "-0.262419676078\n"
     ]
    },
    {
     "name": "stderr",
     "output_type": "stream",
     "text": [
      "/Users/allenbyron/anaconda/lib/python2.7/site-packages/ipykernel/__main__.py:2: UserWarning: With alpha=0, this algorithm does not converge well. You are advised to use the LinearRegression estimator\n",
      "  from ipykernel import kernelapp as app\n",
      "/Users/allenbyron/anaconda/lib/python2.7/site-packages/sklearn/linear_model/coordinate_descent.py:454: UserWarning: Coordinate descent with alpha=0 may lead to unexpected results and is discouraged.\n",
      "  positive)\n",
      "/Users/allenbyron/anaconda/lib/python2.7/site-packages/sklearn/linear_model/coordinate_descent.py:466: ConvergenceWarning: Objective did not converge. You might want to increase the number of iterations\n",
      "  ConvergenceWarning)\n"
     ]
    },
    {
     "data": {
      "text/plain": [
       "[('MANGROVE_MOUNTAIN', -0.26839143680134769),\n",
       " ('GOSFORD', 0.11347047407325443),\n",
       " ('SPRINGWOOD', 0.1159578297330459),\n",
       " ('SYDNEY_AIRPORT', -0.15806744520109486),\n",
       " ('TERREY_HILLS', 0.43717233515121717),\n",
       " ('PARRAMATTA_NORTH', 0.41684603645390422),\n",
       " ('BANKSTOWN_AIRPORT', -0.0063126446208694089),\n",
       " ('HOLSWORTHY_AERODROME', 0.21061609595464828),\n",
       " ('CANTERBURY_RACECOURSE', -0.11081164031470886),\n",
       " ('SYDNEY_HARBOUR', 0.44503854161226603),\n",
       " ('PROSPECT_RESERVOIR', -0.018936649170409284),\n",
       " ('RICHMOND_RAAF', 0.1114839282864732),\n",
       " ('BADGERYS_CREEK', -0.05496214604435188),\n",
       " ('PENRITH_LAKES', -0.016780972257522932),\n",
       " ('HORSLEY_PARK_EQUESTRIAN_CENTRE', -0.42910196536433304),\n",
       " ('CAMDEN_AIRPORT', 0.023967769742515996),\n",
       " ('BELLAMBI', 0.13439199087120401),\n",
       " ('PORT_KEMBLA_NTC', -0.019148223124618294),\n",
       " ('CAMPBELLTOWN', 0.14223559914384729)]"
      ]
     },
     "execution_count": 36,
     "metadata": {},
     "output_type": "execute_result"
    }
   ],
   "source": [
    "lasso = sklearn.linear_model.Lasso(alpha=0)\n",
    "lasso.fit(weather[non_syd_col], weather.SYDNEY)\n",
    "print lasso.score(weather[non_syd_col], weather.SYDNEY)\n",
    "print lasso.intercept_\n",
    "zip(non_syd_col, lasso.coef_)"
   ]
  },
  {
   "cell_type": "markdown",
   "metadata": {},
   "source": [
    "# Ridge"
   ]
  },
  {
   "cell_type": "code",
   "execution_count": 37,
   "metadata": {
    "collapsed": false
   },
   "outputs": [
    {
     "name": "stdout",
     "output_type": "stream",
     "text": [
      "0.978294341587\n",
      "-0.35265640585\n"
     ]
    },
    {
     "data": {
      "text/plain": [
       "[('MANGROVE_MOUNTAIN', -0.22933959654083516),\n",
       " ('GOSFORD', 0.13941040117021344),\n",
       " ('SPRINGWOOD', 0.09961486642191518),\n",
       " ('SYDNEY_AIRPORT', -0.14078591337161117),\n",
       " ('TERREY_HILLS', 0.37560473528304417),\n",
       " ('PARRAMATTA_NORTH', 0.32157790028616079),\n",
       " ('BANKSTOWN_AIRPORT', -0.016785023563703403),\n",
       " ('HOLSWORTHY_AERODROME', 0.14932374210474242),\n",
       " ('CANTERBURY_RACECOURSE', -0.031126191163616989),\n",
       " ('SYDNEY_HARBOUR', 0.41244690685409785),\n",
       " ('PROSPECT_RESERVOIR', -0.059288781169310641),\n",
       " ('RICHMOND_RAAF', 0.073200459268872836),\n",
       " ('BADGERYS_CREEK', -0.049417654813359871),\n",
       " ('PENRITH_LAKES', 0.010953082422367127),\n",
       " ('HORSLEY_PARK_EQUESTRIAN_CENTRE', -0.26177988054083245),\n",
       " ('CAMDEN_AIRPORT', 0.024479842744719059),\n",
       " ('BELLAMBI', 0.12242837896553763),\n",
       " ('PORT_KEMBLA_NTC', 0.019488285126847797),\n",
       " ('CAMPBELLTOWN', 0.11047520324946611)]"
      ]
     },
     "execution_count": 37,
     "metadata": {},
     "output_type": "execute_result"
    }
   ],
   "source": [
    "ridge = sklearn.linear_model.Ridge(alpha=5)\n",
    "ridge.fit(weather[non_syd_col], weather.SYDNEY)\n",
    "print ridge.score(weather[non_syd_col], weather.SYDNEY)\n",
    "print ridge.intercept_\n",
    "zip(non_syd_col, ridge.coef_)"
   ]
  },
  {
   "cell_type": "markdown",
   "metadata": {},
   "source": [
    "# ElasticNet\n",
    "The cross validation (CV) has sorted out the alpha, correct?"
   ]
  },
  {
   "cell_type": "code",
   "execution_count": 43,
   "metadata": {
    "collapsed": false
   },
   "outputs": [
    {
     "name": "stdout",
     "output_type": "stream",
     "text": [
      "0.975022914539\n",
      "0.192580532447\n"
     ]
    },
    {
     "data": {
      "text/plain": [
       "[('MANGROVE_MOUNTAIN', -0.0),\n",
       " ('GOSFORD', 0.020071937512208385),\n",
       " ('SPRINGWOOD', 0.057864519276811223),\n",
       " ('SYDNEY_AIRPORT', 0.0),\n",
       " ('TERREY_HILLS', 0.27654019903663069),\n",
       " ('PARRAMATTA_NORTH', 0.068083400547409578),\n",
       " ('BANKSTOWN_AIRPORT', 0.0),\n",
       " ('HOLSWORTHY_AERODROME', 0.060809078951504419),\n",
       " ('CANTERBURY_RACECOURSE', 0.0),\n",
       " ('SYDNEY_HARBOUR', 0.37984574372102708),\n",
       " ('PROSPECT_RESERVOIR', 0.0),\n",
       " ('RICHMOND_RAAF', 0.0),\n",
       " ('BADGERYS_CREEK', 0.0),\n",
       " ('PENRITH_LAKES', 0.0),\n",
       " ('HORSLEY_PARK_EQUESTRIAN_CENTRE', 0.0),\n",
       " ('CAMDEN_AIRPORT', 0.0),\n",
       " ('BELLAMBI', 0.03537795775878988),\n",
       " ('PORT_KEMBLA_NTC', 0.11557884553180535),\n",
       " ('CAMPBELLTOWN', 0.033922895564349333)]"
      ]
     },
     "execution_count": 43,
     "metadata": {},
     "output_type": "execute_result"
    }
   ],
   "source": [
    "elastic = sklearn.linear_model.ElasticNetCV()\n",
    "elastic.fit(weather[non_syd_col], weather.SYDNEY)\n",
    "print elastic.score(weather[non_syd_col], weather.SYDNEY)\n",
    "print elastic.intercept_\n",
    "zip(non_syd_col, elastic.coef_)"
   ]
  },
  {
   "cell_type": "markdown",
   "metadata": {},
   "source": [
    "# Scaling\n",
    "\n",
    "Scaling matter bcause th range of these temperatures is not exactly the same.\n",
    "\n",
    "Note: std of Penrith is high"
   ]
  },
  {
   "cell_type": "code",
   "execution_count": 45,
   "metadata": {
    "collapsed": false
   },
   "outputs": [
    {
     "data": {
      "text/plain": [
       "MANGROVE_MOUNTAIN                 5.688594\n",
       "GOSFORD                           4.974931\n",
       "SPRINGWOOD                        5.796824\n",
       "SYDNEY_AIRPORT                    5.079707\n",
       "TERREY_HILLS                      5.106845\n",
       "PARRAMATTA_NORTH                  5.402940\n",
       "BANKSTOWN_AIRPORT                 5.556021\n",
       "HOLSWORTHY_AERODROME              5.673538\n",
       "CANTERBURY_RACECOURSE             5.020166\n",
       "SYDNEY_HARBOUR                    3.653828\n",
       "PROSPECT_RESERVOIR                5.911210\n",
       "RICHMOND_RAAF                     5.827525\n",
       "BADGERYS_CREEK                    5.907684\n",
       "PENRITH_LAKES                     6.171921\n",
       "HORSLEY_PARK_EQUESTRIAN_CENTRE    5.714526\n",
       "CAMDEN_AIRPORT                    5.824256\n",
       "BELLAMBI                          3.954496\n",
       "PORT_KEMBLA_NTC                   3.689115\n",
       "CAMPBELLTOWN                      5.767958\n",
       "dtype: float64"
      ]
     },
     "execution_count": 45,
     "metadata": {},
     "output_type": "execute_result"
    }
   ],
   "source": [
    "weather[non_syd_col].std()"
   ]
  },
  {
   "cell_type": "markdown",
   "metadata": {},
   "source": [
    "##### Note the difference between StandardScaler and RobustScaler\n",
    "\n",
    "RobustScaler ditches outliers"
   ]
  },
  {
   "cell_type": "code",
   "execution_count": 46,
   "metadata": {
    "collapsed": true
   },
   "outputs": [],
   "source": [
    "import sklearn.preprocessing"
   ]
  },
  {
   "cell_type": "code",
   "execution_count": 52,
   "metadata": {
    "collapsed": false
   },
   "outputs": [
    {
     "name": "stdout",
     "output_type": "stream",
     "text": [
      "-1.49587944371e-16\n",
      "1.0\n"
     ]
    },
    {
     "data": {
      "text/plain": [
       "(-4.330177337042162e-17, 1.0)"
      ]
     },
     "execution_count": 52,
     "metadata": {},
     "output_type": "execute_result"
    }
   ],
   "source": [
    "standardscaler = sklearn.preprocessing.StandardScaler()\n",
    "scaled_weather = standardscaler.fit_transform(weather[non_syd_col])\n",
    "\n",
    "print scaled_weather[:,0].mean()\n",
    "print scaled_weather[:,0].std()\n",
    "\n",
    "scaled_weather.mean(), scaled_weather.std()"
   ]
  },
  {
   "cell_type": "code",
   "execution_count": 53,
   "metadata": {
    "collapsed": false
   },
   "outputs": [
    {
     "data": {
      "text/plain": [
       "(-0.056111592497093556, 0.67702148976755749)"
      ]
     },
     "execution_count": 53,
     "metadata": {},
     "output_type": "execute_result"
    }
   ],
   "source": [
    "robust = sklearn.preprocessing.RobustScaler()\n",
    "scaled_weather = robust.fit_transform(weather[non_syd_col])\n",
    "scaled_weather.mean(), scaled_weather.std()"
   ]
  },
  {
   "cell_type": "markdown",
   "metadata": {},
   "source": [
    "##### The below is good but will need to also scale weather.SYDNE"
   ]
  },
  {
   "cell_type": "code",
   "execution_count": 55,
   "metadata": {
    "collapsed": false
   },
   "outputs": [
    {
     "name": "stdout",
     "output_type": "stream",
     "text": [
      "0.874303596647\n",
      "24.3277510923\n"
     ]
    },
    {
     "data": {
      "text/plain": [
       "[('MANGROVE_MOUNTAIN', 0.0),\n",
       " ('GOSFORD', 0.0),\n",
       " ('SPRINGWOOD', 0.0),\n",
       " ('SYDNEY_AIRPORT', 1.7125039031532008),\n",
       " ('TERREY_HILLS', 0.0),\n",
       " ('PARRAMATTA_NORTH', 0.0),\n",
       " ('BANKSTOWN_AIRPORT', 0.0),\n",
       " ('HOLSWORTHY_AERODROME', 0.0),\n",
       " ('CANTERBURY_RACECOURSE', 0.0),\n",
       " ('SYDNEY_HARBOUR', 2.3260912003496461),\n",
       " ('PROSPECT_RESERVOIR', 0.0),\n",
       " ('RICHMOND_RAAF', 0.0),\n",
       " ('BADGERYS_CREEK', 0.0),\n",
       " ('PENRITH_LAKES', 0.0),\n",
       " ('HORSLEY_PARK_EQUESTRIAN_CENTRE', 0.0),\n",
       " ('CAMDEN_AIRPORT', 0.0),\n",
       " ('BELLAMBI', 0.33219156534075533),\n",
       " ('PORT_KEMBLA_NTC', 0.0),\n",
       " ('CAMPBELLTOWN', 0.0)]"
      ]
     },
     "execution_count": 55,
     "metadata": {},
     "output_type": "execute_result"
    }
   ],
   "source": [
    "lasso = sklearn.linear_model.Lasso(alpha=1)\n",
    "lasso.fit(scaled_weather, weather.SYDNEY)\n",
    "print lasso.score(scaled_weather, weather.SYDNEY)\n",
    "print lasso.intercept_\n",
    "zip(non_syd_col, lasso.coef_)"
   ]
  },
  {
   "cell_type": "code",
   "execution_count": 57,
   "metadata": {
    "collapsed": true
   },
   "outputs": [],
   "source": [
    "y_scaler = sklearn.preprocessing.RobustScaler()\n",
    "sydney_transformed = y_scaler.fit_transform(weather[['SYDNEY']])"
   ]
  },
  {
   "cell_type": "markdown",
   "metadata": {},
   "source": [
    "##### Alpha still too big"
   ]
  },
  {
   "cell_type": "code",
   "execution_count": 58,
   "metadata": {
    "collapsed": false
   },
   "outputs": [
    {
     "name": "stdout",
     "output_type": "stream",
     "text": [
      "0.0\n",
      "[-0.0845735]\n"
     ]
    },
    {
     "data": {
      "text/plain": [
       "[('MANGROVE_MOUNTAIN', 0.0),\n",
       " ('GOSFORD', 0.0),\n",
       " ('SPRINGWOOD', 0.0),\n",
       " ('SYDNEY_AIRPORT', 0.0),\n",
       " ('TERREY_HILLS', 0.0),\n",
       " ('PARRAMATTA_NORTH', 0.0),\n",
       " ('BANKSTOWN_AIRPORT', 0.0),\n",
       " ('HOLSWORTHY_AERODROME', 0.0),\n",
       " ('CANTERBURY_RACECOURSE', 0.0),\n",
       " ('SYDNEY_HARBOUR', 0.0),\n",
       " ('PROSPECT_RESERVOIR', 0.0),\n",
       " ('RICHMOND_RAAF', 0.0),\n",
       " ('BADGERYS_CREEK', 0.0),\n",
       " ('PENRITH_LAKES', 0.0),\n",
       " ('HORSLEY_PARK_EQUESTRIAN_CENTRE', 0.0),\n",
       " ('CAMDEN_AIRPORT', 0.0),\n",
       " ('BELLAMBI', 0.0),\n",
       " ('PORT_KEMBLA_NTC', 0.0),\n",
       " ('CAMPBELLTOWN', 0.0)]"
      ]
     },
     "execution_count": 58,
     "metadata": {},
     "output_type": "execute_result"
    }
   ],
   "source": [
    "lasso = sklearn.linear_model.Lasso(alpha=1)\n",
    "lasso.fit(scaled_weather, sydney_transformed)\n",
    "print lasso.score(scaled_weather, sydney_transformed)\n",
    "print lasso.intercept_\n",
    "zip(non_syd_col, lasso.coef_)"
   ]
  },
  {
   "cell_type": "markdown",
   "metadata": {},
   "source": [
    "##### Decreased alpha to 0.1"
   ]
  },
  {
   "cell_type": "code",
   "execution_count": 59,
   "metadata": {
    "collapsed": false
   },
   "outputs": [
    {
     "name": "stdout",
     "output_type": "stream",
     "text": [
      "0.919718775426\n",
      "[-0.02330258]\n"
     ]
    },
    {
     "data": {
      "text/plain": [
       "[('MANGROVE_MOUNTAIN', 0.0),\n",
       " ('GOSFORD', 0.0),\n",
       " ('SPRINGWOOD', 0.0),\n",
       " ('SYDNEY_AIRPORT', 0.18465190706543808),\n",
       " ('TERREY_HILLS', 0.10051723935097105),\n",
       " ('PARRAMATTA_NORTH', 0.010225190122128646),\n",
       " ('BANKSTOWN_AIRPORT', 0.0),\n",
       " ('HOLSWORTHY_AERODROME', 0.0),\n",
       " ('CANTERBURY_RACECOURSE', 0.0),\n",
       " ('SYDNEY_HARBOUR', 0.31911689828792311),\n",
       " ('PROSPECT_RESERVOIR', 0.0),\n",
       " ('RICHMOND_RAAF', 0.0),\n",
       " ('BADGERYS_CREEK', 0.0),\n",
       " ('PENRITH_LAKES', 0.0),\n",
       " ('HORSLEY_PARK_EQUESTRIAN_CENTRE', 0.0),\n",
       " ('CAMDEN_AIRPORT', 0.0),\n",
       " ('BELLAMBI', 0.068290498561999841),\n",
       " ('PORT_KEMBLA_NTC', 0.0),\n",
       " ('CAMPBELLTOWN', 0.0)]"
      ]
     },
     "execution_count": 59,
     "metadata": {},
     "output_type": "execute_result"
    }
   ],
   "source": [
    "lasso = sklearn.linear_model.Lasso(alpha=0.1)\n",
    "lasso.fit(scaled_weather, sydney_transformed)\n",
    "print lasso.score(scaled_weather, sydney_transformed)\n",
    "print lasso.intercept_\n",
    "zip(non_syd_col, lasso.coef_)"
   ]
  },
  {
   "cell_type": "markdown",
   "metadata": {},
   "source": [
    "##### ElasticNet "
   ]
  },
  {
   "cell_type": "code",
   "execution_count": 60,
   "metadata": {
    "collapsed": false
   },
   "outputs": [
    {
     "name": "stdout",
     "output_type": "stream",
     "text": [
      "0.974926137865\n",
      "-0.00758180265474\n"
     ]
    },
    {
     "name": "stderr",
     "output_type": "stream",
     "text": [
      "/Users/allenbyron/anaconda/lib/python2.7/site-packages/sklearn/linear_model/coordinate_descent.py:1051: DataConversionWarning: A column-vector y was passed when a 1d array was expected. Please change the shape of y to (n_samples, ), for example using ravel().\n",
      "  y = column_or_1d(y, warn=True)\n"
     ]
    },
    {
     "data": {
      "text/plain": [
       "[('MANGROVE_MOUNTAIN', 0.0),\n",
       " ('GOSFORD', 0.044460927220251488),\n",
       " ('SPRINGWOOD', 0.055031676471713344),\n",
       " ('SYDNEY_AIRPORT', 0.0),\n",
       " ('TERREY_HILLS', 0.23144598211329401),\n",
       " ('PARRAMATTA_NORTH', 0.090615343027094342),\n",
       " ('BANKSTOWN_AIRPORT', 0.0019808373838274551),\n",
       " ('HOLSWORTHY_AERODROME', 0.045505687224362518),\n",
       " ('CANTERBURY_RACECOURSE', 0.016716562098215166),\n",
       " ('SYDNEY_HARBOUR', 0.26607574348059754),\n",
       " ('PROSPECT_RESERVOIR', 0.0),\n",
       " ('RICHMOND_RAAF', 0.0),\n",
       " ('BADGERYS_CREEK', 0.0),\n",
       " ('PENRITH_LAKES', 0.0),\n",
       " ('HORSLEY_PARK_EQUESTRIAN_CENTRE', 0.0),\n",
       " ('CAMDEN_AIRPORT', 0.0),\n",
       " ('BELLAMBI', 0.042219532389455222),\n",
       " ('PORT_KEMBLA_NTC', 0.074600686325061866),\n",
       " ('CAMPBELLTOWN', 0.048006909363901409)]"
      ]
     },
     "execution_count": 60,
     "metadata": {},
     "output_type": "execute_result"
    }
   ],
   "source": [
    "elastic = sklearn.linear_model.ElasticNetCV()\n",
    "elastic.fit(scaled_weather, sydney_transformed)\n",
    "print elastic.score(scaled_weather, sydney_transformed)\n",
    "print elastic.intercept_\n",
    "zip(non_syd_col, elastic.coef_)"
   ]
  },
  {
   "cell_type": "markdown",
   "metadata": {},
   "source": [
    "# Outputting Predictions"
   ]
  },
  {
   "cell_type": "code",
   "execution_count": 61,
   "metadata": {
    "collapsed": false
   },
   "outputs": [
    {
     "data": {
      "text/plain": [
       "0.024229725354342063"
      ]
     },
     "execution_count": 61,
     "metadata": {},
     "output_type": "execute_result"
    }
   ],
   "source": [
    "elastic.predict(scaled_weather)[0]"
   ]
  },
  {
   "cell_type": "code",
   "execution_count": 63,
   "metadata": {
    "collapsed": false
   },
   "outputs": [
    {
     "data": {
      "text/plain": [
       "array([[ 24.72566551]])"
      ]
     },
     "execution_count": 63,
     "metadata": {},
     "output_type": "execute_result"
    }
   ],
   "source": [
    "y_scaler.inverse_transform([[0.024229725354342063]])"
   ]
  },
  {
   "cell_type": "code",
   "execution_count": 64,
   "metadata": {
    "collapsed": false
   },
   "outputs": [
    {
     "name": "stderr",
     "output_type": "stream",
     "text": [
      "/Users/allenbyron/anaconda/lib/python2.7/site-packages/sklearn/preprocessing/data.py:965: DeprecationWarning: Passing 1d arrays as data is deprecated in 0.17 and will raise ValueError in 0.19. Reshape your data either using X.reshape(-1, 1) if your data has a single feature or X.reshape(1, -1) if it contains a single sample.\n",
      "  warnings.warn(DEPRECATION_MSG_1D, DeprecationWarning)\n",
      "/Users/allenbyron/anaconda/lib/python2.7/site-packages/sklearn/preprocessing/data.py:1037: DeprecationWarning: Passing 1d arrays as data is deprecated in 0.17 and will raise ValueError in 0.19. Reshape your data either using X.reshape(-1, 1) if your data has a single feature or X.reshape(1, -1) if it contains a single sample.\n",
      "  warnings.warn(DEPRECATION_MSG_1D, DeprecationWarning)\n"
     ]
    },
    {
     "data": {
      "text/plain": [
       "<matplotlib.collections.PathCollection at 0x12ee5e3d0>"
      ]
     },
     "execution_count": 64,
     "metadata": {},
     "output_type": "execute_result"
    },
    {
     "data": {
      "image/png": "[encoded data removed]",
      "text/plain": [
       "<matplotlib.figure.Figure at 0x12e0b92d0>"
      ]
     },
     "metadata": {},
     "output_type": "display_data"
    }
   ],
   "source": [
    "transformed_space_predictions = elastic.predict(scaled_weather)\n",
    "reality_predictions = y_scaler.inverse_transform(transformed_space_predictions)\n",
    "plt.scatter(reality_predictions, weather.SYDNEY)"
   ]
  },
  {
   "cell_type": "code",
   "execution_count": null,
   "metadata": {
    "collapsed": true
   },
   "outputs": [],
   "source": []
  }
 ],
 "metadata": {
  "kernelspec": {
   "display_name": "Python 2",
   "language": "python",
   "name": "python2"
  },
  "language_info": {
   "codemirror_mode": {
    "name": "ipython",
    "version": 2
   },
   "file_extension": ".py",
   "mimetype": "text/x-python",
   "name": "python",
   "nbconvert_exporter": "python",
   "pygments_lexer": "ipython2",
   "version": "2.7.12"
  }
 },
 "nbformat": 4,
 "nbformat_minor": 0
}
