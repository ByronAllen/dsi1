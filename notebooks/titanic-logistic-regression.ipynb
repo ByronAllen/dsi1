{
 "cells": [
  {
   "cell_type": "code",
   "execution_count": 22,
   "metadata": {
    "collapsed": true
   },
   "outputs": [],
   "source": [
    "%matplotlib inline"
   ]
  },
  {
   "cell_type": "code",
   "execution_count": 23,
   "metadata": {
    "collapsed": true
   },
   "outputs": [],
   "source": [
    "import pandas as pd\n",
    "import sklearn.linear_model\n",
    "import matplotlib.pyplot as plt"
   ]
  },
  {
   "cell_type": "code",
   "execution_count": 24,
   "metadata": {
    "collapsed": false
   },
   "outputs": [
    {
     "data": {
      "text/html": [
       "<div>\n",
       "<table border=\"1\" class=\"dataframe\">\n",
       "  <thead>\n",
       "    <tr style=\"text-align: right;\">\n",
       "      <th></th>\n",
       "      <th>Survived</th>\n",
       "      <th>Pclass</th>\n",
       "      <th>Name</th>\n",
       "      <th>Sex</th>\n",
       "      <th>Age</th>\n",
       "      <th>SibSp</th>\n",
       "      <th>Parch</th>\n",
       "      <th>Ticket</th>\n",
       "      <th>Fare</th>\n",
       "      <th>Cabin</th>\n",
       "      <th>Embarked</th>\n",
       "    </tr>\n",
       "    <tr>\n",
       "      <th>PassengerId</th>\n",
       "      <th></th>\n",
       "      <th></th>\n",
       "      <th></th>\n",
       "      <th></th>\n",
       "      <th></th>\n",
       "      <th></th>\n",
       "      <th></th>\n",
       "      <th></th>\n",
       "      <th></th>\n",
       "      <th></th>\n",
       "      <th></th>\n",
       "    </tr>\n",
       "  </thead>\n",
       "  <tbody>\n",
       "    <tr>\n",
       "      <th>1</th>\n",
       "      <td>0</td>\n",
       "      <td>3</td>\n",
       "      <td>Braund, Mr. Owen Harris</td>\n",
       "      <td>male</td>\n",
       "      <td>22.0</td>\n",
       "      <td>1</td>\n",
       "      <td>0</td>\n",
       "      <td>A/5 21171</td>\n",
       "      <td>7.2500</td>\n",
       "      <td>NaN</td>\n",
       "      <td>S</td>\n",
       "    </tr>\n",
       "    <tr>\n",
       "      <th>2</th>\n",
       "      <td>1</td>\n",
       "      <td>1</td>\n",
       "      <td>Cumings, Mrs. John Bradley (Florence Briggs Th...</td>\n",
       "      <td>female</td>\n",
       "      <td>38.0</td>\n",
       "      <td>1</td>\n",
       "      <td>0</td>\n",
       "      <td>PC 17599</td>\n",
       "      <td>71.2833</td>\n",
       "      <td>C85</td>\n",
       "      <td>C</td>\n",
       "    </tr>\n",
       "    <tr>\n",
       "      <th>3</th>\n",
       "      <td>1</td>\n",
       "      <td>3</td>\n",
       "      <td>Heikkinen, Miss. Laina</td>\n",
       "      <td>female</td>\n",
       "      <td>26.0</td>\n",
       "      <td>0</td>\n",
       "      <td>0</td>\n",
       "      <td>STON/O2. 3101282</td>\n",
       "      <td>7.9250</td>\n",
       "      <td>NaN</td>\n",
       "      <td>S</td>\n",
       "    </tr>\n",
       "    <tr>\n",
       "      <th>4</th>\n",
       "      <td>1</td>\n",
       "      <td>1</td>\n",
       "      <td>Futrelle, Mrs. Jacques Heath (Lily May Peel)</td>\n",
       "      <td>female</td>\n",
       "      <td>35.0</td>\n",
       "      <td>1</td>\n",
       "      <td>0</td>\n",
       "      <td>113803</td>\n",
       "      <td>53.1000</td>\n",
       "      <td>C123</td>\n",
       "      <td>S</td>\n",
       "    </tr>\n",
       "    <tr>\n",
       "      <th>5</th>\n",
       "      <td>0</td>\n",
       "      <td>3</td>\n",
       "      <td>Allen, Mr. William Henry</td>\n",
       "      <td>male</td>\n",
       "      <td>35.0</td>\n",
       "      <td>0</td>\n",
       "      <td>0</td>\n",
       "      <td>373450</td>\n",
       "      <td>8.0500</td>\n",
       "      <td>NaN</td>\n",
       "      <td>S</td>\n",
       "    </tr>\n",
       "  </tbody>\n",
       "</table>\n",
       "</div>"
      ],
      "text/plain": [
       "             Survived  Pclass  \\\n",
       "PassengerId                     \n",
       "1                   0       3   \n",
       "2                   1       1   \n",
       "3                   1       3   \n",
       "4                   1       1   \n",
       "5                   0       3   \n",
       "\n",
       "                                                          Name     Sex   Age  \\\n",
       "PassengerId                                                                    \n",
       "1                                      Braund, Mr. Owen Harris    male  22.0   \n",
       "2            Cumings, Mrs. John Bradley (Florence Briggs Th...  female  38.0   \n",
       "3                                       Heikkinen, Miss. Laina  female  26.0   \n",
       "4                 Futrelle, Mrs. Jacques Heath (Lily May Peel)  female  35.0   \n",
       "5                                     Allen, Mr. William Henry    male  35.0   \n",
       "\n",
       "             SibSp  Parch            Ticket     Fare Cabin Embarked  \n",
       "PassengerId                                                          \n",
       "1                1      0         A/5 21171   7.2500   NaN        S  \n",
       "2                1      0          PC 17599  71.2833   C85        C  \n",
       "3                0      0  STON/O2. 3101282   7.9250   NaN        S  \n",
       "4                1      0            113803  53.1000  C123        S  \n",
       "5                0      0            373450   8.0500   NaN        S  "
      ]
     },
     "execution_count": 24,
     "metadata": {},
     "output_type": "execute_result"
    }
   ],
   "source": [
    "titanicta = pd.read_csv('titanic.csv', index_col=0)\n",
    "titanic.head()"
   ]
  },
  {
   "cell_type": "code",
   "execution_count": 25,
   "metadata": {
    "collapsed": false,
    "scrolled": true
   },
   "outputs": [],
   "source": [
    "titanic = titanic[titanic.Age.notnull()]"
   ]
  },
  {
   "cell_type": "code",
   "execution_count": 26,
   "metadata": {
    "collapsed": false
   },
   "outputs": [
    {
     "name": "stdout",
     "output_type": "stream",
     "text": [
      "<class 'pandas.core.frame.DataFrame'>\n",
      "Int64Index: 714 entries, 1 to 891\n",
      "Data columns (total 11 columns):\n",
      "Survived    714 non-null int64\n",
      "Pclass      714 non-null int64\n",
      "Name        714 non-null object\n",
      "Sex         714 non-null object\n",
      "Age         714 non-null float64\n",
      "SibSp       714 non-null int64\n",
      "Parch       714 non-null int64\n",
      "Ticket      714 non-null object\n",
      "Fare        714 non-null float64\n",
      "Cabin       185 non-null object\n",
      "Embarked    712 non-null object\n",
      "dtypes: float64(2), int64(4), object(5)\n",
      "memory usage: 66.9+ KB\n"
     ]
    }
   ],
   "source": [
    "titanic.info()"
   ]
  },
  {
   "cell_type": "code",
   "execution_count": 27,
   "metadata": {
    "collapsed": false
   },
   "outputs": [],
   "source": [
    "lr = sklearn.linear_model.LogisticRegression()\n",
    "lr.fit(titanic[['Age']], titanic.Survived)\n",
    "predictions = lr.predict([ [age] for age in range(0,101) ])\n"
   ]
  },
  {
   "cell_type": "code",
   "execution_count": 28,
   "metadata": {
    "collapsed": false
   },
   "outputs": [
    {
     "data": {
      "text/plain": [
       "array([[-0.66598729, -0.72106537],\n",
       "       [-0.66064977, -0.72673625],\n",
       "       [-0.65534251, -0.73243739],\n",
       "       [-0.6500655 , -0.73816878],\n",
       "       [-0.64481872, -0.74393041],\n",
       "       [-0.63960217, -0.74972226],\n",
       "       [-0.63441583, -0.75554432],\n",
       "       [-0.62925967, -0.76139656],\n",
       "       [-0.62413367, -0.76727897],\n",
       "       [-0.61903782, -0.77319151],\n",
       "       [-0.61397208, -0.77913417],\n",
       "       [-0.60893643, -0.78510693],\n",
       "       [-0.60393085, -0.79110974],\n",
       "       [-0.59895529, -0.79714259],\n",
       "       [-0.59400974, -0.80320544],\n",
       "       [-0.58909415, -0.80929826],\n",
       "       [-0.5842085 , -0.815421  ],\n",
       "       [-0.57935274, -0.82157364],\n",
       "       [-0.57452684, -0.82775614],\n",
       "       [-0.56973075, -0.83396846],\n",
       "       [-0.56496444, -0.84021054],\n",
       "       [-0.56022785, -0.84648236],\n",
       "       [-0.55552095, -0.85278386],\n",
       "       [-0.55084369, -0.859115  ],\n",
       "       [-0.54619601, -0.86547572],\n",
       "       [-0.54157787, -0.87186598],\n",
       "       [-0.53698921, -0.87828573],\n",
       "       [-0.53242999, -0.8847349 ],\n",
       "       [-0.52790014, -0.89121345],\n",
       "       [-0.52339961, -0.89772132],\n",
       "       [-0.51892833, -0.90425845],\n",
       "       [-0.51448626, -0.91082478],\n",
       "       [-0.51007332, -0.91742024],\n",
       "       [-0.50568946, -0.92404478],\n",
       "       [-0.5013346 , -0.93069833],\n",
       "       [-0.49700869, -0.93738081],\n",
       "       [-0.49271165, -0.94409218],\n",
       "       [-0.48844341, -0.95083234],\n",
       "       [-0.48420391, -0.95760124],\n",
       "       [-0.47999307, -0.96439879],\n",
       "       [-0.47581081, -0.97122494],\n",
       "       [-0.47165706, -0.97807959],\n",
       "       [-0.46753175, -0.98496268],\n",
       "       [-0.46343479, -0.99187412],\n",
       "       [-0.45936611, -0.99881384],\n",
       "       [-0.45532562, -1.00578176],\n",
       "       [-0.45131325, -1.01277778],\n",
       "       [-0.4473289 , -1.01980184],\n",
       "       [-0.4433725 , -1.02685384],\n",
       "       [-0.43944395, -1.03393369],\n",
       "       [-0.43554318, -1.04104132],\n",
       "       [-0.43167008, -1.04817662],\n",
       "       [-0.42782457, -1.05533952],\n",
       "       [-0.42400657, -1.06252991],\n",
       "       [-0.42021597, -1.06974771],\n",
       "       [-0.41645268, -1.07699283],\n",
       "       [-0.41271661, -1.08426516],\n",
       "       [-0.40900766, -1.09156461],\n",
       "       [-0.40532574, -1.09889109],\n",
       "       [-0.40167074, -1.10624449],\n",
       "       [-0.39804257, -1.11362472],\n",
       "       [-0.39444112, -1.12103168],\n",
       "       [-0.3908663 , -1.12846526],\n",
       "       [-0.38731801, -1.13592536],\n",
       "       [-0.38379613, -1.14341189],\n",
       "       [-0.38030056, -1.15092472],\n",
       "       [-0.37683121, -1.15846377],\n",
       "       [-0.37338795, -1.16602891],\n",
       "       [-0.36997069, -1.17362006],\n",
       "       [-0.36657932, -1.18123708],\n",
       "       [-0.36321373, -1.18887989],\n",
       "       [-0.3598738 , -1.19654836],\n",
       "       [-0.35655943, -1.20424239],\n",
       "       [-0.3532705 , -1.21196187],\n",
       "       [-0.35000691, -1.21970668],\n",
       "       [-0.34676853, -1.2274767 ],\n",
       "       [-0.34355526, -1.23527183],\n",
       "       [-0.34036698, -1.24309195],\n",
       "       [-0.33720358, -1.25093695],\n",
       "       [-0.33406493, -1.25880671],\n",
       "       [-0.33095093, -1.2667011 ],\n",
       "       [-0.32786145, -1.27462002],\n",
       "       [-0.32479637, -1.28256335],\n",
       "       [-0.32175559, -1.29053097],\n",
       "       [-0.31873897, -1.29852275],\n",
       "       [-0.3157464 , -1.30653858],\n",
       "       [-0.31277776, -1.31457834],\n",
       "       [-0.30983292, -1.3226419 ],\n",
       "       [-0.30691177, -1.33072915],\n",
       "       [-0.30401418, -1.33883996],\n",
       "       [-0.30114003, -1.34697422],\n",
       "       [-0.2982892 , -1.35513179],\n",
       "       [-0.29546156, -1.36331255],\n",
       "       [-0.292657  , -1.37151639],\n",
       "       [-0.28987538, -1.37974317],\n",
       "       [-0.28711658, -1.38799277],\n",
       "       [-0.28438047, -1.39626507],\n",
       "       [-0.28166694, -1.40455994],\n",
       "       [-0.27897586, -1.41287725],\n",
       "       [-0.27630709, -1.42121689],\n",
       "       [-0.27366052, -1.42957871]])"
      ]
     },
     "execution_count": 28,
     "metadata": {},
     "output_type": "execute_result"
    },
    {
     "data": {
      "image/png": "[encoded data removed]",
      "text/plain": [
       "<matplotlib.figure.Figure at 0x11bbdc890>"
      ]
     },
     "metadata": {},
     "output_type": "display_data"
    }
   ],
   "source": [
    "prob = lr.predict_log_proba([ [age] for age in range(0,101) ])\n",
    "plt.plot(prob)\n",
    "prob"
   ]
  },
  {
   "cell_type": "code",
   "execution_count": 29,
   "metadata": {
    "collapsed": false
   },
   "outputs": [
    {
     "data": {
      "text/plain": [
       "array([[ -3.29526109e+01,  -4.88498131e-15],\n",
       "       [ -3.29526109e+01,  -4.88498131e-15],\n",
       "       [ -3.29526109e+01,  -4.88498131e-15],\n",
       "       ..., \n",
       "       [ -4.44089210e-15,  -3.30472563e+01],\n",
       "       [ -4.44089210e-15,  -3.30582647e+01],\n",
       "       [ -4.32986980e-15,  -3.30692731e+01]])"
      ]
     },
     "execution_count": 29,
     "metadata": {},
     "output_type": "execute_result"
    },
    {
     "data": {
      "image/png": "[encoded data removed]",
      "text/plain": [
       "<matplotlib.figure.Figure at 0x11bb89cd0>"
      ]
     },
     "metadata": {},
     "output_type": "display_data"
    }
   ],
   "source": [
    "prob = lr.predict_log_proba([ [age] for age in range(-3000,3000) ])\n",
    "plt.plot(prob)\n",
    "prob"
   ]
  },
  {
   "cell_type": "code",
   "execution_count": 30,
   "metadata": {
    "collapsed": true
   },
   "outputs": [],
   "source": [
    "import sklearn.cross_validation"
   ]
  },
  {
   "cell_type": "code",
   "execution_count": 31,
   "metadata": {
    "collapsed": false
   },
   "outputs": [
    {
     "data": {
      "text/plain": [
       "array([ 0.59414226,  0.59243697,  0.62025316])"
      ]
     },
     "execution_count": 31,
     "metadata": {},
     "output_type": "execute_result"
    }
   ],
   "source": [
    "sklearn.cross_validation.cross_val_score(lr,\n",
    "                                         titanic[['Age']],\n",
    "                                         titanic.Survived,\n",
    "                                         cv=3,\n",
    "                                         scoring='accuracy'\n",
    "                                          )"
   ]
  },
  {
   "cell_type": "code",
   "execution_count": 38,
   "metadata": {
    "collapsed": false
   },
   "outputs": [
    {
     "data": {
      "text/plain": [
       "array([ 0.59414226,  0.59243697,  0.59493671])"
      ]
     },
     "execution_count": 38,
     "metadata": {},
     "output_type": "execute_result"
    }
   ],
   "source": [
    "import sklearn.dummy\n",
    "dummy_classifier = sklearn.dummy.DummyClassifier(strategy='most_frequent')\n",
    "\n",
    "sklearn.cross_validation.cross_val_score(dummy_classifier,\n",
    "                                         titanic[['Age']],\n",
    "                                         titanic.Survived,\n",
    "                                         cv=3,\n",
    "                                         scoring='accuracy'\n",
    "                                          )"
   ]
  },
  {
   "cell_type": "markdown",
   "metadata": {},
   "source": [
    "#### CV score result of 0.62025316 and dummy result of 0.59493671 suggests that there is sometimes -- very rarely -- events where age correlates to survival"
   ]
  },
  {
   "cell_type": "code",
   "execution_count": 36,
   "metadata": {
    "collapsed": false
   },
   "outputs": [],
   "source": [
    "sklearn.cross_validation.cross_val_score?"
   ]
  },
  {
   "cell_type": "code",
   "execution_count": 46,
   "metadata": {
    "collapsed": false
   },
   "outputs": [
    {
     "data": {
      "text/plain": [
       "array([1, 0, 0])"
      ]
     },
     "execution_count": 46,
     "metadata": {},
     "output_type": "execute_result"
    }
   ],
   "source": [
    "lr.fit(titanic[['Pclass']], titanic.Survived)\n",
    "\n",
    "lr.predict([[1],[2],[3]])"
   ]
  },
  {
   "cell_type": "code",
   "execution_count": 47,
   "metadata": {
    "collapsed": false
   },
   "outputs": [
    {
     "data": {
      "text/plain": [
       "array([[ 0.34262591,  0.65737409],\n",
       "       [ 0.55482804,  0.44517196],\n",
       "       [ 0.74875988,  0.25124012]])"
      ]
     },
     "execution_count": 47,
     "metadata": {},
     "output_type": "execute_result"
    }
   ],
   "source": [
    "lr.predict_proba([[1],[2],[3]])"
   ]
  },
  {
   "cell_type": "code",
   "execution_count": 48,
   "metadata": {
    "collapsed": false
   },
   "outputs": [
    {
     "data": {
      "text/plain": [
       "array([[ 0.22838109,  0.77161891],\n",
       "       [ 0.29931543,  0.70068457],\n",
       "       [ 0.7559969 ,  0.2440031 ]])"
      ]
     },
     "execution_count": 48,
     "metadata": {},
     "output_type": "execute_result"
    }
   ],
   "source": [
    "lr.fit(titanic[['Age', 'Pclass']], titanic.Survived)\n",
    "lr.predict_proba([[21,1], [0,2], [25,3]])"
   ]
  },
  {
   "cell_type": "markdown",
   "metadata": {},
   "source": [
    "#### Bring gender in"
   ]
  },
  {
   "cell_type": "code",
   "execution_count": 56,
   "metadata": {
    "collapsed": false
   },
   "outputs": [],
   "source": [
    "import numpy as np\n",
    "titanic['Gender'] = np.where(titanic.Sex == 'male', 1, 0 )"
   ]
  },
  {
   "cell_type": "code",
   "execution_count": 57,
   "metadata": {
    "collapsed": false
   },
   "outputs": [
    {
     "data": {
      "text/plain": [
       "array([ 0.77777778,  0.73611111,  0.80555556,  0.88888889,  0.74647887,\n",
       "        0.8028169 ,  0.78873239,  0.73239437,  0.81690141,  0.8028169 ])"
      ]
     },
     "execution_count": 57,
     "metadata": {},
     "output_type": "execute_result"
    }
   ],
   "source": [
    "sklearn.cross_validation.cross_val_score(lr,\n",
    "                                         titanic[['Age','Pclass','Gender']],\n",
    "                                         titanic.Survived,\n",
    "                                         cv=10,\n",
    "                                         scoring='accuracy'\n",
    "                                          )"
   ]
  },
  {
   "cell_type": "code",
   "execution_count": 58,
   "metadata": {
    "collapsed": false
   },
   "outputs": [
    {
     "data": {
      "text/plain": [
       "array([ 0.59722222,  0.59722222,  0.59722222,  0.59722222,  0.5915493 ,\n",
       "        0.5915493 ,  0.5915493 ,  0.5915493 ,  0.5915493 ,  0.5915493 ])"
      ]
     },
     "execution_count": 58,
     "metadata": {},
     "output_type": "execute_result"
    }
   ],
   "source": [
    "sklearn.cross_validation.cross_val_score(dummy_classifier,\n",
    "                                         titanic[['Age','Pclass','Gender']],\n",
    "                                         titanic.Survived,\n",
    "                                         cv=10,\n",
    "                                         scoring='accuracy'\n",
    "                                          )"
   ]
  },
  {
   "cell_type": "code",
   "execution_count": 59,
   "metadata": {
    "collapsed": false
   },
   "outputs": [
    {
     "data": {
      "text/plain": [
       "LogisticRegression(C=1.0, class_weight=None, dual=False, fit_intercept=True,\n",
       "          intercept_scaling=1, max_iter=100, multi_class='ovr', n_jobs=1,\n",
       "          penalty='l2', random_state=None, solver='liblinear', tol=0.0001,\n",
       "          verbose=0, warm_start=False)"
      ]
     },
     "execution_count": 59,
     "metadata": {},
     "output_type": "execute_result"
    }
   ],
   "source": [
    "lr.fit(titanic[['Age','Pclass','Gender']], titanic.Survived)"
   ]
  },
  {
   "cell_type": "code",
   "execution_count": 60,
   "metadata": {
    "collapsed": false
   },
   "outputs": [
    {
     "data": {
      "text/plain": [
       "array([[-0.02587543, -1.03634333, -2.27933987]])"
      ]
     },
     "execution_count": 60,
     "metadata": {},
     "output_type": "execute_result"
    }
   ],
   "source": [
    "lr.coef_"
   ]
  },
  {
   "cell_type": "code",
   "execution_count": 64,
   "metadata": {
    "collapsed": false
   },
   "outputs": [
    {
     "data": {
      "text/plain": [
       "array([ 4.00542962])"
      ]
     },
     "execution_count": 64,
     "metadata": {},
     "output_type": "execute_result"
    }
   ],
   "source": [
    "lr.intercept_"
   ]
  },
  {
   "cell_type": "markdown",
   "metadata": {},
   "source": [
    "#### Improving the model "
   ]
  },
  {
   "cell_type": "code",
   "execution_count": 65,
   "metadata": {
    "collapsed": false
   },
   "outputs": [
    {
     "data": {
      "text/plain": [
       "<matplotlib.axes._subplots.AxesSubplot at 0x11be6da90>"
      ]
     },
     "execution_count": 65,
     "metadata": {},
     "output_type": "execute_result"
    },
    {
     "data": {
      "image/png": "[encoded data removed]",
      "text/plain": [
       "<matplotlib.figure.Figure at 0x11be6d210>"
      ]
     },
     "metadata": {},
     "output_type": "display_data"
    }
   ],
   "source": [
    "import seaborn\n",
    "seaborn.violinplot(y='Age', x='Survived', data=titanic)"
   ]
  },
  {
   "cell_type": "code",
   "execution_count": 66,
   "metadata": {
    "collapsed": false
   },
   "outputs": [
    {
     "data": {
      "text/plain": [
       "<matplotlib.axes._subplots.AxesSubplot at 0x11c1238d0>"
      ]
     },
     "execution_count": 66,
     "metadata": {},
     "output_type": "execute_result"
    },
    {
     "data": {
      "image/png": "[encoded data removed]",
      "text/plain": [
       "<matplotlib.figure.Figure at 0x11bb71d90>"
      ]
     },
     "metadata": {},
     "output_type": "display_data"
    }
   ],
   "source": [
    "seaborn.violinplot(y='Age', x='Pclass', data=titanic)"
   ]
  },
  {
   "cell_type": "code",
   "execution_count": 69,
   "metadata": {
    "collapsed": false
   },
   "outputs": [],
   "source": [
    "titanic['Minor'] = np.where(titanic.Age < 12, 1, 0)"
   ]
  },
  {
   "cell_type": "code",
   "execution_count": 70,
   "metadata": {
    "collapsed": false
   },
   "outputs": [
    {
     "data": {
      "text/plain": [
       "array([ 0.80555556,  0.76388889,  0.80555556,  0.875     ,  0.76056338,\n",
       "        0.78873239,  0.77464789,  0.73239437,  0.81690141,  0.8028169 ])"
      ]
     },
     "execution_count": 70,
     "metadata": {},
     "output_type": "execute_result"
    }
   ],
   "source": [
    "sklearn.cross_validation.cross_val_score(lr,\n",
    "                                         titanic[['Age','Pclass','Gender', 'Minor']],\n",
    "                                         titanic.Survived,\n",
    "                                         cv=10,\n",
    "                                         scoring='accuracy'\n",
    "                                          )"
   ]
  },
  {
   "cell_type": "code",
   "execution_count": 71,
   "metadata": {
    "collapsed": false
   },
   "outputs": [
    {
     "data": {
      "text/plain": [
       "array([[-0.0177395 , -1.03148985, -2.29754917,  0.67599112]])"
      ]
     },
     "execution_count": 71,
     "metadata": {},
     "output_type": "execute_result"
    }
   ],
   "source": [
    "lr.fit(titanic[['Age','Pclass','Gender', 'Minor']], titanic.Survived)\n",
    "lr.coef_"
   ]
  },
  {
   "cell_type": "code",
   "execution_count": 72,
   "metadata": {
    "collapsed": false
   },
   "outputs": [
    {
     "data": {
      "text/plain": [
       "<matplotlib.axes._subplots.AxesSubplot at 0x11ba8cf90>"
      ]
     },
     "execution_count": 72,
     "metadata": {},
     "output_type": "execute_result"
    },
    {
     "data": {
      "image/png": "[encoded data removed]",
      "text/plain": [
       "<matplotlib.figure.Figure at 0x11ba8cfd0>"
      ]
     },
     "metadata": {},
     "output_type": "display_data"
    }
   ],
   "source": [
    "seaborn.violinplot(y='Minor', x='Pclass', data=titanic)"
   ]
  },
  {
   "cell_type": "code",
   "execution_count": 74,
   "metadata": {
    "collapsed": false
   },
   "outputs": [
    {
     "data": {
      "text/plain": [
       "714"
      ]
     },
     "execution_count": 74,
     "metadata": {},
     "output_type": "execute_result"
    }
   ],
   "source": [
    "(titanic.Minor == 0).count()"
   ]
  },
  {
   "cell_type": "code",
   "execution_count": 77,
   "metadata": {
    "collapsed": false
   },
   "outputs": [],
   "source": [
    "titanic['female_married'] = np.where(titanic.Name.str.contains('\\('), 1, 0)"
   ]
  },
  {
   "cell_type": "code",
   "execution_count": null,
   "metadata": {
    "collapsed": true
   },
   "outputs": [],
   "source": []
  }
 ],
 "metadata": {
  "kernelspec": {
   "display_name": "Python 2",
   "language": "python",
   "name": "python2"
  },
  "language_info": {
   "codemirror_mode": {
    "name": "ipython",
    "version": 2
   },
   "file_extension": ".py",
   "mimetype": "text/x-python",
   "name": "python",
   "nbconvert_exporter": "python",
   "pygments_lexer": "ipython2",
   "version": "2.7.12"
  }
 },
 "nbformat": 4,
 "nbformat_minor": 0
}
