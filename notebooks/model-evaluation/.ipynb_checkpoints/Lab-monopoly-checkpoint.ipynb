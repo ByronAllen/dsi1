{
 "cells": [
  {
   "cell_type": "markdown",
   "metadata": {},
   "source": [
    "# Predicting Monopoly Hotel Prices\n",
    "\n",
    "If you've played the game\n",
    "[Monopoly](https://en.wikipedia.org/wiki/Monopoly_(game)\n",
    "you will know that some properties cost more than others, and \n",
    "the rent charged for a Hotel.\n",
    "\n",
    "There's a relationship between them. Let's find out what it is."
   ]
  },
  {
   "cell_type": "markdown",
   "metadata": {},
   "source": [
    "The set of properties is on an HTML table here:\n",
    "http://www.jdawiseman.com/papers/trivia/monopoly-rents.html"
   ]
  },
  {
   "cell_type": "code",
   "execution_count": 35,
   "metadata": {
    "collapsed": true
   },
   "outputs": [],
   "source": [
    "%matplotlib inline\n",
    "import pandas as pd\n",
    "import matplotlib.pyplot as plt\n",
    "\n",
    "import sklearn.cross_validation\n",
    "import sklearn.linear_model\n",
    "import sklearn.metrics\n",
    "import sklearn.dummy\n",
    "import sklearn.tree"
   ]
  },
  {
   "cell_type": "code",
   "execution_count": 26,
   "metadata": {
    "collapsed": false,
    "scrolled": true
   },
   "outputs": [
    {
     "data": {
      "text/html": [
       "<div>\n",
       "<table border=\"1\" class=\"dataframe\">\n",
       "  <thead>\n",
       "    <tr style=\"text-align: right;\">\n",
       "      <th></th>\n",
       "      <th>Cost</th>\n",
       "      <th>M’tg</th>\n",
       "      <th>Site</th>\n",
       "      <th>1 hse</th>\n",
       "      <th>2 hses</th>\n",
       "      <th>3 hses</th>\n",
       "      <th>4 hses</th>\n",
       "      <th>Hotel</th>\n",
       "    </tr>\n",
       "    <tr>\n",
       "      <th>Property</th>\n",
       "      <th></th>\n",
       "      <th></th>\n",
       "      <th></th>\n",
       "      <th></th>\n",
       "      <th></th>\n",
       "      <th></th>\n",
       "      <th></th>\n",
       "      <th></th>\n",
       "    </tr>\n",
       "  </thead>\n",
       "  <tbody>\n",
       "    <tr>\n",
       "      <th>Old Kent Road</th>\n",
       "      <td>60</td>\n",
       "      <td>30</td>\n",
       "      <td>2</td>\n",
       "      <td>10.0</td>\n",
       "      <td>30.0</td>\n",
       "      <td>90.0</td>\n",
       "      <td>160.0</td>\n",
       "      <td>250.0</td>\n",
       "    </tr>\n",
       "    <tr>\n",
       "      <th>Whitechapel Road</th>\n",
       "      <td>60</td>\n",
       "      <td>30</td>\n",
       "      <td>4</td>\n",
       "      <td>20.0</td>\n",
       "      <td>60.0</td>\n",
       "      <td>180.0</td>\n",
       "      <td>320.0</td>\n",
       "      <td>450.0</td>\n",
       "    </tr>\n",
       "    <tr>\n",
       "      <th>Kings Cross Station</th>\n",
       "      <td>200</td>\n",
       "      <td>100</td>\n",
       "      <td>25 or 50 or 100 or 200</td>\n",
       "      <td>NaN</td>\n",
       "      <td>NaN</td>\n",
       "      <td>NaN</td>\n",
       "      <td>NaN</td>\n",
       "      <td>NaN</td>\n",
       "    </tr>\n",
       "    <tr>\n",
       "      <th>The Angel Islington</th>\n",
       "      <td>100</td>\n",
       "      <td>50</td>\n",
       "      <td>6</td>\n",
       "      <td>30.0</td>\n",
       "      <td>90.0</td>\n",
       "      <td>270.0</td>\n",
       "      <td>400.0</td>\n",
       "      <td>550.0</td>\n",
       "    </tr>\n",
       "    <tr>\n",
       "      <th>Euston Road</th>\n",
       "      <td>100</td>\n",
       "      <td>50</td>\n",
       "      <td>6</td>\n",
       "      <td>30.0</td>\n",
       "      <td>90.0</td>\n",
       "      <td>270.0</td>\n",
       "      <td>400.0</td>\n",
       "      <td>550.0</td>\n",
       "    </tr>\n",
       "    <tr>\n",
       "      <th>Pentonville Road</th>\n",
       "      <td>120</td>\n",
       "      <td>60</td>\n",
       "      <td>8</td>\n",
       "      <td>40.0</td>\n",
       "      <td>100.0</td>\n",
       "      <td>300.0</td>\n",
       "      <td>450.0</td>\n",
       "      <td>600.0</td>\n",
       "    </tr>\n",
       "    <tr>\n",
       "      <th>Pall Mall</th>\n",
       "      <td>140</td>\n",
       "      <td>70</td>\n",
       "      <td>10</td>\n",
       "      <td>50.0</td>\n",
       "      <td>150.0</td>\n",
       "      <td>450.0</td>\n",
       "      <td>625.0</td>\n",
       "      <td>750.0</td>\n",
       "    </tr>\n",
       "    <tr>\n",
       "      <th>Electric Company</th>\n",
       "      <td>150</td>\n",
       "      <td>75</td>\n",
       "      <td>4×dice or 10×dice</td>\n",
       "      <td>NaN</td>\n",
       "      <td>NaN</td>\n",
       "      <td>NaN</td>\n",
       "      <td>NaN</td>\n",
       "      <td>NaN</td>\n",
       "    </tr>\n",
       "    <tr>\n",
       "      <th>Whitehall</th>\n",
       "      <td>140</td>\n",
       "      <td>70</td>\n",
       "      <td>10</td>\n",
       "      <td>50.0</td>\n",
       "      <td>150.0</td>\n",
       "      <td>450.0</td>\n",
       "      <td>625.0</td>\n",
       "      <td>750.0</td>\n",
       "    </tr>\n",
       "    <tr>\n",
       "      <th>Northumberland Avenue</th>\n",
       "      <td>160</td>\n",
       "      <td>80</td>\n",
       "      <td>12</td>\n",
       "      <td>60.0</td>\n",
       "      <td>180.0</td>\n",
       "      <td>500.0</td>\n",
       "      <td>700.0</td>\n",
       "      <td>900.0</td>\n",
       "    </tr>\n",
       "    <tr>\n",
       "      <th>Marylebone Station</th>\n",
       "      <td>200</td>\n",
       "      <td>100</td>\n",
       "      <td>25 or 50 or 100 or 200</td>\n",
       "      <td>NaN</td>\n",
       "      <td>NaN</td>\n",
       "      <td>NaN</td>\n",
       "      <td>NaN</td>\n",
       "      <td>NaN</td>\n",
       "    </tr>\n",
       "    <tr>\n",
       "      <th>Bow Street</th>\n",
       "      <td>180</td>\n",
       "      <td>90</td>\n",
       "      <td>14</td>\n",
       "      <td>70.0</td>\n",
       "      <td>200.0</td>\n",
       "      <td>550.0</td>\n",
       "      <td>750.0</td>\n",
       "      <td>950.0</td>\n",
       "    </tr>\n",
       "    <tr>\n",
       "      <th>Marlborough Street</th>\n",
       "      <td>180</td>\n",
       "      <td>90</td>\n",
       "      <td>14</td>\n",
       "      <td>70.0</td>\n",
       "      <td>200.0</td>\n",
       "      <td>550.0</td>\n",
       "      <td>750.0</td>\n",
       "      <td>950.0</td>\n",
       "    </tr>\n",
       "    <tr>\n",
       "      <th>Vine Street</th>\n",
       "      <td>200</td>\n",
       "      <td>100</td>\n",
       "      <td>16</td>\n",
       "      <td>80.0</td>\n",
       "      <td>220.0</td>\n",
       "      <td>600.0</td>\n",
       "      <td>800.0</td>\n",
       "      <td>1000.0</td>\n",
       "    </tr>\n",
       "    <tr>\n",
       "      <th>The Strand</th>\n",
       "      <td>220</td>\n",
       "      <td>110</td>\n",
       "      <td>18</td>\n",
       "      <td>90.0</td>\n",
       "      <td>250.0</td>\n",
       "      <td>700.0</td>\n",
       "      <td>875.0</td>\n",
       "      <td>1050.0</td>\n",
       "    </tr>\n",
       "    <tr>\n",
       "      <th>Fleet Street</th>\n",
       "      <td>220</td>\n",
       "      <td>110</td>\n",
       "      <td>18</td>\n",
       "      <td>90.0</td>\n",
       "      <td>250.0</td>\n",
       "      <td>700.0</td>\n",
       "      <td>875.0</td>\n",
       "      <td>1050.0</td>\n",
       "    </tr>\n",
       "    <tr>\n",
       "      <th>Trafalgar Square</th>\n",
       "      <td>240</td>\n",
       "      <td>120</td>\n",
       "      <td>20</td>\n",
       "      <td>100.0</td>\n",
       "      <td>300.0</td>\n",
       "      <td>750.0</td>\n",
       "      <td>925.0</td>\n",
       "      <td>1100.0</td>\n",
       "    </tr>\n",
       "    <tr>\n",
       "      <th>Fenchurch St Station</th>\n",
       "      <td>200</td>\n",
       "      <td>100</td>\n",
       "      <td>25 or 50 or 100 or 200</td>\n",
       "      <td>NaN</td>\n",
       "      <td>NaN</td>\n",
       "      <td>NaN</td>\n",
       "      <td>NaN</td>\n",
       "      <td>NaN</td>\n",
       "    </tr>\n",
       "    <tr>\n",
       "      <th>Leicester Square</th>\n",
       "      <td>260</td>\n",
       "      <td>130</td>\n",
       "      <td>22</td>\n",
       "      <td>110.0</td>\n",
       "      <td>330.0</td>\n",
       "      <td>800.0</td>\n",
       "      <td>975.0</td>\n",
       "      <td>1150.0</td>\n",
       "    </tr>\n",
       "    <tr>\n",
       "      <th>Coventry Street</th>\n",
       "      <td>260</td>\n",
       "      <td>130</td>\n",
       "      <td>22</td>\n",
       "      <td>110.0</td>\n",
       "      <td>330.0</td>\n",
       "      <td>800.0</td>\n",
       "      <td>975.0</td>\n",
       "      <td>1150.0</td>\n",
       "    </tr>\n",
       "    <tr>\n",
       "      <th>Water Works</th>\n",
       "      <td>150</td>\n",
       "      <td>75</td>\n",
       "      <td>4×dice or 10×dice</td>\n",
       "      <td>NaN</td>\n",
       "      <td>NaN</td>\n",
       "      <td>NaN</td>\n",
       "      <td>NaN</td>\n",
       "      <td>NaN</td>\n",
       "    </tr>\n",
       "    <tr>\n",
       "      <th>Piccadilly</th>\n",
       "      <td>280</td>\n",
       "      <td>140</td>\n",
       "      <td>22</td>\n",
       "      <td>120.0</td>\n",
       "      <td>360.0</td>\n",
       "      <td>850.0</td>\n",
       "      <td>1025.0</td>\n",
       "      <td>1200.0</td>\n",
       "    </tr>\n",
       "    <tr>\n",
       "      <th>Regent Street</th>\n",
       "      <td>300</td>\n",
       "      <td>150</td>\n",
       "      <td>26</td>\n",
       "      <td>130.0</td>\n",
       "      <td>390.0</td>\n",
       "      <td>900.0</td>\n",
       "      <td>1100.0</td>\n",
       "      <td>1275.0</td>\n",
       "    </tr>\n",
       "    <tr>\n",
       "      <th>Oxford Street</th>\n",
       "      <td>300</td>\n",
       "      <td>150</td>\n",
       "      <td>26</td>\n",
       "      <td>130.0</td>\n",
       "      <td>390.0</td>\n",
       "      <td>900.0</td>\n",
       "      <td>1100.0</td>\n",
       "      <td>1275.0</td>\n",
       "    </tr>\n",
       "    <tr>\n",
       "      <th>Bond Street</th>\n",
       "      <td>320</td>\n",
       "      <td>160</td>\n",
       "      <td>28</td>\n",
       "      <td>150.0</td>\n",
       "      <td>450.0</td>\n",
       "      <td>1000.0</td>\n",
       "      <td>1200.0</td>\n",
       "      <td>1400.0</td>\n",
       "    </tr>\n",
       "    <tr>\n",
       "      <th>Liverpool Street Station</th>\n",
       "      <td>200</td>\n",
       "      <td>100</td>\n",
       "      <td>25 or 50 or 100 or 200</td>\n",
       "      <td>NaN</td>\n",
       "      <td>NaN</td>\n",
       "      <td>NaN</td>\n",
       "      <td>NaN</td>\n",
       "      <td>NaN</td>\n",
       "    </tr>\n",
       "    <tr>\n",
       "      <th>Park Lane</th>\n",
       "      <td>350</td>\n",
       "      <td>175</td>\n",
       "      <td>35</td>\n",
       "      <td>175.0</td>\n",
       "      <td>500.0</td>\n",
       "      <td>1100.0</td>\n",
       "      <td>1300.0</td>\n",
       "      <td>1500.0</td>\n",
       "    </tr>\n",
       "    <tr>\n",
       "      <th>Mayfair</th>\n",
       "      <td>400</td>\n",
       "      <td>200</td>\n",
       "      <td>50</td>\n",
       "      <td>200.0</td>\n",
       "      <td>600.0</td>\n",
       "      <td>1400.0</td>\n",
       "      <td>1700.0</td>\n",
       "      <td>2000.0</td>\n",
       "    </tr>\n",
       "  </tbody>\n",
       "</table>\n",
       "</div>"
      ],
      "text/plain": [
       "                          Cost  M’tg                    Site  1 hse  2 hses  \\\n",
       "Property                                                                      \n",
       "Old Kent Road               60    30                       2   10.0    30.0   \n",
       "Whitechapel Road            60    30                       4   20.0    60.0   \n",
       "Kings Cross Station        200   100  25 or 50 or 100 or 200    NaN     NaN   \n",
       "The Angel Islington        100    50                       6   30.0    90.0   \n",
       "Euston Road                100    50                       6   30.0    90.0   \n",
       "Pentonville Road           120    60                       8   40.0   100.0   \n",
       "Pall Mall                  140    70                      10   50.0   150.0   \n",
       "Electric Company           150    75       4×dice or 10×dice    NaN     NaN   \n",
       "Whitehall                  140    70                      10   50.0   150.0   \n",
       "Northumberland Avenue      160    80                      12   60.0   180.0   \n",
       "Marylebone Station         200   100  25 or 50 or 100 or 200    NaN     NaN   \n",
       "Bow Street                 180    90                      14   70.0   200.0   \n",
       "Marlborough Street         180    90                      14   70.0   200.0   \n",
       "Vine Street                200   100                      16   80.0   220.0   \n",
       "The Strand                 220   110                      18   90.0   250.0   \n",
       "Fleet Street               220   110                      18   90.0   250.0   \n",
       "Trafalgar Square           240   120                      20  100.0   300.0   \n",
       "Fenchurch St Station       200   100  25 or 50 or 100 or 200    NaN     NaN   \n",
       "Leicester Square           260   130                      22  110.0   330.0   \n",
       "Coventry Street            260   130                      22  110.0   330.0   \n",
       "Water Works                150    75       4×dice or 10×dice    NaN     NaN   \n",
       "Piccadilly                 280   140                      22  120.0   360.0   \n",
       "Regent Street              300   150                      26  130.0   390.0   \n",
       "Oxford Street              300   150                      26  130.0   390.0   \n",
       "Bond Street                320   160                      28  150.0   450.0   \n",
       "Liverpool Street Station   200   100  25 or 50 or 100 or 200    NaN     NaN   \n",
       "Park Lane                  350   175                      35  175.0   500.0   \n",
       "Mayfair                    400   200                      50  200.0   600.0   \n",
       "\n",
       "                          3 hses  4 hses   Hotel  \n",
       "Property                                          \n",
       "Old Kent Road               90.0   160.0   250.0  \n",
       "Whitechapel Road           180.0   320.0   450.0  \n",
       "Kings Cross Station          NaN     NaN     NaN  \n",
       "The Angel Islington        270.0   400.0   550.0  \n",
       "Euston Road                270.0   400.0   550.0  \n",
       "Pentonville Road           300.0   450.0   600.0  \n",
       "Pall Mall                  450.0   625.0   750.0  \n",
       "Electric Company             NaN     NaN     NaN  \n",
       "Whitehall                  450.0   625.0   750.0  \n",
       "Northumberland Avenue      500.0   700.0   900.0  \n",
       "Marylebone Station           NaN     NaN     NaN  \n",
       "Bow Street                 550.0   750.0   950.0  \n",
       "Marlborough Street         550.0   750.0   950.0  \n",
       "Vine Street                600.0   800.0  1000.0  \n",
       "The Strand                 700.0   875.0  1050.0  \n",
       "Fleet Street               700.0   875.0  1050.0  \n",
       "Trafalgar Square           750.0   925.0  1100.0  \n",
       "Fenchurch St Station         NaN     NaN     NaN  \n",
       "Leicester Square           800.0   975.0  1150.0  \n",
       "Coventry Street            800.0   975.0  1150.0  \n",
       "Water Works                  NaN     NaN     NaN  \n",
       "Piccadilly                 850.0  1025.0  1200.0  \n",
       "Regent Street              900.0  1100.0  1275.0  \n",
       "Oxford Street              900.0  1100.0  1275.0  \n",
       "Bond Street               1000.0  1200.0  1400.0  \n",
       "Liverpool Street Station     NaN     NaN     NaN  \n",
       "Park Lane                 1100.0  1300.0  1500.0  \n",
       "Mayfair                   1400.0  1700.0  2000.0  "
      ]
     },
     "execution_count": 26,
     "metadata": {},
     "output_type": "execute_result"
    }
   ],
   "source": [
    "url = 'http://www.jdawiseman.com/papers/trivia/monopoly-rents.html'\n",
    "dfs = pd.read_html(url, header=1, index_col=0)\n",
    "monopoly = dfs[0]\n",
    "monopoly"
   ]
  },
  {
   "cell_type": "code",
   "execution_count": 27,
   "metadata": {
    "collapsed": false
   },
   "outputs": [],
   "source": [
    "# There should only be one DataFrame.\n",
    "# Make a copy of it and drop all the rows with NaN values (these\n",
    "# are the railway stations and the utilities)\n",
    "monopoly.dropna(inplace=True)"
   ]
  },
  {
   "cell_type": "code",
   "execution_count": 54,
   "metadata": {
    "collapsed": false
   },
   "outputs": [
    {
     "data": {
      "text/plain": [
       "(Index([u'Old Kent Road', u'Whitechapel Road', u'The Angel Islington',\n",
       "        u'Euston Road', u'Pentonville Road', u'Pall Mall', u'Whitehall',\n",
       "        u'Northumberland Avenue', u'Bow Street', u'Marlborough Street',\n",
       "        u'Vine Street', u'The Strand', u'Fleet Street', u'Trafalgar Square',\n",
       "        u'Leicester Square', u'Coventry Street', u'Piccadilly',\n",
       "        u'Regent Street', u'Oxford Street', u'Bond Street', u'Park Lane',\n",
       "        u'Mayfair'],\n",
       "       dtype='object', name=u'Property'), 22)"
      ]
     },
     "execution_count": 54,
     "metadata": {},
     "output_type": "execute_result"
    }
   ],
   "source": [
    "# The index is the name of the property.\n",
    "monopoly.index, len(monopoly.index)"
   ]
  },
  {
   "cell_type": "code",
   "execution_count": 79,
   "metadata": {
    "collapsed": false
   },
   "outputs": [
    {
     "data": {
      "text/plain": [
       "Index([u'Cost', u'M’tg', u'Site', u'1 hse', u'2 hses', u'3 hses', u'4 hses',\n",
       "       u'Hotel'],\n",
       "      dtype='object')"
      ]
     },
     "execution_count": 79,
     "metadata": {},
     "output_type": "execute_result"
    }
   ],
   "source": [
    "# Have a look at the column names\n",
    "#  - \"1 hse\" means the rent when there is one house on the property\n",
    "#  - \"M'tg\" means the price to mortgage the property\n",
    "\n",
    "monopoly.columns"
   ]
  },
  {
   "cell_type": "code",
   "execution_count": 98,
   "metadata": {
    "collapsed": false
   },
   "outputs": [
    {
     "name": "stdout",
     "output_type": "stream",
     "text": [
      "<class 'pandas.core.frame.DataFrame'>\n"
     ]
    }
   ],
   "source": [
    "# Make a dataframe X which contains the \"Site\" column\n",
    "x = monopoly[['Site']]\n",
    "print type(x)"
   ]
  },
  {
   "cell_type": "code",
   "execution_count": 99,
   "metadata": {
    "collapsed": false
   },
   "outputs": [
    {
     "name": "stdout",
     "output_type": "stream",
     "text": [
      "<class 'pandas.core.series.Series'>\n"
     ]
    }
   ],
   "source": [
    "# Make a series Y which contains the \"Hotel\" column\n",
    "y = monopoly['Hotel']\n",
    "print type(y)"
   ]
  },
  {
   "cell_type": "code",
   "execution_count": 100,
   "metadata": {
    "collapsed": true
   },
   "outputs": [],
   "source": [
    "sklearn.cross_validation.train_test_split?"
   ]
  },
  {
   "cell_type": "code",
   "execution_count": 101,
   "metadata": {
    "collapsed": false
   },
   "outputs": [],
   "source": [
    "# Use sklearn.cross_validation.train_test_split to split X and y\n",
    "# into train and test sets\n",
    "\n",
    "test_split = sklearn.cross_validation.train_test_split\n",
    "\n",
    "(train_x, test_x, train_y, test_y) = test_split(x,y)\n"
   ]
  },
  {
   "cell_type": "code",
   "execution_count": 103,
   "metadata": {
    "collapsed": false
   },
   "outputs": [
    {
     "data": {
      "text/plain": [
       "16"
      ]
     },
     "execution_count": 103,
     "metadata": {},
     "output_type": "execute_result"
    }
   ],
   "source": [
    "# Check the index of the X_training data to see what properties were\n",
    "# included. How many are there?\n",
    "\n",
    "len(train_x)\n"
   ]
  },
  {
   "cell_type": "code",
   "execution_count": 104,
   "metadata": {
    "collapsed": false
   },
   "outputs": [
    {
     "data": {
      "text/plain": [
       "6"
      ]
     },
     "execution_count": 104,
     "metadata": {},
     "output_type": "execute_result"
    }
   ],
   "source": [
    "# Check the index of the X_test data to see what properties were\n",
    "# included. How many are there?\n",
    "\n",
    "len(test_x)\n"
   ]
  },
  {
   "cell_type": "code",
   "execution_count": 105,
   "metadata": {
    "collapsed": false
   },
   "outputs": [
    {
     "name": "stdout",
     "output_type": "stream",
     "text": [
      "19 3\n",
      "19 3\n"
     ]
    }
   ],
   "source": [
    "# Do a train_test_split again, but this time, specify test_size\n",
    "\n",
    "(train_x, test_x, train_y, test_y) = test_split(x,y,test_size=0.1)\n",
    "\n",
    "print len(train_x), len(test_x)\n",
    "print len(train_y), len(test_y)"
   ]
  },
  {
   "cell_type": "markdown",
   "metadata": {},
   "source": [
    "# OSL"
   ]
  },
  {
   "cell_type": "code",
   "execution_count": 106,
   "metadata": {
    "collapsed": false
   },
   "outputs": [
    {
     "data": {
      "text/plain": [
       "LinearRegression(copy_X=True, fit_intercept=True, n_jobs=1, normalize=False)"
      ]
     },
     "execution_count": 106,
     "metadata": {},
     "output_type": "execute_result"
    }
   ],
   "source": [
    "# Make a LinearRegression object, and try to fit the X_train data\n",
    "# to Y_train\n",
    "\n",
    "osl = sklearn.linear_model.LinearRegression()\n",
    "osl.fit(train_x, train_y)"
   ]
  },
  {
   "cell_type": "code",
   "execution_count": 111,
   "metadata": {
    "collapsed": true
   },
   "outputs": [],
   "source": [
    "osl.score?"
   ]
  },
  {
   "cell_type": "code",
   "execution_count": 110,
   "metadata": {
    "collapsed": false
   },
   "outputs": [
    {
     "data": {
      "text/plain": [
       "0.96234300849276555"
      ]
     },
     "execution_count": 110,
     "metadata": {},
     "output_type": "execute_result"
    }
   ],
   "source": [
    "# Your LinearRegression object has a .score() method.\n",
    "# Try it on your X_train and Y_train data.\n",
    "# It will be good, but it will be overly confident about its accuracy\n",
    "\n",
    "osl.score(train_x, train_y)\n"
   ]
  },
  {
   "cell_type": "code",
   "execution_count": 112,
   "metadata": {
    "collapsed": false
   },
   "outputs": [],
   "source": [
    "# Make predictions for your X_test data\n",
    "\n",
    "prediction = osl.predict(test_x)"
   ]
  },
  {
   "cell_type": "code",
   "execution_count": 113,
   "metadata": {
    "collapsed": false
   },
   "outputs": [
    {
     "data": {
      "text/plain": [
       "[(1275.0, 1278.7450515508767),\n",
       " (1100.0, 1073.4779440553357),\n",
       " (550.0, 594.52135989907333)]"
      ]
     },
     "execution_count": 113,
     "metadata": {},
     "output_type": "execute_result"
    }
   ],
   "source": [
    "# Zip these predictions with the correct answers (Y_test) and compare\n",
    "# them visually. You could graph them too if you want to.\n",
    "\n",
    "zip(test_y, prediction)"
   ]
  },
  {
   "cell_type": "code",
   "execution_count": 114,
   "metadata": {
    "collapsed": false
   },
   "outputs": [
    {
     "data": {
      "text/plain": [
       "26.522055944664316"
      ]
     },
     "execution_count": 114,
     "metadata": {},
     "output_type": "execute_result"
    }
   ],
   "source": [
    "# sklearn.metrics.median_absolute_error to get a sense of how\n",
    "# far wrong it was\n",
    "\n",
    "sklearn.metrics.median_absolute_error(test_y, prediction)"
   ]
  },
  {
   "cell_type": "markdown",
   "metadata": {},
   "source": [
    "#### Gridsearch"
   ]
  },
  {
   "cell_type": "code",
   "execution_count": null,
   "metadata": {
    "collapsed": false
   },
   "outputs": [],
   "source": [
    "# Try the same with a sklearn.dummy.DummyRegressor() and \n",
    "# sklearn.tree.DecisionTreeRegressor()"
   ]
  },
  {
   "cell_type": "markdown",
   "metadata": {},
   "source": [
    "# Dummy Test"
   ]
  },
  {
   "cell_type": "code",
   "execution_count": 116,
   "metadata": {
    "collapsed": false
   },
   "outputs": [
    {
     "name": "stdout",
     "output_type": "stream",
     "text": [
      "0.0\n",
      "\n",
      "[(1275.0, 996.0526315789474), (1100.0, 996.0526315789474), (550.0, 996.0526315789474)]\n",
      "\n",
      "278.947368421\n"
     ]
    }
   ],
   "source": [
    "#Dummy Test\n",
    "\n",
    "dummy = sklearn.dummy.DummyRegressor()\n",
    "dummy.fit(train_x, train_y)\n",
    "print dummy.score(train_x, train_y)\n",
    "print\n",
    "\n",
    "prediction = dummy.predict(test_x)\n",
    "print zip(test_y, prediction)\n",
    "print\n",
    "\n",
    "print sklearn.metrics.median_absolute_error(test_y, prediction)\n"
   ]
  },
  {
   "cell_type": "markdown",
   "metadata": {},
   "source": [
    "# Decision Tree"
   ]
  },
  {
   "cell_type": "code",
   "execution_count": 117,
   "metadata": {
    "collapsed": false
   },
   "outputs": [
    {
     "name": "stdout",
     "output_type": "stream",
     "text": [
      "0.999433651532\n",
      "\n",
      "[(1275.0, 1275.0), (1100.0, 1050.0), (550.0, 550.0)]\n",
      "\n",
      "0.0\n"
     ]
    }
   ],
   "source": [
    "#Decision Tree\n",
    "\n",
    "tree = sklearn.tree.DecisionTreeRegressor()\n",
    "tree.fit(train_x, train_y)\n",
    "print tree.score(train_x, train_y)\n",
    "print\n",
    "\n",
    "prediction = tree.predict(test_x)\n",
    "print zip(test_y, prediction)\n",
    "print\n",
    "\n",
    "print sklearn.metrics.median_absolute_error(test_y, prediction)\n"
   ]
  },
  {
   "cell_type": "markdown",
   "metadata": {},
   "source": [
    "#### Gridsearch"
   ]
  },
  {
   "cell_type": "code",
   "execution_count": null,
   "metadata": {
    "collapsed": true
   },
   "outputs": [],
   "source": []
  }
 ],
 "metadata": {
  "kernelspec": {
   "display_name": "Python 2",
   "language": "python",
   "name": "python2"
  },
  "language_info": {
   "codemirror_mode": {
    "name": "ipython",
    "version": 2
   },
   "file_extension": ".py",
   "mimetype": "text/x-python",
   "name": "python",
   "nbconvert_exporter": "python",
   "pygments_lexer": "ipython2",
   "version": "2.7.12"
  }
 },
 "nbformat": 4,
 "nbformat_minor": 0
}
