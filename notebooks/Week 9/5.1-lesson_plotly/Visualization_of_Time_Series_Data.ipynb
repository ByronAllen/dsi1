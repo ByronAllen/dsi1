{
 "cells": [
  {
   "cell_type": "code",
   "execution_count": 1,
   "metadata": {
    "collapsed": true
   },
   "outputs": [],
   "source": [
    "#import plotly.plotly as py\n",
    "#py.sign_in('Your_USERNAME', 'Your_API_KEY)"
   ]
  },
  {
   "cell_type": "markdown",
   "metadata": {},
   "source": [
    "### Time Series Plot with datetime Objects"
   ]
  },
  {
   "cell_type": "code",
   "execution_count": 2,
   "metadata": {
    "collapsed": false
   },
   "outputs": [
    {
     "data": {
      "text/html": [
       "<iframe id=\"igraph\" scrolling=\"no\" style=\"border:none;\" seamless=\"seamless\" src=\"https://plot.ly/~Thams007/28.embed\" height=\"525px\" width=\"100%\"></iframe>"
      ],
      "text/plain": [
       "<plotly.tools.PlotlyDisplay object>"
      ]
     },
     "execution_count": 2,
     "metadata": {},
     "output_type": "execute_result"
    }
   ],
   "source": [
    "import plotly.plotly as py\n",
    "import plotly.graph_objs as go\n",
    "\n",
    "from datetime import datetime\n",
    "x = [datetime(year=2016, month=10, day=4),\n",
    "     datetime(year=2016, month=11, day=5),\n",
    "     datetime(year=2016, month=12, day=6)]\n",
    "\n",
    "data = [go.Scatter(x=x,y=[1, 3, 6])]\n",
    "py.iplot(data)"
   ]
  },
  {
   "cell_type": "markdown",
   "metadata": {},
   "source": [
    "### Date Strings"
   ]
  },
  {
   "cell_type": "code",
   "execution_count": 3,
   "metadata": {
    "collapsed": false
   },
   "outputs": [
    {
     "data": {
      "text/html": [
       "<iframe id=\"igraph\" scrolling=\"no\" style=\"border:none;\" seamless=\"seamless\" src=\"https://plot.ly/~Thams007/30.embed\" height=\"525px\" width=\"100%\"></iframe>"
      ],
      "text/plain": [
       "<plotly.tools.PlotlyDisplay object>"
      ]
     },
     "execution_count": 3,
     "metadata": {},
     "output_type": "execute_result"
    }
   ],
   "source": [
    "data = [go.Scatter(\n",
    "          x=['2016-10-04 22:23:00', \n",
    "             '2016-11-04 22:23:00', \n",
    "             '2016-12-04 22:23:00'],\n",
    "          y=[1, 3, 6])]\n",
    "py.iplot(data)"
   ]
  },
  {
   "cell_type": "markdown",
   "metadata": {},
   "source": [
    "### Time Series Plot with Custom Date Range"
   ]
  },
  {
   "cell_type": "code",
   "execution_count": 4,
   "metadata": {
    "collapsed": false
   },
   "outputs": [
    {
     "data": {
      "text/html": [
       "<iframe id=\"igraph\" scrolling=\"no\" style=\"border:none;\" seamless=\"seamless\" src=\"https://plot.ly/~Thams007/32.embed\" height=\"525px\" width=\"100%\"></iframe>"
      ],
      "text/plain": [
       "<plotly.tools.PlotlyDisplay object>"
      ]
     },
     "execution_count": 4,
     "metadata": {},
     "output_type": "execute_result"
    }
   ],
   "source": [
    "import datetime\n",
    "\n",
    "def to_unix_time(dt):\n",
    "    epoch =  datetime.datetime.utcfromtimestamp(0)\n",
    "    return (dt - epoch).total_seconds() * 1000\n",
    "\n",
    "x = [datetime.datetime(year=2016, month=10, day=4),\n",
    "    datetime.datetime(year=2016, month=11, day=5),\n",
    "    datetime.datetime(year=2016, month=12, day=6)]\n",
    "data = [go.Scatter(\n",
    "            x=x,\n",
    "            y=[1, 3, 6])]\n",
    "\n",
    "layout = go.Layout(xaxis = dict(\n",
    "                   range = [to_unix_time(datetime.datetime(2016, 10, 2)),\n",
    "                            to_unix_time(datetime.datetime(2016, 11, 20))]\n",
    "    ))\n",
    "\n",
    "fig = go.Figure(data = data, layout = layout)\n",
    "py.iplot(fig)"
   ]
  },
  {
   "cell_type": "markdown",
   "metadata": {},
   "source": [
    "### Basic Time Series"
   ]
  },
  {
   "cell_type": "code",
   "execution_count": 5,
   "metadata": {
    "collapsed": false
   },
   "outputs": [
    {
     "data": {
      "text/html": [
       "<div>\n",
       "<table border=\"1\" class=\"dataframe\">\n",
       "  <thead>\n",
       "    <tr style=\"text-align: right;\">\n",
       "      <th></th>\n",
       "      <th>Date</th>\n",
       "      <th>Open</th>\n",
       "      <th>High</th>\n",
       "      <th>Low</th>\n",
       "      <th>Close</th>\n",
       "      <th>Volume</th>\n",
       "      <th>Adj Close</th>\n",
       "    </tr>\n",
       "  </thead>\n",
       "  <tbody>\n",
       "    <tr>\n",
       "      <th>0</th>\n",
       "      <td>2015-12-01</td>\n",
       "      <td>747.109985</td>\n",
       "      <td>775.955017</td>\n",
       "      <td>745.630005</td>\n",
       "      <td>762.369995</td>\n",
       "      <td>2519600</td>\n",
       "      <td>762.369995</td>\n",
       "    </tr>\n",
       "    <tr>\n",
       "      <th>1</th>\n",
       "      <td>2015-11-02</td>\n",
       "      <td>711.059998</td>\n",
       "      <td>762.708008</td>\n",
       "      <td>705.849976</td>\n",
       "      <td>742.599976</td>\n",
       "      <td>1795300</td>\n",
       "      <td>742.599976</td>\n",
       "    </tr>\n",
       "    <tr>\n",
       "      <th>2</th>\n",
       "      <td>2015-10-01</td>\n",
       "      <td>608.369995</td>\n",
       "      <td>730.000000</td>\n",
       "      <td>599.849976</td>\n",
       "      <td>710.809998</td>\n",
       "      <td>2337100</td>\n",
       "      <td>710.809998</td>\n",
       "    </tr>\n",
       "    <tr>\n",
       "      <th>3</th>\n",
       "      <td>2015-09-01</td>\n",
       "      <td>602.359985</td>\n",
       "      <td>650.900024</td>\n",
       "      <td>589.380005</td>\n",
       "      <td>608.419983</td>\n",
       "      <td>2398400</td>\n",
       "      <td>608.419983</td>\n",
       "    </tr>\n",
       "    <tr>\n",
       "      <th>4</th>\n",
       "      <td>2015-08-03</td>\n",
       "      <td>625.340027</td>\n",
       "      <td>674.900024</td>\n",
       "      <td>565.049988</td>\n",
       "      <td>618.250000</td>\n",
       "      <td>2661600</td>\n",
       "      <td>618.250000</td>\n",
       "    </tr>\n",
       "  </tbody>\n",
       "</table>\n",
       "</div>"
      ],
      "text/plain": [
       "         Date        Open        High         Low       Close   Volume  \\\n",
       "0  2015-12-01  747.109985  775.955017  745.630005  762.369995  2519600   \n",
       "1  2015-11-02  711.059998  762.708008  705.849976  742.599976  1795300   \n",
       "2  2015-10-01  608.369995  730.000000  599.849976  710.809998  2337100   \n",
       "3  2015-09-01  602.359985  650.900024  589.380005  608.419983  2398400   \n",
       "4  2015-08-03  625.340027  674.900024  565.049988  618.250000  2661600   \n",
       "\n",
       "    Adj Close  \n",
       "0  762.369995  \n",
       "1  742.599976  \n",
       "2  710.809998  \n",
       "3  608.419983  \n",
       "4  618.250000  "
      ]
     },
     "execution_count": 5,
     "metadata": {},
     "output_type": "execute_result"
    }
   ],
   "source": [
    "import pandas as pd\n",
    "\n",
    "df = pd.read_csv('../../assets/datasets/goog.csv')\n",
    "df.head()"
   ]
  },
  {
   "cell_type": "code",
   "execution_count": 6,
   "metadata": {
    "collapsed": false
   },
   "outputs": [
    {
     "data": {
      "text/html": [
       "<iframe id=\"igraph\" scrolling=\"no\" style=\"border:none;\" seamless=\"seamless\" src=\"https://plot.ly/~Thams007/12.embed\" height=\"525px\" width=\"100%\"></iframe>"
      ],
      "text/plain": [
       "<plotly.tools.PlotlyDisplay object>"
      ]
     },
     "execution_count": 6,
     "metadata": {},
     "output_type": "execute_result"
    }
   ],
   "source": [
    "trace = go.Scatter( x=df['Date'], y=df['Volume'] )\n",
    "data = [trace]\n",
    "\n",
    "py.iplot(data, filename='pandas-time-series')"
   ]
  },
  {
   "cell_type": "markdown",
   "metadata": {},
   "source": [
    "### Time Series with Error Bars"
   ]
  },
  {
   "cell_type": "code",
   "execution_count": 7,
   "metadata": {
    "collapsed": false
   },
   "outputs": [
    {
     "data": {
      "text/html": [
       "<div>\n",
       "<table border=\"1\" class=\"dataframe\">\n",
       "  <thead>\n",
       "    <tr style=\"text-align: right;\">\n",
       "      <th></th>\n",
       "      <th>10 Min Std Dev</th>\n",
       "      <th>Time</th>\n",
       "      <th>10 Min Sampled Avg</th>\n",
       "    </tr>\n",
       "  </thead>\n",
       "  <tbody>\n",
       "    <tr>\n",
       "      <th>0</th>\n",
       "      <td>2.73</td>\n",
       "      <td>2001-06-11 11:00</td>\n",
       "      <td>22.3</td>\n",
       "    </tr>\n",
       "    <tr>\n",
       "      <th>1</th>\n",
       "      <td>1.98</td>\n",
       "      <td>2001-06-11 11:10</td>\n",
       "      <td>23.0</td>\n",
       "    </tr>\n",
       "    <tr>\n",
       "      <th>2</th>\n",
       "      <td>1.87</td>\n",
       "      <td>2001-06-11 11:20</td>\n",
       "      <td>23.3</td>\n",
       "    </tr>\n",
       "    <tr>\n",
       "      <th>3</th>\n",
       "      <td>2.03</td>\n",
       "      <td>2001-06-11 11:30</td>\n",
       "      <td>22.0</td>\n",
       "    </tr>\n",
       "    <tr>\n",
       "      <th>4</th>\n",
       "      <td>3.10</td>\n",
       "      <td>2001-06-11 11:40</td>\n",
       "      <td>20.5</td>\n",
       "    </tr>\n",
       "  </tbody>\n",
       "</table>\n",
       "</div>"
      ],
      "text/plain": [
       "   10 Min Std Dev              Time  10 Min Sampled Avg\n",
       "0            2.73  2001-06-11 11:00                22.3\n",
       "1            1.98  2001-06-11 11:10                23.0\n",
       "2            1.87  2001-06-11 11:20                23.3\n",
       "3            2.03  2001-06-11 11:30                22.0\n",
       "4            3.10  2001-06-11 11:40                20.5"
      ]
     },
     "execution_count": 7,
     "metadata": {},
     "output_type": "execute_result"
    }
   ],
   "source": [
    "df = pd.read_csv('https://raw.githubusercontent.com/plotly/datasets/master/wind_speed_laurel_nebraska.csv')\n",
    "df.head()"
   ]
  },
  {
   "cell_type": "code",
   "execution_count": 8,
   "metadata": {
    "collapsed": false
   },
   "outputs": [
    {
     "data": {
      "text/html": [
       "<iframe id=\"igraph\" scrolling=\"no\" style=\"border:none;\" seamless=\"seamless\" src=\"https://plot.ly/~Thams007/26.embed\" height=\"525px\" width=\"100%\"></iframe>"
      ],
      "text/plain": [
       "<plotly.tools.PlotlyDisplay object>"
      ]
     },
     "execution_count": 8,
     "metadata": {},
     "output_type": "execute_result"
    }
   ],
   "source": [
    "upper_bound = go.Scatter(\n",
    "    name='Upper Bound',\n",
    "    x=df['Time'],\n",
    "    y=df['10 Min Sampled Avg']+df['10 Min Std Dev'],\n",
    "    mode='lines',\n",
    "    marker=dict(color=\"444\"),\n",
    "    line=dict(width=0),\n",
    "    fillcolor='rgba(68, 68, 68, 0.3)',\n",
    "    fill='tonexty' )\n",
    "\n",
    "trace = go.Scatter(\n",
    "    name='Measurement',\n",
    "    x=df['Time'],\n",
    "    y=df['10 Min Sampled Avg'],\n",
    "    mode='lines',\n",
    "    line=dict(color='rgb(31, 119, 180)'),\n",
    "    fillcolor='rgba(68, 68, 68, 0.3)',\n",
    "    fill='tonexty' )\n",
    "\n",
    "lower_bound = go.Scatter(\n",
    "    name='Lower Bound',\n",
    "    x=df['Time'],\n",
    "    y=df['10 Min Sampled Avg']-df['10 Min Std Dev'],\n",
    "    marker=dict(color=\"444\"),\n",
    "    line=dict(width=0),\n",
    "    mode='lines' )\n",
    "\n",
    "# Trace order can be important\n",
    "# with continuous error bars\n",
    "data = [lower_bound, trace, upper_bound]\n",
    "\n",
    "layout = go.Layout(\n",
    "    yaxis=dict(title='Wind speed (m/s)'),\n",
    "    title='Continuous, variable value error bars Notice the hover text!',\n",
    "    showlegend = False)\n",
    "fig = go.Figure(data=data, layout=layout)\n",
    "\n",
    "py.iplot(fig, filename='pandas-time-series-error-bars')"
   ]
  }
 ],
 "metadata": {
  "kernelspec": {
   "display_name": "Python [Root]",
   "language": "python",
   "name": "Python [Root]"
  },
  "language_info": {
   "codemirror_mode": {
    "name": "ipython",
    "version": 2
   },
   "file_extension": ".py",
   "mimetype": "text/x-python",
   "name": "python",
   "nbconvert_exporter": "python",
   "pygments_lexer": "ipython2",
   "version": "2.7.12"
  }
 },
 "nbformat": 4,
 "nbformat_minor": 1
}
