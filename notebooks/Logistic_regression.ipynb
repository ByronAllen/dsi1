{
 "cells": [
  {
   "cell_type": "markdown",
   "metadata": {},
   "source": [
    "# Logistic Regression\n",
    "\n",
    "The FBI have a [forensic glass service](https://www.fbi.gov/about-us/lab/forensic-science-communications/fsc/april2009/review/2009_04_review01.htm). They have a large database of the chemical composition of many types of glass, and what the glass was used for.\n",
    "\n",
    "- 1 building_windows_float_processed \n",
    "- 2 building_windows_non_float_processed \n",
    "- 3 vehicle_windows_float_processed \n",
    "- 4 vehicle_windows_non_float_processed (none in this database) \n",
    "- 5 containers \n",
    "- 6 tableware \n",
    "- 7 headlamps\n",
    "\n",
    "They analysed these glassware products for their refractive index (ri) and the composition of various elements (Na, Fe, K, etc).\n",
    "\n",
    "The raw spreadsheet has no column headers, so we have to supply them ourselves"
   ]
  },
  {
   "cell_type": "code",
   "execution_count": 2,
   "metadata": {
    "collapsed": false
   },
   "outputs": [],
   "source": [
    "import pandas as pd\n",
    "url = 'http://archive.ics.uci.edu/ml/machine-learning-databases/glass/glass.data'\n",
    "col_names = ['id','ri','na','mg','al','si','k','ca','ba','fe','glass_type']\n",
    "glass = pd.read_csv(url, names=col_names, index_col='id')\n"
   ]
  },
  {
   "cell_type": "code",
   "execution_count": 3,
   "metadata": {
    "collapsed": false
   },
   "outputs": [
    {
     "data": {
      "text/html": [
       "<div>\n",
       "<table border=\"1\" class=\"dataframe\">\n",
       "  <thead>\n",
       "    <tr style=\"text-align: right;\">\n",
       "      <th></th>\n",
       "      <th>ri</th>\n",
       "      <th>na</th>\n",
       "      <th>mg</th>\n",
       "      <th>al</th>\n",
       "      <th>si</th>\n",
       "      <th>k</th>\n",
       "      <th>ca</th>\n",
       "      <th>ba</th>\n",
       "      <th>fe</th>\n",
       "      <th>glass_type</th>\n",
       "    </tr>\n",
       "    <tr>\n",
       "      <th>id</th>\n",
       "      <th></th>\n",
       "      <th></th>\n",
       "      <th></th>\n",
       "      <th></th>\n",
       "      <th></th>\n",
       "      <th></th>\n",
       "      <th></th>\n",
       "      <th></th>\n",
       "      <th></th>\n",
       "      <th></th>\n",
       "    </tr>\n",
       "  </thead>\n",
       "  <tbody>\n",
       "    <tr>\n",
       "      <th>1</th>\n",
       "      <td>1.52101</td>\n",
       "      <td>13.64</td>\n",
       "      <td>4.49</td>\n",
       "      <td>1.10</td>\n",
       "      <td>71.78</td>\n",
       "      <td>0.06</td>\n",
       "      <td>8.75</td>\n",
       "      <td>0.0</td>\n",
       "      <td>0.0</td>\n",
       "      <td>1</td>\n",
       "    </tr>\n",
       "    <tr>\n",
       "      <th>2</th>\n",
       "      <td>1.51761</td>\n",
       "      <td>13.89</td>\n",
       "      <td>3.60</td>\n",
       "      <td>1.36</td>\n",
       "      <td>72.73</td>\n",
       "      <td>0.48</td>\n",
       "      <td>7.83</td>\n",
       "      <td>0.0</td>\n",
       "      <td>0.0</td>\n",
       "      <td>1</td>\n",
       "    </tr>\n",
       "    <tr>\n",
       "      <th>3</th>\n",
       "      <td>1.51618</td>\n",
       "      <td>13.53</td>\n",
       "      <td>3.55</td>\n",
       "      <td>1.54</td>\n",
       "      <td>72.99</td>\n",
       "      <td>0.39</td>\n",
       "      <td>7.78</td>\n",
       "      <td>0.0</td>\n",
       "      <td>0.0</td>\n",
       "      <td>1</td>\n",
       "    </tr>\n",
       "    <tr>\n",
       "      <th>4</th>\n",
       "      <td>1.51766</td>\n",
       "      <td>13.21</td>\n",
       "      <td>3.69</td>\n",
       "      <td>1.29</td>\n",
       "      <td>72.61</td>\n",
       "      <td>0.57</td>\n",
       "      <td>8.22</td>\n",
       "      <td>0.0</td>\n",
       "      <td>0.0</td>\n",
       "      <td>1</td>\n",
       "    </tr>\n",
       "    <tr>\n",
       "      <th>5</th>\n",
       "      <td>1.51742</td>\n",
       "      <td>13.27</td>\n",
       "      <td>3.62</td>\n",
       "      <td>1.24</td>\n",
       "      <td>73.08</td>\n",
       "      <td>0.55</td>\n",
       "      <td>8.07</td>\n",
       "      <td>0.0</td>\n",
       "      <td>0.0</td>\n",
       "      <td>1</td>\n",
       "    </tr>\n",
       "  </tbody>\n",
       "</table>\n",
       "</div>"
      ],
      "text/plain": [
       "         ri     na    mg    al     si     k    ca   ba   fe  glass_type\n",
       "id                                                                     \n",
       "1   1.52101  13.64  4.49  1.10  71.78  0.06  8.75  0.0  0.0           1\n",
       "2   1.51761  13.89  3.60  1.36  72.73  0.48  7.83  0.0  0.0           1\n",
       "3   1.51618  13.53  3.55  1.54  72.99  0.39  7.78  0.0  0.0           1\n",
       "4   1.51766  13.21  3.69  1.29  72.61  0.57  8.22  0.0  0.0           1\n",
       "5   1.51742  13.27  3.62  1.24  73.08  0.55  8.07  0.0  0.0           1"
      ]
     },
     "execution_count": 3,
     "metadata": {},
     "output_type": "execute_result"
    }
   ],
   "source": [
    "glass.head()"
   ]
  },
  {
   "cell_type": "markdown",
   "metadata": {},
   "source": [
    "Pretend we are investigating a crime scene, and we want to know what the probability is that some\n",
    "glass fragments we have found came from a car or vehicle vs some kind of assorted glassware.\n",
    "\n",
    "Remember that a pandas Series has a method .map() . You can use a function for this, or you can use a dictionary.\n",
    "\n"
   ]
  },
  {
   "cell_type": "code",
   "execution_count": 4,
   "metadata": {
    "collapsed": true
   },
   "outputs": [],
   "source": [
    "# Create a python language dictionary that which has the value 0 for the keys 1,2,3 and 4; and has the \n",
    "# value 1 for the keys 5, 6 and 7\n",
    "\n",
    "dictionary = {1:0,2:0,3:0,4:0,5:1,6:1,7:1}"
   ]
  },
  {
   "cell_type": "code",
   "execution_count": 5,
   "metadata": {
    "collapsed": false
   },
   "outputs": [],
   "source": [
    "# Create a new column in the \"glass\" data frame my calling glass.glass_type.map() with your dictionary as an argument\n",
    "\n",
    "glass['assorted'] = glass.glass_type.map(dictionary)"
   ]
  },
  {
   "cell_type": "code",
   "execution_count": 6,
   "metadata": {
    "collapsed": false
   },
   "outputs": [
    {
     "data": {
      "text/html": [
       "<div>\n",
       "<table border=\"1\" class=\"dataframe\">\n",
       "  <thead>\n",
       "    <tr style=\"text-align: right;\">\n",
       "      <th></th>\n",
       "      <th>ri</th>\n",
       "      <th>na</th>\n",
       "      <th>mg</th>\n",
       "      <th>al</th>\n",
       "      <th>si</th>\n",
       "      <th>k</th>\n",
       "      <th>ca</th>\n",
       "      <th>ba</th>\n",
       "      <th>fe</th>\n",
       "      <th>glass_type</th>\n",
       "      <th>assorted</th>\n",
       "    </tr>\n",
       "    <tr>\n",
       "      <th>id</th>\n",
       "      <th></th>\n",
       "      <th></th>\n",
       "      <th></th>\n",
       "      <th></th>\n",
       "      <th></th>\n",
       "      <th></th>\n",
       "      <th></th>\n",
       "      <th></th>\n",
       "      <th></th>\n",
       "      <th></th>\n",
       "      <th></th>\n",
       "    </tr>\n",
       "  </thead>\n",
       "  <tbody>\n",
       "    <tr>\n",
       "      <th>210</th>\n",
       "      <td>1.51623</td>\n",
       "      <td>14.14</td>\n",
       "      <td>0.0</td>\n",
       "      <td>2.88</td>\n",
       "      <td>72.61</td>\n",
       "      <td>0.08</td>\n",
       "      <td>9.18</td>\n",
       "      <td>1.06</td>\n",
       "      <td>0.0</td>\n",
       "      <td>7</td>\n",
       "      <td>1</td>\n",
       "    </tr>\n",
       "    <tr>\n",
       "      <th>211</th>\n",
       "      <td>1.51685</td>\n",
       "      <td>14.92</td>\n",
       "      <td>0.0</td>\n",
       "      <td>1.99</td>\n",
       "      <td>73.06</td>\n",
       "      <td>0.00</td>\n",
       "      <td>8.40</td>\n",
       "      <td>1.59</td>\n",
       "      <td>0.0</td>\n",
       "      <td>7</td>\n",
       "      <td>1</td>\n",
       "    </tr>\n",
       "    <tr>\n",
       "      <th>212</th>\n",
       "      <td>1.52065</td>\n",
       "      <td>14.36</td>\n",
       "      <td>0.0</td>\n",
       "      <td>2.02</td>\n",
       "      <td>73.42</td>\n",
       "      <td>0.00</td>\n",
       "      <td>8.44</td>\n",
       "      <td>1.64</td>\n",
       "      <td>0.0</td>\n",
       "      <td>7</td>\n",
       "      <td>1</td>\n",
       "    </tr>\n",
       "    <tr>\n",
       "      <th>213</th>\n",
       "      <td>1.51651</td>\n",
       "      <td>14.38</td>\n",
       "      <td>0.0</td>\n",
       "      <td>1.94</td>\n",
       "      <td>73.61</td>\n",
       "      <td>0.00</td>\n",
       "      <td>8.48</td>\n",
       "      <td>1.57</td>\n",
       "      <td>0.0</td>\n",
       "      <td>7</td>\n",
       "      <td>1</td>\n",
       "    </tr>\n",
       "    <tr>\n",
       "      <th>214</th>\n",
       "      <td>1.51711</td>\n",
       "      <td>14.23</td>\n",
       "      <td>0.0</td>\n",
       "      <td>2.08</td>\n",
       "      <td>73.36</td>\n",
       "      <td>0.00</td>\n",
       "      <td>8.62</td>\n",
       "      <td>1.67</td>\n",
       "      <td>0.0</td>\n",
       "      <td>7</td>\n",
       "      <td>1</td>\n",
       "    </tr>\n",
       "  </tbody>\n",
       "</table>\n",
       "</div>"
      ],
      "text/plain": [
       "          ri     na   mg    al     si     k    ca    ba   fe  glass_type  \\\n",
       "id                                                                         \n",
       "210  1.51623  14.14  0.0  2.88  72.61  0.08  9.18  1.06  0.0           7   \n",
       "211  1.51685  14.92  0.0  1.99  73.06  0.00  8.40  1.59  0.0           7   \n",
       "212  1.52065  14.36  0.0  2.02  73.42  0.00  8.44  1.64  0.0           7   \n",
       "213  1.51651  14.38  0.0  1.94  73.61  0.00  8.48  1.57  0.0           7   \n",
       "214  1.51711  14.23  0.0  2.08  73.36  0.00  8.62  1.67  0.0           7   \n",
       "\n",
       "     assorted  \n",
       "id             \n",
       "210         1  \n",
       "211         1  \n",
       "212         1  \n",
       "213         1  \n",
       "214         1  "
      ]
     },
     "execution_count": 6,
     "metadata": {},
     "output_type": "execute_result"
    }
   ],
   "source": [
    "# Make sure that this data looks right (e.g. use the head() method and look at it)\n",
    "glass.tail()"
   ]
  },
  {
   "cell_type": "markdown",
   "metadata": {},
   "source": [
    "Let's try to predict **assorted** using **al**. Let's visualize the relationship to figure out how to do this:"
   ]
  },
  {
   "cell_type": "code",
   "execution_count": 7,
   "metadata": {
    "collapsed": false
   },
   "outputs": [
    {
     "data": {
      "text/plain": [
       "<matplotlib.collections.PathCollection at 0x11be0cc10>"
      ]
     },
     "execution_count": 7,
     "metadata": {},
     "output_type": "execute_result"
    },
    {
     "data": {
      "image/png": "[encoded data removed]",
      "text/plain": [
       "<matplotlib.figure.Figure at 0x1199ea450>"
      ]
     },
     "metadata": {},
     "output_type": "display_data"
    }
   ],
   "source": [
    "# Do a scatter plot of *al* on the x-axis, and *assorted* on the y-axis.\n",
    "\n",
    "import matplotlib.pyplot as plt\n",
    "%matplotlib inline\n",
    "\n",
    "x=glass.al\n",
    "y=glass.assorted\n",
    "\n",
    "plt.figure()\n",
    "axes = plt.gca()\n",
    "plt.grid(True)\n",
    "\n",
    "axes.scatter(x,y, s= 25, c='r')\n"
   ]
  },
  {
   "cell_type": "code",
   "execution_count": 8,
   "metadata": {
    "collapsed": false
   },
   "outputs": [],
   "source": [
    "# create a logistic regression model with incredibly weak regularisation\n",
    "from sklearn.linear_model import LogisticRegression\n",
    "logreg = LogisticRegression(C=1e9)"
   ]
  },
  {
   "cell_type": "code",
   "execution_count": 9,
   "metadata": {
    "collapsed": false
   },
   "outputs": [
    {
     "data": {
      "text/plain": [
       "LogisticRegression(C=1000000000.0, class_weight=None, dual=False,\n",
       "          fit_intercept=True, intercept_scaling=1, max_iter=100,\n",
       "          multi_class='ovr', n_jobs=1, penalty='l2', random_state=None,\n",
       "          solver='liblinear', tol=0.0001, verbose=0, warm_start=False)"
      ]
     },
     "execution_count": 9,
     "metadata": {},
     "output_type": "execute_result"
    }
   ],
   "source": [
    "# use logreg to fit the data. You will need an X using the *al* column, and a Y of the *assorted* column\n",
    "\n",
    "x=glass[['al']]\n",
    "y=glass.assorted\n",
    "\n",
    "logreg.fit(x,y)"
   ]
  },
  {
   "cell_type": "code",
   "execution_count": 10,
   "metadata": {
    "collapsed": false
   },
   "outputs": [],
   "source": [
    "# use this regressor to predict from your X data\n",
    "\n",
    "prediction_from_al_as_x = logreg.predict(x)"
   ]
  },
  {
   "cell_type": "code",
   "execution_count": 11,
   "metadata": {
    "collapsed": false
   },
   "outputs": [
    {
     "data": {
      "text/plain": [
       "<matplotlib.collections.PathCollection at 0x11e325290>"
      ]
     },
     "execution_count": 11,
     "metadata": {},
     "output_type": "execute_result"
    },
    {
     "data": {
      "image/png": "[encoded data removed]",
      "text/plain": [
       "<matplotlib.figure.Figure at 0x11e2992d0>"
      ]
     },
     "metadata": {},
     "output_type": "display_data"
    }
   ],
   "source": [
    "# plot the class predictions on top of the actual data\n",
    "\n",
    "plt.figure()\n",
    "axes = plt.gca()\n",
    "plt.grid(True)\n",
    "\n",
    "axes.scatter(x,y, s= 50, c='g')\n",
    "axes.scatter(x,prediction_from_al_as_x, s= 150, c='r', alpha=0.15)"
   ]
  },
  {
   "cell_type": "code",
   "execution_count": 12,
   "metadata": {
    "collapsed": true
   },
   "outputs": [],
   "source": [
    "prediction_proba_from_al_as_x = logreg.predict_proba(x)"
   ]
  },
  {
   "cell_type": "code",
   "execution_count": 13,
   "metadata": {
    "collapsed": false
   },
   "outputs": [
    {
     "data": {
      "text/plain": [
       "<matplotlib.collections.PathCollection at 0x11e535690>"
      ]
     },
     "execution_count": 13,
     "metadata": {},
     "output_type": "execute_result"
    },
    {
     "data": {
      "image/png": "[encoded data removed]",
      "text/plain": [
       "<matplotlib.figure.Figure at 0x11e363450>"
      ]
     },
     "metadata": {},
     "output_type": "display_data"
    }
   ],
   "source": [
    "plt.figure()\n",
    "axes = plt.gca()\n",
    "plt.grid(True)\n",
    "\n",
    "axes.scatter(x,y, s= 50, c='g')\n",
    "axes.scatter(x,prediction_from_al_as_x, s= 150, c='r', alpha=0.15)"
   ]
  },
  {
   "cell_type": "code",
   "execution_count": 14,
   "metadata": {
    "collapsed": false
   },
   "outputs": [
    {
     "data": {
      "text/plain": [
       "<matplotlib.collections.PathCollection at 0x11f06acd0>"
      ]
     },
     "execution_count": 14,
     "metadata": {},
     "output_type": "execute_result"
    },
    {
     "data": {
      "image/png": "[encoded data removed]",
      "text/plain": [
       "<matplotlib.figure.Figure at 0x11e3a0f90>"
      ]
     },
     "metadata": {},
     "output_type": "display_data"
    }
   ],
   "source": [
    "plt.figure()\n",
    "axes = plt.gca()\n",
    "plt.grid(True)\n",
    "\n",
    "axes.scatter(x,prediction_proba_from_al_as_x[:,0], s= 150, c='g', alpha=0.15)\n",
    "axes.scatter(x,prediction_proba_from_al_as_x[:,1], s= 150, c='r', alpha=0.15)"
   ]
  },
  {
   "cell_type": "code",
   "execution_count": 36,
   "metadata": {
    "collapsed": false
   },
   "outputs": [
    {
     "data": {
      "text/plain": [
       "array([[  9.57512963e-01,   4.24870368e-02],\n",
       "       [  8.83729869e-01,   1.16270131e-01],\n",
       "       [  7.81727605e-01,   2.18272395e-01],\n",
       "       [  9.10590269e-01,   8.94097310e-02],\n",
       "       [  9.26210406e-01,   7.37895944e-02],\n",
       "       [  7.19368281e-01,   2.80631719e-01],\n",
       "       [  9.50165283e-01,   4.98347166e-02],\n",
       "       [  9.65248419e-01,   3.47515807e-02],\n",
       "       [  8.79365064e-01,   1.20634936e-01],\n",
       "       [  8.83729869e-01,   1.16270131e-01],\n",
       "       [  7.67126168e-01,   2.32873832e-01],\n",
       "       [  9.17167650e-01,   8.28323504e-02],\n",
       "       [  8.65415687e-01,   1.34584313e-01],\n",
       "       [  9.17167650e-01,   8.28323504e-02],\n",
       "       [  9.03545531e-01,   9.64544686e-02],\n",
       "       [  9.29017074e-01,   7.09829263e-02],\n",
       "       [  9.46053995e-01,   5.39460046e-02],\n",
       "       [  9.81890179e-01,   1.81098214e-02],\n",
       "       [  9.41624370e-01,   5.83756296e-02],\n",
       "       [  6.56717894e-01,   3.43282106e-01],\n",
       "       [  8.15293899e-01,   1.84706101e-01],\n",
       "       [  9.98500716e-01,   1.49928375e-03],\n",
       "       [  9.10590269e-01,   8.94097310e-02],\n",
       "       [  8.87956869e-01,   1.12043131e-01],\n",
       "       [  9.48148145e-01,   5.18518549e-02],\n",
       "       [  9.34336646e-01,   6.56633537e-02],\n",
       "       [  8.60471912e-01,   1.39528088e-01],\n",
       "       [  8.96009117e-01,   1.03990883e-01],\n",
       "       [  8.50128209e-01,   1.49871791e-01],\n",
       "       [  9.13935859e-01,   8.60641409e-02],\n",
       "       [  9.07127841e-01,   9.28721593e-02],\n",
       "       [  9.50165283e-01,   4.98347166e-02],\n",
       "       [  9.29017074e-01,   7.09829263e-02],\n",
       "       [  8.74859606e-01,   1.25140394e-01],\n",
       "       [  8.92048969e-01,   1.07951031e-01],\n",
       "       [  9.34336646e-01,   6.56633537e-02],\n",
       "       [  8.99840300e-01,   1.00159700e-01],\n",
       "       [  8.87956869e-01,   1.12043131e-01],\n",
       "       [  9.96823503e-01,   3.17649710e-03],\n",
       "       [  9.96823503e-01,   3.17649710e-03],\n",
       "       [  9.53978487e-01,   4.60215126e-02],\n",
       "       [  9.36855296e-01,   6.31447038e-02],\n",
       "       [  8.96009117e-01,   1.03990883e-01],\n",
       "       [  9.91019634e-01,   8.98036595e-03],\n",
       "       [  9.39283616e-01,   6.07163838e-02],\n",
       "       [  8.87956869e-01,   1.12043131e-01],\n",
       "       [  9.41624370e-01,   5.83756296e-02],\n",
       "       [  9.91384143e-01,   8.61585697e-03],\n",
       "       [  9.88003431e-01,   1.19965694e-02],\n",
       "       [  9.29017074e-01,   7.09829263e-02],\n",
       "       [  9.96247519e-01,   3.75248098e-03],\n",
       "       [  9.13935859e-01,   8.60641409e-02],\n",
       "       [  9.39283616e-01,   6.07163838e-02],\n",
       "       [  9.13935859e-01,   8.60641409e-02],\n",
       "       [  9.10590269e-01,   8.94097310e-02],\n",
       "       [  9.10590269e-01,   8.94097310e-02],\n",
       "       [  9.53978487e-01,   4.60215126e-02],\n",
       "       [  9.10590269e-01,   8.94097310e-02],\n",
       "       [  9.43880275e-01,   5.61197250e-02],\n",
       "       [  9.39283616e-01,   6.07163838e-02],\n",
       "       [  9.55779392e-01,   4.42206077e-02],\n",
       "       [  8.99840300e-01,   1.00159700e-01],\n",
       "       [  9.82618749e-01,   1.73812512e-02],\n",
       "       [  9.88488944e-01,   1.15110561e-02],\n",
       "       [  9.81131655e-01,   1.88683448e-02],\n",
       "       [  9.53978487e-01,   4.60215126e-02],\n",
       "       [  9.83318506e-01,   1.66814938e-02],\n",
       "       [  9.83318506e-01,   1.66814938e-02],\n",
       "       [  9.81131655e-01,   1.88683448e-02],\n",
       "       [  9.86422267e-01,   1.35777334e-02],\n",
       "       [  6.08183201e-01,   3.91816799e-01],\n",
       "       [  9.17167650e-01,   8.28323504e-02],\n",
       "       [  7.95657389e-01,   2.04342611e-01],\n",
       "       [  7.59574919e-01,   2.40425081e-01],\n",
       "       [  7.81727605e-01,   2.18272395e-01],\n",
       "       [  8.02370224e-01,   1.97629776e-01],\n",
       "       [  7.81727605e-01,   2.18272395e-01],\n",
       "       [  7.81727605e-01,   2.18272395e-01],\n",
       "       [  9.23301924e-01,   7.66980762e-02],\n",
       "       [  4.42953766e-01,   5.57046234e-01],\n",
       "       [  2.40695233e-01,   7.59304767e-01],\n",
       "       [  8.50128209e-01,   1.49871791e-01],\n",
       "       [  9.23301924e-01,   7.66980762e-02],\n",
       "       [  7.74510655e-01,   2.25489345e-01],\n",
       "       [  2.72563412e-01,   7.27436588e-01],\n",
       "       [  8.15293899e-01,   1.84706101e-01],\n",
       "       [  8.27554085e-01,   1.72445915e-01],\n",
       "       [  7.95657389e-01,   2.04342611e-01],\n",
       "       [  8.21506370e-01,   1.78493630e-01],\n",
       "       [  4.74080573e-01,   5.25919427e-01],\n",
       "       [  9.55779392e-01,   4.42206077e-02],\n",
       "       [  8.39161024e-01,   1.60838976e-01],\n",
       "       [  7.51858015e-01,   2.48141985e-01],\n",
       "       [  8.27554085e-01,   1.72445915e-01],\n",
       "       [  8.15293899e-01,   1.84706101e-01],\n",
       "       [  8.50128209e-01,   1.49871791e-01],\n",
       "       [  9.63818547e-01,   3.61814533e-02],\n",
       "       [  9.46053995e-01,   5.39460046e-02],\n",
       "       [  6.37630347e-01,   3.62369653e-01],\n",
       "       [  8.50128209e-01,   1.49871791e-01],\n",
       "       [  8.44723628e-01,   1.55276372e-01],\n",
       "       [  7.10852127e-01,   2.89147873e-01],\n",
       "       [  9.85850833e-01,   1.41491672e-02],\n",
       "       [  9.92997897e-01,   7.00210348e-03],\n",
       "       [  9.43880275e-01,   5.61197250e-02],\n",
       "       [  4.63670444e-01,   5.36329556e-01],\n",
       "       [  2.56304856e-01,   7.43695144e-01],\n",
       "       [  9.71617257e-01,   2.83827432e-02],\n",
       "       [  9.71617257e-01,   2.83827432e-02],\n",
       "       [  9.95379211e-01,   4.62078891e-03],\n",
       "       [  9.88955028e-01,   1.10449724e-02],\n",
       "       [  9.89831918e-01,   1.01680815e-02],\n",
       "       [  9.92701158e-01,   7.29884243e-03],\n",
       "       [  9.20288668e-01,   7.97113323e-02],\n",
       "       [  9.39283616e-01,   6.07163838e-02],\n",
       "       [  8.96009117e-01,   1.03990883e-01],\n",
       "       [  8.60471912e-01,   1.39528088e-01],\n",
       "       [  5.36697269e-01,   4.63302731e-01],\n",
       "       [  7.88776565e-01,   2.11223435e-01],\n",
       "       [  8.27554085e-01,   1.72445915e-01],\n",
       "       [  8.99840300e-01,   1.00159700e-01],\n",
       "       [  7.19368281e-01,   2.80631719e-01],\n",
       "       [  8.21506370e-01,   1.78493630e-01],\n",
       "       [  6.37630347e-01,   3.62369653e-01],\n",
       "       [  9.48148145e-01,   5.18518549e-02],\n",
       "       [  7.67126168e-01,   2.32873832e-01],\n",
       "       [  9.20288668e-01,   7.97113323e-02],\n",
       "       [  8.50128209e-01,   1.49871791e-01],\n",
       "       [  6.75311991e-01,   3.24688009e-01],\n",
       "       [  7.10852127e-01,   2.89147873e-01],\n",
       "       [  8.83729869e-01,   1.16270131e-01],\n",
       "       [  8.83729869e-01,   1.16270131e-01],\n",
       "       [  9.41624370e-01,   5.83756296e-02],\n",
       "       [  7.81727605e-01,   2.18272395e-01],\n",
       "       [  9.23301924e-01,   7.66980762e-02],\n",
       "       [  9.07127841e-01,   9.28721593e-02],\n",
       "       [  9.60787147e-01,   3.92128528e-02],\n",
       "       [  7.59574919e-01,   2.40425081e-01],\n",
       "       [  7.81727605e-01,   2.18272395e-01],\n",
       "       [  7.02184529e-01,   2.97815471e-01],\n",
       "       [  7.27729682e-01,   2.72270318e-01],\n",
       "       [  9.62332137e-01,   3.76678629e-02],\n",
       "       [  8.44723628e-01,   1.55276372e-01],\n",
       "       [  5.57411075e-01,   4.42588925e-01],\n",
       "       [  9.29017074e-01,   7.09829263e-02],\n",
       "       [  9.26210406e-01,   7.37895944e-02],\n",
       "       [  9.55779392e-01,   4.42206077e-02],\n",
       "       [  8.92048969e-01,   1.07951031e-01],\n",
       "       [  8.74859606e-01,   1.25140394e-01],\n",
       "       [  8.87956869e-01,   1.12043131e-01],\n",
       "       [  5.88089656e-01,   4.11910344e-01],\n",
       "       [  9.85850833e-01,   1.41491672e-02],\n",
       "       [  9.93282653e-01,   6.71734701e-03],\n",
       "       [  9.31724856e-01,   6.82751436e-02],\n",
       "       [  9.03545531e-01,   9.64544686e-02],\n",
       "       [  9.20288668e-01,   7.97113323e-02],\n",
       "       [  9.13935859e-01,   8.60641409e-02],\n",
       "       [  9.94978289e-01,   5.02171076e-03],\n",
       "       [  7.95657389e-01,   2.04342611e-01],\n",
       "       [  7.10852127e-01,   2.89147873e-01],\n",
       "       [  7.81727605e-01,   2.18272395e-01],\n",
       "       [  9.89831918e-01,   1.01680815e-02],\n",
       "       [  9.80341997e-01,   1.96580025e-02],\n",
       "       [  9.88997742e-04,   9.99011002e-01],\n",
       "       [  4.84513283e-01,   5.15486717e-01],\n",
       "       [  7.67126168e-01,   2.32873832e-01],\n",
       "       [  7.67126168e-01,   2.32873832e-01],\n",
       "       [  6.93369184e-01,   3.06630816e-01],\n",
       "       [  5.15856038e-01,   4.84143962e-01],\n",
       "       [  5.88089656e-01,   4.11910344e-01],\n",
       "       [  7.51858015e-01,   2.48141985e-01],\n",
       "       [  6.72722067e-03,   9.93272779e-01],\n",
       "       [  7.30956453e-03,   9.92690435e-01],\n",
       "       [  8.65415687e-01,   1.34584313e-01],\n",
       "       [  2.04583140e-01,   7.95416860e-01],\n",
       "       [  8.02370224e-01,   1.97629776e-01],\n",
       "       [  7.67126168e-01,   2.32873832e-01],\n",
       "       [  9.39283616e-01,   6.07163838e-02],\n",
       "       [  7.19368281e-01,   2.80631719e-01],\n",
       "       [  6.84410180e-01,   3.15589820e-01],\n",
       "       [  7.81727605e-01,   2.18272395e-01],\n",
       "       [  6.08183201e-01,   3.91816799e-01],\n",
       "       [  2.64354065e-01,   7.35645935e-01],\n",
       "       [  9.95379211e-01,   4.62078891e-03],\n",
       "       [  9.98152822e-01,   1.84717826e-03],\n",
       "       [  5.36697269e-01,   4.63302731e-01],\n",
       "       [  1.72657045e-01,   8.27342955e-01],\n",
       "       [  9.29017074e-01,   7.09829263e-02],\n",
       "       [  2.89451910e-01,   7.10548090e-01],\n",
       "       [  9.03545531e-01,   9.64544686e-02],\n",
       "       [  5.57411075e-01,   4.42588925e-01],\n",
       "       [  9.65834189e-02,   9.03416581e-01],\n",
       "       [  1.88957391e-02,   9.81104261e-01],\n",
       "       [  3.43615549e-01,   6.56384451e-01],\n",
       "       [  3.62711396e-01,   6.37288604e-01],\n",
       "       [  2.96010381e-02,   9.70398962e-01],\n",
       "       [  5.19246026e-02,   9.48075397e-01],\n",
       "       [  1.12190334e-01,   8.87809666e-01],\n",
       "       [  3.20994708e-02,   9.67900529e-01],\n",
       "       [  5.84569658e-02,   9.41543034e-01],\n",
       "       [  1.55470430e-01,   8.44529570e-01],\n",
       "       [  9.39283616e-01,   6.07163838e-02],\n",
       "       [  8.29447611e-02,   9.17055239e-01],\n",
       "       [  3.53104849e-01,   6.46895151e-01],\n",
       "       [  1.44806143e-01,   8.55193857e-01],\n",
       "       [  5.47074551e-01,   4.52925449e-01],\n",
       "       [  4.74080573e-01,   5.25919427e-01],\n",
       "       [  5.26288104e-01,   4.73711896e-01],\n",
       "       [  2.31865780e-02,   9.76813422e-01],\n",
       "       [  1.30481019e-02,   9.86951898e-01],\n",
       "       [  3.53104849e-01,   6.46895151e-01],\n",
       "       [  3.25012329e-01,   6.74987671e-01],\n",
       "       [  4.02177826e-01,   5.97822174e-01],\n",
       "       [  2.72563412e-01,   7.27436588e-01]])"
      ]
     },
     "execution_count": 36,
     "metadata": {},
     "output_type": "execute_result"
    }
   ],
   "source": [
    "prediction_proba_from_al_as_x"
   ]
  },
  {
   "cell_type": "markdown",
   "metadata": {},
   "source": [
    "What if we wanted the **predicted probabilities** instead of just the **class predictions**, to understand how confident we are in a given prediction?"
   ]
  },
  {
   "cell_type": "code",
   "execution_count": 16,
   "metadata": {
    "collapsed": false
   },
   "outputs": [],
   "source": [
    "# your regressor (logreg) can predict a probability with .predict_proba() - plot the probabilities\n",
    "# and it should look like a sigmoid curve\n",
    "# You will probably need to .reshape() or similar in order to get it into a form that you can use"
   ]
  },
  {
   "cell_type": "markdown",
   "metadata": {},
   "source": [
    "What is this? The first column indicates the predicted probability of **class 0**, and the second column indicates the predicted probability of **class 1**."
   ]
  },
  {
   "cell_type": "markdown",
   "metadata": {},
   "source": [
    "## Part 2: Probability, odds, e, log, log-odds\n",
    "\n",
    "If you are interested in the mathematics behind this in more detail, carry on with the following sections.\n",
    "\n",
    "$$probability = \\frac {one\\ outcome} {all\\ outcomes}$$\n",
    "\n",
    "$$odds = \\frac {one\\ outcome} {all\\ other\\ outcomes}$$\n",
    "\n",
    "Examples:\n",
    "\n",
    "- Dice roll of 1: probability = 1/6, odds = 1/5\n",
    "- Even dice roll: probability = 3/6, odds = 3/3 = 1\n",
    "- Dice roll less than 5: probability = 4/6, odds = 4/2 = 2\n",
    "\n",
    "$$odds = \\frac {probability} {1 - probability}$$"
   ]
  },
  {
   "cell_type": "code",
   "execution_count": 17,
   "metadata": {
    "collapsed": false
   },
   "outputs": [
    {
     "data": {
      "text/html": [
       "<div>\n",
       "<table border=\"1\" class=\"dataframe\">\n",
       "  <thead>\n",
       "    <tr style=\"text-align: right;\">\n",
       "      <th></th>\n",
       "      <th>probability</th>\n",
       "      <th>odds</th>\n",
       "    </tr>\n",
       "  </thead>\n",
       "  <tbody>\n",
       "    <tr>\n",
       "      <th>0</th>\n",
       "      <td>0.10</td>\n",
       "      <td>0.111111</td>\n",
       "    </tr>\n",
       "    <tr>\n",
       "      <th>1</th>\n",
       "      <td>0.20</td>\n",
       "      <td>0.250000</td>\n",
       "    </tr>\n",
       "    <tr>\n",
       "      <th>2</th>\n",
       "      <td>0.25</td>\n",
       "      <td>0.333333</td>\n",
       "    </tr>\n",
       "    <tr>\n",
       "      <th>3</th>\n",
       "      <td>0.50</td>\n",
       "      <td>1.000000</td>\n",
       "    </tr>\n",
       "    <tr>\n",
       "      <th>4</th>\n",
       "      <td>0.60</td>\n",
       "      <td>1.500000</td>\n",
       "    </tr>\n",
       "    <tr>\n",
       "      <th>5</th>\n",
       "      <td>0.80</td>\n",
       "      <td>4.000000</td>\n",
       "    </tr>\n",
       "    <tr>\n",
       "      <th>6</th>\n",
       "      <td>0.90</td>\n",
       "      <td>9.000000</td>\n",
       "    </tr>\n",
       "    <tr>\n",
       "      <th>7</th>\n",
       "      <td>0.99</td>\n",
       "      <td>99.000000</td>\n",
       "    </tr>\n",
       "  </tbody>\n",
       "</table>\n",
       "</div>"
      ],
      "text/plain": [
       "   probability       odds\n",
       "0         0.10   0.111111\n",
       "1         0.20   0.250000\n",
       "2         0.25   0.333333\n",
       "3         0.50   1.000000\n",
       "4         0.60   1.500000\n",
       "5         0.80   4.000000\n",
       "6         0.90   9.000000\n",
       "7         0.99  99.000000"
      ]
     },
     "execution_count": 17,
     "metadata": {},
     "output_type": "execute_result"
    }
   ],
   "source": [
    "# create a table of probability versus odds\n",
    "table = pd.DataFrame({'probability':[0.1, 0.2, 0.25, 0.5, 0.6, 0.8, 0.9, 0.99]})\n",
    "table['odds'] = table.probability/(1 - table.probability)\n",
    "table"
   ]
  },
  {
   "cell_type": "markdown",
   "metadata": {},
   "source": [
    "What is **e**? It is the base rate of growth shared by all continually growing processes:"
   ]
  },
  {
   "cell_type": "code",
   "execution_count": 18,
   "metadata": {
    "collapsed": false
   },
   "outputs": [
    {
     "data": {
      "text/plain": [
       "2.7182818284590451"
      ]
     },
     "execution_count": 18,
     "metadata": {},
     "output_type": "execute_result"
    }
   ],
   "source": [
    "# exponential function: e^1\n",
    "import numpy as np\n",
    "np.exp(1)"
   ]
  },
  {
   "cell_type": "markdown",
   "metadata": {},
   "source": [
    "What is a **(natural) log**? It gives you the time needed to reach a certain level of growth:"
   ]
  },
  {
   "cell_type": "code",
   "execution_count": 19,
   "metadata": {
    "collapsed": false
   },
   "outputs": [
    {
     "data": {
      "text/plain": [
       "5.0"
      ]
     },
     "execution_count": 19,
     "metadata": {},
     "output_type": "execute_result"
    }
   ],
   "source": [
    "# time needed to grow 1 unit to 2.718 units\n",
    "np.log(np.exp(5))"
   ]
  },
  {
   "cell_type": "markdown",
   "metadata": {},
   "source": [
    "It is also the **inverse** of the exponential function:"
   ]
  },
  {
   "cell_type": "code",
   "execution_count": 20,
   "metadata": {
    "collapsed": false
   },
   "outputs": [
    {
     "data": {
      "text/plain": [
       "5.0"
      ]
     },
     "execution_count": 20,
     "metadata": {},
     "output_type": "execute_result"
    }
   ],
   "source": [
    "np.log(np.exp(5))"
   ]
  },
  {
   "cell_type": "code",
   "execution_count": 21,
   "metadata": {
    "collapsed": false
   },
   "outputs": [
    {
     "data": {
      "text/html": [
       "<div>\n",
       "<table border=\"1\" class=\"dataframe\">\n",
       "  <thead>\n",
       "    <tr style=\"text-align: right;\">\n",
       "      <th></th>\n",
       "      <th>probability</th>\n",
       "      <th>odds</th>\n",
       "      <th>logodds</th>\n",
       "    </tr>\n",
       "  </thead>\n",
       "  <tbody>\n",
       "    <tr>\n",
       "      <th>0</th>\n",
       "      <td>0.10</td>\n",
       "      <td>0.111111</td>\n",
       "      <td>-2.197225</td>\n",
       "    </tr>\n",
       "    <tr>\n",
       "      <th>1</th>\n",
       "      <td>0.20</td>\n",
       "      <td>0.250000</td>\n",
       "      <td>-1.386294</td>\n",
       "    </tr>\n",
       "    <tr>\n",
       "      <th>2</th>\n",
       "      <td>0.25</td>\n",
       "      <td>0.333333</td>\n",
       "      <td>-1.098612</td>\n",
       "    </tr>\n",
       "    <tr>\n",
       "      <th>3</th>\n",
       "      <td>0.50</td>\n",
       "      <td>1.000000</td>\n",
       "      <td>0.000000</td>\n",
       "    </tr>\n",
       "    <tr>\n",
       "      <th>4</th>\n",
       "      <td>0.60</td>\n",
       "      <td>1.500000</td>\n",
       "      <td>0.405465</td>\n",
       "    </tr>\n",
       "    <tr>\n",
       "      <th>5</th>\n",
       "      <td>0.80</td>\n",
       "      <td>4.000000</td>\n",
       "      <td>1.386294</td>\n",
       "    </tr>\n",
       "    <tr>\n",
       "      <th>6</th>\n",
       "      <td>0.90</td>\n",
       "      <td>9.000000</td>\n",
       "      <td>2.197225</td>\n",
       "    </tr>\n",
       "    <tr>\n",
       "      <th>7</th>\n",
       "      <td>0.99</td>\n",
       "      <td>99.000000</td>\n",
       "      <td>4.595120</td>\n",
       "    </tr>\n",
       "  </tbody>\n",
       "</table>\n",
       "</div>"
      ],
      "text/plain": [
       "   probability       odds   logodds\n",
       "0         0.10   0.111111 -2.197225\n",
       "1         0.20   0.250000 -1.386294\n",
       "2         0.25   0.333333 -1.098612\n",
       "3         0.50   1.000000  0.000000\n",
       "4         0.60   1.500000  0.405465\n",
       "5         0.80   4.000000  1.386294\n",
       "6         0.90   9.000000  2.197225\n",
       "7         0.99  99.000000  4.595120"
      ]
     },
     "execution_count": 21,
     "metadata": {},
     "output_type": "execute_result"
    }
   ],
   "source": [
    "# add log-odds to the table\n",
    "table['logodds'] = np.log(table.odds)\n",
    "table"
   ]
  },
  {
   "cell_type": "markdown",
   "metadata": {},
   "source": [
    "## Part 3: What is Logistic Regression?"
   ]
  },
  {
   "cell_type": "markdown",
   "metadata": {},
   "source": [
    "**Linear regression:** continuous response is modeled as a linear combination of the features:\n",
    "\n",
    "$$y = \\beta_0 + \\beta_1x$$\n",
    "\n",
    "**Logistic regression:** log-odds of a categorical response being \"true\" (1) is modeled as a linear combination of the features:\n",
    "\n",
    "$$\\log \\left({p\\over 1-p}\\right) = \\beta_0 + \\beta_1x$$\n",
    "\n",
    "This is called the **logit function**.\n",
    "\n",
    "Probability is sometimes written as pi:\n",
    "\n",
    "$$\\log \\left({\\pi\\over 1-\\pi}\\right) = \\beta_0 + \\beta_1x$$\n",
    "\n",
    "The equation can be rearranged into the **logistic function**:\n",
    "\n",
    "$$\\pi = \\frac{e^{\\beta_0 + \\beta_1x}} {1 + e^{\\beta_0 + \\beta_1x}}$$"
   ]
  },
  {
   "cell_type": "markdown",
   "metadata": {},
   "source": [
    "In other words:\n",
    "\n",
    "- Logistic regression outputs the **probabilities of a specific class**\n",
    "- Those probabilities can be converted into **class predictions**\n",
    "\n",
    "The **logistic function** has some nice properties:\n",
    "\n",
    "- Takes on an \"s\" shape\n",
    "- Output is bounded by 0 and 1\n",
    "\n",
    "Notes:\n",
    "\n",
    "- **Multinomial logistic regression** is used when there are more than 2 classes.\n",
    "- Coefficients are estimated using **maximum likelihood estimation**, meaning that we choose parameters that maximize the likelihood of the observed data."
   ]
  },
  {
   "cell_type": "markdown",
   "metadata": {},
   "source": [
    "## Part 4: Interpreting Logistic Regression Coefficients"
   ]
  },
  {
   "cell_type": "code",
   "execution_count": 22,
   "metadata": {
    "collapsed": false
   },
   "outputs": [
    {
     "data": {
      "text/plain": [
       "<matplotlib.collections.PathCollection at 0x11f13ed50>"
      ]
     },
     "execution_count": 22,
     "metadata": {},
     "output_type": "execute_result"
    },
    {
     "data": {
      "image/png": "[encoded data removed]",
      "text/plain": [
       "<matplotlib.figure.Figure at 0x11f0b3ad0>"
      ]
     },
     "metadata": {},
     "output_type": "display_data"
    }
   ],
   "source": [
    "# plot the predicted probabilities again\n",
    "\n",
    "\n",
    "plt.figure()\n",
    "axes = plt.gca()\n",
    "plt.grid(True)\n",
    "\n",
    "#axes.scatter(x,y, s= 50, c='g')\n",
    "axes.scatter(x,prediction_from_al_as_x, s= 150, c='r', alpha=0.15)"
   ]
  },
  {
   "cell_type": "code",
   "execution_count": 23,
   "metadata": {
    "collapsed": false
   },
   "outputs": [
    {
     "data": {
      "text/plain": [
       "array([[ 0.64722323]])"
      ]
     },
     "execution_count": 23,
     "metadata": {},
     "output_type": "execute_result"
    }
   ],
   "source": [
    "# compute predicted log-odds for al=2 using the equation\n",
    "logodds = logreg.intercept_ + logreg.coef_ * 2\n",
    "logodds"
   ]
  },
  {
   "cell_type": "code",
   "execution_count": 24,
   "metadata": {
    "collapsed": false
   },
   "outputs": [
    {
     "data": {
      "text/plain": [
       "array([[ 1.91022919]])"
      ]
     },
     "execution_count": 24,
     "metadata": {},
     "output_type": "execute_result"
    }
   ],
   "source": [
    "# convert log-odds to odds\n",
    "odds = np.exp(logodds)\n",
    "odds"
   ]
  },
  {
   "cell_type": "code",
   "execution_count": 25,
   "metadata": {
    "collapsed": false
   },
   "outputs": [
    {
     "data": {
      "text/plain": [
       "array([[ 0.65638445]])"
      ]
     },
     "execution_count": 25,
     "metadata": {},
     "output_type": "execute_result"
    }
   ],
   "source": [
    "# convert odds to probability\n",
    "prob = odds/(1 + odds)\n",
    "prob"
   ]
  },
  {
   "cell_type": "code",
   "execution_count": 26,
   "metadata": {
    "collapsed": false
   },
   "outputs": [
    {
     "data": {
      "text/plain": [
       "array([ 0.65638445])"
      ]
     },
     "execution_count": 26,
     "metadata": {},
     "output_type": "execute_result"
    }
   ],
   "source": [
    "# compute predicted probability for al=2 using the predict_proba method\n",
    "logreg.predict_proba(2)[:, 1]"
   ]
  },
  {
   "cell_type": "code",
   "execution_count": 27,
   "metadata": {
    "collapsed": false
   },
   "outputs": [
    {
     "data": {
      "text/plain": [
       "[(4.1804038614510963,)]"
      ]
     },
     "execution_count": 27,
     "metadata": {},
     "output_type": "execute_result"
    }
   ],
   "source": [
    "# examine the coefficient for al\n",
    "zip(logreg.coef_[0])"
   ]
  },
  {
   "cell_type": "markdown",
   "metadata": {},
   "source": [
    "**Interpretation:** A 1 unit increase in 'al' is associated with a 4.18 unit increase in the log-odds of 'assorted'."
   ]
  },
  {
   "cell_type": "code",
   "execution_count": 28,
   "metadata": {
    "collapsed": false
   },
   "outputs": [
    {
     "data": {
      "text/plain": [
       "0.99205808391674566"
      ]
     },
     "execution_count": 28,
     "metadata": {},
     "output_type": "execute_result"
    }
   ],
   "source": [
    "# increasing al by 1 (so that al=3) increases the log-odds by 4.18\n",
    "logodds = 0.64722323 + 4.1804038614510901\n",
    "odds = np.exp(logodds)\n",
    "prob = odds/(1 + odds)\n",
    "prob"
   ]
  },
  {
   "cell_type": "code",
   "execution_count": 29,
   "metadata": {
    "collapsed": false
   },
   "outputs": [
    {
     "data": {
      "text/plain": [
       "array([ 0.99205808])"
      ]
     },
     "execution_count": 29,
     "metadata": {},
     "output_type": "execute_result"
    }
   ],
   "source": [
    "# compute predicted probability for al=3 using the predict_proba method\n",
    "logreg.predict_proba(3)[:, 1]"
   ]
  },
  {
   "cell_type": "markdown",
   "metadata": {},
   "source": [
    "**Bottom line:** Positive coefficients increase the log-odds of the response (and thus increase the probability), and negative coefficients decrease the log-odds of the response (and thus decrease the probability)."
   ]
  },
  {
   "cell_type": "code",
   "execution_count": 30,
   "metadata": {
    "collapsed": false
   },
   "outputs": [
    {
     "data": {
      "text/plain": [
       "array([-7.71358449])"
      ]
     },
     "execution_count": 30,
     "metadata": {},
     "output_type": "execute_result"
    }
   ],
   "source": [
    "# examine the intercept\n",
    "logreg.intercept_"
   ]
  },
  {
   "cell_type": "markdown",
   "metadata": {},
   "source": [
    "**Interpretation:** For an 'al' value of 0, the log-odds of 'assorted' is -7.71."
   ]
  },
  {
   "cell_type": "code",
   "execution_count": 31,
   "metadata": {
    "collapsed": false
   },
   "outputs": [
    {
     "data": {
      "text/plain": [
       "array([ 0.00044652])"
      ]
     },
     "execution_count": 31,
     "metadata": {},
     "output_type": "execute_result"
    }
   ],
   "source": [
    "# convert log-odds to probability\n",
    "logodds = logreg.intercept_\n",
    "odds = np.exp(logodds)\n",
    "prob = odds/(1 + odds)\n",
    "prob\n",
    "\n"
   ]
  },
  {
   "cell_type": "markdown",
   "metadata": {},
   "source": [
    "That makes sense from the plot above, because the probability of assorted=1 should be very low for such a low 'al' value."
   ]
  },
  {
   "cell_type": "markdown",
   "metadata": {},
   "source": [
    "![](images/logistic_betas.png)"
   ]
  },
  {
   "cell_type": "markdown",
   "metadata": {},
   "source": [
    "Changing the $\\beta_0$ value shifts the curve **horizontally**, whereas changing the $\\beta_1$ value changes the **slope** of the curve."
   ]
  },
  {
   "cell_type": "markdown",
   "metadata": {},
   "source": [
    "## Part 5: Comparing Logistic Regression with Other Models\n",
    "\n",
    "Advantages of logistic regression:\n",
    "\n",
    "- Highly interpretable (if you remember how)\n",
    "- Model training and prediction are fast\n",
    "- No tuning is required (excluding regularization)\n",
    "- Features don't need scaling\n",
    "- Can perform well with a small number of observations\n",
    "- Outputs well-calibrated predicted probabilities\n",
    "\n",
    "Disadvantages of logistic regression:\n",
    "\n",
    "- Presumes a linear relationship between the features and the log-odds of the response\n",
    "- Performance is (generally) not competitive with the best supervised learning methods\n",
    "- Sensitive to irrelevant features\n",
    "- Can't automatically learn feature interactions"
   ]
  },
  {
   "cell_type": "markdown",
   "metadata": {},
   "source": [
    "## Bonus: Confusion Matrix\n",
    "\n"
   ]
  },
  {
   "cell_type": "code",
   "execution_count": 32,
   "metadata": {
    "collapsed": false
   },
   "outputs": [
    {
     "name": "stdout",
     "output_type": "stream",
     "text": [
      "[[157   6]\n",
      " [ 23  28]]\n"
     ]
    }
   ],
   "source": [
    "from sklearn import metrics\n",
    "prds = logreg.predict(x)\n",
    "print metrics.confusion_matrix(y, prds)"
   ]
  },
  {
   "cell_type": "markdown",
   "metadata": {},
   "source": [
    "##Top Left: True Negatives <Br>\n",
    "##Top Right False Negatives <Br>\n",
    "##Bottom Left: False Negatives <br>\n",
    "##Bottom Right: True Positives <br>\n",
    "\n",
    "\n",
    "### Meaning: \n",
    "#### Accuracy    = (157 + 28) / 214       == .8644\n",
    "#### Sensitivity =  28        / (23 + 28) == .5490\n",
    "#### Specificity =  157       / (157 + 6) == .9631"
   ]
  },
  {
   "cell_type": "code",
   "execution_count": 33,
   "metadata": {
    "collapsed": false
   },
   "outputs": [],
   "source": [
    "metrics.confusion_matrix?"
   ]
  },
  {
   "cell_type": "code",
   "execution_count": null,
   "metadata": {
    "collapsed": true
   },
   "outputs": [],
   "source": []
  }
 ],
 "metadata": {
  "kernelspec": {
   "display_name": "Python 2",
   "language": "python",
   "name": "python2"
  },
  "language_info": {
   "codemirror_mode": {
    "name": "ipython",
    "version": 2
   },
   "file_extension": ".py",
   "mimetype": "text/x-python",
   "name": "python",
   "nbconvert_exporter": "python",
   "pygments_lexer": "ipython2",
   "version": "2.7.12"
  }
 },
 "nbformat": 4,
 "nbformat_minor": 0
}
