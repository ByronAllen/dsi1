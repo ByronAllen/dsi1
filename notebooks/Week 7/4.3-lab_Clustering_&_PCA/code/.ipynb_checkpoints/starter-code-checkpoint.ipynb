{
 "cells": [
  {
   "cell_type": "markdown",
   "metadata": {},
   "source": [
    "## Lab 4.3"
   ]
  },
  {
   "cell_type": "markdown",
   "metadata": {},
   "source": [
    "#### Setup your imports"
   ]
  },
  {
   "cell_type": "code",
   "execution_count": 1,
   "metadata": {
    "collapsed": false
   },
   "outputs": [],
   "source": [
    "import pandas as pd \n",
    "from sklearn.datasets import fetch_20newsgroups\n",
    "from sklearn.feature_extraction.text import CountVectorizer\n",
    "import numpy as np\n",
    "from sklearn.preprocessing import StandardScaler\n",
    "from sklearn.decomposition import PCA, TruncatedSVD\n",
    "from sklearn.cluster import KMeans\n",
    "from sklearn import metrics\n",
    "import matplotlib.pyplot as plt\n",
    "%matplotlib inline"
   ]
  },
  {
   "cell_type": "markdown",
   "metadata": {},
   "source": [
    "#### 1. Pull the training set from the newsgroup data"
   ]
  },
  {
   "cell_type": "code",
   "execution_count": 2,
   "metadata": {
    "collapsed": false
   },
   "outputs": [],
   "source": [
    "newsgroups_train = fetch_20newsgroups(subset='train')\n",
    "X = newsgroups_train.data\n",
    "y = newsgroups_train.target"
   ]
  },
  {
   "cell_type": "markdown",
   "metadata": {},
   "source": [
    "#### 2. Create the vectorizer "
   ]
  },
  {
   "cell_type": "code",
   "execution_count": 3,
   "metadata": {
    "collapsed": false
   },
   "outputs": [],
   "source": [
    "countv = CountVectorizer()"
   ]
  },
  {
   "cell_type": "markdown",
   "metadata": {},
   "source": [
    "#### 3. Create the Truncated Singular Value Decomposition"
   ]
  },
  {
   "cell_type": "code",
   "execution_count": 4,
   "metadata": {
    "collapsed": true
   },
   "outputs": [],
   "source": [
    "tsvd = TruncatedSVD()"
   ]
  },
  {
   "cell_type": "markdown",
   "metadata": {},
   "source": [
    "#### 4. Setup your k-means clustering"
   ]
  },
  {
   "cell_type": "code",
   "execution_count": 5,
   "metadata": {
    "collapsed": false
   },
   "outputs": [],
   "source": [
    "#moved below"
   ]
  },
  {
   "cell_type": "markdown",
   "metadata": {},
   "source": [
    "#### 5. Fit the vectorizer and SVD"
   ]
  },
  {
   "cell_type": "code",
   "execution_count": 6,
   "metadata": {
    "collapsed": false
   },
   "outputs": [],
   "source": [
    "X_countv = countv.fit_transform(X)\n",
    "#X_countv = X_countv.T"
   ]
  },
  {
   "cell_type": "code",
   "execution_count": null,
   "metadata": {
    "collapsed": true
   },
   "outputs": [],
   "source": [
    "### Used in solutions ###\n",
    "#vectorizer = CountVectorizer(max_features = 1000,\n",
    "#                             ngram_range=(1, 2),\n",
    "#                             stop_words='english',\n",
    "#                             binary=True)\n",
    "\n",
    "\n",
    "#svd = TruncatedSVD(n_components=50, random_state=42)"
   ]
  },
  {
   "cell_type": "code",
   "execution_count": 7,
   "metadata": {
    "collapsed": false
   },
   "outputs": [],
   "source": [
    "#scaler = StandardScaler(with_mean=False)\n",
    "#X_stand = scaler.fit_transform(X_countv)"
   ]
  },
  {
   "cell_type": "code",
   "execution_count": 8,
   "metadata": {
    "collapsed": false
   },
   "outputs": [],
   "source": [
    "tsvd = tsvd.fit_transform(X_countv)"
   ]
  },
  {
   "cell_type": "code",
   "execution_count": 9,
   "metadata": {
    "collapsed": false
   },
   "outputs": [],
   "source": [
    "tsvd_df = pd.DataFrame(data=tsvd, columns=['PC1','PC2'])"
   ]
  },
  {
   "cell_type": "code",
   "execution_count": 10,
   "metadata": {
    "collapsed": false
   },
   "outputs": [
    {
     "data": {
      "image/png": "[encoded data removed]",
      "text/plain": [
       "<matplotlib.figure.Figure at 0x11be88d90>"
      ]
     },
     "metadata": {},
     "output_type": "display_data"
    }
   ],
   "source": [
    "tsvd_df.plot(x='PC1', y='PC2', kind='scatter', figsize=(16,8))\n",
    "plt.show()"
   ]
  },
  {
   "cell_type": "markdown",
   "metadata": {},
   "source": [
    "#### 7. Fit the kmeans"
   ]
  },
  {
   "cell_type": "code",
   "execution_count": 18,
   "metadata": {
    "collapsed": false
   },
   "outputs": [
    {
     "data": {
      "text/plain": [
       "KMeans(copy_x=True, init='k-means++', max_iter=300, n_clusters=10, n_init=10,\n",
       "    n_jobs=1, precompute_distances='auto', random_state=None, tol=0.0001,\n",
       "    verbose=0)"
      ]
     },
     "execution_count": 18,
     "metadata": {},
     "output_type": "execute_result"
    }
   ],
   "source": [
    "K=10\n",
    "kmeans = KMeans(n_clusters=K)\n",
    "kmeans.fit(X_countv)"
   ]
  },
  {
   "cell_type": "markdown",
   "metadata": {},
   "source": [
    "#### 8. Check the performance of our kmeans test"
   ]
  },
  {
   "cell_type": "code",
   "execution_count": 19,
   "metadata": {
    "collapsed": false
   },
   "outputs": [
    {
     "name": "stdout",
     "output_type": "stream",
     "text": [
      "0.640023063057\n"
     ]
    }
   ],
   "source": [
    "labels = kmeans.labels_\n",
    "centroids = kmeans.cluster_centers_\n",
    "print metrics.silhouette_score(X_countv, labels, metric='euclidean')"
   ]
  },
  {
   "cell_type": "code",
   "execution_count": 20,
   "metadata": {
    "collapsed": false
   },
   "outputs": [
    {
     "name": "stdout",
     "output_type": "stream",
     "text": [
      "130107\n",
      "11314\n"
     ]
    }
   ],
   "source": [
    "print len(countv.get_feature_names())\n",
    "print len(tsvd_df.PC2)"
   ]
  },
  {
   "cell_type": "code",
   "execution_count": 21,
   "metadata": {
    "collapsed": false
   },
   "outputs": [],
   "source": [
    "#graph = tsvd_df.plot(x='PC1', y='PC2', kind='scatter', figsize=(16,8)) #c=labels.astype(np.float)*10, s=50, )\n",
    "\n",
    "#for i, words in enumerate(countv.get_feature_names()):\n",
    "#    graph.annotate(words, (tsvd_df.iloc[i].PC2, tsvd_df.iloc[i].PC1))"
   ]
  },
  {
   "cell_type": "markdown",
   "metadata": {},
   "source": [
    "#### Classification Report"
   ]
  },
  {
   "cell_type": "code",
   "execution_count": 22,
   "metadata": {
    "collapsed": false
   },
   "outputs": [
    {
     "name": "stdout",
     "output_type": "stream",
     "text": [
      "0.0396853455895\n",
      "\n",
      "             precision    recall  f1-score   support\n",
      "\n",
      "          0       0.04      0.90      0.08       480\n",
      "          1       0.00      0.00      0.00       584\n",
      "          2       1.00      0.00      0.01       591\n",
      "          3       0.02      0.02      0.02       590\n",
      "          4       0.02      0.00      0.00       578\n",
      "          5       0.00      0.00      0.00       593\n",
      "          6       0.00      0.00      0.00       585\n",
      "          7       0.00      0.00      0.00       594\n",
      "          8       0.00      0.00      0.00       598\n",
      "          9       0.00      0.00      0.00       597\n",
      "         10       0.00      0.00      0.00       600\n",
      "         11       0.00      0.00      0.00       595\n",
      "         12       0.00      0.00      0.00       591\n",
      "         13       0.00      0.00      0.00       594\n",
      "         14       0.00      0.00      0.00       593\n",
      "         15       0.00      0.00      0.00       599\n",
      "         16       0.00      0.00      0.00       546\n",
      "         17       0.00      0.00      0.00       564\n",
      "         18       0.00      0.00      0.00       465\n",
      "         19       0.00      0.00      0.00       377\n",
      "\n",
      "avg / total       0.06      0.04      0.00     11314\n",
      "\n",
      "\n",
      "[[434   0   0  42   3   0   0   0   1   0   0   0   0   0   0   0   0   0\n",
      "    0   0]\n",
      " [566   0   0  14   3   0   0   0   1   0   0   0   0   0   0   0   0   0\n",
      "    0   0]\n",
      " [575   2   2   6   0   3   1   1   0   1   0   0   0   0   0   0   0   0\n",
      "    0   0]\n",
      " [576   0   0  12   2   0   0   0   0   0   0   0   0   0   0   0   0   0\n",
      "    0   0]\n",
      " [571   0   0   6   1   0   0   0   0   0   0   0   0   0   0   0   0   0\n",
      "    0   0]\n",
      " [577   0   0   4  10   0   0   0   2   0   0   0   0   0   0   0   0   0\n",
      "    0   0]\n",
      " [585   0   0   0   0   0   0   0   0   0   0   0   0   0   0   0   0   0\n",
      "    0   0]\n",
      " [577   0   0  16   1   0   0   0   0   0   0   0   0   0   0   0   0   0\n",
      "    0   0]\n",
      " [588   0   0   9   1   0   0   0   0   0   0   0   0   0   0   0   0   0\n",
      "    0   0]\n",
      " [576   0   0  21   0   0   0   0   0   0   0   0   0   0   0   0   0   0\n",
      "    0   0]\n",
      " [561   0   0  37   1   0   0   0   1   0   0   0   0   0   0   0   0   0\n",
      "    0   0]\n",
      " [528   0   0  60   4   0   0   0   3   0   0   0   0   0   0   0   0   0\n",
      "    0   0]\n",
      " [586   0   0   4   0   0   0   0   1   0   0   0   0   0   0   0   0   0\n",
      "    0   0]\n",
      " [555   0   0  35   4   0   0   0   0   0   0   0   0   0   0   0   0   0\n",
      "    0   0]\n",
      " [540   0   0  50   3   0   0   0   0   0   0   0   0   0   0   0   0   0\n",
      "    0   0]\n",
      " [497   0   0  98   4   0   0   0   0   0   0   0   0   0   0   0   0   0\n",
      "    0   0]\n",
      " [476   0   0  66   3   0   0   0   1   0   0   0   0   0   0   0   0   0\n",
      "    0   0]\n",
      " [439   0   0 113   9   0   0   0   3   0   0   0   0   0   0   0   0   0\n",
      "    0   0]\n",
      " [403   0   0  52   6   0   0   0   4   0   0   0   0   0   0   0   0   0\n",
      "    0   0]\n",
      " [311   0   0  64   2   0   0   0   0   0   0   0   0   0   0   0   0   0\n",
      "    0   0]]\n"
     ]
    }
   ],
   "source": [
    "print metrics.accuracy_score(y, labels)\n",
    "print\n",
    "print metrics.classification_report(y, labels)\n",
    "print\n",
    "print(metrics.confusion_matrix(y, labels))"
   ]
  },
  {
   "cell_type": "markdown",
   "metadata": {},
   "source": [
    "#### Confusion Matrix"
   ]
  },
  {
   "cell_type": "code",
   "execution_count": 23,
   "metadata": {
    "collapsed": true
   },
   "outputs": [],
   "source": [
    "TruncatedSVD?"
   ]
  },
  {
   "cell_type": "markdown",
   "metadata": {},
   "source": [
    "#### Note: Repeat the kmeans test with varying values of \"k\" to determine the best performance"
   ]
  },
  {
   "cell_type": "code",
   "execution_count": null,
   "metadata": {
    "collapsed": true
   },
   "outputs": [],
   "source": []
  }
 ],
 "metadata": {
  "kernelspec": {
   "display_name": "Python 2",
   "language": "python",
   "name": "python2"
  },
  "language_info": {
   "codemirror_mode": {
    "name": "ipython",
    "version": 2
   },
   "file_extension": ".py",
   "mimetype": "text/x-python",
   "name": "python",
   "nbconvert_exporter": "python",
   "pygments_lexer": "ipython2",
   "version": "2.7.12"
  }
 },
 "nbformat": 4,
 "nbformat_minor": 0
}
