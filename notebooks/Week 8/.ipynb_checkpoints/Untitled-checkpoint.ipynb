{
 "cells": [
  {
   "cell_type": "code",
   "execution_count": null,
   "metadata": {
    "collapsed": false
   },
   "outputs": [
    {
     "name": "stderr",
     "output_type": "stream",
     "text": [
      "/Users/allenbyron/anaconda/lib/python2.7/site-packages/ipykernel/__main__.py:18: RuntimeWarning: invalid value encountered in divide\n",
      "/Users/allenbyron/anaconda/lib/python2.7/site-packages/matplotlib/tight_layout.py:222: UserWarning: tight_layout : falling back to Agg renderer\n",
      "  warnings.warn(\"tight_layout : falling back to Agg renderer\")\n"
     ]
    }
   ],
   "source": [
    "# Stub\n",
    "import numpy as np\n",
    "import matplotlib.pyplot as plt\n",
    "%matplotlib inline\n",
    "import seaborn as sns\n",
    "import scipy.stats as st\n",
    "\n",
    "\n",
    "x_value = np.linspace(0, 1, 100)\n",
    "sample = np.random.binomial(n=1, p = .8, size=100)\n",
    "# Stub ends here\n",
    "# Solutions Starts:\n",
    "\n",
    "likelihood = np.array([np.product(st.bernoulli.pmf(sample, p)) for p in x_value])\n",
    "prior_sample = np.random.binomial(n=1, p=.5, size=100)\n",
    "prior = np.array([np.product(st.bernoulli.pmf(prior_sample, p)) for p in x_value])\n",
    "prior = prior / np.sum(prior)\n",
    "posterior = [prior[i] * likelihood[i] for i in range(prior.shape[0])]\n",
    "posterior = posterior / np.sum(posterior)\n",
    "\n",
    "#Graph element starts here\n",
    "fig, ax = plt.subplots(3, 1, sharex=True, figsize=(8,8))\n",
    "ax[0].plot(x_value, likelihood)\n",
    "ax[0].set_title(\"Sampling Distribution\")\n",
    "ax[1].plot(x_value, prior)\n",
    "ax[1].set_title(\"Prior Distribution\")\n",
    "ax[2].plot(x_value, posterior)\n",
    "ax[2].set_title(\"Posterior Distribution\")\n",
    "sns.despine()\n",
    "plt.tight_layout()\n",
    "plt.show()"
   ]
  },
  {
   "cell_type": "code",
   "execution_count": null,
   "metadata": {
    "collapsed": true
   },
   "outputs": [],
   "source": []
  }
 ],
 "metadata": {
  "kernelspec": {
   "display_name": "Python 2",
   "language": "python",
   "name": "python2"
  },
  "language_info": {
   "codemirror_mode": {
    "name": "ipython",
    "version": 2
   },
   "file_extension": ".py",
   "mimetype": "text/x-python",
   "name": "python",
   "nbconvert_exporter": "python",
   "pygments_lexer": "ipython2",
   "version": "2.7.12"
  }
 },
 "nbformat": 4,
 "nbformat_minor": 0
}
