{
 "cells": [
  {
   "cell_type": "markdown",
   "metadata": {},
   "source": [
    "---\n",
    "title: Case Study in Bayesian Analysis 1\n",
    "type: lab\n",
    "duration: \"1:25\"\n",
    "creator:\n",
    "    name: Chris Esposo\n",
    "    city: Atlanta, GA\n",
    "---\n",
    "\n",
    "# ![](https://ga-dash.s3.amazonaws.com/production/assets/logo-9f88ae6c9c3871690e33280fcf557f33.png) Case Study in Bayesian Analysis 1\n",
    "Week 8 | 1.4"
   ]
  },
  {
   "cell_type": "markdown",
   "metadata": {},
   "source": [
    "## Introduction\n",
    "\n",
    "> **Note:*** _This can be a pair programming activity or done independently._\n",
    "\n",
    "The presidential voting season is upon us (in the US), and what better way to celebrate it (and our newfound understanding of Bayesian statistics!) by fusing the two together?\n",
    "\n",
    "Of course, this is not without precedent. In the last US presidential electoral cycle, Nate Silver of [538](http://fivethirtyeight.com) won acclaim for utilizing a Bayesian approach to successful poll prediction. In particular, he used a method called a *Monte Carlo Markov Chain* (MCMC).\n",
    "\n",
    "We're going to start our nascent data science careers in this lab with something slightly less ambitious but no less relevant to the material we've gone through so far."
   ]
  },
  {
   "cell_type": "markdown",
   "metadata": {},
   "source": [
    "## Exercise\n",
    "\n",
    "This table provides the likelihood/prior conjugate prior combinations that ensure computational tractability for calculation of posterior distributions.\n",
    "\n",
    "| Prior  | Likelihood  |\n",
    "|---|---|\n",
    "| Beta  | Binomial  |\n",
    "| Dirichlet  | Multinomial   |\n",
    "| Gamma  | Gaussian |\n",
    "| Gaussian  | Gaussian |"
   ]
  },
  {
   "cell_type": "markdown",
   "metadata": {},
   "source": [
    "### Requirements\n",
    "Some basic background:\n",
    "\n",
    "We are finally going to use the much anticipated `Beta Function` today to do our first real computational Bayesian exercise! See the following:\n",
    "$$\\frac{1}{B(\\alpha, \\beta)}x^{\\alpha-1}(1-x)^{\\beta-1}$$\n",
    "\n",
    "Wait, what's `B`? We can define `B` as the following:\n",
    "\n",
    "$$B(a,b) = \\frac{\\Gamma(a)\\Gamma(b)}{\\Gamma(a+b)}$$\n",
    "\n",
    "Your task is now to compute that in Python!!\n",
    "\n",
    "\n",
    "\n",
    "**Bonus:**\n",
    "- Write 300 words about how Bayesian Analysis is different from a traditional approach\n",
    "- Include at least one *additional* way to implement the Beta function that could be computationally tractable. Challenge accepted!"
   ]
  },
  {
   "cell_type": "markdown",
   "metadata": {},
   "source": [
    "#### Starter code\n",
    "\n",
    "[Use the starter code found here to get going](./code/w8-1.4-starter.ipynb)\n",
    "\n",
    "> [Solution Code](./code/w8-1.4-solutions.ipynb)\n",
    "\n",
    "#### Deliverable\n",
    "\n",
    "Complete the lab stub and provide a solution!"
   ]
  },
  {
   "cell_type": "markdown",
   "metadata": {},
   "source": [
    "#### Additional Resources\n",
    "\n",
    "For those of you who want to read further:\n",
    "\n",
    "- [Here is a more detailed treatment on campaign/polling/votes and how Bayesian analysis is applied](http://www.stat.columbia.edu/~gelman/presentations/gelman_ieor.pdf)\n",
    "\n",
    "- [This is an interesting analysis of the possible determinants of voter political preferences in the United States](http://www.stat.columbia.edu/~gelman/presentations/redbluetalkubc.pdf)"
   ]
  }
 ],
 "metadata": {
  "kernelspec": {
   "display_name": "Python 2",
   "language": "python",
   "name": "python2"
  },
  "language_info": {
   "codemirror_mode": {
    "name": "ipython",
    "version": 2
   },
   "file_extension": ".py",
   "mimetype": "text/x-python",
   "name": "python",
   "nbconvert_exporter": "python",
   "pygments_lexer": "ipython2",
   "version": "2.7.12"
  }
 },
 "nbformat": 4,
 "nbformat_minor": 0
}
