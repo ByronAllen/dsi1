{
 "cells": [
  {
   "cell_type": "markdown",
   "metadata": {},
   "source": [
    "# Setting up Foursquare data for analysis "
   ]
  },
  {
   "cell_type": "markdown",
   "metadata": {},
   "source": [
    "Today's lab is going to get your hands dirty with respect to the Foursquare API. We're also going to build a simple crawler/scraper that will go through the JSON hierarchy, extract the data we want, and deposit them into a Pandas table so we can do simple analysis. \n",
    "\n",
    "Just in case you're unfamiliar with this concept, please refer to the Wikipedia page (it's actually pretty good): https://en.wikipedia.org/wiki/Web_scraping, and maybe spend a few moments discussing the concepts and how it could help you in the future as a data scientist to have this \"hackish\" skill. "
   ]
  },
  {
   "cell_type": "markdown",
   "metadata": {},
   "source": [
    "Setup your access token to foursquare"
   ]
  },
  {
   "cell_type": "code",
   "execution_count": 5,
   "metadata": {
    "collapsed": false
   },
   "outputs": [],
   "source": [
    "# Solutions\n",
    "\n",
    "import foursquare\n",
    "import json\n",
    "import pandas as pd\n",
    "import unicodedata\n",
    "\n",
    "#ACCESS_TOKEN = \"\"\n",
    "#client = foursquare.Foursquare(access_token=ACCESS_TOKEN)\n",
    "\n",
    "CLIENT_ID = 'XUHWF1ZUWABMOAHGLO2QNNWED1XCL3NH1PT0IIUODMJL43EY'\n",
    "CLIENT_SECRET = '3TJWM15OHXWDHRI0XZ3QZEV31TXFCQK3FPXZC0UGZ4NQPPMK'\n",
    "client = foursquare.Foursquare(client_id=CLIENT_ID, client_secret=CLIENT_SECRET)\n"
   ]
  },
  {
   "cell_type": "markdown",
   "metadata": {},
   "source": [
    "Use a foursquare python library method to search for suitable venues around a city near you. Print the associated JSON output in a nice way with appropriate spacing and indentation"
   ]
  },
  {
   "cell_type": "code",
   "execution_count": 44,
   "metadata": {
    "collapsed": false
   },
   "outputs": [
    {
     "name": "stdout",
     "output_type": "stream",
     "text": [
      "venues\n"
     ]
    }
   ],
   "source": [
    "# Solution\n",
    "#params={'query': 'coffee'}\n",
    "\n",
    "search = client.venues.search(params={'query': 'Indian',\n",
    "                             'll': '-33.869824,151.2042343',\n",
    "                             'radius': 1000\n",
    "                            })\n",
    "\n",
    "for i in indian_food:\n",
    "    print i"
   ]
  },
  {
   "cell_type": "markdown",
   "metadata": {},
   "source": [
    "Wow... that should look like a total mess to you. Read the following docs: https://docs.python.org/2/library/json.html, and read the part about pretty printing. Once you think you've understood the method, deploy it here and see the world a difference a bit of spacing and indenting makes! "
   ]
  },
  {
   "cell_type": "code",
   "execution_count": 107,
   "metadata": {
    "collapsed": false,
    "scrolled": false
   },
   "outputs": [
    {
     "name": "stdout",
     "output_type": "stream",
     "text": [
      "{\n",
      "    \"allowMenuUrlEdit\": true,\n",
      "    \"beenHere\": {\n",
      "        \"lastCheckinExpiredAt\": 0,\n",
      "        \"marked\": false,\n",
      "        \"unconfirmedCount\": 0\n",
      "    },\n",
      "    \"categories\": [\n",
      "        {\n",
      "            \"icon\": {\n",
      "                \"prefix\": \"https://ss3.4sqi.net/img/categories_v2/food/indian_\",\n",
      "                \"suffix\": \".png\"\n",
      "            },\n",
      "            \"id\": \"4bf58dd8d48988d10f941735\",\n",
      "            \"name\": \"Indian Restaurant\",\n",
      "            \"pluralName\": \"Indian Restaurants\",\n",
      "            \"primary\": true,\n",
      "            \"shortName\": \"Indian\"\n",
      "        }\n",
      "    ],\n",
      "    \"contact\": {},\n",
      "    \"hasPerk\": false,\n",
      "    \"hereNow\": {\n",
      "        \"count\": 0,\n",
      "        \"groups\": [],\n",
      "        \"summary\": \"Nobody here\"\n",
      "    },\n",
      "    \"id\": \"4c3aea491a1cd13af177b50d\",\n",
      "    \"location\": {\n",
      "        \"address\": \"283 George St.\",\n",
      "        \"cc\": \"AU\",\n",
      "        \"city\": \"Sydney\",\n",
      "        \"country\": \"Australia\",\n",
      "        \"distance\": 524,\n",
      "        \"formattedAddress\": [\n",
      "            \"283 George St.\",\n",
      "            \"Sydney NSW 2000\",\n",
      "            \"Australia\"\n",
      "        ],\n",
      "        \"labeledLatLngs\": [\n",
      "            {\n",
      "                \"label\": \"display\",\n",
      "                \"lat\": -33.86574352853252,\n",
      "                \"lng\": 151.207076748172\n",
      "            }\n",
      "        ],\n",
      "        \"lat\": -33.86574352853252,\n",
      "        \"lng\": 151.207076748172,\n",
      "        \"postalCode\": \"2000\",\n",
      "        \"state\": \"NSW\"\n",
      "    },\n",
      "    \"name\": \"Spice Indian Cuisine\",\n",
      "    \"referralId\": \"v-1477450279\",\n",
      "    \"specials\": {\n",
      "        \"count\": 0,\n",
      "        \"items\": []\n",
      "    },\n",
      "    \"stats\": {\n",
      "        \"checkinsCount\": 42,\n",
      "        \"tipCount\": 1,\n",
      "        \"usersCount\": 11\n",
      "    },\n",
      "    \"venueChains\": [],\n",
      "    \"verified\": false\n",
      "}\n"
     ]
    }
   ],
   "source": [
    "print json.dumps(search['venues'][0], sort_keys=True, indent=4, separators=(',', ': '))"
   ]
  },
  {
   "cell_type": "code",
   "execution_count": 46,
   "metadata": {
    "collapsed": false,
    "scrolled": true
   },
   "outputs": [
    {
     "name": "stdout",
     "output_type": "stream",
     "text": [
      "verified\n",
      "name\n",
      "referralId\n",
      "venueChains\n",
      "hereNow\n",
      "specials\n",
      "allowMenuUrlEdit\n",
      "contact\n",
      "hasPerk\n",
      "location\n",
      "beenHere\n",
      "stats\n",
      "id\n",
      "categories\n"
     ]
    }
   ],
   "source": [
    "for i in search['venues'][0]:\n",
    "    print i"
   ]
  },
  {
   "cell_type": "markdown",
   "metadata": {},
   "source": [
    "Now that we can make some sense of the structure let's practice traversing the JSON hieararchy, select one of the venues in the list and output it's name"
   ]
  },
  {
   "cell_type": "code",
   "execution_count": 80,
   "metadata": {
    "collapsed": false
   },
   "outputs": [
    {
     "data": {
      "text/plain": [
       "[u'Spice Indian Cuisine',\n",
       " u'Mirchi Indian Malaysian',\n",
       " u'Karma Indian Restaurant',\n",
       " u'Indian Link Radio, 44 Market Street ,sydney',\n",
       " u'Indian Embasy & VFS',\n",
       " u'North Indian Flavour',\n",
       " u'Indian Passport & VFS',\n",
       " u'Pakwaan Indian',\n",
       " u'An Indian Summer',\n",
       " u'Pakwaan Indian',\n",
       " u'Dorbar Indian Takeaway',\n",
       " u'9 Marys: Modern Indian',\n",
       " u'Indian Excellency',\n",
       " u'Vrindavan Indian Restaurant',\n",
       " u'Nirvana New Indian',\n",
       " u'North Indian Flavour',\n",
       " u'Tandoor Paradise Indian Food',\n",
       " u'Harbour Indian',\n",
       " u'India Passport and Visa Service Centre',\n",
       " u'Zaaffran']"
      ]
     },
     "execution_count": 80,
     "metadata": {},
     "output_type": "execute_result"
    }
   ],
   "source": [
    "[i['name'] for i in search['venues']]"
   ]
  },
  {
   "cell_type": "code",
   "execution_count": 98,
   "metadata": {
    "collapsed": false
   },
   "outputs": [
    {
     "name": "stdout",
     "output_type": "stream",
     "text": [
      "\n",
      "distance\n",
      "labeledLatLngs\n",
      "city\n",
      "cc\n",
      "country\n",
      "postalCode\n",
      "state\n",
      "formattedAddress\n",
      "address\n",
      "lat\n",
      "lng\n"
     ]
    }
   ],
   "source": [
    "for i in search['venues']:\n",
    "    print\n",
    "    for x in i['location']:\n",
    "        print x\n",
    "    break"
   ]
  },
  {
   "cell_type": "code",
   "execution_count": 114,
   "metadata": {
    "collapsed": false,
    "scrolled": false
   },
   "outputs": [],
   "source": [
    "address=[]\n",
    "city=[]\n",
    "country=[]\n",
    "id_list=[]\n",
    "\n",
    "for i in search['venues']:\n",
    "    try:\n",
    "        id_list.append(i['id'])\n",
    "        address.append(i['location']['formattedAddress'][0])\n",
    "        city.append(i['location']['formattedAddress'][1])\n",
    "        country.append(i['location']['formattedAddress'][2])\n",
    "    except:\n",
    "        address.append(None)\n"
   ]
  },
  {
   "cell_type": "markdown",
   "metadata": {},
   "source": [
    "Note that the output isn't exactly what we want. It says u'Park', and if you check the type, Python will output Unicode. This isn't good, we need to recover the original intended type. Read the following docs: \n",
    "\n",
    "https://docs.python.org/2/library/unicodedata.html, and checkup the method 'normalize'. Once you think you've understood this method. Implement it on the above call and see if you can recover the appropriate type for that data.\n"
   ]
  },
  {
   "cell_type": "markdown",
   "metadata": {},
   "source": [
    "Now for some exploratory analysis, let's print the number of total venues in your list"
   ]
  },
  {
   "cell_type": "markdown",
   "metadata": {},
   "source": [
    "Extract the location id for your starting list. Make sure it's normalized to its correct type, and not Unicode. Put this id in a variable called temp. From this id, we will get a list of other venues."
   ]
  },
  {
   "cell_type": "code",
   "execution_count": 124,
   "metadata": {
    "collapsed": false
   },
   "outputs": [
    {
     "data": {
      "text/plain": [
       "'4c3aea491a1cd13af177b50d'"
      ]
     },
     "execution_count": 124,
     "metadata": {},
     "output_type": "execute_result"
    }
   ],
   "source": [
    "# Normalized list of ids\n",
    "temp = [str(x) for x in id_list]\n",
    "temp[0]"
   ]
  },
  {
   "cell_type": "markdown",
   "metadata": {},
   "source": [
    "Print the venues list (in the nicely formatted JSON)"
   ]
  },
  {
   "cell_type": "code",
   "execution_count": 128,
   "metadata": {
    "collapsed": false
   },
   "outputs": [],
   "source": [
    "# Solution\n"
   ]
  },
  {
   "cell_type": "code",
   "execution_count": null,
   "metadata": {
    "collapsed": true
   },
   "outputs": [],
   "source": []
  }
 ],
 "metadata": {
  "kernelspec": {
   "display_name": "Python 2",
   "language": "python",
   "name": "python2"
  },
  "language_info": {
   "codemirror_mode": {
    "name": "ipython",
    "version": 2
   },
   "file_extension": ".py",
   "mimetype": "text/x-python",
   "name": "python",
   "nbconvert_exporter": "python",
   "pygments_lexer": "ipython2",
   "version": "2.7.12"
  }
 },
 "nbformat": 4,
 "nbformat_minor": 0
}
