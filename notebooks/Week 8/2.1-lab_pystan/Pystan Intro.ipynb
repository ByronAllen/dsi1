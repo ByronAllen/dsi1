{
 "cells": [
  {
   "cell_type": "code",
   "execution_count": 4,
   "metadata": {
    "collapsed": true
   },
   "outputs": [],
   "source": [
    "from __future__ import division\n",
    "import os\n",
    "import sys\n",
    "import glob\n",
    "import pystan\n",
    "import glob\n",
    "import numpy as np\n",
    "import pandas as pd\n",
    "import scipy.stats as stats"
   ]
  },
  {
   "cell_type": "code",
   "execution_count": 14,
   "metadata": {
    "collapsed": true
   },
   "outputs": [],
   "source": [
    "coin_code = \"\"\"\n",
    "data {\n",
    "    int<lower=0> n; // number of tosses\n",
    "    int<lower=0> heads; // number of heads\n",
    "}\n",
    "\n",
    "transformed data {}\n",
    "\n",
    "parameters {\n",
    "    real<lower=0, upper=1> p;\n",
    "}\n",
    "\n",
    "transformed parameters {}\n",
    "\n",
    "model {\n",
    "    p ~ beta(2,2);\n",
    "    heads ~ binomial(n,p);\n",
    "}\n",
    "generated quantities {}\n",
    "\"\"\""
   ]
  },
  {
   "cell_type": "code",
   "execution_count": 15,
   "metadata": {
    "collapsed": false
   },
   "outputs": [],
   "source": [
    "coin_data = {\n",
    "    'n': 100,\n",
    "    'heads': 61,\n",
    "}\n",
    "\n",
    "fit = pystan.stan(model_code=coin_code, data=coin_data, iter=1000, chains=1)"
   ]
  },
  {
   "cell_type": "code",
   "execution_count": 16,
   "metadata": {
    "collapsed": false
   },
   "outputs": [
    {
     "name": "stdout",
     "output_type": "stream",
     "text": [
      "Inference for Stan model: anon_model_af22a0b762f58348ef2cf1056b0cbe6a.\n",
      "1 chains, each with iter=1000; warmup=500; thin=1; \n",
      "post-warmup draws per chain=500, total post-warmup draws=500.\n",
      "\n",
      "       mean se_mean     sd   2.5%    25%    50%    75%  97.5%  n_eff   Rhat\n",
      "p      0.61  2.1e-3   0.05   0.52   0.58   0.61   0.64    0.7  500.0    1.0\n",
      "lp__ -70.21    0.03   0.62 -71.97  -70.4 -69.98 -69.78 -69.74  500.0    1.0\n",
      "\n",
      "Samples were drawn using NUTS(diag_e) at Tue Oct 25 11:43:19 2016.\n",
      "For each parameter, n_eff is a crude measure of effective sample size,\n",
      "and Rhat is the potential scale reduction factor on split chains (at \n",
      "convergence, Rhat=1).\n"
     ]
    }
   ],
   "source": [
    "print fit"
   ]
  },
  {
   "cell_type": "code",
   "execution_count": null,
   "metadata": {
    "collapsed": true
   },
   "outputs": [],
   "source": []
  }
 ],
 "metadata": {
  "kernelspec": {
   "display_name": "Python 2",
   "language": "python",
   "name": "python2"
  },
  "language_info": {
   "codemirror_mode": {
    "name": "ipython",
    "version": 2
   },
   "file_extension": ".py",
   "mimetype": "text/x-python",
   "name": "python",
   "nbconvert_exporter": "python",
   "pygments_lexer": "ipython2",
   "version": "2.7.12"
  }
 },
 "nbformat": 4,
 "nbformat_minor": 0
}
