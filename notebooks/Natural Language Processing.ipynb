{
 "cells": [
  {
   "cell_type": "markdown",
   "metadata": {},
   "source": [
    "# Introduction to Data Science with Python \n",
    "## General Assembly\n",
    "## Natural Language Processing (NLP)\n",
    "\n",
    "Make sure you have installed nltk and downloaded the following copora:\n",
    "\n",
    "* punkt\n",
    "* gutenberg\n",
    "\n"
   ]
  },
  {
   "cell_type": "markdown",
   "metadata": {},
   "source": [
    "## Lab Part 1\n",
    "\n",
    "#### Tokenization\n",
    "\n",
    "What:  Separate text into units such as sentences or words\n",
    "\n",
    "Why:   Gives structure to previously unstructured text\n",
    "\n",
    "Notes: Relatively easy with English language text, not easy with some languages\n",
    "\n",
    "\n",
    "\"corpus\" = collection of documents\n",
    "\n",
    "\"corpora\" = plural form of corpus\n"
   ]
  },
  {
   "cell_type": "code",
   "execution_count": 50,
   "metadata": {
    "collapsed": true
   },
   "outputs": [],
   "source": [
    "import numpy as np\n",
    "import pandas as pd\n",
    "import matplotlib.pyplot as plt\n",
    "import seaborn as sb\n",
    "import sklearn.linear_model\n",
    "import sklearn.cross_validation\n",
    "import sklearn.metrics\n",
    "import nltk\n",
    "%matplotlib inline"
   ]
  },
  {
   "cell_type": "code",
   "execution_count": 2,
   "metadata": {
    "collapsed": false
   },
   "outputs": [
    {
     "data": {
      "text/plain": [
       "[u'austen-emma.txt',\n",
       " u'austen-persuasion.txt',\n",
       " u'austen-sense.txt',\n",
       " u'bible-kjv.txt',\n",
       " u'blake-poems.txt',\n",
       " u'bryant-stories.txt',\n",
       " u'burgess-busterbrown.txt',\n",
       " u'carroll-alice.txt',\n",
       " u'chesterton-ball.txt',\n",
       " u'chesterton-brown.txt',\n",
       " u'chesterton-thursday.txt',\n",
       " u'edgeworth-parents.txt',\n",
       " u'melville-moby_dick.txt',\n",
       " u'milton-paradise.txt',\n",
       " u'shakespeare-caesar.txt',\n",
       " u'shakespeare-hamlet.txt',\n",
       " u'shakespeare-macbeth.txt',\n",
       " u'whitman-leaves.txt']"
      ]
     },
     "execution_count": 2,
     "metadata": {},
     "output_type": "execute_result"
    }
   ],
   "source": [
    "# Import the NLTK library, and use ntlk.corpus.gutenberg.fileids() to\n",
    "# find the filenames for Jane Austen's Emma and Lewis Carrol's Alice in \n",
    "# Wonderland\n",
    "\n",
    "nltk.corpus.gutenberg.fileids()"
   ]
  },
  {
   "cell_type": "code",
   "execution_count": 3,
   "metadata": {
    "collapsed": true
   },
   "outputs": [],
   "source": [
    "# Break these novels up into sentences. Put these sentence lists into\n",
    "# a list so that you can use it later"
   ]
  },
  {
   "cell_type": "code",
   "execution_count": 4,
   "metadata": {
    "collapsed": false
   },
   "outputs": [],
   "source": [
    "#split austen-emma.txt\n",
    "#split carroll-alice.txt\n",
    "\n",
    "emma_aslist = nltk.sent_tokenize(nltk.corpus.gutenberg.raw('austen-emma.txt'))\n",
    "alice_aslist = nltk.sent_tokenize(nltk.corpus.gutenberg.raw('carroll-alice.txt'))\n"
   ]
  },
  {
   "cell_type": "code",
   "execution_count": 5,
   "metadata": {
    "collapsed": false
   },
   "outputs": [
    {
     "name": "stdout",
     "output_type": "stream",
     "text": [
      "Number of sentences in Emma: 7493\n",
      "Number of sentences in Alice: 1625\n"
     ]
    }
   ],
   "source": [
    "# Count the number of sentences in each novel.\n",
    "\n",
    "print 'Number of sentences in Emma:', len(emma_aslist)\n",
    "print 'Number of sentences in Alice:', len(alice_aslist)"
   ]
  },
  {
   "cell_type": "code",
   "execution_count": 6,
   "metadata": {
    "collapsed": false
   },
   "outputs": [
    {
     "data": {
      "text/plain": [
       "False"
      ]
     },
     "execution_count": 6,
     "metadata": {},
     "output_type": "execute_result"
    }
   ],
   "source": [
    "# Break each sentence up into words. You will end up with a \n",
    "# list of lists of words for Emma and another one for Alice in\n",
    "# Wonderland\n",
    "\n",
    "emma_list_of_words_per_sent = []\n",
    "alice_list_of_words_per_sent = []  \n",
    "\n",
    "for sent in emma_aslist:\n",
    "    words = [x for x in nltk.word_tokenize(sent) if x not in ['.','?']]\n",
    "    emma_list_of_words_per_sent.append(words)\n",
    "    \n",
    "for sent2 in alice_aslist:\n",
    "    words2 = [x2 for x2 in nltk.word_tokenize(sent2) if x2 not in ['.','?']]\n",
    "    alice_list_of_words_per_sent.append(words2)\n",
    "    \n",
    "alice_list_of_words_per_sent == emma_list_of_words_per_sent"
   ]
  },
  {
   "cell_type": "code",
   "execution_count": 7,
   "metadata": {
    "collapsed": false
   },
   "outputs": [
    {
     "name": "stdout",
     "output_type": "stream",
     "text": [
      "Avg. words per sentence in Emma:  24\n",
      "Avg. words per sentence in Alice:  19\n"
     ]
    }
   ],
   "source": [
    "# Count the number of words in each sentence\n",
    "\n",
    "emma_wc_per_sent = [len(x) for x in emma_list_of_words_per_sent]\n",
    "alice_wc_per_sent = [len(x) for x in alice_list_of_words_per_sent]\n",
    "\n",
    "print 'Avg. words per sentence in Emma: ', sum(emma_wc_per_sent) / len(emma_aslist)\n",
    "print 'Avg. words per sentence in Alice: ', sum(alice_wc_per_sent) / len(alice_aslist)"
   ]
  },
  {
   "cell_type": "code",
   "execution_count": 8,
   "metadata": {
    "collapsed": true
   },
   "outputs": [],
   "source": [
    "# Which novel has more average words per sentence?\n",
    "\n",
    "#Emma!\n",
    "\n",
    "# Given their target audience, is this what you would expect?\n",
    "\n",
    "#Yes"
   ]
  },
  {
   "cell_type": "code",
   "execution_count": 9,
   "metadata": {
    "collapsed": false
   },
   "outputs": [
    {
     "data": {
      "text/plain": [
       "False"
      ]
     },
     "execution_count": 9,
     "metadata": {},
     "output_type": "execute_result"
    }
   ],
   "source": [
    "# Create a flat list (i.e. not a list of lists) of words in\n",
    "# the two novels\n",
    "\n",
    "emma_words_used = set()\n",
    "alice_words_used = set()\n",
    "    \n",
    "for i in emma_list_of_words_per_sent:\n",
    "    for t in i:\n",
    "        emma_words_used.add(t)\n",
    "\n",
    "for a in alice_list_of_words_per_sent:\n",
    "    for l in a:\n",
    "        alice_words_used.add(l)\n",
    "        \n",
    "emma_words_used == alice_words_used"
   ]
  },
  {
   "cell_type": "code",
   "execution_count": 10,
   "metadata": {
    "collapsed": true
   },
   "outputs": [],
   "source": [
    "# For each novel, construct a set of all the distinct words used\n"
   ]
  },
  {
   "cell_type": "code",
   "execution_count": 11,
   "metadata": {
    "collapsed": false
   },
   "outputs": [
    {
     "name": "stdout",
     "output_type": "stream",
     "text": [
      "Lexical Div. for Emma:  0.0458264075757\n",
      "Lexical Div. for Alice:  0.0991815267793\n"
     ]
    }
   ],
   "source": [
    "# Calculate the lexical diversity of each novel (distinct words / word count)\n",
    "\n",
    "emma_lexdiv = float(len(emma_words_used)) / float(sum(emma_wc_per_sent))\n",
    "alice_lexdiv = float(len(alice_words_used)) / float(sum(alice_wc_per_sent))\n",
    "\n",
    "print 'Lexical Div. for Emma: ', emma_lexdiv\n",
    "print 'Lexical Div. for Alice: ', alice_lexdiv"
   ]
  },
  {
   "cell_type": "code",
   "execution_count": 12,
   "metadata": {
    "collapsed": false
   },
   "outputs": [
    {
     "data": {
      "text/plain": [
       "u'Emma'"
      ]
     },
     "execution_count": 12,
     "metadata": {},
     "output_type": "execute_result"
    }
   ],
   "source": [
    "emma_list_of_words_per_sent[0][1]"
   ]
  },
  {
   "cell_type": "code",
   "execution_count": 13,
   "metadata": {
    "collapsed": false
   },
   "outputs": [
    {
     "name": "stdout",
     "output_type": "stream",
     "text": [
      "working...\n",
      "working...\n",
      "working...\n",
      "working...\n",
      "working...\n",
      "working...\n",
      "working...\n",
      "working...\n",
      "working...\n",
      "working...\n",
      "working...\n",
      "working...\n",
      "working...\n",
      "working...\n",
      "working...\n",
      "working...\n",
      "working...\n",
      "working...\n"
     ]
    },
    {
     "data": {
      "text/html": [
       "<div>\n",
       "<table border=\"1\" class=\"dataframe\">\n",
       "  <thead>\n",
       "    <tr style=\"text-align: right;\">\n",
       "      <th></th>\n",
       "      <th>file_name</th>\n",
       "      <th>book_name</th>\n",
       "      <th>year</th>\n",
       "      <th>lexical_diversity</th>\n",
       "      <th>avg_sentence_length</th>\n",
       "      <th>target_audience</th>\n",
       "    </tr>\n",
       "  </thead>\n",
       "  <tbody>\n",
       "    <tr>\n",
       "      <th>0</th>\n",
       "      <td>austen-emma.txt</td>\n",
       "      <td>Emma</td>\n",
       "      <td>[Emma by Jane Austen 1816]\\n\\nVOLUME I\\n\\nCHAP...</td>\n",
       "      <td>0.045826</td>\n",
       "      <td>24.649273</td>\n",
       "      <td>NaN</td>\n",
       "    </tr>\n",
       "    <tr>\n",
       "      <th>1</th>\n",
       "      <td>austen-persuasion.txt</td>\n",
       "      <td>Persuasion</td>\n",
       "      <td>[Persuasion by Jane Austen 1818]\\n\\n\\nChapter ...</td>\n",
       "      <td>0.066186</td>\n",
       "      <td>25.876300</td>\n",
       "      <td>NaN</td>\n",
       "    </tr>\n",
       "    <tr>\n",
       "      <th>2</th>\n",
       "      <td>austen-sense.txt</td>\n",
       "      <td>Sense</td>\n",
       "      <td>[Sense and Sensibility by Jane Austen 1811]\\n\\...</td>\n",
       "      <td>0.051939</td>\n",
       "      <td>28.324436</td>\n",
       "      <td>NaN</td>\n",
       "    </tr>\n",
       "    <tr>\n",
       "      <th>3</th>\n",
       "      <td>bible-kjv.txt</td>\n",
       "      <td>The</td>\n",
       "      <td>[The King James Bible]\\n\\nThe Old Testament of...</td>\n",
       "      <td>0.019830</td>\n",
       "      <td>30.769925</td>\n",
       "      <td>NaN</td>\n",
       "    </tr>\n",
       "    <tr>\n",
       "      <th>4</th>\n",
       "      <td>blake-poems.txt</td>\n",
       "      <td>Poems</td>\n",
       "      <td>[Poems by William Blake 1789]\\n\\n \\nSONGS OF I...</td>\n",
       "      <td>0.227964</td>\n",
       "      <td>22.402817</td>\n",
       "      <td>NaN</td>\n",
       "    </tr>\n",
       "    <tr>\n",
       "      <th>5</th>\n",
       "      <td>bryant-stories.txt</td>\n",
       "      <td>Stories</td>\n",
       "      <td>[Stories to Tell to Children by Sara Cone Brya...</td>\n",
       "      <td>0.083938</td>\n",
       "      <td>19.658564</td>\n",
       "      <td>NaN</td>\n",
       "    </tr>\n",
       "    <tr>\n",
       "      <th>6</th>\n",
       "      <td>burgess-busterbrown.txt</td>\n",
       "      <td>The</td>\n",
       "      <td>[The Adventures of Buster Bear by Thornton W. ...</td>\n",
       "      <td>0.099253</td>\n",
       "      <td>17.644356</td>\n",
       "      <td>NaN</td>\n",
       "    </tr>\n",
       "    <tr>\n",
       "      <th>7</th>\n",
       "      <td>carroll-alice.txt</td>\n",
       "      <td>Alice</td>\n",
       "      <td>[Alice's Adventures in Wonderland by Lewis Car...</td>\n",
       "      <td>0.099182</td>\n",
       "      <td>19.774154</td>\n",
       "      <td>NaN</td>\n",
       "    </tr>\n",
       "    <tr>\n",
       "      <th>8</th>\n",
       "      <td>chesterton-ball.txt</td>\n",
       "      <td>The</td>\n",
       "      <td>[The Ball and The Cross by G.K. Chesterton 190...</td>\n",
       "      <td>0.097878</td>\n",
       "      <td>20.068988</td>\n",
       "      <td>NaN</td>\n",
       "    </tr>\n",
       "    <tr>\n",
       "      <th>9</th>\n",
       "      <td>chesterton-brown.txt</td>\n",
       "      <td>The</td>\n",
       "      <td>[The Wisdom of Father Brown by G. K. Chesterto...</td>\n",
       "      <td>0.104439</td>\n",
       "      <td>22.041487</td>\n",
       "      <td>NaN</td>\n",
       "    </tr>\n",
       "    <tr>\n",
       "      <th>10</th>\n",
       "      <td>chesterton-thursday.txt</td>\n",
       "      <td>The</td>\n",
       "      <td>[The Man Who Was Thursday by G. K. Chesterton ...</td>\n",
       "      <td>0.105066</td>\n",
       "      <td>18.412207</td>\n",
       "      <td>NaN</td>\n",
       "    </tr>\n",
       "    <tr>\n",
       "      <th>11</th>\n",
       "      <td>edgeworth-parents.txt</td>\n",
       "      <td>The</td>\n",
       "      <td>[The Parent's Assistant, by Maria Edgeworth]\\r...</td>\n",
       "      <td>0.049685</td>\n",
       "      <td>19.835578</td>\n",
       "      <td>NaN</td>\n",
       "    </tr>\n",
       "    <tr>\n",
       "      <th>12</th>\n",
       "      <td>melville-moby_dick.txt</td>\n",
       "      <td>Moby</td>\n",
       "      <td>[Moby Dick by Herman Melville 1851]\\r\\n\\r\\n\\r\\...</td>\n",
       "      <td>0.084130</td>\n",
       "      <td>25.038266</td>\n",
       "      <td>NaN</td>\n",
       "    </tr>\n",
       "    <tr>\n",
       "      <th>13</th>\n",
       "      <td>milton-paradise.txt</td>\n",
       "      <td>Paradise</td>\n",
       "      <td>[Paradise Lost by John Milton 1667] \\n \\n \\nBo...</td>\n",
       "      <td>0.116733</td>\n",
       "      <td>51.287193</td>\n",
       "      <td>NaN</td>\n",
       "    </tr>\n",
       "    <tr>\n",
       "      <th>14</th>\n",
       "      <td>shakespeare-caesar.txt</td>\n",
       "      <td>The</td>\n",
       "      <td>[The Tragedie of Julius Caesar by William Shak...</td>\n",
       "      <td>0.152669</td>\n",
       "      <td>14.853015</td>\n",
       "      <td>NaN</td>\n",
       "    </tr>\n",
       "    <tr>\n",
       "      <th>15</th>\n",
       "      <td>shakespeare-hamlet.txt</td>\n",
       "      <td>The</td>\n",
       "      <td>[The Tragedie of Hamlet by William Shakespeare...</td>\n",
       "      <td>0.162940</td>\n",
       "      <td>14.432272</td>\n",
       "      <td>NaN</td>\n",
       "    </tr>\n",
       "    <tr>\n",
       "      <th>16</th>\n",
       "      <td>shakespeare-macbeth.txt</td>\n",
       "      <td>The</td>\n",
       "      <td>[The Tragedie of Macbeth by William Shakespear...</td>\n",
       "      <td>0.197195</td>\n",
       "      <td>14.164505</td>\n",
       "      <td>NaN</td>\n",
       "    </tr>\n",
       "    <tr>\n",
       "      <th>17</th>\n",
       "      <td>whitman-leaves.txt</td>\n",
       "      <td>Leaves</td>\n",
       "      <td>[Leaves of Grass by Walt Whitman 1855]\\n\\n\\nCo...</td>\n",
       "      <td>0.106083</td>\n",
       "      <td>38.376274</td>\n",
       "      <td>NaN</td>\n",
       "    </tr>\n",
       "  </tbody>\n",
       "</table>\n",
       "</div>"
      ],
      "text/plain": [
       "                  file_name   book_name  \\\n",
       "0           austen-emma.txt        Emma   \n",
       "1     austen-persuasion.txt  Persuasion   \n",
       "2          austen-sense.txt       Sense   \n",
       "3             bible-kjv.txt         The   \n",
       "4           blake-poems.txt       Poems   \n",
       "5        bryant-stories.txt     Stories   \n",
       "6   burgess-busterbrown.txt         The   \n",
       "7         carroll-alice.txt       Alice   \n",
       "8       chesterton-ball.txt         The   \n",
       "9      chesterton-brown.txt         The   \n",
       "10  chesterton-thursday.txt         The   \n",
       "11    edgeworth-parents.txt         The   \n",
       "12   melville-moby_dick.txt        Moby   \n",
       "13      milton-paradise.txt    Paradise   \n",
       "14   shakespeare-caesar.txt         The   \n",
       "15   shakespeare-hamlet.txt         The   \n",
       "16  shakespeare-macbeth.txt         The   \n",
       "17       whitman-leaves.txt      Leaves   \n",
       "\n",
       "                                                 year  lexical_diversity  \\\n",
       "0   [Emma by Jane Austen 1816]\\n\\nVOLUME I\\n\\nCHAP...           0.045826   \n",
       "1   [Persuasion by Jane Austen 1818]\\n\\n\\nChapter ...           0.066186   \n",
       "2   [Sense and Sensibility by Jane Austen 1811]\\n\\...           0.051939   \n",
       "3   [The King James Bible]\\n\\nThe Old Testament of...           0.019830   \n",
       "4   [Poems by William Blake 1789]\\n\\n \\nSONGS OF I...           0.227964   \n",
       "5   [Stories to Tell to Children by Sara Cone Brya...           0.083938   \n",
       "6   [The Adventures of Buster Bear by Thornton W. ...           0.099253   \n",
       "7   [Alice's Adventures in Wonderland by Lewis Car...           0.099182   \n",
       "8   [The Ball and The Cross by G.K. Chesterton 190...           0.097878   \n",
       "9   [The Wisdom of Father Brown by G. K. Chesterto...           0.104439   \n",
       "10  [The Man Who Was Thursday by G. K. Chesterton ...           0.105066   \n",
       "11  [The Parent's Assistant, by Maria Edgeworth]\\r...           0.049685   \n",
       "12  [Moby Dick by Herman Melville 1851]\\r\\n\\r\\n\\r\\...           0.084130   \n",
       "13  [Paradise Lost by John Milton 1667] \\n \\n \\nBo...           0.116733   \n",
       "14  [The Tragedie of Julius Caesar by William Shak...           0.152669   \n",
       "15  [The Tragedie of Hamlet by William Shakespeare...           0.162940   \n",
       "16  [The Tragedie of Macbeth by William Shakespear...           0.197195   \n",
       "17  [Leaves of Grass by Walt Whitman 1855]\\n\\n\\nCo...           0.106083   \n",
       "\n",
       "    avg_sentence_length target_audience  \n",
       "0             24.649273             NaN  \n",
       "1             25.876300             NaN  \n",
       "2             28.324436             NaN  \n",
       "3             30.769925             NaN  \n",
       "4             22.402817             NaN  \n",
       "5             19.658564             NaN  \n",
       "6             17.644356             NaN  \n",
       "7             19.774154             NaN  \n",
       "8             20.068988             NaN  \n",
       "9             22.041487             NaN  \n",
       "10            18.412207             NaN  \n",
       "11            19.835578             NaN  \n",
       "12            25.038266             NaN  \n",
       "13            51.287193             NaN  \n",
       "14            14.853015             NaN  \n",
       "15            14.432272             NaN  \n",
       "16            14.164505             NaN  \n",
       "17            38.376274             NaN  "
      ]
     },
     "execution_count": 13,
     "metadata": {},
     "output_type": "execute_result"
    }
   ],
   "source": [
    "# (Optional, only for the very keen)\n",
    "# Repeat the above analysis for all the Gutenberg samples\n",
    "# Create a dataframe with the \n",
    "\n",
    "#=======================\n",
    "\n",
    "column_names = ['file_name',\n",
    "                'book_name', \n",
    "                'year',\n",
    "                'lexical_diversity', \n",
    "                'avg_sentence_length',\n",
    "                'target_audience']\n",
    "\n",
    "#target_audience_children # Can you use logistic regression to predict the audience, based on the content?\n",
    "\n",
    "#=========================\n",
    "\n",
    "#Part 0\n",
    "\n",
    "df = pd.DataFrame(columns=column_names)\n",
    "\n",
    "list_of_gut_books = ['austen-emma.txt',\n",
    "                    'austen-persuasion.txt',\n",
    "                    'austen-sense.txt',\n",
    "                    'bible-kjv.txt',\n",
    "                    'blake-poems.txt',\n",
    "                    'bryant-stories.txt',\n",
    "                    'burgess-busterbrown.txt',\n",
    "                    'carroll-alice.txt',\n",
    "                    'chesterton-ball.txt',\n",
    "                    'chesterton-brown.txt',\n",
    "                    'chesterton-thursday.txt',\n",
    "                    'edgeworth-parents.txt',\n",
    "                    'melville-moby_dick.txt',\n",
    "                    'milton-paradise.txt',\n",
    "                    'shakespeare-caesar.txt',\n",
    "                    'shakespeare-hamlet.txt',\n",
    "                    'shakespeare-macbeth.txt',\n",
    "                    'whitman-leaves.txt']\n",
    "\n",
    "book_name_list = []                       \n",
    "year_list = []                            \n",
    "lexical_diversity_list = []          \n",
    "avg_sentence_length_list = []        \n",
    "#target_audience_list = []\n",
    "\n",
    "for book in list_of_gut_books:\n",
    "        \n",
    "    #Part 1\n",
    "    book_aslist = nltk.sent_tokenize(nltk.corpus.gutenberg.raw(book))\n",
    "    year_list.append(book_aslist[0])\n",
    "\n",
    "    #Part 2\n",
    "    book_list_of_words_per_sent = []\n",
    "    for sent in book_aslist:\n",
    "        words = [x for x in nltk.word_tokenize(sent) if x not in ['.','?']]\n",
    "        book_list_of_words_per_sent.append(words)\n",
    "    \n",
    "    book_name_list.append(book_list_of_words_per_sent[0][1])\n",
    "        \n",
    "    #Part 3\n",
    "    book_wc_per_sent = [len(x) for x in book_list_of_words_per_sent]\n",
    "    avg_sentence_length = float(sum(book_wc_per_sent)) / float(len(book_aslist))\n",
    "    avg_sentence_length_list.append(avg_sentence_length)\n",
    "    \n",
    "    #Part 4\n",
    "    book_words_used = set()\n",
    "    for i in book_list_of_words_per_sent:\n",
    "        for t in i:\n",
    "            book_words_used.add(t)\n",
    "\n",
    "    #Part 5\n",
    "    book_lexdiv = float(len(book_words_used)) / float(sum(book_wc_per_sent))\n",
    "    lexical_diversity_list.append(book_lexdiv)\n",
    "\n",
    "    print 'working...'\n",
    "    \n",
    "#Part 6\n",
    "df.file_name = list_of_gut_books\n",
    "df.book_name = book_name_list\n",
    "df.year = year_list\n",
    "df.lexical_diversity = lexical_diversity_list\n",
    "df.avg_sentence_length = avg_sentence_length_list\n",
    "#df.target_audience = target_audience_list\n",
    "\n",
    "df"
   ]
  },
  {
   "cell_type": "code",
   "execution_count": 14,
   "metadata": {
    "collapsed": false
   },
   "outputs": [
    {
     "data": {
      "text/html": [
       "<div>\n",
       "<table border=\"1\" class=\"dataframe\">\n",
       "  <thead>\n",
       "    <tr style=\"text-align: right;\">\n",
       "      <th></th>\n",
       "      <th>file_name</th>\n",
       "      <th>book_name</th>\n",
       "      <th>year</th>\n",
       "      <th>lexical_diversity</th>\n",
       "      <th>avg_sentence_length</th>\n",
       "      <th>target_audience</th>\n",
       "    </tr>\n",
       "  </thead>\n",
       "  <tbody>\n",
       "    <tr>\n",
       "      <th>0</th>\n",
       "      <td>austen-emma.txt</td>\n",
       "      <td>Emma</td>\n",
       "      <td>[Emma by Jane Austen 1816]\\n\\nVOLUME I\\n\\nCHAP...</td>\n",
       "      <td>0.045826</td>\n",
       "      <td>24.649273</td>\n",
       "      <td>NaN</td>\n",
       "    </tr>\n",
       "    <tr>\n",
       "      <th>1</th>\n",
       "      <td>austen-persuasion.txt</td>\n",
       "      <td>Persuasion</td>\n",
       "      <td>[Persuasion by Jane Austen 1818]\\n\\n\\nChapter ...</td>\n",
       "      <td>0.066186</td>\n",
       "      <td>25.876300</td>\n",
       "      <td>NaN</td>\n",
       "    </tr>\n",
       "    <tr>\n",
       "      <th>2</th>\n",
       "      <td>austen-sense.txt</td>\n",
       "      <td>Sense</td>\n",
       "      <td>[Sense and Sensibility by Jane Austen 1811]\\n\\...</td>\n",
       "      <td>0.051939</td>\n",
       "      <td>28.324436</td>\n",
       "      <td>NaN</td>\n",
       "    </tr>\n",
       "    <tr>\n",
       "      <th>3</th>\n",
       "      <td>bible-kjv.txt</td>\n",
       "      <td>The</td>\n",
       "      <td>[The King James Bible]\\n\\nThe Old Testament of...</td>\n",
       "      <td>0.019830</td>\n",
       "      <td>30.769925</td>\n",
       "      <td>NaN</td>\n",
       "    </tr>\n",
       "    <tr>\n",
       "      <th>4</th>\n",
       "      <td>blake-poems.txt</td>\n",
       "      <td>Poems</td>\n",
       "      <td>[Poems by William Blake 1789]\\n\\n \\nSONGS OF I...</td>\n",
       "      <td>0.227964</td>\n",
       "      <td>22.402817</td>\n",
       "      <td>NaN</td>\n",
       "    </tr>\n",
       "  </tbody>\n",
       "</table>\n",
       "</div>"
      ],
      "text/plain": [
       "               file_name   book_name  \\\n",
       "0        austen-emma.txt        Emma   \n",
       "1  austen-persuasion.txt  Persuasion   \n",
       "2       austen-sense.txt       Sense   \n",
       "3          bible-kjv.txt         The   \n",
       "4        blake-poems.txt       Poems   \n",
       "\n",
       "                                                year  lexical_diversity  \\\n",
       "0  [Emma by Jane Austen 1816]\\n\\nVOLUME I\\n\\nCHAP...           0.045826   \n",
       "1  [Persuasion by Jane Austen 1818]\\n\\n\\nChapter ...           0.066186   \n",
       "2  [Sense and Sensibility by Jane Austen 1811]\\n\\...           0.051939   \n",
       "3  [The King James Bible]\\n\\nThe Old Testament of...           0.019830   \n",
       "4  [Poems by William Blake 1789]\\n\\n \\nSONGS OF I...           0.227964   \n",
       "\n",
       "   avg_sentence_length target_audience  \n",
       "0            24.649273             NaN  \n",
       "1            25.876300             NaN  \n",
       "2            28.324436             NaN  \n",
       "3            30.769925             NaN  \n",
       "4            22.402817             NaN  "
      ]
     },
     "execution_count": 14,
     "metadata": {},
     "output_type": "execute_result"
    }
   ],
   "source": [
    "df.head()"
   ]
  },
  {
   "cell_type": "code",
   "execution_count": 15,
   "metadata": {
    "collapsed": false
   },
   "outputs": [
    {
     "data": {
      "text/html": [
       "<div>\n",
       "<table border=\"1\" class=\"dataframe\">\n",
       "  <thead>\n",
       "    <tr style=\"text-align: right;\">\n",
       "      <th></th>\n",
       "      <th>lexical_diversity</th>\n",
       "      <th>avg_sentence_length</th>\n",
       "    </tr>\n",
       "  </thead>\n",
       "  <tbody>\n",
       "    <tr>\n",
       "      <th>lexical_diversity</th>\n",
       "      <td>1.000000</td>\n",
       "      <td>-0.274067</td>\n",
       "    </tr>\n",
       "    <tr>\n",
       "      <th>avg_sentence_length</th>\n",
       "      <td>-0.274067</td>\n",
       "      <td>1.000000</td>\n",
       "    </tr>\n",
       "  </tbody>\n",
       "</table>\n",
       "</div>"
      ],
      "text/plain": [
       "                     lexical_diversity  avg_sentence_length\n",
       "lexical_diversity             1.000000            -0.274067\n",
       "avg_sentence_length          -0.274067             1.000000"
      ]
     },
     "execution_count": 15,
     "metadata": {},
     "output_type": "execute_result"
    }
   ],
   "source": [
    "df.corr()"
   ]
  },
  {
   "cell_type": "code",
   "execution_count": 16,
   "metadata": {
    "collapsed": true
   },
   "outputs": [],
   "source": [
    "x = df[['avg_sentence_length']]\n",
    "y = df.lexical_diversity"
   ]
  },
  {
   "cell_type": "code",
   "execution_count": 17,
   "metadata": {
    "collapsed": false
   },
   "outputs": [
    {
     "data": {
      "text/plain": [
       "<matplotlib.collections.PathCollection at 0x11efd1b10>"
      ]
     },
     "execution_count": 17,
     "metadata": {},
     "output_type": "execute_result"
    },
    {
     "data": {
      "image/png": "[encoded data removed]",
      "text/plain": [
       "<matplotlib.figure.Figure at 0x105bd0f50>"
      ]
     },
     "metadata": {},
     "output_type": "display_data"
    }
   ],
   "source": [
    "plt.scatter(x,y)"
   ]
  },
  {
   "cell_type": "code",
   "execution_count": 18,
   "metadata": {
    "collapsed": false
   },
   "outputs": [
    {
     "data": {
      "image/png": "[encoded data removed]",
      "text/plain": [
       "<matplotlib.figure.Figure at 0x106f49cd0>"
      ]
     },
     "metadata": {},
     "output_type": "display_data"
    },
    {
     "name": "stdout",
     "output_type": "stream",
     "text": [
      "<bound method LinearRegression.score of LinearRegression(copy_X=True, fit_intercept=True, n_jobs=1, normalize=False)>\n",
      "[-0.00757562]\n",
      "0.260779546538\n"
     ]
    }
   ],
   "source": [
    "ransac = sklearn.linear_model.RANSACRegressor()\n",
    "ransac.fit(x,y)\n",
    "prediction = ransac.predict(x)\n",
    "\n",
    "plt.scatter(x,y)\n",
    "plt.plot(x, prediction, 'r--')\n",
    "plt.show()\n",
    "\n",
    "print ransac.estimator_.score\n",
    "print ransac.estimator_.coef_\n",
    "print ransac.estimator_.intercept_\n",
    " "
   ]
  },
  {
   "cell_type": "markdown",
   "metadata": {},
   "source": [
    "## Lab Part 2\n",
    "\n"
   ]
  },
  {
   "cell_type": "code",
   "execution_count": 19,
   "metadata": {
    "collapsed": true
   },
   "outputs": [],
   "source": [
    "# Make nltk.Text objects from the two novels\n",
    "\n",
    "words = nltk.word_tokenize(nltk.corpus.gutenberg.raw('austen-emma.txt'))\n",
    "emma = nltk.Text(words)\n",
    "\n",
    "words = nltk.word_tokenize(nltk.corpus.gutenberg.raw('carroll-alice.txt'))\n",
    "alice = nltk.Text(words)"
   ]
  },
  {
   "cell_type": "code",
   "execution_count": 20,
   "metadata": {
    "collapsed": false
   },
   "outputs": [
    {
     "name": "stdout",
     "output_type": "stream",
     "text": [
      "Displaying 5 of 5 matches:\n",
      " 'Hold your tongue , Ma ! ' said the young Crab , a little snappishly . 'You 'r\n",
      "You are old , Father William , ' the young man said , 'And your hair has become\n",
      "m getting tired of this . I vote the young lady tells us a story . ' 'I 'm afra\n",
      " ! ' said the Queen , 'and take this young lady to see the Mock Turtle , and to\n",
      "ears , but said nothing . 'This here young lady , ' said the Gryphon , 'she wan\n"
     ]
    }
   ],
   "source": [
    "# Does Jane Austen ever mention the word 'young' in Emma? What about Lewis Carroll?\n",
    "\n",
    "#emma.concordance('young')\n",
    "alice.concordance('young')"
   ]
  },
  {
   "cell_type": "code",
   "execution_count": 21,
   "metadata": {
    "collapsed": false
   },
   "outputs": [
    {
     "name": "stdout",
     "output_type": "stream",
     "text": [
      "accomplished_woman worthy_man the_farmer the_man unexceptionable_man\n",
      "a_man so_as amiable_man pretty_woman the_are a_man's too_: pert_lawyer\n",
      "of_person alarming_man ,_cox a_woman too_; the_woman of_men\n"
     ]
    }
   ],
   "source": [
    "# What are the common contexts for these words?\n",
    "emma.common_contexts(['young'])"
   ]
  },
  {
   "cell_type": "code",
   "execution_count": 42,
   "metadata": {
    "collapsed": false
   },
   "outputs": [
    {
     "data": {
      "image/png": "[encoded data removed]",
      "text/plain": [
       "<matplotlib.figure.Figure at 0x1267797d0>"
      ]
     },
     "metadata": {},
     "output_type": "display_data"
    }
   ],
   "source": [
    "# Where does the word 'cat' appear in Alice and Wonderland?\n",
    "alice.dispersion_plot(['cat'])"
   ]
  },
  {
   "cell_type": "markdown",
   "metadata": {},
   "source": [
    "## Lab Part 3\n",
    "\n",
    "###Stemming\n",
    "What:  Reduce a word to its base/stem form\n",
    "\n",
    "Why:   Often makes sense to treat multiple word forms the same way\n",
    "\n",
    "Notes: Uses a \"simple\" and fast rule-based approach\n",
    "       Output can be undesirable for irregular words\n",
    "       Stemmed words are usually not shown to users (used for analysis/indexing)\n",
    "       Some search engines treat words with the same stem as synonyms"
   ]
  },
  {
   "cell_type": "code",
   "execution_count": 46,
   "metadata": {
    "collapsed": true
   },
   "outputs": [],
   "source": [
    "import nltk.stem.snowball \n",
    "import nltk.stem.porter"
   ]
  },
  {
   "cell_type": "code",
   "execution_count": 47,
   "metadata": {
    "collapsed": false
   },
   "outputs": [],
   "source": [
    "# Create an English stemmer that uses the Snowball technique\n",
    "\n",
    "snowball = nltk.stem.snowball.SnowballStemmer('english')"
   ]
  },
  {
   "cell_type": "code",
   "execution_count": 25,
   "metadata": {
    "collapsed": false
   },
   "outputs": [
    {
     "name": "stdout",
     "output_type": "stream",
     "text": [
      "charg\n",
      "charg\n",
      "charg\n"
     ]
    }
   ],
   "source": [
    "# Stem the following words: charge, charging, charged\n",
    "print snowball.stem('charge')\n",
    "print snowball.stem('charging')\n",
    "print snowball.stem('charged')"
   ]
  },
  {
   "cell_type": "code",
   "execution_count": 26,
   "metadata": {
    "collapsed": false
   },
   "outputs": [
    {
     "name": "stdout",
     "output_type": "stream",
     "text": [
      "ac&dc\n",
      "ac.dc\n",
      "akb48\n",
      "a48bk\n"
     ]
    }
   ],
   "source": [
    "# Can you stem \"words\" with punctuation in them? Or which have no letters?\n",
    "\n",
    "print snowball.stem('AC&DC')\n",
    "print snowball.stem('AC.DC')\n",
    "print snowball.stem('AKB48')\n",
    "print snowball.stem('A48BK')"
   ]
  },
  {
   "cell_type": "code",
   "execution_count": 27,
   "metadata": {
    "collapsed": false
   },
   "outputs": [
    {
     "name": "stdout",
     "output_type": "stream",
     "text": [
      "all words:  8464\n",
      "all words:  8194\n"
     ]
    }
   ],
   "source": [
    "# Create a new list of words from the novels by dropping out spurious non-words.\n",
    "# You might find word_is_just_letters() helpful\n",
    "import re\n",
    "\n",
    "emma_words_used_refined = set()\n",
    "\n",
    "def word_is_just_letters(x):\n",
    "    for word in x:\n",
    "        keep = re.search('^[a-zA-Z]+', word)\n",
    "        if keep is not None:\n",
    "            emma_words_used_refined.add(word) \n",
    "\n",
    "word_is_just_letters(emma_words_used)\n",
    "\n",
    "print 'all words: ', len(emma_words_used)\n",
    "print 'all words: ', len(emma_words_used_refined)"
   ]
  },
  {
   "cell_type": "code",
   "execution_count": 69,
   "metadata": {
    "collapsed": false
   },
   "outputs": [
    {
     "name": "stdout",
     "output_type": "stream",
     "text": [
      "4994\n"
     ]
    }
   ],
   "source": [
    "# Stem all those words\n",
    "\n",
    "emma_stemmed_words = set()\n",
    "\n",
    "for w in emma_words_used_refined:\n",
    "    stem = snowball.stem(w)\n",
    "    emma_stemmed_words.add(stem)\n",
    "    \n",
    "print len(emma_stemmed_words)"
   ]
  },
  {
   "cell_type": "code",
   "execution_count": 74,
   "metadata": {
    "collapsed": false
   },
   "outputs": [],
   "source": [
    "# create two collections.Counter objects (one for each novel)\n",
    "# so that you can easily count word stems. If you give\n",
    "# the stemmed lists as an argument to constructor, \n",
    "# you can use .most_common(25) to get the top 25 tokens\n",
    "\n",
    "from collections import Counter\n",
    "import string"
   ]
  },
  {
   "cell_type": "code",
   "execution_count": 82,
   "metadata": {
    "collapsed": false
   },
   "outputs": [
    {
     "data": {
      "text/plain": [
       "[(u'inexperi', 1),\n",
       " (u'nurseri', 1),\n",
       " (u'overcome.', 1),\n",
       " (u'pardon', 1),\n",
       " (u'knight-errantri', 1),\n",
       " (u'resist', 1),\n",
       " (u'better.', 1),\n",
       " (u'over-salt', 1),\n",
       " (u'yellow', 1),\n",
       " (u'interchang', 1)]"
      ]
     },
     "execution_count": 82,
     "metadata": {},
     "output_type": "execute_result"
    }
   ],
   "source": [
    "#using the most recent group of stemmed words; problem in that all are unique\n",
    "Counter(emma_stemmed_words).most_common(10)"
   ]
  },
  {
   "cell_type": "code",
   "execution_count": 81,
   "metadata": {
    "collapsed": false
   },
   "outputs": [
    {
     "data": {
      "text/plain": [
       "[(u'the', 5198),\n",
       " (u'to', 5179),\n",
       " (u'and', 4875),\n",
       " (u'of', 4284),\n",
       " (u'i', 3164),\n",
       " (u'a', 3124),\n",
       " (u'it', 2622),\n",
       " (u'her', 2468),\n",
       " (u'was', 2396),\n",
       " (u'she', 2336)]"
      ]
     },
     "execution_count": 81,
     "metadata": {},
     "output_type": "execute_result"
    }
   ],
   "source": [
    "emma_words_used_refined = []\n",
    "emma_stemmed_words2 = []\n",
    "\n",
    "def word_is_just_letters(x):\n",
    "    for word in x:\n",
    "        keep = re.search('^[a-zA-Z]+', word)\n",
    "        if keep is not None:\n",
    "            emma_words_used_refined.append(word) \n",
    "\n",
    "word_is_just_letters(emma)\n",
    "\n",
    "for w in emma_words_used_refined:\n",
    "    stem = snowball.stem(w)\n",
    "    emma_stemmed_words2.append(stem)\n",
    "    \n",
    "Counter(emma_stemmed_words2).most_common(10)"
   ]
  },
  {
   "cell_type": "markdown",
   "metadata": {},
   "source": [
    "###Lemmatization / synset\n",
    "What:  Derive the canonical form ('lemma') of a word\n",
    "    \n",
    "Why:   Can be better than stemming, reduces words to a 'normal' form.\n",
    "    \n",
    "Notes: Uses a dictionary-based approach (slower than stemming)\n",
    "    "
   ]
  },
  {
   "cell_type": "code",
   "execution_count": 84,
   "metadata": {
    "collapsed": false
   },
   "outputs": [
    {
     "data": {
      "text/plain": [
       "[Synset('dog.n.01'),\n",
       " Synset('frump.n.01'),\n",
       " Synset('dog.n.03'),\n",
       " Synset('cad.n.01'),\n",
       " Synset('frank.n.02'),\n",
       " Synset('pawl.n.01'),\n",
       " Synset('andiron.n.01'),\n",
       " Synset('chase.v.01')]"
      ]
     },
     "execution_count": 84,
     "metadata": {},
     "output_type": "execute_result"
    }
   ],
   "source": [
    "nltk.corpus.wordnet.synsets('dog')"
   ]
  },
  {
   "cell_type": "code",
   "execution_count": 72,
   "metadata": {
    "collapsed": true
   },
   "outputs": [],
   "source": [
    "# What synsets does 'dog' belong to?\n",
    "\n"
   ]
  },
  {
   "cell_type": "code",
   "execution_count": 31,
   "metadata": {
    "collapsed": true
   },
   "outputs": [],
   "source": [
    "# Which synset is the one you were thinking of?\n",
    "\n"
   ]
  },
  {
   "cell_type": "code",
   "execution_count": 32,
   "metadata": {
    "collapsed": true
   },
   "outputs": [],
   "source": [
    "# What is its hypernym?\n",
    "\n"
   ]
  },
  {
   "cell_type": "code",
   "execution_count": 33,
   "metadata": {
    "collapsed": true
   },
   "outputs": [],
   "source": [
    "# What about wolves? What synsets does it belong to?\n",
    "\n"
   ]
  },
  {
   "cell_type": "code",
   "execution_count": 34,
   "metadata": {
    "collapsed": true
   },
   "outputs": [],
   "source": [
    "# How closely related are those concepts (dogs and wolves)?\n",
    "\n"
   ]
  },
  {
   "cell_type": "code",
   "execution_count": 35,
   "metadata": {
    "collapsed": true
   },
   "outputs": [],
   "source": [
    "# How closely related are the concepts 'dog' and 'novel'?\n",
    "\n"
   ]
  },
  {
   "cell_type": "markdown",
   "metadata": {},
   "source": [
    "## Lab Part 3 Part of speech tagging\n",
    "\n",
    "Other:\n",
    "- Analysing data with the Alchemy API\n",
    "- Further Reading"
   ]
  },
  {
   "cell_type": "markdown",
   "metadata": {},
   "source": [
    "###Part of Speech Tagging\n",
    "\n",
    "What:  Determine the part of speech of a word\n",
    "    \n",
    "Why:   This can inform other methods and models such as Named Entity Recognition\n",
    "    \n",
    "Notes: http://www.ling.upenn.edu/courses/Fall_2003/ling001/penn_treebank_pos.html"
   ]
  },
  {
   "cell_type": "code",
   "execution_count": 36,
   "metadata": {
    "collapsed": true
   },
   "outputs": [],
   "source": [
    "# Use nltk.pos_tag to parse a sentence\n"
   ]
  },
  {
   "cell_type": "code",
   "execution_count": 37,
   "metadata": {
    "collapsed": true
   },
   "outputs": [],
   "source": [
    "# (Optional for the enthusiastic)\n",
    "# What verbs did Jane Austen use a lot of?"
   ]
  },
  {
   "cell_type": "markdown",
   "metadata": {},
   "source": [
    "## Lab Part 4\n",
    "###Stopword Removal\n",
    "\n",
    "What:  Remove common words that will likely appear in any text\n",
    "    \n",
    "Why:   They don't tell you much about your text"
   ]
  },
  {
   "cell_type": "code",
   "execution_count": 38,
   "metadata": {
    "collapsed": false
   },
   "outputs": [
    {
     "ename": "NameError",
     "evalue": "name 'c' is not defined",
     "output_type": "error",
     "traceback": [
      "\u001b[0;31m---------------------------------------------------------------------------\u001b[0m",
      "\u001b[0;31mNameError\u001b[0m                                 Traceback (most recent call last)",
      "\u001b[0;32m<ipython-input-38-c06df35ae903>\u001b[0m in \u001b[0;36m<module>\u001b[0;34m()\u001b[0m\n\u001b[1;32m      1\u001b[0m \u001b[0;31m# most of top 25 stemmed tokens are \"worthless\"\u001b[0m\u001b[0;34m\u001b[0m\u001b[0;34m\u001b[0m\u001b[0m\n\u001b[0;32m----> 2\u001b[0;31m \u001b[0mc\u001b[0m\u001b[0;34m.\u001b[0m\u001b[0mmost_common\u001b[0m\u001b[0;34m(\u001b[0m\u001b[0;36m25\u001b[0m\u001b[0;34m)\u001b[0m\u001b[0;34m\u001b[0m\u001b[0m\n\u001b[0m",
      "\u001b[0;31mNameError\u001b[0m: name 'c' is not defined"
     ]
    }
   ],
   "source": [
    "# most of top 25 stemmed tokens are \"worthless\"\n",
    "c.most_common(25)"
   ]
  },
  {
   "cell_type": "code",
   "execution_count": null,
   "metadata": {
    "collapsed": true
   },
   "outputs": [],
   "source": [
    "# view the list of stopwords\n",
    "stopwords = nltk.corpus.stopwords.words('english')\n",
    "sorted(stopwords)"
   ]
  },
  {
   "cell_type": "code",
   "execution_count": null,
   "metadata": {
    "collapsed": true
   },
   "outputs": [],
   "source": [
    "##################\n",
    "### Exercise  ####\n",
    "##################\n",
    "\n",
    "\n",
    "# Create a variable called stemmed_stops which is the \n",
    "# stemmed version of each stopword in stopwords\n",
    "# Use the stemmer we used up above!\n",
    "\n",
    "# Then create a list called stemmed_tokens_no_stop that \n",
    "# contains only the tokens in stemmed_tokens that aren't in \n",
    "# stemmed_stops\n",
    "\n",
    "# Show the 25 most common stemmed non stop word tokens"
   ]
  },
  {
   "cell_type": "markdown",
   "metadata": {},
   "source": [
    "## Lab Part 5\n",
    "###Named Entity Recognition\n",
    "\n",
    "What:  Automatically extract the names of people, places, organizations, etc.\n",
    "\n",
    "Why:   Can help you to identify \"important\" words\n",
    "\n",
    "Notes: Training NER classifier requires a lot of annotated training data\n",
    "       Should be trained on data relevant to your task\n",
    "       Stanford NER classifier is the \"gold standard\""
   ]
  },
  {
   "cell_type": "code",
   "execution_count": null,
   "metadata": {
    "collapsed": true
   },
   "outputs": [],
   "source": [
    "sentence = 'Ian is an instructor for General Assembly'\n",
    "\n",
    "tokenized = nltk.word_tokenize(sentence)\n",
    "\n",
    "tokenized"
   ]
  },
  {
   "cell_type": "code",
   "execution_count": null,
   "metadata": {
    "collapsed": true
   },
   "outputs": [],
   "source": [
    "tagged = nltk.pos_tag(tokenized)\n",
    "\n",
    "tagged\n"
   ]
  },
  {
   "cell_type": "code",
   "execution_count": null,
   "metadata": {
    "collapsed": true
   },
   "outputs": [],
   "source": [
    "chunks = nltk.ne_chunk(tagged)\n",
    "\n",
    "chunks\n"
   ]
  },
  {
   "cell_type": "code",
   "execution_count": null,
   "metadata": {
    "collapsed": true
   },
   "outputs": [],
   "source": [
    "def extract_entities(text):\n",
    "    entities = []\n",
    "    # tokenize into sentences\n",
    "    for sentence in nltk.sent_tokenize(text):\n",
    "        # tokenize sentences into words\n",
    "        # add part-of-speech tags\n",
    "        # use NLTK's NER classifier\n",
    "        chunks = nltk.ne_chunk(nltk.pos_tag(nltk.word_tokenize(sentence)))\n",
    "        # parse the results\n",
    "        entities.extend([chunk for chunk in chunks if hasattr(chunk, 'label')])\n",
    "    return entities\n",
    "\n",
    "for entity in extract_entities('Ian is an instructor for General Assembly'):\n",
    "    print '[' + entity.label() + '] ' + ' '.join(c[0] for c in entity.leaves())"
   ]
  },
  {
   "cell_type": "markdown",
   "metadata": {},
   "source": [
    "## Lab Part 6\n",
    "###Term Frequency - Inverse Document Frequency (TF-IDF)\n",
    "\n",
    "What:  Computes \"relative frequency\" that a word appears in a document\n",
    "           compared to its frequency across all documents\n",
    "\n",
    "Why:   More useful than \"term frequency\" for identifying \"important\" words in\n",
    "           each document (high frequency in that document, low frequency in\n",
    "           other documents)\n",
    "\n",
    "Notes: Used for search engine scoring, text summarization, document clustering\n",
    "\n",
    "How: \n",
    "    TF(t) = (Number of times term t appears in a document) / (Total number of terms in the document).\n",
    "    IDF(t) = log_e(Total number of documents / Number of documents with term t in it)."
   ]
  },
  {
   "cell_type": "code",
   "execution_count": null,
   "metadata": {
    "collapsed": true
   },
   "outputs": [],
   "source": [
    "sample = ['Bob likes sports', 'Bob hates sports', 'Bob likes likes trees']\n",
    "\n",
    "import numpy as np\n",
    "from sklearn.feature_extraction.text import CountVectorizer\n",
    "\n",
    "vect = CountVectorizer()\n"
   ]
  },
  {
   "cell_type": "code",
   "execution_count": null,
   "metadata": {
    "collapsed": true
   },
   "outputs": [],
   "source": [
    "# Each row represents a sentence\n",
    "# Each column represents a word\n",
    "vect.fit_transform(sample).toarray()\n",
    "vect.get_feature_names()\n"
   ]
  },
  {
   "cell_type": "code",
   "execution_count": null,
   "metadata": {
    "collapsed": true
   },
   "outputs": [],
   "source": [
    "from sklearn.feature_extraction.text import TfidfVectorizer\n",
    "tfidf = TfidfVectorizer()\n",
    "tfidf.fit_transform(sample).toarray()\n",
    "tfidf.get_feature_names()\n"
   ]
  },
  {
   "cell_type": "code",
   "execution_count": null,
   "metadata": {
    "collapsed": true
   },
   "outputs": [],
   "source": [
    "# the IDF of each word\n",
    "idf = tfidf.idf_\n",
    "print dict(zip(tfidf.get_feature_names(), idf))\n"
   ]
  },
  {
   "cell_type": "code",
   "execution_count": null,
   "metadata": {
    "collapsed": true
   },
   "outputs": [],
   "source": [
    "###############\n",
    "## Exercise ###\n",
    "###############\n",
    "\n",
    "\n",
    "# for each sentence in sample, find the most \"interesting \n",
    "#words\" by ordering their tfidf in ascending order\n"
   ]
  },
  {
   "cell_type": "markdown",
   "metadata": {},
   "source": [
    "## Lab Part 7\n",
    "\n",
    "###LDA - Latent Dirichlet Allocation\n",
    "\n",
    "What:  Way of automatically discovering topics from sentences\n",
    "\n",
    "Why:   Much quicker than manually creating and identifying topic clusters"
   ]
  },
  {
   "cell_type": "code",
   "execution_count": null,
   "metadata": {
    "collapsed": true
   },
   "outputs": [],
   "source": [
    "import lda\n",
    "\n",
    "# Instantiate a count vectorizer with two additional parameters\n",
    "vect = CountVectorizer(stop_words='english', ngram_range=[1,3]) \n",
    "sentences_train = vect.fit_transform(sentences)\n"
   ]
  },
  {
   "cell_type": "code",
   "execution_count": null,
   "metadata": {
    "collapsed": true
   },
   "outputs": [],
   "source": [
    "# Instantiate an LDA model\n",
    "model = lda.LDA(n_topics=10, n_iter=500)\n",
    "model.fit(sentences_train) # Fit the model \n",
    "n_top_words = 10\n",
    "topic_word = model.topic_word_\n",
    "for i, topic_dist in enumerate(topic_word):\n",
    "    topic_words = np.array(vect.get_feature_names())[np.argsort(topic_dist)][:-n_top_words:-1]\n",
    "    print('Topic {}: {}'.format(i, ', '.join(topic_words)))\n"
   ]
  },
  {
   "cell_type": "code",
   "execution_count": null,
   "metadata": {
    "collapsed": true
   },
   "outputs": [],
   "source": [
    "# EXAMPLE: Automatically summarize a document\n",
    "\n",
    "\n",
    "# corpus of 2000 movie reviews\n",
    "from nltk.corpus import movie_reviews\n",
    "reviews = [movie_reviews.raw(filename) for filename in movie_reviews.fileids()]\n"
   ]
  },
  {
   "cell_type": "code",
   "execution_count": null,
   "metadata": {
    "collapsed": true
   },
   "outputs": [],
   "source": [
    "# create document-term matrix\n",
    "tfidf = TfidfVectorizer(stop_words='english')\n",
    "dtm = tfidf.fit_transform(reviews)\n",
    "features = tfidf.get_feature_names()"
   ]
  },
  {
   "cell_type": "code",
   "execution_count": null,
   "metadata": {
    "collapsed": true
   },
   "outputs": [],
   "source": [
    "import numpy as np\n"
   ]
  },
  {
   "cell_type": "code",
   "execution_count": null,
   "metadata": {
    "collapsed": true
   },
   "outputs": [],
   "source": [
    "# find the most and least \"interesting\" sentences in a randomly selected review\n",
    "def summarize():\n",
    "    \n",
    "    # choose a random movie review    \n",
    "    review_id = np.random.randint(0, len(reviews))\n",
    "    review_text = reviews[review_id]\n",
    "\n",
    "    # we are going to score each sentence in the review for \"interesting-ness\"\n",
    "    sent_scores = []\n",
    "    # tokenize document into sentences\n",
    "    for sentence in nltk.sent_tokenize(review_text):\n",
    "        # exclude short sentences\n",
    "        if len(sentence) > 6:\n",
    "            score = 0\n",
    "            token_count = 0\n",
    "            # tokenize sentence into words\n",
    "            tokens = nltk.word_tokenize(sentence)\n",
    "            # compute sentence \"score\" by summing TFIDF for each word\n",
    "            for token in tokens:\n",
    "                if token in features:\n",
    "                    score += dtm[review_id, features.index(token)]\n",
    "                    token_count += 1\n",
    "            # divide score by number of tokens\n",
    "            sent_scores.append((score / float(token_count + 1), sentence))\n",
    "\n",
    "    # lowest scoring sentences\n",
    "    print '\\nLOWEST:\\n'\n",
    "    for sent_score in sorted(sent_scores)[:3]:\n",
    "        print sent_score[1]\n",
    "\n",
    "    # highest scoring sentences\n",
    "    print '\\nHIGHEST:\\n'\n",
    "    for sent_score in sorted(sent_scores, reverse=True)[:3]:\n",
    "        print sent_score[1]\n",
    "\n",
    "# try it out!\n",
    "summarize()"
   ]
  },
  {
   "cell_type": "markdown",
   "metadata": {},
   "source": [
    "## Lab Part 8"
   ]
  },
  {
   "cell_type": "code",
   "execution_count": null,
   "metadata": {
    "collapsed": true
   },
   "outputs": [],
   "source": [
    "# TextBlob Demo: \"Simplified Text Processing\"\n",
    "# Installation: pip install textblob\n",
    "! pip install textblob"
   ]
  },
  {
   "cell_type": "code",
   "execution_count": null,
   "metadata": {
    "collapsed": true
   },
   "outputs": [],
   "source": [
    "from textblob import TextBlob, Word"
   ]
  },
  {
   "cell_type": "code",
   "execution_count": null,
   "metadata": {
    "collapsed": true
   },
   "outputs": [],
   "source": [
    "# identify words and noun phrases\n",
    "blob = TextBlob('Greg and Thamali are instructors for General Assembly')\n",
    "blob.words\n",
    "blob.noun_phrases"
   ]
  },
  {
   "cell_type": "code",
   "execution_count": null,
   "metadata": {
    "collapsed": true
   },
   "outputs": [],
   "source": [
    "# sentiment analysis\n",
    "blob = TextBlob('I hate this horrible movie. This movie is not very good.')\n",
    "blob.sentences\n",
    "blob.sentiment.polarity\n",
    "[sent.sentiment.polarity for sent in blob.sentences]"
   ]
  },
  {
   "cell_type": "code",
   "execution_count": null,
   "metadata": {
    "collapsed": true
   },
   "outputs": [],
   "source": [
    "# sentiment subjectivity\n",
    "TextBlob(\"I am a cool person\").sentiment.subjectivity # Pretty subjective\n",
    "TextBlob(\"I am a person\").sentiment.subjectivity # Pretty objective\n",
    "# different scores for essentially the same sentence\n",
    "print TextBlob('Greg and Thamali are instructors for General Assembly in Sydney').sentiment.subjectivity\n",
    "\n"
   ]
  },
  {
   "cell_type": "code",
   "execution_count": null,
   "metadata": {
    "collapsed": true
   },
   "outputs": [],
   "source": [
    "# singularize and pluralize\n",
    "blob = TextBlob('Put away the dishes.')\n",
    "[word.singularize() for word in blob.words]"
   ]
  },
  {
   "cell_type": "code",
   "execution_count": null,
   "metadata": {
    "collapsed": true
   },
   "outputs": [],
   "source": [
    "[word.pluralize() for word in blob.words]\n"
   ]
  },
  {
   "cell_type": "code",
   "execution_count": null,
   "metadata": {
    "collapsed": true
   },
   "outputs": [],
   "source": [
    "# spelling correction\n",
    "blob = TextBlob('15 minuets late')\n",
    "blob.correct()"
   ]
  },
  {
   "cell_type": "code",
   "execution_count": null,
   "metadata": {
    "collapsed": true
   },
   "outputs": [],
   "source": [
    "# spellcheck\n",
    "Word('parot').spellcheck()\n"
   ]
  },
  {
   "cell_type": "code",
   "execution_count": null,
   "metadata": {
    "collapsed": true
   },
   "outputs": [],
   "source": [
    "# definitions\n",
    "Word('bank').define()\n",
    "Word('bank').define('v')"
   ]
  },
  {
   "cell_type": "code",
   "execution_count": null,
   "metadata": {
    "collapsed": true
   },
   "outputs": [],
   "source": [
    "# translation and language identification\n",
    "blob = TextBlob('Welcome to the classroom.')\n",
    "blob.translate(to='es')\n",
    "blob = TextBlob('Hola amigos')\n",
    "blob.detect_language()"
   ]
  },
  {
   "cell_type": "code",
   "execution_count": null,
   "metadata": {
    "collapsed": true
   },
   "outputs": [],
   "source": []
  }
 ],
 "metadata": {
  "kernelspec": {
   "display_name": "Python 2",
   "language": "python",
   "name": "python2"
  },
  "language_info": {
   "codemirror_mode": {
    "name": "ipython",
    "version": 2
   },
   "file_extension": ".py",
   "mimetype": "text/x-python",
   "name": "python",
   "nbconvert_exporter": "python",
   "pygments_lexer": "ipython2",
   "version": "2.7.12"
  }
 },
 "nbformat": 4,
 "nbformat_minor": 0
}
