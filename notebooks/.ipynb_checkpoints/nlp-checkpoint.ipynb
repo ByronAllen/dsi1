{
 "cells": [
  {
   "cell_type": "markdown",
   "metadata": {},
   "source": [
    "# NLP Introduction"
   ]
  },
  {
   "cell_type": "code",
   "execution_count": 2,
   "metadata": {
    "collapsed": true
   },
   "outputs": [],
   "source": [
    "import nltk\n",
    "#import textblob\n",
    "#import lda"
   ]
  },
  {
   "cell_type": "code",
   "execution_count": null,
   "metadata": {
    "collapsed": false
   },
   "outputs": [],
   "source": [
    "#nltk.download()"
   ]
  },
  {
   "cell_type": "code",
   "execution_count": 9,
   "metadata": {
    "collapsed": false
   },
   "outputs": [
    {
     "data": {
      "text/plain": [
       "[u'austen-emma.txt',\n",
       " u'austen-persuasion.txt',\n",
       " u'austen-sense.txt',\n",
       " u'bible-kjv.txt',\n",
       " u'blake-poems.txt',\n",
       " u'bryant-stories.txt',\n",
       " u'burgess-busterbrown.txt',\n",
       " u'carroll-alice.txt',\n",
       " u'chesterton-ball.txt',\n",
       " u'chesterton-brown.txt',\n",
       " u'chesterton-thursday.txt',\n",
       " u'edgeworth-parents.txt',\n",
       " u'melville-moby_dick.txt',\n",
       " u'milton-paradise.txt',\n",
       " u'shakespeare-caesar.txt',\n",
       " u'shakespeare-hamlet.txt',\n",
       " u'shakespeare-macbeth.txt',\n",
       " u'whitman-leaves.txt']"
      ]
     },
     "execution_count": 9,
     "metadata": {},
     "output_type": "execute_result"
    }
   ],
   "source": [
    "nltk.corpus.gutenberg.fileids()"
   ]
  },
  {
   "cell_type": "code",
   "execution_count": 8,
   "metadata": {
    "collapsed": false
   },
   "outputs": [
    {
     "data": {
      "text/plain": [
       "['This is a sentence.', 'So is this.']"
      ]
     },
     "execution_count": 8,
     "metadata": {},
     "output_type": "execute_result"
    }
   ],
   "source": [
    "nltk.sent_tokenize(\"This is a sentence. So is this.\")"
   ]
  },
  {
   "cell_type": "code",
   "execution_count": 9,
   "metadata": {
    "collapsed": false
   },
   "outputs": [
    {
     "data": {
      "text/plain": [
       "[u\"[Alice's Adventures in Wonderland by Lewis Carroll 1865]\\n\\nCHAPTER I.\",\n",
       " u\"Down the Rabbit-Hole\\n\\nAlice was beginning to get very tired of sitting by her sister on the\\nbank, and of having nothing to do: once or twice she had peeped into the\\nbook her sister was reading, but it had no pictures or conversations in\\nit, 'and what is the use of a book,' thought Alice 'without pictures or\\nconversation?'\",\n",
       " u'So she was considering in her own mind (as well as she could, for the\\nhot day made her feel very sleepy and stupid), whether the pleasure\\nof making a daisy-chain would be worth the trouble of getting up and\\npicking the daisies, when suddenly a White Rabbit with pink eyes ran\\nclose by her.',\n",
       " u\"There was nothing so VERY remarkable in that; nor did Alice think it so\\nVERY much out of the way to hear the Rabbit say to itself, 'Oh dear!\",\n",
       " u'Oh dear!',\n",
       " u\"I shall be late!'\",\n",
       " u'(when she thought it over afterwards, it\\noccurred to her that she ought to have wondered at this, but at the time\\nit all seemed quite natural); but when the Rabbit actually TOOK A WATCH\\nOUT OF ITS WAISTCOAT-POCKET, and looked at it, and then hurried on,\\nAlice started to her feet, for it flashed across her mind that she had\\nnever before seen a rabbit with either a waistcoat-pocket, or a watch\\nto take out of it, and burning with curiosity, she ran across the field\\nafter it, and fortunately was just in time to see it pop down a large\\nrabbit-hole under the hedge.',\n",
       " u'In another moment down went Alice after it, never once considering how\\nin the world she was to get out again.',\n",
       " u'The rabbit-hole went straight on like a tunnel for some way, and then\\ndipped suddenly down, so suddenly that Alice had not a moment to think\\nabout stopping herself before she found herself falling down a very deep\\nwell.',\n",
       " u'Either the well was very deep, or she fell very slowly, for she had\\nplenty of time as she went down to look about her and to wonder what was\\ngoing to happen next.',\n",
       " u'First, she tried to look down and make out what\\nshe was coming to, but it was too dark to see anything; then she\\nlooked at the sides of the well, and noticed that they were filled with\\ncupboards and book-shelves; here and there she saw maps and pictures\\nhung upon pegs.',\n",
       " u\"She took down a jar from one of the shelves as\\nshe passed; it was labelled 'ORANGE MARMALADE', but to her great\\ndisappointment it was empty: she did not like to drop the jar for fear\\nof killing somebody, so managed to put it into one of the cupboards as\\nshe fell past it.\",\n",
       " u\"'Well!'\",\n",
       " u\"thought Alice to herself, 'after such a fall as this, I shall\\nthink nothing of tumbling down stairs!\",\n",
       " u\"How brave they'll all think me at\\nhome!\",\n",
       " u\"Why, I wouldn't say anything about it, even if I fell off the top\\nof the house!'\",\n",
       " u'(Which was very likely true.)',\n",
       " u'Down, down, down.',\n",
       " u'Would the fall NEVER come to an end!',\n",
       " u\"'I wonder how\\nmany miles I've fallen by this time?'\",\n",
       " u'she said aloud.',\n",
       " u\"'I must be getting\\nsomewhere near the centre of the earth.\",\n",
       " u\"Let me see: that would be four\\nthousand miles down, I think--' (for, you see, Alice had learnt several\\nthings of this sort in her lessons in the schoolroom, and though this\\nwas not a VERY good opportunity for showing off her knowledge, as there\\nwas no one to listen to her, still it was good practice to say it over)\\n'--yes, that's about the right distance--but then I wonder what Latitude\\nor Longitude I've got to?'\",\n",
       " u'(Alice had no idea what Latitude was, or\\nLongitude either, but thought they were nice grand words to say.)',\n",
       " u'Presently she began again.',\n",
       " u\"'I wonder if I shall fall right THROUGH the\\nearth!\",\n",
       " u\"How funny it'll seem to come out among the people that walk with\\ntheir heads downward!\",\n",
       " u\"The Antipathies, I think--' (she was rather glad\\nthere WAS no one listening, this time, as it didn't sound at all the\\nright word) '--but I shall have to ask them what the name of the country\\nis, you know.\",\n",
       " u\"Please, Ma'am, is this New Zealand or Australia?'\",\n",
       " u\"(and\\nshe tried to curtsey as she spoke--fancy CURTSEYING as you're falling\\nthrough the air!\",\n",
       " u'Do you think you could manage it?)',\n",
       " u\"'And what an\\nignorant little girl she'll think me for asking!\",\n",
       " u\"No, it'll never do to\\nask: perhaps I shall see it written up somewhere.'\",\n",
       " u'Down, down, down.',\n",
       " u'There was nothing else to do, so Alice soon began\\ntalking again.',\n",
       " u\"'Dinah'll miss me very much to-night, I should think!'\",\n",
       " u'(Dinah was the cat.)',\n",
       " u\"'I hope they'll remember her saucer of milk at\\ntea-time.\",\n",
       " u'Dinah my dear!',\n",
       " u'I wish you were down here with me!',\n",
       " u\"There are no\\nmice in the air, I'm afraid, but you might catch a bat, and that's very\\nlike a mouse, you know.\",\n",
       " u\"But do cats eat bats, I wonder?'\",\n",
       " u\"And here Alice\\nbegan to get rather sleepy, and went on saying to herself, in a dreamy\\nsort of way, 'Do cats eat bats?\",\n",
       " u\"Do cats eat bats?'\",\n",
       " u\"and sometimes, 'Do\\nbats eat cats?'\",\n",
       " u\"for, you see, as she couldn't answer either question,\\nit didn't much matter which way she put it.\",\n",
       " u\"She felt that she was dozing\\noff, and had just begun to dream that she was walking hand in hand with\\nDinah, and saying to her very earnestly, 'Now, Dinah, tell me the truth:\\ndid you ever eat a bat?'\",\n",
       " u'when suddenly, thump!',\n",
       " u'thump!',\n",
       " u'down she came upon\\na heap of sticks and dry leaves, and the fall was over.',\n",
       " u'Alice was not a bit hurt, and she jumped up on to her feet in a moment:\\nshe looked up, but it was all dark overhead; before her was another\\nlong passage, and the White Rabbit was still in sight, hurrying down it.',\n",
       " u\"There was not a moment to be lost: away went Alice like the wind, and\\nwas just in time to hear it say, as it turned a corner, 'Oh my ears\\nand whiskers, how late it's getting!'\",\n",
       " u'She was close behind it when she\\nturned the corner, but the Rabbit was no longer to be seen: she found\\nherself in a long, low hall, which was lit up by a row of lamps hanging\\nfrom the roof.',\n",
       " u'There were doors all round the hall, but they were all locked; and when\\nAlice had been all the way down one side and up the other, trying every\\ndoor, she walked sadly down the middle, wondering how she was ever to\\nget out again.',\n",
       " u\"Suddenly she came upon a little three-legged table, all made of solid\\nglass; there was nothing on it except a tiny golden key, and Alice's\\nfirst thought was that it might belong to one of the doors of the hall;\\nbut, alas!\",\n",
       " u'either the locks were too large, or the key was too small,\\nbut at any rate it would not open any of them.',\n",
       " u'However, on the second\\ntime round, she came upon a low curtain she had not noticed before, and\\nbehind it was a little door about fifteen inches high: she tried the\\nlittle golden key in the lock, and to her great delight it fitted!',\n",
       " u'Alice opened the door and found that it led into a small passage, not\\nmuch larger than a rat-hole: she knelt down and looked along the passage\\ninto the loveliest garden you ever saw.',\n",
       " u\"How she longed to get out of\\nthat dark hall, and wander about among those beds of bright flowers and\\nthose cool fountains, but she could not even get her head through the\\ndoorway; 'and even if my head would go through,' thought poor Alice, 'it\\nwould be of very little use without my shoulders.\",\n",
       " u'Oh, how I wish I could\\nshut up like a telescope!',\n",
       " u\"I think I could, if I only know how to begin.'\",\n",
       " u'For, you see, so many out-of-the-way things had happened lately,\\nthat Alice had begun to think that very few things indeed were really\\nimpossible.',\n",
       " u\"There seemed to be no use in waiting by the little door, so she went\\nback to the table, half hoping she might find another key on it, or at\\nany rate a book of rules for shutting people up like telescopes: this\\ntime she found a little bottle on it, ('which certainly was not here\\nbefore,' said Alice,) and round the neck of the bottle was a paper\\nlabel, with the words 'DRINK ME' beautifully printed on it in large\\nletters.\",\n",
       " u\"It was all very well to say 'Drink me,' but the wise little Alice was\\nnot going to do THAT in a hurry.\",\n",
       " u'\\'No, I\\'ll look first,\\' she said, \\'and\\nsee whether it\\'s marked \"poison\" or not\\'; for she had read several nice\\nlittle histories about children who had got burnt, and eaten up by wild\\nbeasts and other unpleasant things, all because they WOULD not remember\\nthe simple rules their friends had taught them: such as, that a red-hot\\npoker will burn you if you hold it too long; and that if you cut your\\nfinger VERY deeply with a knife, it usually bleeds; and she had never\\nforgotten that, if you drink much from a bottle marked \\'poison,\\' it is\\nalmost certain to disagree with you, sooner or later.',\n",
       " u\"However, this bottle was NOT marked 'poison,' so Alice ventured to taste\\nit, and finding it very nice, (it had, in fact, a sort of mixed flavour\\nof cherry-tart, custard, pine-apple, roast turkey, toffee, and hot\\nbuttered toast,) she very soon finished it off.\",\n",
       " u\"*    *    *    *    *    *    *\\n\\n    *    *    *    *    *    *\\n\\n  *    *    *    *    *    *    *\\n\\n'What a curious feeling!'\",\n",
       " u\"said Alice; 'I must be shutting up like a\\ntelescope.'\",\n",
       " u'And so it was indeed: she was now only ten inches high, and her face\\nbrightened up at the thought that she was now the right size for going\\nthrough the little door into that lovely garden.',\n",
       " u\"First, however, she\\nwaited for a few minutes to see if she was going to shrink any further:\\nshe felt a little nervous about this; 'for it might end, you know,' said\\nAlice to herself, 'in my going out altogether, like a candle.\",\n",
       " u\"I wonder\\nwhat I should be like then?'\",\n",
       " u'And she tried to fancy what the flame of a\\ncandle is like after the candle is blown out, for she could not remember\\never having seen such a thing.',\n",
       " u'After a while, finding that nothing more happened, she decided on going\\ninto the garden at once; but, alas for poor Alice!',\n",
       " u'when she got to the\\ndoor, she found she had forgotten the little golden key, and when she\\nwent back to the table for it, she found she could not possibly reach\\nit: she could see it quite plainly through the glass, and she tried her\\nbest to climb up one of the legs of the table, but it was too slippery;\\nand when she had tired herself out with trying, the poor little thing\\nsat down and cried.',\n",
       " u\"'Come, there's no use in crying like that!'\",\n",
       " u\"said Alice to herself,\\nrather sharply; 'I advise you to leave off this minute!'\",\n",
       " u'She generally\\ngave herself very good advice, (though she very seldom followed it),\\nand sometimes she scolded herself so severely as to bring tears into\\nher eyes; and once she remembered trying to box her own ears for having\\ncheated herself in a game of croquet she was playing against herself,\\nfor this curious child was very fond of pretending to be two people.',\n",
       " u\"'But it's no use now,' thought poor Alice, 'to pretend to be two people!\",\n",
       " u\"Why, there's hardly enough of me left to make ONE respectable person!'\",\n",
       " u\"Soon her eye fell on a little glass box that was lying under the table:\\nshe opened it, and found in it a very small cake, on which the words\\n'EAT ME' were beautifully marked in currants.\",\n",
       " u\"'Well, I'll eat it,' said\\nAlice, 'and if it makes me grow larger, I can reach the key; and if it\\nmakes me grow smaller, I can creep under the door; so either way I'll\\nget into the garden, and I don't care which happens!'\",\n",
       " u\"She ate a little bit, and said anxiously to herself, 'Which way?\",\n",
       " u'Which\\nway?',\n",
       " u\"', holding her hand on the top of her head to feel which way it was\\ngrowing, and she was quite surprised to find that she remained the same\\nsize: to be sure, this generally happens when one eats cake, but Alice\\nhad got so much into the way of expecting nothing but out-of-the-way\\nthings to happen, that it seemed quite dull and stupid for life to go on\\nin the common way.\",\n",
       " u'So she set to work, and very soon finished off the cake.',\n",
       " u'*    *    *    *    *    *    *\\n\\n    *    *    *    *    *    *\\n\\n  *    *    *    *    *    *    *\\n\\n\\n\\n\\nCHAPTER II.',\n",
       " u\"The Pool of Tears\\n\\n'Curiouser and curiouser!'\",\n",
       " u\"cried Alice (she was so much surprised, that\\nfor the moment she quite forgot how to speak good English); 'now I'm\\nopening out like the largest telescope that ever was!\",\n",
       " u\"Good-bye, feet!'\",\n",
       " u'(for when she looked down at her feet, they seemed to be almost out of\\nsight, they were getting so far off).',\n",
       " u\"'Oh, my poor little feet, I wonder\\nwho will put on your shoes and stockings for you now, dears?\",\n",
       " u\"I'm sure\\n_I_ shan't be able!\",\n",
       " u\"I shall be a great deal too far off to trouble\\nmyself about you: you must manage the best way you can;--but I must be\\nkind to them,' thought Alice, 'or perhaps they won't walk the way I want\\nto go!\",\n",
       " u\"Let me see: I'll give them a new pair of boots every Christmas.'\",\n",
       " u'And she went on planning to herself how she would manage it.',\n",
       " u\"'They must\\ngo by the carrier,' she thought; 'and how funny it'll seem, sending\\npresents to one's own feet!\",\n",
       " u'And how odd the directions will look!',\n",
       " u\"ALICE'S RIGHT FOOT, ESQ.\",\n",
       " u\"HEARTHRUG,\\n         NEAR THE FENDER,\\n           (WITH ALICE'S LOVE).\",\n",
       " u\"Oh dear, what nonsense I'm talking!'\",\n",
       " u'Just then her head struck against the roof of the hall: in fact she was\\nnow more than nine feet high, and she at once took up the little golden\\nkey and hurried off to the garden door.',\n",
       " u'Poor Alice!',\n",
       " u'It was as much as she could do, lying down on one side, to\\nlook through into the garden with one eye; but to get through was more\\nhopeless than ever: she sat down and began to cry again.',\n",
       " u\"'You ought to be ashamed of yourself,' said Alice, 'a great girl like\\nyou,' (she might well say this), 'to go on crying in this way!\",\n",
       " u\"Stop this\\nmoment, I tell you!'\",\n",
       " u'But she went on all the same, shedding gallons of\\ntears, until there was a large pool all round her, about four inches\\ndeep and reaching half down the hall.',\n",
       " u'After a time she heard a little pattering of feet in the distance, and\\nshe hastily dried her eyes to see what was coming.',\n",
       " u\"It was the White\\nRabbit returning, splendidly dressed, with a pair of white kid gloves in\\none hand and a large fan in the other: he came trotting along in a great\\nhurry, muttering to himself as he came, 'Oh!\",\n",
       " u'the Duchess, the Duchess!',\n",
       " u'Oh!',\n",
       " u\"won't she be savage if I've kept her waiting!'\",\n",
       " u\"Alice felt so\\ndesperate that she was ready to ask help of any one; so, when the Rabbit\\ncame near her, she began, in a low, timid voice, 'If you please, sir--'\\nThe Rabbit started violently, dropped the white kid gloves and the fan,\\nand skurried away into the darkness as hard as he could go.\",\n",
       " u\"Alice took up the fan and gloves, and, as the hall was very hot, she\\nkept fanning herself all the time she went on talking: 'Dear, dear!\",\n",
       " u'How\\nqueer everything is to-day!',\n",
       " u'And yesterday things went on just as usual.',\n",
       " u\"I wonder if I've been changed in the night?\",\n",
       " u'Let me think: was I the\\nsame when I got up this morning?',\n",
       " u'I almost think I can remember feeling a\\nlittle different.',\n",
       " u\"But if I'm not the same, the next question is, Who\\nin the world am I?\",\n",
       " u\"Ah, THAT'S the great puzzle!'\",\n",
       " u'And she began thinking\\nover all the children she knew that were of the same age as herself, to\\nsee if she could have been changed for any of them.',\n",
       " u\"'I'm sure I'm not Ada,' she said, 'for her hair goes in such long\\nringlets, and mine doesn't go in ringlets at all; and I'm sure I can't\\nbe Mabel, for I know all sorts of things, and she, oh!\",\n",
       " u'she knows such a\\nvery little!',\n",
       " u\"Besides, SHE'S she, and I'm I, and--oh dear, how puzzling\\nit all is!\",\n",
       " u\"I'll try if I know all the things I used to know.\",\n",
       " u'Let me\\nsee: four times five is twelve, and four times six is thirteen, and\\nfour times seven is--oh dear!',\n",
       " u'I shall never get to twenty at that rate!',\n",
       " u\"However, the Multiplication Table doesn't signify: let's try Geography.\",\n",
       " u\"London is the capital of Paris, and Paris is the capital of Rome, and\\nRome--no, THAT'S all wrong, I'm certain!\",\n",
       " u'I must have been changed for\\nMabel!',\n",
       " u'I\\'ll try and say \"How doth the little--\"\\' and she crossed her\\nhands on her lap as if she were saying lessons, and began to repeat it,\\nbut her voice sounded hoarse and strange, and the words did not come the\\nsame as they used to do:--\\n\\n     \\'How doth the little crocodile\\n      Improve his shining tail,\\n     And pour the waters of the Nile\\n      On every golden scale!',\n",
       " u\"'How cheerfully he seems to grin,\\n      How neatly spread his claws,\\n     And welcome little fishes in\\n      With gently smiling jaws!'\",\n",
       " u\"'I'm sure those are not the right words,' said poor Alice, and her eyes\\nfilled with tears again as she went on, 'I must be Mabel after all, and\\nI shall have to go and live in that poky little house, and have next to\\nno toys to play with, and oh!\",\n",
       " u'ever so many lessons to learn!',\n",
       " u\"No, I've\\nmade up my mind about it; if I'm Mabel, I'll stay down here!\",\n",
       " u'It\\'ll be no\\nuse their putting their heads down and saying \"Come up again, dear!\"',\n",
       " u'I\\nshall only look up and say \"Who am I then?',\n",
       " u'Tell me that first, and then,\\nif I like being that person, I\\'ll come up: if not, I\\'ll stay down here\\ntill I\\'m somebody else\"--but, oh dear!\\'',\n",
       " u\"cried Alice, with a sudden burst\\nof tears, 'I do wish they WOULD put their heads down!\",\n",
       " u\"I am so VERY tired\\nof being all alone here!'\",\n",
       " u\"As she said this she looked down at her hands, and was surprised to see\\nthat she had put on one of the Rabbit's little white kid gloves while\\nshe was talking.\",\n",
       " u\"'How CAN I have done that?'\",\n",
       " u'she thought.',\n",
       " u\"'I must\\nbe growing small again.'\",\n",
       " u'She got up and went to the table to measure\\nherself by it, and found that, as nearly as she could guess, she was now\\nabout two feet high, and was going on shrinking rapidly: she soon found\\nout that the cause of this was the fan she was holding, and she dropped\\nit hastily, just in time to avoid shrinking away altogether.',\n",
       " u\"'That WAS a narrow escape!'\",\n",
       " u\"said Alice, a good deal frightened at the\\nsudden change, but very glad to find herself still in existence; 'and\\nnow for the garden!'\",\n",
       " u'and she ran with all speed back to the little door:\\nbut, alas!',\n",
       " u\"the little door was shut again, and the little golden key was\\nlying on the glass table as before, 'and things are worse than ever,'\\nthought the poor child, 'for I never was so small as this before, never!\",\n",
       " u\"And I declare it's too bad, that it is!'\",\n",
       " u'As she said these words her foot slipped, and in another moment, splash!',\n",
       " u'she was up to her chin in salt water.',\n",
       " u\"Her first idea was that she\\nhad somehow fallen into the sea, 'and in that case I can go back by\\nrailway,' she said to herself.\",\n",
       " u'(Alice had been to the seaside once in\\nher life, and had come to the general conclusion, that wherever you go\\nto on the English coast you find a number of bathing machines in the\\nsea, some children digging in the sand with wooden spades, then a row\\nof lodging houses, and behind them a railway station.)',\n",
       " u'However, she soon\\nmade out that she was in the pool of tears which she had wept when she\\nwas nine feet high.',\n",
       " u\"'I wish I hadn't cried so much!'\",\n",
       " u'said Alice, as she swam about, trying\\nto find her way out.',\n",
       " u\"'I shall be punished for it now, I suppose, by\\nbeing drowned in my own tears!\",\n",
       " u'That WILL be a queer thing, to be sure!',\n",
       " u\"However, everything is queer to-day.'\",\n",
       " u'Just then she heard something splashing about in the pool a little way\\noff, and she swam nearer to make out what it was: at first she thought\\nit must be a walrus or hippopotamus, but then she remembered how small\\nshe was now, and she soon made out that it was only a mouse that had\\nslipped in like herself.',\n",
       " u\"'Would it be of any use, now,' thought Alice, 'to speak to this mouse?\",\n",
       " u\"Everything is so out-of-the-way down here, that I should think very\\nlikely it can talk: at any rate, there's no harm in trying.'\",\n",
       " u\"So she\\nbegan: 'O Mouse, do you know the way out of this pool?\",\n",
       " u\"I am very tired\\nof swimming about here, O Mouse!'\",\n",
       " u\"(Alice thought this must be the right\\nway of speaking to a mouse: she had never done such a thing before, but\\nshe remembered having seen in her brother's Latin Grammar, 'A mouse--of\\na mouse--to a mouse--a mouse--O mouse!')\",\n",
       " u'The Mouse looked at her rather\\ninquisitively, and seemed to her to wink with one of its little eyes,\\nbut it said nothing.',\n",
       " u\"'Perhaps it doesn't understand English,' thought Alice; 'I daresay it's\\na French mouse, come over with William the Conqueror.'\",\n",
       " u'(For, with all\\nher knowledge of history, Alice had no very clear notion how long ago\\nanything had happened.)',\n",
       " u\"So she began again: 'Ou est ma chatte?'\",\n",
       " u'which\\nwas the first sentence in her French lesson-book.',\n",
       " u'The Mouse gave a\\nsudden leap out of the water, and seemed to quiver all over with fright.',\n",
       " u\"'Oh, I beg your pardon!'\",\n",
       " u\"cried Alice hastily, afraid that she had hurt\\nthe poor animal's feelings.\",\n",
       " u\"'I quite forgot you didn't like cats.'\",\n",
       " u\"'Not like cats!'\",\n",
       " u'cried the Mouse, in a shrill, passionate voice.',\n",
       " u\"'Would\\nYOU like cats if you were me?'\",\n",
       " u\"'Well, perhaps not,' said Alice in a soothing tone: 'don't be angry\\nabout it.\",\n",
       " u\"And yet I wish I could show you our cat Dinah: I think you'd\\ntake a fancy to cats if you could only see her.\",\n",
       " u\"She is such a dear quiet\\nthing,' Alice went on, half to herself, as she swam lazily about in the\\npool, 'and she sits purring so nicely by the fire, licking her paws and\\nwashing her face--and she is such a nice soft thing to nurse--and she's\\nsuch a capital one for catching mice--oh, I beg your pardon!'\",\n",
       " u'cried\\nAlice again, for this time the Mouse was bristling all over, and she\\nfelt certain it must be really offended.',\n",
       " u\"'We won't talk about her any\\nmore if you'd rather not.'\",\n",
       " u\"'We indeed!'\",\n",
       " u'cried the Mouse, who was trembling down to the end of his\\ntail.',\n",
       " u\"'As if I would talk on such a subject!\",\n",
       " u'Our family always HATED\\ncats: nasty, low, vulgar things!',\n",
       " u\"Don't let me hear the name again!'\",\n",
       " u\"'I won't indeed!'\",\n",
       " u'said Alice, in a great hurry to change the subject of\\nconversation.',\n",
       " u\"'Are you--are you fond--of--of dogs?'\",\n",
       " u\"The Mouse did not\\nanswer, so Alice went on eagerly: 'There is such a nice little dog near\\nour house I should like to show you!\",\n",
       " u'A little bright-eyed terrier, you\\nknow, with oh, such long curly brown hair!',\n",
       " u\"And it'll fetch things when\\nyou throw them, and it'll sit up and beg for its dinner, and all sorts\\nof things--I can't remember half of them--and it belongs to a farmer,\\nyou know, and he says it's so useful, it's worth a hundred pounds!\",\n",
       " u\"He\\nsays it kills all the rats and--oh dear!'\",\n",
       " u\"cried Alice in a sorrowful\\ntone, 'I'm afraid I've offended it again!'\",\n",
       " u'For the Mouse was swimming\\naway from her as hard as it could go, and making quite a commotion in\\nthe pool as it went.',\n",
       " u\"So she called softly after it, 'Mouse dear!\",\n",
       " u\"Do come back again, and we\\nwon't talk about cats or dogs either, if you don't like them!'\",\n",
       " u\"When the\\nMouse heard this, it turned round and swam slowly back to her: its\\nface was quite pale (with passion, Alice thought), and it said in a low\\ntrembling voice, 'Let us get to the shore, and then I'll tell you my\\nhistory, and you'll understand why it is I hate cats and dogs.'\",\n",
       " u'It was high time to go, for the pool was getting quite crowded with the\\nbirds and animals that had fallen into it: there were a Duck and a Dodo,\\na Lory and an Eaglet, and several other curious creatures.',\n",
       " u'Alice led the\\nway, and the whole party swam to the shore.',\n",
       " u'CHAPTER III.',\n",
       " u'A Caucus-Race and a Long Tale\\n\\nThey were indeed a queer-looking party that assembled on the bank--the\\nbirds with draggled feathers, the animals with their fur clinging close\\nto them, and all dripping wet, cross, and uncomfortable.',\n",
       " u'The first question of course was, how to get dry again: they had a\\nconsultation about this, and after a few minutes it seemed quite natural\\nto Alice to find herself talking familiarly with them, as if she had\\nknown them all her life.',\n",
       " u\"Indeed, she had quite a long argument with the\\nLory, who at last turned sulky, and would only say, 'I am older than\\nyou, and must know better'; and this Alice would not allow without\\nknowing how old it was, and, as the Lory positively refused to tell its\\nage, there was no more to be said.\",\n",
       " u\"At last the Mouse, who seemed to be a person of authority among them,\\ncalled out, 'Sit down, all of you, and listen to me!\",\n",
       " u\"I'LL soon make you\\ndry enough!'\",\n",
       " u'They all sat down at once, in a large ring, with the Mouse\\nin the middle.',\n",
       " u'Alice kept her eyes anxiously fixed on it, for she felt\\nsure she would catch a bad cold if she did not get dry very soon.',\n",
       " u\"'Ahem!'\",\n",
       " u\"said the Mouse with an important air, 'are you all ready?\",\n",
       " u'This\\nis the driest thing I know.',\n",
       " u'Silence all round, if you please!',\n",
       " u'\"William\\nthe Conqueror, whose cause was favoured by the pope, was soon submitted\\nto by the English, who wanted leaders, and had been of late much\\naccustomed to usurpation and conquest.',\n",
       " u'Edwin and Morcar, the earls of\\nMercia and Northumbria--\"\\'\\n\\n\\'Ugh!\\'',\n",
       " u'said the Lory, with a shiver.',\n",
       " u\"'I beg your pardon!'\",\n",
       " u\"said the Mouse, frowning, but very politely: 'Did\\nyou speak?'\",\n",
       " u\"'Not I!'\",\n",
       " u'said the Lory hastily.',\n",
       " u\"'I thought you did,' said the Mouse. '\",\n",
       " u'--I proceed.',\n",
       " u'\"Edwin and Morcar,\\nthe earls of Mercia and Northumbria, declared for him: and even Stigand,\\nthe patriotic archbishop of Canterbury, found it advisable--\"\\'\\n\\n\\'Found WHAT?\\'',\n",
       " u'said the Duck.',\n",
       " u'\\'Found IT,\\' the Mouse replied rather crossly: \\'of course you know what\\n\"it\" means.\\'',\n",
       " u'\\'I know what \"it\" means well enough, when I find a thing,\\' said the\\nDuck: \\'it\\'s generally a frog or a worm.',\n",
       " u\"The question is, what did the\\narchbishop find?'\",\n",
       " u'The Mouse did not notice this question, but hurriedly went on, \\'\"--found\\nit advisable to go with Edgar Atheling to meet William and offer him the\\ncrown.',\n",
       " u\"William's conduct at first was moderate.\",\n",
       " u'But the insolence of his\\nNormans--\" How are you getting on now, my dear?\\'',\n",
       " u'it continued, turning\\nto Alice as it spoke.',\n",
       " u\"'As wet as ever,' said Alice in a melancholy tone: 'it doesn't seem to\\ndry me at all.'\",\n",
       " u\"'In that case,' said the Dodo solemnly, rising to its feet, 'I move\\nthat the meeting adjourn, for the immediate adoption of more energetic\\nremedies--'\\n\\n'Speak English!'\",\n",
       " u'said the Eaglet.',\n",
       " u\"'I don't know the meaning of half\\nthose long words, and, what's more, I don't believe you do either!'\",\n",
       " u'And\\nthe Eaglet bent down its head to hide a smile: some of the other birds\\ntittered audibly.',\n",
       " u\"'What I was going to say,' said the Dodo in an offended tone, 'was, that\\nthe best thing to get us dry would be a Caucus-race.'\",\n",
       " u\"'What IS a Caucus-race?'\",\n",
       " u'said Alice; not that she wanted much to know,\\nbut the Dodo had paused as if it thought that SOMEBODY ought to speak,\\nand no one else seemed inclined to say anything.',\n",
       " u\"'Why,' said the Dodo, 'the best way to explain it is to do it.'\",\n",
       " u'(And, as\\nyou might like to try the thing yourself, some winter day, I will tell\\nyou how the Dodo managed it.)',\n",
       " u\"First it marked out a race-course, in a sort of circle, ('the exact\\nshape doesn't matter,' it said,) and then all the party were placed\\nalong the course, here and there.\",\n",
       " u\"There was no 'One, two, three, and\\naway,' but they began running when they liked, and left off when they\\nliked, so that it was not easy to know when the race was over.\",\n",
       " u\"However,\\nwhen they had been running half an hour or so, and were quite dry again,\\nthe Dodo suddenly called out 'The race is over!'\",\n",
       " u\"and they all crowded\\nround it, panting, and asking, 'But who has won?'\",\n",
       " u'This question the Dodo could not answer without a great deal of thought,\\nand it sat for a long time with one finger pressed upon its forehead\\n(the position in which you usually see Shakespeare, in the pictures\\nof him), while the rest waited in silence.',\n",
       " u\"At last the Dodo said,\\n'EVERYBODY has won, and all must have prizes.'\",\n",
       " u\"'But who is to give the prizes?'\",\n",
       " u'quite a chorus of voices asked.',\n",
       " u\"'Why, SHE, of course,' said the Dodo, pointing to Alice with one finger;\\nand the whole party at once crowded round her, calling out in a confused\\nway, 'Prizes!\",\n",
       " u\"Prizes!'\",\n",
       " u'Alice had no idea what to do, and in despair she put her hand in her\\npocket, and pulled out a box of comfits, (luckily the salt water had\\nnot got into it), and handed them round as prizes.',\n",
       " u'There was exactly one\\na-piece all round.',\n",
       " u\"'But she must have a prize herself, you know,' said the Mouse.\",\n",
       " u\"'Of course,' the Dodo replied very gravely.\",\n",
       " u\"'What else have you got in\\nyour pocket?'\",\n",
       " u'he went on, turning to Alice.',\n",
       " u\"'Only a thimble,' said Alice sadly.\",\n",
       " u\"'Hand it over here,' said the Dodo.\",\n",
       " u\"Then they all crowded round her once more, while the Dodo solemnly\\npresented the thimble, saying 'We beg your acceptance of this elegant\\nthimble'; and, when it had finished this short speech, they all cheered.\",\n",
       " u'Alice thought the whole thing very absurd, but they all looked so grave\\nthat she did not dare to laugh; and, as she could not think of anything\\nto say, she simply bowed, and took the thimble, looking as solemn as she\\ncould.',\n",
       " u'The next thing was to eat the comfits: this caused some noise and\\nconfusion, as the large birds complained that they could not taste\\ntheirs, and the small ones choked and had to be patted on the back.',\n",
       " u'However, it was over at last, and they sat down again in a ring, and\\nbegged the Mouse to tell them something more.',\n",
       " u\"'You promised to tell me your history, you know,' said Alice, 'and why\\nit is you hate--C and D,' she added in a whisper, half afraid that it\\nwould be offended again.\",\n",
       " u\"'Mine is a long and a sad tale!'\",\n",
       " u'said the Mouse, turning to Alice, and\\nsighing.',\n",
       " u\"'It IS a long tail, certainly,' said Alice, looking down with wonder at\\nthe Mouse's tail; 'but why do you call it sad?'\",\n",
       " u'And she kept on puzzling\\nabout it while the Mouse was speaking, so that her idea of the tale was\\nsomething like this:--\\n\\n         \\'Fury said to a\\n         mouse, That he\\n        met in the\\n       house,\\n     \"Let us\\n      both go to\\n       law: I will\\n        prosecute\\n         YOU.--Come,\\n           I\\'ll take no\\n           denial; We\\n          must have a\\n        trial: For\\n      really this\\n     morning I\\'ve\\n    nothing\\n    to do.\"',\n",
       " u'Said the\\n      mouse to the\\n       cur, \"Such\\n        a trial,\\n         dear Sir,\\n            With\\n          no jury\\n        or judge,\\n       would be\\n      wasting\\n      our\\n      breath.\"',\n",
       " u'\"I\\'ll be\\n        judge, I\\'ll\\n         be jury,\"\\n            Said\\n         cunning\\n          old Fury:\\n          \"I\\'ll\\n          try the\\n            whole\\n            cause,\\n              and\\n           condemn\\n           you\\n          to\\n           death.\"\\'',\n",
       " u\"'You are not attending!'\",\n",
       " u'said the Mouse to Alice severely.',\n",
       " u\"'What are you\\nthinking of?'\",\n",
       " u\"'I beg your pardon,' said Alice very humbly: 'you had got to the fifth\\nbend, I think?'\",\n",
       " u\"'I had NOT!'\",\n",
       " u'cried the Mouse, sharply and very angrily.',\n",
       " u\"'A knot!'\",\n",
       " u'said Alice, always ready to make herself useful, and looking\\nanxiously about her.',\n",
       " u\"'Oh, do let me help to undo it!'\",\n",
       " u\"'I shall do nothing of the sort,' said the Mouse, getting up and walking\\naway.\",\n",
       " u\"'You insult me by talking such nonsense!'\",\n",
       " u\"'I didn't mean it!'\",\n",
       " u'pleaded poor Alice.',\n",
       " u\"'But you're so easily offended,\\nyou know!'\",\n",
       " u'The Mouse only growled in reply.',\n",
       " u\"'Please come back and finish your story!'\",\n",
       " u\"Alice called after it; and the\\nothers all joined in chorus, 'Yes, please do!'\",\n",
       " u'but the Mouse only shook\\nits head impatiently, and walked a little quicker.',\n",
       " u\"'What a pity it wouldn't stay!'\",\n",
       " u\"sighed the Lory, as soon as it was quite\\nout of sight; and an old Crab took the opportunity of saying to her\\ndaughter 'Ah, my dear!\",\n",
       " u\"Let this be a lesson to you never to lose\\nYOUR temper!'\",\n",
       " u\"'Hold your tongue, Ma!'\",\n",
       " u'said the young Crab, a little\\nsnappishly.',\n",
       " u\"'You're enough to try the patience of an oyster!'\",\n",
       " u\"'I wish I had our Dinah here, I know I do!'\",\n",
       " u'said Alice aloud, addressing\\nnobody in particular.',\n",
       " u\"'She'd soon fetch it back!'\",\n",
       " u\"'And who is Dinah, if I might venture to ask the question?'\",\n",
       " u'said the\\nLory.',\n",
       " u\"Alice replied eagerly, for she was always ready to talk about her pet:\\n'Dinah's our cat.\",\n",
       " u\"And she's such a capital one for catching mice you\\ncan't think!\",\n",
       " u'And oh, I wish you could see her after the birds!',\n",
       " u\"Why,\\nshe'll eat a little bird as soon as look at it!'\",\n",
       " u'This speech caused a remarkable sensation among the party.',\n",
       " u\"Some of the\\nbirds hurried off at once: one old Magpie began wrapping itself up very\\ncarefully, remarking, 'I really must be getting home; the night-air\\ndoesn't suit my throat!'\",\n",
       " u\"and a Canary called out in a trembling voice to\\nits children, 'Come away, my dears!\",\n",
       " u\"It's high time you were all in bed!'\",\n",
       " u'On various pretexts they all moved off, and Alice was soon left alone.',\n",
       " u\"'I wish I hadn't mentioned Dinah!'\",\n",
       " u'she said to herself in a melancholy\\ntone.',\n",
       " u\"'Nobody seems to like her, down here, and I'm sure she's the best\\ncat in the world!\",\n",
       " u'Oh, my dear Dinah!',\n",
       " u\"I wonder if I shall ever see you\\nany more!'\",\n",
       " u'And here poor Alice began to cry again, for she felt very\\nlonely and low-spirited.',\n",
       " u'In a little while, however, she again heard\\na little pattering of footsteps in the distance, and she looked up\\neagerly, half hoping that the Mouse had changed his mind, and was coming\\nback to finish his story.',\n",
       " u'CHAPTER IV.',\n",
       " u\"The Rabbit Sends in a Little Bill\\n\\nIt was the White Rabbit, trotting slowly back again, and looking\\nanxiously about as it went, as if it had lost something; and she heard\\nit muttering to itself 'The Duchess!\",\n",
       " u'The Duchess!',\n",
       " u'Oh my dear paws!',\n",
       " u'Oh\\nmy fur and whiskers!',\n",
       " u\"She'll get me executed, as sure as ferrets are\\nferrets!\",\n",
       " u\"Where CAN I have dropped them, I wonder?'\",\n",
       " u'Alice guessed in a\\nmoment that it was looking for the fan and the pair of white kid gloves,\\nand she very good-naturedly began hunting about for them, but they were\\nnowhere to be seen--everything seemed to have changed since her swim in\\nthe pool, and the great hall, with the glass table and the little door,\\nhad vanished completely.',\n",
       " u\"Very soon the Rabbit noticed Alice, as she went hunting about, and\\ncalled out to her in an angry tone, 'Why, Mary Ann, what ARE you doing\\nout here?\",\n",
       " u'Run home this moment, and fetch me a pair of gloves and a fan!',\n",
       " u\"Quick, now!'\",\n",
       " u'And Alice was so much frightened that she ran off at once\\nin the direction it pointed to, without trying to explain the mistake it\\nhad made.',\n",
       " u\"'He took me for his housemaid,' she said to herself as she ran.\",\n",
       " u\"'How\\nsurprised he'll be when he finds out who I am!\",\n",
       " u\"But I'd better take him\\nhis fan and gloves--that is, if I can find them.'\",\n",
       " u\"As she said this, she\\ncame upon a neat little house, on the door of which was a bright brass\\nplate with the name 'W.\",\n",
       " u\"RABBIT' engraved upon it.\",\n",
       " u'She went in without\\nknocking, and hurried upstairs, in great fear lest she should meet the\\nreal Mary Ann, and be turned out of the house before she had found the\\nfan and gloves.',\n",
       " u\"'How queer it seems,' Alice said to herself, 'to be going messages for\\na rabbit!\",\n",
       " u\"I suppose Dinah'll be sending me on messages next!'\",\n",
       " u'And she\\nbegan fancying the sort of thing that would happen: \\'\"Miss Alice!',\n",
       " u'Come\\nhere directly, and get ready for your walk!\"',\n",
       " u'\"Coming in a minute,\\nnurse!',\n",
       " u'But I\\'ve got to see that the mouse doesn\\'t get out.\"',\n",
       " u\"Only I don't\\nthink,' Alice went on, 'that they'd let Dinah stop in the house if it\\nbegan ordering people about like that!'\",\n",
       " u'By this time she had found her way into a tidy little room with a table\\nin the window, and on it (as she had hoped) a fan and two or three pairs\\nof tiny white kid gloves: she took up the fan and a pair of the gloves,\\nand was just going to leave the room, when her eye fell upon a little\\nbottle that stood near the looking-glass.',\n",
       " u\"There was no label this time\\nwith the words 'DRINK ME,' but nevertheless she uncorked it and put it\\nto her lips.\",\n",
       " u\"'I know SOMETHING interesting is sure to happen,' she said\\nto herself, 'whenever I eat or drink anything; so I'll just see what\\nthis bottle does.\",\n",
       " u\"I do hope it'll make me grow large again, for really\\nI'm quite tired of being such a tiny little thing!'\",\n",
       " u'It did so indeed, and much sooner than she had expected: before she had\\ndrunk half the bottle, she found her head pressing against the ceiling,\\nand had to stoop to save her neck from being broken.',\n",
       " u\"She hastily put\\ndown the bottle, saying to herself 'That's quite enough--I hope I shan't\\ngrow any more--As it is, I can't get out at the door--I do wish I hadn't\\ndrunk quite so much!'\",\n",
       " u'Alas!',\n",
       " u'it was too late to wish that!',\n",
       " u'She went on growing, and growing,\\nand very soon had to kneel down on the floor: in another minute there\\nwas not even room for this, and she tried the effect of lying down with\\none elbow against the door, and the other arm curled round her head.',\n",
       " u\"Still she went on growing, and, as a last resource, she put one arm out\\nof the window, and one foot up the chimney, and said to herself 'Now I\\ncan do no more, whatever happens.\",\n",
       " u\"What WILL become of me?'\",\n",
       " u'Luckily for Alice, the little magic bottle had now had its full effect,\\nand she grew no larger: still it was very uncomfortable, and, as there\\nseemed to be no sort of chance of her ever getting out of the room\\nagain, no wonder she felt unhappy.',\n",
       " u\"'It was much pleasanter at home,' thought poor Alice, 'when one wasn't\\nalways growing larger and smaller, and being ordered about by mice and\\nrabbits.\",\n",
       " u\"I almost wish I hadn't gone down that rabbit-hole--and yet--and\\nyet--it's rather curious, you know, this sort of life!\",\n",
       " u'I do wonder what\\nCAN have happened to me!',\n",
       " u'When I used to read fairy-tales, I fancied that\\nkind of thing never happened, and now here I am in the middle of one!',\n",
       " u'There ought to be a book written about me, that there ought!',\n",
       " u\"And when I\\ngrow up, I'll write one--but I'm grown up now,' she added in a sorrowful\\ntone; 'at least there's no room to grow up any more HERE.'\",\n",
       " u\"'But then,' thought Alice, 'shall I NEVER get any older than I am\\nnow?\",\n",
       " u\"That'll be a comfort, one way--never to be an old woman--but\\nthen--always to have lessons to learn!\",\n",
       " u\"Oh, I shouldn't like THAT!'\",\n",
       " u\"'Oh, you foolish Alice!'\",\n",
       " u'she answered herself.',\n",
       " u\"'How can you learn\\nlessons in here?\",\n",
       " u\"Why, there's hardly room for YOU, and no room at all\\nfor any lesson-books!'\",\n",
       " u'And so she went on, taking first one side and then the other, and making\\nquite a conversation of it altogether; but after a few minutes she heard\\na voice outside, and stopped to listen.',\n",
       " u\"'Mary Ann!\",\n",
       " u\"Mary Ann!'\",\n",
       " u'said the voice.',\n",
       " u\"'Fetch me my gloves this moment!'\",\n",
       " u'Then came a little pattering of feet on the stairs.',\n",
       " u'Alice knew it was\\nthe Rabbit coming to look for her, and she trembled till she shook the\\nhouse, quite forgetting that she was now about a thousand times as large\\nas the Rabbit, and had no reason to be afraid of it.',\n",
       " u\"Presently the Rabbit came up to the door, and tried to open it; but, as\\nthe door opened inwards, and Alice's elbow was pressed hard against it,\\nthat attempt proved a failure.\",\n",
       " u\"Alice heard it say to itself 'Then I'll\\ngo round and get in at the window.'\",\n",
       " u\"'THAT you won't' thought Alice, and, after waiting till she fancied\\nshe heard the Rabbit just under the window, she suddenly spread out her\\nhand, and made a snatch in the air.\",\n",
       " u'She did not get hold of anything,\\nbut she heard a little shriek and a fall, and a crash of broken glass,\\nfrom which she concluded that it was just possible it had fallen into a\\ncucumber-frame, or something of the sort.',\n",
       " u\"Next came an angry voice--the Rabbit's--'Pat!\",\n",
       " u'Pat!',\n",
       " u\"Where are you?'\",\n",
       " u\"And\\nthen a voice she had never heard before, 'Sure then I'm here!\",\n",
       " u\"Digging\\nfor apples, yer honour!'\",\n",
       " u\"'Digging for apples, indeed!'\",\n",
       " u'said the Rabbit angrily.',\n",
       " u\"'Here!\",\n",
       " u\"Come and\\nhelp me out of THIS!'\",\n",
       " u'(Sounds of more broken glass.)',\n",
       " u\"'Now tell me, Pat, what's that in the window?'\",\n",
       " u\"'Sure, it's an arm, yer honour!'\",\n",
       " u\"(He pronounced it 'arrum.')\",\n",
       " u\"'An arm, you goose!\",\n",
       " u'Who ever saw one that size?',\n",
       " u\"Why, it fills the whole\\nwindow!'\",\n",
       " u\"'Sure, it does, yer honour: but it's an arm for all that.'\",\n",
       " u\"'Well, it's got no business there, at any rate: go and take it away!'\",\n",
       " u\"There was a long silence after this, and Alice could only hear whispers\\nnow and then; such as, 'Sure, I don't like it, yer honour, at all, at\\nall!'\",\n",
       " u\"'Do as I tell you, you coward!'\",\n",
       " u'and at last she spread out her\\nhand again, and made another snatch in the air.',\n",
       " u'This time there were\\nTWO little shrieks, and more sounds of broken glass.',\n",
       " u\"'What a number of\\ncucumber-frames there must be!'\",\n",
       " u'thought Alice.',\n",
       " u\"'I wonder what they'll do\\nnext!\",\n",
       " u'As for pulling me out of the window, I only wish they COULD!',\n",
       " u\"I'm\\nsure I don't want to stay in here any longer!'\",\n",
       " u\"She waited for some time without hearing anything more: at last came a\\nrumbling of little cartwheels, and the sound of a good many voices\\nall talking together: she made out the words: 'Where's the other\\nladder?--Why, I hadn't to bring but one; Bill's got the other--Bill!\",\n",
       " u\"fetch it here, lad!--Here, put 'em up at this corner--No, tie 'em\\ntogether first--they don't reach half high enough yet--Oh!\",\n",
       " u\"they'll\\ndo well enough; don't be particular--Here, Bill!\",\n",
       " u\"catch hold of this\\nrope--Will the roof bear?--Mind that loose slate--Oh, it's coming\\ndown!\",\n",
       " u\"Heads below!'\",\n",
       " u\"(a loud crash)--'Now, who did that?--It was Bill, I\\nfancy--Who's to go down the chimney?--Nay, I shan't!\",\n",
       " u\"YOU do it!--That I\\nwon't, then!--Bill's to go down--Here, Bill!\",\n",
       " u\"the master says you're to\\ngo down the chimney!'\",\n",
       " u\"'Oh!\",\n",
       " u\"So Bill's got to come down the chimney, has he?'\",\n",
       " u'said Alice to\\nherself.',\n",
       " u\"'Shy, they seem to put everything upon Bill!\",\n",
       " u\"I wouldn't be in\\nBill's place for a good deal: this fireplace is narrow, to be sure; but\\nI THINK I can kick a little!'\",\n",
       " u\"She drew her foot as far down the chimney as she could, and waited\\ntill she heard a little animal (she couldn't guess of what sort it was)\\nscratching and scrambling about in the chimney close above her: then,\\nsaying to herself 'This is Bill,' she gave one sharp kick, and waited to\\nsee what would happen next.\",\n",
       " u\"The first thing she heard was a general chorus of 'There goes Bill!'\",\n",
       " u\"then the Rabbit's voice along--'Catch him, you by the hedge!'\",\n",
       " u\"then\\nsilence, and then another confusion of voices--'Hold up his head--Brandy\\nnow--Don't choke him--How was it, old fellow?\",\n",
       " u'What happened to you?',\n",
       " u\"Tell\\nus all about it!'\",\n",
       " u\"Last came a little feeble, squeaking voice, ('That's Bill,' thought\\nAlice,) 'Well, I hardly know--No more, thank ye; I'm better now--but I'm\\na deal too flustered to tell you--all I know is, something comes at me\\nlike a Jack-in-the-box, and up I goes like a sky-rocket!'\",\n",
       " u\"'So you did, old fellow!'\",\n",
       " u'said the others.',\n",
       " u\"'We must burn the house down!'\",\n",
       " u\"said the Rabbit's voice; and Alice called\\nout as loud as she could, 'If you do.\",\n",
       " u\"I'll set Dinah at you!'\",\n",
       " u\"There was a dead silence instantly, and Alice thought to herself, 'I\\nwonder what they WILL do next!\",\n",
       " u\"If they had any sense, they'd take the\\nroof off.'\",\n",
       " u\"After a minute or two, they began moving about again, and\\nAlice heard the Rabbit say, 'A barrowful will do, to begin with.'\",\n",
       " u\"'A barrowful of WHAT?'\",\n",
       " u'thought Alice; but she had not long to doubt,\\nfor the next moment a shower of little pebbles came rattling in at the\\nwindow, and some of them hit her in the face.',\n",
       " u\"'I'll put a stop to this,'\\nshe said to herself, and shouted out, 'You'd better not do that again!'\",\n",
       " u'which produced another dead silence.',\n",
       " u'Alice noticed with some surprise that the pebbles were all turning into\\nlittle cakes as they lay on the floor, and a bright idea came into her\\nhead.',\n",
       " u\"'If I eat one of these cakes,' she thought, 'it's sure to make\\nSOME change in my size; and as it can't possibly make me larger, it must\\nmake me smaller, I suppose.'\",\n",
       " u'So she swallowed one of the cakes, and was delighted to find that she\\nbegan shrinking directly.',\n",
       " u'As soon as she was small enough to get through\\nthe door, she ran out of the house, and found quite a crowd of little\\nanimals and birds waiting outside.',\n",
       " u'The poor little Lizard, Bill, was\\nin the middle, being held up by two guinea-pigs, who were giving it\\nsomething out of a bottle.',\n",
       " u'They all made a rush at Alice the moment she\\nappeared; but she ran off as hard as she could, and soon found herself\\nsafe in a thick wood.',\n",
       " u\"'The first thing I've got to do,' said Alice to herself, as she wandered\\nabout in the wood, 'is to grow to my right size again; and the second\\nthing is to find my way into that lovely garden.\",\n",
       " u\"I think that will be\\nthe best plan.'\",\n",
       " u'It sounded an excellent plan, no doubt, and very neatly and simply\\narranged; the only difficulty was, that she had not the smallest idea\\nhow to set about it; and while she was peering about anxiously among\\nthe trees, a little sharp bark just over her head made her look up in a\\ngreat hurry.',\n",
       " u'An enormous puppy was looking down at her with large round eyes, and\\nfeebly stretching out one paw, trying to touch her.',\n",
       " u\"'Poor little thing!'\",\n",
       " u'said Alice, in a coaxing tone, and she tried hard to whistle to it; but\\nshe was terribly frightened all the time at the thought that it might be\\nhungry, in which case it would be very likely to eat her up in spite of\\nall her coaxing.',\n",
       " u'Hardly knowing what she did, she picked up a little bit of stick, and\\nheld it out to the puppy; whereupon the puppy jumped into the air off\\nall its feet at once, with a yelp of delight, and rushed at the stick,\\nand made believe to worry it; then Alice dodged behind a great thistle,\\nto keep herself from being run over; and the moment she appeared on the\\nother side, the puppy made another rush at the stick, and tumbled head\\nover heels in its hurry to get hold of it; then Alice, thinking it was\\nvery like having a game of play with a cart-horse, and expecting every\\nmoment to be trampled under its feet, ran round the thistle again; then\\nthe puppy began a series of short charges at the stick, running a very\\nlittle way forwards each time and a long way back, and barking hoarsely\\nall the while, till at last it sat down a good way off, panting, with\\nits tongue hanging out of its mouth, and its great eyes half shut.',\n",
       " u\"This seemed to Alice a good opportunity for making her escape; so she\\nset off at once, and ran till she was quite tired and out of breath, and\\ntill the puppy's bark sounded quite faint in the distance.\",\n",
       " u\"'And yet what a dear little puppy it was!'\",\n",
       " u\"said Alice, as she leant\\nagainst a buttercup to rest herself, and fanned herself with one of the\\nleaves: 'I should have liked teaching it tricks very much, if--if I'd\\nonly been the right size to do it!\",\n",
       " u'Oh dear!',\n",
       " u\"I'd nearly forgotten that\\nI've got to grow up again!\",\n",
       " u'Let me see--how IS it to be managed?',\n",
       " u\"I\\nsuppose I ought to eat or drink something or other; but the great\\nquestion is, what?'\",\n",
       " u'The great question certainly was, what?',\n",
       " u'Alice looked all round her at\\nthe flowers and the blades of grass, but she did not see anything that\\nlooked like the right thing to eat or drink under the circumstances.',\n",
       " u'There was a large mushroom growing near her, about the same height as\\nherself; and when she had looked under it, and on both sides of it, and\\nbehind it, it occurred to her that she might as well look and see what\\nwas on the top of it.',\n",
       " u'She stretched herself up on tiptoe, and peeped over the edge of the\\nmushroom, and her eyes immediately met those of a large caterpillar,\\nthat was sitting on the top with its arms folded, quietly smoking a long\\nhookah, and taking not the smallest notice of her or of anything else.',\n",
       " u'CHAPTER V. Advice from a Caterpillar\\n\\nThe Caterpillar and Alice looked at each other for some time in silence:\\nat last the Caterpillar took the hookah out of its mouth, and addressed\\nher in a languid, sleepy voice.',\n",
       " u\"'Who are YOU?'\",\n",
       " u'said the Caterpillar.',\n",
       " u'This was not an encouraging opening for a conversation.',\n",
       " u\"Alice replied,\\nrather shyly, 'I--I hardly know, sir, just at present--at least I know\\nwho I WAS when I got up this morning, but I think I must have been\\nchanged several times since then.'\",\n",
       " u\"'What do you mean by that?'\",\n",
       " u'said the Caterpillar sternly.',\n",
       " u\"'Explain\\nyourself!'\",\n",
       " u\"'I can't explain MYSELF, I'm afraid, sir' said Alice, 'because I'm not\\nmyself, you see.'\",\n",
       " u\"'I don't see,' said the Caterpillar.\",\n",
       " u\"'I'm afraid I can't put it more clearly,' Alice replied very politely,\\n'for I can't understand it myself to begin with; and being so many\\ndifferent sizes in a day is very confusing.'\",\n",
       " u\"'It isn't,' said the Caterpillar.\",\n",
       " u\"'Well, perhaps you haven't found it so yet,' said Alice; 'but when you\\nhave to turn into a chrysalis--you will some day, you know--and then\\nafter that into a butterfly, I should think you'll feel it a little\\nqueer, won't you?'\",\n",
       " u\"'Not a bit,' said the Caterpillar.\",\n",
       " u\"'Well, perhaps your feelings may be different,' said Alice; 'all I know\\nis, it would feel very queer to ME.'\",\n",
       " u\"'You!'\",\n",
       " u'said the Caterpillar contemptuously.',\n",
       " u\"'Who are YOU?'\",\n",
       " u'Which brought them back again to the beginning of the conversation.',\n",
       " u\"Alice felt a little irritated at the Caterpillar's making such VERY\\nshort remarks, and she drew herself up and said, very gravely, 'I think,\\nyou ought to tell me who YOU are, first.'\",\n",
       " u\"'Why?'\",\n",
       " u'said the Caterpillar.',\n",
       " u'Here was another puzzling question; and as Alice could not think of any\\ngood reason, and as the Caterpillar seemed to be in a VERY unpleasant\\nstate of mind, she turned away.',\n",
       " u\"'Come back!'\",\n",
       " u'the Caterpillar called after her.',\n",
       " u\"'I've something important\\nto say!'\",\n",
       " u'This sounded promising, certainly: Alice turned and came back again.',\n",
       " u\"'Keep your temper,' said the Caterpillar.\",\n",
       " u\"'Is that all?'\",\n",
       " u'said Alice, swallowing down her anger as well as she\\ncould.',\n",
       " u\"'No,' said the Caterpillar.\",\n",
       " u'Alice thought she might as well wait, as she had nothing else to do, and\\nperhaps after all it might tell her something worth hearing.',\n",
       " u\"For some\\nminutes it puffed away without speaking, but at last it unfolded its\\narms, took the hookah out of its mouth again, and said, 'So you think\\nyou're changed, do you?'\",\n",
       " u\"'I'm afraid I am, sir,' said Alice; 'I can't remember things as I\\nused--and I don't keep the same size for ten minutes together!'\",\n",
       " u\"'Can't remember WHAT things?'\",\n",
       " u'said the Caterpillar.',\n",
       " u'\\'Well, I\\'ve tried to say \"HOW DOTH THE LITTLE BUSY BEE,\" but it all came\\ndifferent!\\'',\n",
       " u'Alice replied in a very melancholy voice.',\n",
       " u'\\'Repeat, \"YOU ARE OLD, FATHER WILLIAM,\"\\' said the Caterpillar.',\n",
       " u\"Alice folded her hands, and began:--\\n\\n   'You are old, Father William,' the young man said,\\n    'And your hair has become very white;\\n   And yet you incessantly stand on your head--\\n    Do you think, at your age, it is right?'\",\n",
       " u\"'In my youth,' Father William replied to his son,\\n    'I feared it might injure the brain;\\n   But, now that I'm perfectly sure I have none,\\n    Why, I do it again and again.'\",\n",
       " u\"'You are old,' said the youth, 'as I mentioned before,\\n    And have grown most uncommonly fat;\\n   Yet you turned a back-somersault in at the door--\\n    Pray, what is the reason of that?'\",\n",
       " u\"'In my youth,' said the sage, as he shook his grey locks,\\n    'I kept all my limbs very supple\\n   By the use of this ointment--one shilling the box--\\n    Allow me to sell you a couple?'\",\n",
       " u\"'You are old,' said the youth, 'and your jaws are too weak\\n    For anything tougher than suet;\\n   Yet you finished the goose, with the bones and the beak--\\n    Pray how did you manage to do it?'\",\n",
       " u\"'In my youth,' said his father, 'I took to the law,\\n    And argued each case with my wife;\\n   And the muscular strength, which it gave to my jaw,\\n    Has lasted the rest of my life.'\",\n",
       " u\"'You are old,' said the youth, 'one would hardly suppose\\n    That your eye was as steady as ever;\\n   Yet you balanced an eel on the end of your nose--\\n    What made you so awfully clever?'\",\n",
       " u\"'I have answered three questions, and that is enough,'\\n    Said his father; 'don't give yourself airs!\",\n",
       " u'Do you think I can listen all day to such stuff?',\n",
       " u\"Be off, or I'll kick you down stairs!'\",\n",
       " u\"'That is not said right,' said the Caterpillar.\",\n",
       " u\"'Not QUITE right, I'm afraid,' said Alice, timidly; 'some of the words\\nhave got altered.'\",\n",
       " u\"'It is wrong from beginning to end,' said the Caterpillar decidedly, and\\nthere was silence for some minutes.\",\n",
       " u'The Caterpillar was the first to speak.',\n",
       " u\"'What size do you want to be?'\",\n",
       " u'it asked.',\n",
       " u\"'Oh, I'm not particular as to size,' Alice hastily replied; 'only one\\ndoesn't like changing so often, you know.'\",\n",
       " u\"'I DON'T know,' said the Caterpillar.\",\n",
       " u'Alice said nothing: she had never been so much contradicted in her life\\nbefore, and she felt that she was losing her temper.',\n",
       " u\"'Are you content now?'\",\n",
       " u'said the Caterpillar.',\n",
       " u\"'Well, I should like to be a LITTLE larger, sir, if you wouldn't mind,'\\nsaid Alice: 'three inches is such a wretched height to be.'\",\n",
       " u\"'It is a very good height indeed!'\",\n",
       " u'said the Caterpillar angrily, rearing\\nitself upright as it spoke (it was exactly three inches high).',\n",
       " u\"'But I'm not used to it!'\",\n",
       " u'pleaded poor Alice in a piteous tone.',\n",
       " u\"And\\nshe thought of herself, 'I wish the creatures wouldn't be so easily\\noffended!'\",\n",
       " u\"'You'll get used to it in time,' said the Caterpillar; and it put the\\nhookah into its mouth and began smoking again.\",\n",
       " u'This time Alice waited patiently until it chose to speak again.',\n",
       " u'In\\na minute or two the Caterpillar took the hookah out of its mouth\\nand yawned once or twice, and shook itself.',\n",
       " u\"Then it got down off the\\nmushroom, and crawled away in the grass, merely remarking as it went,\\n'One side will make you grow taller, and the other side will make you\\ngrow shorter.'\",\n",
       " u\"'One side of WHAT?\",\n",
       " u\"The other side of WHAT?'\",\n",
       " u'thought Alice to herself.',\n",
       " u\"'Of the mushroom,' said the Caterpillar, just as if she had asked it\\naloud; and in another moment it was out of sight.\",\n",
       " u'Alice remained looking thoughtfully at the mushroom for a minute, trying\\nto make out which were the two sides of it; and as it was perfectly\\nround, she found this a very difficult question.',\n",
       " u'However, at last she\\nstretched her arms round it as far as they would go, and broke off a bit\\nof the edge with each hand.',\n",
       " u\"'And now which is which?'\",\n",
       " u'she said to herself, and nibbled a little of\\nthe right-hand bit to try the effect: the next moment she felt a violent\\nblow underneath her chin: it had struck her foot!',\n",
       " u'She was a good deal frightened by this very sudden change, but she felt\\nthat there was no time to be lost, as she was shrinking rapidly; so she\\nset to work at once to eat some of the other bit.',\n",
       " u'Her chin was pressed\\nso closely against her foot, that there was hardly room to open her\\nmouth; but she did it at last, and managed to swallow a morsel of the\\nlefthand bit.',\n",
       " u\"*    *    *    *    *    *    *\\n\\n    *    *    *    *    *    *\\n\\n  *    *    *    *    *    *    *\\n\\n'Come, my head's free at last!'\",\n",
       " u'said Alice in a tone of delight, which\\nchanged into alarm in another moment, when she found that her shoulders\\nwere nowhere to be found: all she could see, when she looked down, was\\nan immense length of neck, which seemed to rise like a stalk out of a\\nsea of green leaves that lay far below her.',\n",
       " u\"'What CAN all that green stuff be?'\",\n",
       " u'said Alice.',\n",
       " u\"'And where HAVE my\\nshoulders got to?\",\n",
       " u\"And oh, my poor hands, how is it I can't see you?'\",\n",
       " u'She was moving them about as she spoke, but no result seemed to follow,\\nexcept a little shaking among the distant green leaves.',\n",
       " u'As there seemed to be no chance of getting her hands up to her head, she\\ntried to get her head down to them, and was delighted to find that her\\nneck would bend about easily in any direction, like a serpent.',\n",
       " u'She had\\njust succeeded in curving it down into a graceful zigzag, and was going\\nto dive in among the leaves, which she found to be nothing but the tops\\nof the trees under which she had been wandering, when a sharp hiss made\\nher draw back in a hurry: a large pigeon had flown into her face, and\\nwas beating her violently with its wings.',\n",
       " u\"'Serpent!'\",\n",
       " u'screamed the Pigeon.',\n",
       " u\"'I'm NOT a serpent!'\",\n",
       " u'said Alice indignantly.',\n",
       " u\"'Let me alone!'\",\n",
       " u\"'Serpent, I say again!'\",\n",
       " u\"repeated the Pigeon, but in a more subdued tone,\\nand added with a kind of sob, 'I've tried every way, and nothing seems\\nto suit them!'\",\n",
       " u\"'I haven't the least idea what you're talking about,' said Alice.\",\n",
       " u\"'I've tried the roots of trees, and I've tried banks, and I've tried\\nhedges,' the Pigeon went on, without attending to her; 'but those\\nserpents!\",\n",
       " u\"There's no pleasing them!'\",\n",
       " u'Alice was more and more puzzled, but she thought there was no use in\\nsaying anything more till the Pigeon had finished.',\n",
       " u\"'As if it wasn't trouble enough hatching the eggs,' said the Pigeon;\\n'but I must be on the look-out for serpents night and day!\",\n",
       " u\"Why, I\\nhaven't had a wink of sleep these three weeks!'\",\n",
       " u\"'I'm very sorry you've been annoyed,' said Alice, who was beginning to\\nsee its meaning.\",\n",
       " u\"'And just as I'd taken the highest tree in the wood,' continued the\\nPigeon, raising its voice to a shriek, 'and just as I was thinking I\\nshould be free of them at last, they must needs come wriggling down from\\nthe sky!\",\n",
       " u\"Ugh, Serpent!'\",\n",
       " u\"'But I'm NOT a serpent, I tell you!'\",\n",
       " u'said Alice.',\n",
       " u\"'I'm a--I'm a--'\\n\\n'Well!\",\n",
       " u\"WHAT are you?'\",\n",
       " u'said the Pigeon.',\n",
       " u\"'I can see you're trying to\\ninvent something!'\",\n",
       " u\"'I--I'm a little girl,' said Alice, rather doubtfully, as she remembered\\nthe number of changes she had gone through that day.\",\n",
       " u\"'A likely story indeed!'\",\n",
       " u'said the Pigeon in a tone of the deepest\\ncontempt.',\n",
       " u\"'I've seen a good many little girls in my time, but never ONE\\nwith such a neck as that!\",\n",
       " u'No, no!',\n",
       " u\"You're a serpent; and there's no use\\ndenying it.\",\n",
       " u\"I suppose you'll be telling me next that you never tasted an\\negg!'\",\n",
       " u\"'I HAVE tasted eggs, certainly,' said Alice, who was a very truthful\\nchild; 'but little girls eat eggs quite as much as serpents do, you\\nknow.'\",\n",
       " u\"'I don't believe it,' said the Pigeon; 'but if they do, why then they're\\na kind of serpent, that's all I can say.'\",\n",
       " u\"This was such a new idea to Alice, that she was quite silent for a\\nminute or two, which gave the Pigeon the opportunity of adding, 'You're\\nlooking for eggs, I know THAT well enough; and what does it matter to me\\nwhether you're a little girl or a serpent?'\",\n",
       " u\"'It matters a good deal to ME,' said Alice hastily; 'but I'm not looking\\nfor eggs, as it happens; and if I was, I shouldn't want YOURS: I don't\\nlike them raw.'\",\n",
       " u\"'Well, be off, then!'\",\n",
       " u'said the Pigeon in a sulky tone, as it settled\\ndown again into its nest.',\n",
       " u'Alice crouched down among the trees as well as\\nshe could, for her neck kept getting entangled among the branches, and\\nevery now and then she had to stop and untwist it.',\n",
       " u'After a while she\\nremembered that she still held the pieces of mushroom in her hands, and\\nshe set to work very carefully, nibbling first at one and then at the\\nother, and growing sometimes taller and sometimes shorter, until she had\\nsucceeded in bringing herself down to her usual height.',\n",
       " u'It was so long since she had been anything near the right size, that it\\nfelt quite strange at first; but she got used to it in a few minutes,\\nand began talking to herself, as usual.',\n",
       " u\"'Come, there's half my plan done\\nnow!\",\n",
       " u'How puzzling all these changes are!',\n",
       " u\"I'm never sure what I'm going\\nto be, from one minute to another!\",\n",
       " u\"However, I've got back to my right\\nsize: the next thing is, to get into that beautiful garden--how IS that\\nto be done, I wonder?'\",\n",
       " u'As she said this, she came suddenly upon an open\\nplace, with a little house in it about four feet high.',\n",
       " u\"'Whoever lives\\nthere,' thought Alice, 'it'll never do to come upon them THIS size: why,\\nI should frighten them out of their wits!'\",\n",
       " u'So she began nibbling at the\\nrighthand bit again, and did not venture to go near the house till she\\nhad brought herself down to nine inches high.',\n",
       " u'CHAPTER VI.',\n",
       " u'Pig and Pepper\\n\\nFor a minute or two she stood looking at the house, and wondering what\\nto do next, when suddenly a footman in livery came running out of the\\nwood--(she considered him to be a footman because he was in livery:\\notherwise, judging by his face only, she would have called him a\\nfish)--and rapped loudly at the door with his knuckles.',\n",
       " u'It was opened\\nby another footman in livery, with a round face, and large eyes like a\\nfrog; and both footmen, Alice noticed, had powdered hair that curled all\\nover their heads.',\n",
       " u'She felt very curious to know what it was all about,\\nand crept a little way out of the wood to listen.',\n",
       " u\"The Fish-Footman began by producing from under his arm a great letter,\\nnearly as large as himself, and this he handed over to the other,\\nsaying, in a solemn tone, 'For the Duchess.\",\n",
       " u\"An invitation from the Queen\\nto play croquet.'\",\n",
       " u\"The Frog-Footman repeated, in the same solemn tone,\\nonly changing the order of the words a little, 'From the Queen.\",\n",
       " u\"An\\ninvitation for the Duchess to play croquet.'\",\n",
       " u'Then they both bowed low, and their curls got entangled together.',\n",
       " u'Alice laughed so much at this, that she had to run back into the\\nwood for fear of their hearing her; and when she next peeped out the\\nFish-Footman was gone, and the other was sitting on the ground near the\\ndoor, staring stupidly up into the sky.',\n",
       " u'Alice went timidly up to the door, and knocked.',\n",
       " u\"'There's no sort of use in knocking,' said the Footman, 'and that for\\ntwo reasons.\",\n",
       " u\"First, because I'm on the same side of the door as you\\nare; secondly, because they're making such a noise inside, no one could\\npossibly hear you.'\",\n",
       " u'And certainly there was a most extraordinary noise\\ngoing on within--a constant howling and sneezing, and every now and then\\na great crash, as if a dish or kettle had been broken to pieces.',\n",
       " u\"'Please, then,' said Alice, 'how am I to get in?'\",\n",
       " u\"'There might be some sense in your knocking,' the Footman went on\\nwithout attending to her, 'if we had the door between us.\",\n",
       " u\"For instance,\\nif you were INSIDE, you might knock, and I could let you out, you know.'\",\n",
       " u'He was looking up into the sky all the time he was speaking, and this\\nAlice thought decidedly uncivil.',\n",
       " u\"'But perhaps he can't help it,' she\\nsaid to herself; 'his eyes are so VERY nearly at the top of his head.\",\n",
       " u\"But at any rate he might answer questions.--How am I to get in?'\",\n",
       " u'she\\nrepeated, aloud.',\n",
       " u\"'I shall sit here,' the Footman remarked, 'till tomorrow--'\\n\\nAt this moment the door of the house opened, and a large plate came\\nskimming out, straight at the Footman's head: it just grazed his nose,\\nand broke to pieces against one of the trees behind him.\\n\\n'\",\n",
       " u\"--or next day, maybe,' the Footman continued in the same tone, exactly\\nas if nothing had happened.\",\n",
       " u\"'How am I to get in?'\",\n",
       " u'asked Alice again, in a louder tone.',\n",
       " u\"'ARE you to get in at all?'\",\n",
       " u'said the Footman.',\n",
       " u\"'That's the first\\nquestion, you know.'\",\n",
       " u'It was, no doubt: only Alice did not like to be told so.',\n",
       " u\"'It's really\\ndreadful,' she muttered to herself, 'the way all the creatures argue.\",\n",
       " u\"It's enough to drive one crazy!'\",\n",
       " u'The Footman seemed to think this a good opportunity for repeating his\\nremark, with variations.',\n",
       " u\"'I shall sit here,' he said, 'on and off, for\\ndays and days.'\",\n",
       " u\"'But what am I to do?'\",\n",
       " u'said Alice.',\n",
       " u\"'Anything you like,' said the Footman, and began whistling.\",\n",
       " u\"'Oh, there's no use in talking to him,' said Alice desperately: 'he's\\nperfectly idiotic!'\",\n",
       " u'And she opened the door and went in.',\n",
       " u'The door led right into a large kitchen, which was full of smoke from\\none end to the other: the Duchess was sitting on a three-legged stool in\\nthe middle, nursing a baby; the cook was leaning over the fire, stirring\\na large cauldron which seemed to be full of soup.',\n",
       " u\"'There's certainly too much pepper in that soup!'\",\n",
       " u'Alice said to herself,\\nas well as she could for sneezing.',\n",
       " u'There was certainly too much of it in the air.',\n",
       " u\"Even the Duchess\\nsneezed occasionally; and as for the baby, it was sneezing and howling\\nalternately without a moment's pause.\",\n",
       " u'The only things in the kitchen\\nthat did not sneeze, were the cook, and a large cat which was sitting on\\nthe hearth and grinning from ear to ear.',\n",
       " u\"'Please would you tell me,' said Alice, a little timidly, for she was\\nnot quite sure whether it was good manners for her to speak first, 'why\\nyour cat grins like that?'\",\n",
       " u\"'It's a Cheshire cat,' said the Duchess, 'and that's why.\",\n",
       " u\"Pig!'\",\n",
       " u\"She said the last word with such sudden violence that Alice quite\\njumped; but she saw in another moment that it was addressed to the baby,\\nand not to her, so she took courage, and went on again:--\\n\\n'I didn't know that Cheshire cats always grinned; in fact, I didn't know\\nthat cats COULD grin.'\",\n",
       " u\"'They all can,' said the Duchess; 'and most of 'em do.'\",\n",
       " u\"'I don't know of any that do,' Alice said very politely, feeling quite\\npleased to have got into a conversation.\",\n",
       " u\"'You don't know much,' said the Duchess; 'and that's a fact.'\",\n",
       " u'Alice did not at all like the tone of this remark, and thought it would\\nbe as well to introduce some other subject of conversation.',\n",
       " u'While she\\nwas trying to fix on one, the cook took the cauldron of soup off the\\nfire, and at once set to work throwing everything within her reach at\\nthe Duchess and the baby--the fire-irons came first; then followed a\\nshower of saucepans, plates, and dishes.',\n",
       " u'The Duchess took no notice of\\nthem even when they hit her; and the baby was howling so much already,\\nthat it was quite impossible to say whether the blows hurt it or not.',\n",
       " u\"'Oh, PLEASE mind what you're doing!'\",\n",
       " u'cried Alice, jumping up and down in\\nan agony of terror.',\n",
       " u\"'Oh, there goes his PRECIOUS nose'; as an unusually\\nlarge saucepan flew close by it, and very nearly carried it off.\",\n",
       " u\"'If everybody minded their own business,' the Duchess said in a hoarse\\ngrowl, 'the world would go round a deal faster than it does.'\",\n",
       " u\"'Which would NOT be an advantage,' said Alice, who felt very glad to get\\nan opportunity of showing off a little of her knowledge.\",\n",
       " u\"'Just think of\\nwhat work it would make with the day and night!\",\n",
       " u\"You see the earth takes\\ntwenty-four hours to turn round on its axis--'\\n\\n'Talking of axes,' said the Duchess, 'chop off her head!'\",\n",
       " u\"Alice glanced rather anxiously at the cook, to see if she meant to take\\nthe hint; but the cook was busily stirring the soup, and seemed not to\\nbe listening, so she went on again: 'Twenty-four hours, I THINK; or is\\nit twelve?\",\n",
       " u\"I--'\\n\\n'Oh, don't bother ME,' said the Duchess; 'I never could abide figures!'\",\n",
       " u\"And with that she began nursing her child again, singing a sort of\\nlullaby to it as she did so, and giving it a violent shake at the end of\\nevery line:\\n\\n   'Speak roughly to your little boy,\\n    And beat him when he sneezes:\\n   He only does it to annoy,\\n    Because he knows it teases.'\",\n",
       " u'CHORUS.',\n",
       " u\"(In which the cook and the baby joined):--\\n\\n       'Wow!\",\n",
       " u'wow!',\n",
       " u\"wow!'\",\n",
       " u\"While the Duchess sang the second verse of the song, she kept tossing\\nthe baby violently up and down, and the poor little thing howled so,\\nthat Alice could hardly hear the words:--\\n\\n   'I speak severely to my boy,\\n    I beat him when he sneezes;\\n   For he can thoroughly enjoy\\n    The pepper when he pleases!'\",\n",
       " u'CHORUS.',\n",
       " u\"'Wow!\",\n",
       " u'wow!',\n",
       " u\"wow!'\",\n",
       " u\"'Here!\",\n",
       " u\"you may nurse it a bit, if you like!'\",\n",
       " u'the Duchess said to Alice,\\nflinging the baby at her as she spoke.',\n",
       " u\"'I must go and get ready to play\\ncroquet with the Queen,' and she hurried out of the room.\",\n",
       " u'The cook threw\\na frying-pan after her as she went out, but it just missed her.',\n",
       " u\"Alice caught the baby with some difficulty, as it was a queer-shaped\\nlittle creature, and held out its arms and legs in all directions, 'just\\nlike a star-fish,' thought Alice.\",\n",
       " u'The poor little thing was snorting\\nlike a steam-engine when she caught it, and kept doubling itself up and\\nstraightening itself out again, so that altogether, for the first minute\\nor two, it was as much as she could do to hold it.',\n",
       " u'As soon as she had made out the proper way of nursing it, (which was to\\ntwist it up into a sort of knot, and then keep tight hold of its right\\near and left foot, so as to prevent its undoing itself,) she carried\\nit out into the open air.',\n",
       " u\"'IF I don't take this child away with me,'\\nthought Alice, 'they're sure to kill it in a day or two: wouldn't it be\\nmurder to leave it behind?'\",\n",
       " u'She said the last words out loud, and the\\nlittle thing grunted in reply (it had left off sneezing by this time).',\n",
       " u\"'Don't grunt,' said Alice; 'that's not at all a proper way of expressing\\nyourself.'\",\n",
       " u'The baby grunted again, and Alice looked very anxiously into its face to\\nsee what was the matter with it.',\n",
       " u'There could be no doubt that it had\\na VERY turn-up nose, much more like a snout than a real nose; also its\\neyes were getting extremely small for a baby: altogether Alice did not\\nlike the look of the thing at all.',\n",
       " u\"'But perhaps it was only sobbing,'\\nshe thought, and looked into its eyes again, to see if there were any\\ntears.\",\n",
       " u'No, there were no tears.',\n",
       " u\"'If you're going to turn into a pig, my dear,'\\nsaid Alice, seriously, 'I'll have nothing more to do with you.\",\n",
       " u\"Mind\\nnow!'\",\n",
       " u'The poor little thing sobbed again (or grunted, it was impossible\\nto say which), and they went on for some while in silence.',\n",
       " u\"Alice was just beginning to think to herself, 'Now, what am I to do with\\nthis creature when I get it home?'\",\n",
       " u'when it grunted again, so violently,\\nthat she looked down into its face in some alarm.',\n",
       " u'This time there could\\nbe NO mistake about it: it was neither more nor less than a pig, and she\\nfelt that it would be quite absurd for her to carry it further.',\n",
       " u'So she set the little creature down, and felt quite relieved to see\\nit trot away quietly into the wood.',\n",
       " u\"'If it had grown up,' she said\\nto herself, 'it would have made a dreadfully ugly child: but it makes\\nrather a handsome pig, I think.'\",\n",
       " u\"And she began thinking over other\\nchildren she knew, who might do very well as pigs, and was just saying\\nto herself, 'if one only knew the right way to change them--' when she\\nwas a little startled by seeing the Cheshire Cat sitting on a bough of a\\ntree a few yards off.\",\n",
       " u'The Cat only grinned when it saw Alice.',\n",
       " u'It looked good-natured, she\\nthought: still it had VERY long claws and a great many teeth, so she\\nfelt that it ought to be treated with respect.',\n",
       " u\"'Cheshire Puss,' she began, rather timidly, as she did not at all know\\nwhether it would like the name: however, it only grinned a little wider.\",\n",
       " u\"'Come, it's pleased so far,' thought Alice, and she went on.\",\n",
       " u\"'Would you\\ntell me, please, which way I ought to go from here?'\",\n",
       " u\"'That depends a good deal on where you want to get to,' said the Cat.\",\n",
       " u\"'I don't much care where--' said Alice.\",\n",
       " u\"'Then it doesn't matter which way you go,' said the Cat.\\n\\n'\",\n",
       " u\"--so long as I get SOMEWHERE,' Alice added as an explanation.\",\n",
       " u\"'Oh, you're sure to do that,' said the Cat, 'if you only walk long\\nenough.'\",\n",
       " u'Alice felt that this could not be denied, so she tried another question.',\n",
       " u\"'What sort of people live about here?'\",\n",
       " u\"'In THAT direction,' the Cat said, waving its right paw round, 'lives\\na Hatter: and in THAT direction,' waving the other paw, 'lives a March\\nHare.\",\n",
       " u\"Visit either you like: they're both mad.'\",\n",
       " u\"'But I don't want to go among mad people,' Alice remarked.\",\n",
       " u\"'Oh, you can't help that,' said the Cat: 'we're all mad here.\",\n",
       " u\"I'm mad.\",\n",
       " u\"You're mad.'\",\n",
       " u\"'How do you know I'm mad?'\",\n",
       " u'said Alice.',\n",
       " u\"'You must be,' said the Cat, 'or you wouldn't have come here.'\",\n",
       " u\"Alice didn't think that proved it at all; however, she went on 'And how\\ndo you know that you're mad?'\",\n",
       " u\"'To begin with,' said the Cat, 'a dog's not mad.\",\n",
       " u\"You grant that?'\",\n",
       " u\"'I suppose so,' said Alice.\",\n",
       " u\"'Well, then,' the Cat went on, 'you see, a dog growls when it's angry,\\nand wags its tail when it's pleased.\",\n",
       " u\"Now I growl when I'm pleased, and\\nwag my tail when I'm angry.\",\n",
       " u\"Therefore I'm mad.'\",\n",
       " u\"'I call it purring, not growling,' said Alice.\",\n",
       " u\"'Call it what you like,' said the Cat.\",\n",
       " u\"'Do you play croquet with the\\nQueen to-day?'\",\n",
       " u\"'I should like it very much,' said Alice, 'but I haven't been invited\\nyet.'\",\n",
       " u\"'You'll see me there,' said the Cat, and vanished.\",\n",
       " u'Alice was not much surprised at this, she was getting so used to queer\\nthings happening.',\n",
       " u'While she was looking at the place where it had been,\\nit suddenly appeared again.',\n",
       " u\"'By-the-bye, what became of the baby?'\",\n",
       " u'said the Cat.',\n",
       " u\"'I'd nearly\\nforgotten to ask.'\",\n",
       " u\"'It turned into a pig,' Alice quietly said, just as if it had come back\\nin a natural way.\",\n",
       " u\"'I thought it would,' said the Cat, and vanished again.\",\n",
       " u'Alice waited a little, half expecting to see it again, but it did not\\nappear, and after a minute or two she walked on in the direction in\\nwhich the March Hare was said to live.',\n",
       " u\"'I've seen hatters before,' she\\nsaid to herself; 'the March Hare will be much the most interesting, and\\nperhaps as this is May it won't be raving mad--at least not so mad as\\nit was in March.'\",\n",
       " u'As she said this, she looked up, and there was the Cat\\nagain, sitting on a branch of a tree.',\n",
       " u\"'Did you say pig, or fig?'\",\n",
       " u'said the Cat.',\n",
       " u\"'I said pig,' replied Alice; 'and I wish you wouldn't keep appearing and\\nvanishing so suddenly: you make one quite giddy.'\",\n",
       " u\"'All right,' said the Cat; and this time it vanished quite slowly,\\nbeginning with the end of the tail, and ending with the grin, which\\nremained some time after the rest of it had gone.\",\n",
       " u\"'Well!\",\n",
       " u\"I've often seen a cat without a grin,' thought Alice; 'but a grin\\nwithout a cat!\",\n",
       " u\"It's the most curious thing I ever saw in my life!'\",\n",
       " u'She had not gone much farther before she came in sight of the house\\nof the March Hare: she thought it must be the right house, because the\\nchimneys were shaped like ears and the roof was thatched with fur.',\n",
       " u\"It\\nwas so large a house, that she did not like to go nearer till she had\\nnibbled some more of the lefthand bit of mushroom, and raised herself to\\nabout two feet high: even then she walked up towards it rather timidly,\\nsaying to herself 'Suppose it should be raving mad after all!\",\n",
       " u\"I almost\\nwish I'd gone to see the Hatter instead!'\",\n",
       " u'CHAPTER VII.',\n",
       " u'A Mad Tea-Party\\n\\nThere was a table set out under a tree in front of the house, and the\\nMarch Hare and the Hatter were having tea at it: a Dormouse was sitting\\nbetween them, fast asleep, and the other two were using it as a\\ncushion, resting their elbows on it, and talking over its head.',\n",
       " u\"'Very\\nuncomfortable for the Dormouse,' thought Alice; 'only, as it's asleep, I\\nsuppose it doesn't mind.'\",\n",
       " u\"The table was a large one, but the three were all crowded together at\\none corner of it: 'No room!\",\n",
       " u\"No room!'\",\n",
       " u'they cried out when they saw Alice\\ncoming.',\n",
       " u\"'There's PLENTY of room!'\",\n",
       " u'said Alice indignantly, and she sat\\ndown in a large arm-chair at one end of the table.',\n",
       " u\"'Have some wine,' the March Hare said in an encouraging tone.\",\n",
       " u'Alice looked all round the table, but there was nothing on it but tea.',\n",
       " u\"'I don't see any wine,' she remarked.\",\n",
       " u\"'There isn't any,' said the March Hare.\",\n",
       " u\"'Then it wasn't very civil of you to offer it,' said Alice angrily.\",\n",
       " u\"'It wasn't very civil of you to sit down without being invited,' said\\nthe March Hare.\",\n",
       " u\"'I didn't know it was YOUR table,' said Alice; 'it's laid for a great\\nmany more than three.'\",\n",
       " u\"'Your hair wants cutting,' said the Hatter.\",\n",
       " u'He had been looking at Alice\\nfor some time with great curiosity, and this was his first speech.',\n",
       " u\"'You should learn not to make personal remarks,' Alice said with some\\nseverity; 'it's very rude.'\",\n",
       " u\"The Hatter opened his eyes very wide on hearing this; but all he SAID\\nwas, 'Why is a raven like a writing-desk?'\",\n",
       " u\"'Come, we shall have some fun now!'\",\n",
       " u'thought Alice.',\n",
       " u\"'I'm glad they've\\nbegun asking riddles.--I believe I can guess that,' she added aloud.\",\n",
       " u\"'Do you mean that you think you can find out the answer to it?'\",\n",
       " u'said the\\nMarch Hare.',\n",
       " u\"'Exactly so,' said Alice.\",\n",
       " u\"'Then you should say what you mean,' the March Hare went on.\",\n",
       " u\"'I do,' Alice hastily replied; 'at least--at least I mean what I\\nsay--that's the same thing, you know.'\",\n",
       " u\"'Not the same thing a bit!'\",\n",
       " u'said the Hatter.',\n",
       " u'\\'You might just as well say\\nthat \"I see what I eat\" is the same thing as \"I eat what I see\"!\\'',\n",
       " u'\\'You might just as well say,\\' added the March Hare, \\'that \"I like what I\\nget\" is the same thing as \"I get what I like\"!\\'',\n",
       " u'\\'You might just as well say,\\' added the Dormouse, who seemed to be\\ntalking in his sleep, \\'that \"I breathe when I sleep\" is the same thing\\nas \"I sleep when I breathe\"!\\'',\n",
       " u\"'It IS the same thing with you,' said the Hatter, and here the\\nconversation dropped, and the party sat silent for a minute, while Alice\\nthought over all she could remember about ravens and writing-desks,\\nwhich wasn't much.\",\n",
       " u'The Hatter was the first to break the silence.',\n",
       " u\"'What day of the month\\nis it?'\",\n",
       " u'he said, turning to Alice: he had taken his watch out of his\\npocket, and was looking at it uneasily, shaking it every now and then,\\nand holding it to his ear.',\n",
       " u\"Alice considered a little, and then said 'The fourth.'\",\n",
       " u\"'Two days wrong!'\",\n",
       " u'sighed the Hatter.',\n",
       " u\"'I told you butter wouldn't suit\\nthe works!'\",\n",
       " u'he added looking angrily at the March Hare.',\n",
       " u\"'It was the BEST butter,' the March Hare meekly replied.\",\n",
       " u\"'Yes, but some crumbs must have got in as well,' the Hatter grumbled:\\n'you shouldn't have put it in with the bread-knife.'\",\n",
       " u\"The March Hare took the watch and looked at it gloomily: then he dipped\\nit into his cup of tea, and looked at it again: but he could think of\\nnothing better to say than his first remark, 'It was the BEST butter,\\nyou know.'\",\n",
       " u'Alice had been looking over his shoulder with some curiosity.',\n",
       " u\"'What a\\nfunny watch!'\",\n",
       " u'she remarked.',\n",
       " u\"'It tells the day of the month, and doesn't\\ntell what o'clock it is!'\",\n",
       " u\"'Why should it?'\",\n",
       " u'muttered the Hatter.',\n",
       " u\"'Does YOUR watch tell you what\\nyear it is?'\",\n",
       " u\"'Of course not,' Alice replied very readily: 'but that's because it\\nstays the same year for such a long time together.'\",\n",
       " u\"'Which is just the case with MINE,' said the Hatter.\",\n",
       " u'Alice felt dreadfully puzzled.',\n",
       " u\"The Hatter's remark seemed to have no\\nsort of meaning in it, and yet it was certainly English.\",\n",
       " u\"'I don't quite\\nunderstand you,' she said, as politely as she could.\",\n",
       " u\"'The Dormouse is asleep again,' said the Hatter, and he poured a little\\nhot tea upon its nose.\",\n",
       " u\"The Dormouse shook its head impatiently, and said, without opening its\\neyes, 'Of course, of course; just what I was going to remark myself.'\",\n",
       " u\"'Have you guessed the riddle yet?'\",\n",
       " u'the Hatter said, turning to Alice\\nagain.',\n",
       " u\"'No, I give it up,' Alice replied: 'what's the answer?'\",\n",
       " u\"'I haven't the slightest idea,' said the Hatter.\",\n",
       " u\"'Nor I,' said the March Hare.\",\n",
       " u'Alice sighed wearily.',\n",
       " u\"'I think you might do something better with the\\ntime,' she said, 'than waste it in asking riddles that have no answers.'\",\n",
       " u\"'If you knew Time as well as I do,' said the Hatter, 'you wouldn't talk\\nabout wasting IT.\",\n",
       " u\"It's HIM.'\",\n",
       " u\"'I don't know what you mean,' said Alice.\",\n",
       " u\"'Of course you don't!'\",\n",
       " u'the Hatter said, tossing his head contemptuously.',\n",
       " u\"'I dare say you never even spoke to Time!'\",\n",
       " u\"'Perhaps not,' Alice cautiously replied: 'but I know I have to beat time\\nwhen I learn music.'\",\n",
       " u\"'Ah!\",\n",
       " u\"that accounts for it,' said the Hatter.\",\n",
       " u\"'He won't stand beating.\",\n",
       " u\"Now, if you only kept on good terms with him, he'd do almost anything\\nyou liked with the clock.\",\n",
       " u\"For instance, suppose it were nine o'clock in\\nthe morning, just time to begin lessons: you'd only have to whisper a\\nhint to Time, and round goes the clock in a twinkling!\",\n",
       " u\"Half-past one,\\ntime for dinner!'\",\n",
       " u\"('I only wish it was,' the March Hare said to itself in a whisper.)\",\n",
       " u\"'That would be grand, certainly,' said Alice thoughtfully: 'but then--I\\nshouldn't be hungry for it, you know.'\",\n",
       " u\"'Not at first, perhaps,' said the Hatter: 'but you could keep it to\\nhalf-past one as long as you liked.'\",\n",
       " u\"'Is that the way YOU manage?'\",\n",
       " u'Alice asked.',\n",
       " u'The Hatter shook his head mournfully.',\n",
       " u\"'Not I!'\",\n",
       " u'he replied.',\n",
       " u'\\'We\\nquarrelled last March--just before HE went mad, you know--\\' (pointing\\nwith his tea spoon at the March Hare,) \\'--it was at the great concert\\ngiven by the Queen of Hearts, and I had to sing\\n\\n     \"Twinkle, twinkle, little bat!',\n",
       " u'How I wonder what you\\'re at!\"',\n",
       " u\"You know the song, perhaps?'\",\n",
       " u\"'I've heard something like it,' said Alice.\",\n",
       " u'\\'It goes on, you know,\\' the Hatter continued, \\'in this way:--\\n\\n     \"Up above the world you fly,\\n     Like a tea-tray in the sky.',\n",
       " u'Twinkle, twinkle--\"\\'\\n\\nHere the Dormouse shook itself, and began singing in its sleep \\'Twinkle,\\ntwinkle, twinkle, twinkle--\\' and went on so long that they had to pinch\\nit to make it stop.',\n",
       " u'\\'Well, I\\'d hardly finished the first verse,\\' said the Hatter, \\'when the\\nQueen jumped up and bawled out, \"He\\'s murdering the time!',\n",
       " u'Off with his\\nhead!\"\\'',\n",
       " u\"'How dreadfully savage!'\",\n",
       " u'exclaimed Alice.',\n",
       " u\"'And ever since that,' the Hatter went on in a mournful tone, 'he won't\\ndo a thing I ask!\",\n",
       " u\"It's always six o'clock now.'\",\n",
       " u\"A bright idea came into Alice's head.\",\n",
       " u\"'Is that the reason so many\\ntea-things are put out here?'\",\n",
       " u'she asked.',\n",
       " u\"'Yes, that's it,' said the Hatter with a sigh: 'it's always tea-time,\\nand we've no time to wash the things between whiles.'\",\n",
       " u\"'Then you keep moving round, I suppose?'\",\n",
       " u'said Alice.',\n",
       " u\"'Exactly so,' said the Hatter: 'as the things get used up.'\",\n",
       " u\"'But what happens when you come to the beginning again?'\",\n",
       " u'Alice ventured\\nto ask.',\n",
       " u\"'Suppose we change the subject,' the March Hare interrupted, yawning.\",\n",
       " u\"'I'm getting tired of this.\",\n",
       " u\"I vote the young lady tells us a story.'\",\n",
       " u\"'I'm afraid I don't know one,' said Alice, rather alarmed at the\\nproposal.\",\n",
       " u\"'Then the Dormouse shall!'\",\n",
       " u'they both cried.',\n",
       " u\"'Wake up, Dormouse!'\",\n",
       " u'And\\nthey pinched it on both sides at once.',\n",
       " u'The Dormouse slowly opened his eyes.',\n",
       " u\"'I wasn't asleep,' he said in a\\nhoarse, feeble voice: 'I heard every word you fellows were saying.'\",\n",
       " u\"'Tell us a story!'\",\n",
       " u'said the March Hare.',\n",
       " u\"'Yes, please do!'\",\n",
       " u'pleaded Alice.',\n",
       " u\"'And be quick about it,' added the Hatter, 'or you'll be asleep again\\nbefore it's done.'\",\n",
       " u\"'Once upon a time there were three little sisters,' the Dormouse began\\nin a great hurry; 'and their names were Elsie, Lacie, and Tillie; and\\nthey lived at the bottom of a well--'\\n\\n'What did they live on?'\",\n",
       " u'said Alice, who always took a great interest in\\nquestions of eating and drinking.',\n",
       " u\"'They lived on treacle,' said the Dormouse, after thinking a minute or\\ntwo.\",\n",
       " u\"'They couldn't have done that, you know,' Alice gently remarked; 'they'd\\nhave been ill.'\\n\\n'So they were,' said the Dormouse; 'VERY ill.'\\n\\nAlice tried to fancy to herself what such an extraordinary ways of\\nliving would be like, but it puzzled her too much, so she went on: 'But\\nwhy did they live at the bottom of a well?'\",\n",
       " u\"'Take some more tea,' the March Hare said to Alice, very earnestly.\",\n",
       " u\"'I've had nothing yet,' Alice replied in an offended tone, 'so I can't\\ntake more.'\",\n",
       " u\"'You mean you can't take LESS,' said the Hatter: 'it's very easy to take\\nMORE than nothing.'\",\n",
       " u\"'Nobody asked YOUR opinion,' said Alice.\",\n",
       " u\"'Who's making personal remarks now?'\",\n",
       " u'the Hatter asked triumphantly.',\n",
       " u'Alice did not quite know what to say to this: so she helped herself\\nto some tea and bread-and-butter, and then turned to the Dormouse, and\\nrepeated her question.',\n",
       " u\"'Why did they live at the bottom of a well?'\",\n",
       " u\"The Dormouse again took a minute or two to think about it, and then\\nsaid, 'It was a treacle-well.'\",\n",
       " u\"'There's no such thing!'\",\n",
       " u\"Alice was beginning very angrily, but the\\nHatter and the March Hare went 'Sh!\",\n",
       " u\"sh!'\",\n",
       " u\"and the Dormouse sulkily\\nremarked, 'If you can't be civil, you'd better finish the story for\\nyourself.'\",\n",
       " u\"'No, please go on!'\",\n",
       " u\"Alice said very humbly; 'I won't interrupt again.\",\n",
       " u\"I\\ndare say there may be ONE.'\",\n",
       " u\"'One, indeed!'\",\n",
       " u'said the Dormouse indignantly.',\n",
       " u'However, he consented to\\ngo on.',\n",
       " u\"'And so these three little sisters--they were learning to draw,\\nyou know--'\\n\\n'What did they draw?'\",\n",
       " u'said Alice, quite forgetting her promise.',\n",
       " u\"'Treacle,' said the Dormouse, without considering at all this time.\",\n",
       " u\"'I want a clean cup,' interrupted the Hatter: 'let's all move one place\\non.'\",\n",
       " u\"He moved on as he spoke, and the Dormouse followed him: the March Hare\\nmoved into the Dormouse's place, and Alice rather unwillingly took\\nthe place of the March Hare.\",\n",
       " u'The Hatter was the only one who got any\\nadvantage from the change: and Alice was a good deal worse off than\\nbefore, as the March Hare had just upset the milk-jug into his plate.',\n",
       " u\"Alice did not wish to offend the Dormouse again, so she began very\\ncautiously: 'But I don't understand.\",\n",
       " u\"Where did they draw the treacle\\nfrom?'\",\n",
       " u\"'You can draw water out of a water-well,' said the Hatter; 'so I should\\nthink you could draw treacle out of a treacle-well--eh, stupid?'\",\n",
       " u\"'But they were IN the well,' Alice said to the Dormouse, not choosing to\\nnotice this last remark.\",\n",
       " u\"'Of course they were', said the Dormouse; '--well in.'\",\n",
       " u'This answer so confused poor Alice, that she let the Dormouse go on for\\nsome time without interrupting it.',\n",
       " u\"'They were learning to draw,' the Dormouse went on, yawning and rubbing\\nits eyes, for it was getting very sleepy; 'and they drew all manner of\\nthings--everything that begins with an M--'\\n\\n'Why with an M?'\",\n",
       " u'said Alice.',\n",
       " u\"'Why not?'\",\n",
       " u'said the March Hare.',\n",
       " u'Alice was silent.',\n",
       " u'The Dormouse had closed its eyes by this time, and was going off into\\na doze; but, on being pinched by the Hatter, it woke up again with\\na little shriek, and went on: \\'--that begins with an M, such as\\nmouse-traps, and the moon, and memory, and muchness--you know you say\\nthings are \"much of a muchness\"--did you ever see such a thing as a\\ndrawing of a muchness?\\'',\n",
       " u\"'Really, now you ask me,' said Alice, very much confused, 'I don't\\nthink--'\\n\\n'Then you shouldn't talk,' said the Hatter.\",\n",
       " u'This piece of rudeness was more than Alice could bear: she got up in\\ngreat disgust, and walked off; the Dormouse fell asleep instantly, and\\nneither of the others took the least notice of her going, though she\\nlooked back once or twice, half hoping that they would call after her:\\nthe last time she saw them, they were trying to put the Dormouse into\\nthe teapot.',\n",
       " u\"'At any rate I'll never go THERE again!'\",\n",
       " u'said Alice as she picked her\\nway through the wood.',\n",
       " u\"'It's the stupidest tea-party I ever was at in all\\nmy life!'\",\n",
       " u'Just as she said this, she noticed that one of the trees had a door\\nleading right into it.',\n",
       " u\"'That's very curious!'\",\n",
       " u'she thought.',\n",
       " u\"'But\\neverything's curious today.\",\n",
       " u\"I think I may as well go in at once.'\",\n",
       " u'And in\\nshe went.',\n",
       " u'Once more she found herself in the long hall, and close to the little\\nglass table.',\n",
       " u\"'Now, I'll manage better this time,' she said to herself,\\nand began by taking the little golden key, and unlocking the door that\\nled into the garden.\",\n",
       " u'Then she went to work nibbling at the mushroom (she\\nhad kept a piece of it in her pocket) till she was about a foot high:\\nthen she walked down the little passage: and THEN--she found herself at\\nlast in the beautiful garden, among the bright flower-beds and the cool\\nfountains.',\n",
       " u'CHAPTER VIII.',\n",
       " u\"The Queen's Croquet-Ground\\n\\nA large rose-tree stood near the entrance of the garden: the roses\\ngrowing on it were white, but there were three gardeners at it, busily\\npainting them red.\",\n",
       " u\"Alice thought this a very curious thing, and she went\\nnearer to watch them, and just as she came up to them she heard one of\\nthem say, 'Look out now, Five!\",\n",
       " u\"Don't go splashing paint over me like\\nthat!'\",\n",
       " u\"'I couldn't help it,' said Five, in a sulky tone; 'Seven jogged my\\nelbow.'\",\n",
       " u\"On which Seven looked up and said, 'That's right, Five!\",\n",
       " u\"Always lay the\\nblame on others!'\",\n",
       " u\"'YOU'D better not talk!'\",\n",
       " u'said Five.',\n",
       " u\"'I heard the Queen say only\\nyesterday you deserved to be beheaded!'\",\n",
       " u\"'What for?'\",\n",
       " u'said the one who had spoken first.',\n",
       " u\"'That's none of YOUR business, Two!'\",\n",
       " u'said Seven.',\n",
       " u\"'Yes, it IS his business!'\",\n",
       " u\"said Five, 'and I'll tell him--it was for\\nbringing the cook tulip-roots instead of onions.'\",\n",
       " u\"Seven flung down his brush, and had just begun 'Well, of all the unjust\\nthings--' when his eye chanced to fall upon Alice, as she stood watching\\nthem, and he checked himself suddenly: the others looked round also, and\\nall of them bowed low.\",\n",
       " u\"'Would you tell me,' said Alice, a little timidly, 'why you are painting\\nthose roses?'\",\n",
       " u'Five and Seven said nothing, but looked at Two.',\n",
       " u\"Two began in a low\\nvoice, 'Why the fact is, you see, Miss, this here ought to have been a\\nRED rose-tree, and we put a white one in by mistake; and if the Queen\\nwas to find it out, we should all have our heads cut off, you know.\",\n",
       " u\"So you see, Miss, we're doing our best, afore she comes, to--' At this\\nmoment Five, who had been anxiously looking across the garden, called\\nout 'The Queen!\",\n",
       " u\"The Queen!'\",\n",
       " u'and the three gardeners instantly threw\\nthemselves flat upon their faces.',\n",
       " u'There was a sound of many footsteps,\\nand Alice looked round, eager to see the Queen.',\n",
       " u'First came ten soldiers carrying clubs; these were all shaped like\\nthe three gardeners, oblong and flat, with their hands and feet at the\\ncorners: next the ten courtiers; these were ornamented all over with\\ndiamonds, and walked two and two, as the soldiers did.',\n",
       " u'After these came\\nthe royal children; there were ten of them, and the little dears came\\njumping merrily along hand in hand, in couples: they were all ornamented\\nwith hearts.',\n",
       " u'Next came the guests, mostly Kings and Queens, and among\\nthem Alice recognised the White Rabbit: it was talking in a hurried\\nnervous manner, smiling at everything that was said, and went by without\\nnoticing her.',\n",
       " u\"Then followed the Knave of Hearts, carrying the King's\\ncrown on a crimson velvet cushion; and, last of all this grand\\nprocession, came THE KING AND QUEEN OF HEARTS.\",\n",
       " u\"Alice was rather doubtful whether she ought not to lie down on her face\\nlike the three gardeners, but she could not remember ever having heard\\nof such a rule at processions; 'and besides, what would be the use of\\na procession,' thought she, 'if people had all to lie down upon their\\nfaces, so that they couldn't see it?'\",\n",
       " u'So she stood still where she was,\\nand waited.',\n",
       " u\"When the procession came opposite to Alice, they all stopped and looked\\nat her, and the Queen said severely 'Who is this?'\",\n",
       " u'She said it to the\\nKnave of Hearts, who only bowed and smiled in reply.',\n",
       " u\"'Idiot!'\",\n",
       " u\"said the Queen, tossing her head impatiently; and, turning to\\nAlice, she went on, 'What's your name, child?'\",\n",
       " u\"'My name is Alice, so please your Majesty,' said Alice very politely;\\nbut she added, to herself, 'Why, they're only a pack of cards, after\\nall.\",\n",
       " u\"I needn't be afraid of them!'\",\n",
       " u\"'And who are THESE?'\",\n",
       " u'said the Queen, pointing to the three gardeners who\\nwere lying round the rosetree; for, you see, as they were lying on their\\nfaces, and the pattern on their backs was the same as the rest of the\\npack, she could not tell whether they were gardeners, or soldiers, or\\ncourtiers, or three of her own children.',\n",
       " u\"'How should I know?'\",\n",
       " u'said Alice, surprised at her own courage.',\n",
       " u\"'It's no\\nbusiness of MINE.'\",\n",
       " u\"The Queen turned crimson with fury, and, after glaring at her for a\\nmoment like a wild beast, screamed 'Off with her head!\",\n",
       " u\"Off--'\\n\\n'Nonsense!'\",\n",
       " u'said Alice, very loudly and decidedly, and the Queen was\\nsilent.',\n",
       " u\"The King laid his hand upon her arm, and timidly said 'Consider, my\\ndear: she is only a child!'\",\n",
       " u\"The Queen turned angrily away from him, and said to the Knave 'Turn them\\nover!'\",\n",
       " u'The Knave did so, very carefully, with one foot.',\n",
       " u\"'Get up!'\",\n",
       " u'said the Queen, in a shrill, loud voice, and the three\\ngardeners instantly jumped up, and began bowing to the King, the Queen,\\nthe royal children, and everybody else.',\n",
       " u\"'Leave off that!'\",\n",
       " u'screamed the Queen.',\n",
       " u\"'You make me giddy.'\",\n",
       " u\"And then,\\nturning to the rose-tree, she went on, 'What HAVE you been doing here?'\",\n",
       " u\"'May it please your Majesty,' said Two, in a very humble tone, going\\ndown on one knee as he spoke, 'we were trying--'\\n\\n'I see!'\",\n",
       " u'said the Queen, who had meanwhile been examining the roses.',\n",
       " u\"'Off with their heads!'\",\n",
       " u'and the procession moved on, three of the\\nsoldiers remaining behind to execute the unfortunate gardeners, who ran\\nto Alice for protection.',\n",
       " u\"'You shan't be beheaded!'\",\n",
       " u'said Alice, and she put them into a large\\nflower-pot that stood near.',\n",
       " u'The three soldiers wandered about for a\\nminute or two, looking for them, and then quietly marched off after the\\nothers.',\n",
       " u\"'Are their heads off?'\",\n",
       " u'shouted the Queen.',\n",
       " u\"'Their heads are gone, if it please your Majesty!'\",\n",
       " u'the soldiers shouted\\nin reply.',\n",
       " u\"'That's right!'\",\n",
       " u'shouted the Queen.',\n",
       " u\"'Can you play croquet?'\",\n",
       " u'The soldiers were silent, and looked at Alice, as the question was\\nevidently meant for her.',\n",
       " u\"'Yes!'\",\n",
       " u'shouted Alice.',\n",
       " u\"'Come on, then!'\",\n",
       " u'roared the Queen, and Alice joined the procession,\\nwondering very much what would happen next.',\n",
       " u\"'It's--it's a very fine day!'\",\n",
       " u'said a timid voice at her side.',\n",
       " u'She was\\nwalking by the White Rabbit, who was peeping anxiously into her face.',\n",
       " u\"'Very,' said Alice: '--where's the Duchess?'\",\n",
       " u\"'Hush!\",\n",
       " u\"Hush!'\",\n",
       " u'said the Rabbit in a low, hurried tone.',\n",
       " ...]"
      ]
     },
     "execution_count": 9,
     "metadata": {},
     "output_type": "execute_result"
    }
   ],
   "source": [
    "nltk.sent_tokenize(nltk.corpus.gutenberg.raw('carroll-alice.txt'))"
   ]
  },
  {
   "cell_type": "code",
   "execution_count": 10,
   "metadata": {
    "collapsed": false
   },
   "outputs": [
    {
     "data": {
      "text/plain": [
       "['this', 'is', 'a', 'sentence', '.']"
      ]
     },
     "execution_count": 10,
     "metadata": {},
     "output_type": "execute_result"
    }
   ],
   "source": [
    "nltk.word_tokenize('this is a sentence.')"
   ]
  },
  {
   "cell_type": "code",
   "execution_count": 11,
   "metadata": {
    "collapsed": false
   },
   "outputs": [],
   "source": [
    "sent_in_alice = [nltk.word_tokenize(s) for s in nltk.sent_tokenize(nltk.corpus.gutenberg.raw('carroll-alice.txt'))]"
   ]
  },
  {
   "cell_type": "code",
   "execution_count": 12,
   "metadata": {
    "collapsed": false
   },
   "outputs": [
    {
     "name": "stdout",
     "output_type": "stream",
     "text": [
      "[u'[', u'Alice', u\"'s\", u'Adventures', u'in', u'Wonderland', u'by', u'Lewis', u'Carroll', u'1865', u']', u'CHAPTER', u'I', u'.']\n"
     ]
    }
   ],
   "source": [
    "print sent_in_alice[0]"
   ]
  },
  {
   "cell_type": "code",
   "execution_count": 13,
   "metadata": {
    "collapsed": false
   },
   "outputs": [
    {
     "data": {
      "text/plain": [
       "['This is a sentence.',\n",
       " 'These sentences repeat.',\n",
       " 'But they use different words.',\n",
       " \"Adding so much more I'm not sure what to say.\",\n",
       " 'This is a sentence.']"
      ]
     },
     "execution_count": 13,
     "metadata": {},
     "output_type": "execute_result"
    }
   ],
   "source": [
    "sample = 'This is a sentence. These sentences repeat. But they use different words. Adding so much more I\\'m not sure what to say. This is a sentence.'\n",
    "\n",
    "nltk.sent_tokenize(sample)"
   ]
  },
  {
   "cell_type": "code",
   "execution_count": 17,
   "metadata": {
    "collapsed": false
   },
   "outputs": [
    {
     "name": "stdout",
     "output_type": "stream",
     "text": [
      "['This', 'is', 'a', 'sentence']\n",
      "['These', 'sentences', 'repeat']\n",
      "['But', 'they', 'use', 'different', 'words']\n",
      "['Adding', 'so', 'much', 'more', 'I', \"'m\", 'not', 'sure', 'what', 'to', 'say']\n",
      "['This', 'is', 'a', 'sentence']\n",
      "\n",
      "[4, 3, 5, 11, 4]\n",
      "\n",
      "set(['USE', 'SURE', 'THESE', 'THEY', 'ADDING', 'WHAT', 'BUT', 'TO', 'SAY', 'MUCH', 'WORDS', 'A', 'DIFFERENT', 'REPEAT', 'SENTENCE', 'I', 'IS', 'THIS', 'SO', 'SENTENCES', 'NOT', \"'M\", 'MORE'])\n",
      "\n",
      "lexical div=  0.851851851852\n"
     ]
    }
   ],
   "source": [
    "word_count_in_sent = []\n",
    "words_used = set()\n",
    "\n",
    "for sent in nltk.sent_tokenize(sample):\n",
    "    words = [x for x in nltk.word_tokenize(sent) if x not in ['.', '?']]\n",
    "    word_count_in_sent.append(len(words))\n",
    "    for w in words:\n",
    "        words_used.add(w.upper())\n",
    "    print words\n",
    "\n",
    "\n",
    "print\n",
    "print word_count_in_sent\n",
    "print\n",
    "\n",
    "print words_used\n",
    "print\n",
    "\n",
    "print 'lexical div= ', 1.0 * len(words_used) /sum(word_count_in_sent)"
   ]
  },
  {
   "cell_type": "code",
   "execution_count": 18,
   "metadata": {
    "collapsed": false
   },
   "outputs": [
    {
     "data": {
      "text/plain": [
       "{\"'M\",\n",
       " 'A',\n",
       " 'ADDING',\n",
       " 'BUT',\n",
       " 'DIFFERENT',\n",
       " 'I',\n",
       " 'IS',\n",
       " 'MORE',\n",
       " 'MUCH',\n",
       " 'NOT',\n",
       " 'REPEAT',\n",
       " 'SAY',\n",
       " 'SENTENCE',\n",
       " 'SENTENCES',\n",
       " 'SO',\n",
       " 'SURE',\n",
       " 'THESE',\n",
       " 'THEY',\n",
       " 'THIS',\n",
       " 'TO',\n",
       " 'USE',\n",
       " 'WHAT',\n",
       " 'WORDS'}"
      ]
     },
     "execution_count": 18,
     "metadata": {},
     "output_type": "execute_result"
    }
   ],
   "source": [
    "words_used"
   ]
  },
  {
   "cell_type": "code",
   "execution_count": 19,
   "metadata": {
    "collapsed": false
   },
   "outputs": [
    {
     "data": {
      "text/plain": [
       "<Text: Alice 's Adventures in Wonderland by Lewis Carroll 1865>"
      ]
     },
     "execution_count": 19,
     "metadata": {},
     "output_type": "execute_result"
    }
   ],
   "source": [
    "words = nltk.word_tokenize(nltk.corpus.gutenberg.raw('carroll-alice.txt'))\n",
    "alice = nltk.Text(words)\n",
    "alice"
   ]
  },
  {
   "cell_type": "code",
   "execution_count": 20,
   "metadata": {
    "collapsed": false,
    "scrolled": true
   },
   "outputs": [
    {
     "name": "stdout",
     "output_type": "stream",
     "text": [
      "Displaying 25 of 47 matches:\n",
      "the daisies , when suddenly a White Rabbit with pink eyes ran close by her . T\n",
      "ERY much out of the way to hear the Rabbit say to itself , 'Oh dear ! Oh dear \n",
      "emed quite natural ) ; but when the Rabbit actually TOOK A WATCH OUT OF ITS WA\n",
      "nd that she had never before seen a rabbit with either a waistcoat-pocket , or\n",
      "nother long passage , and the White Rabbit was still in sight , hurrying down \n",
      "hen she turned the corner , but the Rabbit was no longer to be seen : she foun\n",
      " what was coming . It was the White Rabbit returning , splendidly dressed , wi\n",
      "ask help of any one ; so , when the Rabbit came near her , she began , in a lo\n",
      "ice , 'If you please , sir -- ' The Rabbit started violently , dropped the whi\n",
      " see that she had put on one of the Rabbit 's little white kid gloves while sh\n",
      "finish his story . CHAPTER IV . The Rabbit Sends in a Little Bill It was the W\n",
      "s in a Little Bill It was the White Rabbit , trotting slowly back again , and \n",
      "vanished completely . Very soon the Rabbit noticed Alice , as she went hunting\n",
      "ight brass plate with the name 'W . RABBIT ' engraved upon it . She went in wi\n",
      "rself , 'to be going messages for a rabbit ! I suppose Dinah 'll be sending me\n",
      " the stairs . Alice knew it was the Rabbit coming to look for her , and she tr\n",
      "ut a thousand times as large as the Rabbit , and had no reason to be afraid of\n",
      " to be afraid of it . Presently the Rabbit came up to the door , and tried to \n",
      "ting till she fancied she heard the Rabbit just under the window , she suddenl\n",
      "t . Next came an angry voice -- the Rabbit 's -- 'Pat ! Pat ! Where are you ? \n",
      "ng for apples , indeed ! ' said the Rabbit angrily . 'Here ! Come and help me \n",
      "us of 'There goes Bill ! ' then the Rabbit 's voice along -- 'Catch him , you \n",
      "st burn the house down ! ' said the Rabbit 's voice ; and Alice called out as \n",
      "g about again , and Alice heard the Rabbit say , 'A barrowful will do , to beg\n",
      "ong them Alice recognised the White Rabbit : it was talking in a hurried nervo\n"
     ]
    }
   ],
   "source": [
    "alice.concordance('rabbit')"
   ]
  },
  {
   "cell_type": "code",
   "execution_count": 21,
   "metadata": {
    "collapsed": true
   },
   "outputs": [],
   "source": [
    "alice.similar?"
   ]
  },
  {
   "cell_type": "code",
   "execution_count": 22,
   "metadata": {
    "collapsed": false
   },
   "outputs": [
    {
     "name": "stdout",
     "output_type": "stream",
     "text": [
      "king queen duchess hatter caterpillar gryphon dormouse jury other cook\n",
      "hall key table question fight way door baby cat lizard\n"
     ]
    }
   ],
   "source": [
    "alice.similar('rabbit')"
   ]
  },
  {
   "cell_type": "code",
   "execution_count": 23,
   "metadata": {
    "collapsed": false
   },
   "outputs": [
    {
     "name": "stdout",
     "output_type": "stream",
     "text": [
      "white_trotting the_was the_little the_sends the_came white_returning\n",
      "name_engraved a_i white_that the_actually white_hurried the_voice\n",
      "the_coming the_and white_blew the_angrily white_cried the_say\n",
      "the_noticed white_she\n"
     ]
    }
   ],
   "source": [
    "alice.common_contexts(['Rabbit'])"
   ]
  },
  {
   "cell_type": "code",
   "execution_count": 1,
   "metadata": {
    "collapsed": false
   },
   "outputs": [
    {
     "ename": "NameError",
     "evalue": "name 'alice' is not defined",
     "output_type": "error",
     "traceback": [
      "\u001b[0;31m---------------------------------------------------------------------------\u001b[0m",
      "\u001b[0;31mNameError\u001b[0m                                 Traceback (most recent call last)",
      "\u001b[0;32m<ipython-input-1-c1ede617ccf8>\u001b[0m in \u001b[0;36m<module>\u001b[0;34m()\u001b[0m\n\u001b[0;32m----> 1\u001b[0;31m \u001b[0malice\u001b[0m\u001b[0;34m.\u001b[0m\u001b[0mdispersion_plot\u001b[0m\u001b[0;34m(\u001b[0m\u001b[0;34m[\u001b[0m\u001b[0;34m'Rabbit'\u001b[0m\u001b[0;34m]\u001b[0m\u001b[0;34m)\u001b[0m\u001b[0;34m\u001b[0m\u001b[0m\n\u001b[0m",
      "\u001b[0;31mNameError\u001b[0m: name 'alice' is not defined"
     ]
    }
   ],
   "source": [
    "alice.dispersion_plot(['Rabbit'])"
   ]
  },
  {
   "cell_type": "markdown",
   "metadata": {
    "collapsed": true
   },
   "source": [
    "# Stemming"
   ]
  },
  {
   "cell_type": "code",
   "execution_count": 6,
   "metadata": {
    "collapsed": true
   },
   "outputs": [],
   "source": [
    "import nltk.stem.snowball \n",
    "import nltk.stem.porter\n"
   ]
  },
  {
   "cell_type": "code",
   "execution_count": 4,
   "metadata": {
    "collapsed": false
   },
   "outputs": [],
   "source": [
    "snowball = nltk.stem.snowball.SnowballStemmer('english')"
   ]
  },
  {
   "cell_type": "code",
   "execution_count": 5,
   "metadata": {
    "collapsed": false
   },
   "outputs": [
    {
     "data": {
      "text/plain": [
       "u'run'"
      ]
     },
     "execution_count": 5,
     "metadata": {},
     "output_type": "execute_result"
    }
   ],
   "source": [
    "snowball.stem('running')"
   ]
  },
  {
   "cell_type": "code",
   "execution_count": 7,
   "metadata": {
    "collapsed": false
   },
   "outputs": [
    {
     "data": {
      "text/plain": [
       "u'run'"
      ]
     },
     "execution_count": 7,
     "metadata": {},
     "output_type": "execute_result"
    }
   ],
   "source": [
    "porter = nltk.stem.porter.PorterStemmer()\n",
    "porter.stem('running')"
   ]
  },
  {
   "cell_type": "code",
   "execution_count": 27,
   "metadata": {
    "collapsed": false
   },
   "outputs": [
    {
     "name": "stdout",
     "output_type": "stream",
     "text": [
      "# words_used 2837\n",
      "# word_stem 2022\n",
      "lexical div=  0.0882892976068\n",
      "lexical stem div=  0.0629259639623\n"
     ]
    }
   ],
   "source": [
    "word_count_in_sent = []\n",
    "words_used = set()\n",
    "word_stem = set()\n",
    "\n",
    "for sent in nltk.sent_tokenize(nltk.corpus.gutenberg.raw('carroll-alice.txt')):\n",
    "    words = [x for x in nltk.word_tokenize(sent) if x not in ['.', '?']]\n",
    "    word_count_in_sent.append(len(words))\n",
    "    for w in words:\n",
    "        word_stem.add(snowball.stem(w))\n",
    "        words_used.add(w.upper())\n",
    "    #print words\n",
    "\n",
    "\n",
    "#print word_count_in_sent\n",
    "print '# words_used', len(words_used)\n",
    "print '# word_stem', len(word_stem)\n",
    "\n",
    "print 'lexical div= ', 1.0 * len(words_used) /sum(word_count_in_sent)\n",
    "print 'lexical stem div= ', 1.0 * len(word_stem) /sum(word_count_in_sent)\n"
   ]
  },
  {
   "cell_type": "code",
   "execution_count": 29,
   "metadata": {
    "collapsed": false
   },
   "outputs": [
    {
     "data": {
      "text/plain": [
       "<WordNetCorpusReader in u'/Users/allenbyron/nltk_data/corpora/wordnet'>"
      ]
     },
     "execution_count": 29,
     "metadata": {},
     "output_type": "execute_result"
    }
   ],
   "source": [
    "nltk.corpus.wordnet"
   ]
  },
  {
   "cell_type": "code",
   "execution_count": 43,
   "metadata": {
    "collapsed": false
   },
   "outputs": [
    {
     "data": {
      "text/plain": [
       "[Synset('car.n.01'),\n",
       " Synset('car.n.02'),\n",
       " Synset('car.n.03'),\n",
       " Synset('car.n.04'),\n",
       " Synset('cable_car.n.01')]"
      ]
     },
     "execution_count": 43,
     "metadata": {},
     "output_type": "execute_result"
    }
   ],
   "source": [
    "nltk.corpus.wordnet.synsets('car')"
   ]
  },
  {
   "cell_type": "code",
   "execution_count": 36,
   "metadata": {
    "collapsed": false
   },
   "outputs": [
    {
     "data": {
      "text/plain": [
       "[Synset('hippopotamus.n.01')]"
      ]
     },
     "execution_count": 36,
     "metadata": {},
     "output_type": "execute_result"
    }
   ],
   "source": [
    "nltk.corpus.wordnet.synsets('hippopotamus')"
   ]
  },
  {
   "cell_type": "code",
   "execution_count": 42,
   "metadata": {
    "collapsed": false
   },
   "outputs": [
    {
     "data": {
      "text/plain": [
       "u'a motor vehicle with four wheels; usually propelled by an internal combustion engine'"
      ]
     },
     "execution_count": 42,
     "metadata": {},
     "output_type": "execute_result"
    }
   ],
   "source": [
    "nltk.corpus.wordnet.synsets('car')[0].definition()"
   ]
  },
  {
   "cell_type": "code",
   "execution_count": 44,
   "metadata": {
    "collapsed": true
   },
   "outputs": [],
   "source": [
    "synsets = nltk.corpus.wordnet.synsets"
   ]
  },
  {
   "cell_type": "code",
   "execution_count": 46,
   "metadata": {
    "collapsed": false
   },
   "outputs": [
    {
     "data": {
      "text/plain": [
       "[Synset('car.n.02')]"
      ]
     },
     "execution_count": 46,
     "metadata": {},
     "output_type": "execute_result"
    }
   ],
   "source": [
    "synsets('railcar')"
   ]
  },
  {
   "cell_type": "markdown",
   "metadata": {},
   "source": [
    "#### hypernyms"
   ]
  },
  {
   "cell_type": "code",
   "execution_count": 47,
   "metadata": {
    "collapsed": false
   },
   "outputs": [
    {
     "data": {
      "text/plain": [
       "[Synset('motor_vehicle.n.01')]"
      ]
     },
     "execution_count": 47,
     "metadata": {},
     "output_type": "execute_result"
    }
   ],
   "source": [
    "synsets('car')[0].hypernyms()"
   ]
  },
  {
   "cell_type": "code",
   "execution_count": 48,
   "metadata": {
    "collapsed": false
   },
   "outputs": [
    {
     "data": {
      "text/plain": [
       "[Synset('self-propelled_vehicle.n.01')]"
      ]
     },
     "execution_count": 48,
     "metadata": {},
     "output_type": "execute_result"
    }
   ],
   "source": [
    "synsets('motor_vehicle')[0].hypernyms()"
   ]
  },
  {
   "cell_type": "code",
   "execution_count": 50,
   "metadata": {
    "collapsed": false
   },
   "outputs": [
    {
     "data": {
      "text/plain": [
       "[Synset('wheeled_vehicle.n.01')]"
      ]
     },
     "execution_count": 50,
     "metadata": {},
     "output_type": "execute_result"
    }
   ],
   "source": [
    "synsets('self-propelled_vehicle')[0].hypernyms()"
   ]
  },
  {
   "cell_type": "code",
   "execution_count": 52,
   "metadata": {
    "collapsed": false
   },
   "outputs": [
    {
     "data": {
      "text/plain": [
       "[Synset('container.n.01'), Synset('vehicle.n.01')]"
      ]
     },
     "execution_count": 52,
     "metadata": {},
     "output_type": "execute_result"
    }
   ],
   "source": [
    "synsets('self-propelled_vehicle')[0].hypernyms()[0].hypernyms()"
   ]
  },
  {
   "cell_type": "markdown",
   "metadata": {},
   "source": [
    "#### hyponyms"
   ]
  },
  {
   "cell_type": "code",
   "execution_count": 53,
   "metadata": {
    "collapsed": false
   },
   "outputs": [
    {
     "data": {
      "text/plain": [
       "[Synset('ambulance.n.01'),\n",
       " Synset('beach_wagon.n.01'),\n",
       " Synset('bus.n.04'),\n",
       " Synset('cab.n.03'),\n",
       " Synset('compact.n.03'),\n",
       " Synset('convertible.n.01'),\n",
       " Synset('coupe.n.01'),\n",
       " Synset('cruiser.n.01'),\n",
       " Synset('electric.n.01'),\n",
       " Synset('gas_guzzler.n.01'),\n",
       " Synset('hardtop.n.01'),\n",
       " Synset('hatchback.n.01'),\n",
       " Synset('horseless_carriage.n.01'),\n",
       " Synset('hot_rod.n.01'),\n",
       " Synset('jeep.n.01'),\n",
       " Synset('limousine.n.01'),\n",
       " Synset('loaner.n.02'),\n",
       " Synset('minicar.n.01'),\n",
       " Synset('minivan.n.01'),\n",
       " Synset('model_t.n.01'),\n",
       " Synset('pace_car.n.01'),\n",
       " Synset('racer.n.02'),\n",
       " Synset('roadster.n.01'),\n",
       " Synset('sedan.n.01'),\n",
       " Synset('sport_utility.n.01'),\n",
       " Synset('sports_car.n.01'),\n",
       " Synset('stanley_steamer.n.01'),\n",
       " Synset('stock_car.n.01'),\n",
       " Synset('subcompact.n.01'),\n",
       " Synset('touring_car.n.01'),\n",
       " Synset('used-car.n.01')]"
      ]
     },
     "execution_count": 53,
     "metadata": {},
     "output_type": "execute_result"
    }
   ],
   "source": [
    "synsets('car')[0].hyponyms()"
   ]
  },
  {
   "cell_type": "code",
   "execution_count": 54,
   "metadata": {
    "collapsed": true
   },
   "outputs": [],
   "source": [
    "motor_car = synsets('car')[0]\n",
    "bicycle = synsets('bicycle')[0]"
   ]
  },
  {
   "cell_type": "code",
   "execution_count": 55,
   "metadata": {
    "collapsed": false
   },
   "outputs": [
    {
     "data": {
      "text/plain": [
       "[Synset('physical_entity.n.01'),\n",
       " Synset('artifact.n.01'),\n",
       " Synset('vehicle.n.01'),\n",
       " Synset('object.n.01'),\n",
       " Synset('instrumentality.n.03'),\n",
       " Synset('container.n.01'),\n",
       " Synset('conveyance.n.03'),\n",
       " Synset('wheeled_vehicle.n.01'),\n",
       " Synset('entity.n.01'),\n",
       " Synset('whole.n.02')]"
      ]
     },
     "execution_count": 55,
     "metadata": {},
     "output_type": "execute_result"
    }
   ],
   "source": [
    "motor_car.common_hypernyms(bicycle)"
   ]
  },
  {
   "cell_type": "code",
   "execution_count": 56,
   "metadata": {
    "collapsed": true
   },
   "outputs": [],
   "source": [
    "carrot = synsets('carrot')[0]"
   ]
  },
  {
   "cell_type": "code",
   "execution_count": 57,
   "metadata": {
    "collapsed": false
   },
   "outputs": [
    {
     "data": {
      "text/plain": [
       "0.07692307692307693"
      ]
     },
     "execution_count": 57,
     "metadata": {},
     "output_type": "execute_result"
    }
   ],
   "source": [
    "motor_car.path_similarity(carrot)"
   ]
  },
  {
   "cell_type": "markdown",
   "metadata": {},
   "source": [
    "# POS Tagging"
   ]
  },
  {
   "cell_type": "code",
   "execution_count": 59,
   "metadata": {
    "collapsed": false
   },
   "outputs": [
    {
     "data": {
      "text/plain": [
       "[('I', 'PRP'), ('bought', 'VBD'), ('a', 'DT'), ('frog', 'NN'), ('.', '.')]"
      ]
     },
     "execution_count": 59,
     "metadata": {},
     "output_type": "execute_result"
    }
   ],
   "source": [
    "nltk.pos_tag(nltk.word_tokenize('I bought a frog.'))"
   ]
  },
  {
   "cell_type": "code",
   "execution_count": 61,
   "metadata": {
    "collapsed": false
   },
   "outputs": [],
   "source": [
    "s = nltk.sent_tokenize(nltk.corpus.gutenberg.raw('carroll-alice.txt'))[7]"
   ]
  },
  {
   "cell_type": "code",
   "execution_count": 62,
   "metadata": {
    "collapsed": false
   },
   "outputs": [
    {
     "data": {
      "text/plain": [
       "u'In another moment down went Alice after it, never once considering how\\nin the world she was to get out again.'"
      ]
     },
     "execution_count": 62,
     "metadata": {},
     "output_type": "execute_result"
    }
   ],
   "source": [
    "s"
   ]
  },
  {
   "cell_type": "code",
   "execution_count": 63,
   "metadata": {
    "collapsed": false
   },
   "outputs": [
    {
     "data": {
      "text/plain": [
       "[(u'In', 'IN'),\n",
       " (u'another', 'DT'),\n",
       " (u'moment', 'NN'),\n",
       " (u'down', 'RP'),\n",
       " (u'went', 'VBD'),\n",
       " (u'Alice', 'NNP'),\n",
       " (u'after', 'IN'),\n",
       " (u'it', 'PRP'),\n",
       " (u',', ','),\n",
       " (u'never', 'RB'),\n",
       " (u'once', 'RB'),\n",
       " (u'considering', 'VBG'),\n",
       " (u'how', 'WRB'),\n",
       " (u'in', 'IN'),\n",
       " (u'the', 'DT'),\n",
       " (u'world', 'NN'),\n",
       " (u'she', 'PRP'),\n",
       " (u'was', 'VBD'),\n",
       " (u'to', 'TO'),\n",
       " (u'get', 'VB'),\n",
       " (u'out', 'RP'),\n",
       " (u'again', 'RB'),\n",
       " (u'.', '.')]"
      ]
     },
     "execution_count": 63,
     "metadata": {},
     "output_type": "execute_result"
    }
   ],
   "source": [
    "nltk.pos_tag(nltk.word_tokenize(s))"
   ]
  },
  {
   "cell_type": "code",
   "execution_count": 67,
   "metadata": {
    "collapsed": false
   },
   "outputs": [
    {
     "data": {
      "text/plain": [
       "{u\"'Hold\",\n",
       " u\"'for\",\n",
       " u\"'unless\",\n",
       " u'GAVE',\n",
       " u'HAD',\n",
       " u'Said',\n",
       " u'Stole',\n",
       " u'WAS',\n",
       " u'WILL',\n",
       " u'added',\n",
       " u'addressed',\n",
       " u'afraid',\n",
       " u'alarmed',\n",
       " u'answered',\n",
       " u'appeared',\n",
       " u'argued',\n",
       " u'arranged',\n",
       " u'arrived',\n",
       " u'asked',\n",
       " u'assembled',\n",
       " u'ate',\n",
       " u'attempted',\n",
       " u'balanced',\n",
       " u'beat',\n",
       " u'became',\n",
       " u'began',\n",
       " u'begged',\n",
       " u'bent',\n",
       " u'blew',\n",
       " u'bore',\n",
       " u'bowed',\n",
       " u'boxed',\n",
       " u'bright',\n",
       " u'brightened',\n",
       " u'broke',\n",
       " u'brought',\n",
       " u'cackled',\n",
       " u'called',\n",
       " u'came',\n",
       " u'carried',\n",
       " u'caught',\n",
       " u'caused',\n",
       " u'chanced',\n",
       " u'changed',\n",
       " u'checked',\n",
       " u'cheered',\n",
       " u'choked',\n",
       " u'chose',\n",
       " u'chuckled',\n",
       " u'collected',\n",
       " u'complained',\n",
       " u'concluded',\n",
       " u'consented',\n",
       " u'considered',\n",
       " u'continued',\n",
       " u'crawled',\n",
       " u'crept',\n",
       " u'cried',\n",
       " u'crossed',\n",
       " u'crouched',\n",
       " u'crowded',\n",
       " u'curled',\n",
       " u'cut',\n",
       " u'decided',\n",
       " u'declared',\n",
       " u'denied',\n",
       " u'deserved',\n",
       " u'did',\n",
       " u'died',\n",
       " u'dipped',\n",
       " u'directed',\n",
       " u'dodged',\n",
       " u'dreamed',\n",
       " u'dressed',\n",
       " u'drew',\n",
       " u'dried',\n",
       " u'dropped',\n",
       " u'exclaimed',\n",
       " u'fancied',\n",
       " u'fanned',\n",
       " u'feared',\n",
       " u'fell',\n",
       " u'felt',\n",
       " u'filled',\n",
       " u'finished',\n",
       " u'fitted',\n",
       " u'flashed',\n",
       " u'flew',\n",
       " u'flung',\n",
       " u'folded',\n",
       " u'followed',\n",
       " u'forgot',\n",
       " u'found',\n",
       " u'frightened',\n",
       " u'fumbled',\n",
       " u'gained',\n",
       " u'gave',\n",
       " u'glanced',\n",
       " u'got',\n",
       " u'grazed',\n",
       " u'grew',\n",
       " u'grinned',\n",
       " u'growled',\n",
       " u'grumbled',\n",
       " u'grunted',\n",
       " u'guessed',\n",
       " u'had',\n",
       " u'handed',\n",
       " u'happened',\n",
       " u'heard',\n",
       " u'held',\n",
       " u'helped',\n",
       " u'hit',\n",
       " u'howled',\n",
       " u'hurried',\n",
       " u'interrupted',\n",
       " u'introduced',\n",
       " u'invented',\n",
       " u'jogged',\n",
       " u'joined',\n",
       " u'jumped',\n",
       " u'kept',\n",
       " u'kissed',\n",
       " u'knelt',\n",
       " u'knew',\n",
       " u'knocked',\n",
       " u'laid',\n",
       " u'lasted',\n",
       " u'laughed',\n",
       " u'lay',\n",
       " u'learned',\n",
       " u'learnt',\n",
       " u'led',\n",
       " u'left',\n",
       " u'let',\n",
       " u'lifted',\n",
       " u'liked',\n",
       " u'listened',\n",
       " u'lived',\n",
       " u'longed',\n",
       " u'looked',\n",
       " u'made',\n",
       " u'managed',\n",
       " u'marked',\n",
       " u'meant',\n",
       " u'mentioned',\n",
       " u'met',\n",
       " u'minded',\n",
       " u'missed',\n",
       " u'mixed',\n",
       " u'moved',\n",
       " u'muttered',\n",
       " u'nibbled',\n",
       " u'nodded',\n",
       " u'noticed',\n",
       " u'occurred',\n",
       " u'opened',\n",
       " u'passed',\n",
       " u'peeped',\n",
       " u'permitted',\n",
       " u'persisted',\n",
       " u'picked',\n",
       " u'pictured',\n",
       " u'pinched',\n",
       " u'pitied',\n",
       " u'pointed',\n",
       " u'poured',\n",
       " u'presented',\n",
       " u'produced',\n",
       " u'pronounced',\n",
       " u'proved',\n",
       " u'puffed',\n",
       " u'pulled',\n",
       " u'put',\n",
       " u'puzzled',\n",
       " u'raised',\n",
       " u'ran',\n",
       " u'rapped',\n",
       " u'read',\n",
       " u'received',\n",
       " u'recognised',\n",
       " u'recovered',\n",
       " u'reduced',\n",
       " u'refused',\n",
       " u'remained',\n",
       " u'remarked',\n",
       " u'remembered',\n",
       " u'removed',\n",
       " u'repeated',\n",
       " u'replied',\n",
       " u'roared',\n",
       " u'rose',\n",
       " u'round',\n",
       " u'rushed',\n",
       " u'rustled',\n",
       " u'said',\n",
       " u'sang',\n",
       " u'sat',\n",
       " u'saw',\n",
       " u'scolded',\n",
       " u'screamed',\n",
       " u'seemed',\n",
       " u'sent',\n",
       " u'sentenced',\n",
       " u'set',\n",
       " u'settled',\n",
       " u'shook',\n",
       " u'shouted',\n",
       " u'shrieked',\n",
       " u'shut',\n",
       " u'sighed',\n",
       " u'signed',\n",
       " u'skurried',\n",
       " u'slipped',\n",
       " u'smiled',\n",
       " u'sneezed',\n",
       " u'sobbed',\n",
       " u'sounded',\n",
       " u'splashed',\n",
       " u'spoke',\n",
       " u'spread',\n",
       " u'squeaked',\n",
       " u'squeezed',\n",
       " u'started',\n",
       " u'stole',\n",
       " u'stood',\n",
       " u'stopped',\n",
       " u'straightened',\n",
       " u'stretched',\n",
       " u'succeeded',\n",
       " u'surprised',\n",
       " u'swallowed',\n",
       " u'swam',\n",
       " u'tasted',\n",
       " u'taught',\n",
       " u'thanked',\n",
       " u'thought',\n",
       " u'threw',\n",
       " u'tied',\n",
       " u'tipped',\n",
       " u'told',\n",
       " u'took',\n",
       " u'trembled',\n",
       " u'tried',\n",
       " u'tucked',\n",
       " u'tumbled',\n",
       " u'turned',\n",
       " u'twinkled',\n",
       " u'uncorked',\n",
       " u'understood',\n",
       " u'unfolded',\n",
       " u'unrolled',\n",
       " u'used',\n",
       " u'vanished',\n",
       " u'ventured',\n",
       " u'waited',\n",
       " u'walked',\n",
       " u'wandered',\n",
       " u'wanted',\n",
       " u'was',\n",
       " u'watched',\n",
       " u'went',\n",
       " u'were',\n",
       " u'whispered',\n",
       " u'wish',\n",
       " u'woke',\n",
       " u'wore',\n",
       " u'wrote',\n",
       " u'yawned'}"
      ]
     },
     "execution_count": 67,
     "metadata": {},
     "output_type": "execute_result"
    }
   ],
   "source": [
    "verbs = set()\n",
    "\n",
    "for s in nltk.sent_tokenize(nltk.corpus.gutenberg.raw('carroll-alice.txt')):\n",
    "    words = nltk.word_tokenize(s)\n",
    "    tagged = nltk.pos_tag(words)\n",
    "    for (word, part_of_speech) in tagged:\n",
    "        if part_of_speech == 'VBD':\n",
    "            verbs.add(word)\n",
    "verbs"
   ]
  },
  {
   "cell_type": "code",
   "execution_count": null,
   "metadata": {
    "collapsed": true
   },
   "outputs": [],
   "source": [
    "for s in nltk.sent_tokenize(nltk.corpus.gutenberg.raw('carroll-alice.txt')):\n",
    "    words = nltk.word_tokenize(s)\n",
    "    tagged = nltk.pos_tag(words)\n",
    "    for (word, part_of_speech) in tagged:\n",
    "        if part_of_speech == 'VBD'and word == 'was':\n",
    "            was = \n",
    "            \n",
    "\n",
    "#### Look for instructor set for remainder of code  \n",
    "            \n"
   ]
  }
 ],
 "metadata": {
  "kernelspec": {
   "display_name": "Python 2",
   "language": "python",
   "name": "python2"
  },
  "language_info": {
   "codemirror_mode": {
    "name": "ipython",
    "version": 2
   },
   "file_extension": ".py",
   "mimetype": "text/x-python",
   "name": "python",
   "nbconvert_exporter": "python",
   "pygments_lexer": "ipython2",
   "version": "2.7.12"
  }
 },
 "nbformat": 4,
 "nbformat_minor": 0
}
