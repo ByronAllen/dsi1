{
 "cells": [
  {
   "cell_type": "markdown",
   "metadata": {},
   "source": [
    "# Support Vector Machines Lab"
   ]
  },
  {
   "cell_type": "markdown",
   "metadata": {},
   "source": [
    "In this lab we will explore several datasets with SVMs. The assets folder contains several datasets (in order of complexity):\n",
    "\n",
    "- Breast cancer\n",
    "- Spambase\n",
    "- Car evaluation\n",
    "- Mushroom\n",
    "\n",
    "For each of these a `.names` file is provided with details on the origin of data."
   ]
  },
  {
   "cell_type": "code",
   "execution_count": 1,
   "metadata": {
    "collapsed": false
   },
   "outputs": [],
   "source": [
    "import numpy as np\n",
    "import pandas as pd\n",
    "%matplotlib inline\n",
    "import matplotlib.pyplot as plt"
   ]
  },
  {
   "cell_type": "markdown",
   "metadata": {},
   "source": [
    "# Exercise 1: Breast Cancer\n",
    "\n",
    "\n",
    "\n",
    "## 1.a: Load the Data\n",
    "Use `pandas.read_csv` to load the data and assess the following:\n",
    "- Are there any missing values? (how are they encoded? do we impute them?)\n",
    "- Are the features categorical or numerical?\n",
    "- Are the values normalized?\n",
    "- How many classes are there in the target?\n",
    "\n",
    "Perform what's necessary to get to a point where you have a feature matrix `X` and a target vector `y`, both with only numerical entries."
   ]
  },
  {
   "cell_type": "code",
   "execution_count": 3,
   "metadata": {
    "collapsed": false
   },
   "outputs": [
    {
     "name": "stdout",
     "output_type": "stream",
     "text": [
      "<class 'pandas.core.frame.DataFrame'>\n",
      "RangeIndex: 699 entries, 0 to 698\n",
      "Data columns (total 11 columns):\n",
      "Sample_code_number             699 non-null int64\n",
      "Clump_Thickness                699 non-null int64\n",
      "Uniformity_of_Cell_Size        699 non-null int64\n",
      "Uniformity_of_Cell_Shape       699 non-null int64\n",
      "Marginal_Adhesion              699 non-null int64\n",
      "Single_Epithelial_Cell_Size    699 non-null int64\n",
      "Bare_Nuclei                    683 non-null float64\n",
      "Bland_Chromatin                699 non-null int64\n",
      "Normal_Nucleoli                699 non-null int64\n",
      "Mitoses                        699 non-null int64\n",
      "Class                          699 non-null int64\n",
      "dtypes: float64(1), int64(10)\n",
      "memory usage: 60.1 KB\n"
     ]
    }
   ],
   "source": [
    "df = pd.read_csv('../../assets/datasets/breast_cancer.csv', \n",
    "                 na_values='?')\n",
    "df.info()"
   ]
  },
  {
   "cell_type": "code",
   "execution_count": 4,
   "metadata": {
    "collapsed": false
   },
   "outputs": [
    {
     "data": {
      "text/plain": [
       "<matplotlib.axes._subplots.AxesSubplot at 0x7f0da87f87d0>"
      ]
     },
     "execution_count": 4,
     "metadata": {},
     "output_type": "execute_result"
    },
    {
     "data": {
      "image/png": "[encoded data removed]",
      "text/plain": [
       "<matplotlib.figure.Figure at 0x7f0da87cec10>"
      ]
     },
     "metadata": {},
     "output_type": "display_data"
    }
   ],
   "source": [
    "# 16 missing values in Bare_Nuclei\n",
    "# replacing with mean not justified because distribution is very skewed:\n",
    "df['Bare_Nuclei'].hist()"
   ]
  },
  {
   "cell_type": "code",
   "execution_count": 5,
   "metadata": {
    "collapsed": false
   },
   "outputs": [
    {
     "data": {
      "text/plain": [
       "2    14\n",
       "4     2\n",
       "Name: Class, dtype: int64"
      ]
     },
     "execution_count": 5,
     "metadata": {},
     "output_type": "execute_result"
    }
   ],
   "source": [
    "# which class are the missing values?\n",
    "df.ix[df['Bare_Nuclei'].isnull()]['Class'].value_counts()"
   ]
  },
  {
   "cell_type": "code",
   "execution_count": 6,
   "metadata": {
    "collapsed": true
   },
   "outputs": [],
   "source": [
    "# mostly benign, I'll drop them (it's the majority class)\n",
    "df = df.dropna().astype(int)"
   ]
  },
  {
   "cell_type": "code",
   "execution_count": 7,
   "metadata": {
    "collapsed": false
   },
   "outputs": [
    {
     "name": "stdout",
     "output_type": "stream",
     "text": [
      "<class 'pandas.core.frame.DataFrame'>\n",
      "Int64Index: 683 entries, 0 to 698\n",
      "Data columns (total 11 columns):\n",
      "Sample_code_number             683 non-null int64\n",
      "Clump_Thickness                683 non-null int64\n",
      "Uniformity_of_Cell_Size        683 non-null int64\n",
      "Uniformity_of_Cell_Shape       683 non-null int64\n",
      "Marginal_Adhesion              683 non-null int64\n",
      "Single_Epithelial_Cell_Size    683 non-null int64\n",
      "Bare_Nuclei                    683 non-null int64\n",
      "Bland_Chromatin                683 non-null int64\n",
      "Normal_Nucleoli                683 non-null int64\n",
      "Mitoses                        683 non-null int64\n",
      "Class                          683 non-null int64\n",
      "dtypes: int64(11)\n",
      "memory usage: 64.0 KB\n"
     ]
    }
   ],
   "source": [
    "df.info()"
   ]
  },
  {
   "cell_type": "code",
   "execution_count": 8,
   "metadata": {
    "collapsed": false
   },
   "outputs": [],
   "source": [
    "X = df.drop(['Sample_code_number', 'Class'], axis = 1)\n",
    "y = df['Class'] == 4"
   ]
  },
  {
   "cell_type": "code",
   "execution_count": 9,
   "metadata": {
    "collapsed": true
   },
   "outputs": [],
   "source": [
    "# data all has the same 1-10 scale so don't normalize"
   ]
  },
  {
   "cell_type": "markdown",
   "metadata": {},
   "source": [
    "## 1.b: Model Building\n",
    "\n",
    "- What's the baseline for the accuracy?\n",
    "- Initialize and train a linear svm. What's the average accuracy score with a 3-fold cross validation?\n",
    "- Repeat using an rbf classifier. Compare the scores. Which one is better?\n",
    "- Are your features normalized? if not, try normalizing and repeat the test. Does the score improve?\n",
    "- What's the best model?\n",
    "- Print a confusion matrix and classification report for your best model using:\n",
    "        train_test_split(X, y, stratify=y, test_size=0.33, random_state=42)\n",
    "\n",
    "**Check:** To decide which model is best, look at the average cross validation score. Are the scores significantly different from one another?"
   ]
  },
  {
   "cell_type": "code",
   "execution_count": 10,
   "metadata": {
    "collapsed": false
   },
   "outputs": [
    {
     "data": {
      "text/plain": [
       "False    0.650073\n",
       "True     0.349927\n",
       "Name: Class, dtype: float64"
      ]
     },
     "execution_count": 10,
     "metadata": {},
     "output_type": "execute_result"
    }
   ],
   "source": [
    "#baseline => 65%\n",
    "y.value_counts() / len(y)"
   ]
  },
  {
   "cell_type": "code",
   "execution_count": 11,
   "metadata": {
    "collapsed": false
   },
   "outputs": [
    {
     "name": "stdout",
     "output_type": "stream",
     "text": [
      "SVC(C=1.0, cache_size=200, class_weight=None, coef0=0.0,\n",
      "  decision_function_shape=None, degree=3, gamma='auto', kernel='linear',\n",
      "  max_iter=-1, probability=False, random_state=None, shrinking=True,\n",
      "  tol=0.001, verbose=False)\n",
      "Average score: 0.965+/-0.0179\n"
     ]
    }
   ],
   "source": [
    "from sklearn.svm import SVC\n",
    "from sklearn.cross_validation import cross_val_score\n",
    "\n",
    "all_scores = []\n",
    "model = SVC(kernel='linear')\n",
    "\n",
    "def do_cv(model, X, y, cv):\n",
    "    scores = cross_val_score(model, X, y, cv=cv)\n",
    "    print model\n",
    "    sm = scores.mean()\n",
    "    ss = scores.std()\n",
    "    res = (sm, ss)\n",
    "    print \"Average score: {:0.3}+/-{:0.3}\".format(*res)\n",
    "    return res\n",
    "\n",
    "all_scores.append(do_cv(model, X, y, 3))"
   ]
  },
  {
   "cell_type": "code",
   "execution_count": 12,
   "metadata": {
    "collapsed": false
   },
   "outputs": [
    {
     "name": "stdout",
     "output_type": "stream",
     "text": [
      "SVC(C=1.0, cache_size=200, class_weight=None, coef0=0.0,\n",
      "  decision_function_shape=None, degree=3, gamma='auto', kernel='rbf',\n",
      "  max_iter=-1, probability=False, random_state=None, shrinking=True,\n",
      "  tol=0.001, verbose=False)\n",
      "Average score: 0.958+/-0.0251\n"
     ]
    }
   ],
   "source": [
    "model = SVC(kernel='rbf')\n",
    "all_scores.append(do_cv(model, X, y, 3))"
   ]
  },
  {
   "cell_type": "code",
   "execution_count": 13,
   "metadata": {
    "collapsed": false
   },
   "outputs": [
    {
     "name": "stdout",
     "output_type": "stream",
     "text": [
      "Pipeline(steps=[('standardscaler', StandardScaler(copy=True, with_mean=True, with_std=True)), ('svc', SVC(C=1.0, cache_size=200, class_weight=None, coef0=0.0,\n",
      "  decision_function_shape=None, degree=3, gamma='auto', kernel='linear',\n",
      "  max_iter=-1, probability=False, random_state=None, shrinking=True,\n",
      "  tol=0.001, verbose=False))])\n",
      "Average score: 0.966+/-0.0161\n"
     ]
    }
   ],
   "source": [
    "from sklearn.preprocessing import StandardScaler\n",
    "from sklearn.pipeline import make_pipeline\n",
    "\n",
    "model = make_pipeline(StandardScaler(), SVC(kernel='linear'))\n",
    "all_scores.append(do_cv(model, X, y, 3))"
   ]
  },
  {
   "cell_type": "code",
   "execution_count": 14,
   "metadata": {
    "collapsed": false
   },
   "outputs": [
    {
     "name": "stdout",
     "output_type": "stream",
     "text": [
      "Pipeline(steps=[('standardscaler', StandardScaler(copy=True, with_mean=True, with_std=True)), ('svc', SVC(C=1.0, cache_size=200, class_weight=None, coef0=0.0,\n",
      "  decision_function_shape=None, degree=3, gamma='auto', kernel='rbf',\n",
      "  max_iter=-1, probability=False, random_state=None, shrinking=True,\n",
      "  tol=0.001, verbose=False))])\n",
      "Average score: 0.968+/-0.018\n"
     ]
    }
   ],
   "source": [
    "model = make_pipeline(StandardScaler(), SVC(kernel='rbf'))\n",
    "all_scores.append(do_cv(model, X, y, 3))"
   ]
  },
  {
   "cell_type": "code",
   "execution_count": 15,
   "metadata": {
    "collapsed": false
   },
   "outputs": [
    {
     "data": {
      "text/plain": [
       "(0.9, 1)"
      ]
     },
     "execution_count": 15,
     "metadata": {},
     "output_type": "execute_result"
    },
    {
     "data": {
      "image/png": "[encoded data removed]",
      "text/plain": [
       "<matplotlib.figure.Figure at 0x7f9733af7710>"
      ]
     },
     "metadata": {},
     "output_type": "display_data"
    }
   ],
   "source": [
    "plt.bar(xrange(4),\n",
    "        [m[0] for m in all_scores],\n",
    "        yerr=[m[1] for m in all_scores],\n",
    "        alpha = 0.5)\n",
    "plt.ylim(0.9,1)"
   ]
  },
  {
   "cell_type": "code",
   "execution_count": 16,
   "metadata": {
    "collapsed": false
   },
   "outputs": [],
   "source": [
    "from sklearn.metrics import confusion_matrix, classification_report\n",
    "\n",
    "def print_cm_cr(y_true, y_pred, names):\n",
    "    \"\"\"prints the confusion matrix and the classification report\"\"\"\n",
    "    cm = confusion_matrix(y_true, y_pred)\n",
    "    cols = ['pred_' + c for c in names]\n",
    "    dfcm = pd.DataFrame(cm, columns = cols, index = names)\n",
    "    print dfcm\n",
    "    print\n",
    "    print classification_report(y_true, y_pred)"
   ]
  },
  {
   "cell_type": "code",
   "execution_count": 17,
   "metadata": {
    "collapsed": false,
    "scrolled": true
   },
   "outputs": [],
   "source": [
    "from sklearn.cross_validation import train_test_split"
   ]
  },
  {
   "cell_type": "code",
   "execution_count": 18,
   "metadata": {
    "collapsed": true
   },
   "outputs": [],
   "source": [
    "model = make_pipeline(StandardScaler(), SVC(kernel='rbf'))"
   ]
  },
  {
   "cell_type": "code",
   "execution_count": 19,
   "metadata": {
    "collapsed": false
   },
   "outputs": [
    {
     "name": "stdout",
     "output_type": "stream",
     "text": [
      "        pred_benign  pred_cancer\n",
      "benign          142            5\n",
      "cancer            3           76\n",
      "\n",
      "             precision    recall  f1-score   support\n",
      "\n",
      "      False       0.98      0.97      0.97       147\n",
      "       True       0.94      0.96      0.95        79\n",
      "\n",
      "avg / total       0.96      0.96      0.96       226\n",
      "\n"
     ]
    }
   ],
   "source": [
    "def do_cm_cr(model, X, y, names):\n",
    "    X_train, X_test, y_train, y_test = train_test_split(X, y, stratify=y, test_size=0.33, random_state=42)\n",
    "    model.fit(X_train, y_train)\n",
    "    y_pred = model.predict(X_test)\n",
    "    print_cm_cr(y_test, y_pred, names)\n",
    "\n",
    "do_cm_cr(model, X, y, ['benign', 'cancer'])"
   ]
  },
  {
   "cell_type": "markdown",
   "metadata": {},
   "source": [
    "**Check:** Are there more false positives or false negatives? Is this good or bad?\n",
    "\n",
    "> Answer:\n",
    "More false negatives is bad from the point of view of the patient and good from the point of view of the insurance company. Viceversa otherwise."
   ]
  },
  {
   "cell_type": "markdown",
   "metadata": {},
   "source": [
    "## 1.c: feature selection\n",
    "\n",
    "Use any of the strategies offered by `sklearn` to select the most important features.\n",
    "\n",
    "Repeat the cross validation with only those 5 features. Does the score change?"
   ]
  },
  {
   "cell_type": "code",
   "execution_count": 20,
   "metadata": {
    "collapsed": false
   },
   "outputs": [],
   "source": [
    "from sklearn.feature_selection import SelectKBest, chi2"
   ]
  },
  {
   "cell_type": "code",
   "execution_count": 21,
   "metadata": {
    "collapsed": false
   },
   "outputs": [],
   "source": [
    "def do_k_best(X, y, k=5):\n",
    "    selector = SelectKBest(chi2, k=k)\n",
    "    selected_data = selector.fit_transform(X, y)\n",
    "    selected_columns = X.columns[selector.get_support()]\n",
    "    X_new = pd.DataFrame(selected_data, columns=selected_columns)\n",
    "    return X_new\n",
    "\n"
   ]
  },
  {
   "cell_type": "code",
   "execution_count": 22,
   "metadata": {
    "collapsed": false
   },
   "outputs": [
    {
     "name": "stdout",
     "output_type": "stream",
     "text": [
      "        pred_benign  pred_cancer\n",
      "benign          142            5\n",
      "cancer            4           75\n",
      "\n",
      "             precision    recall  f1-score   support\n",
      "\n",
      "      False       0.97      0.97      0.97       147\n",
      "       True       0.94      0.95      0.94        79\n",
      "\n",
      "avg / total       0.96      0.96      0.96       226\n",
      "\n"
     ]
    }
   ],
   "source": [
    "X_new = do_k_best(X, y, 5)\n",
    "do_cm_cr(model, X_new, y, ['benign', 'cancer'])"
   ]
  },
  {
   "cell_type": "markdown",
   "metadata": {},
   "source": [
    "almost the same result, with only 5 features!"
   ]
  },
  {
   "cell_type": "markdown",
   "metadata": {},
   "source": [
    "## 1.d: Learning Curves\n",
    "\n",
    "Learning curves are useful to study the behavior of training and test errors as a function of the number of datapoints available.\n",
    "\n",
    "- Plot learning curves for train sizes between 10% and 100% (use StratifiedKFold with 5 folds as cross validation)\n",
    "- What can you say about the dataset? do you need more data or do you need a better model?"
   ]
  },
  {
   "cell_type": "code",
   "execution_count": 23,
   "metadata": {
    "collapsed": false
   },
   "outputs": [
    {
     "data": {
      "text/html": [
       "\n",
       "    <div class=\"bk-root\">\n",
       "        <a href=\"http://bokeh.pydata.org\" target=\"_blank\" class=\"bk-logo bk-logo-small bk-logo-notebook\"></a>\n",
       "        <span id=\"0aca919b-7e3e-480a-8487-8adb1eae3abc\">Loading BokehJS ...</span>\n",
       "    </div>"
      ]
     },
     "metadata": {},
     "output_type": "display_data"
    },
    {
     "data": {
      "application/javascript": [
       "\n",
       "(function(global) {\n",
       "  function now() {\n",
       "    return new Date();\n",
       "  }\n",
       "\n",
       "  if (typeof (window._bokeh_onload_callbacks) === \"undefined\") {\n",
       "    window._bokeh_onload_callbacks = [];\n",
       "  }\n",
       "\n",
       "  function run_callbacks() {\n",
       "    window._bokeh_onload_callbacks.forEach(function(callback) { callback() });\n",
       "    delete window._bokeh_onload_callbacks\n",
       "    console.info(\"Bokeh: all callbacks have finished\");\n",
       "  }\n",
       "\n",
       "  function load_libs(js_urls, callback) {\n",
       "    window._bokeh_onload_callbacks.push(callback);\n",
       "    if (window._bokeh_is_loading > 0) {\n",
       "      console.log(\"Bokeh: BokehJS is being loaded, scheduling callback at\", now());\n",
       "      return null;\n",
       "    }\n",
       "    if (js_urls == null || js_urls.length === 0) {\n",
       "      run_callbacks();\n",
       "      return null;\n",
       "    }\n",
       "    console.log(\"Bokeh: BokehJS not loaded, scheduling load and callback at\", now());\n",
       "    window._bokeh_is_loading = js_urls.length;\n",
       "    for (var i = 0; i < js_urls.length; i++) {\n",
       "      var url = js_urls[i];\n",
       "      var s = document.createElement('script');\n",
       "      s.src = url;\n",
       "      s.async = false;\n",
       "      s.onreadystatechange = s.onload = function() {\n",
       "        window._bokeh_is_loading--;\n",
       "        if (window._bokeh_is_loading === 0) {\n",
       "          console.log(\"Bokeh: all BokehJS libraries loaded\");\n",
       "          run_callbacks()\n",
       "        }\n",
       "      };\n",
       "      s.onerror = function() {\n",
       "        console.warn(\"failed to load library \" + url);\n",
       "      };\n",
       "      console.log(\"Bokeh: injecting script tag for BokehJS library: \", url);\n",
       "      document.getElementsByTagName(\"head\")[0].appendChild(s);\n",
       "    }\n",
       "  };\n",
       "\n",
       "  var js_urls = ['https://cdn.pydata.org/bokeh/release/bokeh-0.12.0.min.js', 'https://cdn.pydata.org/bokeh/release/bokeh-widgets-0.12.0.min.js', 'https://cdn.pydata.org/bokeh/release/bokeh-compiler-0.12.0.min.js'];\n",
       "\n",
       "  var inline_js = [\n",
       "    function(Bokeh) {\n",
       "      Bokeh.set_log_level(\"info\");\n",
       "    },\n",
       "    \n",
       "    function(Bokeh) {\n",
       "      Bokeh.$(\"#0aca919b-7e3e-480a-8487-8adb1eae3abc\").text(\"BokehJS successfully loaded\");\n",
       "    },\n",
       "    function(Bokeh) {\n",
       "      console.log(\"Bokeh: injecting CSS: https://cdn.pydata.org/bokeh/release/bokeh-0.12.0.min.css\");\n",
       "      Bokeh.embed.inject_css(\"https://cdn.pydata.org/bokeh/release/bokeh-0.12.0.min.css\");\n",
       "      console.log(\"Bokeh: injecting CSS: https://cdn.pydata.org/bokeh/release/bokeh-widgets-0.12.0.min.css\");\n",
       "      Bokeh.embed.inject_css(\"https://cdn.pydata.org/bokeh/release/bokeh-widgets-0.12.0.min.css\");\n",
       "    }\n",
       "  ];\n",
       "\n",
       "  function run_inline_js() {\n",
       "    for (var i = 0; i < inline_js.length; i++) {\n",
       "      inline_js[i](window.Bokeh);\n",
       "    }\n",
       "  }\n",
       "\n",
       "  if (window._bokeh_is_loading === 0) {\n",
       "    console.log(\"Bokeh: BokehJS loaded, going straight to plotting\");\n",
       "    run_inline_js();\n",
       "  } else {\n",
       "    load_libs(js_urls, function() {\n",
       "      console.log(\"Bokeh: BokehJS plotting callback run at\", now());\n",
       "      run_inline_js();\n",
       "    });\n",
       "  }\n",
       "}(this));"
      ]
     },
     "metadata": {},
     "output_type": "display_data"
    },
    {
     "data": {
      "text/html": [
       "\n",
       "\n",
       "    <div class=\"bk-root\">\n",
       "        <div class=\"plotdiv\" id=\"a89fa028-159c-4905-ad8a-ccbe52820c16\"></div>\n",
       "    </div>\n",
       "<script type=\"text/javascript\">\n",
       "  \n",
       "  (function(global) {\n",
       "    function now() {\n",
       "      return new Date();\n",
       "    }\n",
       "  \n",
       "    if (typeof (window._bokeh_onload_callbacks) === \"undefined\") {\n",
       "      window._bokeh_onload_callbacks = [];\n",
       "    }\n",
       "  \n",
       "    function run_callbacks() {\n",
       "      window._bokeh_onload_callbacks.forEach(function(callback) { callback() });\n",
       "      delete window._bokeh_onload_callbacks\n",
       "      console.info(\"Bokeh: all callbacks have finished\");\n",
       "    }\n",
       "  \n",
       "    function load_libs(js_urls, callback) {\n",
       "      window._bokeh_onload_callbacks.push(callback);\n",
       "      if (window._bokeh_is_loading > 0) {\n",
       "        console.log(\"Bokeh: BokehJS is being loaded, scheduling callback at\", now());\n",
       "        return null;\n",
       "      }\n",
       "      if (js_urls == null || js_urls.length === 0) {\n",
       "        run_callbacks();\n",
       "        return null;\n",
       "      }\n",
       "      console.log(\"Bokeh: BokehJS not loaded, scheduling load and callback at\", now());\n",
       "      window._bokeh_is_loading = js_urls.length;\n",
       "      for (var i = 0; i < js_urls.length; i++) {\n",
       "        var url = js_urls[i];\n",
       "        var s = document.createElement('script');\n",
       "        s.src = url;\n",
       "        s.async = false;\n",
       "        s.onreadystatechange = s.onload = function() {\n",
       "          window._bokeh_is_loading--;\n",
       "          if (window._bokeh_is_loading === 0) {\n",
       "            console.log(\"Bokeh: all BokehJS libraries loaded\");\n",
       "            run_callbacks()\n",
       "          }\n",
       "        };\n",
       "        s.onerror = function() {\n",
       "          console.warn(\"failed to load library \" + url);\n",
       "        };\n",
       "        console.log(\"Bokeh: injecting script tag for BokehJS library: \", url);\n",
       "        document.getElementsByTagName(\"head\")[0].appendChild(s);\n",
       "      }\n",
       "    };var element = document.getElementById(\"a89fa028-159c-4905-ad8a-ccbe52820c16\");\n",
       "    if (element == null) {\n",
       "      console.log(\"Bokeh: ERROR: autoload.js configured with elementid 'a89fa028-159c-4905-ad8a-ccbe52820c16' but no matching script tag was found. \")\n",
       "      return false;\n",
       "    }\n",
       "  \n",
       "    var js_urls = [];\n",
       "  \n",
       "    var inline_js = [\n",
       "      function(Bokeh) {\n",
       "        Bokeh.$(function() {\n",
       "            var docs_json = {\"7210a01a-98dd-4c0c-bb79-b3b3c5f1daa4\":{\"roots\":{\"references\":[{\"attributes\":{\"callback\":null,\"column_names\":[\"y\",\"x\"],\"data\":{\"x\":[54,109,163,218,273,327,382,436,491,546],\"y\":[0.9703703703703704,0.98348623853211,0.9803680981595093,0.9706422018348624,0.9663003663003662,0.9669724770642201,0.968062827225131,0.9701834862385322,0.9739307535641547,0.9758241758241757]}},\"id\":\"efa3dcee-f3c7-45dd-aafa-2f3641af9df2\",\"type\":\"ColumnDataSource\"},{\"attributes\":{},\"id\":\"3246fa2a-508e-4735-9815-028cdddc243b\",\"type\":\"BasicTicker\"},{\"attributes\":{\"callback\":null,\"start\":0.9},\"id\":\"5c0d0198-16df-433f-b486-b5d24c35cfc4\",\"type\":\"Range1d\"},{\"attributes\":{\"data_source\":{\"id\":\"efa3dcee-f3c7-45dd-aafa-2f3641af9df2\",\"type\":\"ColumnDataSource\"},\"glyph\":{\"id\":\"9f29d05c-343f-4fc6-8a0a-e66705cebc83\",\"type\":\"Line\"},\"hover_glyph\":null,\"nonselection_glyph\":{\"id\":\"c37db139-a9f3-4d5f-9bd5-1e7fa68f1efb\",\"type\":\"Line\"},\"selection_glyph\":null},\"id\":\"00563a2b-d11b-4a93-a6db-db5b73c98b80\",\"type\":\"GlyphRenderer\"},{\"attributes\":{\"data_source\":{\"id\":\"b37db85c-f3ed-46c7-bb27-6295b5c4379a\",\"type\":\"ColumnDataSource\"},\"glyph\":{\"id\":\"6d637ca4-c49c-4341-b86d-7d3daa0e031c\",\"type\":\"Line\"},\"hover_glyph\":null,\"nonselection_glyph\":{\"id\":\"73d7630c-403d-48a1-a8b7-a688bfdd1f82\",\"type\":\"Line\"},\"selection_glyph\":null},\"id\":\"f2043fa1-e766-41d9-893b-8e30dc4c8372\",\"type\":\"GlyphRenderer\"},{\"attributes\":{},\"id\":\"18121ca5-e2bd-4de3-8221-6fa913e14309\",\"type\":\"BasicTicker\"},{\"attributes\":{\"plot\":{\"id\":\"9521ce62-e4d9-4e3a-8a10-64014a638474\",\"subtype\":\"Figure\",\"type\":\"Plot\"}},\"id\":\"5715f63c-c637-4451-8e35-5b761e4aeec7\",\"type\":\"ResetTool\"},{\"attributes\":{\"line_color\":{\"value\":\"blue\"},\"x\":{\"field\":\"x\"},\"y\":{\"field\":\"y\"}},\"id\":\"6d637ca4-c49c-4341-b86d-7d3daa0e031c\",\"type\":\"Line\"},{\"attributes\":{\"active_drag\":\"auto\",\"active_scroll\":\"auto\",\"active_tap\":\"auto\",\"tools\":[{\"id\":\"12aa1de7-252a-4184-913a-83c1e3c49255\",\"type\":\"PanTool\"},{\"id\":\"e37fc6b9-7b5b-4b8c-8209-376c01732821\",\"type\":\"WheelZoomTool\"},{\"id\":\"1b22f322-fbdc-457c-8140-3e7143b21711\",\"type\":\"BoxZoomTool\"},{\"id\":\"14f7a179-0466-4a26-8672-81552fc2450a\",\"type\":\"SaveTool\"},{\"id\":\"5715f63c-c637-4451-8e35-5b761e4aeec7\",\"type\":\"ResetTool\"},{\"id\":\"c222b151-ae02-44d8-80d6-30d31d103e41\",\"type\":\"HelpTool\"}]},\"id\":\"598ab050-0516-47a3-92eb-1ab0df010c8a\",\"type\":\"Toolbar\"},{\"attributes\":{\"formatter\":{\"id\":\"43884c13-a5af-402a-920b-aa8f2cf98f29\",\"type\":\"BasicTickFormatter\"},\"plot\":{\"id\":\"9521ce62-e4d9-4e3a-8a10-64014a638474\",\"subtype\":\"Figure\",\"type\":\"Plot\"},\"ticker\":{\"id\":\"3246fa2a-508e-4735-9815-028cdddc243b\",\"type\":\"BasicTicker\"}},\"id\":\"1a5934b6-cb3a-4265-831a-4aaf49c698aa\",\"type\":\"LinearAxis\"},{\"attributes\":{\"below\":[{\"id\":\"1a5934b6-cb3a-4265-831a-4aaf49c698aa\",\"type\":\"LinearAxis\"}],\"left\":[{\"id\":\"b9a56772-63f6-4b5a-94b0-f6b7b6c210d6\",\"type\":\"LinearAxis\"}],\"renderers\":[{\"id\":\"1a5934b6-cb3a-4265-831a-4aaf49c698aa\",\"type\":\"LinearAxis\"},{\"id\":\"693551b1-203f-40b2-ae85-6fa02525aa20\",\"type\":\"Grid\"},{\"id\":\"b9a56772-63f6-4b5a-94b0-f6b7b6c210d6\",\"type\":\"LinearAxis\"},{\"id\":\"2cf2e425-ab24-4b1f-af0e-10cd084a38c0\",\"type\":\"Grid\"},{\"id\":\"e47c7ddf-6b8d-4b37-83b1-f72238760f7d\",\"type\":\"BoxAnnotation\"},{\"id\":\"9d0b4069-5a03-4f6b-8e20-ec81d4153660\",\"type\":\"Legend\"},{\"id\":\"00563a2b-d11b-4a93-a6db-db5b73c98b80\",\"type\":\"GlyphRenderer\"},{\"id\":\"f2043fa1-e766-41d9-893b-8e30dc4c8372\",\"type\":\"GlyphRenderer\"}],\"title\":{\"id\":\"d81e2eee-c24a-4c3e-acc8-1c4d02b19beb\",\"type\":\"Title\"},\"tool_events\":{\"id\":\"5b438a89-6bf1-4dfb-9a9d-ee86d14944c3\",\"type\":\"ToolEvents\"},\"toolbar\":{\"id\":\"598ab050-0516-47a3-92eb-1ab0df010c8a\",\"type\":\"Toolbar\"},\"x_range\":{\"id\":\"aa5ba910-5318-4db9-9892-fd5da8be7294\",\"type\":\"DataRange1d\"},\"y_range\":{\"id\":\"5c0d0198-16df-433f-b486-b5d24c35cfc4\",\"type\":\"Range1d\"}},\"id\":\"9521ce62-e4d9-4e3a-8a10-64014a638474\",\"subtype\":\"Figure\",\"type\":\"Plot\"},{\"attributes\":{\"overlay\":{\"id\":\"e47c7ddf-6b8d-4b37-83b1-f72238760f7d\",\"type\":\"BoxAnnotation\"},\"plot\":{\"id\":\"9521ce62-e4d9-4e3a-8a10-64014a638474\",\"subtype\":\"Figure\",\"type\":\"Plot\"}},\"id\":\"1b22f322-fbdc-457c-8140-3e7143b21711\",\"type\":\"BoxZoomTool\"},{\"attributes\":{\"line_alpha\":{\"value\":0.1},\"line_color\":{\"value\":\"#1f77b4\"},\"x\":{\"field\":\"x\"},\"y\":{\"field\":\"y\"}},\"id\":\"73d7630c-403d-48a1-a8b7-a688bfdd1f82\",\"type\":\"Line\"},{\"attributes\":{\"callback\":null,\"column_names\":[\"y\",\"x\"],\"data\":{\"x\":[54,109,163,218,273,327,382,436,491,546],\"y\":[0.9663152203298189,0.9677534468775345,0.9677750743444176,0.9662935928629359,0.969213300892133,0.9677534468775345,0.9662935928629359,0.9662935928629359,0.9662935928629359,0.9662935928629359]}},\"id\":\"b37db85c-f3ed-46c7-bb27-6295b5c4379a\",\"type\":\"ColumnDataSource\"},{\"attributes\":{\"legends\":[[\"Train Scores\",[{\"id\":\"00563a2b-d11b-4a93-a6db-db5b73c98b80\",\"type\":\"GlyphRenderer\"}]],[\"Test Scores\",[{\"id\":\"f2043fa1-e766-41d9-893b-8e30dc4c8372\",\"type\":\"GlyphRenderer\"}]]],\"plot\":{\"id\":\"9521ce62-e4d9-4e3a-8a10-64014a638474\",\"subtype\":\"Figure\",\"type\":\"Plot\"}},\"id\":\"9d0b4069-5a03-4f6b-8e20-ec81d4153660\",\"type\":\"Legend\"},{\"attributes\":{\"plot\":null,\"text\":\"Learning Curve\"},\"id\":\"d81e2eee-c24a-4c3e-acc8-1c4d02b19beb\",\"type\":\"Title\"},{\"attributes\":{\"formatter\":{\"id\":\"841f32de-12e7-45c3-b423-74a8040dbabe\",\"type\":\"BasicTickFormatter\"},\"plot\":{\"id\":\"9521ce62-e4d9-4e3a-8a10-64014a638474\",\"subtype\":\"Figure\",\"type\":\"Plot\"},\"ticker\":{\"id\":\"18121ca5-e2bd-4de3-8221-6fa913e14309\",\"type\":\"BasicTicker\"}},\"id\":\"b9a56772-63f6-4b5a-94b0-f6b7b6c210d6\",\"type\":\"LinearAxis\"},{\"attributes\":{},\"id\":\"5b438a89-6bf1-4dfb-9a9d-ee86d14944c3\",\"type\":\"ToolEvents\"},{\"attributes\":{\"plot\":{\"id\":\"9521ce62-e4d9-4e3a-8a10-64014a638474\",\"subtype\":\"Figure\",\"type\":\"Plot\"}},\"id\":\"e37fc6b9-7b5b-4b8c-8209-376c01732821\",\"type\":\"WheelZoomTool\"},{\"attributes\":{},\"id\":\"43884c13-a5af-402a-920b-aa8f2cf98f29\",\"type\":\"BasicTickFormatter\"},{\"attributes\":{\"line_color\":{\"value\":\"red\"},\"x\":{\"field\":\"x\"},\"y\":{\"field\":\"y\"}},\"id\":\"9f29d05c-343f-4fc6-8a0a-e66705cebc83\",\"type\":\"Line\"},{\"attributes\":{\"plot\":{\"id\":\"9521ce62-e4d9-4e3a-8a10-64014a638474\",\"subtype\":\"Figure\",\"type\":\"Plot\"},\"ticker\":{\"id\":\"3246fa2a-508e-4735-9815-028cdddc243b\",\"type\":\"BasicTicker\"}},\"id\":\"693551b1-203f-40b2-ae85-6fa02525aa20\",\"type\":\"Grid\"},{\"attributes\":{\"bottom_units\":\"screen\",\"fill_alpha\":{\"value\":0.5},\"fill_color\":{\"value\":\"lightgrey\"},\"left_units\":\"screen\",\"level\":\"overlay\",\"line_alpha\":{\"value\":1.0},\"line_color\":{\"value\":\"black\"},\"line_dash\":[4,4],\"line_width\":{\"value\":2},\"plot\":null,\"render_mode\":\"css\",\"right_units\":\"screen\",\"top_units\":\"screen\"},\"id\":\"e47c7ddf-6b8d-4b37-83b1-f72238760f7d\",\"type\":\"BoxAnnotation\"},{\"attributes\":{\"plot\":{\"id\":\"9521ce62-e4d9-4e3a-8a10-64014a638474\",\"subtype\":\"Figure\",\"type\":\"Plot\"}},\"id\":\"14f7a179-0466-4a26-8672-81552fc2450a\",\"type\":\"SaveTool\"},{\"attributes\":{},\"id\":\"841f32de-12e7-45c3-b423-74a8040dbabe\",\"type\":\"BasicTickFormatter\"},{\"attributes\":{\"dimension\":1,\"plot\":{\"id\":\"9521ce62-e4d9-4e3a-8a10-64014a638474\",\"subtype\":\"Figure\",\"type\":\"Plot\"},\"ticker\":{\"id\":\"18121ca5-e2bd-4de3-8221-6fa913e14309\",\"type\":\"BasicTicker\"}},\"id\":\"2cf2e425-ab24-4b1f-af0e-10cd084a38c0\",\"type\":\"Grid\"},{\"attributes\":{\"plot\":{\"id\":\"9521ce62-e4d9-4e3a-8a10-64014a638474\",\"subtype\":\"Figure\",\"type\":\"Plot\"}},\"id\":\"12aa1de7-252a-4184-913a-83c1e3c49255\",\"type\":\"PanTool\"},{\"attributes\":{\"plot\":{\"id\":\"9521ce62-e4d9-4e3a-8a10-64014a638474\",\"subtype\":\"Figure\",\"type\":\"Plot\"}},\"id\":\"c222b151-ae02-44d8-80d6-30d31d103e41\",\"type\":\"HelpTool\"},{\"attributes\":{\"callback\":null},\"id\":\"aa5ba910-5318-4db9-9892-fd5da8be7294\",\"type\":\"DataRange1d\"},{\"attributes\":{\"line_alpha\":{\"value\":0.1},\"line_color\":{\"value\":\"#1f77b4\"},\"x\":{\"field\":\"x\"},\"y\":{\"field\":\"y\"}},\"id\":\"c37db139-a9f3-4d5f-9bd5-1e7fa68f1efb\",\"type\":\"Line\"}],\"root_ids\":[\"9521ce62-e4d9-4e3a-8a10-64014a638474\"]},\"title\":\"Bokeh Application\",\"version\":\"0.12.0\"}};\n",
       "            var render_items = [{\"docid\":\"7210a01a-98dd-4c0c-bb79-b3b3c5f1daa4\",\"elementid\":\"a89fa028-159c-4905-ad8a-ccbe52820c16\",\"modelid\":\"9521ce62-e4d9-4e3a-8a10-64014a638474\",\"notebook_comms_target\":\"53b33794-7350-4442-9891-7c0eba1a8313\"}];\n",
       "            \n",
       "            Bokeh.embed.embed_items(docs_json, render_items);\n",
       "        });\n",
       "      },\n",
       "      function(Bokeh) {\n",
       "      }\n",
       "    ];\n",
       "  \n",
       "    function run_inline_js() {\n",
       "      for (var i = 0; i < inline_js.length; i++) {\n",
       "        inline_js[i](window.Bokeh);\n",
       "      }\n",
       "    }\n",
       "  \n",
       "    if (window._bokeh_is_loading === 0) {\n",
       "      console.log(\"Bokeh: BokehJS loaded, going straight to plotting\");\n",
       "      run_inline_js();\n",
       "    } else {\n",
       "      load_libs(js_urls, function() {\n",
       "        console.log(\"Bokeh: BokehJS plotting callback run at\", now());\n",
       "        run_inline_js();\n",
       "      });\n",
       "    }\n",
       "  }(this));\n",
       "</script>"
      ]
     },
     "metadata": {},
     "output_type": "display_data"
    }
   ],
   "source": [
    "from sklearn.learning_curve import learning_curve\n",
    "from sklearn.cross_validation import StratifiedKFold\n",
    "from bokeh.plotting import figure, output_notebook, show\n",
    "output_notebook()\n",
    "\n",
    "def do_learning_curve(model, X, y, sizes=np.linspace(0.1, 1.0, 10), y_range=(0.9,1)):\n",
    "    sizes, tr_scores, te_scores = learning_curve(model,\n",
    "                                                 X,\n",
    "                                                 y,\n",
    "                                                 train_sizes=sizes,\n",
    "                                                 cv = StratifiedKFold(y, n_folds=5, shuffle=True, random_state=0),\n",
    "                                                 n_jobs=-1)\n",
    "    # Create our base figure\n",
    "    p = figure(title='Learning Curve',y_range=y_range)\n",
    "\n",
    "    # Create our Training score line\n",
    "    p.line(x=sizes,\n",
    "           y=tr_scores.mean(axis=1),\n",
    "           color='red',\n",
    "           legend=\"Train Scores\")\n",
    "\n",
    "    #Create our Testing score line\n",
    "    p.line(x=sizes,\n",
    "           y=te_scores.mean(axis=1),\n",
    "           color='blue',\n",
    "           legend= \"Test Scores\")\n",
    "\n",
    "    #Move our legend around\n",
    "    p.legend.location = \"top_right\"\n",
    "\n",
    "    # Render the plot!!\n",
    "    show(p)\n",
    "    \n",
    "do_learning_curve(model, X, y)"
   ]
  },
  {
   "cell_type": "markdown",
   "metadata": {},
   "source": [
    "##  1.e: Grid search\n",
    "\n",
    "Use the grid_search function to explore different kernels and values for the `C` parameter.\n",
    "\n",
    "- Can you improve on your best previous score?\n",
    "- Print the best parameters and the best score"
   ]
  },
  {
   "cell_type": "code",
   "execution_count": 24,
   "metadata": {
    "collapsed": false
   },
   "outputs": [],
   "source": [
    "from sklearn import grid_search\n",
    "\n",
    "parameters = {'svc__kernel':('linear', 'rbf'), 'svc__C':[0.01, 0.1, 1, 10, 100]}\n",
    "pipe = make_pipeline(StandardScaler(), SVC())\n",
    "\n",
    "def do_grid_search(input_model, X, y, parameters):\n",
    "    model = grid_search.GridSearchCV(input_model, parameters, cv=StratifiedKFold(y, 5), n_jobs=-1)\n",
    "    model.fit(X, y)\n",
    "    print \"Best Params:\", model.best_params_\n",
    "    print \"Best Score:\", model.best_score_\n",
    "    return model.best_estimator_"
   ]
  },
  {
   "cell_type": "code",
   "execution_count": 25,
   "metadata": {
    "collapsed": false
   },
   "outputs": [
    {
     "name": "stdout",
     "output_type": "stream",
     "text": [
      "Best Params: {'svc__kernel': 'linear', 'svc__C': 0.01}\n",
      "Best Score: 0.96925329429\n"
     ]
    }
   ],
   "source": [
    "best_model = do_grid_search(model, X, y, parameters)"
   ]
  },
  {
   "cell_type": "code",
   "execution_count": 26,
   "metadata": {
    "collapsed": false
   },
   "outputs": [
    {
     "data": {
      "text/plain": [
       "Pipeline(steps=[('standardscaler', StandardScaler(copy=True, with_mean=True, with_std=True)), ('svc', SVC(C=0.01, cache_size=200, class_weight=None, coef0=0.0,\n",
       "  decision_function_shape=None, degree=3, gamma='auto', kernel='linear',\n",
       "  max_iter=-1, probability=False, random_state=None, shrinking=True,\n",
       "  tol=0.001, verbose=False))])"
      ]
     },
     "execution_count": 26,
     "metadata": {},
     "output_type": "execute_result"
    }
   ],
   "source": [
    "best_model"
   ]
  },
  {
   "cell_type": "code",
   "execution_count": 27,
   "metadata": {
    "collapsed": false
   },
   "outputs": [
    {
     "data": {
      "text/plain": [
       "Pipeline(steps=[('standardscaler', StandardScaler(copy=True, with_mean=True, with_std=True)), ('svc', SVC(C=1.0, cache_size=200, class_weight=None, coef0=0.0,\n",
       "  decision_function_shape=None, degree=3, gamma='auto', kernel='rbf',\n",
       "  max_iter=-1, probability=False, random_state=None, shrinking=True,\n",
       "  tol=0.001, verbose=False))])"
      ]
     },
     "execution_count": 27,
     "metadata": {},
     "output_type": "execute_result"
    }
   ],
   "source": [
    "model"
   ]
  },
  {
   "cell_type": "markdown",
   "metadata": {},
   "source": [
    "# Exercise 2\n",
    "Now that you've completed steps 1.a through 1.e it's time to tackle some harder datasets. But before we do that, let's encapsulate a few things into functions so that it's easier to repeat the analysis.\n",
    "\n",
    "## 2.a: Cross Validation\n",
    "Implement a function `do_cv(model, X, y, cv)` that does the following:\n",
    "- Calculates the cross validation scores\n",
    "- Prints the model\n",
    "- Prints and returns the mean and the standard deviation of the cross validation scores\n",
    "\n",
    "> Answer: see above\n",
    "\n",
    "## 2.b: Confusion Matrix and Classification report\n",
    "Implement a function `do_cm_cr(model, X, y, names)` that automates the following:\n",
    "- Split the data using `train_test_split(X, y, stratify=y, test_size=0.33, random_state=42)`\n",
    "- Fit the model\n",
    "- Prints confusion matrix and classification report in a nice format\n",
    "\n",
    "**Hint:** names is the list of target classes\n",
    "\n",
    "> Answer: see above\n",
    "\n",
    "## 2.c: Learning Curves\n",
    "Implement a function `do_learning_curve(model, X, y, sizes)` that automates drawing the learning curves:\n",
    "- Allow for sizes input\n",
    "- Use 5-fold StratifiedKFold cross validation\n",
    "\n",
    "> Answer: see above\n",
    "\n",
    "## 2.d Grid Search\n",
    "Implement a function `do_grid_search(model, parameters)` that automates the grid search by doing:\n",
    "- Calculate grid search\n",
    "- Print best parameters\n",
    "- Print best score\n",
    "- Return best estimator\n",
    "\n",
    "\n",
    "> Answer: see above"
   ]
  },
  {
   "cell_type": "markdown",
   "metadata": {},
   "source": [
    "# Exercise 3\n",
    "Using the functions above, analyze the Spambase dataset.\n",
    "\n",
    "Notice that now you have many more features. Focus your attention on step C => feature selection\n",
    "\n",
    "- Load the data and get to X, y\n",
    "- Select the 15 best features\n",
    "- Perform grid search to determine best model\n",
    "- Display learning curves"
   ]
  },
  {
   "cell_type": "code",
   "execution_count": 28,
   "metadata": {
    "collapsed": false
   },
   "outputs": [
    {
     "name": "stdout",
     "output_type": "stream",
     "text": [
      "<class 'pandas.core.frame.DataFrame'>\n",
      "RangeIndex: 4601 entries, 0 to 4600\n",
      "Data columns (total 58 columns):\n",
      "word_freq_make                4601 non-null float64\n",
      "word_freq_address             4601 non-null float64\n",
      "word_freq_all                 4601 non-null float64\n",
      "word_freq_3d                  4601 non-null float64\n",
      "word_freq_our                 4601 non-null float64\n",
      "word_freq_over                4601 non-null float64\n",
      "word_freq_remove              4601 non-null float64\n",
      "word_freq_internet            4601 non-null float64\n",
      "word_freq_order               4601 non-null float64\n",
      "word_freq_mail                4601 non-null float64\n",
      "word_freq_receive             4601 non-null float64\n",
      "word_freq_will                4601 non-null float64\n",
      "word_freq_people              4601 non-null float64\n",
      "word_freq_report              4601 non-null float64\n",
      "word_freq_addresses           4601 non-null float64\n",
      "word_freq_free                4601 non-null float64\n",
      "word_freq_business            4601 non-null float64\n",
      "word_freq_email               4601 non-null float64\n",
      "word_freq_you                 4601 non-null float64\n",
      "word_freq_credit              4601 non-null float64\n",
      "word_freq_your                4601 non-null float64\n",
      "word_freq_font                4601 non-null float64\n",
      "word_freq_000                 4601 non-null float64\n",
      "word_freq_money               4601 non-null float64\n",
      "word_freq_hp                  4601 non-null float64\n",
      "word_freq_hpl                 4601 non-null float64\n",
      "word_freq_george              4601 non-null float64\n",
      "word_freq_650                 4601 non-null float64\n",
      "word_freq_lab                 4601 non-null float64\n",
      "word_freq_labs                4601 non-null float64\n",
      "word_freq_telnet              4601 non-null float64\n",
      "word_freq_857                 4601 non-null float64\n",
      "word_freq_data                4601 non-null float64\n",
      "word_freq_415                 4601 non-null float64\n",
      "word_freq_85                  4601 non-null float64\n",
      "word_freq_technology          4601 non-null float64\n",
      "word_freq_1999                4601 non-null float64\n",
      "word_freq_parts               4601 non-null float64\n",
      "word_freq_pm                  4601 non-null float64\n",
      "word_freq_direct              4601 non-null float64\n",
      "word_freq_cs                  4601 non-null float64\n",
      "word_freq_meeting             4601 non-null float64\n",
      "word_freq_original            4601 non-null float64\n",
      "word_freq_project             4601 non-null float64\n",
      "word_freq_re                  4601 non-null float64\n",
      "word_freq_edu                 4601 non-null float64\n",
      "word_freq_table               4601 non-null float64\n",
      "word_freq_conference          4601 non-null float64\n",
      "char_freq_;                   4601 non-null float64\n",
      "char_freq_(                   4601 non-null float64\n",
      "char_freq_[                   4601 non-null float64\n",
      "char_freq_!                   4601 non-null float64\n",
      "char_freq_$                   4601 non-null float64\n",
      "char_freq_#                   4601 non-null float64\n",
      "capital_run_length_average    4601 non-null float64\n",
      "capital_run_length_longest    4601 non-null int64\n",
      "capital_run_length_total      4601 non-null int64\n",
      "class                         4601 non-null int64\n",
      "dtypes: float64(55), int64(3)\n",
      "memory usage: 2.0 MB\n"
     ]
    }
   ],
   "source": [
    "df = pd.read_csv('../../assets/datasets/spambase.csv')\n",
    "df.info()"
   ]
  },
  {
   "cell_type": "code",
   "execution_count": 29,
   "metadata": {
    "collapsed": false
   },
   "outputs": [
    {
     "name": "stdout",
     "output_type": "stream",
     "text": [
      "      pred_ham  pred_spam\n",
      "ham        879         41\n",
      "spam        74        525\n",
      "\n",
      "             precision    recall  f1-score   support\n",
      "\n",
      "          0       0.92      0.96      0.94       920\n",
      "          1       0.93      0.88      0.90       599\n",
      "\n",
      "avg / total       0.92      0.92      0.92      1519\n",
      "\n"
     ]
    }
   ],
   "source": [
    "X = df.drop('class', axis=1)\n",
    "y = df['class']\n",
    "do_cm_cr(model, X, y, ['ham', 'spam'])"
   ]
  },
  {
   "cell_type": "code",
   "execution_count": 30,
   "metadata": {
    "collapsed": false
   },
   "outputs": [
    {
     "name": "stdout",
     "output_type": "stream",
     "text": [
      "      pred_ham  pred_spam\n",
      "ham        869         51\n",
      "spam        94        505\n",
      "\n",
      "             precision    recall  f1-score   support\n",
      "\n",
      "          0       0.90      0.94      0.92       920\n",
      "          1       0.91      0.84      0.87       599\n",
      "\n",
      "avg / total       0.90      0.90      0.90      1519\n",
      "\n"
     ]
    }
   ],
   "source": [
    "# select the 15 best features\n",
    "X_new = do_k_best(X, y, 15)\n",
    "do_cm_cr(model, X_new, y, ['ham', 'spam'])"
   ]
  },
  {
   "cell_type": "code",
   "execution_count": 31,
   "metadata": {
    "collapsed": false
   },
   "outputs": [
    {
     "name": "stdout",
     "output_type": "stream",
     "text": [
      "Best Params: {'svc__kernel': 'rbf', 'svc__C': 10}\n",
      "Best Score: 0.901543142795\n"
     ]
    },
    {
     "data": {
      "text/plain": [
       "Pipeline(steps=[('standardscaler', StandardScaler(copy=True, with_mean=True, with_std=True)), ('svc', SVC(C=10, cache_size=200, class_weight=None, coef0=0.0,\n",
       "  decision_function_shape=None, degree=3, gamma='auto', kernel='rbf',\n",
       "  max_iter=-1, probability=False, random_state=None, shrinking=True,\n",
       "  tol=0.001, verbose=False))])"
      ]
     },
     "execution_count": 31,
     "metadata": {},
     "output_type": "execute_result"
    }
   ],
   "source": [
    "# perform grid search to determine best model\n",
    "parameters = {'svc__kernel':('linear', 'rbf'), 'svc__C':[0.01, 0.1, 1.0, 10, 100]}\n",
    "pipe = make_pipeline(StandardScaler(), SVC())\n",
    "best_model = do_grid_search(pipe, X_new, y, parameters)\n",
    "best_model"
   ]
  },
  {
   "cell_type": "code",
   "execution_count": 32,
   "metadata": {
    "collapsed": false
   },
   "outputs": [
    {
     "data": {
      "text/html": [
       "\n",
       "\n",
       "    <div class=\"bk-root\">\n",
       "        <div class=\"plotdiv\" id=\"39f46ba5-5728-4a4d-81c9-553bc90b267f\"></div>\n",
       "    </div>\n",
       "<script type=\"text/javascript\">\n",
       "  \n",
       "  (function(global) {\n",
       "    function now() {\n",
       "      return new Date();\n",
       "    }\n",
       "  \n",
       "    if (typeof (window._bokeh_onload_callbacks) === \"undefined\") {\n",
       "      window._bokeh_onload_callbacks = [];\n",
       "    }\n",
       "  \n",
       "    function run_callbacks() {\n",
       "      window._bokeh_onload_callbacks.forEach(function(callback) { callback() });\n",
       "      delete window._bokeh_onload_callbacks\n",
       "      console.info(\"Bokeh: all callbacks have finished\");\n",
       "    }\n",
       "  \n",
       "    function load_libs(js_urls, callback) {\n",
       "      window._bokeh_onload_callbacks.push(callback);\n",
       "      if (window._bokeh_is_loading > 0) {\n",
       "        console.log(\"Bokeh: BokehJS is being loaded, scheduling callback at\", now());\n",
       "        return null;\n",
       "      }\n",
       "      if (js_urls == null || js_urls.length === 0) {\n",
       "        run_callbacks();\n",
       "        return null;\n",
       "      }\n",
       "      console.log(\"Bokeh: BokehJS not loaded, scheduling load and callback at\", now());\n",
       "      window._bokeh_is_loading = js_urls.length;\n",
       "      for (var i = 0; i < js_urls.length; i++) {\n",
       "        var url = js_urls[i];\n",
       "        var s = document.createElement('script');\n",
       "        s.src = url;\n",
       "        s.async = false;\n",
       "        s.onreadystatechange = s.onload = function() {\n",
       "          window._bokeh_is_loading--;\n",
       "          if (window._bokeh_is_loading === 0) {\n",
       "            console.log(\"Bokeh: all BokehJS libraries loaded\");\n",
       "            run_callbacks()\n",
       "          }\n",
       "        };\n",
       "        s.onerror = function() {\n",
       "          console.warn(\"failed to load library \" + url);\n",
       "        };\n",
       "        console.log(\"Bokeh: injecting script tag for BokehJS library: \", url);\n",
       "        document.getElementsByTagName(\"head\")[0].appendChild(s);\n",
       "      }\n",
       "    };var element = document.getElementById(\"39f46ba5-5728-4a4d-81c9-553bc90b267f\");\n",
       "    if (element == null) {\n",
       "      console.log(\"Bokeh: ERROR: autoload.js configured with elementid '39f46ba5-5728-4a4d-81c9-553bc90b267f' but no matching script tag was found. \")\n",
       "      return false;\n",
       "    }\n",
       "  \n",
       "    var js_urls = [];\n",
       "  \n",
       "    var inline_js = [\n",
       "      function(Bokeh) {\n",
       "        Bokeh.$(function() {\n",
       "            var docs_json = {\"64cc61ca-da83-4fa8-975d-a7c9a538f150\":{\"roots\":{\"references\":[{\"attributes\":{\"plot\":{\"id\":\"95ff7e03-be0e-4102-888b-7ce60a64eb89\",\"subtype\":\"Figure\",\"type\":\"Plot\"}},\"id\":\"90df3217-dc0c-446d-852f-dc383289edcd\",\"type\":\"HelpTool\"},{\"attributes\":{},\"id\":\"1d9d914a-1a02-4c39-aa39-3355329c62c2\",\"type\":\"BasicTicker\"},{\"attributes\":{\"callback\":null,\"column_names\":[\"y\",\"x\"],\"data\":{\"x\":[1472,2024,2576,3128,3680],\"y\":[0.9929347826086957,0.9294466403162056,0.9272515527950309,0.9303708439897698,0.9206521739130435]}},\"id\":\"862e9f29-57d6-43f3-a7d2-01cd400f376c\",\"type\":\"ColumnDataSource\"},{\"attributes\":{\"data_source\":{\"id\":\"f72e9f84-31af-4c8b-86e8-f7362c8a06d5\",\"type\":\"ColumnDataSource\"},\"glyph\":{\"id\":\"d372b8a3-9039-411f-8b16-abcae31e0752\",\"type\":\"Line\"},\"hover_glyph\":null,\"nonselection_glyph\":{\"id\":\"f101b317-a63a-47d0-91c7-ae3080471be4\",\"type\":\"Line\"},\"selection_glyph\":null},\"id\":\"75910deb-6c2e-4ea2-a3ee-c0c00f64a06e\",\"type\":\"GlyphRenderer\"},{\"attributes\":{},\"id\":\"7aee5baa-51be-493d-8a96-1e0f92c25e6b\",\"type\":\"BasicTicker\"},{\"attributes\":{\"line_alpha\":{\"value\":0.1},\"line_color\":{\"value\":\"#1f77b4\"},\"x\":{\"field\":\"x\"},\"y\":{\"field\":\"y\"}},\"id\":\"612c9aea-b6cc-4b12-8e0b-f02daca35198\",\"type\":\"Line\"},{\"attributes\":{\"overlay\":{\"id\":\"a85d42a8-fe80-46f5-92ca-7dba874431c4\",\"type\":\"BoxAnnotation\"},\"plot\":{\"id\":\"95ff7e03-be0e-4102-888b-7ce60a64eb89\",\"subtype\":\"Figure\",\"type\":\"Plot\"}},\"id\":\"27a39658-3f1e-4107-8f60-f340afc5cb9e\",\"type\":\"BoxZoomTool\"},{\"attributes\":{\"plot\":{\"id\":\"95ff7e03-be0e-4102-888b-7ce60a64eb89\",\"subtype\":\"Figure\",\"type\":\"Plot\"}},\"id\":\"1e8e1a9c-5770-4d48-aa74-67d774b9def7\",\"type\":\"SaveTool\"},{\"attributes\":{\"callback\":null,\"column_names\":[\"y\",\"x\"],\"data\":{\"x\":[1472,2024,2576,3128,3680],\"y\":[0.4792479669753863,0.8570073924945565,0.8904691522556145,0.8993758262946908,0.9111111898761696]}},\"id\":\"f72e9f84-31af-4c8b-86e8-f7362c8a06d5\",\"type\":\"ColumnDataSource\"},{\"attributes\":{},\"id\":\"996d75a3-a6ca-4e7a-8d59-10caa58cff34\",\"type\":\"BasicTickFormatter\"},{\"attributes\":{\"line_alpha\":{\"value\":0.1},\"line_color\":{\"value\":\"#1f77b4\"},\"x\":{\"field\":\"x\"},\"y\":{\"field\":\"y\"}},\"id\":\"f101b317-a63a-47d0-91c7-ae3080471be4\",\"type\":\"Line\"},{\"attributes\":{},\"id\":\"4217c09f-8f43-4e39-a28c-e7ab7feb5e71\",\"type\":\"ToolEvents\"},{\"attributes\":{\"formatter\":{\"id\":\"996d75a3-a6ca-4e7a-8d59-10caa58cff34\",\"type\":\"BasicTickFormatter\"},\"plot\":{\"id\":\"95ff7e03-be0e-4102-888b-7ce60a64eb89\",\"subtype\":\"Figure\",\"type\":\"Plot\"},\"ticker\":{\"id\":\"7aee5baa-51be-493d-8a96-1e0f92c25e6b\",\"type\":\"BasicTicker\"}},\"id\":\"bf72c250-692c-42b5-a2db-566b19d23f3f\",\"type\":\"LinearAxis\"},{\"attributes\":{},\"id\":\"7a5719cb-0e02-4935-b339-d1b7fea398b1\",\"type\":\"BasicTickFormatter\"},{\"attributes\":{\"below\":[{\"id\":\"b0a8de1a-8379-40c6-bf54-874b3ba0ef3c\",\"type\":\"LinearAxis\"}],\"left\":[{\"id\":\"bf72c250-692c-42b5-a2db-566b19d23f3f\",\"type\":\"LinearAxis\"}],\"renderers\":[{\"id\":\"b0a8de1a-8379-40c6-bf54-874b3ba0ef3c\",\"type\":\"LinearAxis\"},{\"id\":\"349eccfb-ebfb-4283-ae6e-37c57880a55d\",\"type\":\"Grid\"},{\"id\":\"bf72c250-692c-42b5-a2db-566b19d23f3f\",\"type\":\"LinearAxis\"},{\"id\":\"369d6bf3-3fb7-4cd3-906a-d4b6ebefb882\",\"type\":\"Grid\"},{\"id\":\"a85d42a8-fe80-46f5-92ca-7dba874431c4\",\"type\":\"BoxAnnotation\"},{\"id\":\"8dca942b-ed8e-40b9-85cb-f5e551b6274f\",\"type\":\"Legend\"},{\"id\":\"31a0a18b-16da-4181-ba1d-9ed5e395e70c\",\"type\":\"GlyphRenderer\"},{\"id\":\"75910deb-6c2e-4ea2-a3ee-c0c00f64a06e\",\"type\":\"GlyphRenderer\"}],\"title\":{\"id\":\"91d133fe-38cd-445d-859e-35f8d56db4a2\",\"type\":\"Title\"},\"tool_events\":{\"id\":\"4217c09f-8f43-4e39-a28c-e7ab7feb5e71\",\"type\":\"ToolEvents\"},\"toolbar\":{\"id\":\"57982162-1b03-409a-bfb5-ab9ffd8c3738\",\"type\":\"Toolbar\"},\"x_range\":{\"id\":\"fd203cce-096a-4f76-a8c4-d72a2cc9008f\",\"type\":\"DataRange1d\"},\"y_range\":{\"id\":\"d8b3b9b7-5c76-457b-95ed-76d320bebb71\",\"type\":\"Range1d\"}},\"id\":\"95ff7e03-be0e-4102-888b-7ce60a64eb89\",\"subtype\":\"Figure\",\"type\":\"Plot\"},{\"attributes\":{\"formatter\":{\"id\":\"7a5719cb-0e02-4935-b339-d1b7fea398b1\",\"type\":\"BasicTickFormatter\"},\"plot\":{\"id\":\"95ff7e03-be0e-4102-888b-7ce60a64eb89\",\"subtype\":\"Figure\",\"type\":\"Plot\"},\"ticker\":{\"id\":\"1d9d914a-1a02-4c39-aa39-3355329c62c2\",\"type\":\"BasicTicker\"}},\"id\":\"b0a8de1a-8379-40c6-bf54-874b3ba0ef3c\",\"type\":\"LinearAxis\"},{\"attributes\":{\"plot\":{\"id\":\"95ff7e03-be0e-4102-888b-7ce60a64eb89\",\"subtype\":\"Figure\",\"type\":\"Plot\"}},\"id\":\"ac0e2f23-e87a-412d-a1c9-0fc7c74b9d9a\",\"type\":\"PanTool\"},{\"attributes\":{\"plot\":{\"id\":\"95ff7e03-be0e-4102-888b-7ce60a64eb89\",\"subtype\":\"Figure\",\"type\":\"Plot\"}},\"id\":\"a0d269d6-461d-4beb-ba1f-8af934ef376b\",\"type\":\"WheelZoomTool\"},{\"attributes\":{\"plot\":{\"id\":\"95ff7e03-be0e-4102-888b-7ce60a64eb89\",\"subtype\":\"Figure\",\"type\":\"Plot\"}},\"id\":\"72a24fce-d5ad-4e4c-a803-0575226b6c5b\",\"type\":\"ResetTool\"},{\"attributes\":{\"line_color\":{\"value\":\"blue\"},\"x\":{\"field\":\"x\"},\"y\":{\"field\":\"y\"}},\"id\":\"d372b8a3-9039-411f-8b16-abcae31e0752\",\"type\":\"Line\"},{\"attributes\":{\"line_color\":{\"value\":\"red\"},\"x\":{\"field\":\"x\"},\"y\":{\"field\":\"y\"}},\"id\":\"0d220b70-a7f0-4180-8132-83399b426254\",\"type\":\"Line\"},{\"attributes\":{\"callback\":null,\"start\":0.7},\"id\":\"d8b3b9b7-5c76-457b-95ed-76d320bebb71\",\"type\":\"Range1d\"},{\"attributes\":{\"plot\":null,\"text\":\"Learning Curve\"},\"id\":\"91d133fe-38cd-445d-859e-35f8d56db4a2\",\"type\":\"Title\"},{\"attributes\":{\"legends\":[[\"Train Scores\",[{\"id\":\"31a0a18b-16da-4181-ba1d-9ed5e395e70c\",\"type\":\"GlyphRenderer\"}]],[\"Test Scores\",[{\"id\":\"75910deb-6c2e-4ea2-a3ee-c0c00f64a06e\",\"type\":\"GlyphRenderer\"}]]],\"plot\":{\"id\":\"95ff7e03-be0e-4102-888b-7ce60a64eb89\",\"subtype\":\"Figure\",\"type\":\"Plot\"}},\"id\":\"8dca942b-ed8e-40b9-85cb-f5e551b6274f\",\"type\":\"Legend\"},{\"attributes\":{\"active_drag\":\"auto\",\"active_scroll\":\"auto\",\"active_tap\":\"auto\",\"tools\":[{\"id\":\"ac0e2f23-e87a-412d-a1c9-0fc7c74b9d9a\",\"type\":\"PanTool\"},{\"id\":\"a0d269d6-461d-4beb-ba1f-8af934ef376b\",\"type\":\"WheelZoomTool\"},{\"id\":\"27a39658-3f1e-4107-8f60-f340afc5cb9e\",\"type\":\"BoxZoomTool\"},{\"id\":\"1e8e1a9c-5770-4d48-aa74-67d774b9def7\",\"type\":\"SaveTool\"},{\"id\":\"72a24fce-d5ad-4e4c-a803-0575226b6c5b\",\"type\":\"ResetTool\"},{\"id\":\"90df3217-dc0c-446d-852f-dc383289edcd\",\"type\":\"HelpTool\"}]},\"id\":\"57982162-1b03-409a-bfb5-ab9ffd8c3738\",\"type\":\"Toolbar\"},{\"attributes\":{\"data_source\":{\"id\":\"862e9f29-57d6-43f3-a7d2-01cd400f376c\",\"type\":\"ColumnDataSource\"},\"glyph\":{\"id\":\"0d220b70-a7f0-4180-8132-83399b426254\",\"type\":\"Line\"},\"hover_glyph\":null,\"nonselection_glyph\":{\"id\":\"612c9aea-b6cc-4b12-8e0b-f02daca35198\",\"type\":\"Line\"},\"selection_glyph\":null},\"id\":\"31a0a18b-16da-4181-ba1d-9ed5e395e70c\",\"type\":\"GlyphRenderer\"},{\"attributes\":{\"callback\":null},\"id\":\"fd203cce-096a-4f76-a8c4-d72a2cc9008f\",\"type\":\"DataRange1d\"},{\"attributes\":{\"plot\":{\"id\":\"95ff7e03-be0e-4102-888b-7ce60a64eb89\",\"subtype\":\"Figure\",\"type\":\"Plot\"},\"ticker\":{\"id\":\"1d9d914a-1a02-4c39-aa39-3355329c62c2\",\"type\":\"BasicTicker\"}},\"id\":\"349eccfb-ebfb-4283-ae6e-37c57880a55d\",\"type\":\"Grid\"},{\"attributes\":{\"dimension\":1,\"plot\":{\"id\":\"95ff7e03-be0e-4102-888b-7ce60a64eb89\",\"subtype\":\"Figure\",\"type\":\"Plot\"},\"ticker\":{\"id\":\"7aee5baa-51be-493d-8a96-1e0f92c25e6b\",\"type\":\"BasicTicker\"}},\"id\":\"369d6bf3-3fb7-4cd3-906a-d4b6ebefb882\",\"type\":\"Grid\"},{\"attributes\":{\"bottom_units\":\"screen\",\"fill_alpha\":{\"value\":0.5},\"fill_color\":{\"value\":\"lightgrey\"},\"left_units\":\"screen\",\"level\":\"overlay\",\"line_alpha\":{\"value\":1.0},\"line_color\":{\"value\":\"black\"},\"line_dash\":[4,4],\"line_width\":{\"value\":2},\"plot\":null,\"render_mode\":\"css\",\"right_units\":\"screen\",\"top_units\":\"screen\"},\"id\":\"a85d42a8-fe80-46f5-92ca-7dba874431c4\",\"type\":\"BoxAnnotation\"}],\"root_ids\":[\"95ff7e03-be0e-4102-888b-7ce60a64eb89\"]},\"title\":\"Bokeh Application\",\"version\":\"0.12.0\"}};\n",
       "            var render_items = [{\"docid\":\"64cc61ca-da83-4fa8-975d-a7c9a538f150\",\"elementid\":\"39f46ba5-5728-4a4d-81c9-553bc90b267f\",\"modelid\":\"95ff7e03-be0e-4102-888b-7ce60a64eb89\",\"notebook_comms_target\":\"3ee9b389-d402-4d83-8c34-d7dabbbd0a90\"}];\n",
       "            \n",
       "            Bokeh.embed.embed_items(docs_json, render_items);\n",
       "        });\n",
       "      },\n",
       "      function(Bokeh) {\n",
       "      }\n",
       "    ];\n",
       "  \n",
       "    function run_inline_js() {\n",
       "      for (var i = 0; i < inline_js.length; i++) {\n",
       "        inline_js[i](window.Bokeh);\n",
       "      }\n",
       "    }\n",
       "  \n",
       "    if (window._bokeh_is_loading === 0) {\n",
       "      console.log(\"Bokeh: BokehJS loaded, going straight to plotting\");\n",
       "      run_inline_js();\n",
       "    } else {\n",
       "      load_libs(js_urls, function() {\n",
       "        console.log(\"Bokeh: BokehJS plotting callback run at\", now());\n",
       "        run_inline_js();\n",
       "      });\n",
       "    }\n",
       "  }(this));\n",
       "</script>"
      ]
     },
     "metadata": {},
     "output_type": "display_data"
    }
   ],
   "source": [
    "# display learning curves\n",
    "do_learning_curve(best_model, X_new, y,\n",
    "                  sizes=np.linspace(0.4,1.0,5),\n",
    "                  y_range=(0.7, 1))"
   ]
  },
  {
   "cell_type": "markdown",
   "metadata": {},
   "source": [
    "# Exercise 4\n",
    "Repeat steps 1.a - 1.e for the car dataset. Notice that now features are categorical, not numerical.\n",
    "\n",
    "- Find a suitable way to encode them\n",
    "- How does this change our modeling strategy?\n",
    "\n",
    "Also notice that the target variable `acceptability` has 4 classes. How do we encode them?\n"
   ]
  },
  {
   "cell_type": "code",
   "execution_count": 34,
   "metadata": {
    "collapsed": false
   },
   "outputs": [
    {
     "name": "stdout",
     "output_type": "stream",
     "text": [
      "<class 'pandas.core.frame.DataFrame'>\n",
      "RangeIndex: 1728 entries, 0 to 1727\n",
      "Data columns (total 7 columns):\n",
      "buying           1728 non-null object\n",
      "maint            1728 non-null object\n",
      "doors            1728 non-null object\n",
      "persons          1728 non-null object\n",
      "lug_boot         1728 non-null object\n",
      "safety           1728 non-null object\n",
      "acceptability    1728 non-null object\n",
      "dtypes: object(7)\n",
      "memory usage: 94.6+ KB\n"
     ]
    }
   ],
   "source": [
    "df = pd.read_csv('../../assets/datasets/car.csv')\n",
    "df.info()"
   ]
  },
  {
   "cell_type": "code",
   "execution_count": 35,
   "metadata": {
    "collapsed": false
   },
   "outputs": [
    {
     "data": {
      "text/plain": [
       "unacc    0.700231\n",
       "acc      0.222222\n",
       "good     0.039931\n",
       "vgood    0.037616\n",
       "Name: acceptability, dtype: float64"
      ]
     },
     "execution_count": 35,
     "metadata": {},
     "output_type": "execute_result"
    }
   ],
   "source": [
    "df['acceptability'].value_counts() / len(df)"
   ]
  },
  {
   "cell_type": "code",
   "execution_count": 36,
   "metadata": {
    "collapsed": false
   },
   "outputs": [
    {
     "data": {
      "text/plain": [
       "array(['acc', 'good', 'unacc', 'vgood'], dtype=object)"
      ]
     },
     "execution_count": 36,
     "metadata": {},
     "output_type": "execute_result"
    }
   ],
   "source": [
    "from sklearn.preprocessing import LabelEncoder\n",
    "le = LabelEncoder()\n",
    "labels = df['acceptability']\n",
    "le.fit(labels)\n",
    "y = le.transform(labels)\n",
    "le.classes_"
   ]
  },
  {
   "cell_type": "code",
   "execution_count": 37,
   "metadata": {
    "collapsed": false
   },
   "outputs": [],
   "source": [
    "X = pd.get_dummies(df.drop('acceptability', axis = 1))"
   ]
  },
  {
   "cell_type": "code",
   "execution_count": 38,
   "metadata": {
    "collapsed": false
   },
   "outputs": [
    {
     "name": "stdout",
     "output_type": "stream",
     "text": [
      "Best Params: {'svc__kernel': 'rbf', 'svc__C': 10}\n",
      "Best Score: 0.856481481481\n"
     ]
    }
   ],
   "source": [
    "parameters = {'svc__kernel':('linear', 'rbf'), 'svc__C':[0.01, 0.1, 1.0, 10, 100]}\n",
    "pipe = make_pipeline(StandardScaler(), SVC())\n",
    "\n",
    "best_model = do_grid_search(pipe, X, y, parameters)"
   ]
  },
  {
   "cell_type": "code",
   "execution_count": 39,
   "metadata": {
    "collapsed": false
   },
   "outputs": [
    {
     "name": "stdout",
     "output_type": "stream",
     "text": [
      "       pred_acc  pred_good  pred_unacc  pred_vgood\n",
      "acc         127          0           0           0\n",
      "good          1         22           0           0\n",
      "unacc         1          0         399           0\n",
      "vgood         0          0           0          21\n",
      "\n",
      "             precision    recall  f1-score   support\n",
      "\n",
      "          0       0.98      1.00      0.99       127\n",
      "          1       1.00      0.96      0.98        23\n",
      "          2       1.00      1.00      1.00       400\n",
      "          3       1.00      1.00      1.00        21\n",
      "\n",
      "avg / total       1.00      1.00      1.00       571\n",
      "\n"
     ]
    }
   ],
   "source": [
    "do_cm_cr(best_model, X, y, le.classes_)"
   ]
  },
  {
   "cell_type": "code",
   "execution_count": 40,
   "metadata": {
    "collapsed": false
   },
   "outputs": [
    {
     "data": {
      "text/html": [
       "\n",
       "\n",
       "    <div class=\"bk-root\">\n",
       "        <div class=\"plotdiv\" id=\"a6233529-e30c-4e04-a87e-ef84a31449b7\"></div>\n",
       "    </div>\n",
       "<script type=\"text/javascript\">\n",
       "  \n",
       "  (function(global) {\n",
       "    function now() {\n",
       "      return new Date();\n",
       "    }\n",
       "  \n",
       "    if (typeof (window._bokeh_onload_callbacks) === \"undefined\") {\n",
       "      window._bokeh_onload_callbacks = [];\n",
       "    }\n",
       "  \n",
       "    function run_callbacks() {\n",
       "      window._bokeh_onload_callbacks.forEach(function(callback) { callback() });\n",
       "      delete window._bokeh_onload_callbacks\n",
       "      console.info(\"Bokeh: all callbacks have finished\");\n",
       "    }\n",
       "  \n",
       "    function load_libs(js_urls, callback) {\n",
       "      window._bokeh_onload_callbacks.push(callback);\n",
       "      if (window._bokeh_is_loading > 0) {\n",
       "        console.log(\"Bokeh: BokehJS is being loaded, scheduling callback at\", now());\n",
       "        return null;\n",
       "      }\n",
       "      if (js_urls == null || js_urls.length === 0) {\n",
       "        run_callbacks();\n",
       "        return null;\n",
       "      }\n",
       "      console.log(\"Bokeh: BokehJS not loaded, scheduling load and callback at\", now());\n",
       "      window._bokeh_is_loading = js_urls.length;\n",
       "      for (var i = 0; i < js_urls.length; i++) {\n",
       "        var url = js_urls[i];\n",
       "        var s = document.createElement('script');\n",
       "        s.src = url;\n",
       "        s.async = false;\n",
       "        s.onreadystatechange = s.onload = function() {\n",
       "          window._bokeh_is_loading--;\n",
       "          if (window._bokeh_is_loading === 0) {\n",
       "            console.log(\"Bokeh: all BokehJS libraries loaded\");\n",
       "            run_callbacks()\n",
       "          }\n",
       "        };\n",
       "        s.onerror = function() {\n",
       "          console.warn(\"failed to load library \" + url);\n",
       "        };\n",
       "        console.log(\"Bokeh: injecting script tag for BokehJS library: \", url);\n",
       "        document.getElementsByTagName(\"head\")[0].appendChild(s);\n",
       "      }\n",
       "    };var element = document.getElementById(\"a6233529-e30c-4e04-a87e-ef84a31449b7\");\n",
       "    if (element == null) {\n",
       "      console.log(\"Bokeh: ERROR: autoload.js configured with elementid 'a6233529-e30c-4e04-a87e-ef84a31449b7' but no matching script tag was found. \")\n",
       "      return false;\n",
       "    }\n",
       "  \n",
       "    var js_urls = [];\n",
       "  \n",
       "    var inline_js = [\n",
       "      function(Bokeh) {\n",
       "        Bokeh.$(function() {\n",
       "            var docs_json = {\"2af13a4b-3fa2-44ae-843f-0e6de2482495\":{\"roots\":{\"references\":[{\"attributes\":{\"callback\":null,\"end\":1.1,\"start\":0.7},\"id\":\"2e8cfeb4-83a4-4617-871f-51021767335d\",\"type\":\"Range1d\"},{\"attributes\":{\"line_color\":{\"value\":\"red\"},\"x\":{\"field\":\"x\"},\"y\":{\"field\":\"y\"}},\"id\":\"fa9631af-d5c6-4854-842c-d83553a06461\",\"type\":\"Line\"},{\"attributes\":{\"below\":[{\"id\":\"b847b6ee-67bf-404d-adb9-3d13ad11ab89\",\"type\":\"LinearAxis\"}],\"left\":[{\"id\":\"b69da1dd-322f-4767-9c57-70f4decc9702\",\"type\":\"LinearAxis\"}],\"renderers\":[{\"id\":\"b847b6ee-67bf-404d-adb9-3d13ad11ab89\",\"type\":\"LinearAxis\"},{\"id\":\"01b957bf-1183-4a6b-b5e8-d50ff3162004\",\"type\":\"Grid\"},{\"id\":\"b69da1dd-322f-4767-9c57-70f4decc9702\",\"type\":\"LinearAxis\"},{\"id\":\"266e6a9a-568b-473f-937c-90af6ab9f016\",\"type\":\"Grid\"},{\"id\":\"e3d3bf79-db6b-4f5f-a6b4-d20f4b5d9e20\",\"type\":\"BoxAnnotation\"},{\"id\":\"26efd595-3724-4419-a51e-59a338ce33db\",\"type\":\"Legend\"},{\"id\":\"0d56e613-6ac2-41f7-a1d8-02a25f03b9e9\",\"type\":\"GlyphRenderer\"},{\"id\":\"9558577e-6ba5-431c-a138-656184ff877f\",\"type\":\"GlyphRenderer\"}],\"title\":{\"id\":\"5aa02717-6d28-4540-b5be-e1c1d0c4585e\",\"type\":\"Title\"},\"tool_events\":{\"id\":\"455a03ff-3b8b-45a0-b76c-e96be89d67d3\",\"type\":\"ToolEvents\"},\"toolbar\":{\"id\":\"bc9be369-4f55-4986-add0-9eb4b7fe5116\",\"type\":\"Toolbar\"},\"x_range\":{\"id\":\"eb57a50b-2c14-4691-9441-78d5c0457cdd\",\"type\":\"DataRange1d\"},\"y_range\":{\"id\":\"2e8cfeb4-83a4-4617-871f-51021767335d\",\"type\":\"Range1d\"}},\"id\":\"88ddadbf-ace2-4712-9489-d304980bf5c8\",\"subtype\":\"Figure\",\"type\":\"Plot\"},{\"attributes\":{\"callback\":null,\"column_names\":[\"y\",\"x\"],\"data\":{\"x\":[345,460,575,691,806,921,1036,1151,1266,1382],\"y\":[1.0,1.0,1.0,1.0,1.0,1.0,1.0,1.0,1.0,1.0]}},\"id\":\"f861145b-60d3-4bae-ae50-fede187b5624\",\"type\":\"ColumnDataSource\"},{\"attributes\":{\"line_alpha\":{\"value\":0.1},\"line_color\":{\"value\":\"#1f77b4\"},\"x\":{\"field\":\"x\"},\"y\":{\"field\":\"y\"}},\"id\":\"5a50e47f-ce3e-470e-b0a5-f5303b6adda3\",\"type\":\"Line\"},{\"attributes\":{\"plot\":{\"id\":\"88ddadbf-ace2-4712-9489-d304980bf5c8\",\"subtype\":\"Figure\",\"type\":\"Plot\"}},\"id\":\"a6713dd2-5a3b-4a62-a2c4-96d5806bbe53\",\"type\":\"SaveTool\"},{\"attributes\":{},\"id\":\"2dae439c-6a60-4e18-82c8-e2eec1284723\",\"type\":\"BasicTickFormatter\"},{\"attributes\":{\"plot\":{\"id\":\"88ddadbf-ace2-4712-9489-d304980bf5c8\",\"subtype\":\"Figure\",\"type\":\"Plot\"}},\"id\":\"9554e971-ac21-4ba1-b466-05fd2dd08dc0\",\"type\":\"PanTool\"},{\"attributes\":{\"bottom_units\":\"screen\",\"fill_alpha\":{\"value\":0.5},\"fill_color\":{\"value\":\"lightgrey\"},\"left_units\":\"screen\",\"level\":\"overlay\",\"line_alpha\":{\"value\":1.0},\"line_color\":{\"value\":\"black\"},\"line_dash\":[4,4],\"line_width\":{\"value\":2},\"plot\":null,\"render_mode\":\"css\",\"right_units\":\"screen\",\"top_units\":\"screen\"},\"id\":\"e3d3bf79-db6b-4f5f-a6b4-d20f4b5d9e20\",\"type\":\"BoxAnnotation\"},{\"attributes\":{\"line_alpha\":{\"value\":0.1},\"line_color\":{\"value\":\"#1f77b4\"},\"x\":{\"field\":\"x\"},\"y\":{\"field\":\"y\"}},\"id\":\"7b508182-b717-4e04-8f44-5f88fd301d34\",\"type\":\"Line\"},{\"attributes\":{\"formatter\":{\"id\":\"2dae439c-6a60-4e18-82c8-e2eec1284723\",\"type\":\"BasicTickFormatter\"},\"plot\":{\"id\":\"88ddadbf-ace2-4712-9489-d304980bf5c8\",\"subtype\":\"Figure\",\"type\":\"Plot\"},\"ticker\":{\"id\":\"b9a50a0e-f465-4bce-997f-e6fb34239410\",\"type\":\"BasicTicker\"}},\"id\":\"b69da1dd-322f-4767-9c57-70f4decc9702\",\"type\":\"LinearAxis\"},{\"attributes\":{\"plot\":{\"id\":\"88ddadbf-ace2-4712-9489-d304980bf5c8\",\"subtype\":\"Figure\",\"type\":\"Plot\"},\"ticker\":{\"id\":\"a46090de-e94b-41e0-91f6-e1e9a5c72a65\",\"type\":\"BasicTicker\"}},\"id\":\"01b957bf-1183-4a6b-b5e8-d50ff3162004\",\"type\":\"Grid\"},{\"attributes\":{\"plot\":{\"id\":\"88ddadbf-ace2-4712-9489-d304980bf5c8\",\"subtype\":\"Figure\",\"type\":\"Plot\"}},\"id\":\"5f015616-c48b-443f-a8e2-26efb067915f\",\"type\":\"WheelZoomTool\"},{\"attributes\":{\"callback\":null},\"id\":\"eb57a50b-2c14-4691-9441-78d5c0457cdd\",\"type\":\"DataRange1d\"},{\"attributes\":{\"data_source\":{\"id\":\"e420ac6d-1b9f-4a30-8b38-7b48bea88659\",\"type\":\"ColumnDataSource\"},\"glyph\":{\"id\":\"6f3b0acb-e576-4688-9d06-15c22e100d36\",\"type\":\"Line\"},\"hover_glyph\":null,\"nonselection_glyph\":{\"id\":\"7b508182-b717-4e04-8f44-5f88fd301d34\",\"type\":\"Line\"},\"selection_glyph\":null},\"id\":\"9558577e-6ba5-431c-a138-656184ff877f\",\"type\":\"GlyphRenderer\"},{\"attributes\":{\"callback\":null,\"column_names\":[\"y\",\"x\"],\"data\":{\"x\":[345,460,575,691,806,921,1036,1151,1266,1382],\"y\":[0.7766232020432854,0.8078505175426803,0.8217334319128915,0.814803737061433,0.8709302325581396,0.8836772415647264,0.8975567952681812,0.9409665277591074,0.9838049469014652,0.9959537572254336]}},\"id\":\"e420ac6d-1b9f-4a30-8b38-7b48bea88659\",\"type\":\"ColumnDataSource\"},{\"attributes\":{\"line_color\":{\"value\":\"blue\"},\"x\":{\"field\":\"x\"},\"y\":{\"field\":\"y\"}},\"id\":\"6f3b0acb-e576-4688-9d06-15c22e100d36\",\"type\":\"Line\"},{\"attributes\":{\"dimension\":1,\"plot\":{\"id\":\"88ddadbf-ace2-4712-9489-d304980bf5c8\",\"subtype\":\"Figure\",\"type\":\"Plot\"},\"ticker\":{\"id\":\"b9a50a0e-f465-4bce-997f-e6fb34239410\",\"type\":\"BasicTicker\"}},\"id\":\"266e6a9a-568b-473f-937c-90af6ab9f016\",\"type\":\"Grid\"},{\"attributes\":{\"plot\":{\"id\":\"88ddadbf-ace2-4712-9489-d304980bf5c8\",\"subtype\":\"Figure\",\"type\":\"Plot\"}},\"id\":\"4a28d9ea-be58-4920-bc13-a7518bd7013f\",\"type\":\"ResetTool\"},{\"attributes\":{\"data_source\":{\"id\":\"f861145b-60d3-4bae-ae50-fede187b5624\",\"type\":\"ColumnDataSource\"},\"glyph\":{\"id\":\"fa9631af-d5c6-4854-842c-d83553a06461\",\"type\":\"Line\"},\"hover_glyph\":null,\"nonselection_glyph\":{\"id\":\"5a50e47f-ce3e-470e-b0a5-f5303b6adda3\",\"type\":\"Line\"},\"selection_glyph\":null},\"id\":\"0d56e613-6ac2-41f7-a1d8-02a25f03b9e9\",\"type\":\"GlyphRenderer\"},{\"attributes\":{\"plot\":null,\"text\":\"Learning Curve\"},\"id\":\"5aa02717-6d28-4540-b5be-e1c1d0c4585e\",\"type\":\"Title\"},{\"attributes\":{\"legends\":[[\"Train Scores\",[{\"id\":\"0d56e613-6ac2-41f7-a1d8-02a25f03b9e9\",\"type\":\"GlyphRenderer\"}]],[\"Test Scores\",[{\"id\":\"9558577e-6ba5-431c-a138-656184ff877f\",\"type\":\"GlyphRenderer\"}]]],\"plot\":{\"id\":\"88ddadbf-ace2-4712-9489-d304980bf5c8\",\"subtype\":\"Figure\",\"type\":\"Plot\"}},\"id\":\"26efd595-3724-4419-a51e-59a338ce33db\",\"type\":\"Legend\"},{\"attributes\":{\"plot\":{\"id\":\"88ddadbf-ace2-4712-9489-d304980bf5c8\",\"subtype\":\"Figure\",\"type\":\"Plot\"}},\"id\":\"98e65bb9-e6b8-4e2b-a994-5bffb5491c8a\",\"type\":\"HelpTool\"},{\"attributes\":{},\"id\":\"455a03ff-3b8b-45a0-b76c-e96be89d67d3\",\"type\":\"ToolEvents\"},{\"attributes\":{\"active_drag\":\"auto\",\"active_scroll\":\"auto\",\"active_tap\":\"auto\",\"tools\":[{\"id\":\"9554e971-ac21-4ba1-b466-05fd2dd08dc0\",\"type\":\"PanTool\"},{\"id\":\"5f015616-c48b-443f-a8e2-26efb067915f\",\"type\":\"WheelZoomTool\"},{\"id\":\"b7756ae1-b8d1-44ab-9cb8-980bdaad8daf\",\"type\":\"BoxZoomTool\"},{\"id\":\"a6713dd2-5a3b-4a62-a2c4-96d5806bbe53\",\"type\":\"SaveTool\"},{\"id\":\"4a28d9ea-be58-4920-bc13-a7518bd7013f\",\"type\":\"ResetTool\"},{\"id\":\"98e65bb9-e6b8-4e2b-a994-5bffb5491c8a\",\"type\":\"HelpTool\"}]},\"id\":\"bc9be369-4f55-4986-add0-9eb4b7fe5116\",\"type\":\"Toolbar\"},{\"attributes\":{},\"id\":\"b9a50a0e-f465-4bce-997f-e6fb34239410\",\"type\":\"BasicTicker\"},{\"attributes\":{},\"id\":\"4fc0b20f-1f77-45c2-bf68-24916d25c3c5\",\"type\":\"BasicTickFormatter\"},{\"attributes\":{\"overlay\":{\"id\":\"e3d3bf79-db6b-4f5f-a6b4-d20f4b5d9e20\",\"type\":\"BoxAnnotation\"},\"plot\":{\"id\":\"88ddadbf-ace2-4712-9489-d304980bf5c8\",\"subtype\":\"Figure\",\"type\":\"Plot\"}},\"id\":\"b7756ae1-b8d1-44ab-9cb8-980bdaad8daf\",\"type\":\"BoxZoomTool\"},{\"attributes\":{},\"id\":\"a46090de-e94b-41e0-91f6-e1e9a5c72a65\",\"type\":\"BasicTicker\"},{\"attributes\":{\"formatter\":{\"id\":\"4fc0b20f-1f77-45c2-bf68-24916d25c3c5\",\"type\":\"BasicTickFormatter\"},\"plot\":{\"id\":\"88ddadbf-ace2-4712-9489-d304980bf5c8\",\"subtype\":\"Figure\",\"type\":\"Plot\"},\"ticker\":{\"id\":\"a46090de-e94b-41e0-91f6-e1e9a5c72a65\",\"type\":\"BasicTicker\"}},\"id\":\"b847b6ee-67bf-404d-adb9-3d13ad11ab89\",\"type\":\"LinearAxis\"}],\"root_ids\":[\"88ddadbf-ace2-4712-9489-d304980bf5c8\"]},\"title\":\"Bokeh Application\",\"version\":\"0.12.0\"}};\n",
       "            var render_items = [{\"docid\":\"2af13a4b-3fa2-44ae-843f-0e6de2482495\",\"elementid\":\"a6233529-e30c-4e04-a87e-ef84a31449b7\",\"modelid\":\"88ddadbf-ace2-4712-9489-d304980bf5c8\",\"notebook_comms_target\":\"4751b59d-5778-4c3c-aa28-69635dba6b99\"}];\n",
       "            \n",
       "            Bokeh.embed.embed_items(docs_json, render_items);\n",
       "        });\n",
       "      },\n",
       "      function(Bokeh) {\n",
       "      }\n",
       "    ];\n",
       "  \n",
       "    function run_inline_js() {\n",
       "      for (var i = 0; i < inline_js.length; i++) {\n",
       "        inline_js[i](window.Bokeh);\n",
       "      }\n",
       "    }\n",
       "  \n",
       "    if (window._bokeh_is_loading === 0) {\n",
       "      console.log(\"Bokeh: BokehJS loaded, going straight to plotting\");\n",
       "      run_inline_js();\n",
       "    } else {\n",
       "      load_libs(js_urls, function() {\n",
       "        console.log(\"Bokeh: BokehJS plotting callback run at\", now());\n",
       "        run_inline_js();\n",
       "      });\n",
       "    }\n",
       "  }(this));\n",
       "</script>"
      ]
     },
     "metadata": {},
     "output_type": "display_data"
    }
   ],
   "source": [
    "do_learning_curve(best_model, X, y, sizes=np.linspace(0.25, 1.0, 10), y_range=(0.7,1.1))"
   ]
  },
  {
   "cell_type": "markdown",
   "metadata": {},
   "source": [
    "# Bonus\n",
    "Repeat steps 1.a - 1.e for the mushroom dataset. Notice that now features are categorical, not numerical. This dataset is quite large.\n",
    "\n",
    "- How does this change our modeling strategy?\n",
    "- Can we use feature selection to improve this?\n"
   ]
  },
  {
   "cell_type": "code",
   "execution_count": null,
   "metadata": {
    "collapsed": true
   },
   "outputs": [],
   "source": []
  }
 ],
 "metadata": {
  "kernelspec": {
   "display_name": "Python 2",
   "language": "python",
   "name": "python2"
  },
  "language_info": {
   "codemirror_mode": {
    "name": "ipython",
    "version": 2
   },
   "file_extension": ".py",
   "mimetype": "text/x-python",
   "name": "python",
   "nbconvert_exporter": "python",
   "pygments_lexer": "ipython2",
   "version": "2.7.12"
  }
 },
 "nbformat": 4,
 "nbformat_minor": 0
}
