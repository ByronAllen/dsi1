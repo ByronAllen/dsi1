{
 "cells": [
  {
   "cell_type": "markdown",
   "metadata": {},
   "source": [
    "# Data Workflow Lab 2\n",
    "\n",
    "Proceed with your analysis of the Project 3 data set. You may need to compute new columns as you proceed. Fit one or more linear models to the data, investigate model fits and outliers, use regularization when appropriate.\n",
    "\n",
    "### Learning objectives\n",
    "- Perform exploratory analysis\n",
    "- Generate correlation matrix of the features\n",
    "- Generate linear regression models\n",
    "- Evaluate model fit\n",
    "\n",
    "If appropriate for your models and featuers:\n",
    "- Use [feature selection](http://scikit-learn.org/stable/modules/feature_selection.html) to pick the best features\n",
    "- Try different regularization options"
   ]
  },
  {
   "cell_type": "code",
   "execution_count": 5,
   "metadata": {
    "collapsed": true
   },
   "outputs": [],
   "source": [
    "% matplotlib inline\n",
    "\n",
    "from collections import defaultdict\n",
    "import datetime\n",
    "\n",
    "from matplotlib import pyplot as plt\n",
    "# Make the plots bigger\n",
    "plt.rcParams['figure.figsize'] = 10, 10\n",
    "import seaborn as sns\n",
    "\n",
    "import numpy as np\n",
    "import pandas as pd\n",
    "from sklearn import linear_model"
   ]
  },
  {
   "cell_type": "code",
   "execution_count": 8,
   "metadata": {
    "collapsed": false
   },
   "outputs": [
    {
     "data": {
      "text/html": [
       "<div>\n",
       "<table border=\"1\" class=\"dataframe\">\n",
       "  <thead>\n",
       "    <tr style=\"text-align: right;\">\n",
       "      <th></th>\n",
       "      <th>Unnamed: 0</th>\n",
       "      <th>store_num</th>\n",
       "      <th>city</th>\n",
       "      <th>sale_sum</th>\n",
       "      <th>sale_mean</th>\n",
       "      <th>county_num</th>\n",
       "      <th>zip_code</th>\n",
       "      <th>liters_sold_sum</th>\n",
       "      <th>liters_sold_mean</th>\n",
       "      <th>price_per_liter_mean</th>\n",
       "      <th>margin_mean</th>\n",
       "      <th>q1_2015_sales_x</th>\n",
       "      <th>q1_2015_sales_y</th>\n",
       "      <th>q1_2016_sales_x</th>\n",
       "      <th>q1_2015_sales</th>\n",
       "      <th>q1_2016_sales_y</th>\n",
       "    </tr>\n",
       "  </thead>\n",
       "  <tbody>\n",
       "    <tr>\n",
       "      <th>0</th>\n",
       "      <td>0</td>\n",
       "      <td>2106</td>\n",
       "      <td>CEDAR FALLS</td>\n",
       "      <td>176517.45</td>\n",
       "      <td>270.732285</td>\n",
       "      <td>7</td>\n",
       "      <td>50613</td>\n",
       "      <td>11836.10</td>\n",
       "      <td>18.153528</td>\n",
       "      <td>17.869110</td>\n",
       "      <td>5.167822</td>\n",
       "      <td>26440.94</td>\n",
       "      <td>26440.94</td>\n",
       "      <td>20525.78</td>\n",
       "      <td>26440.94</td>\n",
       "      <td>20525.78</td>\n",
       "    </tr>\n",
       "    <tr>\n",
       "      <th>1</th>\n",
       "      <td>1</td>\n",
       "      <td>2113</td>\n",
       "      <td>GOWRIE</td>\n",
       "      <td>11376.12</td>\n",
       "      <td>61.826739</td>\n",
       "      <td>94</td>\n",
       "      <td>50543</td>\n",
       "      <td>836.85</td>\n",
       "      <td>4.548098</td>\n",
       "      <td>18.301651</td>\n",
       "      <td>5.429565</td>\n",
       "      <td>1527.27</td>\n",
       "      <td>1527.27</td>\n",
       "      <td>1620.10</td>\n",
       "      <td>1527.27</td>\n",
       "      <td>1620.10</td>\n",
       "    </tr>\n",
       "    <tr>\n",
       "      <th>2</th>\n",
       "      <td>2</td>\n",
       "      <td>2130</td>\n",
       "      <td>WATERLOO</td>\n",
       "      <td>139440.02</td>\n",
       "      <td>274.488228</td>\n",
       "      <td>7</td>\n",
       "      <td>50703</td>\n",
       "      <td>8436.27</td>\n",
       "      <td>16.606831</td>\n",
       "      <td>16.963739</td>\n",
       "      <td>5.008799</td>\n",
       "      <td>16380.74</td>\n",
       "      <td>16380.74</td>\n",
       "      <td>18209.17</td>\n",
       "      <td>16380.74</td>\n",
       "      <td>18209.17</td>\n",
       "    </tr>\n",
       "    <tr>\n",
       "      <th>3</th>\n",
       "      <td>3</td>\n",
       "      <td>2152</td>\n",
       "      <td>ROCKWELL</td>\n",
       "      <td>8625.74</td>\n",
       "      <td>53.576025</td>\n",
       "      <td>17</td>\n",
       "      <td>50469</td>\n",
       "      <td>720.87</td>\n",
       "      <td>4.477453</td>\n",
       "      <td>12.954562</td>\n",
       "      <td>4.302484</td>\n",
       "      <td>1686.31</td>\n",
       "      <td>1686.31</td>\n",
       "      <td>904.66</td>\n",
       "      <td>1686.31</td>\n",
       "      <td>904.66</td>\n",
       "    </tr>\n",
       "    <tr>\n",
       "      <th>4</th>\n",
       "      <td>4</td>\n",
       "      <td>2178</td>\n",
       "      <td>WAUKON</td>\n",
       "      <td>29912.68</td>\n",
       "      <td>101.398915</td>\n",
       "      <td>3</td>\n",
       "      <td>52172</td>\n",
       "      <td>2437.92</td>\n",
       "      <td>8.264136</td>\n",
       "      <td>15.866688</td>\n",
       "      <td>4.825627</td>\n",
       "      <td>3679.17</td>\n",
       "      <td>3679.17</td>\n",
       "      <td>3785.19</td>\n",
       "      <td>3679.17</td>\n",
       "      <td>3785.19</td>\n",
       "    </tr>\n",
       "  </tbody>\n",
       "</table>\n",
       "</div>"
      ],
      "text/plain": [
       "   Unnamed: 0  store_num         city   sale_sum   sale_mean  county_num  \\\n",
       "0           0       2106  CEDAR FALLS  176517.45  270.732285           7   \n",
       "1           1       2113       GOWRIE   11376.12   61.826739          94   \n",
       "2           2       2130     WATERLOO  139440.02  274.488228           7   \n",
       "3           3       2152     ROCKWELL    8625.74   53.576025          17   \n",
       "4           4       2178       WAUKON   29912.68  101.398915           3   \n",
       "\n",
       "   zip_code  liters_sold_sum  liters_sold_mean  price_per_liter_mean  \\\n",
       "0     50613         11836.10         18.153528             17.869110   \n",
       "1     50543           836.85          4.548098             18.301651   \n",
       "2     50703          8436.27         16.606831             16.963739   \n",
       "3     50469           720.87          4.477453             12.954562   \n",
       "4     52172          2437.92          8.264136             15.866688   \n",
       "\n",
       "   margin_mean  q1_2015_sales_x  q1_2015_sales_y  q1_2016_sales_x  \\\n",
       "0     5.167822         26440.94         26440.94         20525.78   \n",
       "1     5.429565          1527.27          1527.27          1620.10   \n",
       "2     5.008799         16380.74         16380.74         18209.17   \n",
       "3     4.302484          1686.31          1686.31           904.66   \n",
       "4     4.825627          3679.17          3679.17          3785.19   \n",
       "\n",
       "   q1_2015_sales  q1_2016_sales_y  \n",
       "0       26440.94         20525.78  \n",
       "1        1527.27          1620.10  \n",
       "2       16380.74         18209.17  \n",
       "3        1686.31           904.66  \n",
       "4        3679.17          3785.19  "
      ]
     },
     "execution_count": 8,
     "metadata": {},
     "output_type": "execute_result"
    }
   ],
   "source": [
    "# Load the data from the previous lab\n",
    "# If you changed the name you'll need to edit the next line\n",
    "sales = pd.read_csv(\"~/Desktop/Classes/dsi1_exercise_book/notebooks/sales_post_33.csv\")\n",
    "sales.head()\n",
    "\n",
    "# Convert dates?\n"
   ]
  },
  {
   "cell_type": "markdown",
   "metadata": {},
   "source": [
    "## Exploratory Analysis\n",
    "Make some plots, look at correlations, etc."
   ]
  },
  {
   "cell_type": "code",
   "execution_count": null,
   "metadata": {
    "collapsed": false
   },
   "outputs": [],
   "source": [
    "# Compute correlations\n"
   ]
  },
  {
   "cell_type": "code",
   "execution_count": null,
   "metadata": {
    "collapsed": false
   },
   "outputs": [],
   "source": [
    "# Perform some exploratory analysis, make a few plots\n"
   ]
  },
  {
   "cell_type": "code",
   "execution_count": null,
   "metadata": {
    "collapsed": false
   },
   "outputs": [],
   "source": [
    "# Fit a linear model\n",
    "\n",
    "# Plot the data and the best fit line\n",
    "\n",
    "# Compute the model fit\n"
   ]
  },
  {
   "cell_type": "code",
   "execution_count": null,
   "metadata": {
    "collapsed": false
   },
   "outputs": [],
   "source": [
    "# Predict Total 2016 sales, compare to 2015\n"
   ]
  },
  {
   "cell_type": "code",
   "execution_count": null,
   "metadata": {
    "collapsed": false
   },
   "outputs": [],
   "source": [
    "# Try per zip code or city to get better resolution\n",
    "\n"
   ]
  },
  {
   "cell_type": "code",
   "execution_count": null,
   "metadata": {
    "collapsed": false
   },
   "outputs": [],
   "source": [
    "# Filter out stores that opened or closed throughout the year\n",
    "# If this wasn't done already\n"
   ]
  },
  {
   "cell_type": "code",
   "execution_count": null,
   "metadata": {
    "collapsed": false
   },
   "outputs": [],
   "source": [
    "# Fit another model\n",
    "\n",
    "# Compute the model fit\n"
   ]
  },
  {
   "cell_type": "code",
   "execution_count": null,
   "metadata": {
    "collapsed": false
   },
   "outputs": [],
   "source": [
    "# Predict Total 2016 sales, compare to 2015\n"
   ]
  }
 ],
 "metadata": {
  "kernelspec": {
   "display_name": "Python 2",
   "language": "python",
   "name": "python2"
  },
  "language_info": {
   "codemirror_mode": {
    "name": "ipython",
    "version": 2
   },
   "file_extension": ".py",
   "mimetype": "text/x-python",
   "name": "python",
   "nbconvert_exporter": "python",
   "pygments_lexer": "ipython2",
   "version": "2.7.12"
  }
 },
 "nbformat": 4,
 "nbformat_minor": 0
}
