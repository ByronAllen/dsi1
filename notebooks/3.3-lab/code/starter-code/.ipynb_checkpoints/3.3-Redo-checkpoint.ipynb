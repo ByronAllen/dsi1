{
 "cells": [
  {
   "cell_type": "markdown",
   "metadata": {
    "focus": false,
    "id": "01a0feac-ab3d-4734-ab1e-ffaccc065b90"
   },
   "source": [
    "# Data Workflow Lab 1\n",
    "\n",
    "Clean and summarize Project 3 data.\n",
    "\n",
    "### Learning Objectives\n",
    "\n",
    "* Practice text cleaning techniques\n",
    "* Practice datatype conversion\n",
    "* Practice filling in missing values with either 0 or the average in the column\n",
    "* Practice categorical data techniques\n",
    "* Transform data into usable quantities\n"
   ]
  },
  {
   "cell_type": "code",
   "execution_count": 2,
   "metadata": {
    "collapsed": true,
    "focus": false,
    "id": "13018c95-3582-460f-ba8e-4910f7089e11"
   },
   "outputs": [],
   "source": [
    "% matplotlib inline\n",
    "import datetime\n",
    "import numpy as np\n",
    "import pandas as pd\n",
    "import matplotlib.pyplot as plt"
   ]
  },
  {
   "cell_type": "code",
   "execution_count": 3,
   "metadata": {
    "collapsed": false,
    "focus": false,
    "id": "80c8956f-2e08-49b5-90c6-f97c6a9676ad"
   },
   "outputs": [
    {
     "name": "stdout",
     "output_type": "stream",
     "text": [
      "Index([u'Date', u'Store Number', u'City', u'Zip Code', u'County Number',\n",
      "       u'County', u'Category', u'Category Name', u'Vendor Number',\n",
      "       u'Item Number', u'Item Description', u'Bottle Volume (ml)',\n",
      "       u'State Bottle Cost', u'State Bottle Retail', u'Bottles Sold',\n",
      "       u'Sale (Dollars)', u'Volume Sold (Liters)', u'Volume Sold (Gallons)'],\n",
      "      dtype='object')\n"
     ]
    },
    {
     "data": {
      "text/html": [
       "<div>\n",
       "<table border=\"1\" class=\"dataframe\">\n",
       "  <thead>\n",
       "    <tr style=\"text-align: right;\">\n",
       "      <th></th>\n",
       "      <th>Date</th>\n",
       "      <th>Store Number</th>\n",
       "      <th>City</th>\n",
       "      <th>Zip Code</th>\n",
       "      <th>County Number</th>\n",
       "      <th>County</th>\n",
       "      <th>Category</th>\n",
       "      <th>Category Name</th>\n",
       "      <th>Vendor Number</th>\n",
       "      <th>Item Number</th>\n",
       "      <th>Item Description</th>\n",
       "      <th>Bottle Volume (ml)</th>\n",
       "      <th>State Bottle Cost</th>\n",
       "      <th>State Bottle Retail</th>\n",
       "      <th>Bottles Sold</th>\n",
       "      <th>Sale (Dollars)</th>\n",
       "      <th>Volume Sold (Liters)</th>\n",
       "      <th>Volume Sold (Gallons)</th>\n",
       "    </tr>\n",
       "  </thead>\n",
       "  <tbody>\n",
       "    <tr>\n",
       "      <th>0</th>\n",
       "      <td>2015-11-04</td>\n",
       "      <td>3717</td>\n",
       "      <td>SUMNER</td>\n",
       "      <td>50674</td>\n",
       "      <td>9.0</td>\n",
       "      <td>Bremer</td>\n",
       "      <td>1051100.0</td>\n",
       "      <td>APRICOT BRANDIES</td>\n",
       "      <td>55</td>\n",
       "      <td>54436</td>\n",
       "      <td>Mr. Boston Apricot Brandy</td>\n",
       "      <td>750</td>\n",
       "      <td>$4.50</td>\n",
       "      <td>$6.75</td>\n",
       "      <td>12</td>\n",
       "      <td>$81.00</td>\n",
       "      <td>9.0</td>\n",
       "      <td>2.38</td>\n",
       "    </tr>\n",
       "    <tr>\n",
       "      <th>1</th>\n",
       "      <td>2016-03-02</td>\n",
       "      <td>2614</td>\n",
       "      <td>DAVENPORT</td>\n",
       "      <td>52807</td>\n",
       "      <td>82.0</td>\n",
       "      <td>Scott</td>\n",
       "      <td>1011100.0</td>\n",
       "      <td>BLENDED WHISKIES</td>\n",
       "      <td>395</td>\n",
       "      <td>27605</td>\n",
       "      <td>Tin Cup</td>\n",
       "      <td>750</td>\n",
       "      <td>$13.75</td>\n",
       "      <td>$20.63</td>\n",
       "      <td>2</td>\n",
       "      <td>$41.26</td>\n",
       "      <td>1.5</td>\n",
       "      <td>0.40</td>\n",
       "    </tr>\n",
       "    <tr>\n",
       "      <th>2</th>\n",
       "      <td>2016-02-11</td>\n",
       "      <td>2106</td>\n",
       "      <td>CEDAR FALLS</td>\n",
       "      <td>50613</td>\n",
       "      <td>7.0</td>\n",
       "      <td>Black Hawk</td>\n",
       "      <td>1011200.0</td>\n",
       "      <td>STRAIGHT BOURBON WHISKIES</td>\n",
       "      <td>65</td>\n",
       "      <td>19067</td>\n",
       "      <td>Jim Beam</td>\n",
       "      <td>1000</td>\n",
       "      <td>$12.59</td>\n",
       "      <td>$18.89</td>\n",
       "      <td>24</td>\n",
       "      <td>$453.36</td>\n",
       "      <td>24.0</td>\n",
       "      <td>6.34</td>\n",
       "    </tr>\n",
       "    <tr>\n",
       "      <th>3</th>\n",
       "      <td>2016-02-03</td>\n",
       "      <td>2501</td>\n",
       "      <td>AMES</td>\n",
       "      <td>50010</td>\n",
       "      <td>85.0</td>\n",
       "      <td>Story</td>\n",
       "      <td>1071100.0</td>\n",
       "      <td>AMERICAN COCKTAILS</td>\n",
       "      <td>395</td>\n",
       "      <td>59154</td>\n",
       "      <td>1800 Ultimate Margarita</td>\n",
       "      <td>1750</td>\n",
       "      <td>$9.50</td>\n",
       "      <td>$14.25</td>\n",
       "      <td>6</td>\n",
       "      <td>$85.50</td>\n",
       "      <td>10.5</td>\n",
       "      <td>2.77</td>\n",
       "    </tr>\n",
       "    <tr>\n",
       "      <th>4</th>\n",
       "      <td>2015-08-18</td>\n",
       "      <td>3654</td>\n",
       "      <td>BELMOND</td>\n",
       "      <td>50421</td>\n",
       "      <td>99.0</td>\n",
       "      <td>Wright</td>\n",
       "      <td>1031080.0</td>\n",
       "      <td>VODKA 80 PROOF</td>\n",
       "      <td>297</td>\n",
       "      <td>35918</td>\n",
       "      <td>Five O'clock Vodka</td>\n",
       "      <td>1750</td>\n",
       "      <td>$7.20</td>\n",
       "      <td>$10.80</td>\n",
       "      <td>12</td>\n",
       "      <td>$129.60</td>\n",
       "      <td>21.0</td>\n",
       "      <td>5.55</td>\n",
       "    </tr>\n",
       "  </tbody>\n",
       "</table>\n",
       "</div>"
      ],
      "text/plain": [
       "        Date  Store Number         City Zip Code  County Number      County  \\\n",
       "0 2015-11-04          3717       SUMNER    50674            9.0      Bremer   \n",
       "1 2016-03-02          2614    DAVENPORT    52807           82.0       Scott   \n",
       "2 2016-02-11          2106  CEDAR FALLS    50613            7.0  Black Hawk   \n",
       "3 2016-02-03          2501         AMES    50010           85.0       Story   \n",
       "4 2015-08-18          3654      BELMOND    50421           99.0      Wright   \n",
       "\n",
       "    Category              Category Name  Vendor Number  Item Number  \\\n",
       "0  1051100.0           APRICOT BRANDIES             55        54436   \n",
       "1  1011100.0           BLENDED WHISKIES            395        27605   \n",
       "2  1011200.0  STRAIGHT BOURBON WHISKIES             65        19067   \n",
       "3  1071100.0         AMERICAN COCKTAILS            395        59154   \n",
       "4  1031080.0             VODKA 80 PROOF            297        35918   \n",
       "\n",
       "            Item Description  Bottle Volume (ml) State Bottle Cost  \\\n",
       "0  Mr. Boston Apricot Brandy                 750             $4.50   \n",
       "1                    Tin Cup                 750            $13.75   \n",
       "2                   Jim Beam                1000            $12.59   \n",
       "3    1800 Ultimate Margarita                1750             $9.50   \n",
       "4         Five O'clock Vodka                1750             $7.20   \n",
       "\n",
       "  State Bottle Retail  Bottles Sold Sale (Dollars)  Volume Sold (Liters)  \\\n",
       "0               $6.75            12         $81.00                   9.0   \n",
       "1              $20.63             2         $41.26                   1.5   \n",
       "2              $18.89            24        $453.36                  24.0   \n",
       "3              $14.25             6         $85.50                  10.5   \n",
       "4              $10.80            12        $129.60                  21.0   \n",
       "\n",
       "   Volume Sold (Gallons)  \n",
       "0                   2.38  \n",
       "1                   0.40  \n",
       "2                   6.34  \n",
       "3                   2.77  \n",
       "4                   5.55  "
      ]
     },
     "execution_count": 3,
     "metadata": {},
     "output_type": "execute_result"
    }
   ],
   "source": [
    "# Load the data\n",
    "df = pd.read_csv(\"~/Desktop/Classes/dsi1_exercise_book/notebooks/Iowa_Liquor_sales_sample_10pct.csv\", parse_dates=['Date'])\n",
    "print df.columns\n",
    "df.head()"
   ]
  },
  {
   "cell_type": "code",
   "execution_count": 4,
   "metadata": {
    "collapsed": false
   },
   "outputs": [
    {
     "name": "stdout",
     "output_type": "stream",
     "text": [
      "<class 'pandas.core.frame.DataFrame'>\n",
      "RangeIndex: 270955 entries, 0 to 270954\n",
      "Data columns (total 18 columns):\n",
      "Date                     270955 non-null datetime64[ns]\n",
      "Store Number             270955 non-null int64\n",
      "City                     270955 non-null object\n",
      "Zip Code                 270955 non-null object\n",
      "County Number            269878 non-null float64\n",
      "County                   269878 non-null object\n",
      "Category                 270887 non-null float64\n",
      "Category Name            270323 non-null object\n",
      "Vendor Number            270955 non-null int64\n",
      "Item Number              270955 non-null int64\n",
      "Item Description         270955 non-null object\n",
      "Bottle Volume (ml)       270955 non-null int64\n",
      "State Bottle Cost        270955 non-null object\n",
      "State Bottle Retail      270955 non-null object\n",
      "Bottles Sold             270955 non-null int64\n",
      "Sale (Dollars)           270955 non-null object\n",
      "Volume Sold (Liters)     270955 non-null float64\n",
      "Volume Sold (Gallons)    270955 non-null float64\n",
      "dtypes: datetime64[ns](1), float64(4), int64(5), object(8)\n",
      "memory usage: 37.2+ MB\n"
     ]
    }
   ],
   "source": [
    "df.info()"
   ]
  },
  {
   "cell_type": "markdown",
   "metadata": {
    "focus": false,
    "id": "109daac1-bb6d-4646-b71c-b45640b1124b"
   },
   "source": [
    "## Clean the data\n",
    "\n",
    "Let's practice our data cleaning skills on the Project 3 dataset. If you don't remember how to do any of these tasks, look back at your work from the previous weeks or search the internet. There are many blog articles and Stack Overflow posts that cover these topics.\n",
    "\n",
    "You'll want to complete at least the following tasks:\n",
    "* Remove redundant columns\n",
    "* Remove \"$\" prices from characters and convert values to floats.\n",
    "* Convert dates to pandas datetime objects\n",
    "* Convert category floats to integers\n",
    "* Drop or fill in bad values"
   ]
  },
  {
   "cell_type": "code",
   "execution_count": 5,
   "metadata": {
    "collapsed": true,
    "focus": false,
    "id": "4b812f89-b211-4492-a86f-fcc6eb6eaa75"
   },
   "outputs": [],
   "source": [
    "# Remove redundant columns\n",
    "\n",
    "# I do not see any columns that are redundant"
   ]
  },
  {
   "cell_type": "code",
   "execution_count": 6,
   "metadata": {
    "collapsed": false,
    "focus": false,
    "id": "65a91dfe-b3b8-4e0e-a66a-ad156eb1758f"
   },
   "outputs": [],
   "source": [
    "# Remove $ from certain columns\n",
    "# u'State Bottle Cost', u'State Bottle Retail', u'Sale (Dollars)'"
   ]
  },
  {
   "cell_type": "markdown",
   "metadata": {},
   "source": [
    "#### Instuctor used a function he created in for this problem"
   ]
  },
  {
   "cell_type": "code",
   "execution_count": 7,
   "metadata": {
    "collapsed": true
   },
   "outputs": [],
   "source": [
    "df['State Bottle Cost'] = df['State Bottle Cost'].str.strip('$')\n",
    "df['State Bottle Retail'] = df['State Bottle Retail'].str.strip('$')\n",
    "df['Sale (Dollars)'] = df['Sale (Dollars)'].str.strip('$')\n",
    "\n",
    "# This is another option: df.convert_objects"
   ]
  },
  {
   "cell_type": "code",
   "execution_count": 8,
   "metadata": {
    "collapsed": false,
    "focus": false,
    "id": "8da1f2c8-cb92-42ba-b42d-d683631684f2"
   },
   "outputs": [],
   "source": [
    "# Convert dates\n",
    "\n",
    "#See pd.read_csv(.....\n"
   ]
  },
  {
   "cell_type": "code",
   "execution_count": 9,
   "metadata": {
    "collapsed": false,
    "focus": false,
    "id": "d6f4a9b9-6989-4952-b239-00d1f8c2d92b"
   },
   "outputs": [],
   "source": [
    "# Drop or replace bad values\n",
    "\n",
    "df.dropna(inplace=True)"
   ]
  },
  {
   "cell_type": "code",
   "execution_count": 10,
   "metadata": {
    "collapsed": false
   },
   "outputs": [
    {
     "data": {
      "text/plain": [
       "False    269073\n",
       "Name: Zip Code, dtype: int64"
      ]
     },
     "execution_count": 10,
     "metadata": {},
     "output_type": "execute_result"
    }
   ],
   "source": [
    "#The below became unecessary after I used head -10000 IowaLiquor.csv > tiny_iowa.csv\n",
    "\n",
    "(df['Zip Code'] == '712-2').value_counts()\n",
    "df = df[df['Zip Code'] != '712-2']\n",
    "(df['Zip Code'] == '712-2').value_counts()"
   ]
  },
  {
   "cell_type": "code",
   "execution_count": 18,
   "metadata": {
    "collapsed": true
   },
   "outputs": [],
   "source": [
    "df.drop('Volume Sold (Gallons)', axis=1, inplace=True)"
   ]
  },
  {
   "cell_type": "code",
   "execution_count": 19,
   "metadata": {
    "collapsed": false
   },
   "outputs": [
    {
     "data": {
      "text/plain": [
       "Date                    datetime64[ns]\n",
       "Store Number                     int64\n",
       "City                            object\n",
       "Zip Code                         int64\n",
       "County Number                    int64\n",
       "County                          object\n",
       "Category                       float64\n",
       "Category Name                   object\n",
       "Vendor Number                    int64\n",
       "Item Number                      int64\n",
       "Item Description                object\n",
       "Bottle Volume (ml)               int64\n",
       "State Bottle Cost              float64\n",
       "State Bottle Retail            float64\n",
       "Bottles Sold                     int64\n",
       "Sale (Dollars)                 float64\n",
       "Volume Sold (Liters)           float64\n",
       "dtype: object"
      ]
     },
     "execution_count": 19,
     "metadata": {},
     "output_type": "execute_result"
    }
   ],
   "source": [
    "df.dtypes"
   ]
  },
  {
   "cell_type": "markdown",
   "metadata": {
    "focus": true,
    "id": "1a587fcc-ffdd-4f2c-a5f2-5e95ded0d1de"
   },
   "source": [
    "## Filter the Data\n",
    "\n",
    "Some stores may have opened or closed in 2015. These data points will heavily skew our models, so we need to filter them out or find a way to deal with them.\n",
    "\n",
    "You'll need to provide a summary in your project report about these data points. You may also consider using the monthly sales in your model and including other information (number of months or days each store is open) in your data to handle these unusual cases.\n",
    "\n",
    "Let's record the first and last sales dates for each store. We'll save this information for later when we fit our models."
   ]
  },
  {
   "cell_type": "code",
   "execution_count": 20,
   "metadata": {
    "collapsed": false
   },
   "outputs": [],
   "source": [
    "df2015 = df[df.Date.between(datetime.datetime(2015,1,15),\n",
    "                            datetime.datetime(2015,12,15)\n",
    "    )]"
   ]
  },
  {
   "cell_type": "code",
   "execution_count": 29,
   "metadata": {
    "collapsed": false
   },
   "outputs": [],
   "source": [
    "stores_2015 = df2015.pivot_table(values='Date',\n",
    "                             index='Store Number',\n",
    "                             aggfunc={'Date': \n",
    "                                          {'First_Sale' : min, \n",
    "                                            'Last_Sale' : max\n",
    "                                          }\n",
    "                                      }\n",
    "                            )                 \n"
   ]
  },
  {
   "cell_type": "code",
   "execution_count": null,
   "metadata": {
    "collapsed": true
   },
   "outputs": [],
   "source": []
  },
  {
   "cell_type": "code",
   "execution_count": null,
   "metadata": {
    "collapsed": true
   },
   "outputs": [],
   "source": []
  },
  {
   "cell_type": "code",
   "execution_count": null,
   "metadata": {
    "collapsed": true
   },
   "outputs": [],
   "source": []
  },
  {
   "cell_type": "code",
   "execution_count": null,
   "metadata": {
    "collapsed": true
   },
   "outputs": [],
   "source": []
  },
  {
   "cell_type": "code",
   "execution_count": null,
   "metadata": {
    "collapsed": true
   },
   "outputs": [],
   "source": []
  },
  {
   "cell_type": "code",
   "execution_count": null,
   "metadata": {
    "collapsed": true
   },
   "outputs": [],
   "source": []
  },
  {
   "cell_type": "code",
   "execution_count": null,
   "metadata": {
    "collapsed": true
   },
   "outputs": [],
   "source": []
  },
  {
   "cell_type": "code",
   "execution_count": null,
   "metadata": {
    "collapsed": true
   },
   "outputs": [],
   "source": []
  },
  {
   "cell_type": "code",
   "execution_count": null,
   "metadata": {
    "collapsed": true
   },
   "outputs": [],
   "source": []
  },
  {
   "cell_type": "code",
   "execution_count": null,
   "metadata": {
    "collapsed": true
   },
   "outputs": [],
   "source": []
  },
  {
   "cell_type": "code",
   "execution_count": null,
   "metadata": {
    "collapsed": true
   },
   "outputs": [],
   "source": []
  },
  {
   "cell_type": "code",
   "execution_count": null,
   "metadata": {
    "collapsed": true
   },
   "outputs": [],
   "source": []
  },
  {
   "cell_type": "code",
   "execution_count": null,
   "metadata": {
    "collapsed": true
   },
   "outputs": [],
   "source": []
  },
  {
   "cell_type": "code",
   "execution_count": null,
   "metadata": {
    "collapsed": true
   },
   "outputs": [],
   "source": []
  },
  {
   "cell_type": "code",
   "execution_count": null,
   "metadata": {
    "collapsed": true
   },
   "outputs": [],
   "source": []
  },
  {
   "cell_type": "code",
   "execution_count": null,
   "metadata": {
    "collapsed": true
   },
   "outputs": [],
   "source": []
  },
  {
   "cell_type": "code",
   "execution_count": null,
   "metadata": {
    "collapsed": true
   },
   "outputs": [],
   "source": []
  },
  {
   "cell_type": "code",
   "execution_count": null,
   "metadata": {
    "collapsed": true
   },
   "outputs": [],
   "source": []
  },
  {
   "cell_type": "code",
   "execution_count": null,
   "metadata": {
    "collapsed": true
   },
   "outputs": [],
   "source": []
  },
  {
   "cell_type": "markdown",
   "metadata": {},
   "source": [
    "# My old work"
   ]
  },
  {
   "cell_type": "markdown",
   "metadata": {},
   "source": [
    "#### YOU CAN PIVOT WITH TWO FUNCTIONS ----- I.E. MIN AND MAX"
   ]
  },
  {
   "cell_type": "code",
   "execution_count": 411,
   "metadata": {
    "collapsed": false
   },
   "outputs": [],
   "source": [
    "df2015 = df[(df.Date >= datetime.datetime(2015,1,1)) & (df.Date < datetime.datetime(2016,1,1))]"
   ]
  },
  {
   "cell_type": "code",
   "execution_count": 412,
   "metadata": {
    "collapsed": true,
    "focus": false,
    "id": "4e3908e8-a791-40a5-90d9-1d0802247ed6"
   },
   "outputs": [],
   "source": [
    "# Determine which stores were open all of 2015\n",
    "# Find the first and last sales date.\n",
    "# Filter out stores that opened or closed throughout the year\n",
    "# You may want to save this step until you start modelling"
   ]
  },
  {
   "cell_type": "code",
   "execution_count": 413,
   "metadata": {
    "collapsed": false
   },
   "outputs": [
    {
     "name": "stdout",
     "output_type": "stream",
     "text": [
      "1293\n",
      "1293\n"
     ]
    }
   ],
   "source": [
    "#Create max values\n",
    "agg_on_store_df_max = df.pivot_table(index='Store Number', aggfunc='max')\n",
    "agg_on_store_df_max['Date_Max'] = agg_on_store_df_max.Date\n",
    "\n",
    "#Create min values\n",
    "agg_on_store_df_min = df.pivot_table(index='Store Number', aggfunc='min')\n",
    "agg_on_store_df_min['Date_Min'] = agg_on_store_df_min.Date\n",
    "\n",
    "#Create table with both min and max values\n",
    "max_date_df = agg_on_store_df_max[['Date_Max']]\n",
    "min_date_df = agg_on_store_df_min[['Date_Min']]\n",
    "\n",
    "date_range_df = max_date_df.merge(min_date_df, how='outer', right_index=True, left_index=True)\n",
    "\n",
    "#Create filter (i.e. new table as a filter)\n",
    "stores_in_op_df = date_range_df[(date_range_df.Date_Min < datetime.datetime(2015,1,15))] \n",
    "stores_in_op_df = date_range_df[(date_range_df.Date_Max > datetime.datetime(2015,12,16))]\n",
    "\n",
    "#Apply filter to original sales df to filter out stores that did not make sales at the beginning or end of the year\n",
    "df_filtered = df.merge(stores_in_op_df, left_on='Store Number', right_index=True, how='right')\n",
    "\n",
    "#Quality test\n",
    "print stores_in_op_df.index.nunique()\n",
    "print df_filtered['Store Number'].nunique()"
   ]
  },
  {
   "cell_type": "code",
   "execution_count": 414,
   "metadata": {
    "collapsed": false
   },
   "outputs": [
    {
     "data": {
      "text/plain": [
       "265778"
      ]
     },
     "execution_count": 414,
     "metadata": {},
     "output_type": "execute_result"
    }
   ],
   "source": [
    "df_filtered.index.nunique()"
   ]
  },
  {
   "cell_type": "markdown",
   "metadata": {
    "focus": false,
    "id": "9d4909a9-1295-4be1-bcf5-026c36c707a7"
   },
   "source": [
    "## Compute New Columns and Tables\n",
    "\n",
    "Since we're trying to predict sales and/or profits, we'll want to compute some intermediate data. There are a lot of ways to do thisand good use of pandas is crucial. For example, for each transaction we may want to know:\n",
    "* margin, retail cost minus bottle cost\n",
    "* price per bottle\n",
    "* price per liter\n",
    "\n",
    "We'll need to make a new dataframe that indexes quantities by store:\n",
    "* sales per store for all of 2015\n",
    "* sales per store for Q1 2015\n",
    "* sales per store for Q1 2016\n",
    "* total volumes sold\n",
    "* mean transaction revenue, gross margin, price per bottle, price per liter, etc.\n",
    "* average sales per day\n",
    "* number of days open\n",
    "\n",
    "Make sure to retain other variables that we'll want to use to build our models, such as zip code, county number, city, etc. We recommend that you spend some time thinking about the model you may want to fit and computing enough of the suggested quantities to give you a few options.\n",
    "\n",
    "Bonus tasks:\n",
    "* Restrict your attention to stores that were open for all of 2015 and Q1 2016. Stores that opened or closed in 2015 will introduce outliers into your data.\n",
    "* For each transaction we have the item category. You may be able to determine the store type (primarily wine, liquor, all types of alcohol, etc.) by the most common transaction category for each store. This could be a useful categorical variable for modelling. "
   ]
  },
  {
   "cell_type": "code",
   "execution_count": 415,
   "metadata": {
    "collapsed": false,
    "focus": false,
    "id": "a202ef16-b0d9-48e0-bed5-7d7b5be65f9f"
   },
   "outputs": [],
   "source": [
    "# Margin, Price per bottle, and Price per liter\n",
    "df_filtered['Price_per_bottle'] =  df_filtered['Sale (Dollars)'] / df_filtered['Bottles Sold']\n",
    "df_filtered['Price_per_liter'] = df_filtered['Sale (Dollars)'] / df_filtered['Volume Sold (Liters)']\n",
    "df_filtered['Margin'] = df_filtered['Price_per_bottle'] - df_filtered['State Bottle Cost']"
   ]
  },
  {
   "cell_type": "code",
   "execution_count": 416,
   "metadata": {
    "collapsed": false
   },
   "outputs": [],
   "source": [
    "#Build filter for Q1 in 2015 and 2016 \n",
    "df_filtered['Q1_2015_True'] = df_filtered['Date'].between(datetime.datetime(2015,1,1), datetime.datetime(2015,2,28))\n",
    "df_filtered['Q1_2016_True'] = df_filtered['Date'].between(datetime.datetime(2016,1,1), datetime.datetime(2016,2,28))\n",
    "\n",
    "#Cheap dirty way to build this into the sales dataframe below\n",
    "    # 1. Filter out False values\n",
    "    # 2. Pivot table on Store Number as primary keys\n",
    "    # 3. Merge with salse dataframe\n",
    "    \n",
    "#However, there may be a more pythonic or effecient option... what is it?\n"
   ]
  },
  {
   "cell_type": "code",
   "execution_count": 417,
   "metadata": {
    "collapsed": false,
    "scrolled": true
   },
   "outputs": [
    {
     "ename": "TypeError",
     "evalue": "'numpy.bool_' object is not iterable",
     "output_type": "error",
     "traceback": [
      "\u001b[0;31m---------------------------------------------------------------------------\u001b[0m",
      "\u001b[0;31mTypeError\u001b[0m                                 Traceback (most recent call last)",
      "\u001b[0;32m<ipython-input-417-6e123ba5ec55>\u001b[0m in \u001b[0;36m<module>\u001b[0;34m()\u001b[0m\n\u001b[1;32m      6\u001b[0m             \u001b[0;32mreturn\u001b[0m \u001b[0;36m0\u001b[0m\u001b[0;34m\u001b[0m\u001b[0m\n\u001b[1;32m      7\u001b[0m \u001b[0;34m\u001b[0m\u001b[0m\n\u001b[0;32m----> 8\u001b[0;31m \u001b[0mdf_filtered\u001b[0m\u001b[0;34m[\u001b[0m\u001b[0;34m'Q1_2015_Sales'\u001b[0m\u001b[0;34m]\u001b[0m \u001b[0;34m=\u001b[0m \u001b[0mdf_filtered\u001b[0m\u001b[0;34m[\u001b[0m\u001b[0;34m'Q1_2015_True'\u001b[0m\u001b[0;34m]\u001b[0m\u001b[0;34m.\u001b[0m\u001b[0mmap\u001b[0m\u001b[0;34m(\u001b[0m\u001b[0mQ1_2015_True_Func\u001b[0m\u001b[0;34m)\u001b[0m\u001b[0;34m\u001b[0m\u001b[0m\n\u001b[0m",
      "\u001b[0;32m/Users/allenbyron/anaconda/lib/python2.7/site-packages/pandas/core/series.pyc\u001b[0m in \u001b[0;36mmap\u001b[0;34m(self, arg, na_action)\u001b[0m\n\u001b[1;32m   2119\u001b[0m                                      index=self.index).__finalize__(self)\n\u001b[1;32m   2120\u001b[0m         \u001b[0;32melse\u001b[0m\u001b[0;34m:\u001b[0m\u001b[0;34m\u001b[0m\u001b[0m\n\u001b[0;32m-> 2121\u001b[0;31m             \u001b[0mmapped\u001b[0m \u001b[0;34m=\u001b[0m \u001b[0mmap_f\u001b[0m\u001b[0;34m(\u001b[0m\u001b[0mvalues\u001b[0m\u001b[0;34m,\u001b[0m \u001b[0marg\u001b[0m\u001b[0;34m)\u001b[0m\u001b[0;34m\u001b[0m\u001b[0m\n\u001b[0m\u001b[1;32m   2122\u001b[0m             return self._constructor(mapped,\n\u001b[1;32m   2123\u001b[0m                                      index=self.index).__finalize__(self)\n",
      "\u001b[0;32mpandas/src/inference.pyx\u001b[0m in \u001b[0;36mpandas.lib.map_infer (pandas/lib.c:63043)\u001b[0;34m()\u001b[0m\n",
      "\u001b[0;32m<ipython-input-417-6e123ba5ec55>\u001b[0m in \u001b[0;36mQ1_2015_True_Func\u001b[0;34m(col)\u001b[0m\n\u001b[1;32m      1\u001b[0m \u001b[0;32mdef\u001b[0m \u001b[0mQ1_2015_True_Func\u001b[0m\u001b[0;34m(\u001b[0m\u001b[0mcol\u001b[0m\u001b[0;34m)\u001b[0m\u001b[0;34m:\u001b[0m\u001b[0;34m\u001b[0m\u001b[0m\n\u001b[0;32m----> 2\u001b[0;31m     \u001b[0;32mfor\u001b[0m \u001b[0mx\u001b[0m \u001b[0;32min\u001b[0m \u001b[0mcol\u001b[0m\u001b[0;34m:\u001b[0m\u001b[0;34m\u001b[0m\u001b[0m\n\u001b[0m\u001b[1;32m      3\u001b[0m         \u001b[0;32mif\u001b[0m \u001b[0mx\u001b[0m \u001b[0;34m==\u001b[0m \u001b[0mTrue\u001b[0m\u001b[0;34m:\u001b[0m\u001b[0;34m\u001b[0m\u001b[0m\n\u001b[1;32m      4\u001b[0m             \u001b[0;32mreturn\u001b[0m \u001b[0mdf_filtered\u001b[0m\u001b[0;34m[\u001b[0m\u001b[0;34m'Volume Sold (Liters)'\u001b[0m\u001b[0;34m]\u001b[0m\u001b[0;34m\u001b[0m\u001b[0m\n\u001b[1;32m      5\u001b[0m         \u001b[0;32mif\u001b[0m \u001b[0mx\u001b[0m \u001b[0;34m==\u001b[0m \u001b[0mFalse\u001b[0m\u001b[0;34m:\u001b[0m\u001b[0;34m\u001b[0m\u001b[0m\n",
      "\u001b[0;31mTypeError\u001b[0m: 'numpy.bool_' object is not iterable"
     ]
    }
   ],
   "source": [
    "def Q1_2015_True_Func(col):\n",
    "    for x in col:\n",
    "        if x == True:\n",
    "            return df_filtered['Volume Sold (Liters)']\n",
    "        if x == False:\n",
    "            return 0\n",
    "        \n",
    "df_filtered['Q1_2015_Sales'] = df_filtered['Q1_2015_True'].map(Q1_2015_True_Func)"
   ]
  },
  {
   "cell_type": "code",
   "execution_count": 418,
   "metadata": {
    "collapsed": false
   },
   "outputs": [],
   "source": [
    "df_Q1_2015 = df_filtered[df_filtered['Q1_2015_True'] == True]\n",
    "df_Q1_2016 = df_filtered[df_filtered['Q1_2016_True'] == True]"
   ]
  },
  {
   "cell_type": "code",
   "execution_count": 419,
   "metadata": {
    "collapsed": true
   },
   "outputs": [],
   "source": [
    "df_Q1_2015_piv = df_Q1_2015.pivot_table(index='Store Number', aggfunc='sum')\n",
    "df_Q1_2016_piv = df_Q1_2016.pivot_table(index='Store Number', aggfunc='sum')"
   ]
  },
  {
   "cell_type": "code",
   "execution_count": 420,
   "metadata": {
    "collapsed": true
   },
   "outputs": [],
   "source": [
    "df_Q1_2015_piv['q1_2015_sales'] = df_Q1_2015_piv['Sale (Dollars)']\n",
    "df_Q1_2016_piv['q1_2016_sales'] = df_Q1_2016_piv['Sale (Dollars)']"
   ]
  },
  {
   "cell_type": "code",
   "execution_count": 427,
   "metadata": {
    "collapsed": false
   },
   "outputs": [],
   "source": [
    "df_Q1_2015_sales = df_Q1_2015_piv[['q1_2015_sales']]\n",
    "df_Q1_2016_sales =df_Q1_2016_piv[['q1_2016_sales']]"
   ]
  },
  {
   "cell_type": "code",
   "execution_count": 453,
   "metadata": {
    "collapsed": false
   },
   "outputs": [],
   "source": [
    "# Sales per store, 2015\n",
    "# Filter by our start and end dates\n",
    "sales = df_filtered\n",
    "\n",
    "# Group by store name\n",
    "sales = sales.groupby(by=[\"Store Number\"], as_index=False)\n",
    "\n",
    "# Compute sums, means\n",
    "sales = sales.agg({\"Sale (Dollars)\": [np.sum, np.mean],\n",
    "                   \"Volume Sold (Liters)\": [np.sum, np.mean],\n",
    "                   \"Margin\": np.mean,\n",
    "                   \"Price_per_liter\": np.mean,\n",
    "                   \"Zip Code\": lambda x: x.iloc[0], # just extract once, should be the same\n",
    "                   \"City\": lambda x: x.iloc[0],\n",
    "                   \"County Number\": lambda x: x.iloc[0] #,\n",
    "                   #\"Date\": sales.Date_Max - sales.Date_Min,\n",
    "                  }\n",
    "        )\n"
   ]
  },
  {
   "cell_type": "code",
   "execution_count": 454,
   "metadata": {
    "collapsed": false
   },
   "outputs": [
    {
     "data": {
      "text/html": [
       "<div>\n",
       "<table border=\"1\" class=\"dataframe\">\n",
       "  <thead>\n",
       "    <tr style=\"text-align: right;\">\n",
       "      <th></th>\n",
       "      <th>store_num</th>\n",
       "      <th>city</th>\n",
       "      <th>sale_sum</th>\n",
       "      <th>sale_mean</th>\n",
       "      <th>county_num</th>\n",
       "      <th>zip_code</th>\n",
       "      <th>liters_sold_sum</th>\n",
       "      <th>liters_sold_mean</th>\n",
       "      <th>price_per_liter_mean</th>\n",
       "      <th>margin_mean</th>\n",
       "    </tr>\n",
       "  </thead>\n",
       "  <tbody>\n",
       "    <tr>\n",
       "      <th>0</th>\n",
       "      <td>2106</td>\n",
       "      <td>CEDAR FALLS</td>\n",
       "      <td>176517.45</td>\n",
       "      <td>270.732285</td>\n",
       "      <td>7</td>\n",
       "      <td>50613</td>\n",
       "      <td>11836.10</td>\n",
       "      <td>18.153528</td>\n",
       "      <td>17.869110</td>\n",
       "      <td>5.167822</td>\n",
       "    </tr>\n",
       "    <tr>\n",
       "      <th>1</th>\n",
       "      <td>2113</td>\n",
       "      <td>GOWRIE</td>\n",
       "      <td>11376.12</td>\n",
       "      <td>61.826739</td>\n",
       "      <td>94</td>\n",
       "      <td>50543</td>\n",
       "      <td>836.85</td>\n",
       "      <td>4.548098</td>\n",
       "      <td>18.301651</td>\n",
       "      <td>5.429565</td>\n",
       "    </tr>\n",
       "    <tr>\n",
       "      <th>2</th>\n",
       "      <td>2130</td>\n",
       "      <td>WATERLOO</td>\n",
       "      <td>139440.02</td>\n",
       "      <td>274.488228</td>\n",
       "      <td>7</td>\n",
       "      <td>50703</td>\n",
       "      <td>8436.27</td>\n",
       "      <td>16.606831</td>\n",
       "      <td>16.963739</td>\n",
       "      <td>5.008799</td>\n",
       "    </tr>\n",
       "    <tr>\n",
       "      <th>3</th>\n",
       "      <td>2152</td>\n",
       "      <td>ROCKWELL</td>\n",
       "      <td>8625.74</td>\n",
       "      <td>53.576025</td>\n",
       "      <td>17</td>\n",
       "      <td>50469</td>\n",
       "      <td>720.87</td>\n",
       "      <td>4.477453</td>\n",
       "      <td>12.954562</td>\n",
       "      <td>4.302484</td>\n",
       "    </tr>\n",
       "    <tr>\n",
       "      <th>4</th>\n",
       "      <td>2178</td>\n",
       "      <td>WAUKON</td>\n",
       "      <td>29912.68</td>\n",
       "      <td>101.398915</td>\n",
       "      <td>3</td>\n",
       "      <td>52172</td>\n",
       "      <td>2437.92</td>\n",
       "      <td>8.264136</td>\n",
       "      <td>15.866688</td>\n",
       "      <td>4.825627</td>\n",
       "    </tr>\n",
       "  </tbody>\n",
       "</table>\n",
       "</div>"
      ],
      "text/plain": [
       "   store_num         city   sale_sum   sale_mean  county_num  zip_code  \\\n",
       "0       2106  CEDAR FALLS  176517.45  270.732285           7     50613   \n",
       "1       2113       GOWRIE   11376.12   61.826739          94     50543   \n",
       "2       2130     WATERLOO  139440.02  274.488228           7     50703   \n",
       "3       2152     ROCKWELL    8625.74   53.576025          17     50469   \n",
       "4       2178       WAUKON   29912.68  101.398915           3     52172   \n",
       "\n",
       "   liters_sold_sum  liters_sold_mean  price_per_liter_mean  margin_mean  \n",
       "0         11836.10         18.153528             17.869110     5.167822  \n",
       "1           836.85          4.548098             18.301651     5.429565  \n",
       "2          8436.27         16.606831             16.963739     5.008799  \n",
       "3           720.87          4.477453             12.954562     4.302484  \n",
       "4          2437.92          8.264136             15.866688     4.825627  "
      ]
     },
     "execution_count": 454,
     "metadata": {},
     "output_type": "execute_result"
    }
   ],
   "source": [
    "\n",
    "# Collapse the column indices WOULD BE GREAT TO BREAK THIS DOWN IN CLASS\n",
    "sales.columns = [' '.join(col).strip() for col in sales.columns.values]\n",
    "\n",
    "# Rename columns\n",
    "sales.columns = ['store_num', \n",
    "                 'city', \n",
    "                 'sale_sum', \n",
    "                 'sale_mean', \n",
    "                 'county_num', \n",
    "                 'zip_code', \n",
    "                 'liters_sold_sum', \n",
    "                 'liters_sold_mean', \n",
    "                 'price_per_liter_mean', \n",
    "                 'margin_mean' #,\n",
    "                 #'days_open'\n",
    "]\n",
    "\n",
    "# Quick check\n",
    "sales.head()"
   ]
  },
  {
   "cell_type": "code",
   "execution_count": 455,
   "metadata": {
    "collapsed": false,
    "focus": false,
    "id": "f050cf91-295e-4992-92bb-061b1f335b58"
   },
   "outputs": [
    {
     "data": {
      "text/html": [
       "<div>\n",
       "<table border=\"1\" class=\"dataframe\">\n",
       "  <thead>\n",
       "    <tr style=\"text-align: right;\">\n",
       "      <th></th>\n",
       "      <th>store_num</th>\n",
       "      <th>city</th>\n",
       "      <th>sale_sum</th>\n",
       "      <th>sale_mean</th>\n",
       "      <th>county_num</th>\n",
       "      <th>zip_code</th>\n",
       "      <th>liters_sold_sum</th>\n",
       "      <th>liters_sold_mean</th>\n",
       "      <th>price_per_liter_mean</th>\n",
       "      <th>margin_mean</th>\n",
       "      <th>q1_2015_sales</th>\n",
       "      <th>q1_2016_sales</th>\n",
       "    </tr>\n",
       "  </thead>\n",
       "  <tbody>\n",
       "    <tr>\n",
       "      <th>0</th>\n",
       "      <td>2106</td>\n",
       "      <td>CEDAR FALLS</td>\n",
       "      <td>176517.45</td>\n",
       "      <td>270.732285</td>\n",
       "      <td>7</td>\n",
       "      <td>50613</td>\n",
       "      <td>11836.10</td>\n",
       "      <td>18.153528</td>\n",
       "      <td>17.869110</td>\n",
       "      <td>5.167822</td>\n",
       "      <td>26440.94</td>\n",
       "      <td>20525.78</td>\n",
       "    </tr>\n",
       "    <tr>\n",
       "      <th>1</th>\n",
       "      <td>2113</td>\n",
       "      <td>GOWRIE</td>\n",
       "      <td>11376.12</td>\n",
       "      <td>61.826739</td>\n",
       "      <td>94</td>\n",
       "      <td>50543</td>\n",
       "      <td>836.85</td>\n",
       "      <td>4.548098</td>\n",
       "      <td>18.301651</td>\n",
       "      <td>5.429565</td>\n",
       "      <td>1527.27</td>\n",
       "      <td>1620.10</td>\n",
       "    </tr>\n",
       "    <tr>\n",
       "      <th>2</th>\n",
       "      <td>2130</td>\n",
       "      <td>WATERLOO</td>\n",
       "      <td>139440.02</td>\n",
       "      <td>274.488228</td>\n",
       "      <td>7</td>\n",
       "      <td>50703</td>\n",
       "      <td>8436.27</td>\n",
       "      <td>16.606831</td>\n",
       "      <td>16.963739</td>\n",
       "      <td>5.008799</td>\n",
       "      <td>16380.74</td>\n",
       "      <td>18209.17</td>\n",
       "    </tr>\n",
       "    <tr>\n",
       "      <th>3</th>\n",
       "      <td>2152</td>\n",
       "      <td>ROCKWELL</td>\n",
       "      <td>8625.74</td>\n",
       "      <td>53.576025</td>\n",
       "      <td>17</td>\n",
       "      <td>50469</td>\n",
       "      <td>720.87</td>\n",
       "      <td>4.477453</td>\n",
       "      <td>12.954562</td>\n",
       "      <td>4.302484</td>\n",
       "      <td>1686.31</td>\n",
       "      <td>904.66</td>\n",
       "    </tr>\n",
       "    <tr>\n",
       "      <th>4</th>\n",
       "      <td>2178</td>\n",
       "      <td>WAUKON</td>\n",
       "      <td>29912.68</td>\n",
       "      <td>101.398915</td>\n",
       "      <td>3</td>\n",
       "      <td>52172</td>\n",
       "      <td>2437.92</td>\n",
       "      <td>8.264136</td>\n",
       "      <td>15.866688</td>\n",
       "      <td>4.825627</td>\n",
       "      <td>3679.17</td>\n",
       "      <td>3785.19</td>\n",
       "    </tr>\n",
       "  </tbody>\n",
       "</table>\n",
       "</div>"
      ],
      "text/plain": [
       "   store_num         city   sale_sum   sale_mean  county_num  zip_code  \\\n",
       "0       2106  CEDAR FALLS  176517.45  270.732285           7     50613   \n",
       "1       2113       GOWRIE   11376.12   61.826739          94     50543   \n",
       "2       2130     WATERLOO  139440.02  274.488228           7     50703   \n",
       "3       2152     ROCKWELL    8625.74   53.576025          17     50469   \n",
       "4       2178       WAUKON   29912.68  101.398915           3     52172   \n",
       "\n",
       "   liters_sold_sum  liters_sold_mean  price_per_liter_mean  margin_mean  \\\n",
       "0         11836.10         18.153528             17.869110     5.167822   \n",
       "1           836.85          4.548098             18.301651     5.429565   \n",
       "2          8436.27         16.606831             16.963739     5.008799   \n",
       "3           720.87          4.477453             12.954562     4.302484   \n",
       "4          2437.92          8.264136             15.866688     4.825627   \n",
       "\n",
       "   q1_2015_sales  q1_2016_sales  \n",
       "0       26440.94       20525.78  \n",
       "1        1527.27        1620.10  \n",
       "2       16380.74       18209.17  \n",
       "3        1686.31         904.66  \n",
       "4        3679.17        3785.19  "
      ]
     },
     "execution_count": 455,
     "metadata": {},
     "output_type": "execute_result"
    }
   ],
   "source": [
    "# sales for all of 2015\n",
    "# Sales 2015  Q1\n",
    "# Sales 2016 Q1\n",
    "\n",
    "sales = sales.merge(df_Q1_2015_sales, how='left', left_on='store_num', right_index=True)\n",
    "sales = sales.merge(df_Q1_2016_sales, how='left', left_on='store_num', right_index=True)\n",
    "sales.head()\n"
   ]
  },
  {
   "cell_type": "markdown",
   "metadata": {
    "focus": false,
    "id": "09b1e858-47a1-463d-8e6b-7404b7d2f192"
   },
   "source": [
    "Proceed with any calculations that you need for your models, such as grouping\n",
    "sales by zip code, most common vendor number per store, etc. Once you have finished adding columns, be sure to save the dataframe."
   ]
  },
  {
   "cell_type": "code",
   "execution_count": 456,
   "metadata": {
    "collapsed": true,
    "focus": false,
    "id": "4507c673-76d5-40b8-bc95-c92209089d6c"
   },
   "outputs": [],
   "source": [
    "# Compute more things\n",
    "# ..."
   ]
  },
  {
   "cell_type": "code",
   "execution_count": 457,
   "metadata": {
    "collapsed": true,
    "focus": false,
    "id": "9f503de5-0cb6-473b-adab-c690cf0c0839"
   },
   "outputs": [],
   "source": [
    "# Save this dataframe\n",
    "\n",
    "\n",
    "#DON'T QUITE UNDERSTAND WHAT THEY ARE SAYING BELOW WOULD BE GOOD TO GO OVER IN CLASS:\n",
    "\n",
    "# Let's add the dates computed above to this data.\n",
    "#sales[\"First Date\"] = dates['Date amin']\n",
    "#sales[\"Last Date\"] = dates['Date amax']\n",
    "\n",
    "\n",
    "\n",
    "sales.to_csv(\"sales_post_33.csv\")"
   ]
  },
  {
   "cell_type": "markdown",
   "metadata": {},
   "source": [
    "# Correlation & Analysis"
   ]
  },
  {
   "cell_type": "code",
   "execution_count": 458,
   "metadata": {
    "collapsed": true
   },
   "outputs": [],
   "source": [
    "import seaborn as sb"
   ]
  },
  {
   "cell_type": "code",
   "execution_count": 459,
   "metadata": {
    "collapsed": false
   },
   "outputs": [
    {
     "data": {
      "text/html": [
       "<div>\n",
       "<table border=\"1\" class=\"dataframe\">\n",
       "  <thead>\n",
       "    <tr style=\"text-align: right;\">\n",
       "      <th></th>\n",
       "      <th>store_num</th>\n",
       "      <th>sale_sum</th>\n",
       "      <th>sale_mean</th>\n",
       "      <th>county_num</th>\n",
       "      <th>zip_code</th>\n",
       "      <th>liters_sold_sum</th>\n",
       "      <th>liters_sold_mean</th>\n",
       "      <th>price_per_liter_mean</th>\n",
       "      <th>margin_mean</th>\n",
       "      <th>q1_2015_sales</th>\n",
       "      <th>q1_2016_sales</th>\n",
       "    </tr>\n",
       "  </thead>\n",
       "  <tbody>\n",
       "    <tr>\n",
       "      <th>store_num</th>\n",
       "      <td>1.000000</td>\n",
       "      <td>-0.352603</td>\n",
       "      <td>0.040059</td>\n",
       "      <td>-0.003058</td>\n",
       "      <td>0.019740</td>\n",
       "      <td>-0.387902</td>\n",
       "      <td>-0.042921</td>\n",
       "      <td>0.110381</td>\n",
       "      <td>-0.241380</td>\n",
       "      <td>-0.341074</td>\n",
       "      <td>-0.338123</td>\n",
       "    </tr>\n",
       "    <tr>\n",
       "      <th>sale_sum</th>\n",
       "      <td>-0.352603</td>\n",
       "      <td>1.000000</td>\n",
       "      <td>0.414805</td>\n",
       "      <td>0.046193</td>\n",
       "      <td>0.014466</td>\n",
       "      <td>0.992820</td>\n",
       "      <td>0.413205</td>\n",
       "      <td>0.139586</td>\n",
       "      <td>0.288144</td>\n",
       "      <td>0.969747</td>\n",
       "      <td>0.965640</td>\n",
       "    </tr>\n",
       "    <tr>\n",
       "      <th>sale_mean</th>\n",
       "      <td>0.040059</td>\n",
       "      <td>0.414805</td>\n",
       "      <td>1.000000</td>\n",
       "      <td>0.009210</td>\n",
       "      <td>0.002927</td>\n",
       "      <td>0.406999</td>\n",
       "      <td>0.915174</td>\n",
       "      <td>0.168860</td>\n",
       "      <td>0.402959</td>\n",
       "      <td>0.366932</td>\n",
       "      <td>0.413909</td>\n",
       "    </tr>\n",
       "    <tr>\n",
       "      <th>county_num</th>\n",
       "      <td>-0.003058</td>\n",
       "      <td>0.046193</td>\n",
       "      <td>0.009210</td>\n",
       "      <td>1.000000</td>\n",
       "      <td>-0.029030</td>\n",
       "      <td>0.038937</td>\n",
       "      <td>-0.010227</td>\n",
       "      <td>0.097303</td>\n",
       "      <td>0.022503</td>\n",
       "      <td>0.041602</td>\n",
       "      <td>0.046829</td>\n",
       "    </tr>\n",
       "    <tr>\n",
       "      <th>zip_code</th>\n",
       "      <td>0.019740</td>\n",
       "      <td>0.014466</td>\n",
       "      <td>0.002927</td>\n",
       "      <td>-0.029030</td>\n",
       "      <td>1.000000</td>\n",
       "      <td>0.016269</td>\n",
       "      <td>-0.032303</td>\n",
       "      <td>0.061694</td>\n",
       "      <td>-0.022567</td>\n",
       "      <td>0.008721</td>\n",
       "      <td>0.004935</td>\n",
       "    </tr>\n",
       "    <tr>\n",
       "      <th>liters_sold_sum</th>\n",
       "      <td>-0.387902</td>\n",
       "      <td>0.992820</td>\n",
       "      <td>0.406999</td>\n",
       "      <td>0.038937</td>\n",
       "      <td>0.016269</td>\n",
       "      <td>1.000000</td>\n",
       "      <td>0.432559</td>\n",
       "      <td>0.097926</td>\n",
       "      <td>0.280840</td>\n",
       "      <td>0.957141</td>\n",
       "      <td>0.958987</td>\n",
       "    </tr>\n",
       "    <tr>\n",
       "      <th>liters_sold_mean</th>\n",
       "      <td>-0.042921</td>\n",
       "      <td>0.413205</td>\n",
       "      <td>0.915174</td>\n",
       "      <td>-0.010227</td>\n",
       "      <td>-0.032303</td>\n",
       "      <td>0.432559</td>\n",
       "      <td>1.000000</td>\n",
       "      <td>-0.085058</td>\n",
       "      <td>0.284317</td>\n",
       "      <td>0.359826</td>\n",
       "      <td>0.403400</td>\n",
       "    </tr>\n",
       "    <tr>\n",
       "      <th>price_per_liter_mean</th>\n",
       "      <td>0.110381</td>\n",
       "      <td>0.139586</td>\n",
       "      <td>0.168860</td>\n",
       "      <td>0.097303</td>\n",
       "      <td>0.061694</td>\n",
       "      <td>0.097926</td>\n",
       "      <td>-0.085058</td>\n",
       "      <td>1.000000</td>\n",
       "      <td>0.409072</td>\n",
       "      <td>0.154554</td>\n",
       "      <td>0.127120</td>\n",
       "    </tr>\n",
       "    <tr>\n",
       "      <th>margin_mean</th>\n",
       "      <td>-0.241380</td>\n",
       "      <td>0.288144</td>\n",
       "      <td>0.402959</td>\n",
       "      <td>0.022503</td>\n",
       "      <td>-0.022567</td>\n",
       "      <td>0.280840</td>\n",
       "      <td>0.284317</td>\n",
       "      <td>0.409072</td>\n",
       "      <td>1.000000</td>\n",
       "      <td>0.282861</td>\n",
       "      <td>0.282284</td>\n",
       "    </tr>\n",
       "    <tr>\n",
       "      <th>q1_2015_sales</th>\n",
       "      <td>-0.341074</td>\n",
       "      <td>0.969747</td>\n",
       "      <td>0.366932</td>\n",
       "      <td>0.041602</td>\n",
       "      <td>0.008721</td>\n",
       "      <td>0.957141</td>\n",
       "      <td>0.359826</td>\n",
       "      <td>0.154554</td>\n",
       "      <td>0.282861</td>\n",
       "      <td>1.000000</td>\n",
       "      <td>0.933218</td>\n",
       "    </tr>\n",
       "    <tr>\n",
       "      <th>q1_2016_sales</th>\n",
       "      <td>-0.338123</td>\n",
       "      <td>0.965640</td>\n",
       "      <td>0.413909</td>\n",
       "      <td>0.046829</td>\n",
       "      <td>0.004935</td>\n",
       "      <td>0.958987</td>\n",
       "      <td>0.403400</td>\n",
       "      <td>0.127120</td>\n",
       "      <td>0.282284</td>\n",
       "      <td>0.933218</td>\n",
       "      <td>1.000000</td>\n",
       "    </tr>\n",
       "  </tbody>\n",
       "</table>\n",
       "</div>"
      ],
      "text/plain": [
       "                      store_num  sale_sum  sale_mean  county_num  zip_code  \\\n",
       "store_num              1.000000 -0.352603   0.040059   -0.003058  0.019740   \n",
       "sale_sum              -0.352603  1.000000   0.414805    0.046193  0.014466   \n",
       "sale_mean              0.040059  0.414805   1.000000    0.009210  0.002927   \n",
       "county_num            -0.003058  0.046193   0.009210    1.000000 -0.029030   \n",
       "zip_code               0.019740  0.014466   0.002927   -0.029030  1.000000   \n",
       "liters_sold_sum       -0.387902  0.992820   0.406999    0.038937  0.016269   \n",
       "liters_sold_mean      -0.042921  0.413205   0.915174   -0.010227 -0.032303   \n",
       "price_per_liter_mean   0.110381  0.139586   0.168860    0.097303  0.061694   \n",
       "margin_mean           -0.241380  0.288144   0.402959    0.022503 -0.022567   \n",
       "q1_2015_sales         -0.341074  0.969747   0.366932    0.041602  0.008721   \n",
       "q1_2016_sales         -0.338123  0.965640   0.413909    0.046829  0.004935   \n",
       "\n",
       "                      liters_sold_sum  liters_sold_mean  price_per_liter_mean  \\\n",
       "store_num                   -0.387902         -0.042921              0.110381   \n",
       "sale_sum                     0.992820          0.413205              0.139586   \n",
       "sale_mean                    0.406999          0.915174              0.168860   \n",
       "county_num                   0.038937         -0.010227              0.097303   \n",
       "zip_code                     0.016269         -0.032303              0.061694   \n",
       "liters_sold_sum              1.000000          0.432559              0.097926   \n",
       "liters_sold_mean             0.432559          1.000000             -0.085058   \n",
       "price_per_liter_mean         0.097926         -0.085058              1.000000   \n",
       "margin_mean                  0.280840          0.284317              0.409072   \n",
       "q1_2015_sales                0.957141          0.359826              0.154554   \n",
       "q1_2016_sales                0.958987          0.403400              0.127120   \n",
       "\n",
       "                      margin_mean  q1_2015_sales  q1_2016_sales  \n",
       "store_num               -0.241380      -0.341074      -0.338123  \n",
       "sale_sum                 0.288144       0.969747       0.965640  \n",
       "sale_mean                0.402959       0.366932       0.413909  \n",
       "county_num               0.022503       0.041602       0.046829  \n",
       "zip_code                -0.022567       0.008721       0.004935  \n",
       "liters_sold_sum          0.280840       0.957141       0.958987  \n",
       "liters_sold_mean         0.284317       0.359826       0.403400  \n",
       "price_per_liter_mean     0.409072       0.154554       0.127120  \n",
       "margin_mean              1.000000       0.282861       0.282284  \n",
       "q1_2015_sales            0.282861       1.000000       0.933218  \n",
       "q1_2016_sales            0.282284       0.933218       1.000000  "
      ]
     },
     "execution_count": 459,
     "metadata": {},
     "output_type": "execute_result"
    }
   ],
   "source": [
    "sales.corr()"
   ]
  },
  {
   "cell_type": "code",
   "execution_count": 469,
   "metadata": {
    "collapsed": false
   },
   "outputs": [
    {
     "data": {
      "text/plain": [
       "store_num               False\n",
       "city                    False\n",
       "sale_sum                False\n",
       "sale_mean               False\n",
       "county_num              False\n",
       "zip_code                False\n",
       "liters_sold_sum         False\n",
       "liters_sold_mean        False\n",
       "price_per_liter_mean    False\n",
       "margin_mean             False\n",
       "q1_2015_sales            True\n",
       "q1_2016_sales            True\n",
       "dtype: bool"
      ]
     },
     "execution_count": 469,
     "metadata": {},
     "output_type": "execute_result"
    }
   ],
   "source": []
  },
  {
   "cell_type": "code",
   "execution_count": 460,
   "metadata": {
    "collapsed": false
   },
   "outputs": [
    {
     "ename": "AttributeError",
     "evalue": "max must be larger than min in range parameter.",
     "output_type": "error",
     "traceback": [
      "\u001b[0;31m---------------------------------------------------------------------------\u001b[0m",
      "\u001b[0;31mAttributeError\u001b[0m                            Traceback (most recent call last)",
      "\u001b[0;32m<ipython-input-460-b6a09988ccd2>\u001b[0m in \u001b[0;36m<module>\u001b[0;34m()\u001b[0m\n\u001b[0;32m----> 1\u001b[0;31m \u001b[0msb\u001b[0m\u001b[0;34m.\u001b[0m\u001b[0mpairplot\u001b[0m\u001b[0;34m(\u001b[0m\u001b[0msales\u001b[0m\u001b[0;34m)\u001b[0m\u001b[0;34m\u001b[0m\u001b[0m\n\u001b[0m",
      "\u001b[0;32m/Users/allenbyron/anaconda/lib/python2.7/site-packages/seaborn/linearmodels.pyc\u001b[0m in \u001b[0;36mpairplot\u001b[0;34m(data, hue, hue_order, palette, vars, x_vars, y_vars, kind, diag_kind, markers, size, aspect, dropna, plot_kws, diag_kws, grid_kws)\u001b[0m\n\u001b[1;32m   1607\u001b[0m     \u001b[0;32mif\u001b[0m \u001b[0mgrid\u001b[0m\u001b[0;34m.\u001b[0m\u001b[0msquare_grid\u001b[0m\u001b[0;34m:\u001b[0m\u001b[0;34m\u001b[0m\u001b[0m\n\u001b[1;32m   1608\u001b[0m         \u001b[0;32mif\u001b[0m \u001b[0mdiag_kind\u001b[0m \u001b[0;34m==\u001b[0m \u001b[0;34m\"hist\"\u001b[0m\u001b[0;34m:\u001b[0m\u001b[0;34m\u001b[0m\u001b[0m\n\u001b[0;32m-> 1609\u001b[0;31m             \u001b[0mgrid\u001b[0m\u001b[0;34m.\u001b[0m\u001b[0mmap_diag\u001b[0m\u001b[0;34m(\u001b[0m\u001b[0mplt\u001b[0m\u001b[0;34m.\u001b[0m\u001b[0mhist\u001b[0m\u001b[0;34m,\u001b[0m \u001b[0;34m**\u001b[0m\u001b[0mdiag_kws\u001b[0m\u001b[0;34m)\u001b[0m\u001b[0;34m\u001b[0m\u001b[0m\n\u001b[0m\u001b[1;32m   1610\u001b[0m         \u001b[0;32melif\u001b[0m \u001b[0mdiag_kind\u001b[0m \u001b[0;34m==\u001b[0m \u001b[0;34m\"kde\"\u001b[0m\u001b[0;34m:\u001b[0m\u001b[0;34m\u001b[0m\u001b[0m\n\u001b[1;32m   1611\u001b[0m             \u001b[0mdiag_kws\u001b[0m\u001b[0;34m[\u001b[0m\u001b[0;34m\"legend\"\u001b[0m\u001b[0;34m]\u001b[0m \u001b[0;34m=\u001b[0m \u001b[0mFalse\u001b[0m\u001b[0;34m\u001b[0m\u001b[0m\n",
      "\u001b[0;32m/Users/allenbyron/anaconda/lib/python2.7/site-packages/seaborn/axisgrid.pyc\u001b[0m in \u001b[0;36mmap_diag\u001b[0;34m(self, func, **kwargs)\u001b[0m\n\u001b[1;32m   1346\u001b[0m                 \u001b[0;32melse\u001b[0m\u001b[0;34m:\u001b[0m\u001b[0;34m\u001b[0m\u001b[0m\n\u001b[1;32m   1347\u001b[0m                     func(vals, color=self.palette, histtype=\"barstacked\",\n\u001b[0;32m-> 1348\u001b[0;31m                          **kwargs)\n\u001b[0m\u001b[1;32m   1349\u001b[0m             \u001b[0;32melse\u001b[0m\u001b[0;34m:\u001b[0m\u001b[0;34m\u001b[0m\u001b[0m\n\u001b[1;32m   1350\u001b[0m                 \u001b[0;32mfor\u001b[0m \u001b[0mk\u001b[0m\u001b[0;34m,\u001b[0m \u001b[0mlabel_k\u001b[0m \u001b[0;32min\u001b[0m \u001b[0menumerate\u001b[0m\u001b[0;34m(\u001b[0m\u001b[0mself\u001b[0m\u001b[0;34m.\u001b[0m\u001b[0mhue_names\u001b[0m\u001b[0;34m)\u001b[0m\u001b[0;34m:\u001b[0m\u001b[0;34m\u001b[0m\u001b[0m\n",
      "\u001b[0;32m/Users/allenbyron/anaconda/lib/python2.7/site-packages/matplotlib/pyplot.pyc\u001b[0m in \u001b[0;36mhist\u001b[0;34m(x, bins, range, normed, weights, cumulative, bottom, histtype, align, orientation, rwidth, log, color, label, stacked, hold, data, **kwargs)\u001b[0m\n\u001b[1;32m   2956\u001b[0m                       \u001b[0mhisttype\u001b[0m\u001b[0;34m=\u001b[0m\u001b[0mhisttype\u001b[0m\u001b[0;34m,\u001b[0m \u001b[0malign\u001b[0m\u001b[0;34m=\u001b[0m\u001b[0malign\u001b[0m\u001b[0;34m,\u001b[0m \u001b[0morientation\u001b[0m\u001b[0;34m=\u001b[0m\u001b[0morientation\u001b[0m\u001b[0;34m,\u001b[0m\u001b[0;34m\u001b[0m\u001b[0m\n\u001b[1;32m   2957\u001b[0m                       \u001b[0mrwidth\u001b[0m\u001b[0;34m=\u001b[0m\u001b[0mrwidth\u001b[0m\u001b[0;34m,\u001b[0m \u001b[0mlog\u001b[0m\u001b[0;34m=\u001b[0m\u001b[0mlog\u001b[0m\u001b[0;34m,\u001b[0m \u001b[0mcolor\u001b[0m\u001b[0;34m=\u001b[0m\u001b[0mcolor\u001b[0m\u001b[0;34m,\u001b[0m \u001b[0mlabel\u001b[0m\u001b[0;34m=\u001b[0m\u001b[0mlabel\u001b[0m\u001b[0;34m,\u001b[0m\u001b[0;34m\u001b[0m\u001b[0m\n\u001b[0;32m-> 2958\u001b[0;31m                       stacked=stacked, data=data, **kwargs)\n\u001b[0m\u001b[1;32m   2959\u001b[0m     \u001b[0;32mfinally\u001b[0m\u001b[0;34m:\u001b[0m\u001b[0;34m\u001b[0m\u001b[0m\n\u001b[1;32m   2960\u001b[0m         \u001b[0max\u001b[0m\u001b[0;34m.\u001b[0m\u001b[0mhold\u001b[0m\u001b[0;34m(\u001b[0m\u001b[0mwashold\u001b[0m\u001b[0;34m)\u001b[0m\u001b[0;34m\u001b[0m\u001b[0m\n",
      "\u001b[0;32m/Users/allenbyron/anaconda/lib/python2.7/site-packages/matplotlib/__init__.pyc\u001b[0m in \u001b[0;36minner\u001b[0;34m(ax, *args, **kwargs)\u001b[0m\n\u001b[1;32m   1810\u001b[0m                     warnings.warn(msg % (label_namer, func.__name__),\n\u001b[1;32m   1811\u001b[0m                                   RuntimeWarning, stacklevel=2)\n\u001b[0;32m-> 1812\u001b[0;31m             \u001b[0;32mreturn\u001b[0m \u001b[0mfunc\u001b[0m\u001b[0;34m(\u001b[0m\u001b[0max\u001b[0m\u001b[0;34m,\u001b[0m \u001b[0;34m*\u001b[0m\u001b[0margs\u001b[0m\u001b[0;34m,\u001b[0m \u001b[0;34m**\u001b[0m\u001b[0mkwargs\u001b[0m\u001b[0;34m)\u001b[0m\u001b[0;34m\u001b[0m\u001b[0m\n\u001b[0m\u001b[1;32m   1813\u001b[0m         \u001b[0mpre_doc\u001b[0m \u001b[0;34m=\u001b[0m \u001b[0minner\u001b[0m\u001b[0;34m.\u001b[0m\u001b[0m__doc__\u001b[0m\u001b[0;34m\u001b[0m\u001b[0m\n\u001b[1;32m   1814\u001b[0m         \u001b[0;32mif\u001b[0m \u001b[0mpre_doc\u001b[0m \u001b[0;32mis\u001b[0m \u001b[0mNone\u001b[0m\u001b[0;34m:\u001b[0m\u001b[0;34m\u001b[0m\u001b[0m\n",
      "\u001b[0;32m/Users/allenbyron/anaconda/lib/python2.7/site-packages/matplotlib/axes/_axes.pyc\u001b[0m in \u001b[0;36mhist\u001b[0;34m(self, x, bins, range, normed, weights, cumulative, bottom, histtype, align, orientation, rwidth, log, color, label, stacked, **kwargs)\u001b[0m\n\u001b[1;32m   6008\u001b[0m             \u001b[0;31m# this will automatically overwrite bins,\u001b[0m\u001b[0;34m\u001b[0m\u001b[0;34m\u001b[0m\u001b[0m\n\u001b[1;32m   6009\u001b[0m             \u001b[0;31m# so that each histogram uses the same bins\u001b[0m\u001b[0;34m\u001b[0m\u001b[0;34m\u001b[0m\u001b[0m\n\u001b[0;32m-> 6010\u001b[0;31m             \u001b[0mm\u001b[0m\u001b[0;34m,\u001b[0m \u001b[0mbins\u001b[0m \u001b[0;34m=\u001b[0m \u001b[0mnp\u001b[0m\u001b[0;34m.\u001b[0m\u001b[0mhistogram\u001b[0m\u001b[0;34m(\u001b[0m\u001b[0mx\u001b[0m\u001b[0;34m[\u001b[0m\u001b[0mi\u001b[0m\u001b[0;34m]\u001b[0m\u001b[0;34m,\u001b[0m \u001b[0mbins\u001b[0m\u001b[0;34m,\u001b[0m \u001b[0mweights\u001b[0m\u001b[0;34m=\u001b[0m\u001b[0mw\u001b[0m\u001b[0;34m[\u001b[0m\u001b[0mi\u001b[0m\u001b[0;34m]\u001b[0m\u001b[0;34m,\u001b[0m \u001b[0;34m**\u001b[0m\u001b[0mhist_kwargs\u001b[0m\u001b[0;34m)\u001b[0m\u001b[0;34m\u001b[0m\u001b[0m\n\u001b[0m\u001b[1;32m   6011\u001b[0m             \u001b[0mm\u001b[0m \u001b[0;34m=\u001b[0m \u001b[0mm\u001b[0m\u001b[0;34m.\u001b[0m\u001b[0mastype\u001b[0m\u001b[0;34m(\u001b[0m\u001b[0mfloat\u001b[0m\u001b[0;34m)\u001b[0m  \u001b[0;31m# causes problems later if it's an int\u001b[0m\u001b[0;34m\u001b[0m\u001b[0m\n\u001b[1;32m   6012\u001b[0m             \u001b[0;32mif\u001b[0m \u001b[0mmlast\u001b[0m \u001b[0;32mis\u001b[0m \u001b[0mNone\u001b[0m\u001b[0;34m:\u001b[0m\u001b[0;34m\u001b[0m\u001b[0m\n",
      "\u001b[0;32m/Users/allenbyron/anaconda/lib/python2.7/site-packages/numpy/lib/function_base.pyc\u001b[0m in \u001b[0;36mhistogram\u001b[0;34m(a, bins, range, normed, weights, density)\u001b[0m\n\u001b[1;32m    174\u001b[0m         \u001b[0;32mif\u001b[0m \u001b[0;34m(\u001b[0m\u001b[0mmn\u001b[0m \u001b[0;34m>\u001b[0m \u001b[0mmx\u001b[0m\u001b[0;34m)\u001b[0m\u001b[0;34m:\u001b[0m\u001b[0;34m\u001b[0m\u001b[0m\n\u001b[1;32m    175\u001b[0m             raise AttributeError(\n\u001b[0;32m--> 176\u001b[0;31m                 'max must be larger than min in range parameter.')\n\u001b[0m\u001b[1;32m    177\u001b[0m \u001b[0;34m\u001b[0m\u001b[0m\n\u001b[1;32m    178\u001b[0m     \u001b[0;31m# Histogram is an integer or a float array depending on the weights.\u001b[0m\u001b[0;34m\u001b[0m\u001b[0;34m\u001b[0m\u001b[0m\n",
      "\u001b[0;31mAttributeError\u001b[0m: max must be larger than min in range parameter."
     ]
    },
    {
     "data": {
      "image/png": "[encoded data removed]",
      "text/plain": [
       "<matplotlib.figure.Figure at 0x191a17c90>"
      ]
     },
     "metadata": {},
     "output_type": "display_data"
    }
   ],
   "source": [
    "sb.pairplot(sales)"
   ]
  },
  {
   "cell_type": "code",
   "execution_count": 461,
   "metadata": {
    "collapsed": false
   },
   "outputs": [
    {
     "data": {
      "text/plain": [
       "<matplotlib.collections.PathCollection at 0x1998d3bd0>"
      ]
     },
     "execution_count": 461,
     "metadata": {},
     "output_type": "execute_result"
    },
    {
     "data": {
      "image/png": "[encoded data removed]",
      "text/plain": [
       "<matplotlib.figure.Figure at 0x177e78c50>"
      ]
     },
     "metadata": {},
     "output_type": "display_data"
    }
   ],
   "source": [
    "plt.scatter(x='sale_mean', y='margin_mean', data=sales)"
   ]
  },
  {
   "cell_type": "code",
   "execution_count": 462,
   "metadata": {
    "collapsed": false
   },
   "outputs": [
    {
     "data": {
      "text/plain": [
       "<matplotlib.collections.PathCollection at 0x1960c1f10>"
      ]
     },
     "execution_count": 462,
     "metadata": {},
     "output_type": "execute_result"
    },
    {
     "data": {
      "image/png": "[encoded data removed]",
      "text/plain": [
       "<matplotlib.figure.Figure at 0x18d65a610>"
      ]
     },
     "metadata": {},
     "output_type": "display_data"
    }
   ],
   "source": [
    "plt.scatter(x='zip_code', y='margin_mean', data=sales)"
   ]
  },
  {
   "cell_type": "code",
   "execution_count": 463,
   "metadata": {
    "collapsed": false
   },
   "outputs": [
    {
     "data": {
      "text/plain": [
       "<matplotlib.collections.PathCollection at 0x191ac1390>"
      ]
     },
     "execution_count": 463,
     "metadata": {},
     "output_type": "execute_result"
    },
    {
     "data": {
      "image/png": "[encoded data removed]",
      "text/plain": [
       "<matplotlib.figure.Figure at 0x191f1c410>"
      ]
     },
     "metadata": {},
     "output_type": "display_data"
    }
   ],
   "source": [
    "plt.scatter(x='liters_sold_mean', y='margin_mean', data=sales)"
   ]
  },
  {
   "cell_type": "code",
   "execution_count": 464,
   "metadata": {
    "collapsed": false
   },
   "outputs": [
    {
     "data": {
      "text/plain": [
       "<matplotlib.collections.PathCollection at 0x1757f5b10>"
      ]
     },
     "execution_count": 464,
     "metadata": {},
     "output_type": "execute_result"
    },
    {
     "data": {
      "image/png": "[encoded data removed]",
      "text/plain": [
       "<matplotlib.figure.Figure at 0x191a20390>"
      ]
     },
     "metadata": {},
     "output_type": "display_data"
    }
   ],
   "source": [
    "plt.scatter(x='q1_2015_sales', y='q1_2016_sales', data=sales)"
   ]
  },
  {
   "cell_type": "code",
   "execution_count": 465,
   "metadata": {
    "collapsed": true
   },
   "outputs": [],
   "source": [
    "import sklearn.linear_model"
   ]
  },
  {
   "cell_type": "code",
   "execution_count": 467,
   "metadata": {
    "collapsed": false
   },
   "outputs": [
    {
     "ename": "ValueError",
     "evalue": "Input contains NaN, infinity or a value too large for dtype('float64').",
     "output_type": "error",
     "traceback": [
      "\u001b[0;31m---------------------------------------------------------------------------\u001b[0m",
      "\u001b[0;31mValueError\u001b[0m                                Traceback (most recent call last)",
      "\u001b[0;32m<ipython-input-467-8a4379ac0997>\u001b[0m in \u001b[0;36m<module>\u001b[0;34m()\u001b[0m\n\u001b[1;32m      1\u001b[0m \u001b[0mransac\u001b[0m \u001b[0;34m=\u001b[0m \u001b[0msklearn\u001b[0m\u001b[0;34m.\u001b[0m\u001b[0mlinear_model\u001b[0m\u001b[0;34m.\u001b[0m\u001b[0mRANSACRegressor\u001b[0m\u001b[0;34m(\u001b[0m\u001b[0;34m)\u001b[0m\u001b[0;34m\u001b[0m\u001b[0m\n\u001b[0;32m----> 2\u001b[0;31m \u001b[0mransac\u001b[0m\u001b[0;34m.\u001b[0m\u001b[0mfit\u001b[0m\u001b[0;34m(\u001b[0m\u001b[0msales\u001b[0m\u001b[0;34m[\u001b[0m\u001b[0;34m[\u001b[0m\u001b[0;34m'q1_2015_sales'\u001b[0m\u001b[0;34m]\u001b[0m\u001b[0;34m]\u001b[0m\u001b[0;34m,\u001b[0m \u001b[0msales\u001b[0m\u001b[0;34m.\u001b[0m\u001b[0mq1_2016_sales\u001b[0m\u001b[0;34m)\u001b[0m\u001b[0;34m\u001b[0m\u001b[0m\n\u001b[0m\u001b[1;32m      3\u001b[0m \u001b[0mransac_predictions\u001b[0m \u001b[0;34m=\u001b[0m \u001b[0mransac\u001b[0m\u001b[0;34m.\u001b[0m\u001b[0mpredict\u001b[0m\u001b[0;34m(\u001b[0m\u001b[0mdf\u001b[0m\u001b[0;34m[\u001b[0m\u001b[0;34m[\u001b[0m\u001b[0;34m'q1_2015_sales'\u001b[0m\u001b[0;34m]\u001b[0m\u001b[0;34m]\u001b[0m\u001b[0;34m)\u001b[0m\u001b[0;34m\u001b[0m\u001b[0m\n\u001b[1;32m      4\u001b[0m \u001b[0mplt\u001b[0m\u001b[0;34m.\u001b[0m\u001b[0mscatter\u001b[0m\u001b[0;34m(\u001b[0m\u001b[0msales\u001b[0m\u001b[0;34m.\u001b[0m\u001b[0mq1_2015_sales\u001b[0m\u001b[0;34m,\u001b[0m \u001b[0msales\u001b[0m\u001b[0;34m.\u001b[0m\u001b[0mq1_2016_sales\u001b[0m \u001b[0;34m)\u001b[0m\u001b[0;34m\u001b[0m\u001b[0m\n\u001b[1;32m      5\u001b[0m \u001b[0mplt\u001b[0m\u001b[0;34m.\u001b[0m\u001b[0mscatter\u001b[0m\u001b[0;34m(\u001b[0m\u001b[0msales\u001b[0m\u001b[0;34m.\u001b[0m\u001b[0mq1_2015_sales\u001b[0m\u001b[0;34m,\u001b[0m \u001b[0mransac_predictions\u001b[0m\u001b[0;34m,\u001b[0m \u001b[0mcolor\u001b[0m\u001b[0;34m=\u001b[0m\u001b[0;34m'red'\u001b[0m\u001b[0;34m)\u001b[0m\u001b[0;34m\u001b[0m\u001b[0m\n",
      "\u001b[0;32m/Users/allenbyron/anaconda/lib/python2.7/site-packages/sklearn/linear_model/ransac.pyc\u001b[0m in \u001b[0;36mfit\u001b[0;34m(self, X, y)\u001b[0m\n\u001b[1;32m    197\u001b[0m \u001b[0;34m\u001b[0m\u001b[0m\n\u001b[1;32m    198\u001b[0m         \"\"\"\n\u001b[0;32m--> 199\u001b[0;31m         \u001b[0mX\u001b[0m \u001b[0;34m=\u001b[0m \u001b[0mcheck_array\u001b[0m\u001b[0;34m(\u001b[0m\u001b[0mX\u001b[0m\u001b[0;34m,\u001b[0m \u001b[0maccept_sparse\u001b[0m\u001b[0;34m=\u001b[0m\u001b[0;34m'csr'\u001b[0m\u001b[0;34m)\u001b[0m\u001b[0;34m\u001b[0m\u001b[0m\n\u001b[0m\u001b[1;32m    200\u001b[0m         \u001b[0my\u001b[0m \u001b[0;34m=\u001b[0m \u001b[0mcheck_array\u001b[0m\u001b[0;34m(\u001b[0m\u001b[0my\u001b[0m\u001b[0;34m,\u001b[0m \u001b[0mensure_2d\u001b[0m\u001b[0;34m=\u001b[0m\u001b[0mFalse\u001b[0m\u001b[0;34m)\u001b[0m\u001b[0;34m\u001b[0m\u001b[0m\n\u001b[1;32m    201\u001b[0m         \u001b[0mcheck_consistent_length\u001b[0m\u001b[0;34m(\u001b[0m\u001b[0mX\u001b[0m\u001b[0;34m,\u001b[0m \u001b[0my\u001b[0m\u001b[0;34m)\u001b[0m\u001b[0;34m\u001b[0m\u001b[0m\n",
      "\u001b[0;32m/Users/allenbyron/anaconda/lib/python2.7/site-packages/sklearn/utils/validation.pyc\u001b[0m in \u001b[0;36mcheck_array\u001b[0;34m(array, accept_sparse, dtype, order, copy, force_all_finite, ensure_2d, allow_nd, ensure_min_samples, ensure_min_features, warn_on_dtype, estimator)\u001b[0m\n\u001b[1;32m    396\u001b[0m                              % (array.ndim, estimator_name))\n\u001b[1;32m    397\u001b[0m         \u001b[0;32mif\u001b[0m \u001b[0mforce_all_finite\u001b[0m\u001b[0;34m:\u001b[0m\u001b[0;34m\u001b[0m\u001b[0m\n\u001b[0;32m--> 398\u001b[0;31m             \u001b[0m_assert_all_finite\u001b[0m\u001b[0;34m(\u001b[0m\u001b[0marray\u001b[0m\u001b[0;34m)\u001b[0m\u001b[0;34m\u001b[0m\u001b[0m\n\u001b[0m\u001b[1;32m    399\u001b[0m \u001b[0;34m\u001b[0m\u001b[0m\n\u001b[1;32m    400\u001b[0m     \u001b[0mshape_repr\u001b[0m \u001b[0;34m=\u001b[0m \u001b[0m_shape_repr\u001b[0m\u001b[0;34m(\u001b[0m\u001b[0marray\u001b[0m\u001b[0;34m.\u001b[0m\u001b[0mshape\u001b[0m\u001b[0;34m)\u001b[0m\u001b[0;34m\u001b[0m\u001b[0m\n",
      "\u001b[0;32m/Users/allenbyron/anaconda/lib/python2.7/site-packages/sklearn/utils/validation.pyc\u001b[0m in \u001b[0;36m_assert_all_finite\u001b[0;34m(X)\u001b[0m\n\u001b[1;32m     52\u001b[0m             and not np.isfinite(X).all()):\n\u001b[1;32m     53\u001b[0m         raise ValueError(\"Input contains NaN, infinity\"\n\u001b[0;32m---> 54\u001b[0;31m                          \" or a value too large for %r.\" % X.dtype)\n\u001b[0m\u001b[1;32m     55\u001b[0m \u001b[0;34m\u001b[0m\u001b[0m\n\u001b[1;32m     56\u001b[0m \u001b[0;34m\u001b[0m\u001b[0m\n",
      "\u001b[0;31mValueError\u001b[0m: Input contains NaN, infinity or a value too large for dtype('float64')."
     ]
    }
   ],
   "source": [
    "ransac = sklearn.linear_model.RANSACRegressor()\n",
    "ransac.fit(sales[['q1_2015_sales']], sales.q1_2016_sales)\n",
    "ransac_predictions = ransac.predict(df[['q1_2015_sales']])\n",
    "plt.scatter(sales.q1_2015_sales, sales.q1_2016_sales )\n",
    "plt.scatter(sales.q1_2015_sales, ransac_predictions, color='red')\n",
    "zip(df.q1_2015_sales, ransac_predictions)"
   ]
  },
  {
   "cell_type": "code",
   "execution_count": 470,
   "metadata": {
    "collapsed": false
   },
   "outputs": [
    {
     "data": {
      "text/plain": [
       "store_num               False\n",
       "city                    False\n",
       "sale_sum                False\n",
       "sale_mean               False\n",
       "county_num              False\n",
       "zip_code                False\n",
       "liters_sold_sum         False\n",
       "liters_sold_mean        False\n",
       "price_per_liter_mean    False\n",
       "margin_mean             False\n",
       "q1_2015_sales            True\n",
       "q1_2016_sales            True\n",
       "dtype: bool"
      ]
     },
     "execution_count": 470,
     "metadata": {},
     "output_type": "execute_result"
    }
   ],
   "source": [
    "sales.isnull().any()"
   ]
  },
  {
   "cell_type": "code",
   "execution_count": 478,
   "metadata": {
    "collapsed": false
   },
   "outputs": [
    {
     "data": {
      "text/plain": [
       "store_num               False\n",
       "city                    False\n",
       "sale_sum                False\n",
       "sale_mean               False\n",
       "county_num              False\n",
       "zip_code                False\n",
       "liters_sold_sum         False\n",
       "liters_sold_mean        False\n",
       "price_per_liter_mean    False\n",
       "margin_mean             False\n",
       "q1_2015_sales           False\n",
       "q1_2016_sales           False\n",
       "dtype: bool"
      ]
     },
     "execution_count": 478,
     "metadata": {},
     "output_type": "execute_result"
    }
   ],
   "source": [
    "sales.dropna(inplace=True)\n",
    "sales.isnull().any()"
   ]
  },
  {
   "cell_type": "code",
   "execution_count": 479,
   "metadata": {
    "collapsed": false
   },
   "outputs": [
    {
     "data": {
      "text/plain": [
       "<matplotlib.collections.PathCollection at 0x176c85f10>"
      ]
     },
     "execution_count": 479,
     "metadata": {},
     "output_type": "execute_result"
    },
    {
     "data": {
      "image/png": "[encoded data removed]",
      "text/plain": [
       "<matplotlib.figure.Figure at 0x191ac9990>"
      ]
     },
     "metadata": {},
     "output_type": "display_data"
    }
   ],
   "source": [
    "plt.scatter(x='q1_2015_sales', y='q1_2016_sales', data=sales)"
   ]
  },
  {
   "cell_type": "code",
   "execution_count": 485,
   "metadata": {
    "collapsed": false
   },
   "outputs": [
    {
     "ename": "KeyError",
     "evalue": "\"['q1_2015_sales'] not in index\"",
     "output_type": "error",
     "traceback": [
      "\u001b[0;31m---------------------------------------------------------------------------\u001b[0m",
      "\u001b[0;31mKeyError\u001b[0m                                  Traceback (most recent call last)",
      "\u001b[0;32m<ipython-input-485-686a2a867b71>\u001b[0m in \u001b[0;36m<module>\u001b[0;34m()\u001b[0m\n\u001b[1;32m      1\u001b[0m \u001b[0mransac\u001b[0m \u001b[0;34m=\u001b[0m \u001b[0msklearn\u001b[0m\u001b[0;34m.\u001b[0m\u001b[0mlinear_model\u001b[0m\u001b[0;34m.\u001b[0m\u001b[0mRANSACRegressor\u001b[0m\u001b[0;34m(\u001b[0m\u001b[0;34m)\u001b[0m\u001b[0;34m\u001b[0m\u001b[0m\n\u001b[1;32m      2\u001b[0m \u001b[0mransac\u001b[0m\u001b[0;34m.\u001b[0m\u001b[0mfit\u001b[0m\u001b[0;34m(\u001b[0m\u001b[0msales\u001b[0m\u001b[0;34m[\u001b[0m\u001b[0;34m[\u001b[0m\u001b[0;34m'q1_2015_sales'\u001b[0m\u001b[0;34m]\u001b[0m\u001b[0;34m]\u001b[0m\u001b[0;34m,\u001b[0m \u001b[0msales\u001b[0m\u001b[0;34m.\u001b[0m\u001b[0mq1_2016_sales\u001b[0m\u001b[0;34m)\u001b[0m\u001b[0;34m\u001b[0m\u001b[0m\n\u001b[0;32m----> 3\u001b[0;31m \u001b[0mransac_predictions\u001b[0m \u001b[0;34m=\u001b[0m \u001b[0mransac\u001b[0m\u001b[0;34m.\u001b[0m\u001b[0mpredict\u001b[0m\u001b[0;34m(\u001b[0m\u001b[0mdf\u001b[0m\u001b[0;34m[\u001b[0m\u001b[0;34m[\u001b[0m\u001b[0;34m'q1_2015_sales'\u001b[0m\u001b[0;34m]\u001b[0m\u001b[0;34m]\u001b[0m\u001b[0;34m)\u001b[0m\u001b[0;34m\u001b[0m\u001b[0m\n\u001b[0m\u001b[1;32m      4\u001b[0m \u001b[0mplt\u001b[0m\u001b[0;34m.\u001b[0m\u001b[0mscatter\u001b[0m\u001b[0;34m(\u001b[0m\u001b[0msales\u001b[0m\u001b[0;34m.\u001b[0m\u001b[0mq1_2015_sales\u001b[0m\u001b[0;34m,\u001b[0m \u001b[0msales\u001b[0m\u001b[0;34m.\u001b[0m\u001b[0mq1_2016_sales\u001b[0m \u001b[0;34m)\u001b[0m\u001b[0;34m\u001b[0m\u001b[0m\n\u001b[1;32m      5\u001b[0m \u001b[0mplt\u001b[0m\u001b[0;34m.\u001b[0m\u001b[0mscatter\u001b[0m\u001b[0;34m(\u001b[0m\u001b[0msales\u001b[0m\u001b[0;34m.\u001b[0m\u001b[0mq1_2015_sales\u001b[0m\u001b[0;34m,\u001b[0m \u001b[0mransac_predictions\u001b[0m\u001b[0;34m,\u001b[0m \u001b[0mcolor\u001b[0m\u001b[0;34m=\u001b[0m\u001b[0;34m'red'\u001b[0m\u001b[0;34m)\u001b[0m\u001b[0;34m\u001b[0m\u001b[0m\n",
      "\u001b[0;32m/Users/allenbyron/anaconda/lib/python2.7/site-packages/pandas/core/frame.pyc\u001b[0m in \u001b[0;36m__getitem__\u001b[0;34m(self, key)\u001b[0m\n\u001b[1;32m   1984\u001b[0m         \u001b[0;32mif\u001b[0m \u001b[0misinstance\u001b[0m\u001b[0;34m(\u001b[0m\u001b[0mkey\u001b[0m\u001b[0;34m,\u001b[0m \u001b[0;34m(\u001b[0m\u001b[0mSeries\u001b[0m\u001b[0;34m,\u001b[0m \u001b[0mnp\u001b[0m\u001b[0;34m.\u001b[0m\u001b[0mndarray\u001b[0m\u001b[0;34m,\u001b[0m \u001b[0mIndex\u001b[0m\u001b[0;34m,\u001b[0m \u001b[0mlist\u001b[0m\u001b[0;34m)\u001b[0m\u001b[0;34m)\u001b[0m\u001b[0;34m:\u001b[0m\u001b[0;34m\u001b[0m\u001b[0m\n\u001b[1;32m   1985\u001b[0m             \u001b[0;31m# either boolean or fancy integer index\u001b[0m\u001b[0;34m\u001b[0m\u001b[0;34m\u001b[0m\u001b[0m\n\u001b[0;32m-> 1986\u001b[0;31m             \u001b[0;32mreturn\u001b[0m \u001b[0mself\u001b[0m\u001b[0;34m.\u001b[0m\u001b[0m_getitem_array\u001b[0m\u001b[0;34m(\u001b[0m\u001b[0mkey\u001b[0m\u001b[0;34m)\u001b[0m\u001b[0;34m\u001b[0m\u001b[0m\n\u001b[0m\u001b[1;32m   1987\u001b[0m         \u001b[0;32melif\u001b[0m \u001b[0misinstance\u001b[0m\u001b[0;34m(\u001b[0m\u001b[0mkey\u001b[0m\u001b[0;34m,\u001b[0m \u001b[0mDataFrame\u001b[0m\u001b[0;34m)\u001b[0m\u001b[0;34m:\u001b[0m\u001b[0;34m\u001b[0m\u001b[0m\n\u001b[1;32m   1988\u001b[0m             \u001b[0;32mreturn\u001b[0m \u001b[0mself\u001b[0m\u001b[0;34m.\u001b[0m\u001b[0m_getitem_frame\u001b[0m\u001b[0;34m(\u001b[0m\u001b[0mkey\u001b[0m\u001b[0;34m)\u001b[0m\u001b[0;34m\u001b[0m\u001b[0m\n",
      "\u001b[0;32m/Users/allenbyron/anaconda/lib/python2.7/site-packages/pandas/core/frame.pyc\u001b[0m in \u001b[0;36m_getitem_array\u001b[0;34m(self, key)\u001b[0m\n\u001b[1;32m   2028\u001b[0m             \u001b[0;32mreturn\u001b[0m \u001b[0mself\u001b[0m\u001b[0;34m.\u001b[0m\u001b[0mtake\u001b[0m\u001b[0;34m(\u001b[0m\u001b[0mindexer\u001b[0m\u001b[0;34m,\u001b[0m \u001b[0maxis\u001b[0m\u001b[0;34m=\u001b[0m\u001b[0;36m0\u001b[0m\u001b[0;34m,\u001b[0m \u001b[0mconvert\u001b[0m\u001b[0;34m=\u001b[0m\u001b[0mFalse\u001b[0m\u001b[0;34m)\u001b[0m\u001b[0;34m\u001b[0m\u001b[0m\n\u001b[1;32m   2029\u001b[0m         \u001b[0;32melse\u001b[0m\u001b[0;34m:\u001b[0m\u001b[0;34m\u001b[0m\u001b[0m\n\u001b[0;32m-> 2030\u001b[0;31m             \u001b[0mindexer\u001b[0m \u001b[0;34m=\u001b[0m \u001b[0mself\u001b[0m\u001b[0;34m.\u001b[0m\u001b[0mix\u001b[0m\u001b[0;34m.\u001b[0m\u001b[0m_convert_to_indexer\u001b[0m\u001b[0;34m(\u001b[0m\u001b[0mkey\u001b[0m\u001b[0;34m,\u001b[0m \u001b[0maxis\u001b[0m\u001b[0;34m=\u001b[0m\u001b[0;36m1\u001b[0m\u001b[0;34m)\u001b[0m\u001b[0;34m\u001b[0m\u001b[0m\n\u001b[0m\u001b[1;32m   2031\u001b[0m             \u001b[0;32mreturn\u001b[0m \u001b[0mself\u001b[0m\u001b[0;34m.\u001b[0m\u001b[0mtake\u001b[0m\u001b[0;34m(\u001b[0m\u001b[0mindexer\u001b[0m\u001b[0;34m,\u001b[0m \u001b[0maxis\u001b[0m\u001b[0;34m=\u001b[0m\u001b[0;36m1\u001b[0m\u001b[0;34m,\u001b[0m \u001b[0mconvert\u001b[0m\u001b[0;34m=\u001b[0m\u001b[0mTrue\u001b[0m\u001b[0;34m)\u001b[0m\u001b[0;34m\u001b[0m\u001b[0m\n\u001b[1;32m   2032\u001b[0m \u001b[0;34m\u001b[0m\u001b[0m\n",
      "\u001b[0;32m/Users/allenbyron/anaconda/lib/python2.7/site-packages/pandas/core/indexing.pyc\u001b[0m in \u001b[0;36m_convert_to_indexer\u001b[0;34m(self, obj, axis, is_setter)\u001b[0m\n\u001b[1;32m   1208\u001b[0m                 \u001b[0mmask\u001b[0m \u001b[0;34m=\u001b[0m \u001b[0mcheck\u001b[0m \u001b[0;34m==\u001b[0m \u001b[0;34m-\u001b[0m\u001b[0;36m1\u001b[0m\u001b[0;34m\u001b[0m\u001b[0m\n\u001b[1;32m   1209\u001b[0m                 \u001b[0;32mif\u001b[0m \u001b[0mmask\u001b[0m\u001b[0;34m.\u001b[0m\u001b[0many\u001b[0m\u001b[0;34m(\u001b[0m\u001b[0;34m)\u001b[0m\u001b[0;34m:\u001b[0m\u001b[0;34m\u001b[0m\u001b[0m\n\u001b[0;32m-> 1210\u001b[0;31m                     \u001b[0;32mraise\u001b[0m \u001b[0mKeyError\u001b[0m\u001b[0;34m(\u001b[0m\u001b[0;34m'%s not in index'\u001b[0m \u001b[0;34m%\u001b[0m \u001b[0mobjarr\u001b[0m\u001b[0;34m[\u001b[0m\u001b[0mmask\u001b[0m\u001b[0;34m]\u001b[0m\u001b[0;34m)\u001b[0m\u001b[0;34m\u001b[0m\u001b[0m\n\u001b[0m\u001b[1;32m   1211\u001b[0m \u001b[0;34m\u001b[0m\u001b[0m\n\u001b[1;32m   1212\u001b[0m                 \u001b[0;32mreturn\u001b[0m \u001b[0m_values_from_object\u001b[0m\u001b[0;34m(\u001b[0m\u001b[0mindexer\u001b[0m\u001b[0;34m)\u001b[0m\u001b[0;34m\u001b[0m\u001b[0m\n",
      "\u001b[0;31mKeyError\u001b[0m: \"['q1_2015_sales'] not in index\""
     ]
    }
   ],
   "source": [
    "ransac = sklearn.linear_model.RANSACRegressor()\n",
    "\n",
    "ransac.fit(sales[['q1_2015_sales']], sales.q1_2016_sales)\n",
    "ransac_predictions = ransac.predict(df[['q1_2015_sales']])\n",
    "\n",
    "plt.scatter(sales.q1_2015_sales, sales.q1_2016_sales )\n",
    "plt.scatter(sales.q1_2015_sales, ransac_predictions, color='red')\n",
    "\n",
    "zip(df.q1_2015_sales, ransac_predictions)"
   ]
  },
  {
   "cell_type": "code",
   "execution_count": 486,
   "metadata": {
    "collapsed": false
   },
   "outputs": [
    {
     "data": {
      "text/html": [
       "<div>\n",
       "<table border=\"1\" class=\"dataframe\">\n",
       "  <thead>\n",
       "    <tr style=\"text-align: right;\">\n",
       "      <th></th>\n",
       "      <th>store_num</th>\n",
       "      <th>city</th>\n",
       "      <th>sale_sum</th>\n",
       "      <th>sale_mean</th>\n",
       "      <th>county_num</th>\n",
       "      <th>zip_code</th>\n",
       "      <th>liters_sold_sum</th>\n",
       "      <th>liters_sold_mean</th>\n",
       "      <th>price_per_liter_mean</th>\n",
       "      <th>margin_mean</th>\n",
       "      <th>q1_2015_sales</th>\n",
       "      <th>q1_2016_sales</th>\n",
       "    </tr>\n",
       "  </thead>\n",
       "  <tbody>\n",
       "    <tr>\n",
       "      <th>0</th>\n",
       "      <td>2106</td>\n",
       "      <td>CEDAR FALLS</td>\n",
       "      <td>176517.45</td>\n",
       "      <td>270.732285</td>\n",
       "      <td>7</td>\n",
       "      <td>50613</td>\n",
       "      <td>11836.10</td>\n",
       "      <td>18.153528</td>\n",
       "      <td>17.869110</td>\n",
       "      <td>5.167822</td>\n",
       "      <td>26440.94</td>\n",
       "      <td>20525.78</td>\n",
       "    </tr>\n",
       "    <tr>\n",
       "      <th>1</th>\n",
       "      <td>2113</td>\n",
       "      <td>GOWRIE</td>\n",
       "      <td>11376.12</td>\n",
       "      <td>61.826739</td>\n",
       "      <td>94</td>\n",
       "      <td>50543</td>\n",
       "      <td>836.85</td>\n",
       "      <td>4.548098</td>\n",
       "      <td>18.301651</td>\n",
       "      <td>5.429565</td>\n",
       "      <td>1527.27</td>\n",
       "      <td>1620.10</td>\n",
       "    </tr>\n",
       "    <tr>\n",
       "      <th>2</th>\n",
       "      <td>2130</td>\n",
       "      <td>WATERLOO</td>\n",
       "      <td>139440.02</td>\n",
       "      <td>274.488228</td>\n",
       "      <td>7</td>\n",
       "      <td>50703</td>\n",
       "      <td>8436.27</td>\n",
       "      <td>16.606831</td>\n",
       "      <td>16.963739</td>\n",
       "      <td>5.008799</td>\n",
       "      <td>16380.74</td>\n",
       "      <td>18209.17</td>\n",
       "    </tr>\n",
       "    <tr>\n",
       "      <th>3</th>\n",
       "      <td>2152</td>\n",
       "      <td>ROCKWELL</td>\n",
       "      <td>8625.74</td>\n",
       "      <td>53.576025</td>\n",
       "      <td>17</td>\n",
       "      <td>50469</td>\n",
       "      <td>720.87</td>\n",
       "      <td>4.477453</td>\n",
       "      <td>12.954562</td>\n",
       "      <td>4.302484</td>\n",
       "      <td>1686.31</td>\n",
       "      <td>904.66</td>\n",
       "    </tr>\n",
       "    <tr>\n",
       "      <th>4</th>\n",
       "      <td>2178</td>\n",
       "      <td>WAUKON</td>\n",
       "      <td>29912.68</td>\n",
       "      <td>101.398915</td>\n",
       "      <td>3</td>\n",
       "      <td>52172</td>\n",
       "      <td>2437.92</td>\n",
       "      <td>8.264136</td>\n",
       "      <td>15.866688</td>\n",
       "      <td>4.825627</td>\n",
       "      <td>3679.17</td>\n",
       "      <td>3785.19</td>\n",
       "    </tr>\n",
       "  </tbody>\n",
       "</table>\n",
       "</div>"
      ],
      "text/plain": [
       "   store_num         city   sale_sum   sale_mean  county_num  zip_code  \\\n",
       "0       2106  CEDAR FALLS  176517.45  270.732285           7     50613   \n",
       "1       2113       GOWRIE   11376.12   61.826739          94     50543   \n",
       "2       2130     WATERLOO  139440.02  274.488228           7     50703   \n",
       "3       2152     ROCKWELL    8625.74   53.576025          17     50469   \n",
       "4       2178       WAUKON   29912.68  101.398915           3     52172   \n",
       "\n",
       "   liters_sold_sum  liters_sold_mean  price_per_liter_mean  margin_mean  \\\n",
       "0         11836.10         18.153528             17.869110     5.167822   \n",
       "1           836.85          4.548098             18.301651     5.429565   \n",
       "2          8436.27         16.606831             16.963739     5.008799   \n",
       "3           720.87          4.477453             12.954562     4.302484   \n",
       "4          2437.92          8.264136             15.866688     4.825627   \n",
       "\n",
       "   q1_2015_sales  q1_2016_sales  \n",
       "0       26440.94       20525.78  \n",
       "1        1527.27        1620.10  \n",
       "2       16380.74       18209.17  \n",
       "3        1686.31         904.66  \n",
       "4        3679.17        3785.19  "
      ]
     },
     "execution_count": 486,
     "metadata": {},
     "output_type": "execute_result"
    }
   ],
   "source": [
    "sales.head()"
   ]
  }
 ],
 "metadata": {
  "kernelspec": {
   "display_name": "Python 2",
   "language": "python",
   "name": "python2"
  },
  "language_info": {
   "codemirror_mode": {
    "name": "ipython",
    "version": 2
   },
   "file_extension": ".py",
   "mimetype": "text/x-python",
   "name": "python",
   "nbconvert_exporter": "python",
   "pygments_lexer": "ipython2",
   "version": "2.7.12"
  }
 },
 "nbformat": 4,
 "nbformat_minor": 0
}
