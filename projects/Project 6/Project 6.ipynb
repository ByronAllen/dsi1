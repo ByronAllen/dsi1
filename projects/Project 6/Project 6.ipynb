{
 "cells": [
  {
   "cell_type": "markdown",
   "metadata": {},
   "source": [
    "# Project 6: What Drives Movie Ratings?"
   ]
  },
  {
   "cell_type": "markdown",
   "metadata": {},
   "source": [
    "# Overview"
   ]
  },
  {
   "cell_type": "markdown",
   "metadata": {},
   "source": [
    "**Objective ** \n",
    "\n",
    "-------------------\n",
    "\n",
    "This study aims to identify what fields influence positive movie ratings on IMDB."
   ]
  },
  {
   "cell_type": "markdown",
   "metadata": {},
   "source": [
    "**Summary of Final Fields ** \n",
    "\n",
    "-------------------\n",
    "\n",
    "\n",
    "Number of Votes, Year, Review Sentiment Ratio, Review Keywords, Review Trigrams"
   ]
  },
  {
   "cell_type": "markdown",
   "metadata": {},
   "source": [
    "**Study Outline**\n",
    "\n",
    "-------------------\n",
    "\n",
    "* *Initial Setup*\n",
    "    * IMDB API, etc\n",
    "\n",
    "\n",
    "* *Data Collection & Mining*\n",
    "    * Movies table\n",
    "    * Reviews table\n",
    "    * Sentiment scoring\n",
    "    * Keywords and trigrams\n",
    "    * SQL Join - emphasis 'for practice'\n",
    "\n",
    "\n",
    "* *Modelling*\n",
    "    * Import data\n",
    "    * Reduce noise\n",
    "    * Initialize models\n",
    "    * Run models\n",
    "    * Select features and preform GridSearchCV\n",
    "    * Validate models"
   ]
  },
  {
   "cell_type": "markdown",
   "metadata": {},
   "source": [
    "# Initial Setup"
   ]
  },
  {
   "cell_type": "code",
   "execution_count": 1,
   "metadata": {
    "collapsed": false
   },
   "outputs": [],
   "source": [
    "import os\n",
    "import subprocess\n",
    "import pandas as pd\n",
    "import numpy as np\n",
    "from sklearn.ensemble import RandomForestClassifier\n",
    "from sklearn.ensemble import RandomForestRegressor\n",
    "import scipy\n",
    "import requests\n",
    "\n",
    "#from imdbpie import Imdb\n",
    "import imdb\n",
    "\n",
    "import nltk\n",
    "import matplotlib.pyplot as plt\n",
    "import urllib\n",
    "from bs4 import BeautifulSoup\n",
    "import nltk\n",
    "import collections\n",
    "import re\n",
    "import csv\n",
    "%matplotlib inline\n",
    "\n",
    "import sys\n",
    "reload(sys)\n",
    "sys.setdefaultencoding('utf-8')\n",
    "\n",
    "import sqlalchemy\n",
    "from sqlalchemy import create_engine\n",
    "import psycopg2\n",
    "engine = create_engine(\"postgresql://allenbyron:@localhost/imdb\")"
   ]
  },
  {
   "cell_type": "markdown",
   "metadata": {},
   "source": [
    "Initially I attempted to conda install imdbpie. That was unsuccessful (albeit I could pip install), so I attempted to use the IMDbPY library as an alternative, but the get_top250_movies() function does not work as others have pointed out: http://stackoverflow.com/questions/29869472/imdbpy-get-top250-movies-returns-empty-list. As a final resort, I decided to run imdbpie in my terminal to create the CSV's I would need for this project, which is why there are several points below where I have imported from CSVs."
   ]
  },
  {
   "cell_type": "markdown",
   "metadata": {},
   "source": [
    "# Data Collection & Mining"
   ]
  },
  {
   "cell_type": "code",
   "execution_count": 2,
   "metadata": {
    "collapsed": true
   },
   "outputs": [],
   "source": [
    "#search_imdb = imdb.IMDbBase()\n",
    "#top250 = search_imdb.get_top250_movies()"
   ]
  },
  {
   "cell_type": "markdown",
   "metadata": {},
   "source": [
    "##### Generate and explore movies table"
   ]
  },
  {
   "cell_type": "code",
   "execution_count": 3,
   "metadata": {
    "collapsed": false
   },
   "outputs": [
    {
     "data": {
      "text/html": [
       "<div>\n",
       "<table border=\"1\" class=\"dataframe\">\n",
       "  <thead>\n",
       "    <tr style=\"text-align: right;\">\n",
       "      <th></th>\n",
       "      <th>can_rate</th>\n",
       "      <th>image</th>\n",
       "      <th>num_votes</th>\n",
       "      <th>rating</th>\n",
       "      <th>tconst</th>\n",
       "      <th>title</th>\n",
       "      <th>type</th>\n",
       "      <th>year</th>\n",
       "    </tr>\n",
       "  </thead>\n",
       "  <tbody>\n",
       "    <tr>\n",
       "      <th>0</th>\n",
       "      <td>True</td>\n",
       "      <td>{u'url': u'https://images-na.ssl-images-amazon...</td>\n",
       "      <td>1718414</td>\n",
       "      <td>9.3</td>\n",
       "      <td>tt0111161</td>\n",
       "      <td>The Shawshank Redemption</td>\n",
       "      <td>feature</td>\n",
       "      <td>1994</td>\n",
       "    </tr>\n",
       "    <tr>\n",
       "      <th>1</th>\n",
       "      <td>True</td>\n",
       "      <td>{u'url': u'https://images-na.ssl-images-amazon...</td>\n",
       "      <td>1174533</td>\n",
       "      <td>9.2</td>\n",
       "      <td>tt0068646</td>\n",
       "      <td>The Godfather</td>\n",
       "      <td>feature</td>\n",
       "      <td>1972</td>\n",
       "    </tr>\n",
       "    <tr>\n",
       "      <th>2</th>\n",
       "      <td>True</td>\n",
       "      <td>{u'url': u'https://images-na.ssl-images-amazon...</td>\n",
       "      <td>804896</td>\n",
       "      <td>9.0</td>\n",
       "      <td>tt0071562</td>\n",
       "      <td>The Godfather: Part II</td>\n",
       "      <td>feature</td>\n",
       "      <td>1974</td>\n",
       "    </tr>\n",
       "    <tr>\n",
       "      <th>3</th>\n",
       "      <td>True</td>\n",
       "      <td>{u'url': u'https://images-na.ssl-images-amazon...</td>\n",
       "      <td>1704604</td>\n",
       "      <td>9.0</td>\n",
       "      <td>tt0468569</td>\n",
       "      <td>The Dark Knight</td>\n",
       "      <td>feature</td>\n",
       "      <td>2008</td>\n",
       "    </tr>\n",
       "    <tr>\n",
       "      <th>4</th>\n",
       "      <td>True</td>\n",
       "      <td>{u'url': u'https://images-na.ssl-images-amazon...</td>\n",
       "      <td>457555</td>\n",
       "      <td>8.9</td>\n",
       "      <td>tt0050083</td>\n",
       "      <td>12 Angry Men</td>\n",
       "      <td>feature</td>\n",
       "      <td>1957</td>\n",
       "    </tr>\n",
       "  </tbody>\n",
       "</table>\n",
       "</div>"
      ],
      "text/plain": [
       "  can_rate                                              image  num_votes  \\\n",
       "0     True  {u'url': u'https://images-na.ssl-images-amazon...    1718414   \n",
       "1     True  {u'url': u'https://images-na.ssl-images-amazon...    1174533   \n",
       "2     True  {u'url': u'https://images-na.ssl-images-amazon...     804896   \n",
       "3     True  {u'url': u'https://images-na.ssl-images-amazon...    1704604   \n",
       "4     True  {u'url': u'https://images-na.ssl-images-amazon...     457555   \n",
       "\n",
       "   rating     tconst                     title     type  year  \n",
       "0     9.3  tt0111161  The Shawshank Redemption  feature  1994  \n",
       "1     9.2  tt0068646             The Godfather  feature  1972  \n",
       "2     9.0  tt0071562    The Godfather: Part II  feature  1974  \n",
       "3     9.0  tt0468569           The Dark Knight  feature  2008  \n",
       "4     8.9  tt0050083              12 Angry Men  feature  1957  "
      ]
     },
     "execution_count": 3,
     "metadata": {},
     "output_type": "execute_result"
    }
   ],
   "source": [
    "movies = pd.read_csv('./imdb_top250.csv', index_col=0)\n",
    "movies.head()"
   ]
  },
  {
   "cell_type": "code",
   "execution_count": 4,
   "metadata": {
    "collapsed": false
   },
   "outputs": [],
   "source": [
    "print movies.can_rate.unique()\n",
    "print\n",
    "print movies.num_votes.unique()\n",
    "print\n",
    "print movies.rating.unique()\n",
    "print\n",
    "print movies['type'].unique()\n",
    "print\n",
    "print movies.year.unique()\n",
    "print"
   ]
  },
  {
   "cell_type": "code",
   "execution_count": 5,
   "metadata": {
    "collapsed": false
   },
   "outputs": [],
   "source": [
    "movies.drop(labels=['image','can_rate','type'], axis=1, inplace=True)"
   ]
  },
  {
   "cell_type": "code",
   "execution_count": 6,
   "metadata": {
    "collapsed": false
   },
   "outputs": [],
   "source": [
    "movies.info()"
   ]
  },
  {
   "cell_type": "code",
   "execution_count": 7,
   "metadata": {
    "collapsed": false
   },
   "outputs": [
    {
     "data": {
      "text/html": [
       "<div>\n",
       "<table border=\"1\" class=\"dataframe\">\n",
       "  <thead>\n",
       "    <tr style=\"text-align: right;\">\n",
       "      <th></th>\n",
       "      <th>num_votes</th>\n",
       "      <th>rating</th>\n",
       "      <th>year</th>\n",
       "    </tr>\n",
       "  </thead>\n",
       "  <tbody>\n",
       "    <tr>\n",
       "      <th>count</th>\n",
       "      <td>2.500000e+02</td>\n",
       "      <td>250.000000</td>\n",
       "      <td>250.00000</td>\n",
       "    </tr>\n",
       "    <tr>\n",
       "      <th>mean</th>\n",
       "      <td>4.134674e+05</td>\n",
       "      <td>8.310000</td>\n",
       "      <td>1984.03600</td>\n",
       "    </tr>\n",
       "    <tr>\n",
       "      <th>std</th>\n",
       "      <td>3.398039e+05</td>\n",
       "      <td>0.232716</td>\n",
       "      <td>24.25953</td>\n",
       "    </tr>\n",
       "    <tr>\n",
       "      <th>min</th>\n",
       "      <td>2.629300e+04</td>\n",
       "      <td>8.000000</td>\n",
       "      <td>1921.00000</td>\n",
       "    </tr>\n",
       "    <tr>\n",
       "      <th>25%</th>\n",
       "      <td>1.220845e+05</td>\n",
       "      <td>8.100000</td>\n",
       "      <td>1964.25000</td>\n",
       "    </tr>\n",
       "    <tr>\n",
       "      <th>50%</th>\n",
       "      <td>3.310745e+05</td>\n",
       "      <td>8.300000</td>\n",
       "      <td>1991.00000</td>\n",
       "    </tr>\n",
       "    <tr>\n",
       "      <th>75%</th>\n",
       "      <td>6.079975e+05</td>\n",
       "      <td>8.400000</td>\n",
       "      <td>2003.75000</td>\n",
       "    </tr>\n",
       "    <tr>\n",
       "      <th>max</th>\n",
       "      <td>1.718414e+06</td>\n",
       "      <td>9.300000</td>\n",
       "      <td>2016.00000</td>\n",
       "    </tr>\n",
       "  </tbody>\n",
       "</table>\n",
       "</div>"
      ],
      "text/plain": [
       "          num_votes      rating        year\n",
       "count  2.500000e+02  250.000000   250.00000\n",
       "mean   4.134674e+05    8.310000  1984.03600\n",
       "std    3.398039e+05    0.232716    24.25953\n",
       "min    2.629300e+04    8.000000  1921.00000\n",
       "25%    1.220845e+05    8.100000  1964.25000\n",
       "50%    3.310745e+05    8.300000  1991.00000\n",
       "75%    6.079975e+05    8.400000  2003.75000\n",
       "max    1.718414e+06    9.300000  2016.00000"
      ]
     },
     "execution_count": 7,
     "metadata": {},
     "output_type": "execute_result"
    }
   ],
   "source": [
    "print 'Rating Median: ', movies.rating.median()\n",
    "movies.describe()"
   ]
  },
  {
   "cell_type": "markdown",
   "metadata": {},
   "source": [
    "Uploaded to SQL to join with the next table (NOTE: I'm doing this as a matter of exercise and proof that I can work with PostgreSQL. In practice, I would approach sharing tables on a case-by-case basis )"
   ]
  },
  {
   "cell_type": "code",
   "execution_count": 8,
   "metadata": {
    "collapsed": false
   },
   "outputs": [],
   "source": [
    "#Below commented out as table has already been created \n",
    "#movies.to_sql('top250movies', engine)"
   ]
  },
  {
   "cell_type": "markdown",
   "metadata": {},
   "source": [
    "##### Review and explore 'reviews' table"
   ]
  },
  {
   "cell_type": "code",
   "execution_count": 9,
   "metadata": {
    "collapsed": true
   },
   "outputs": [],
   "source": [
    "movies.tconst.to_csv('./list_of_tconst.csv')"
   ]
  },
  {
   "cell_type": "code",
   "execution_count": 10,
   "metadata": {
    "collapsed": false
   },
   "outputs": [],
   "source": [
    "reviews = pd.read_csv('./reviews_df.csv', index_col=0)"
   ]
  },
  {
   "cell_type": "markdown",
   "metadata": {},
   "source": [
    "Remove numbers from reviews and transform to lowercase."
   ]
  },
  {
   "cell_type": "code",
   "execution_count": 11,
   "metadata": {
    "collapsed": true
   },
   "outputs": [],
   "source": [
    "from nltk.tokenize import sent_tokenize, word_tokenize\n",
    "\n",
    "reviews_nonums=[]\n",
    "\n",
    "def find_words(col):\n",
    "    \n",
    "    for rev in col:\n",
    "        words = word_tokenize(rev)        \n",
    "        new_review=''\n",
    "        for w in words:\n",
    "            keep = re.search('^[a-zA-Z]+', w)\n",
    "            if keep is not None:\n",
    "                new_review+= w + ' '\n",
    "        reviews_nonums.append(new_review.lower())"
   ]
  },
  {
   "cell_type": "code",
   "execution_count": 12,
   "metadata": {
    "collapsed": false
   },
   "outputs": [],
   "source": [
    "find_words(reviews.reviews)"
   ]
  },
  {
   "cell_type": "code",
   "execution_count": 13,
   "metadata": {
    "collapsed": false
   },
   "outputs": [],
   "source": [
    "reviews['reviews_nonums'] = reviews_nonums"
   ]
  },
  {
   "cell_type": "markdown",
   "metadata": {},
   "source": [
    "##### Analyse sentiment and identify words associated with reviews that generate the highest sentiment."
   ]
  },
  {
   "cell_type": "code",
   "execution_count": 14,
   "metadata": {
    "collapsed": false
   },
   "outputs": [],
   "source": [
    "from sklearn.feature_extraction.text import TfidfVectorizer"
   ]
  },
  {
   "cell_type": "code",
   "execution_count": 15,
   "metadata": {
    "collapsed": false
   },
   "outputs": [
    {
     "data": {
      "text/plain": [
       "(250, 11607)"
      ]
     },
     "execution_count": 15,
     "metadata": {},
     "output_type": "execute_result"
    }
   ],
   "source": [
    "tfidf = TfidfVectorizer(use_idf=True)\n",
    "words_array = tfidf.fit_transform(reviews.reviews_nonums)\n",
    "feature_names = tfidf.get_feature_names()\n",
    "words_array.shape"
   ]
  },
  {
   "cell_type": "code",
   "execution_count": 16,
   "metadata": {
    "collapsed": false
   },
   "outputs": [],
   "source": [
    "from nltk.corpus import sentiwordnet\n",
    "\n",
    "sentiment = []\n",
    "\n",
    "for rev in reviews.reviews_nonums:\n",
    "\n",
    "    senti_score = 0\n",
    "    \n",
    "    for word in nltk.word_tokenize(rev):\n",
    "        \n",
    "        try:\n",
    "            pos = sentiwordnet.senti_synsets(word)[0].pos_score()\n",
    "            senti_score += pos\n",
    "        except:\n",
    "            senti_score += 0\n",
    "        \n",
    "        try:\n",
    "            neg = sentiwordnet.senti_synsets(word)[0].neg_score()\n",
    "            senti_score -= neg\n",
    "        except:\n",
    "            senti_score += 0\n",
    "                    \n",
    "    sentiment.append(senti_score)"
   ]
  },
  {
   "cell_type": "code",
   "execution_count": 17,
   "metadata": {
    "collapsed": true
   },
   "outputs": [],
   "source": [
    "def find_length(x):\n",
    "    return len(x)"
   ]
  },
  {
   "cell_type": "code",
   "execution_count": 18,
   "metadata": {
    "collapsed": false
   },
   "outputs": [
    {
     "data": {
      "text/html": [
       "<div>\n",
       "<table border=\"1\" class=\"dataframe\">\n",
       "  <thead>\n",
       "    <tr style=\"text-align: right;\">\n",
       "      <th></th>\n",
       "      <th>tconst</th>\n",
       "      <th>reviews</th>\n",
       "      <th>reviews_nonums</th>\n",
       "      <th>reviews_nonums_length</th>\n",
       "      <th>review_sent</th>\n",
       "      <th>review_sent_ratio</th>\n",
       "    </tr>\n",
       "  </thead>\n",
       "  <tbody>\n",
       "    <tr>\n",
       "      <th>0</th>\n",
       "      <td>tt0111161</td>\n",
       "      <td>Why do I want to write the 234th comment on Th...</td>\n",
       "      <td>why do i want to write the comment on the shaw...</td>\n",
       "      <td>1657</td>\n",
       "      <td>4.125</td>\n",
       "      <td>0.002489</td>\n",
       "    </tr>\n",
       "    <tr>\n",
       "      <th>1</th>\n",
       "      <td>tt0068646</td>\n",
       "      <td>Rather than concentrating on everything that i...</td>\n",
       "      <td>rather than concentrating on everything that i...</td>\n",
       "      <td>1291</td>\n",
       "      <td>8.500</td>\n",
       "      <td>0.006584</td>\n",
       "    </tr>\n",
       "    <tr>\n",
       "      <th>2</th>\n",
       "      <td>tt0071562</td>\n",
       "      <td>\\nThis movie is way to be good to be labelled ...</td>\n",
       "      <td>this movie is way to be good to be labelled a ...</td>\n",
       "      <td>816</td>\n",
       "      <td>3.237</td>\n",
       "      <td>0.003967</td>\n",
       "    </tr>\n",
       "    <tr>\n",
       "      <th>3</th>\n",
       "      <td>tt0468569</td>\n",
       "      <td>We've been subjected to enormous amounts of hy...</td>\n",
       "      <td>we been subjected to enormous amounts of hype ...</td>\n",
       "      <td>1706</td>\n",
       "      <td>5.625</td>\n",
       "      <td>0.003297</td>\n",
       "    </tr>\n",
       "    <tr>\n",
       "      <th>4</th>\n",
       "      <td>tt0050083</td>\n",
       "      <td>\\nAn excellent courtroom drama with a unique t...</td>\n",
       "      <td>an excellent courtroom drama with a unique twi...</td>\n",
       "      <td>4985</td>\n",
       "      <td>9.250</td>\n",
       "      <td>0.001856</td>\n",
       "    </tr>\n",
       "  </tbody>\n",
       "</table>\n",
       "</div>"
      ],
      "text/plain": [
       "      tconst                                            reviews  \\\n",
       "0  tt0111161  Why do I want to write the 234th comment on Th...   \n",
       "1  tt0068646  Rather than concentrating on everything that i...   \n",
       "2  tt0071562  \\nThis movie is way to be good to be labelled ...   \n",
       "3  tt0468569  We've been subjected to enormous amounts of hy...   \n",
       "4  tt0050083  \\nAn excellent courtroom drama with a unique t...   \n",
       "\n",
       "                                      reviews_nonums  reviews_nonums_length  \\\n",
       "0  why do i want to write the comment on the shaw...                   1657   \n",
       "1  rather than concentrating on everything that i...                   1291   \n",
       "2  this movie is way to be good to be labelled a ...                    816   \n",
       "3  we been subjected to enormous amounts of hype ...                   1706   \n",
       "4  an excellent courtroom drama with a unique twi...                   4985   \n",
       "\n",
       "   review_sent  review_sent_ratio  \n",
       "0        4.125           0.002489  \n",
       "1        8.500           0.006584  \n",
       "2        3.237           0.003967  \n",
       "3        5.625           0.003297  \n",
       "4        9.250           0.001856  "
      ]
     },
     "execution_count": 18,
     "metadata": {},
     "output_type": "execute_result"
    }
   ],
   "source": [
    "reviews['reviews_nonums_length'] = reviews.reviews_nonums.apply(find_length)\n",
    "reviews['review_sent'] = sentiment\n",
    "reviews['review_sent_ratio'] = reviews.review_sent/reviews.reviews_nonums_length\n",
    "reviews.head()"
   ]
  },
  {
   "cell_type": "code",
   "execution_count": 19,
   "metadata": {
    "collapsed": false
   },
   "outputs": [
    {
     "data": {
      "image/png": "[encoded data removed]",
      "text/plain": [
       "<matplotlib.figure.Figure at 0x11db85250>"
      ]
     },
     "metadata": {},
     "output_type": "display_data"
    }
   ],
   "source": [
    "import seaborn as sb\n",
    "sb.distplot(sentiment, axlabel='IMDB Movie Review Sum Sentiment Distribution')\n",
    "plt.show()"
   ]
  },
  {
   "cell_type": "code",
   "execution_count": 20,
   "metadata": {
    "collapsed": false
   },
   "outputs": [
    {
     "data": {
      "image/png": "[encoded data removed]",
      "text/plain": [
       "<matplotlib.figure.Figure at 0x12fb0cb90>"
      ]
     },
     "metadata": {},
     "output_type": "display_data"
    }
   ],
   "source": [
    "sb.distplot(reviews.review_sent_ratio, axlabel='IMDB Movie Review Ratio Sentiment Distribution')\n",
    "plt.show()"
   ]
  },
  {
   "cell_type": "code",
   "execution_count": 21,
   "metadata": {
    "collapsed": false
   },
   "outputs": [
    {
     "data": {
      "text/plain": [
       "0.014864690711841237"
      ]
     },
     "execution_count": 21,
     "metadata": {},
     "output_type": "execute_result"
    }
   ],
   "source": [
    "from sklearn.linear_model import ElasticNetCV\n",
    "elastic = ElasticNetCV()\n",
    "elastic.fit(words_array,reviews.review_sent_ratio)\n",
    "\n",
    "coef_feature_word_df = pd.DataFrame()\n",
    "coef_feature_word_df['feature_words'] = feature_names\n",
    "coef_feature_word_df['elasticnet_coef'] = elastic.coef_ \n",
    "\n",
    "coef_feature_word_df.elasticnet_coef.max()"
   ]
  },
  {
   "cell_type": "code",
   "execution_count": 22,
   "metadata": {
    "collapsed": false
   },
   "outputs": [
    {
     "data": {
      "text/html": [
       "<div>\n",
       "<table border=\"1\" class=\"dataframe\">\n",
       "  <thead>\n",
       "    <tr style=\"text-align: right;\">\n",
       "      <th></th>\n",
       "      <th>feature_words</th>\n",
       "      <th>elasticnet_coef</th>\n",
       "    </tr>\n",
       "  </thead>\n",
       "  <tbody>\n",
       "    <tr>\n",
       "      <th>820</th>\n",
       "      <td>beautiful</td>\n",
       "      <td>0.014865</td>\n",
       "    </tr>\n",
       "    <tr>\n",
       "      <th>865</th>\n",
       "      <td>believable</td>\n",
       "      <td>0.014244</td>\n",
       "    </tr>\n",
       "    <tr>\n",
       "      <th>4359</th>\n",
       "      <td>gentleman</td>\n",
       "      <td>0.012794</td>\n",
       "    </tr>\n",
       "    <tr>\n",
       "      <th>3846</th>\n",
       "      <td>favorite</td>\n",
       "      <td>0.011964</td>\n",
       "    </tr>\n",
       "    <tr>\n",
       "      <th>539</th>\n",
       "      <td>art</td>\n",
       "      <td>0.011513</td>\n",
       "    </tr>\n",
       "    <tr>\n",
       "      <th>11083</th>\n",
       "      <td>very</td>\n",
       "      <td>0.009708</td>\n",
       "    </tr>\n",
       "    <tr>\n",
       "      <th>9676</th>\n",
       "      <td>sport</td>\n",
       "      <td>0.009690</td>\n",
       "    </tr>\n",
       "    <tr>\n",
       "      <th>2672</th>\n",
       "      <td>depth</td>\n",
       "      <td>0.009585</td>\n",
       "    </tr>\n",
       "    <tr>\n",
       "      <th>5550</th>\n",
       "      <td>is</td>\n",
       "      <td>0.009451</td>\n",
       "    </tr>\n",
       "    <tr>\n",
       "      <th>10252</th>\n",
       "      <td>tears</td>\n",
       "      <td>0.009412</td>\n",
       "    </tr>\n",
       "    <tr>\n",
       "      <th>6174</th>\n",
       "      <td>love</td>\n",
       "      <td>0.009127</td>\n",
       "    </tr>\n",
       "    <tr>\n",
       "      <th>11108</th>\n",
       "      <td>vienna</td>\n",
       "      <td>0.008184</td>\n",
       "    </tr>\n",
       "    <tr>\n",
       "      <th>3533</th>\n",
       "      <td>europe</td>\n",
       "      <td>0.007782</td>\n",
       "    </tr>\n",
       "    <tr>\n",
       "      <th>3016</th>\n",
       "      <td>don</td>\n",
       "      <td>0.007388</td>\n",
       "    </tr>\n",
       "    <tr>\n",
       "      <th>10719</th>\n",
       "      <td>truly</td>\n",
       "      <td>0.007170</td>\n",
       "    </tr>\n",
       "    <tr>\n",
       "      <th>806</th>\n",
       "      <td>be</td>\n",
       "      <td>0.007029</td>\n",
       "    </tr>\n",
       "    <tr>\n",
       "      <th>911</th>\n",
       "      <td>best</td>\n",
       "      <td>0.006932</td>\n",
       "    </tr>\n",
       "    <tr>\n",
       "      <th>9007</th>\n",
       "      <td>screen</td>\n",
       "      <td>0.006886</td>\n",
       "    </tr>\n",
       "    <tr>\n",
       "      <th>2988</th>\n",
       "      <td>do</td>\n",
       "      <td>0.006388</td>\n",
       "    </tr>\n",
       "    <tr>\n",
       "      <th>3560</th>\n",
       "      <td>everyone</td>\n",
       "      <td>0.005747</td>\n",
       "    </tr>\n",
       "  </tbody>\n",
       "</table>\n",
       "</div>"
      ],
      "text/plain": [
       "      feature_words  elasticnet_coef\n",
       "820       beautiful         0.014865\n",
       "865      believable         0.014244\n",
       "4359      gentleman         0.012794\n",
       "3846       favorite         0.011964\n",
       "539             art         0.011513\n",
       "11083          very         0.009708\n",
       "9676          sport         0.009690\n",
       "2672          depth         0.009585\n",
       "5550             is         0.009451\n",
       "10252         tears         0.009412\n",
       "6174           love         0.009127\n",
       "11108        vienna         0.008184\n",
       "3533         europe         0.007782\n",
       "3016            don         0.007388\n",
       "10719         truly         0.007170\n",
       "806              be         0.007029\n",
       "911            best         0.006932\n",
       "9007         screen         0.006886\n",
       "2988             do         0.006388\n",
       "3560       everyone         0.005747"
      ]
     },
     "execution_count": 22,
     "metadata": {},
     "output_type": "execute_result"
    }
   ],
   "source": [
    "coef_feature_word_df.sort_values(by='elasticnet_coef', axis=0, ascending=False).head(20)"
   ]
  },
  {
   "cell_type": "markdown",
   "metadata": {},
   "source": [
    "##### Create a count vectorization-like set of columns to the reviews table for the top sentiment words"
   ]
  },
  {
   "cell_type": "code",
   "execution_count": 23,
   "metadata": {
    "collapsed": false
   },
   "outputs": [],
   "source": [
    "top20words = coef_feature_word_df.sort_values(by='elasticnet_coef', axis=0, ascending=False).head(10)\n",
    "top20words = list(top20words.feature_words)\n",
    "top20words = [str(x) for x in top20words]\n",
    "top_sent_words = ['beautiful',\n",
    "                'believable',\n",
    "                'gentleman',\n",
    "                'favorite',\n",
    "                'art' #,\n",
    "                #'very',\n",
    "                #'sport',\n",
    "                #'depth',\n",
    "                #'tears',\n",
    "                #'love'\n",
    "                 ]"
   ]
  },
  {
   "cell_type": "code",
   "execution_count": 24,
   "metadata": {
    "collapsed": false
   },
   "outputs": [],
   "source": [
    "def find_top_words(col, alist):\n",
    "    for word in alist:\n",
    "        anewlist=[]\n",
    "        for rev in col:\n",
    "            if word in rev:\n",
    "                anewlist.append(1)\n",
    "            else:\n",
    "                anewlist.append(0)\n",
    "                \n",
    "        reviews[word] = anewlist"
   ]
  },
  {
   "cell_type": "code",
   "execution_count": 25,
   "metadata": {
    "collapsed": false
   },
   "outputs": [],
   "source": [
    "find_top_words(reviews.reviews_nonums, top_sent_words) "
   ]
  },
  {
   "cell_type": "markdown",
   "metadata": {},
   "source": [
    "##### Find most influential bigrams"
   ]
  },
  {
   "cell_type": "code",
   "execution_count": 26,
   "metadata": {
    "collapsed": false
   },
   "outputs": [
    {
     "data": {
      "text/plain": [
       "0.01004459405846833"
      ]
     },
     "execution_count": 26,
     "metadata": {},
     "output_type": "execute_result"
    }
   ],
   "source": [
    "tfidf_phrase = TfidfVectorizer(ngram_range=(2,2))\n",
    "\n",
    "phrase_array = tfidf_phrase.fit_transform(reviews.reviews_nonums)\n",
    "feature_phrases = tfidf_phrase.get_feature_names()\n",
    "\n",
    "elastic = ElasticNetCV()\n",
    "elastic.fit(phrase_array,reviews.review_sent_ratio)\n",
    "\n",
    "coef_feature_word_df = pd.DataFrame()\n",
    "coef_feature_word_df['feature_words'] = feature_phrases\n",
    "coef_feature_word_df['elasticnet_coef'] = elastic.coef_ \n",
    "\n",
    "coef_feature_word_df.elasticnet_coef.max()"
   ]
  },
  {
   "cell_type": "code",
   "execution_count": 27,
   "metadata": {
    "collapsed": false
   },
   "outputs": [
    {
     "data": {
      "text/html": [
       "<div>\n",
       "<table border=\"1\" class=\"dataframe\">\n",
       "  <thead>\n",
       "    <tr style=\"text-align: right;\">\n",
       "      <th></th>\n",
       "      <th>feature_words</th>\n",
       "      <th>elasticnet_coef</th>\n",
       "    </tr>\n",
       "  </thead>\n",
       "  <tbody>\n",
       "    <tr>\n",
       "      <th>28172</th>\n",
       "      <td>is just</td>\n",
       "      <td>0.010045</td>\n",
       "    </tr>\n",
       "    <tr>\n",
       "      <th>55172</th>\n",
       "      <td>this movie</td>\n",
       "      <td>0.005495</td>\n",
       "    </tr>\n",
       "    <tr>\n",
       "      <th>0</th>\n",
       "      <td>1960ish there</td>\n",
       "      <td>0.000000</td>\n",
       "    </tr>\n",
       "    <tr>\n",
       "      <th>42517</th>\n",
       "      <td>probing revelation</td>\n",
       "      <td>-0.000000</td>\n",
       "    </tr>\n",
       "    <tr>\n",
       "      <th>42505</th>\n",
       "      <td>probably redundant</td>\n",
       "      <td>-0.000000</td>\n",
       "    </tr>\n",
       "    <tr>\n",
       "      <th>42506</th>\n",
       "      <td>probably remind</td>\n",
       "      <td>0.000000</td>\n",
       "    </tr>\n",
       "    <tr>\n",
       "      <th>42507</th>\n",
       "      <td>probably scorsese</td>\n",
       "      <td>0.000000</td>\n",
       "    </tr>\n",
       "    <tr>\n",
       "      <th>42508</th>\n",
       "      <td>probably scribbled</td>\n",
       "      <td>-0.000000</td>\n",
       "    </tr>\n",
       "    <tr>\n",
       "      <th>42509</th>\n",
       "      <td>probably seem</td>\n",
       "      <td>-0.000000</td>\n",
       "    </tr>\n",
       "    <tr>\n",
       "      <th>42510</th>\n",
       "      <td>probably should</td>\n",
       "      <td>-0.000000</td>\n",
       "    </tr>\n",
       "    <tr>\n",
       "      <th>42511</th>\n",
       "      <td>probably signaled</td>\n",
       "      <td>-0.000000</td>\n",
       "    </tr>\n",
       "    <tr>\n",
       "      <th>42512</th>\n",
       "      <td>probably the</td>\n",
       "      <td>0.000000</td>\n",
       "    </tr>\n",
       "    <tr>\n",
       "      <th>42513</th>\n",
       "      <td>probably why</td>\n",
       "      <td>0.000000</td>\n",
       "    </tr>\n",
       "    <tr>\n",
       "      <th>42514</th>\n",
       "      <td>probably wont</td>\n",
       "      <td>-0.000000</td>\n",
       "    </tr>\n",
       "    <tr>\n",
       "      <th>42515</th>\n",
       "      <td>probably would</td>\n",
       "      <td>0.000000</td>\n",
       "    </tr>\n",
       "    <tr>\n",
       "      <th>42516</th>\n",
       "      <td>probably written</td>\n",
       "      <td>-0.000000</td>\n",
       "    </tr>\n",
       "    <tr>\n",
       "      <th>42518</th>\n",
       "      <td>problem and</td>\n",
       "      <td>-0.000000</td>\n",
       "    </tr>\n",
       "    <tr>\n",
       "      <th>42503</th>\n",
       "      <td>probably one</td>\n",
       "      <td>-0.000000</td>\n",
       "    </tr>\n",
       "    <tr>\n",
       "      <th>42519</th>\n",
       "      <td>problem as</td>\n",
       "      <td>-0.000000</td>\n",
       "    </tr>\n",
       "    <tr>\n",
       "      <th>42520</th>\n",
       "      <td>problem is</td>\n",
       "      <td>0.000000</td>\n",
       "    </tr>\n",
       "  </tbody>\n",
       "</table>\n",
       "</div>"
      ],
      "text/plain": [
       "            feature_words  elasticnet_coef\n",
       "28172             is just         0.010045\n",
       "55172          this movie         0.005495\n",
       "0           1960ish there         0.000000\n",
       "42517  probing revelation        -0.000000\n",
       "42505  probably redundant        -0.000000\n",
       "42506     probably remind         0.000000\n",
       "42507   probably scorsese         0.000000\n",
       "42508  probably scribbled        -0.000000\n",
       "42509       probably seem        -0.000000\n",
       "42510     probably should        -0.000000\n",
       "42511   probably signaled        -0.000000\n",
       "42512        probably the         0.000000\n",
       "42513        probably why         0.000000\n",
       "42514       probably wont        -0.000000\n",
       "42515      probably would         0.000000\n",
       "42516    probably written        -0.000000\n",
       "42518         problem and        -0.000000\n",
       "42503        probably one        -0.000000\n",
       "42519          problem as        -0.000000\n",
       "42520          problem is         0.000000"
      ]
     },
     "execution_count": 27,
     "metadata": {},
     "output_type": "execute_result"
    }
   ],
   "source": [
    "coef_feature_word_df.sort_values(by='elasticnet_coef', axis=0, ascending=False).head(20)"
   ]
  },
  {
   "cell_type": "markdown",
   "metadata": {},
   "source": [
    "##### Find most influential trigrams"
   ]
  },
  {
   "cell_type": "code",
   "execution_count": 28,
   "metadata": {
    "collapsed": false
   },
   "outputs": [
    {
     "data": {
      "text/plain": [
       "(250, 11607)"
      ]
     },
     "execution_count": 28,
     "metadata": {},
     "output_type": "execute_result"
    }
   ],
   "source": [
    "tfidf_phrase = TfidfVectorizer(ngram_range=(3,3))\n",
    "\n",
    "phrase_array = tfidf_phrase.fit_transform(reviews.reviews_nonums)\n",
    "feature_phrases = tfidf_phrase.get_feature_names()\n",
    "words_array.shape"
   ]
  },
  {
   "cell_type": "code",
   "execution_count": 29,
   "metadata": {
    "collapsed": false
   },
   "outputs": [
    {
     "data": {
      "text/plain": [
       "0.050360441321364184"
      ]
     },
     "execution_count": 29,
     "metadata": {},
     "output_type": "execute_result"
    }
   ],
   "source": [
    "from sklearn.linear_model import ElasticNetCV\n",
    "elastic = ElasticNetCV()\n",
    "elastic.fit(phrase_array,reviews.review_sent_ratio)\n",
    "\n",
    "coef_feature_word_df = pd.DataFrame()\n",
    "coef_feature_word_df['feature_words'] = feature_phrases\n",
    "coef_feature_word_df['elasticnet_coef'] = elastic.coef_ \n",
    "\n",
    "coef_feature_word_df.elasticnet_coef.max()"
   ]
  },
  {
   "cell_type": "code",
   "execution_count": 30,
   "metadata": {
    "collapsed": false
   },
   "outputs": [
    {
     "data": {
      "text/html": [
       "<div>\n",
       "<table border=\"1\" class=\"dataframe\">\n",
       "  <thead>\n",
       "    <tr style=\"text-align: right;\">\n",
       "      <th></th>\n",
       "      <th>feature_words</th>\n",
       "      <th>elasticnet_coef</th>\n",
       "    </tr>\n",
       "  </thead>\n",
       "  <tbody>\n",
       "    <tr>\n",
       "      <th>42826</th>\n",
       "      <td>it is truly</td>\n",
       "      <td>0.050360</td>\n",
       "    </tr>\n",
       "    <tr>\n",
       "      <th>82634</th>\n",
       "      <td>this movie is</td>\n",
       "      <td>0.026620</td>\n",
       "    </tr>\n",
       "    <tr>\n",
       "      <th>77406</th>\n",
       "      <td>the green mile</td>\n",
       "      <td>0.025667</td>\n",
       "    </tr>\n",
       "    <tr>\n",
       "      <th>75368</th>\n",
       "      <td>the acting is</td>\n",
       "      <td>0.019731</td>\n",
       "    </tr>\n",
       "    <tr>\n",
       "      <th>59717</th>\n",
       "      <td>out of ten</td>\n",
       "      <td>0.017749</td>\n",
       "    </tr>\n",
       "    <tr>\n",
       "      <th>5859</th>\n",
       "      <td>and the fact</td>\n",
       "      <td>0.017276</td>\n",
       "    </tr>\n",
       "    <tr>\n",
       "      <th>40893</th>\n",
       "      <td>is just so</td>\n",
       "      <td>0.016728</td>\n",
       "    </tr>\n",
       "    <tr>\n",
       "      <th>95916</th>\n",
       "      <td>you have to</td>\n",
       "      <td>0.015868</td>\n",
       "    </tr>\n",
       "    <tr>\n",
       "      <th>5818</th>\n",
       "      <td>and the beast</td>\n",
       "      <td>0.015300</td>\n",
       "    </tr>\n",
       "    <tr>\n",
       "      <th>71062</th>\n",
       "      <td>sport it shows</td>\n",
       "      <td>0.014947</td>\n",
       "    </tr>\n",
       "    <tr>\n",
       "      <th>55919</th>\n",
       "      <td>of my top</td>\n",
       "      <td>0.014778</td>\n",
       "    </tr>\n",
       "    <tr>\n",
       "      <th>74610</th>\n",
       "      <td>that it really</td>\n",
       "      <td>0.014716</td>\n",
       "    </tr>\n",
       "    <tr>\n",
       "      <th>77136</th>\n",
       "      <td>the first two</td>\n",
       "      <td>0.013140</td>\n",
       "    </tr>\n",
       "    <tr>\n",
       "      <th>47321</th>\n",
       "      <td>lot of people</td>\n",
       "      <td>0.010169</td>\n",
       "    </tr>\n",
       "    <tr>\n",
       "      <th>76077</th>\n",
       "      <td>the characters are</td>\n",
       "      <td>0.008932</td>\n",
       "    </tr>\n",
       "    <tr>\n",
       "      <th>25278</th>\n",
       "      <td>fall in love</td>\n",
       "      <td>0.008592</td>\n",
       "    </tr>\n",
       "    <tr>\n",
       "      <th>37545</th>\n",
       "      <td>in about years</td>\n",
       "      <td>0.008075</td>\n",
       "    </tr>\n",
       "    <tr>\n",
       "      <th>93175</th>\n",
       "      <td>will always be</td>\n",
       "      <td>0.007179</td>\n",
       "    </tr>\n",
       "    <tr>\n",
       "      <th>14867</th>\n",
       "      <td>can one say</td>\n",
       "      <td>0.007036</td>\n",
       "    </tr>\n",
       "    <tr>\n",
       "      <th>58330</th>\n",
       "      <td>one say about</td>\n",
       "      <td>0.007035</td>\n",
       "    </tr>\n",
       "  </tbody>\n",
       "</table>\n",
       "</div>"
      ],
      "text/plain": [
       "            feature_words  elasticnet_coef\n",
       "42826         it is truly         0.050360\n",
       "82634       this movie is         0.026620\n",
       "77406      the green mile         0.025667\n",
       "75368       the acting is         0.019731\n",
       "59717          out of ten         0.017749\n",
       "5859         and the fact         0.017276\n",
       "40893          is just so         0.016728\n",
       "95916         you have to         0.015868\n",
       "5818        and the beast         0.015300\n",
       "71062      sport it shows         0.014947\n",
       "55919           of my top         0.014778\n",
       "74610      that it really         0.014716\n",
       "77136       the first two         0.013140\n",
       "47321       lot of people         0.010169\n",
       "76077  the characters are         0.008932\n",
       "25278        fall in love         0.008592\n",
       "37545      in about years         0.008075\n",
       "93175      will always be         0.007179\n",
       "14867         can one say         0.007036\n",
       "58330       one say about         0.007035"
      ]
     },
     "execution_count": 30,
     "metadata": {},
     "output_type": "execute_result"
    }
   ],
   "source": [
    "coef_feature_word_df.sort_values(by='elasticnet_coef', axis=0, ascending=False).head(20)"
   ]
  },
  {
   "cell_type": "markdown",
   "metadata": {},
   "source": [
    "##### Create a count vectorization-like set of columns to the reviews table for the top sentiment trigrams\n",
    "Strong coeffecients amongs the trigrams indicate a relatively strong impact on sentiment and possiblly ratings. Conversely, the bigrams had particularly low coeffecients, which is why I am not including them in the final table."
   ]
  },
  {
   "cell_type": "code",
   "execution_count": 31,
   "metadata": {
    "collapsed": false
   },
   "outputs": [],
   "source": [
    "top_trigrams = coef_feature_word_df.sort_values(by='elasticnet_coef', axis=0, ascending=False).head(10)\n",
    "top_trigrams = list(top_trigrams.feature_words)\n",
    "top_trigrams = [str(x) for x in top_trigrams]\n",
    "top_trigrams = ['it is truly',\n",
    "                 'this movie is',\n",
    "                 'the green mile',\n",
    "                 'the acting is',\n",
    "                 'out of ten' #,\n",
    "                 #'and the fact',\n",
    "                 #'is just so',\n",
    "                 #'you have to',\n",
    "                 #'and the beast',\n",
    "                 #'sport it shows'\n",
    "               ]"
   ]
  },
  {
   "cell_type": "code",
   "execution_count": 32,
   "metadata": {
    "collapsed": true
   },
   "outputs": [],
   "source": [
    "find_top_words(reviews.reviews_nonums, top_trigrams) "
   ]
  },
  {
   "cell_type": "code",
   "execution_count": 33,
   "metadata": {
    "collapsed": true
   },
   "outputs": [],
   "source": [
    "#Below commented out as table has already been created \n",
    "#reviews.to_sql('reviews', engine)"
   ]
  },
  {
   "cell_type": "markdown",
   "metadata": {},
   "source": [
    "# Modelling"
   ]
  },
  {
   "cell_type": "markdown",
   "metadata": {},
   "source": [
    "##### Import data"
   ]
  },
  {
   "cell_type": "code",
   "execution_count": 134,
   "metadata": {
    "collapsed": false
   },
   "outputs": [],
   "source": [
    "movie_revs = pd.read_sql_query('select * from top250movies m inner join reviews r on m.tconst = r.tconst;', con=engine, index_col='tconst')"
   ]
  },
  {
   "cell_type": "code",
   "execution_count": 135,
   "metadata": {
    "collapsed": false
   },
   "outputs": [],
   "source": [
    "drop_columns = ['index','reviews','reviews_nonums','review_sent','reviews_nonums_length', 'title']\n",
    "movie_revs.drop(labels=drop_columns, axis=1, inplace=True)"
   ]
  },
  {
   "cell_type": "markdown",
   "metadata": {},
   "source": [
    "##### Identify and reduce noise in the dataset"
   ]
  },
  {
   "cell_type": "markdown",
   "metadata": {},
   "source": [
    "Year and Number of Votes appear to be noisy and bimodal, so I will segment these two fields to focus on movies after 1970 and those that recieved 250,000+ votes. This should reduce noise and help us focus on the most recent movies and relevant data points. "
   ]
  },
  {
   "cell_type": "code",
   "execution_count": 136,
   "metadata": {
    "collapsed": false,
    "scrolled": false
   },
   "outputs": [
    {
     "data": {
      "image/png": "[encoded data removed]",
      "text/plain": [
       "<matplotlib.figure.Figure at 0x131d37610>"
      ]
     },
     "metadata": {},
     "output_type": "display_data"
    },
    {
     "data": {
      "image/png": "[encoded data removed]",
      "text/plain": [
       "<matplotlib.figure.Figure at 0x131d37f50>"
      ]
     },
     "metadata": {},
     "output_type": "display_data"
    },
    {
     "data": {
      "image/png": "[encoded data removed]",
      "text/plain": [
       "<matplotlib.figure.Figure at 0x137d8cf50>"
      ]
     },
     "metadata": {},
     "output_type": "display_data"
    },
    {
     "data": {
      "image/png": "[encoded data removed]",
      "text/plain": [
       "<matplotlib.figure.Figure at 0x1305ccc50>"
      ]
     },
     "metadata": {},
     "output_type": "display_data"
    },
    {
     "data": {
      "image/png": "[encoded data removed]",
      "text/plain": [
       "<matplotlib.figure.Figure at 0x13457cd10>"
      ]
     },
     "metadata": {},
     "output_type": "display_data"
    },
    {
     "data": {
      "image/png": "[encoded data removed]",
      "text/plain": [
       "<matplotlib.figure.Figure at 0x137a04f50>"
      ]
     },
     "metadata": {},
     "output_type": "display_data"
    },
    {
     "data": {
      "image/png": "[encoded data removed]",
      "text/plain": [
       "<matplotlib.figure.Figure at 0x12fd30450>"
      ]
     },
     "metadata": {},
     "output_type": "display_data"
    },
    {
     "data": {
      "image/png": "[encoded data removed]",
      "text/plain": [
       "<matplotlib.figure.Figure at 0x11ecc1ad0>"
      ]
     },
     "metadata": {},
     "output_type": "display_data"
    },
    {
     "data": {
      "image/png": "[encoded data removed]",
      "text/plain": [
       "<matplotlib.figure.Figure at 0x130096050>"
      ]
     },
     "metadata": {},
     "output_type": "display_data"
    },
    {
     "data": {
      "image/png": "[encoded data removed]",
      "text/plain": [
       "<matplotlib.figure.Figure at 0x13009ef90>"
      ]
     },
     "metadata": {},
     "output_type": "display_data"
    },
    {
     "data": {
      "image/png": "[encoded data removed]",
      "text/plain": [
       "<matplotlib.figure.Figure at 0x130521910>"
      ]
     },
     "metadata": {},
     "output_type": "display_data"
    },
    {
     "data": {
      "image/png": "[encoded data removed]",
      "text/plain": [
       "<matplotlib.figure.Figure at 0x1340c7dd0>"
      ]
     },
     "metadata": {},
     "output_type": "display_data"
    },
    {
     "data": {
      "image/png": "[encoded data removed]",
      "text/plain": [
       "<matplotlib.figure.Figure at 0x1321e2310>"
      ]
     },
     "metadata": {},
     "output_type": "display_data"
    },
    {
     "data": {
      "image/png": "[encoded data removed]",
      "text/plain": [
       "<matplotlib.figure.Figure at 0x137c5b810>"
      ]
     },
     "metadata": {},
     "output_type": "display_data"
    },
    {
     "data": {
      "image/png": "[encoded data removed]",
      "text/plain": [
       "<matplotlib.figure.Figure at 0x135e3aa90>"
      ]
     },
     "metadata": {},
     "output_type": "display_data"
    },
    {
     "data": {
      "image/png": "[encoded data removed]",
      "text/plain": [
       "<matplotlib.figure.Figure at 0x135035410>"
      ]
     },
     "metadata": {},
     "output_type": "display_data"
    },
    {
     "data": {
      "image/png": "[encoded data removed]",
      "text/plain": [
       "<matplotlib.figure.Figure at 0x13687f3d0>"
      ]
     },
     "metadata": {},
     "output_type": "display_data"
    },
    {
     "data": {
      "image/png": "[encoded data removed]",
      "text/plain": [
       "<matplotlib.figure.Figure at 0x132a67110>"
      ]
     },
     "metadata": {},
     "output_type": "display_data"
    },
    {
     "data": {
      "image/png": "[encoded data removed]",
      "text/plain": [
       "<matplotlib.figure.Figure at 0x132a70a90>"
      ]
     },
     "metadata": {},
     "output_type": "display_data"
    },
    {
     "data": {
      "image/png": "[encoded data removed]",
      "text/plain": [
       "<matplotlib.figure.Figure at 0x132363950>"
      ]
     },
     "metadata": {},
     "output_type": "display_data"
    },
    {
     "data": {
      "image/png": "[encoded data removed]",
      "text/plain": [
       "<matplotlib.figure.Figure at 0x134053450>"
      ]
     },
     "metadata": {},
     "output_type": "display_data"
    },
    {
     "data": {
      "image/png": "[encoded data removed]",
      "text/plain": [
       "<matplotlib.figure.Figure at 0x135d4d8d0>"
      ]
     },
     "metadata": {},
     "output_type": "display_data"
    },
    {
     "data": {
      "image/png": "[encoded data removed]",
      "text/plain": [
       "<matplotlib.figure.Figure at 0x13550f650>"
      ]
     },
     "metadata": {},
     "output_type": "display_data"
    },
    {
     "data": {
      "image/png": "[encoded data removed]",
      "text/plain": [
       "<matplotlib.figure.Figure at 0x1350c3f10>"
      ]
     },
     "metadata": {},
     "output_type": "display_data"
    },
    {
     "data": {
      "image/png": "[encoded data removed]",
      "text/plain": [
       "<matplotlib.figure.Figure at 0x13574e310>"
      ]
     },
     "metadata": {},
     "output_type": "display_data"
    },
    {
     "data": {
      "image/png": "[encoded data removed]",
      "text/plain": [
       "<matplotlib.figure.Figure at 0x1380d5550>"
      ]
     },
     "metadata": {},
     "output_type": "display_data"
    },
    {
     "data": {
      "image/png": "[encoded data removed]",
      "text/plain": [
       "<matplotlib.figure.Figure at 0x1385d3c10>"
      ]
     },
     "metadata": {},
     "output_type": "display_data"
    },
    {
     "data": {
      "image/png": "[encoded data removed]",
      "text/plain": [
       "<matplotlib.figure.Figure at 0x139cf02d0>"
      ]
     },
     "metadata": {},
     "output_type": "display_data"
    },
    {
     "data": {
      "image/png": "[encoded data removed]",
      "text/plain": [
       "<matplotlib.figure.Figure at 0x139e6dc10>"
      ]
     },
     "metadata": {},
     "output_type": "display_data"
    },
    {
     "data": {
      "image/png": "[encoded data removed]",
      "text/plain": [
       "<matplotlib.figure.Figure at 0x13a11d490>"
      ]
     },
     "metadata": {},
     "output_type": "display_data"
    }
   ],
   "source": [
    "for i in range(30):\n",
    "    sb.distplot(movie_revs[[str(x) for x in list(movie_revs.columns)][i]], bins=20)\n",
    "    plt.show()"
   ]
  },
  {
   "cell_type": "code",
   "execution_count": 137,
   "metadata": {
    "collapsed": false
   },
   "outputs": [],
   "source": [
    "movie_revs.num_votes = np.where(movie_revs.num_votes >= 250000, 1, 0)\n",
    "movie_revs.year = np.where(movie_revs.num_votes >= 250000, 1, 0)"
   ]
  },
  {
   "cell_type": "markdown",
   "metadata": {},
   "source": [
    "##### Initialize models"
   ]
  },
  {
   "cell_type": "code",
   "execution_count": 2,
   "metadata": {
    "collapsed": true
   },
   "outputs": [],
   "source": [
    "from sklearn.linear_model import LinearRegression, TheilSenRegressor, RANSACRegressor, ElasticNet\n",
    "from sklearn.tree import DecisionTreeRegressor, ExtraTreeRegressor\n",
    "from sklearn.ensemble import RandomForestRegressor, AdaBoostRegressor, BaggingRegressor\n",
    "from sklearn.neighbors import KNeighborsRegressor\n",
    "from sklearn.dummy import DummyRegressor\n",
    "from sklearn.cross_validation import cross_val_score"
   ]
  },
  {
   "cell_type": "code",
   "execution_count": 3,
   "metadata": {
    "collapsed": false
   },
   "outputs": [],
   "source": [
    "elastic=ElasticNet()\n",
    "bag_elastic=BaggingRegressor(base_estimator=elastic, random_state=42)\n",
    "dtree=DecisionTreeRegressor(random_state=42)\n",
    "bag_dtree=BaggingRegressor(base_estimator=dtree, random_state=42)\n",
    "extree=ExtraTreeRegressor(random_state=42)\n",
    "bag_extree=BaggingRegressor(base_estimator=extree,random_state=42)\n",
    "rforest=RandomForestRegressor(random_state=42)\n",
    "bag_rforest=BaggingRegressor(base_estimator=rforest,random_state=42)\n",
    "adaboost=AdaBoostRegressor(random_state=42)\n",
    "bag_adaboost=BaggingRegressor(base_estimator=adaboost, random_state=42)\n",
    "knn_k2=KNeighborsRegressor(n_neighbors=2)\n",
    "bag_knn_k2=BaggingRegressor(base_estimator=knn_k2, random_state=42)\n",
    "knn_k3=KNeighborsRegressor(n_neighbors=3)\n",
    "bag_knn_k3=BaggingRegressor(base_estimator=knn_k3, random_state=42)\n",
    "knn_k4=KNeighborsRegressor(n_neighbors=4)\n",
    "knn_k5=KNeighborsRegressor(n_neighbors=5)\n",
    "bag_knn_k5=BaggingRegressor(base_estimator=knn_k5, random_state=42)\n",
    "knn_k6=KNeighborsRegressor(n_neighbors=6)\n",
    "dumm=DummyRegressor()"
   ]
  },
  {
   "cell_type": "code",
   "execution_count": 140,
   "metadata": {
    "collapsed": false
   },
   "outputs": [],
   "source": [
    "def RegressorMSEScore(model, X, y, columns):\n",
    "    \n",
    "    #Returns a list of results \n",
    "    results = []\n",
    "\n",
    "    scoring = cross_val_score(model,X,y,cv=5,scoring='mean_squared_error')\n",
    "    \n",
    "    score = scoring.mean()*-1\n",
    "    results.append(score)\n",
    "    \n",
    "    score_std = scoring.std()\n",
    "    results.append(score_std)\n",
    "    \n",
    "    model.fit(X,y)\n",
    "    \n",
    "    closed = False\n",
    "    \n",
    "    try:\n",
    "        feature_scores = model.coef_.tolist()\n",
    "        closed = True\n",
    "    except:\n",
    "        pass    \n",
    "    \n",
    "    if closed == False:\n",
    "        try:\n",
    "            feature_scores = model.estimator_.coef_.tolist()\n",
    "            closed = True\n",
    "        except:\n",
    "            pass\n",
    "    \n",
    "    if closed == False:\n",
    "        try:    \n",
    "            feature_scores = model.feature_importances_ \n",
    "        except:\n",
    "            feature_scores = ['None'] * len(columns)\n",
    "\n",
    "    for score in feature_scores:\n",
    "        results.append(score) \n",
    "    \n",
    "    return results"
   ]
  },
  {
   "cell_type": "markdown",
   "metadata": {},
   "source": [
    "##### Set variables and run models"
   ]
  },
  {
   "cell_type": "code",
   "execution_count": 141,
   "metadata": {
    "collapsed": true
   },
   "outputs": [],
   "source": [
    "from sklearn.preprocessing import StandardScaler, RobustScaler"
   ]
  },
  {
   "cell_type": "markdown",
   "metadata": {},
   "source": [
    "Stage 1: Initial Model Test"
   ]
  },
  {
   "cell_type": "code",
   "execution_count": 142,
   "metadata": {
    "collapsed": false
   },
   "outputs": [
    {
     "data": {
      "text/html": [
       "<div>\n",
       "<table border=\"1\" class=\"dataframe\">\n",
       "  <thead>\n",
       "    <tr style=\"text-align: right;\">\n",
       "      <th></th>\n",
       "      <th>elastic</th>\n",
       "      <th>bag_elastic</th>\n",
       "      <th>dtree</th>\n",
       "      <th>bag_dtree</th>\n",
       "      <th>extree</th>\n",
       "      <th>bag_extree</th>\n",
       "      <th>rforest</th>\n",
       "      <th>bag_rforest</th>\n",
       "      <th>adaboost</th>\n",
       "      <th>bag_adaboost</th>\n",
       "      <th>knn_k2</th>\n",
       "      <th>bag_knn_k2</th>\n",
       "      <th>knn_k3</th>\n",
       "      <th>bag_knn_k3</th>\n",
       "      <th>knn_k4</th>\n",
       "      <th>knn_k5</th>\n",
       "      <th>bag_knn_k5</th>\n",
       "      <th>knn_k6</th>\n",
       "      <th>dumm</th>\n",
       "      <th>avgs</th>\n",
       "    </tr>\n",
       "  </thead>\n",
       "  <tbody>\n",
       "    <tr>\n",
       "      <th>score</th>\n",
       "      <td>0.078477</td>\n",
       "      <td>0.0784063</td>\n",
       "      <td>0.126480</td>\n",
       "      <td>0.0863984</td>\n",
       "      <td>0.121440</td>\n",
       "      <td>0.0877936</td>\n",
       "      <td>0.083987</td>\n",
       "      <td>0.0828708</td>\n",
       "      <td>0.081848</td>\n",
       "      <td>0.0832144</td>\n",
       "      <td>0.09976</td>\n",
       "      <td>0.0888672</td>\n",
       "      <td>0.0931289</td>\n",
       "      <td>0.0888672</td>\n",
       "      <td>0.0890425</td>\n",
       "      <td>0.083488</td>\n",
       "      <td>0.0822388</td>\n",
       "      <td>0.0809044</td>\n",
       "      <td>0.0784767</td>\n",
       "      <td>0.098446</td>\n",
       "    </tr>\n",
       "    <tr>\n",
       "      <th>score_std</th>\n",
       "      <td>0.087495</td>\n",
       "      <td>0.0880103</td>\n",
       "      <td>0.069947</td>\n",
       "      <td>0.0771415</td>\n",
       "      <td>0.056433</td>\n",
       "      <td>0.0722839</td>\n",
       "      <td>0.076264</td>\n",
       "      <td>0.0821278</td>\n",
       "      <td>0.077423</td>\n",
       "      <td>0.0800964</td>\n",
       "      <td>0.072918</td>\n",
       "      <td>0.0759201</td>\n",
       "      <td>0.0729588</td>\n",
       "      <td>0.0759201</td>\n",
       "      <td>0.0762468</td>\n",
       "      <td>0.0755893</td>\n",
       "      <td>0.0767016</td>\n",
       "      <td>0.0751601</td>\n",
       "      <td>0.0874951</td>\n",
       "      <td>0.073512</td>\n",
       "    </tr>\n",
       "    <tr>\n",
       "      <th>num_votes</th>\n",
       "      <td>0.000000</td>\n",
       "      <td>None</td>\n",
       "      <td>0.067610</td>\n",
       "      <td>None</td>\n",
       "      <td>0.067610</td>\n",
       "      <td>None</td>\n",
       "      <td>0.069059</td>\n",
       "      <td>None</td>\n",
       "      <td>0.191927</td>\n",
       "      <td>None</td>\n",
       "      <td>None</td>\n",
       "      <td>None</td>\n",
       "      <td>None</td>\n",
       "      <td>None</td>\n",
       "      <td>None</td>\n",
       "      <td>None</td>\n",
       "      <td>None</td>\n",
       "      <td>None</td>\n",
       "      <td>None</td>\n",
       "      <td>0.079241</td>\n",
       "    </tr>\n",
       "    <tr>\n",
       "      <th>year</th>\n",
       "      <td>0.000000</td>\n",
       "      <td>None</td>\n",
       "      <td>0.000000</td>\n",
       "      <td>None</td>\n",
       "      <td>0.000000</td>\n",
       "      <td>None</td>\n",
       "      <td>0.000000</td>\n",
       "      <td>None</td>\n",
       "      <td>0.000000</td>\n",
       "      <td>None</td>\n",
       "      <td>None</td>\n",
       "      <td>None</td>\n",
       "      <td>None</td>\n",
       "      <td>None</td>\n",
       "      <td>None</td>\n",
       "      <td>None</td>\n",
       "      <td>None</td>\n",
       "      <td>None</td>\n",
       "      <td>None</td>\n",
       "      <td>0.000000</td>\n",
       "    </tr>\n",
       "    <tr>\n",
       "      <th>review_sent_ratio</th>\n",
       "      <td>0.000000</td>\n",
       "      <td>None</td>\n",
       "      <td>0.413652</td>\n",
       "      <td>None</td>\n",
       "      <td>0.170597</td>\n",
       "      <td>None</td>\n",
       "      <td>0.371830</td>\n",
       "      <td>None</td>\n",
       "      <td>0.361019</td>\n",
       "      <td>None</td>\n",
       "      <td>None</td>\n",
       "      <td>None</td>\n",
       "      <td>None</td>\n",
       "      <td>None</td>\n",
       "      <td>None</td>\n",
       "      <td>None</td>\n",
       "      <td>None</td>\n",
       "      <td>None</td>\n",
       "      <td>None</td>\n",
       "      <td>0.263420</td>\n",
       "    </tr>\n",
       "    <tr>\n",
       "      <th>beautiful</th>\n",
       "      <td>-0.000000</td>\n",
       "      <td>None</td>\n",
       "      <td>0.070899</td>\n",
       "      <td>None</td>\n",
       "      <td>0.057659</td>\n",
       "      <td>None</td>\n",
       "      <td>0.033585</td>\n",
       "      <td>None</td>\n",
       "      <td>0.065561</td>\n",
       "      <td>None</td>\n",
       "      <td>None</td>\n",
       "      <td>None</td>\n",
       "      <td>None</td>\n",
       "      <td>None</td>\n",
       "      <td>None</td>\n",
       "      <td>None</td>\n",
       "      <td>None</td>\n",
       "      <td>None</td>\n",
       "      <td>None</td>\n",
       "      <td>0.045541</td>\n",
       "    </tr>\n",
       "    <tr>\n",
       "      <th>believable</th>\n",
       "      <td>0.000000</td>\n",
       "      <td>None</td>\n",
       "      <td>0.015930</td>\n",
       "      <td>None</td>\n",
       "      <td>0.012382</td>\n",
       "      <td>None</td>\n",
       "      <td>0.014329</td>\n",
       "      <td>None</td>\n",
       "      <td>0.001768</td>\n",
       "      <td>None</td>\n",
       "      <td>None</td>\n",
       "      <td>None</td>\n",
       "      <td>None</td>\n",
       "      <td>None</td>\n",
       "      <td>None</td>\n",
       "      <td>None</td>\n",
       "      <td>None</td>\n",
       "      <td>None</td>\n",
       "      <td>None</td>\n",
       "      <td>0.008882</td>\n",
       "    </tr>\n",
       "    <tr>\n",
       "      <th>gentleman</th>\n",
       "      <td>-0.000000</td>\n",
       "      <td>None</td>\n",
       "      <td>0.000000</td>\n",
       "      <td>None</td>\n",
       "      <td>0.002216</td>\n",
       "      <td>None</td>\n",
       "      <td>0.000000</td>\n",
       "      <td>None</td>\n",
       "      <td>0.000000</td>\n",
       "      <td>None</td>\n",
       "      <td>None</td>\n",
       "      <td>None</td>\n",
       "      <td>None</td>\n",
       "      <td>None</td>\n",
       "      <td>None</td>\n",
       "      <td>None</td>\n",
       "      <td>None</td>\n",
       "      <td>None</td>\n",
       "      <td>None</td>\n",
       "      <td>0.000443</td>\n",
       "    </tr>\n",
       "    <tr>\n",
       "      <th>favorite</th>\n",
       "      <td>-0.000000</td>\n",
       "      <td>None</td>\n",
       "      <td>0.053458</td>\n",
       "      <td>None</td>\n",
       "      <td>0.035077</td>\n",
       "      <td>None</td>\n",
       "      <td>0.036308</td>\n",
       "      <td>None</td>\n",
       "      <td>0.002009</td>\n",
       "      <td>None</td>\n",
       "      <td>None</td>\n",
       "      <td>None</td>\n",
       "      <td>None</td>\n",
       "      <td>None</td>\n",
       "      <td>None</td>\n",
       "      <td>None</td>\n",
       "      <td>None</td>\n",
       "      <td>None</td>\n",
       "      <td>None</td>\n",
       "      <td>0.025370</td>\n",
       "    </tr>\n",
       "    <tr>\n",
       "      <th>art</th>\n",
       "      <td>-0.000000</td>\n",
       "      <td>None</td>\n",
       "      <td>0.027685</td>\n",
       "      <td>None</td>\n",
       "      <td>0.040630</td>\n",
       "      <td>None</td>\n",
       "      <td>0.034794</td>\n",
       "      <td>None</td>\n",
       "      <td>0.077565</td>\n",
       "      <td>None</td>\n",
       "      <td>None</td>\n",
       "      <td>None</td>\n",
       "      <td>None</td>\n",
       "      <td>None</td>\n",
       "      <td>None</td>\n",
       "      <td>None</td>\n",
       "      <td>None</td>\n",
       "      <td>None</td>\n",
       "      <td>None</td>\n",
       "      <td>0.036135</td>\n",
       "    </tr>\n",
       "    <tr>\n",
       "      <th>very</th>\n",
       "      <td>0.000000</td>\n",
       "      <td>None</td>\n",
       "      <td>0.041222</td>\n",
       "      <td>None</td>\n",
       "      <td>0.042530</td>\n",
       "      <td>None</td>\n",
       "      <td>0.025809</td>\n",
       "      <td>None</td>\n",
       "      <td>0.000000</td>\n",
       "      <td>None</td>\n",
       "      <td>None</td>\n",
       "      <td>None</td>\n",
       "      <td>None</td>\n",
       "      <td>None</td>\n",
       "      <td>None</td>\n",
       "      <td>None</td>\n",
       "      <td>None</td>\n",
       "      <td>None</td>\n",
       "      <td>None</td>\n",
       "      <td>0.021912</td>\n",
       "    </tr>\n",
       "    <tr>\n",
       "      <th>sport</th>\n",
       "      <td>-0.000000</td>\n",
       "      <td>None</td>\n",
       "      <td>0.000371</td>\n",
       "      <td>None</td>\n",
       "      <td>0.008546</td>\n",
       "      <td>None</td>\n",
       "      <td>0.007628</td>\n",
       "      <td>None</td>\n",
       "      <td>0.007445</td>\n",
       "      <td>None</td>\n",
       "      <td>None</td>\n",
       "      <td>None</td>\n",
       "      <td>None</td>\n",
       "      <td>None</td>\n",
       "      <td>None</td>\n",
       "      <td>None</td>\n",
       "      <td>None</td>\n",
       "      <td>None</td>\n",
       "      <td>None</td>\n",
       "      <td>0.004798</td>\n",
       "    </tr>\n",
       "    <tr>\n",
       "      <th>depth</th>\n",
       "      <td>0.000000</td>\n",
       "      <td>None</td>\n",
       "      <td>0.021304</td>\n",
       "      <td>None</td>\n",
       "      <td>0.034478</td>\n",
       "      <td>None</td>\n",
       "      <td>0.023236</td>\n",
       "      <td>None</td>\n",
       "      <td>0.004070</td>\n",
       "      <td>None</td>\n",
       "      <td>None</td>\n",
       "      <td>None</td>\n",
       "      <td>None</td>\n",
       "      <td>None</td>\n",
       "      <td>None</td>\n",
       "      <td>None</td>\n",
       "      <td>None</td>\n",
       "      <td>None</td>\n",
       "      <td>None</td>\n",
       "      <td>0.016618</td>\n",
       "    </tr>\n",
       "    <tr>\n",
       "      <th>tears</th>\n",
       "      <td>-0.000000</td>\n",
       "      <td>None</td>\n",
       "      <td>0.018822</td>\n",
       "      <td>None</td>\n",
       "      <td>0.021384</td>\n",
       "      <td>None</td>\n",
       "      <td>0.010724</td>\n",
       "      <td>None</td>\n",
       "      <td>0.000000</td>\n",
       "      <td>None</td>\n",
       "      <td>None</td>\n",
       "      <td>None</td>\n",
       "      <td>None</td>\n",
       "      <td>None</td>\n",
       "      <td>None</td>\n",
       "      <td>None</td>\n",
       "      <td>None</td>\n",
       "      <td>None</td>\n",
       "      <td>None</td>\n",
       "      <td>0.010186</td>\n",
       "    </tr>\n",
       "    <tr>\n",
       "      <th>love</th>\n",
       "      <td>-0.000000</td>\n",
       "      <td>None</td>\n",
       "      <td>0.041063</td>\n",
       "      <td>None</td>\n",
       "      <td>0.027264</td>\n",
       "      <td>None</td>\n",
       "      <td>0.038554</td>\n",
       "      <td>None</td>\n",
       "      <td>0.070614</td>\n",
       "      <td>None</td>\n",
       "      <td>None</td>\n",
       "      <td>None</td>\n",
       "      <td>None</td>\n",
       "      <td>None</td>\n",
       "      <td>None</td>\n",
       "      <td>None</td>\n",
       "      <td>None</td>\n",
       "      <td>None</td>\n",
       "      <td>None</td>\n",
       "      <td>0.035499</td>\n",
       "    </tr>\n",
       "    <tr>\n",
       "      <th>vienna</th>\n",
       "      <td>-0.000000</td>\n",
       "      <td>None</td>\n",
       "      <td>0.001582</td>\n",
       "      <td>None</td>\n",
       "      <td>0.001642</td>\n",
       "      <td>None</td>\n",
       "      <td>0.000439</td>\n",
       "      <td>None</td>\n",
       "      <td>0.000000</td>\n",
       "      <td>None</td>\n",
       "      <td>None</td>\n",
       "      <td>None</td>\n",
       "      <td>None</td>\n",
       "      <td>None</td>\n",
       "      <td>None</td>\n",
       "      <td>None</td>\n",
       "      <td>None</td>\n",
       "      <td>None</td>\n",
       "      <td>None</td>\n",
       "      <td>0.000733</td>\n",
       "    </tr>\n",
       "    <tr>\n",
       "      <th>europe</th>\n",
       "      <td>0.000000</td>\n",
       "      <td>None</td>\n",
       "      <td>0.008245</td>\n",
       "      <td>None</td>\n",
       "      <td>0.027253</td>\n",
       "      <td>None</td>\n",
       "      <td>0.001955</td>\n",
       "      <td>None</td>\n",
       "      <td>0.000000</td>\n",
       "      <td>None</td>\n",
       "      <td>None</td>\n",
       "      <td>None</td>\n",
       "      <td>None</td>\n",
       "      <td>None</td>\n",
       "      <td>None</td>\n",
       "      <td>None</td>\n",
       "      <td>None</td>\n",
       "      <td>None</td>\n",
       "      <td>None</td>\n",
       "      <td>0.007490</td>\n",
       "    </tr>\n",
       "    <tr>\n",
       "      <th>don</th>\n",
       "      <td>-0.000000</td>\n",
       "      <td>None</td>\n",
       "      <td>0.037697</td>\n",
       "      <td>None</td>\n",
       "      <td>0.035502</td>\n",
       "      <td>None</td>\n",
       "      <td>0.033783</td>\n",
       "      <td>None</td>\n",
       "      <td>0.025339</td>\n",
       "      <td>None</td>\n",
       "      <td>None</td>\n",
       "      <td>None</td>\n",
       "      <td>None</td>\n",
       "      <td>None</td>\n",
       "      <td>None</td>\n",
       "      <td>None</td>\n",
       "      <td>None</td>\n",
       "      <td>None</td>\n",
       "      <td>None</td>\n",
       "      <td>0.026464</td>\n",
       "    </tr>\n",
       "    <tr>\n",
       "      <th>truly</th>\n",
       "      <td>0.000000</td>\n",
       "      <td>None</td>\n",
       "      <td>0.035706</td>\n",
       "      <td>None</td>\n",
       "      <td>0.043668</td>\n",
       "      <td>None</td>\n",
       "      <td>0.055603</td>\n",
       "      <td>None</td>\n",
       "      <td>0.034336</td>\n",
       "      <td>None</td>\n",
       "      <td>None</td>\n",
       "      <td>None</td>\n",
       "      <td>None</td>\n",
       "      <td>None</td>\n",
       "      <td>None</td>\n",
       "      <td>None</td>\n",
       "      <td>None</td>\n",
       "      <td>None</td>\n",
       "      <td>None</td>\n",
       "      <td>0.033863</td>\n",
       "    </tr>\n",
       "    <tr>\n",
       "      <th>best</th>\n",
       "      <td>0.000000</td>\n",
       "      <td>None</td>\n",
       "      <td>0.045212</td>\n",
       "      <td>None</td>\n",
       "      <td>0.074024</td>\n",
       "      <td>None</td>\n",
       "      <td>0.050402</td>\n",
       "      <td>None</td>\n",
       "      <td>0.016856</td>\n",
       "      <td>None</td>\n",
       "      <td>None</td>\n",
       "      <td>None</td>\n",
       "      <td>None</td>\n",
       "      <td>None</td>\n",
       "      <td>None</td>\n",
       "      <td>None</td>\n",
       "      <td>None</td>\n",
       "      <td>None</td>\n",
       "      <td>None</td>\n",
       "      <td>0.037299</td>\n",
       "    </tr>\n",
       "    <tr>\n",
       "      <th>screen</th>\n",
       "      <td>-0.000000</td>\n",
       "      <td>None</td>\n",
       "      <td>0.012876</td>\n",
       "      <td>None</td>\n",
       "      <td>0.145210</td>\n",
       "      <td>None</td>\n",
       "      <td>0.042634</td>\n",
       "      <td>None</td>\n",
       "      <td>0.019467</td>\n",
       "      <td>None</td>\n",
       "      <td>None</td>\n",
       "      <td>None</td>\n",
       "      <td>None</td>\n",
       "      <td>None</td>\n",
       "      <td>None</td>\n",
       "      <td>None</td>\n",
       "      <td>None</td>\n",
       "      <td>None</td>\n",
       "      <td>None</td>\n",
       "      <td>0.044038</td>\n",
       "    </tr>\n",
       "    <tr>\n",
       "      <th>everyone</th>\n",
       "      <td>0.000000</td>\n",
       "      <td>None</td>\n",
       "      <td>0.020022</td>\n",
       "      <td>None</td>\n",
       "      <td>0.029180</td>\n",
       "      <td>None</td>\n",
       "      <td>0.039652</td>\n",
       "      <td>None</td>\n",
       "      <td>0.000000</td>\n",
       "      <td>None</td>\n",
       "      <td>None</td>\n",
       "      <td>None</td>\n",
       "      <td>None</td>\n",
       "      <td>None</td>\n",
       "      <td>None</td>\n",
       "      <td>None</td>\n",
       "      <td>None</td>\n",
       "      <td>None</td>\n",
       "      <td>None</td>\n",
       "      <td>0.017771</td>\n",
       "    </tr>\n",
       "    <tr>\n",
       "      <th>it is truly</th>\n",
       "      <td>0.000000</td>\n",
       "      <td>None</td>\n",
       "      <td>0.000000</td>\n",
       "      <td>None</td>\n",
       "      <td>0.001581</td>\n",
       "      <td>None</td>\n",
       "      <td>0.001491</td>\n",
       "      <td>None</td>\n",
       "      <td>0.000000</td>\n",
       "      <td>None</td>\n",
       "      <td>None</td>\n",
       "      <td>None</td>\n",
       "      <td>None</td>\n",
       "      <td>None</td>\n",
       "      <td>None</td>\n",
       "      <td>None</td>\n",
       "      <td>None</td>\n",
       "      <td>None</td>\n",
       "      <td>None</td>\n",
       "      <td>0.000614</td>\n",
       "    </tr>\n",
       "    <tr>\n",
       "      <th>this movie is</th>\n",
       "      <td>0.000000</td>\n",
       "      <td>None</td>\n",
       "      <td>0.023777</td>\n",
       "      <td>None</td>\n",
       "      <td>0.030143</td>\n",
       "      <td>None</td>\n",
       "      <td>0.029165</td>\n",
       "      <td>None</td>\n",
       "      <td>0.045050</td>\n",
       "      <td>None</td>\n",
       "      <td>None</td>\n",
       "      <td>None</td>\n",
       "      <td>None</td>\n",
       "      <td>None</td>\n",
       "      <td>None</td>\n",
       "      <td>None</td>\n",
       "      <td>None</td>\n",
       "      <td>None</td>\n",
       "      <td>None</td>\n",
       "      <td>0.025627</td>\n",
       "    </tr>\n",
       "    <tr>\n",
       "      <th>the green mile</th>\n",
       "      <td>-0.000000</td>\n",
       "      <td>None</td>\n",
       "      <td>0.000000</td>\n",
       "      <td>None</td>\n",
       "      <td>0.000000</td>\n",
       "      <td>None</td>\n",
       "      <td>0.001766</td>\n",
       "      <td>None</td>\n",
       "      <td>0.000000</td>\n",
       "      <td>None</td>\n",
       "      <td>None</td>\n",
       "      <td>None</td>\n",
       "      <td>None</td>\n",
       "      <td>None</td>\n",
       "      <td>None</td>\n",
       "      <td>None</td>\n",
       "      <td>None</td>\n",
       "      <td>None</td>\n",
       "      <td>None</td>\n",
       "      <td>0.000353</td>\n",
       "    </tr>\n",
       "    <tr>\n",
       "      <th>the acting is</th>\n",
       "      <td>0.000000</td>\n",
       "      <td>None</td>\n",
       "      <td>0.004171</td>\n",
       "      <td>None</td>\n",
       "      <td>0.013410</td>\n",
       "      <td>None</td>\n",
       "      <td>0.009956</td>\n",
       "      <td>None</td>\n",
       "      <td>0.000000</td>\n",
       "      <td>None</td>\n",
       "      <td>None</td>\n",
       "      <td>None</td>\n",
       "      <td>None</td>\n",
       "      <td>None</td>\n",
       "      <td>None</td>\n",
       "      <td>None</td>\n",
       "      <td>None</td>\n",
       "      <td>None</td>\n",
       "      <td>None</td>\n",
       "      <td>0.005507</td>\n",
       "    </tr>\n",
       "    <tr>\n",
       "      <th>out of ten</th>\n",
       "      <td>0.000000</td>\n",
       "      <td>None</td>\n",
       "      <td>0.006607</td>\n",
       "      <td>None</td>\n",
       "      <td>0.044464</td>\n",
       "      <td>None</td>\n",
       "      <td>0.041109</td>\n",
       "      <td>None</td>\n",
       "      <td>0.066984</td>\n",
       "      <td>None</td>\n",
       "      <td>None</td>\n",
       "      <td>None</td>\n",
       "      <td>None</td>\n",
       "      <td>None</td>\n",
       "      <td>None</td>\n",
       "      <td>None</td>\n",
       "      <td>None</td>\n",
       "      <td>None</td>\n",
       "      <td>None</td>\n",
       "      <td>0.031833</td>\n",
       "    </tr>\n",
       "    <tr>\n",
       "      <th>and the fact</th>\n",
       "      <td>-0.000000</td>\n",
       "      <td>None</td>\n",
       "      <td>0.000000</td>\n",
       "      <td>None</td>\n",
       "      <td>0.002341</td>\n",
       "      <td>None</td>\n",
       "      <td>0.000775</td>\n",
       "      <td>None</td>\n",
       "      <td>0.000000</td>\n",
       "      <td>None</td>\n",
       "      <td>None</td>\n",
       "      <td>None</td>\n",
       "      <td>None</td>\n",
       "      <td>None</td>\n",
       "      <td>None</td>\n",
       "      <td>None</td>\n",
       "      <td>None</td>\n",
       "      <td>None</td>\n",
       "      <td>None</td>\n",
       "      <td>0.000623</td>\n",
       "    </tr>\n",
       "    <tr>\n",
       "      <th>is just so</th>\n",
       "      <td>-0.000000</td>\n",
       "      <td>None</td>\n",
       "      <td>0.000371</td>\n",
       "      <td>None</td>\n",
       "      <td>0.001246</td>\n",
       "      <td>None</td>\n",
       "      <td>0.002371</td>\n",
       "      <td>None</td>\n",
       "      <td>0.000000</td>\n",
       "      <td>None</td>\n",
       "      <td>None</td>\n",
       "      <td>None</td>\n",
       "      <td>None</td>\n",
       "      <td>None</td>\n",
       "      <td>None</td>\n",
       "      <td>None</td>\n",
       "      <td>None</td>\n",
       "      <td>None</td>\n",
       "      <td>None</td>\n",
       "      <td>0.000798</td>\n",
       "    </tr>\n",
       "    <tr>\n",
       "      <th>you have to</th>\n",
       "      <td>0.000000</td>\n",
       "      <td>None</td>\n",
       "      <td>0.031719</td>\n",
       "      <td>None</td>\n",
       "      <td>0.029966</td>\n",
       "      <td>None</td>\n",
       "      <td>0.020694</td>\n",
       "      <td>None</td>\n",
       "      <td>0.009990</td>\n",
       "      <td>None</td>\n",
       "      <td>None</td>\n",
       "      <td>None</td>\n",
       "      <td>None</td>\n",
       "      <td>None</td>\n",
       "      <td>None</td>\n",
       "      <td>None</td>\n",
       "      <td>None</td>\n",
       "      <td>None</td>\n",
       "      <td>None</td>\n",
       "      <td>0.018474</td>\n",
       "    </tr>\n",
       "    <tr>\n",
       "      <th>and the beast</th>\n",
       "      <td>-0.000000</td>\n",
       "      <td>None</td>\n",
       "      <td>0.000000</td>\n",
       "      <td>None</td>\n",
       "      <td>0.000000</td>\n",
       "      <td>None</td>\n",
       "      <td>0.002297</td>\n",
       "      <td>None</td>\n",
       "      <td>0.000000</td>\n",
       "      <td>None</td>\n",
       "      <td>None</td>\n",
       "      <td>None</td>\n",
       "      <td>None</td>\n",
       "      <td>None</td>\n",
       "      <td>None</td>\n",
       "      <td>None</td>\n",
       "      <td>None</td>\n",
       "      <td>None</td>\n",
       "      <td>None</td>\n",
       "      <td>0.000459</td>\n",
       "    </tr>\n",
       "    <tr>\n",
       "      <th>sport it shows</th>\n",
       "      <td>-0.000000</td>\n",
       "      <td>None</td>\n",
       "      <td>0.000000</td>\n",
       "      <td>None</td>\n",
       "      <td>0.000000</td>\n",
       "      <td>None</td>\n",
       "      <td>0.000051</td>\n",
       "      <td>None</td>\n",
       "      <td>0.000000</td>\n",
       "      <td>None</td>\n",
       "      <td>None</td>\n",
       "      <td>None</td>\n",
       "      <td>None</td>\n",
       "      <td>None</td>\n",
       "      <td>None</td>\n",
       "      <td>None</td>\n",
       "      <td>None</td>\n",
       "      <td>None</td>\n",
       "      <td>None</td>\n",
       "      <td>0.000010</td>\n",
       "    </tr>\n",
       "  </tbody>\n",
       "</table>\n",
       "</div>"
      ],
      "text/plain": [
       "                    elastic bag_elastic     dtree  bag_dtree    extree  \\\n",
       "score              0.078477   0.0784063  0.126480  0.0863984  0.121440   \n",
       "score_std          0.087495   0.0880103  0.069947  0.0771415  0.056433   \n",
       "num_votes          0.000000        None  0.067610       None  0.067610   \n",
       "year               0.000000        None  0.000000       None  0.000000   \n",
       "review_sent_ratio  0.000000        None  0.413652       None  0.170597   \n",
       "beautiful         -0.000000        None  0.070899       None  0.057659   \n",
       "believable         0.000000        None  0.015930       None  0.012382   \n",
       "gentleman         -0.000000        None  0.000000       None  0.002216   \n",
       "favorite          -0.000000        None  0.053458       None  0.035077   \n",
       "art               -0.000000        None  0.027685       None  0.040630   \n",
       "very               0.000000        None  0.041222       None  0.042530   \n",
       "sport             -0.000000        None  0.000371       None  0.008546   \n",
       "depth              0.000000        None  0.021304       None  0.034478   \n",
       "tears             -0.000000        None  0.018822       None  0.021384   \n",
       "love              -0.000000        None  0.041063       None  0.027264   \n",
       "vienna            -0.000000        None  0.001582       None  0.001642   \n",
       "europe             0.000000        None  0.008245       None  0.027253   \n",
       "don               -0.000000        None  0.037697       None  0.035502   \n",
       "truly              0.000000        None  0.035706       None  0.043668   \n",
       "best               0.000000        None  0.045212       None  0.074024   \n",
       "screen            -0.000000        None  0.012876       None  0.145210   \n",
       "everyone           0.000000        None  0.020022       None  0.029180   \n",
       "it is truly        0.000000        None  0.000000       None  0.001581   \n",
       "this movie is      0.000000        None  0.023777       None  0.030143   \n",
       "the green mile    -0.000000        None  0.000000       None  0.000000   \n",
       "the acting is      0.000000        None  0.004171       None  0.013410   \n",
       "out of ten         0.000000        None  0.006607       None  0.044464   \n",
       "and the fact      -0.000000        None  0.000000       None  0.002341   \n",
       "is just so        -0.000000        None  0.000371       None  0.001246   \n",
       "you have to        0.000000        None  0.031719       None  0.029966   \n",
       "and the beast     -0.000000        None  0.000000       None  0.000000   \n",
       "sport it shows    -0.000000        None  0.000000       None  0.000000   \n",
       "\n",
       "                  bag_extree   rforest bag_rforest  adaboost bag_adaboost  \\\n",
       "score              0.0877936  0.083987   0.0828708  0.081848    0.0832144   \n",
       "score_std          0.0722839  0.076264   0.0821278  0.077423    0.0800964   \n",
       "num_votes               None  0.069059        None  0.191927         None   \n",
       "year                    None  0.000000        None  0.000000         None   \n",
       "review_sent_ratio       None  0.371830        None  0.361019         None   \n",
       "beautiful               None  0.033585        None  0.065561         None   \n",
       "believable              None  0.014329        None  0.001768         None   \n",
       "gentleman               None  0.000000        None  0.000000         None   \n",
       "favorite                None  0.036308        None  0.002009         None   \n",
       "art                     None  0.034794        None  0.077565         None   \n",
       "very                    None  0.025809        None  0.000000         None   \n",
       "sport                   None  0.007628        None  0.007445         None   \n",
       "depth                   None  0.023236        None  0.004070         None   \n",
       "tears                   None  0.010724        None  0.000000         None   \n",
       "love                    None  0.038554        None  0.070614         None   \n",
       "vienna                  None  0.000439        None  0.000000         None   \n",
       "europe                  None  0.001955        None  0.000000         None   \n",
       "don                     None  0.033783        None  0.025339         None   \n",
       "truly                   None  0.055603        None  0.034336         None   \n",
       "best                    None  0.050402        None  0.016856         None   \n",
       "screen                  None  0.042634        None  0.019467         None   \n",
       "everyone                None  0.039652        None  0.000000         None   \n",
       "it is truly             None  0.001491        None  0.000000         None   \n",
       "this movie is           None  0.029165        None  0.045050         None   \n",
       "the green mile          None  0.001766        None  0.000000         None   \n",
       "the acting is           None  0.009956        None  0.000000         None   \n",
       "out of ten              None  0.041109        None  0.066984         None   \n",
       "and the fact            None  0.000775        None  0.000000         None   \n",
       "is just so              None  0.002371        None  0.000000         None   \n",
       "you have to             None  0.020694        None  0.009990         None   \n",
       "and the beast           None  0.002297        None  0.000000         None   \n",
       "sport it shows          None  0.000051        None  0.000000         None   \n",
       "\n",
       "                     knn_k2 bag_knn_k2     knn_k3 bag_knn_k3     knn_k4  \\\n",
       "score               0.09976  0.0888672  0.0931289  0.0888672  0.0890425   \n",
       "score_std          0.072918  0.0759201  0.0729588  0.0759201  0.0762468   \n",
       "num_votes              None       None       None       None       None   \n",
       "year                   None       None       None       None       None   \n",
       "review_sent_ratio      None       None       None       None       None   \n",
       "beautiful              None       None       None       None       None   \n",
       "believable             None       None       None       None       None   \n",
       "gentleman              None       None       None       None       None   \n",
       "favorite               None       None       None       None       None   \n",
       "art                    None       None       None       None       None   \n",
       "very                   None       None       None       None       None   \n",
       "sport                  None       None       None       None       None   \n",
       "depth                  None       None       None       None       None   \n",
       "tears                  None       None       None       None       None   \n",
       "love                   None       None       None       None       None   \n",
       "vienna                 None       None       None       None       None   \n",
       "europe                 None       None       None       None       None   \n",
       "don                    None       None       None       None       None   \n",
       "truly                  None       None       None       None       None   \n",
       "best                   None       None       None       None       None   \n",
       "screen                 None       None       None       None       None   \n",
       "everyone               None       None       None       None       None   \n",
       "it is truly            None       None       None       None       None   \n",
       "this movie is          None       None       None       None       None   \n",
       "the green mile         None       None       None       None       None   \n",
       "the acting is          None       None       None       None       None   \n",
       "out of ten             None       None       None       None       None   \n",
       "and the fact           None       None       None       None       None   \n",
       "is just so             None       None       None       None       None   \n",
       "you have to            None       None       None       None       None   \n",
       "and the beast          None       None       None       None       None   \n",
       "sport it shows         None       None       None       None       None   \n",
       "\n",
       "                      knn_k5 bag_knn_k5     knn_k6       dumm      avgs  \n",
       "score               0.083488  0.0822388  0.0809044  0.0784767  0.098446  \n",
       "score_std          0.0755893  0.0767016  0.0751601  0.0874951  0.073512  \n",
       "num_votes               None       None       None       None  0.079241  \n",
       "year                    None       None       None       None  0.000000  \n",
       "review_sent_ratio       None       None       None       None  0.263420  \n",
       "beautiful               None       None       None       None  0.045541  \n",
       "believable              None       None       None       None  0.008882  \n",
       "gentleman               None       None       None       None  0.000443  \n",
       "favorite                None       None       None       None  0.025370  \n",
       "art                     None       None       None       None  0.036135  \n",
       "very                    None       None       None       None  0.021912  \n",
       "sport                   None       None       None       None  0.004798  \n",
       "depth                   None       None       None       None  0.016618  \n",
       "tears                   None       None       None       None  0.010186  \n",
       "love                    None       None       None       None  0.035499  \n",
       "vienna                  None       None       None       None  0.000733  \n",
       "europe                  None       None       None       None  0.007490  \n",
       "don                     None       None       None       None  0.026464  \n",
       "truly                   None       None       None       None  0.033863  \n",
       "best                    None       None       None       None  0.037299  \n",
       "screen                  None       None       None       None  0.044038  \n",
       "everyone                None       None       None       None  0.017771  \n",
       "it is truly             None       None       None       None  0.000614  \n",
       "this movie is           None       None       None       None  0.025627  \n",
       "the green mile          None       None       None       None  0.000353  \n",
       "the acting is           None       None       None       None  0.005507  \n",
       "out of ten              None       None       None       None  0.031833  \n",
       "and the fact            None       None       None       None  0.000623  \n",
       "is just so              None       None       None       None  0.000798  \n",
       "you have to             None       None       None       None  0.018474  \n",
       "and the beast           None       None       None       None  0.000459  \n",
       "sport it shows          None       None       None       None  0.000010  "
      ]
     },
     "execution_count": 142,
     "metadata": {},
     "output_type": "execute_result"
    }
   ],
   "source": [
    "#Original X\n",
    "X_original = movie_revs.drop(labels=['rating'], axis=1)\n",
    "columns = X_original.columns\n",
    "\n",
    "#Scalled X\n",
    "scaler = StandardScaler()\n",
    "X_scalled = scaler.fit_transform(X_original)\n",
    "\n",
    "#Select the X and y\n",
    "X = X_scalled\n",
    "y = movie_revs.rating\n",
    "\n",
    "\n",
    "list_of_models = [elastic,\n",
    "                  bag_elastic,\n",
    "                  dtree,\n",
    "                  bag_dtree,\n",
    "                  extree,\n",
    "                  bag_extree,\n",
    "                  rforest,\n",
    "                  bag_rforest,\n",
    "                  adaboost,\n",
    "                  bag_adaboost,\n",
    "                  knn_k2,\n",
    "                  bag_knn_k2,\n",
    "                  knn_k3,\n",
    "                  bag_knn_k3,\n",
    "                  knn_k4,\n",
    "                  knn_k5,\n",
    "                  bag_knn_k5,\n",
    "                  knn_k6,\n",
    "                  dumm]\n",
    "\n",
    "\n",
    "list_of_models_str = ['elastic',\n",
    "                      'bag_elastic',\n",
    "                      'dtree',\n",
    "                      'bag_dtree',\n",
    "                      'extree',\n",
    "                      'bag_extree',\n",
    "                      'rforest',\n",
    "                      'bag_rforest',\n",
    "                      'adaboost',\n",
    "                      'bag_adaboost',\n",
    "                      'knn_k2',\n",
    "                      'bag_knn_k2',\n",
    "                      'knn_k3',\n",
    "                      'bag_knn_k3',\n",
    "                      'knn_k4',\n",
    "                      'knn_k5',\n",
    "                      'bag_knn_k5',\n",
    "                      'knn_k6',\n",
    "                      'dumm']\n",
    "\n",
    "#Build index\n",
    "index=[]\n",
    "index.append('score')\n",
    "index.append('score_std')\n",
    "for x in columns:\n",
    "    index.append(x) \n",
    "\n",
    "#Build dataframe\n",
    "scoring_df = pd.DataFrame(index=index)\n",
    "zipped = zip(list_of_models,list_of_models_str)\n",
    "\n",
    "count = 0\n",
    "for m in list_of_models:\n",
    "    scoring_df[zipped[count][1]] = RegressorMSEScore(m, X, y, columns)\n",
    "    count+=1\n",
    "\n",
    "scoring_df['avgs'] = scoring_df.mean(axis=1)\n",
    "\n",
    "scoring_df"
   ]
  },
  {
   "cell_type": "code",
   "execution_count": 143,
   "metadata": {
    "collapsed": false
   },
   "outputs": [
    {
     "data": {
      "image/png": "[encoded data removed]",
      "text/plain": [
       "<matplotlib.figure.Figure at 0x13a37ec50>"
      ]
     },
     "metadata": {},
     "output_type": "display_data"
    }
   ],
   "source": [
    "sb.set(style=\"whitegrid\")\n",
    "sb.barplot(x=scoring_df.T.score[:17], y=scoring_df.T.index[:17])\n",
    "plt.xlabel('Model Performance')\n",
    "plt.show()"
   ]
  },
  {
   "cell_type": "code",
   "execution_count": 144,
   "metadata": {
    "collapsed": false
   },
   "outputs": [
    {
     "data": {
      "image/png": "[encoded data removed]",
      "text/plain": [
       "<matplotlib.figure.Figure at 0x13a398690>"
      ]
     },
     "metadata": {},
     "output_type": "display_data"
    }
   ],
   "source": [
    "sb.set(style=\"whitegrid\")\n",
    "sb.barplot(x=scoring_df.avgs[2:], y=scoring_df.index[2:], palette='RdYlGn', hue=scoring_df.avgs[2:] > 0)\n",
    "plt.xlabel('Feature Performance')\n",
    "plt.show()"
   ]
  },
  {
   "cell_type": "markdown",
   "metadata": {},
   "source": [
    "Stage 2: Prune and Re-run Models"
   ]
  },
  {
   "cell_type": "code",
   "execution_count": 145,
   "metadata": {
    "collapsed": false
   },
   "outputs": [
    {
     "data": {
      "text/html": [
       "<div>\n",
       "<table border=\"1\" class=\"dataframe\">\n",
       "  <thead>\n",
       "    <tr style=\"text-align: right;\">\n",
       "      <th></th>\n",
       "      <th>elastic</th>\n",
       "      <th>bag_elastic</th>\n",
       "      <th>dtree</th>\n",
       "      <th>bag_dtree</th>\n",
       "      <th>extree</th>\n",
       "      <th>bag_extree</th>\n",
       "      <th>rforest</th>\n",
       "      <th>bag_rforest</th>\n",
       "      <th>adaboost</th>\n",
       "      <th>bag_adaboost</th>\n",
       "      <th>knn_k2</th>\n",
       "      <th>bag_knn_k2</th>\n",
       "      <th>knn_k3</th>\n",
       "      <th>bag_knn_k3</th>\n",
       "      <th>knn_k4</th>\n",
       "      <th>knn_k5</th>\n",
       "      <th>bag_knn_k5</th>\n",
       "      <th>knn_k6</th>\n",
       "      <th>dumm</th>\n",
       "      <th>avgs</th>\n",
       "    </tr>\n",
       "  </thead>\n",
       "  <tbody>\n",
       "    <tr>\n",
       "      <th>score</th>\n",
       "      <td>0.078477</td>\n",
       "      <td>0.0784063</td>\n",
       "      <td>0.118800</td>\n",
       "      <td>0.0857088</td>\n",
       "      <td>0.119440</td>\n",
       "      <td>0.0909428</td>\n",
       "      <td>0.084457</td>\n",
       "      <td>0.0804688</td>\n",
       "      <td>0.083771</td>\n",
       "      <td>0.0821946</td>\n",
       "      <td>0.09925</td>\n",
       "      <td>0.0870451</td>\n",
       "      <td>0.0925244</td>\n",
       "      <td>0.0870451</td>\n",
       "      <td>0.0860975</td>\n",
       "      <td>0.0839152</td>\n",
       "      <td>0.0831586</td>\n",
       "      <td>0.0824933</td>\n",
       "      <td>0.0784767</td>\n",
       "      <td>0.096989</td>\n",
       "    </tr>\n",
       "    <tr>\n",
       "      <th>score_std</th>\n",
       "      <td>0.087495</td>\n",
       "      <td>0.0880103</td>\n",
       "      <td>0.063799</td>\n",
       "      <td>0.0761856</td>\n",
       "      <td>0.073897</td>\n",
       "      <td>0.0740704</td>\n",
       "      <td>0.077163</td>\n",
       "      <td>0.0809298</td>\n",
       "      <td>0.075469</td>\n",
       "      <td>0.0783337</td>\n",
       "      <td>0.0671559</td>\n",
       "      <td>0.0728575</td>\n",
       "      <td>0.0694394</td>\n",
       "      <td>0.0728575</td>\n",
       "      <td>0.072023</td>\n",
       "      <td>0.0751817</td>\n",
       "      <td>0.0779195</td>\n",
       "      <td>0.0772441</td>\n",
       "      <td>0.0874951</td>\n",
       "      <td>0.075564</td>\n",
       "    </tr>\n",
       "    <tr>\n",
       "      <th>num_votes</th>\n",
       "      <td>0.000000</td>\n",
       "      <td>None</td>\n",
       "      <td>0.067610</td>\n",
       "      <td>None</td>\n",
       "      <td>0.067610</td>\n",
       "      <td>None</td>\n",
       "      <td>0.071458</td>\n",
       "      <td>None</td>\n",
       "      <td>0.196474</td>\n",
       "      <td>None</td>\n",
       "      <td>None</td>\n",
       "      <td>None</td>\n",
       "      <td>None</td>\n",
       "      <td>None</td>\n",
       "      <td>None</td>\n",
       "      <td>None</td>\n",
       "      <td>None</td>\n",
       "      <td>None</td>\n",
       "      <td>None</td>\n",
       "      <td>0.080630</td>\n",
       "    </tr>\n",
       "    <tr>\n",
       "      <th>review_sent_ratio</th>\n",
       "      <td>0.000000</td>\n",
       "      <td>None</td>\n",
       "      <td>0.572471</td>\n",
       "      <td>None</td>\n",
       "      <td>0.371151</td>\n",
       "      <td>None</td>\n",
       "      <td>0.464128</td>\n",
       "      <td>None</td>\n",
       "      <td>0.371002</td>\n",
       "      <td>None</td>\n",
       "      <td>None</td>\n",
       "      <td>None</td>\n",
       "      <td>None</td>\n",
       "      <td>None</td>\n",
       "      <td>None</td>\n",
       "      <td>None</td>\n",
       "      <td>None</td>\n",
       "      <td>None</td>\n",
       "      <td>None</td>\n",
       "      <td>0.355750</td>\n",
       "    </tr>\n",
       "    <tr>\n",
       "      <th>beautiful</th>\n",
       "      <td>-0.000000</td>\n",
       "      <td>None</td>\n",
       "      <td>0.064846</td>\n",
       "      <td>None</td>\n",
       "      <td>0.063740</td>\n",
       "      <td>None</td>\n",
       "      <td>0.060938</td>\n",
       "      <td>None</td>\n",
       "      <td>0.039579</td>\n",
       "      <td>None</td>\n",
       "      <td>None</td>\n",
       "      <td>None</td>\n",
       "      <td>None</td>\n",
       "      <td>None</td>\n",
       "      <td>None</td>\n",
       "      <td>None</td>\n",
       "      <td>None</td>\n",
       "      <td>None</td>\n",
       "      <td>None</td>\n",
       "      <td>0.045821</td>\n",
       "    </tr>\n",
       "    <tr>\n",
       "      <th>art</th>\n",
       "      <td>-0.000000</td>\n",
       "      <td>None</td>\n",
       "      <td>0.033465</td>\n",
       "      <td>None</td>\n",
       "      <td>0.072581</td>\n",
       "      <td>None</td>\n",
       "      <td>0.040734</td>\n",
       "      <td>None</td>\n",
       "      <td>0.078379</td>\n",
       "      <td>None</td>\n",
       "      <td>None</td>\n",
       "      <td>None</td>\n",
       "      <td>None</td>\n",
       "      <td>None</td>\n",
       "      <td>None</td>\n",
       "      <td>None</td>\n",
       "      <td>None</td>\n",
       "      <td>None</td>\n",
       "      <td>None</td>\n",
       "      <td>0.045032</td>\n",
       "    </tr>\n",
       "    <tr>\n",
       "      <th>love</th>\n",
       "      <td>-0.000000</td>\n",
       "      <td>None</td>\n",
       "      <td>0.027615</td>\n",
       "      <td>None</td>\n",
       "      <td>0.031212</td>\n",
       "      <td>None</td>\n",
       "      <td>0.043860</td>\n",
       "      <td>None</td>\n",
       "      <td>0.058299</td>\n",
       "      <td>None</td>\n",
       "      <td>None</td>\n",
       "      <td>None</td>\n",
       "      <td>None</td>\n",
       "      <td>None</td>\n",
       "      <td>None</td>\n",
       "      <td>None</td>\n",
       "      <td>None</td>\n",
       "      <td>None</td>\n",
       "      <td>None</td>\n",
       "      <td>0.032197</td>\n",
       "    </tr>\n",
       "    <tr>\n",
       "      <th>don</th>\n",
       "      <td>-0.000000</td>\n",
       "      <td>None</td>\n",
       "      <td>0.042716</td>\n",
       "      <td>None</td>\n",
       "      <td>0.048532</td>\n",
       "      <td>None</td>\n",
       "      <td>0.046595</td>\n",
       "      <td>None</td>\n",
       "      <td>0.029847</td>\n",
       "      <td>None</td>\n",
       "      <td>None</td>\n",
       "      <td>None</td>\n",
       "      <td>None</td>\n",
       "      <td>None</td>\n",
       "      <td>None</td>\n",
       "      <td>None</td>\n",
       "      <td>None</td>\n",
       "      <td>None</td>\n",
       "      <td>None</td>\n",
       "      <td>0.033538</td>\n",
       "    </tr>\n",
       "    <tr>\n",
       "      <th>truly</th>\n",
       "      <td>0.000000</td>\n",
       "      <td>None</td>\n",
       "      <td>0.039004</td>\n",
       "      <td>None</td>\n",
       "      <td>0.039420</td>\n",
       "      <td>None</td>\n",
       "      <td>0.068668</td>\n",
       "      <td>None</td>\n",
       "      <td>0.034942</td>\n",
       "      <td>None</td>\n",
       "      <td>None</td>\n",
       "      <td>None</td>\n",
       "      <td>None</td>\n",
       "      <td>None</td>\n",
       "      <td>None</td>\n",
       "      <td>None</td>\n",
       "      <td>None</td>\n",
       "      <td>None</td>\n",
       "      <td>None</td>\n",
       "      <td>0.036407</td>\n",
       "    </tr>\n",
       "    <tr>\n",
       "      <th>best</th>\n",
       "      <td>0.000000</td>\n",
       "      <td>None</td>\n",
       "      <td>0.063290</td>\n",
       "      <td>None</td>\n",
       "      <td>0.093104</td>\n",
       "      <td>None</td>\n",
       "      <td>0.059989</td>\n",
       "      <td>None</td>\n",
       "      <td>0.041888</td>\n",
       "      <td>None</td>\n",
       "      <td>None</td>\n",
       "      <td>None</td>\n",
       "      <td>None</td>\n",
       "      <td>None</td>\n",
       "      <td>None</td>\n",
       "      <td>None</td>\n",
       "      <td>None</td>\n",
       "      <td>None</td>\n",
       "      <td>None</td>\n",
       "      <td>0.051654</td>\n",
       "    </tr>\n",
       "    <tr>\n",
       "      <th>screen</th>\n",
       "      <td>-0.000000</td>\n",
       "      <td>None</td>\n",
       "      <td>0.031943</td>\n",
       "      <td>None</td>\n",
       "      <td>0.088454</td>\n",
       "      <td>None</td>\n",
       "      <td>0.048192</td>\n",
       "      <td>None</td>\n",
       "      <td>0.016449</td>\n",
       "      <td>None</td>\n",
       "      <td>None</td>\n",
       "      <td>None</td>\n",
       "      <td>None</td>\n",
       "      <td>None</td>\n",
       "      <td>None</td>\n",
       "      <td>None</td>\n",
       "      <td>None</td>\n",
       "      <td>None</td>\n",
       "      <td>None</td>\n",
       "      <td>0.037008</td>\n",
       "    </tr>\n",
       "    <tr>\n",
       "      <th>everyone</th>\n",
       "      <td>0.000000</td>\n",
       "      <td>None</td>\n",
       "      <td>0.026919</td>\n",
       "      <td>None</td>\n",
       "      <td>0.049043</td>\n",
       "      <td>None</td>\n",
       "      <td>0.042306</td>\n",
       "      <td>None</td>\n",
       "      <td>0.067150</td>\n",
       "      <td>None</td>\n",
       "      <td>None</td>\n",
       "      <td>None</td>\n",
       "      <td>None</td>\n",
       "      <td>None</td>\n",
       "      <td>None</td>\n",
       "      <td>None</td>\n",
       "      <td>None</td>\n",
       "      <td>None</td>\n",
       "      <td>None</td>\n",
       "      <td>0.037084</td>\n",
       "    </tr>\n",
       "    <tr>\n",
       "      <th>this movie is</th>\n",
       "      <td>0.000000</td>\n",
       "      <td>None</td>\n",
       "      <td>0.019368</td>\n",
       "      <td>None</td>\n",
       "      <td>0.030689</td>\n",
       "      <td>None</td>\n",
       "      <td>0.020624</td>\n",
       "      <td>None</td>\n",
       "      <td>0.006293</td>\n",
       "      <td>None</td>\n",
       "      <td>None</td>\n",
       "      <td>None</td>\n",
       "      <td>None</td>\n",
       "      <td>None</td>\n",
       "      <td>None</td>\n",
       "      <td>None</td>\n",
       "      <td>None</td>\n",
       "      <td>None</td>\n",
       "      <td>None</td>\n",
       "      <td>0.015395</td>\n",
       "    </tr>\n",
       "    <tr>\n",
       "      <th>out of ten</th>\n",
       "      <td>0.000000</td>\n",
       "      <td>None</td>\n",
       "      <td>0.010753</td>\n",
       "      <td>None</td>\n",
       "      <td>0.044464</td>\n",
       "      <td>None</td>\n",
       "      <td>0.032508</td>\n",
       "      <td>None</td>\n",
       "      <td>0.059698</td>\n",
       "      <td>None</td>\n",
       "      <td>None</td>\n",
       "      <td>None</td>\n",
       "      <td>None</td>\n",
       "      <td>None</td>\n",
       "      <td>None</td>\n",
       "      <td>None</td>\n",
       "      <td>None</td>\n",
       "      <td>None</td>\n",
       "      <td>None</td>\n",
       "      <td>0.029484</td>\n",
       "    </tr>\n",
       "  </tbody>\n",
       "</table>\n",
       "</div>"
      ],
      "text/plain": [
       "                    elastic bag_elastic     dtree  bag_dtree    extree  \\\n",
       "score              0.078477   0.0784063  0.118800  0.0857088  0.119440   \n",
       "score_std          0.087495   0.0880103  0.063799  0.0761856  0.073897   \n",
       "num_votes          0.000000        None  0.067610       None  0.067610   \n",
       "review_sent_ratio  0.000000        None  0.572471       None  0.371151   \n",
       "beautiful         -0.000000        None  0.064846       None  0.063740   \n",
       "art               -0.000000        None  0.033465       None  0.072581   \n",
       "love              -0.000000        None  0.027615       None  0.031212   \n",
       "don               -0.000000        None  0.042716       None  0.048532   \n",
       "truly              0.000000        None  0.039004       None  0.039420   \n",
       "best               0.000000        None  0.063290       None  0.093104   \n",
       "screen            -0.000000        None  0.031943       None  0.088454   \n",
       "everyone           0.000000        None  0.026919       None  0.049043   \n",
       "this movie is      0.000000        None  0.019368       None  0.030689   \n",
       "out of ten         0.000000        None  0.010753       None  0.044464   \n",
       "\n",
       "                  bag_extree   rforest bag_rforest  adaboost bag_adaboost  \\\n",
       "score              0.0909428  0.084457   0.0804688  0.083771    0.0821946   \n",
       "score_std          0.0740704  0.077163   0.0809298  0.075469    0.0783337   \n",
       "num_votes               None  0.071458        None  0.196474         None   \n",
       "review_sent_ratio       None  0.464128        None  0.371002         None   \n",
       "beautiful               None  0.060938        None  0.039579         None   \n",
       "art                     None  0.040734        None  0.078379         None   \n",
       "love                    None  0.043860        None  0.058299         None   \n",
       "don                     None  0.046595        None  0.029847         None   \n",
       "truly                   None  0.068668        None  0.034942         None   \n",
       "best                    None  0.059989        None  0.041888         None   \n",
       "screen                  None  0.048192        None  0.016449         None   \n",
       "everyone                None  0.042306        None  0.067150         None   \n",
       "this movie is           None  0.020624        None  0.006293         None   \n",
       "out of ten              None  0.032508        None  0.059698         None   \n",
       "\n",
       "                      knn_k2 bag_knn_k2     knn_k3 bag_knn_k3     knn_k4  \\\n",
       "score                0.09925  0.0870451  0.0925244  0.0870451  0.0860975   \n",
       "score_std          0.0671559  0.0728575  0.0694394  0.0728575   0.072023   \n",
       "num_votes               None       None       None       None       None   \n",
       "review_sent_ratio       None       None       None       None       None   \n",
       "beautiful               None       None       None       None       None   \n",
       "art                     None       None       None       None       None   \n",
       "love                    None       None       None       None       None   \n",
       "don                     None       None       None       None       None   \n",
       "truly                   None       None       None       None       None   \n",
       "best                    None       None       None       None       None   \n",
       "screen                  None       None       None       None       None   \n",
       "everyone                None       None       None       None       None   \n",
       "this movie is           None       None       None       None       None   \n",
       "out of ten              None       None       None       None       None   \n",
       "\n",
       "                      knn_k5 bag_knn_k5     knn_k6       dumm      avgs  \n",
       "score              0.0839152  0.0831586  0.0824933  0.0784767  0.096989  \n",
       "score_std          0.0751817  0.0779195  0.0772441  0.0874951  0.075564  \n",
       "num_votes               None       None       None       None  0.080630  \n",
       "review_sent_ratio       None       None       None       None  0.355750  \n",
       "beautiful               None       None       None       None  0.045821  \n",
       "art                     None       None       None       None  0.045032  \n",
       "love                    None       None       None       None  0.032197  \n",
       "don                     None       None       None       None  0.033538  \n",
       "truly                   None       None       None       None  0.036407  \n",
       "best                    None       None       None       None  0.051654  \n",
       "screen                  None       None       None       None  0.037008  \n",
       "everyone                None       None       None       None  0.037084  \n",
       "this movie is           None       None       None       None  0.015395  \n",
       "out of ten              None       None       None       None  0.029484  "
      ]
     },
     "execution_count": 145,
     "metadata": {},
     "output_type": "execute_result"
    }
   ],
   "source": [
    "#Original X\n",
    "X_original = movie_revs.drop(labels=['rating',\n",
    "                                     'year',\n",
    "                                     'gentleman',\n",
    "                                     'favorite',\n",
    "                                     'sport',\n",
    "                                     'vienna',\n",
    "                                     'europe',\n",
    "                                     'it is truly',\n",
    "                                     'the green mile',\n",
    "                                     'the acting is',\n",
    "                                     'and the fact',\n",
    "                                     'is just so',\n",
    "                                     'and the beast',\n",
    "                                     'sport it shows',\n",
    "                                     'believable',\n",
    "                                     'depth',\n",
    "                                     'tears',\n",
    "                                     'very',\n",
    "                                     'you have to'\n",
    "                                    ], \n",
    "                                     axis=1)\n",
    "columns = X_original.columns\n",
    "\n",
    "#Scalled X\n",
    "scaler = StandardScaler()\n",
    "X_scalled = scaler.fit_transform(X_original)\n",
    "\n",
    "#Select the X and y\n",
    "X = X_scalled\n",
    "y = movie_revs.rating\n",
    "\n",
    "\n",
    "list_of_models = [elastic,\n",
    "                  bag_elastic,\n",
    "                  dtree,\n",
    "                  bag_dtree,\n",
    "                  extree,\n",
    "                  bag_extree,\n",
    "                  rforest,\n",
    "                  bag_rforest,\n",
    "                  adaboost,\n",
    "                  bag_adaboost,\n",
    "                  knn_k2,\n",
    "                  bag_knn_k2,\n",
    "                  knn_k3,\n",
    "                  bag_knn_k3,\n",
    "                  knn_k4,\n",
    "                  knn_k5,\n",
    "                  bag_knn_k5,\n",
    "                  knn_k6,\n",
    "                  dumm]\n",
    "\n",
    "\n",
    "list_of_models_str = ['elastic',\n",
    "                      'bag_elastic',\n",
    "                      'dtree',\n",
    "                      'bag_dtree',\n",
    "                      'extree',\n",
    "                      'bag_extree',\n",
    "                      'rforest',\n",
    "                      'bag_rforest',\n",
    "                      'adaboost',\n",
    "                      'bag_adaboost',\n",
    "                      'knn_k2',\n",
    "                      'bag_knn_k2',\n",
    "                      'knn_k3',\n",
    "                      'bag_knn_k3',\n",
    "                      'knn_k4',\n",
    "                      'knn_k5',\n",
    "                      'bag_knn_k5',\n",
    "                      'knn_k6',\n",
    "                      'dumm']\n",
    "\n",
    "#Build index\n",
    "index=[]\n",
    "index.append('score')\n",
    "index.append('score_std')\n",
    "for x in columns:\n",
    "    index.append(x) \n",
    "\n",
    "#Build dataframe\n",
    "scoring_df = pd.DataFrame(index=index)\n",
    "zipped = zip(list_of_models,list_of_models_str)\n",
    "\n",
    "count = 0\n",
    "for m in list_of_models:\n",
    "    scoring_df[zipped[count][1]] = RegressorMSEScore(m, X, y, columns)\n",
    "    count+=1\n",
    "\n",
    "scoring_df['avgs'] = scoring_df.mean(axis=1)"
   ]
  },
  {
   "cell_type": "code",
   "execution_count": 146,
   "metadata": {
    "collapsed": false
   },
   "outputs": [
    {
     "data": {
      "image/png": "[encoded data removed]",
      "text/plain": [
       "<matplotlib.figure.Figure at 0x13242f9d0>"
      ]
     },
     "metadata": {},
     "output_type": "display_data"
    }
   ],
   "source": [
    "sb.set(style=\"whitegrid\")\n",
    "sb.barplot(x=scoring_df.T.score[:17], y=scoring_df.T.index[:17])\n",
    "plt.xlabel('Model Performance (Pruned)')\n",
    "plt.show()"
   ]
  },
  {
   "cell_type": "code",
   "execution_count": 147,
   "metadata": {
    "collapsed": false
   },
   "outputs": [
    {
     "data": {
      "image/png": "[encoded data removed]",
      "text/plain": [
       "<matplotlib.figure.Figure at 0x131d87bd0>"
      ]
     },
     "metadata": {},
     "output_type": "display_data"
    }
   ],
   "source": [
    "sb.set(style=\"whitegrid\")\n",
    "sb.barplot(x=scoring_df.avgs[2:], y=scoring_df.index[2:], palette='RdYlGn', hue=scoring_df.avgs[2:] > 0)\n",
    "plt.xlabel('Feature Performance (Pruned)')\n",
    "plt.show()"
   ]
  },
  {
   "cell_type": "markdown",
   "metadata": {},
   "source": [
    "Stage 3: Gridsearch Top 3 Models"
   ]
  },
  {
   "cell_type": "code",
   "execution_count": 148,
   "metadata": {
    "collapsed": true
   },
   "outputs": [],
   "source": [
    "from sklearn.grid_search import GridSearchCV"
   ]
  },
  {
   "cell_type": "code",
   "execution_count": 161,
   "metadata": {
    "collapsed": false
   },
   "outputs": [
    {
     "data": {
      "text/plain": [
       "{'max_depth': 2,\n",
       " 'max_features': 'sqrt',\n",
       " 'random_state': 42,\n",
       " 'splitter': 'best'}"
      ]
     },
     "execution_count": 161,
     "metadata": {},
     "output_type": "execute_result"
    }
   ],
   "source": [
    "dtree_params = {'splitter': ['best', 'random'],\n",
    "                'max_features': ['auto', 'sqrt', 'log2'],\n",
    "                'max_depth': [2,4,6,8,10],\n",
    "                'random_state': [42]\n",
    "               }\n",
    "\n",
    "gridsearch = GridSearchCV(dtree,dtree_params,cv=5)\n",
    "gridsearch.fit(X,y)\n",
    "\n",
    "dtree_gs = gridsearch.best_estimator_\n",
    "gridsearch.best_params_"
   ]
  },
  {
   "cell_type": "code",
   "execution_count": 162,
   "metadata": {
    "collapsed": false
   },
   "outputs": [
    {
     "data": {
      "text/plain": [
       "{'max_depth': 2, 'max_features': 'sqrt', 'random_state': 42}"
      ]
     },
     "execution_count": 162,
     "metadata": {},
     "output_type": "execute_result"
    }
   ],
   "source": [
    "extree_params = {#'n_estimators': [10, 15, 20],\n",
    "                 #'criterion': ['mse','mae'],\n",
    "                 'max_features': ['auto', 'sqrt', 'log2'],\n",
    "                 'max_depth': [2,4,6,8,10],\n",
    "                 'random_state': [42]\n",
    "                }\n",
    "\n",
    "gridsearch = GridSearchCV(extree,extree_params,cv=5)\n",
    "gridsearch.fit(X,y)\n",
    "\n",
    "extree_gs = gridsearch.best_estimator_\n",
    "gridsearch.best_params_"
   ]
  },
  {
   "cell_type": "code",
   "execution_count": 165,
   "metadata": {
    "collapsed": false
   },
   "outputs": [
    {
     "data": {
      "text/plain": [
       "{'algorithm': 'auto', 'leaf_size': 20, 'p': 1, 'weights': 'uniform'}"
      ]
     },
     "execution_count": 165,
     "metadata": {},
     "output_type": "execute_result"
    }
   ],
   "source": [
    "knn_k2_params = {'weights': ['uniform', 'distance'], \n",
    "                 'algorithm': ['auto', 'ball_tree', 'kd_tree', 'brute', 'auto'], \n",
    "                 'leaf_size': [20, 30, 40], \n",
    "                 'p': [1,2,3],\n",
    "                }\n",
    "\n",
    "gridsearch = GridSearchCV(knn_k2,knn_k2_params,cv=5)\n",
    "gridsearch.fit(X,y)\n",
    "\n",
    "knn_k2_gs = gridsearch.best_estimator_\n",
    "gridsearch.best_params_"
   ]
  },
  {
   "cell_type": "code",
   "execution_count": 201,
   "metadata": {
    "collapsed": false
   },
   "outputs": [],
   "source": [
    "#Original X\n",
    "X_original = movie_revs.drop(labels=['rating',\n",
    "                                     'year',\n",
    "                                     'gentleman',\n",
    "                                     'favorite',\n",
    "                                     'sport',\n",
    "                                     'vienna',\n",
    "                                     'europe',\n",
    "                                     'it is truly',\n",
    "                                     'the green mile',\n",
    "                                     'the acting is',\n",
    "                                     'and the fact',\n",
    "                                     'is just so',\n",
    "                                     'and the beast',\n",
    "                                     'sport it shows',\n",
    "                                     'believable',\n",
    "                                     'depth',\n",
    "                                     'tears',\n",
    "                                     'very',\n",
    "                                     'you have to',\n",
    "                                     'beautiful',\n",
    "                                     'this movie is',\n",
    "                                     'art',\n",
    "                                     'love',\n",
    "                                     'don',\n",
    "                                     'everyone',\n",
    "                                     'truly',\n",
    "                                     'best',\n",
    "                                     'screen',\n",
    "                                     'out of ten'\n",
    "                                    ], \n",
    "                                     axis=1)\n",
    "columns = X_original.columns\n",
    "\n",
    "#Scalled X\n",
    "scaler = StandardScaler()\n",
    "X_scalled = scaler.fit_transform(X_original)\n",
    "\n",
    "#Select the X and y\n",
    "X = X_scalled\n",
    "y = movie_revs.rating\n",
    "\n",
    "\n",
    "list_of_models = [elastic,\n",
    "                  bag_elastic,\n",
    "                  dtree,\n",
    "                  dtree_gs,\n",
    "                  bag_dtree,\n",
    "                  extree,\n",
    "                  extree_gs,\n",
    "                  bag_extree,\n",
    "                  rforest,\n",
    "                  bag_rforest,\n",
    "                  adaboost,\n",
    "                  bag_adaboost,\n",
    "                  knn_k2,\n",
    "                  knn_k2_gs,\n",
    "                  bag_knn_k2,\n",
    "                  knn_k3,\n",
    "                  bag_knn_k3,\n",
    "                  knn_k4,\n",
    "                  knn_k5,\n",
    "                  bag_knn_k5,\n",
    "                  knn_k6,\n",
    "                  dumm]\n",
    "\n",
    "\n",
    "list_of_models_str = ['elastic',\n",
    "                      'bag_elastic',\n",
    "                      'dtree',\n",
    "                      'dtree_gs',\n",
    "                      'bag_dtree',\n",
    "                      'extree',\n",
    "                      'extree_gs',\n",
    "                      'bag_extree',\n",
    "                      'rforest',\n",
    "                      'bag_rforest',\n",
    "                      'adaboost',\n",
    "                      'bag_adaboost',\n",
    "                      'knn_k2',\n",
    "                      'knn_k2_gs',\n",
    "                      'bag_knn_k2',\n",
    "                      'knn_k3',\n",
    "                      'bag_knn_k3',\n",
    "                      'knn_k4',\n",
    "                      'knn_k5',\n",
    "                      'bag_knn_k5',\n",
    "                      'knn_k6',\n",
    "                      'dumm']\n",
    "\n",
    "#Build index\n",
    "index=[]\n",
    "index.append('score')\n",
    "index.append('score_std')\n",
    "for x in columns:\n",
    "    index.append(x) \n",
    "\n",
    "#Build dataframe\n",
    "scoring_df = pd.DataFrame(index=index)\n",
    "zipped = zip(list_of_models,list_of_models_str)\n",
    "\n",
    "count = 0\n",
    "for m in list_of_models:\n",
    "    scoring_df[zipped[count][1]] = RegressorMSEScore(m, X, y, columns)\n",
    "    count+=1\n",
    "\n",
    "scoring_df['avgs'] = scoring_df.mean(axis=1)"
   ]
  },
  {
   "cell_type": "code",
   "execution_count": 202,
   "metadata": {
    "collapsed": false
   },
   "outputs": [
    {
     "data": {
      "image/png": "[encoded data removed]",
      "text/plain": [
       "<matplotlib.figure.Figure at 0x12f60b4d0>"
      ]
     },
     "metadata": {},
     "output_type": "display_data"
    },
    {
     "data": {
      "image/png": "[encoded data removed]",
      "text/plain": [
       "<matplotlib.figure.Figure at 0x1357af7d0>"
      ]
     },
     "metadata": {},
     "output_type": "display_data"
    }
   ],
   "source": [
    "sb.set(style=\"whitegrid\")\n",
    "sb.barplot(x=scoring_df.T.score[:17], y=scoring_df.T.index[:17])\n",
    "plt.xlabel('Model Performance (Pruned)')\n",
    "plt.show()\n",
    "\n",
    "sb.set(style=\"whitegrid\")\n",
    "sb.barplot(x=scoring_df.avgs[2:], y=scoring_df.index[2:], palette='RdYlGn', hue=scoring_df.avgs[2:] > 0)\n",
    "plt.xlabel('Feature Performance (Pruned)')\n",
    "plt.show()"
   ]
  },
  {
   "cell_type": "markdown",
   "metadata": {},
   "source": [
    "Stage 4: Validate Models"
   ]
  },
  {
   "cell_type": "code",
   "execution_count": 203,
   "metadata": {
    "collapsed": true
   },
   "outputs": [],
   "source": [
    "from sklearn.cross_validation import train_test_split\n",
    "from sklearn.metrics import r2_score"
   ]
  },
  {
   "cell_type": "code",
   "execution_count": 204,
   "metadata": {
    "collapsed": true
   },
   "outputs": [],
   "source": [
    "X_train, X_test, y_train, y_test = train_test_split(X, y, test_size=0.3)"
   ]
  },
  {
   "cell_type": "code",
   "execution_count": 205,
   "metadata": {
    "collapsed": false
   },
   "outputs": [
    {
     "data": {
      "text/plain": [
       "-0.90293895488566989"
      ]
     },
     "execution_count": 205,
     "metadata": {},
     "output_type": "execute_result"
    }
   ],
   "source": [
    "dtree.fit(X_train, y_train)\n",
    "dtree_prediction =  dtree.predict(X_test)\n",
    "r2_score(y_test, dtree_prediction)"
   ]
  },
  {
   "cell_type": "code",
   "execution_count": 206,
   "metadata": {
    "collapsed": false
   },
   "outputs": [
    {
     "data": {
      "image/png": "[encoded data removed]",
      "text/plain": [
       "<matplotlib.figure.Figure at 0x137e89710>"
      ]
     },
     "metadata": {},
     "output_type": "display_data"
    }
   ],
   "source": [
    "plt.scatter(y_test, dtree_prediction)\n",
    "plt.show()"
   ]
  },
  {
   "cell_type": "code",
   "execution_count": 207,
   "metadata": {
    "collapsed": false
   },
   "outputs": [
    {
     "data": {
      "text/plain": [
       "-0.87976378493442353"
      ]
     },
     "execution_count": 207,
     "metadata": {},
     "output_type": "execute_result"
    }
   ],
   "source": [
    "extree.fit(X_train, y_train)\n",
    "extree_prediction = extree.predict(X_test)\n",
    "r2_score(y_test, extree_prediction)"
   ]
  },
  {
   "cell_type": "code",
   "execution_count": 208,
   "metadata": {
    "collapsed": false
   },
   "outputs": [
    {
     "data": {
      "image/png": "[encoded data removed]",
      "text/plain": [
       "<matplotlib.figure.Figure at 0x12fd0e3d0>"
      ]
     },
     "metadata": {},
     "output_type": "display_data"
    }
   ],
   "source": [
    "plt.scatter(y_test, extree_prediction)\n",
    "plt.show()"
   ]
  },
  {
   "cell_type": "code",
   "execution_count": 209,
   "metadata": {
    "collapsed": false
   },
   "outputs": [
    {
     "data": {
      "text/plain": [
       "-0.17613987502574946"
      ]
     },
     "execution_count": 209,
     "metadata": {},
     "output_type": "execute_result"
    }
   ],
   "source": [
    "knn_k2.fit(X_train, y_train)\n",
    "knn_k2_prediction = knn_k2.predict(X_test)\n",
    "r2_score(y_test, knn_k2_prediction)"
   ]
  },
  {
   "cell_type": "code",
   "execution_count": 210,
   "metadata": {
    "collapsed": false
   },
   "outputs": [
    {
     "data": {
      "image/png": "[encoded data removed]",
      "text/plain": [
       "<matplotlib.figure.Figure at 0x132c9c7d0>"
      ]
     },
     "metadata": {},
     "output_type": "display_data"
    }
   ],
   "source": [
    "plt.scatter(y_test, knn_k2_prediction)\n",
    "plt.show()"
   ]
  },
  {
   "cell_type": "markdown",
   "metadata": {},
   "source": [
    "# Possible Next Steps\n",
    "\n",
    "* Use Hyperplot instead of Gridsearch\n",
    "* Do some PCA analysis\n",
    "* Do a cluster analysis using one of the clustering methods we've covered\n",
    "* Evaluate solely based on quality metrics such as SSE/inertia and sillhouette or others\n",
    "* Describe your findings based on the predicted clusters (How well did it do? What's good or bad? How would you improve this? Does any of it make sense?)\n"
   ]
  },
  {
   "cell_type": "code",
   "execution_count": null,
   "metadata": {
    "collapsed": true
   },
   "outputs": [],
   "source": []
  }
 ],
 "metadata": {
  "kernelspec": {
   "display_name": "Python 2",
   "language": "python",
   "name": "python2"
  },
  "language_info": {
   "codemirror_mode": {
    "name": "ipython",
    "version": 2
   },
   "file_extension": ".py",
   "mimetype": "text/x-python",
   "name": "python",
   "nbconvert_exporter": "python",
   "pygments_lexer": "ipython2",
   "version": "2.7.12"
  }
 },
 "nbformat": 4,
 "nbformat_minor": 0
}
