{
 "cells": [
  {
   "cell_type": "markdown",
   "metadata": {},
   "source": [
    "# What Predicts the Best Data Science Salaries?\n",
    "*Logistic Regression & Best Predictor of Data Science Salaries | Project 4 in General Assembly's DSI*\n",
    "\n",
    "##### Description\n",
    "\n",
    "From the job search aggregator, Indeed.com, I scrapped key data points from over 2700 jobs across six cities: Sydney, Melbourne, San Francisco, New York, Newark and Chicago. The resulting datasets were collated, cleaned and stored in the pandas DataFrame 'jobs', which was used to identify what feature is the best predictor of salary. \n",
    "\n",
    "The results of the logistic regression indicate that there are few features acting as valid predictors. Specifically, words from job titles or job descriptions are the most accurate predictors, but only for the lowest salary bin. \n",
    "\n",
    "##### Contents\n",
    "\n",
    "* Import scrapped data\n",
    "* Further clean data\n",
    "* Convert salaries into USD\n",
    "* Explore shape of dataset\n",
    "* Select optimal bins for salaries\n",
    "* Logistical Regression and results\n",
    "* Key word analysis \n"
   ]
  },
  {
   "cell_type": "code",
   "execution_count": 137,
   "metadata": {
    "collapsed": false
   },
   "outputs": [],
   "source": [
    "%matplotlib inline\n",
    "import requests\n",
    "import urllib2\n",
    "import bs4\n",
    "from bs4 import BeautifulSoup\n",
    "import pandas as pd\n",
    "import numpy as np\n",
    "import matplotlib.pyplot as plt\n",
    "import seaborn as sb\n",
    "import psycopg2\n",
    "import string"
   ]
  },
  {
   "cell_type": "markdown",
   "metadata": {},
   "source": [
    "### Import Scrapped Data"
   ]
  },
  {
   "cell_type": "code",
   "execution_count": 138,
   "metadata": {
    "collapsed": false
   },
   "outputs": [],
   "source": [
    "jobs = pd.read_csv('./job_searches.csv')\n",
    "nyc_jobs = pd.read_csv('new_job_searches.csv')\n",
    "chi_jobs = pd.read_csv('chi_job_searches.csv')"
   ]
  },
  {
   "cell_type": "code",
   "execution_count": 139,
   "metadata": {
    "collapsed": false
   },
   "outputs": [
    {
     "name": "stdout",
     "output_type": "stream",
     "text": [
      "(1326, 16)\n",
      "(1078, 16)\n"
     ]
    }
   ],
   "source": [
    "print jobs.shape\n",
    "print nyc_jobs.shape"
   ]
  },
  {
   "cell_type": "code",
   "execution_count": 140,
   "metadata": {
    "collapsed": false
   },
   "outputs": [],
   "source": [
    "jobs = jobs.append(nyc_jobs)\n",
    "jobs = jobs.append(chi_jobs)"
   ]
  },
  {
   "cell_type": "code",
   "execution_count": 141,
   "metadata": {
    "collapsed": false
   },
   "outputs": [
    {
     "data": {
      "text/plain": [
       "(2713, 16)"
      ]
     },
     "execution_count": 141,
     "metadata": {},
     "output_type": "execute_result"
    }
   ],
   "source": [
    "jobs.shape"
   ]
  },
  {
   "cell_type": "markdown",
   "metadata": {},
   "source": [
    "### Further Clean Data"
   ]
  },
  {
   "cell_type": "code",
   "execution_count": 142,
   "metadata": {
    "collapsed": false
   },
   "outputs": [
    {
     "name": "stdout",
     "output_type": "stream",
     "text": [
      "(2713, 16)\n",
      "<class 'pandas.core.frame.DataFrame'>\n",
      "Int64Index: 2713 entries, 0 to 308\n",
      "Data columns (total 13 columns):\n",
      "company                 2713 non-null object\n",
      "culture                 2713 non-null object\n",
      "job_addr                2713 non-null object\n",
      "job_description         2713 non-null object\n",
      "job_security_advance    2713 non-null object\n",
      "job_title               2713 non-null object\n",
      "link                    2713 non-null object\n",
      "management              2713 non-null object\n",
      "reviews_score           2713 non-null float64\n",
      "reviews_total           2713 non-null object\n",
      "salary_benefits         2713 non-null object\n",
      "work_life_bal           2713 non-null object\n",
      "salary_bins_int         2713 non-null int64\n",
      "dtypes: float64(1), int64(1), object(11)\n",
      "memory usage: 296.7+ KB\n"
     ]
    }
   ],
   "source": [
    "print jobs.shape\n",
    "jobs.drop(labels=['salary_bins', 'salary', 'job_posted'], axis=1, inplace=True)\n",
    "jobs.info()"
   ]
  },
  {
   "cell_type": "code",
   "execution_count": 143,
   "metadata": {
    "collapsed": false
   },
   "outputs": [
    {
     "data": {
      "text/plain": [
       "array(['NSW', 'VIC', 'CA', 'NY', 'NJ', 'IL'], dtype=object)"
      ]
     },
     "execution_count": 143,
     "metadata": {},
     "output_type": "execute_result"
    }
   ],
   "source": [
    "states=[]\n",
    "\n",
    "for i in jobs.job_addr:\n",
    "    if 'CA' in i:\n",
    "        states.append('CA')\n",
    "    elif 'NSW' in i:\n",
    "        states.append('NSW')\n",
    "    elif 'VIC' in i:\n",
    "        states.append('VIC')\n",
    "    elif 'NY' in i:\n",
    "        states.append('NY')\n",
    "    elif 'NJ' in i:\n",
    "        states.append('NJ')\n",
    "    elif 'IL' in i:\n",
    "        states.append('IL')\n",
    "    else:\n",
    "        states.append('i')\n",
    "        \n",
    "jobs['state'] = states\n",
    "\n",
    "jobs.state.unique()"
   ]
  },
  {
   "cell_type": "markdown",
   "metadata": {},
   "source": [
    "### Convert to USD"
   ]
  },
  {
   "cell_type": "code",
   "execution_count": 144,
   "metadata": {
    "collapsed": false
   },
   "outputs": [],
   "source": [
    "dictionary={'NSW': 0.77, 'VIC': 0.77, 'CA': 1, 'NY': 1, 'NJ': 1, 'IL': 1}\n",
    "jobs['conversion_to_USD'] = jobs.state.map(dictionary) \n",
    "jobs['adj_salary_bin'] = jobs.salary_bins_int*jobs.conversion_to_USD"
   ]
  },
  {
   "cell_type": "markdown",
   "metadata": {},
   "source": [
    "### Exploratory Analysis"
   ]
  },
  {
   "cell_type": "code",
   "execution_count": 145,
   "metadata": {
    "collapsed": false
   },
   "outputs": [
    {
     "data": {
      "image/png": "[encoded data removed]",
      "text/plain": [
       "<matplotlib.figure.Figure at 0x1029ad590>"
      ]
     },
     "metadata": {},
     "output_type": "display_data"
    }
   ],
   "source": [
    "sb.distplot(jobs.adj_salary_bin, bins=8)\n",
    "plt.show()"
   ]
  },
  {
   "cell_type": "code",
   "execution_count": 146,
   "metadata": {
    "collapsed": false
   },
   "outputs": [
    {
     "data": {
      "image/png": "[encoded data removed]",
      "text/plain": [
       "<matplotlib.figure.Figure at 0x11862ab90>"
      ]
     },
     "metadata": {},
     "output_type": "display_data"
    }
   ],
   "source": [
    "cali = jobs[jobs.state == 'CA']\n",
    "#nyc = jobs[(jobs.state == 'NY' )& (jobs.state == 'NJ')]\n",
    "ny = jobs[jobs.state == 'NY']\n",
    "nj = jobs[jobs.state == 'NJ']\n",
    "il = jobs[jobs.state == 'IL']\n",
    "aus = jobs[jobs.conversion_to_USD == 0.77]\n",
    "\n",
    "plt.hist(cali.adj_salary_bin, color='b', alpha=0.25)\n",
    "plt.hist(aus.adj_salary_bin, color='r', alpha=0.5)\n",
    "plt.hist(ny.adj_salary_bin, color='g', alpha=0.5)\n",
    "plt.hist(nj.adj_salary_bin, color='orange', alpha=0.5)\n",
    "plt.hist(il.adj_salary_bin, color='black', alpha=0.5)\n",
    "\n",
    "\n",
    "plt.xlabel('Distribution of Salaries in USD')\n",
    "\n",
    "plt.show()"
   ]
  },
  {
   "cell_type": "code",
   "execution_count": 147,
   "metadata": {
    "collapsed": false
   },
   "outputs": [
    {
     "data": {
      "image/png": "[encoded data removed]",
      "text/plain": [
       "<matplotlib.figure.Figure at 0x11bc80710>"
      ]
     },
     "metadata": {},
     "output_type": "display_data"
    }
   ],
   "source": [
    "import seaborn as sb\n",
    "sb.violinplot(x=jobs.state, y=jobs.adj_salary_bin, data=jobs)\n",
    "plt.show()"
   ]
  },
  {
   "cell_type": "code",
   "execution_count": 148,
   "metadata": {
    "collapsed": false
   },
   "outputs": [
    {
     "data": {
      "image/png": "[encoded data removed]",
      "text/plain": [
       "<matplotlib.figure.Figure at 0x11ba4d950>"
      ]
     },
     "metadata": {},
     "output_type": "display_data"
    }
   ],
   "source": [
    "sb.violinplot(x=jobs.state, y=jobs.reviews_score, data=jobs)\n",
    "plt.show()"
   ]
  },
  {
   "cell_type": "markdown",
   "metadata": {},
   "source": [
    "### Select Optimal Bins for Salaries"
   ]
  },
  {
   "cell_type": "code",
   "execution_count": 149,
   "metadata": {
    "collapsed": false
   },
   "outputs": [
    {
     "data": {
      "image/png": "[encoded data removed]",
      "text/plain": [
       "<matplotlib.figure.Figure at 0x11f639390>"
      ]
     },
     "metadata": {},
     "output_type": "display_data"
    }
   ],
   "source": [
    "sb.distplot(jobs.adj_salary_bin, bins=4)\n",
    "plt.show()"
   ]
  },
  {
   "cell_type": "code",
   "execution_count": 150,
   "metadata": {
    "collapsed": false
   },
   "outputs": [],
   "source": [
    "jobs['sal_bins'] = pd.cut(jobs.adj_salary_bin, 4, labels=[1,2,3,4])\n",
    "\n",
    "dictionary = {'NSW':0, 'VIC':1, 'CA':2, 'NY':3, 'NJ':4, 'IL':5}\n",
    "jobs['state_number'] = jobs.state.map(dictionary)"
   ]
  },
  {
   "cell_type": "markdown",
   "metadata": {},
   "source": [
    "### Logistic Regression"
   ]
  },
  {
   "cell_type": "code",
   "execution_count": 151,
   "metadata": {
    "collapsed": true
   },
   "outputs": [],
   "source": [
    "def LRAccuracyScore(model, X, y, columns):\n",
    "    \n",
    "    #Returns a list of results \n",
    "    results = []\n",
    "    \n",
    "    try:\n",
    "        scoring = cross_val_score(model,X,y,cv=5,scoring='accuracy')\n",
    "        score = scoring.mean()\n",
    "        score_std = scoring.std()\n",
    "    except:\n",
    "        score = 'None'\n",
    "        score_std = 'None'\n",
    "    \n",
    "    #Append scores to results\n",
    "    results.append(score)\n",
    "    results.append(score_std)\n",
    "    \n",
    "    model.fit(X,y)\n",
    "    \n",
    "    closed = False\n",
    "    \n",
    "    try:\n",
    "        feature_scores = model.coef_.tolist()\n",
    "        closed = True\n",
    "    except:\n",
    "        pass    \n",
    "    \n",
    "    if closed == False:\n",
    "        try:\n",
    "            feature_scores = model.estimator_.coef_.tolist()\n",
    "            closed = True\n",
    "        except:\n",
    "            pass\n",
    "    \n",
    "    if closed == False:\n",
    "        try:    \n",
    "            feature_scores = model.feature_importances_ \n",
    "        except:\n",
    "            feature_scores = ['None'] * len(columns)\n",
    "\n",
    "    for score in feature_scores:\n",
    "        results.append(score) \n",
    "    \n",
    "    return results"
   ]
  },
  {
   "cell_type": "code",
   "execution_count": 152,
   "metadata": {
    "collapsed": true
   },
   "outputs": [],
   "source": [
    "from sklearn.feature_extraction.text import TfidfVectorizer\n",
    "from sklearn.linear_model import ElasticNetCV\n",
    "from sklearn.linear_model import LogisticRegression\n",
    "from sklearn.cross_validation import cross_val_score, train_test_split\n",
    "from sklearn.dummy import DummyClassifier\n",
    "from sklearn.metrics import confusion_matrix, classification_report\n",
    "from sklearn.preprocessing import StandardScaler\n",
    "lr = LogisticRegression()\n",
    "dummy = DummyClassifier()"
   ]
  },
  {
   "cell_type": "code",
   "execution_count": 153,
   "metadata": {
    "collapsed": false
   },
   "outputs": [
    {
     "name": "stdout",
     "output_type": "stream",
     "text": [
      "(2713, 18)\n",
      "(2713, 1448)\n"
     ]
    }
   ],
   "source": [
    "tfidf = TfidfVectorizer()\n",
    "key_words = tfidf.fit_transform(jobs.job_title).toarray()\n",
    "print jobs.shape\n",
    "print key_words.shape"
   ]
  },
  {
   "cell_type": "code",
   "execution_count": 154,
   "metadata": {
    "collapsed": false
   },
   "outputs": [
    {
     "name": "stdout",
     "output_type": "stream",
     "text": [
      "Logistical Regression Results (state & review score):\n",
      "0.363484509509\n",
      "\n",
      "[[ 0.09140611  0.10891742]\n",
      " [ 0.11066979 -0.08034607]\n",
      " [ 0.06043498 -0.03449102]\n",
      " [-0.2580575  -0.06662397]]\n",
      "\n",
      "Dummy Classifier Results (state & review score):\n",
      "0.255784253044\n",
      "\n",
      "Logistical Regression Results (key_words):\n",
      "0.41616498305\n",
      "\n",
      "Dummy Classifier Results(key_words):\n",
      "0.245508289184\n",
      "\n"
     ]
    }
   ],
   "source": [
    "X=jobs[['state_number', 'reviews_score']]\n",
    "y = jobs.sal_bins\n",
    "key_words = pd.DataFrame(key_words)\n",
    "\n",
    "print 'Logistical Regression Results (state & review score):'\n",
    "print cross_val_score(lr,X,y,cv=5,scoring='accuracy').mean()\n",
    "print\n",
    "\n",
    "lr.fit(X,y)\n",
    "print lr.coef_\n",
    "print\n",
    "\n",
    "print 'Dummy Classifier Results (state & review score):'\n",
    "print cross_val_score(dummy,X,y,cv=5,scoring='accuracy').mean()\n",
    "print\n",
    "\n",
    "print 'Logistical Regression Results (key_words):'\n",
    "print cross_val_score(lr,key_words,y,cv=5,scoring='accuracy').mean()\n",
    "print\n",
    "\n",
    "print 'Dummy Classifier Results(key_words):'\n",
    "print cross_val_score(dummy,key_words,y,cv=5,scoring='accuracy').mean()\n",
    "print\n"
   ]
  },
  {
   "cell_type": "markdown",
   "metadata": {},
   "source": [
    "The results indicated that **location** is a better predictor over company review score. Additionally, it looks like these feature have more impact in **lower salary brackets**. I will test both lower salary bins and location. "
   ]
  },
  {
   "cell_type": "markdown",
   "metadata": {},
   "source": [
    "### Subset of Lower Salary Bins"
   ]
  },
  {
   "cell_type": "code",
   "execution_count": 155,
   "metadata": {
    "collapsed": false,
    "scrolled": false
   },
   "outputs": [
    {
     "name": "stdout",
     "output_type": "stream",
     "text": [
      "Logistical Regression Results (state & review score):\n",
      "0.591246539479\n",
      "\n",
      "Dummy Classifier Results (state & review score):\n",
      "0.514082446896\n",
      "\n",
      "Logistical Regression Results (key_words):\n",
      "0.625348353607\n",
      "\n",
      "Dummy Classifier Results(key_words):\n",
      "0.537846812917\n",
      "\n"
     ]
    }
   ],
   "source": [
    "jobs_low = jobs[jobs.sal_bins <= 2]\n",
    "tfidf = TfidfVectorizer()\n",
    "key_words_low = tfidf.fit_transform(jobs_low.job_title).toarray()\n",
    "\n",
    "X=jobs_low[['state_number', 'reviews_score']]\n",
    "y = jobs_low.sal_bins\n",
    "key_words = pd.DataFrame(key_words_low)\n",
    "\n",
    "print 'Logistical Regression Results (state & review score):'\n",
    "print cross_val_score(lr,X,y,cv=5,scoring='accuracy').mean()\n",
    "print\n",
    "\n",
    "print 'Dummy Classifier Results (state & review score):'\n",
    "print cross_val_score(dummy,X,y,cv=5,scoring='accuracy').mean()\n",
    "print\n",
    "\n",
    "print 'Logistical Regression Results (key_words):'\n",
    "print cross_val_score(lr,key_words,y,cv=5,scoring='accuracy').mean()\n",
    "print\n",
    "\n",
    "print 'Dummy Classifier Results(key_words):'\n",
    "print cross_val_score(dummy,key_words,y,cv=5,scoring='accuracy').mean()\n",
    "print\n"
   ]
  },
  {
   "cell_type": "markdown",
   "metadata": {},
   "source": [
    "The accuracy of logistacal regression increased for state, review score and key words when the dataset was limited to the two lowest salary bins. However, accuracy is still less thatn 65% in both cases."
   ]
  },
  {
   "cell_type": "markdown",
   "metadata": {},
   "source": [
    "### Subset of Locations"
   ]
  },
  {
   "cell_type": "code",
   "execution_count": 156,
   "metadata": {
    "collapsed": false
   },
   "outputs": [
    {
     "data": {
      "text/plain": [
       "['NSW', 'VIC', 'CA', 'NY', 'NJ', 'IL']"
      ]
     },
     "execution_count": 156,
     "metadata": {},
     "output_type": "execute_result"
    }
   ],
   "source": [
    "[x for x in jobs.state.unique()]"
   ]
  },
  {
   "cell_type": "code",
   "execution_count": 157,
   "metadata": {
    "collapsed": false
   },
   "outputs": [],
   "source": [
    "for state in [x for x in jobs.state.unique()]:\n",
    "    jobs[state] = np.where(jobs.state == state, 1, 0)"
   ]
  },
  {
   "cell_type": "code",
   "execution_count": 158,
   "metadata": {
    "collapsed": false
   },
   "outputs": [],
   "source": [
    "dictionary = {'NSW':0, 'VIC':0, 'CA':1, 'NY':1, 'NJ':1, 'IL':1}\n",
    "jobs['USA'] = jobs.state.map(dictionary)"
   ]
  },
  {
   "cell_type": "code",
   "execution_count": 159,
   "metadata": {
    "collapsed": false
   },
   "outputs": [
    {
     "name": "stdout",
     "output_type": "stream",
     "text": [
      "Logistical Regression Results (state & review score):\n",
      "0.410974253847\n",
      "\n",
      "Dummy Classifier Results (state & review score):\n",
      "0.265713521718\n",
      "\n"
     ]
    },
    {
     "data": {
      "text/html": [
       "<div>\n",
       "<table border=\"1\" class=\"dataframe\">\n",
       "  <thead>\n",
       "    <tr style=\"text-align: right;\">\n",
       "      <th></th>\n",
       "      <th>NSW</th>\n",
       "      <th>VIC</th>\n",
       "      <th>CA</th>\n",
       "      <th>NY</th>\n",
       "      <th>NJ</th>\n",
       "      <th>IL</th>\n",
       "      <th>USA</th>\n",
       "    </tr>\n",
       "  </thead>\n",
       "  <tbody>\n",
       "    <tr>\n",
       "      <th>Salary Bin 1</th>\n",
       "      <td>-0.070642</td>\n",
       "      <td>0.405067</td>\n",
       "      <td>-0.502335</td>\n",
       "      <td>-0.359559</td>\n",
       "      <td>-0.264739</td>\n",
       "      <td>0.396879</td>\n",
       "      <td>-0.729753</td>\n",
       "    </tr>\n",
       "    <tr>\n",
       "      <th>Salary Bin 2</th>\n",
       "      <td>0.313426</td>\n",
       "      <td>-0.172841</td>\n",
       "      <td>-0.790188</td>\n",
       "      <td>0.293501</td>\n",
       "      <td>0.527796</td>\n",
       "      <td>-0.450123</td>\n",
       "      <td>-0.419014</td>\n",
       "    </tr>\n",
       "    <tr>\n",
       "      <th>Salary Bin 3</th>\n",
       "      <td>-0.912722</td>\n",
       "      <td>-0.594666</td>\n",
       "      <td>-0.021265</td>\n",
       "      <td>0.075589</td>\n",
       "      <td>0.128392</td>\n",
       "      <td>-0.093076</td>\n",
       "      <td>0.089640</td>\n",
       "    </tr>\n",
       "    <tr>\n",
       "      <th>Salary Bin 4</th>\n",
       "      <td>-1.193527</td>\n",
       "      <td>-1.360167</td>\n",
       "      <td>1.148747</td>\n",
       "      <td>-0.065715</td>\n",
       "      <td>-0.697183</td>\n",
       "      <td>0.207595</td>\n",
       "      <td>0.593443</td>\n",
       "    </tr>\n",
       "  </tbody>\n",
       "</table>\n",
       "</div>"
      ],
      "text/plain": [
       "                   NSW       VIC        CA        NY        NJ        IL  \\\n",
       "Salary Bin 1 -0.070642  0.405067 -0.502335 -0.359559 -0.264739  0.396879   \n",
       "Salary Bin 2  0.313426 -0.172841 -0.790188  0.293501  0.527796 -0.450123   \n",
       "Salary Bin 3 -0.912722 -0.594666 -0.021265  0.075589  0.128392 -0.093076   \n",
       "Salary Bin 4 -1.193527 -1.360167  1.148747 -0.065715 -0.697183  0.207595   \n",
       "\n",
       "                   USA  \n",
       "Salary Bin 1 -0.729753  \n",
       "Salary Bin 2 -0.419014  \n",
       "Salary Bin 3  0.089640  \n",
       "Salary Bin 4  0.593443  "
      ]
     },
     "execution_count": 159,
     "metadata": {},
     "output_type": "execute_result"
    }
   ],
   "source": [
    "X=jobs[['NSW', 'VIC', 'CA', 'NY', 'NJ', 'IL', 'USA']]\n",
    "y = jobs.sal_bins\n",
    "\n",
    "print 'Logistical Regression Results (state & review score):'\n",
    "print cross_val_score(lr,X,y,cv=5,scoring='accuracy').mean()\n",
    "print\n",
    "\n",
    "lr.fit(X,y)\n",
    "location_lr_df = pd.DataFrame(data=lr.coef_, \n",
    "                              columns=[x for x in X.columns], \n",
    "                              index=['Salary Bin 1','Salary Bin 2','Salary Bin 3','Salary Bin 4'])\n",
    "                              \n",
    "print'Dummy Classifier Results (state & review score):'\n",
    "print cross_val_score(dummy,X,y,cv=5,scoring='accuracy').mean()\n",
    "print\n",
    "\n",
    "location_lr_df"
   ]
  },
  {
   "cell_type": "markdown",
   "metadata": {},
   "source": [
    "Key words remained the strongest overall indicator of salary. \n",
    "\n",
    "However, it became clear that predictive power varies greatly with location. This model appears to be better atpredicting high paying jobs in the USA (especially California), but not in Australia. In our initial data exploration, it was very clear that there was a clear and noticeable difference between salary in Australia and the USA. "
   ]
  },
  {
   "cell_type": "markdown",
   "metadata": {},
   "source": [
    "#### Logistic Regression on  Job Description"
   ]
  },
  {
   "cell_type": "code",
   "execution_count": 186,
   "metadata": {
    "collapsed": false
   },
   "outputs": [
    {
     "name": "stdout",
     "output_type": "stream",
     "text": [
      "KEY_WORD_JOB_DESC\n",
      "Logistical Regression Results (job description):\n",
      "0.404754298049\n",
      "\n",
      "KEY_WORD_JOB_DESC\n",
      "Logistical Regression Results (job description limited):\n",
      "0.586788367264\n",
      "\n"
     ]
    }
   ],
   "source": [
    "tfidf = TfidfVectorizer()\n",
    "key_words_job_desc = tfidf.fit_transform(jobs.job_description).toarray()\n",
    "\n",
    "print 'KEY_WORD_JOB_DESC'\n",
    "X = key_words_job_desc\n",
    "y = jobs.sal_bins\n",
    "\n",
    "print 'Logistical Regression Results (job description):'\n",
    "print cross_val_score(lr,X,y,cv=5,scoring='accuracy').mean()\n",
    "print\n",
    "\n",
    "key_words_job_desc = tfidf.fit_transform(jobs_low.job_description).toarray()\n",
    "print 'KEY_WORD_JOB_DESC'\n",
    "X = key_words_job_desc\n",
    "y = jobs_low.sal_bins\n",
    "\n",
    "print 'Logistical Regression Results (job description limited):'\n",
    "print cross_val_score(lr,X,y,cv=5,scoring='accuracy').mean()\n",
    "print"
   ]
  },
  {
   "cell_type": "markdown",
   "metadata": {},
   "source": [
    "Words in job title appear to be a slightly better predictor than words in the description. To add, both are better than location. "
   ]
  },
  {
   "cell_type": "markdown",
   "metadata": {},
   "source": [
    "## Key Words - Job Title"
   ]
  },
  {
   "cell_type": "code",
   "execution_count": 210,
   "metadata": {
    "collapsed": false
   },
   "outputs": [
    {
     "name": "stdout",
     "output_type": "stream",
     "text": [
      "Overall Words Associated with Data Scientist Sallaries | Best and Worst \n"
     ]
    },
    {
     "name": "stderr",
     "output_type": "stream",
     "text": [
      "/Users/allenbyron/anaconda/lib/python2.7/site-packages/ipykernel/__main__.py:13: FutureWarning: sort(columns=....) is deprecated, use sort_values(by=.....)\n"
     ]
    },
    {
     "data": {
      "text/html": [
       "<div>\n",
       "<table border=\"1\" class=\"dataframe\">\n",
       "  <thead>\n",
       "    <tr style=\"text-align: right;\">\n",
       "      <th></th>\n",
       "      <th>best_words</th>\n",
       "      <th>worst_words</th>\n",
       "    </tr>\n",
       "  </thead>\n",
       "  <tbody>\n",
       "    <tr>\n",
       "      <th>0</th>\n",
       "      <td>director</td>\n",
       "      <td>food</td>\n",
       "    </tr>\n",
       "    <tr>\n",
       "      <th>1</th>\n",
       "      <td>vp</td>\n",
       "      <td>associate</td>\n",
       "    </tr>\n",
       "    <tr>\n",
       "      <th>2</th>\n",
       "      <td>principal</td>\n",
       "      <td>partnerships</td>\n",
       "    </tr>\n",
       "    <tr>\n",
       "      <th>3</th>\n",
       "      <td>platform</td>\n",
       "      <td>supervisor</td>\n",
       "    </tr>\n",
       "    <tr>\n",
       "      <th>4</th>\n",
       "      <td>product</td>\n",
       "      <td>environmental</td>\n",
       "    </tr>\n",
       "    <tr>\n",
       "      <th>5</th>\n",
       "      <td>hadoop</td>\n",
       "      <td>specialist</td>\n",
       "    </tr>\n",
       "    <tr>\n",
       "      <th>6</th>\n",
       "      <td>frontend</td>\n",
       "      <td>support</td>\n",
       "    </tr>\n",
       "    <tr>\n",
       "      <th>7</th>\n",
       "      <td>data</td>\n",
       "      <td>biostatistician</td>\n",
       "    </tr>\n",
       "    <tr>\n",
       "      <th>8</th>\n",
       "      <td>solutions</td>\n",
       "      <td>it</td>\n",
       "    </tr>\n",
       "    <tr>\n",
       "      <th>9</th>\n",
       "      <td>lead</td>\n",
       "      <td>analyst</td>\n",
       "    </tr>\n",
       "    <tr>\n",
       "      <th>10</th>\n",
       "      <td>head</td>\n",
       "      <td>technologist</td>\n",
       "    </tr>\n",
       "    <tr>\n",
       "      <th>11</th>\n",
       "      <td>toxicology</td>\n",
       "      <td>assistant</td>\n",
       "    </tr>\n",
       "    <tr>\n",
       "      <th>12</th>\n",
       "      <td>software</td>\n",
       "      <td>postdoctoral</td>\n",
       "    </tr>\n",
       "    <tr>\n",
       "      <th>13</th>\n",
       "      <td>ios</td>\n",
       "      <td>instructor</td>\n",
       "    </tr>\n",
       "    <tr>\n",
       "      <th>14</th>\n",
       "      <td>architect</td>\n",
       "      <td>coordinator</td>\n",
       "    </tr>\n",
       "  </tbody>\n",
       "</table>\n",
       "</div>"
      ],
      "text/plain": [
       "    best_words      worst_words\n",
       "0     director             food\n",
       "1           vp        associate\n",
       "2    principal     partnerships\n",
       "3     platform       supervisor\n",
       "4      product    environmental\n",
       "5       hadoop       specialist\n",
       "6     frontend          support\n",
       "7         data  biostatistician\n",
       "8    solutions               it\n",
       "9         lead          analyst\n",
       "10        head     technologist\n",
       "11  toxicology        assistant\n",
       "12    software     postdoctoral\n",
       "13         ios       instructor\n",
       "14   architect      coordinator"
      ]
     },
     "execution_count": 210,
     "metadata": {},
     "output_type": "execute_result"
    }
   ],
   "source": [
    "tfidf = TfidfVectorizer()\n",
    "key_words = tfidf.fit_transform(jobs.job_title).toarray()\n",
    "\n",
    "X = key_words\n",
    "y = jobs.sal_bins\n",
    "\n",
    "elastic = ElasticNetCV()\n",
    "elastic.fit(X,y)\n",
    "\n",
    "word_impact = pd.DataFrame()\n",
    "word_impact['word'] = tfidf.get_feature_names()\n",
    "word_impact['elasticnet_coef'] = elastic.coef_\n",
    "sorted_words = word_impact.sort(columns='elasticnet_coef', ascending=False)\n",
    "\n",
    "best = np.array(sorted_words.head(15))\n",
    "worst = np.array(sorted_words.tail(15))\n",
    "\n",
    "print 'Overall Words Associated with Data Scientist Sallaries | Best and Worst '\n",
    "df = pd.DataFrame(index=range(15))\n",
    "df['best_words']=best [0:,0]\n",
    "df['worst_words']=worst[0:,0]\n",
    "df"
   ]
  },
  {
   "cell_type": "markdown",
   "metadata": {},
   "source": [
    "## Key Words - Job Description"
   ]
  },
  {
   "cell_type": "code",
   "execution_count": 198,
   "metadata": {
    "collapsed": false
   },
   "outputs": [
    {
     "name": "stderr",
     "output_type": "stream",
     "text": [
      "/Users/allenbyron/anaconda/lib/python2.7/site-packages/ipykernel/__main__.py:13: FutureWarning: sort(columns=....) is deprecated, use sort_values(by=.....)\n"
     ]
    }
   ],
   "source": [
    "tfidf = TfidfVectorizer()\n",
    "key_words = tfidf.fit_transform(jobs.job_description).toarray()\n",
    "\n",
    "X = key_words\n",
    "y = jobs.sal_bins\n",
    "\n",
    "elastic = ElasticNetCV()\n",
    "elastic.fit(X,y)\n",
    "\n",
    "word_impact = pd.DataFrame()\n",
    "word_impact['word'] = tfidf.get_feature_names()\n",
    "word_impact['elasticnet_coef'] = elastic.coef_\n",
    "sorted_words = word_impact.sort(columns='elasticnet_coef', ascending=False)\n",
    "\n",
    "best = np.array(sorted_words.head(15))\n",
    "worst = np.array(sorted_words.tail(15))"
   ]
  },
  {
   "cell_type": "code",
   "execution_count": 208,
   "metadata": {
    "collapsed": false
   },
   "outputs": [
    {
     "name": "stdout",
     "output_type": "stream",
     "text": [
      "Overall Words Associated with Data Scientist Sallaries | Best and Worst \n"
     ]
    },
    {
     "data": {
      "text/html": [
       "<div>\n",
       "<table border=\"1\" class=\"dataframe\">\n",
       "  <thead>\n",
       "    <tr style=\"text-align: right;\">\n",
       "      <th></th>\n",
       "      <th>best_words</th>\n",
       "      <th>worst_words</th>\n",
       "    </tr>\n",
       "  </thead>\n",
       "  <tbody>\n",
       "    <tr>\n",
       "      <th>0</th>\n",
       "      <td>data</td>\n",
       "      <td>analyzes</td>\n",
       "    </tr>\n",
       "    <tr>\n",
       "      <th>1</th>\n",
       "      <td>scientists</td>\n",
       "      <td>collaboratively</td>\n",
       "    </tr>\n",
       "    <tr>\n",
       "      <th>2</th>\n",
       "      <td>big</td>\n",
       "      <td>conclusions</td>\n",
       "    </tr>\n",
       "    <tr>\n",
       "      <th>3</th>\n",
       "      <td>implement</td>\n",
       "      <td>both</td>\n",
       "    </tr>\n",
       "    <tr>\n",
       "      <th>4</th>\n",
       "      <td>platform</td>\n",
       "      <td>prepare</td>\n",
       "    </tr>\n",
       "    <tr>\n",
       "      <th>5</th>\n",
       "      <td>build</td>\n",
       "      <td>hospital</td>\n",
       "    </tr>\n",
       "    <tr>\n",
       "      <th>6</th>\n",
       "      <td>science</td>\n",
       "      <td>individuals</td>\n",
       "    </tr>\n",
       "    <tr>\n",
       "      <th>7</th>\n",
       "      <td>hands</td>\n",
       "      <td>results</td>\n",
       "    </tr>\n",
       "    <tr>\n",
       "      <th>8</th>\n",
       "      <td>director</td>\n",
       "      <td>been</td>\n",
       "    </tr>\n",
       "    <tr>\n",
       "      <th>9</th>\n",
       "      <td>top</td>\n",
       "      <td>analytical</td>\n",
       "    </tr>\n",
       "    <tr>\n",
       "      <th>10</th>\n",
       "      <td>product</td>\n",
       "      <td>health</td>\n",
       "    </tr>\n",
       "    <tr>\n",
       "      <th>11</th>\n",
       "      <td>fast</td>\n",
       "      <td>research</td>\n",
       "    </tr>\n",
       "    <tr>\n",
       "      <th>12</th>\n",
       "      <td>scale</td>\n",
       "      <td>interpret</td>\n",
       "    </tr>\n",
       "    <tr>\n",
       "      <th>13</th>\n",
       "      <td>best</td>\n",
       "      <td>reports</td>\n",
       "    </tr>\n",
       "    <tr>\n",
       "      <th>14</th>\n",
       "      <td>unstructured</td>\n",
       "      <td>analysis</td>\n",
       "    </tr>\n",
       "  </tbody>\n",
       "</table>\n",
       "</div>"
      ],
      "text/plain": [
       "      best_words      worst_words\n",
       "0           data         analyzes\n",
       "1     scientists  collaboratively\n",
       "2            big      conclusions\n",
       "3      implement             both\n",
       "4       platform          prepare\n",
       "5          build         hospital\n",
       "6        science      individuals\n",
       "7          hands          results\n",
       "8       director             been\n",
       "9            top       analytical\n",
       "10       product           health\n",
       "11          fast         research\n",
       "12         scale        interpret\n",
       "13          best          reports\n",
       "14  unstructured         analysis"
      ]
     },
     "execution_count": 208,
     "metadata": {},
     "output_type": "execute_result"
    }
   ],
   "source": [
    "df = pd.DataFrame(index=range(15))\n",
    "df['best_words']=best [0:,0]\n",
    "df['worst_words']=worst[0:,0]\n",
    "df"
   ]
  },
  {
   "cell_type": "markdown",
   "metadata": {},
   "source": [
    "# Top Job Title Words by Location"
   ]
  },
  {
   "cell_type": "code",
   "execution_count": 191,
   "metadata": {
    "collapsed": false
   },
   "outputs": [
    {
     "name": "stderr",
     "output_type": "stream",
     "text": [
      "/Users/allenbyron/anaconda/lib/python2.7/site-packages/ipykernel/__main__.py:20: FutureWarning: sort(columns=....) is deprecated, use sort_values(by=.....)\n"
     ]
    },
    {
     "data": {
      "text/html": [
       "<div>\n",
       "<table border=\"1\" class=\"dataframe\">\n",
       "  <thead>\n",
       "    <tr style=\"text-align: right;\">\n",
       "      <th></th>\n",
       "      <th>NSW_word</th>\n",
       "      <th>NSW_coefs</th>\n",
       "      <th>VIC_word</th>\n",
       "      <th>VIC_coefs</th>\n",
       "      <th>CA_word</th>\n",
       "      <th>CA_coefs</th>\n",
       "      <th>NY_word</th>\n",
       "      <th>NY_coefs</th>\n",
       "      <th>NJ_word</th>\n",
       "      <th>NJ_coefs</th>\n",
       "      <th>IL_word</th>\n",
       "      <th>IL_coefs</th>\n",
       "    </tr>\n",
       "  </thead>\n",
       "  <tbody>\n",
       "    <tr>\n",
       "      <th>0</th>\n",
       "      <td>data</td>\n",
       "      <td>0.672794</td>\n",
       "      <td>12</td>\n",
       "      <td>0.0</td>\n",
       "      <td>director</td>\n",
       "      <td>1.746430</td>\n",
       "      <td>big</td>\n",
       "      <td>1.756375</td>\n",
       "      <td>affairs</td>\n",
       "      <td>2.123423</td>\n",
       "      <td>data</td>\n",
       "      <td>1.578091</td>\n",
       "    </tr>\n",
       "    <tr>\n",
       "      <th>1</th>\n",
       "      <td>senior</td>\n",
       "      <td>0.612251</td>\n",
       "      <td>manager</td>\n",
       "      <td>0.0</td>\n",
       "      <td>job</td>\n",
       "      <td>1.309653</td>\n",
       "      <td>qa</td>\n",
       "      <td>1.708029</td>\n",
       "      <td>healthcare</td>\n",
       "      <td>1.672055</td>\n",
       "      <td>director</td>\n",
       "      <td>1.377281</td>\n",
       "    </tr>\n",
       "    <tr>\n",
       "      <th>2</th>\n",
       "      <td>manager</td>\n",
       "      <td>0.531260</td>\n",
       "      <td>ruby</td>\n",
       "      <td>0.0</td>\n",
       "      <td>lead</td>\n",
       "      <td>1.218020</td>\n",
       "      <td>modeling</td>\n",
       "      <td>1.690262</td>\n",
       "      <td>statistical</td>\n",
       "      <td>1.583989</td>\n",
       "      <td>vp</td>\n",
       "      <td>1.328830</td>\n",
       "    </tr>\n",
       "    <tr>\n",
       "      <th>3</th>\n",
       "      <td>frontend</td>\n",
       "      <td>0.445432</td>\n",
       "      <td>research</td>\n",
       "      <td>-0.0</td>\n",
       "      <td>data</td>\n",
       "      <td>1.155158</td>\n",
       "      <td>vp</td>\n",
       "      <td>1.659988</td>\n",
       "      <td>products</td>\n",
       "      <td>1.418443</td>\n",
       "      <td>platform</td>\n",
       "      <td>1.179290</td>\n",
       "    </tr>\n",
       "    <tr>\n",
       "      <th>4</th>\n",
       "      <td>design</td>\n",
       "      <td>0.412094</td>\n",
       "      <td>reporting</td>\n",
       "      <td>0.0</td>\n",
       "      <td>toxicology</td>\n",
       "      <td>1.087423</td>\n",
       "      <td>principal</td>\n",
       "      <td>1.558052</td>\n",
       "      <td>avp</td>\n",
       "      <td>1.361725</td>\n",
       "      <td>big</td>\n",
       "      <td>1.073422</td>\n",
       "    </tr>\n",
       "    <tr>\n",
       "      <th>5</th>\n",
       "      <td>kpmg</td>\n",
       "      <td>0.351908</td>\n",
       "      <td>rails</td>\n",
       "      <td>0.0</td>\n",
       "      <td>principal</td>\n",
       "      <td>1.082183</td>\n",
       "      <td>avp</td>\n",
       "      <td>1.540091</td>\n",
       "      <td>engagement</td>\n",
       "      <td>1.262402</td>\n",
       "      <td>engineering</td>\n",
       "      <td>0.988648</td>\n",
       "    </tr>\n",
       "    <tr>\n",
       "      <th>6</th>\n",
       "      <td>information</td>\n",
       "      <td>0.351905</td>\n",
       "      <td>quantitative</td>\n",
       "      <td>-0.0</td>\n",
       "      <td>ai</td>\n",
       "      <td>1.060345</td>\n",
       "      <td>yahoo</td>\n",
       "      <td>1.491228</td>\n",
       "      <td>database</td>\n",
       "      <td>1.219001</td>\n",
       "      <td>engineer</td>\n",
       "      <td>0.966653</td>\n",
       "    </tr>\n",
       "    <tr>\n",
       "      <th>7</th>\n",
       "      <td>management</td>\n",
       "      <td>0.351904</td>\n",
       "      <td>project</td>\n",
       "      <td>0.0</td>\n",
       "      <td>service</td>\n",
       "      <td>1.023837</td>\n",
       "      <td>architect</td>\n",
       "      <td>1.464617</td>\n",
       "      <td>services</td>\n",
       "      <td>1.148437</td>\n",
       "      <td>devops</td>\n",
       "      <td>0.938782</td>\n",
       "    </tr>\n",
       "    <tr>\n",
       "      <th>8</th>\n",
       "      <td>and</td>\n",
       "      <td>0.351900</td>\n",
       "      <td>programmer</td>\n",
       "      <td>0.0</td>\n",
       "      <td>products</td>\n",
       "      <td>0.952856</td>\n",
       "      <td>product</td>\n",
       "      <td>1.413562</td>\n",
       "      <td>management</td>\n",
       "      <td>1.055386</td>\n",
       "      <td>chicago</td>\n",
       "      <td>0.861933</td>\n",
       "    </tr>\n",
       "    <tr>\n",
       "      <th>9</th>\n",
       "      <td>team</td>\n",
       "      <td>0.309381</td>\n",
       "      <td>postdoctoral</td>\n",
       "      <td>-0.0</td>\n",
       "      <td>vp</td>\n",
       "      <td>0.950991</td>\n",
       "      <td>grubhub</td>\n",
       "      <td>1.395411</td>\n",
       "      <td>principal</td>\n",
       "      <td>1.054526</td>\n",
       "      <td>security</td>\n",
       "      <td>0.847421</td>\n",
       "    </tr>\n",
       "    <tr>\n",
       "      <th>10</th>\n",
       "      <td>consultant</td>\n",
       "      <td>0.304858</td>\n",
       "      <td>pluripotent</td>\n",
       "      <td>-0.0</td>\n",
       "      <td>medicine</td>\n",
       "      <td>0.948997</td>\n",
       "      <td>python</td>\n",
       "      <td>1.390096</td>\n",
       "      <td>president</td>\n",
       "      <td>1.046780</td>\n",
       "      <td>capital</td>\n",
       "      <td>0.828065</td>\n",
       "    </tr>\n",
       "    <tr>\n",
       "      <th>11</th>\n",
       "      <td>ui</td>\n",
       "      <td>0.301449</td>\n",
       "      <td>pega</td>\n",
       "      <td>0.0</td>\n",
       "      <td>management</td>\n",
       "      <td>0.923351</td>\n",
       "      <td>automotive</td>\n",
       "      <td>1.335254</td>\n",
       "      <td>vice</td>\n",
       "      <td>1.046569</td>\n",
       "      <td>one</td>\n",
       "      <td>0.828061</td>\n",
       "    </tr>\n",
       "    <tr>\n",
       "      <th>12</th>\n",
       "      <td>designer</td>\n",
       "      <td>0.278370</td>\n",
       "      <td>part</td>\n",
       "      <td>-0.0</td>\n",
       "      <td>infrastructure</td>\n",
       "      <td>0.919098</td>\n",
       "      <td>firmwide</td>\n",
       "      <td>1.300261</td>\n",
       "      <td>chief</td>\n",
       "      <td>1.030685</td>\n",
       "      <td>statistics</td>\n",
       "      <td>0.804175</td>\n",
       "    </tr>\n",
       "    <tr>\n",
       "      <th>13</th>\n",
       "      <td>experience</td>\n",
       "      <td>0.260969</td>\n",
       "      <td>optimisation</td>\n",
       "      <td>-0.0</td>\n",
       "      <td>visual</td>\n",
       "      <td>0.896435</td>\n",
       "      <td>company</td>\n",
       "      <td>1.280868</td>\n",
       "      <td>devops</td>\n",
       "      <td>0.939482</td>\n",
       "      <td>kafka</td>\n",
       "      <td>0.735747</td>\n",
       "    </tr>\n",
       "    <tr>\n",
       "      <th>14</th>\n",
       "      <td>for</td>\n",
       "      <td>0.253834</td>\n",
       "      <td>on</td>\n",
       "      <td>0.0</td>\n",
       "      <td>frontend</td>\n",
       "      <td>0.892577</td>\n",
       "      <td>wealth</td>\n",
       "      <td>1.279002</td>\n",
       "      <td>md</td>\n",
       "      <td>0.936908</td>\n",
       "      <td>unstructured</td>\n",
       "      <td>0.688518</td>\n",
       "    </tr>\n",
       "  </tbody>\n",
       "</table>\n",
       "</div>"
      ],
      "text/plain": [
       "       NSW_word  NSW_coefs      VIC_word  VIC_coefs         CA_word  CA_coefs  \\\n",
       "0          data   0.672794            12        0.0        director  1.746430   \n",
       "1        senior   0.612251       manager        0.0             job  1.309653   \n",
       "2       manager   0.531260          ruby        0.0            lead  1.218020   \n",
       "3      frontend   0.445432      research       -0.0            data  1.155158   \n",
       "4        design   0.412094     reporting        0.0      toxicology  1.087423   \n",
       "5          kpmg   0.351908         rails        0.0       principal  1.082183   \n",
       "6   information   0.351905  quantitative       -0.0              ai  1.060345   \n",
       "7    management   0.351904       project        0.0         service  1.023837   \n",
       "8           and   0.351900    programmer        0.0        products  0.952856   \n",
       "9          team   0.309381  postdoctoral       -0.0              vp  0.950991   \n",
       "10   consultant   0.304858   pluripotent       -0.0        medicine  0.948997   \n",
       "11           ui   0.301449          pega        0.0      management  0.923351   \n",
       "12     designer   0.278370          part       -0.0  infrastructure  0.919098   \n",
       "13   experience   0.260969  optimisation       -0.0          visual  0.896435   \n",
       "14          for   0.253834            on        0.0        frontend  0.892577   \n",
       "\n",
       "       NY_word  NY_coefs      NJ_word  NJ_coefs       IL_word  IL_coefs  \n",
       "0          big  1.756375      affairs  2.123423          data  1.578091  \n",
       "1           qa  1.708029   healthcare  1.672055      director  1.377281  \n",
       "2     modeling  1.690262  statistical  1.583989            vp  1.328830  \n",
       "3           vp  1.659988     products  1.418443      platform  1.179290  \n",
       "4    principal  1.558052          avp  1.361725           big  1.073422  \n",
       "5          avp  1.540091   engagement  1.262402   engineering  0.988648  \n",
       "6        yahoo  1.491228     database  1.219001      engineer  0.966653  \n",
       "7    architect  1.464617     services  1.148437        devops  0.938782  \n",
       "8      product  1.413562   management  1.055386       chicago  0.861933  \n",
       "9      grubhub  1.395411    principal  1.054526      security  0.847421  \n",
       "10      python  1.390096    president  1.046780       capital  0.828065  \n",
       "11  automotive  1.335254         vice  1.046569           one  0.828061  \n",
       "12    firmwide  1.300261        chief  1.030685    statistics  0.804175  \n",
       "13     company  1.280868       devops  0.939482         kafka  0.735747  \n",
       "14      wealth  1.279002           md  0.936908  unstructured  0.688518  "
      ]
     },
     "execution_count": 191,
     "metadata": {},
     "output_type": "execute_result"
    }
   ],
   "source": [
    "states = [state for state in jobs.state.unique()]\n",
    "df = pd.DataFrame(index=range(15))\n",
    "\n",
    "for s in states:\n",
    "    tfidf = TfidfVectorizer()\n",
    "    jobs_new = jobs[jobs.state == s]\n",
    "    key_words = tfidf.fit_transform(jobs_new.job_title).toarray()\n",
    "    \n",
    "\n",
    "    X = key_words\n",
    "    y = jobs_new.sal_bins\n",
    "\n",
    "    elastic = ElasticNetCV()\n",
    "    elastic.fit(X,y)\n",
    "\n",
    "    word_impact = pd.DataFrame()\n",
    "    word_impact['word'] = tfidf.get_feature_names()\n",
    "    word_impact['elasticnet_coef'] = elastic.coef_\n",
    "    \n",
    "    sorted_words = word_impact.sort(columns='elasticnet_coef', ascending=False)\n",
    "    sorted_words_15 = sorted_words.head(15)\n",
    "    \n",
    "    words = np.array(sorted_words_15.word)\n",
    "    coefs = np.array(sorted_words_15.elasticnet_coef)\n",
    "    df[s + '_word'] = words\n",
    "    df[s + '_coefs'] = coefs\n",
    "\n",
    "df"
   ]
  },
  {
   "cell_type": "code",
   "execution_count": 193,
   "metadata": {
    "collapsed": true
   },
   "outputs": [],
   "source": [
    "dictionary = {1: 'USA', 0: 'AUS'}\n",
    "jobs['country']=jobs.USA.map(dictionary)"
   ]
  },
  {
   "cell_type": "code",
   "execution_count": 217,
   "metadata": {
    "collapsed": false
   },
   "outputs": [
    {
     "name": "stderr",
     "output_type": "stream",
     "text": [
      "/Users/allenbyron/anaconda/lib/python2.7/site-packages/ipykernel/__main__.py:20: FutureWarning: sort(columns=....) is deprecated, use sort_values(by=.....)\n"
     ]
    },
    {
     "data": {
      "text/html": [
       "<div>\n",
       "<table border=\"1\" class=\"dataframe\">\n",
       "  <thead>\n",
       "    <tr style=\"text-align: right;\">\n",
       "      <th></th>\n",
       "      <th>AUS_word</th>\n",
       "      <th>AUS_coefs</th>\n",
       "      <th>USA_word</th>\n",
       "      <th>USA_coefs</th>\n",
       "    </tr>\n",
       "  </thead>\n",
       "  <tbody>\n",
       "    <tr>\n",
       "      <th>0</th>\n",
       "      <td>senior</td>\n",
       "      <td>0.879613</td>\n",
       "      <td>director</td>\n",
       "      <td>1.527180</td>\n",
       "    </tr>\n",
       "    <tr>\n",
       "      <th>1</th>\n",
       "      <td>team</td>\n",
       "      <td>0.793486</td>\n",
       "      <td>vp</td>\n",
       "      <td>1.316913</td>\n",
       "    </tr>\n",
       "    <tr>\n",
       "      <th>2</th>\n",
       "      <td>information</td>\n",
       "      <td>0.517883</td>\n",
       "      <td>product</td>\n",
       "      <td>1.313372</td>\n",
       "    </tr>\n",
       "    <tr>\n",
       "      <th>3</th>\n",
       "      <td>management</td>\n",
       "      <td>0.517867</td>\n",
       "      <td>principal</td>\n",
       "      <td>1.237400</td>\n",
       "    </tr>\n",
       "    <tr>\n",
       "      <th>4</th>\n",
       "      <td>kpmg</td>\n",
       "      <td>0.517846</td>\n",
       "      <td>platform</td>\n",
       "      <td>1.097460</td>\n",
       "    </tr>\n",
       "    <tr>\n",
       "      <th>5</th>\n",
       "      <td>data</td>\n",
       "      <td>0.463223</td>\n",
       "      <td>hadoop</td>\n",
       "      <td>1.068068</td>\n",
       "    </tr>\n",
       "    <tr>\n",
       "      <th>6</th>\n",
       "      <td>water</td>\n",
       "      <td>0.439185</td>\n",
       "      <td>data</td>\n",
       "      <td>1.048141</td>\n",
       "    </tr>\n",
       "    <tr>\n",
       "      <th>7</th>\n",
       "      <td>designer</td>\n",
       "      <td>0.377620</td>\n",
       "      <td>head</td>\n",
       "      <td>0.972147</td>\n",
       "    </tr>\n",
       "    <tr>\n",
       "      <th>8</th>\n",
       "      <td>leader</td>\n",
       "      <td>0.320242</td>\n",
       "      <td>software</td>\n",
       "      <td>0.962270</td>\n",
       "    </tr>\n",
       "    <tr>\n",
       "      <th>9</th>\n",
       "      <td>manager</td>\n",
       "      <td>0.309965</td>\n",
       "      <td>lead</td>\n",
       "      <td>0.945562</td>\n",
       "    </tr>\n",
       "    <tr>\n",
       "      <th>10</th>\n",
       "      <td>analytics</td>\n",
       "      <td>0.229057</td>\n",
       "      <td>frontend</td>\n",
       "      <td>0.933499</td>\n",
       "    </tr>\n",
       "    <tr>\n",
       "      <th>11</th>\n",
       "      <td>design</td>\n",
       "      <td>0.206611</td>\n",
       "      <td>solutions</td>\n",
       "      <td>0.931248</td>\n",
       "    </tr>\n",
       "    <tr>\n",
       "      <th>12</th>\n",
       "      <td>ui</td>\n",
       "      <td>0.200575</td>\n",
       "      <td>toxicology</td>\n",
       "      <td>0.920654</td>\n",
       "    </tr>\n",
       "    <tr>\n",
       "      <th>13</th>\n",
       "      <td>experience</td>\n",
       "      <td>0.194457</td>\n",
       "      <td>architect</td>\n",
       "      <td>0.915473</td>\n",
       "    </tr>\n",
       "    <tr>\n",
       "      <th>14</th>\n",
       "      <td>advisory</td>\n",
       "      <td>0.181540</td>\n",
       "      <td>big</td>\n",
       "      <td>0.908629</td>\n",
       "    </tr>\n",
       "  </tbody>\n",
       "</table>\n",
       "</div>"
      ],
      "text/plain": [
       "       AUS_word  AUS_coefs    USA_word  USA_coefs\n",
       "0        senior   0.879613    director   1.527180\n",
       "1          team   0.793486          vp   1.316913\n",
       "2   information   0.517883     product   1.313372\n",
       "3    management   0.517867   principal   1.237400\n",
       "4          kpmg   0.517846    platform   1.097460\n",
       "5          data   0.463223      hadoop   1.068068\n",
       "6         water   0.439185        data   1.048141\n",
       "7      designer   0.377620        head   0.972147\n",
       "8        leader   0.320242    software   0.962270\n",
       "9       manager   0.309965        lead   0.945562\n",
       "10    analytics   0.229057    frontend   0.933499\n",
       "11       design   0.206611   solutions   0.931248\n",
       "12           ui   0.200575  toxicology   0.920654\n",
       "13   experience   0.194457   architect   0.915473\n",
       "14     advisory   0.181540         big   0.908629"
      ]
     },
     "execution_count": 217,
     "metadata": {},
     "output_type": "execute_result"
    }
   ],
   "source": [
    "countries = [country for country in jobs.country.unique()]\n",
    "df = pd.DataFrame(index=range(15))\n",
    "\n",
    "for c in countries:\n",
    "    tfidf = TfidfVectorizer()\n",
    "    jobs_new = jobs[jobs.country == c]\n",
    "    key_words = tfidf.fit_transform(jobs_new.job_title).toarray()\n",
    "    \n",
    "\n",
    "    X = key_words\n",
    "    y = jobs_new.sal_bins\n",
    "\n",
    "    elastic = ElasticNetCV()\n",
    "    elastic.fit(X,y)\n",
    "\n",
    "    word_impact = pd.DataFrame()\n",
    "    word_impact['word'] = tfidf.get_feature_names()\n",
    "    word_impact['elasticnet_coef'] = elastic.coef_\n",
    "    \n",
    "    sorted_words = word_impact.sort(columns='elasticnet_coef', ascending=False)\n",
    "    sorted_words_15 = sorted_words.head(15)\n",
    "    \n",
    "    words = np.array(sorted_words_15.word)\n",
    "    coefs = np.array(sorted_words_15.elasticnet_coef)\n",
    "    df[c + '_word'] = words\n",
    "    df[c + '_coefs'] = coefs\n",
    "\n",
    "df"
   ]
  },
  {
   "cell_type": "code",
   "execution_count": null,
   "metadata": {
    "collapsed": true
   },
   "outputs": [],
   "source": []
  }
 ],
 "metadata": {
  "kernelspec": {
   "display_name": "Python 2",
   "language": "python",
   "name": "python2"
  },
  "language_info": {
   "codemirror_mode": {
    "name": "ipython",
    "version": 2
   },
   "file_extension": ".py",
   "mimetype": "text/x-python",
   "name": "python",
   "nbconvert_exporter": "python",
   "pygments_lexer": "ipython2",
   "version": "2.7.12"
  }
 },
 "nbformat": 4,
 "nbformat_minor": 0
}
