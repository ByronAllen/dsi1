{
 "cells": [
  {
   "cell_type": "markdown",
   "metadata": {},
   "source": [
    "# Project 4: Logistic Regression & Best Predictor of Data Science Salary Bin\n",
    "By Byron Allen\n",
    "\n",
    "##### Description\n",
    "\n",
    "I scrapped key data points from over 2700 jobs across six cities: Sydney, Melbourne, San Francisco, New York, Newark and Chicago. The resulting datasets were collated, cleaned and stored in the pandas DataFrame 'jobs', which was used to identify what feature is the best predictor of salary. \n",
    "\n",
    "The results of the logistic regression indicate that there are few features acting as valid predictors. Specifically, words from job titles or job descriptions are the most accurate predictors, but only for the lowest salary bin. \n",
    "\n",
    "##### Contents\n",
    "\n",
    "* Import scrapped data\n",
    "* Further clean data\n",
    "* Convert salaries into USD\n",
    "* Explore shape of dataset\n",
    "* Select optimal bins for salaries\n",
    "* Create CVSvDummy function to print results\n",
    "* Logistical Regression and results\n",
    "* Key words (from job titles) associated with salary\n",
    "* Key words (from job descriptions) associated with salary\n"
   ]
  },
  {
   "cell_type": "code",
   "execution_count": 1,
   "metadata": {
    "collapsed": false
   },
   "outputs": [],
   "source": [
    "%matplotlib inline\n",
    "import requests\n",
    "import urllib2\n",
    "import bs4\n",
    "from bs4 import BeautifulSoup\n",
    "import pandas as pd\n",
    "import numpy as np\n",
    "import matplotlib.pyplot as plt\n",
    "import seaborn as sb\n",
    "import psycopg2\n",
    "import string"
   ]
  },
  {
   "cell_type": "code",
   "execution_count": 2,
   "metadata": {
    "collapsed": true
   },
   "outputs": [],
   "source": [
    "jobs = pd.read_csv('.no_get/job_searches.csv')\n",
    "nyc_jobs = pd.read_csv('.no_get/new_job_searches.csv')\n",
    "chi_jobs = pd.read_csv('.no_get/chi_job_searches.csv')"
   ]
  },
  {
   "cell_type": "code",
   "execution_count": 3,
   "metadata": {
    "collapsed": false
   },
   "outputs": [
    {
     "name": "stdout",
     "output_type": "stream",
     "text": [
      "(1326, 16)\n",
      "(1078, 16)\n"
     ]
    }
   ],
   "source": [
    "print jobs.shape\n",
    "print nyc_jobs.shape"
   ]
  },
  {
   "cell_type": "code",
   "execution_count": 4,
   "metadata": {
    "collapsed": false
   },
   "outputs": [],
   "source": [
    "jobs = jobs.append(nyc_jobs)\n",
    "jobs = jobs.append(chi_jobs)"
   ]
  },
  {
   "cell_type": "code",
   "execution_count": 5,
   "metadata": {
    "collapsed": false
   },
   "outputs": [
    {
     "data": {
      "text/plain": [
       "(2713, 16)"
      ]
     },
     "execution_count": 5,
     "metadata": {},
     "output_type": "execute_result"
    }
   ],
   "source": [
    "jobs.shape"
   ]
  },
  {
   "cell_type": "code",
   "execution_count": 6,
   "metadata": {
    "collapsed": false
   },
   "outputs": [
    {
     "name": "stdout",
     "output_type": "stream",
     "text": [
      "(2713, 16)\n",
      "<class 'pandas.core.frame.DataFrame'>\n",
      "Int64Index: 2713 entries, 0 to 308\n",
      "Data columns (total 13 columns):\n",
      "company                 2713 non-null object\n",
      "culture                 2713 non-null object\n",
      "job_addr                2713 non-null object\n",
      "job_description         2713 non-null object\n",
      "job_security_advance    2713 non-null object\n",
      "job_title               2713 non-null object\n",
      "link                    2713 non-null object\n",
      "management              2713 non-null object\n",
      "reviews_score           2713 non-null float64\n",
      "reviews_total           2713 non-null object\n",
      "salary_benefits         2713 non-null object\n",
      "work_life_bal           2713 non-null object\n",
      "salary_bins_int         2713 non-null int64\n",
      "dtypes: float64(1), int64(1), object(11)\n",
      "memory usage: 296.7+ KB\n"
     ]
    }
   ],
   "source": [
    "print jobs.shape\n",
    "jobs.drop(labels=['salary_bins', 'salary', 'job_posted'], axis=1, inplace=True)\n",
    "jobs.info()"
   ]
  },
  {
   "cell_type": "code",
   "execution_count": 7,
   "metadata": {
    "collapsed": false
   },
   "outputs": [
    {
     "data": {
      "text/plain": [
       "array(['NSW', 'VIC', 'CA', 'NY', 'NJ', 'IL'], dtype=object)"
      ]
     },
     "execution_count": 7,
     "metadata": {},
     "output_type": "execute_result"
    }
   ],
   "source": [
    "states=[]\n",
    "\n",
    "for i in jobs.job_addr:\n",
    "    if 'CA' in i:\n",
    "        states.append('CA')\n",
    "    elif 'NSW' in i:\n",
    "        states.append('NSW')\n",
    "    elif 'VIC' in i:\n",
    "        states.append('VIC')\n",
    "    elif 'NY' in i:\n",
    "        states.append('NY')\n",
    "    elif 'NJ' in i:\n",
    "        states.append('NJ')\n",
    "    elif 'IL' in i:\n",
    "        states.append('IL')\n",
    "    else:\n",
    "        states.append('i')\n",
    "        \n",
    "jobs['state'] = states\n",
    "\n",
    "jobs.state.unique()"
   ]
  },
  {
   "cell_type": "markdown",
   "metadata": {},
   "source": [
    "### Convert to USD"
   ]
  },
  {
   "cell_type": "code",
   "execution_count": 8,
   "metadata": {
    "collapsed": false
   },
   "outputs": [],
   "source": [
    "dictionary={'NSW': 0.77, 'VIC': 0.77, 'CA': 1, 'NY': 1, 'NJ': 1, 'IL': 1}\n",
    "jobs['conversion_to_USD'] = jobs.state.map(dictionary) \n",
    "jobs['adj_salary_bin'] = jobs.salary_bins_int*jobs.conversion_to_USD"
   ]
  },
  {
   "cell_type": "markdown",
   "metadata": {},
   "source": [
    "### Exploratory Analysis"
   ]
  },
  {
   "cell_type": "code",
   "execution_count": 9,
   "metadata": {
    "collapsed": true
   },
   "outputs": [],
   "source": [
    "import matplotlib.pyplot as plt"
   ]
  },
  {
   "cell_type": "code",
   "execution_count": 10,
   "metadata": {
    "collapsed": true
   },
   "outputs": [],
   "source": [
    "sb.distplot?"
   ]
  },
  {
   "cell_type": "code",
   "execution_count": 11,
   "metadata": {
    "collapsed": false,
    "scrolled": false
   },
   "outputs": [
    {
     "data": {
      "image/png": "[encoded data removed]",
      "text/plain": [
       "<matplotlib.figure.Figure at 0x1060b5a90>"
      ]
     },
     "metadata": {},
     "output_type": "display_data"
    }
   ],
   "source": [
    "sb.distplot(jobs.adj_salary_bin, bins=8, kde=True)\n",
    "plt.title('Distribution of Salaries in 8 Bins')\n",
    "\n",
    "plt.show()"
   ]
  },
  {
   "cell_type": "code",
   "execution_count": 25,
   "metadata": {
    "collapsed": false
   },
   "outputs": [
    {
     "data": {
      "image/png": "[encoded data removed]",
      "text/plain": [
       "<matplotlib.figure.Figure at 0x11cadc710>"
      ]
     },
     "metadata": {},
     "output_type": "display_data"
    }
   ],
   "source": [
    "cali = jobs[jobs.state == 'CA']\n",
    "#nyc = jobs[(jobs.state == 'NY' )& (jobs.state == 'NJ')]\n",
    "ny = jobs[jobs.state == 'NY']\n",
    "nj = jobs[jobs.state == 'NJ']\n",
    "il = jobs[jobs.state == 'IL']\n",
    "aus = jobs[jobs.conversion_to_USD == 0.77]\n",
    "\n",
    "plt.hist(cali.adj_salary_bin, color='b', alpha=0.25)\n",
    "plt.hist(aus.adj_salary_bin, color='r', alpha=0.5)\n",
    "plt.hist(ny.adj_salary_bin, color='g', alpha=0.5)\n",
    "plt.hist(nj.adj_salary_bin, color='orange', alpha=0.5)\n",
    "plt.hist(il.adj_salary_bin, color='black', alpha=0.5)\n",
    "\n",
    "\n",
    "plt.xlabel('Distribution of Salaries in USD')\n",
    "plt.legend(['San Francisco', 'Australia', 'New York', 'Newark', 'Chicago'], loc=2)\n",
    "\n",
    "plt.show()"
   ]
  },
  {
   "cell_type": "code",
   "execution_count": 21,
   "metadata": {
    "collapsed": true
   },
   "outputs": [],
   "source": [
    "plt.legend?"
   ]
  },
  {
   "cell_type": "code",
   "execution_count": 13,
   "metadata": {
    "collapsed": false
   },
   "outputs": [
    {
     "data": {
      "image/png": "[encoded data removed]",
      "text/plain": [
       "<matplotlib.figure.Figure at 0x119090ed0>"
      ]
     },
     "metadata": {},
     "output_type": "display_data"
    }
   ],
   "source": [
    "import seaborn as sb\n",
    "sb.violinplot(x=jobs.state, y=jobs.adj_salary_bin, data=jobs)\n",
    "plt.title('Violinplot of Salaries Amongst Locations')\n",
    "plt.show()"
   ]
  },
  {
   "cell_type": "code",
   "execution_count": 14,
   "metadata": {
    "collapsed": false
   },
   "outputs": [
    {
     "data": {
      "image/png": "[encoded data removed]",
      "text/plain": [
       "<matplotlib.figure.Figure at 0x11bc333d0>"
      ]
     },
     "metadata": {},
     "output_type": "display_data"
    }
   ],
   "source": [
    "sb.violinplot(x=jobs.state, y=jobs.reviews_score, data=jobs)\n",
    "plt.title('Violinplot of Review Scores Amongst Locations')\n",
    "plt.show()"
   ]
  },
  {
   "cell_type": "markdown",
   "metadata": {},
   "source": [
    "### Binning"
   ]
  },
  {
   "cell_type": "code",
   "execution_count": 15,
   "metadata": {
    "collapsed": false
   },
   "outputs": [],
   "source": [
    "jobs['sal_bins'] = pd.cut(jobs.adj_salary_bin, 8, labels=[1,2,3,4,5,6,7,8])\n",
    "\n",
    "dictionary = {'NSW':0, 'VIC':1, 'CA':2, 'NY':3, 'NJ':4, 'IL':5}\n",
    "jobs['state_number'] = jobs.state.map(dictionary)"
   ]
  },
  {
   "cell_type": "code",
   "execution_count": 16,
   "metadata": {
    "collapsed": false
   },
   "outputs": [
    {
     "name": "stdout",
     "output_type": "stream",
     "text": [
      "<class 'pandas.core.frame.DataFrame'>\n",
      "Int64Index: 2713 entries, 0 to 308\n",
      "Data columns (total 18 columns):\n",
      "company                 2713 non-null object\n",
      "culture                 2713 non-null object\n",
      "job_addr                2713 non-null object\n",
      "job_description         2713 non-null object\n",
      "job_security_advance    2713 non-null object\n",
      "job_title               2713 non-null object\n",
      "link                    2713 non-null object\n",
      "management              2713 non-null object\n",
      "reviews_score           2713 non-null float64\n",
      "reviews_total           2713 non-null object\n",
      "salary_benefits         2713 non-null object\n",
      "work_life_bal           2713 non-null object\n",
      "salary_bins_int         2713 non-null int64\n",
      "state                   2713 non-null object\n",
      "conversion_to_USD       2713 non-null float64\n",
      "adj_salary_bin          2713 non-null float64\n",
      "sal_bins                2713 non-null category\n",
      "state_number            2713 non-null int64\n",
      "dtypes: category(1), float64(3), int64(2), object(12)\n",
      "memory usage: 384.2+ KB\n"
     ]
    }
   ],
   "source": [
    "jobs.info()"
   ]
  },
  {
   "cell_type": "markdown",
   "metadata": {},
   "source": [
    "### CVSvDummy Function "
   ]
  },
  {
   "cell_type": "code",
   "execution_count": 17,
   "metadata": {
    "collapsed": false
   },
   "outputs": [],
   "source": [
    "def CVSvDummy(model, X, y):\n",
    "    print '================================='\n",
    "    #print 'Model: ', model\n",
    "    print\n",
    "    scoring = cross_val_score(model,X,y,cv=5,scoring='accuracy')\n",
    "    print 'CV Score: ', scoring.mean()\n",
    "    print\n",
    "\n",
    "    dum_score = cross_val_score(DummyClassifier(strategy='most_frequent'),X,y,cv=5,scoring='accuracy')\n",
    "    print 'Dummy Score: ', dum_score.mean()\n",
    "    print\n",
    "    print\n",
    "    \n",
    "    print 'Salary & Coefs:'\n",
    "    lr.fit(X,y)\n",
    "    for x in zip(jobs.sal_bins.unique(),model.coef_):\n",
    "        print x\n",
    "    \n",
    "    print"
   ]
  },
  {
   "cell_type": "markdown",
   "metadata": {},
   "source": [
    "### Logistic Regression"
   ]
  },
  {
   "cell_type": "code",
   "execution_count": 18,
   "metadata": {
    "collapsed": true
   },
   "outputs": [],
   "source": [
    "from sklearn.feature_extraction.text import TfidfVectorizer\n",
    "from sklearn.linear_model import ElasticNetCV\n",
    "from sklearn.linear_model import LogisticRegression\n",
    "from sklearn.cross_validation import cross_val_score, train_test_split\n",
    "from sklearn.dummy import DummyClassifier\n",
    "from sklearn.metrics import confusion_matrix, classification_report\n",
    "lr = LogisticRegression()"
   ]
  },
  {
   "cell_type": "code",
   "execution_count": 19,
   "metadata": {
    "collapsed": false
   },
   "outputs": [
    {
     "name": "stdout",
     "output_type": "stream",
     "text": [
      "(2713, 18)\n",
      "(2713, 1448)\n"
     ]
    }
   ],
   "source": [
    "tfidf = TfidfVectorizer()\n",
    "key_words = tfidf.fit_transform(jobs.job_title).toarray()\n",
    "\n",
    "print jobs.shape\n",
    "print key_words.shape"
   ]
  },
  {
   "cell_type": "code",
   "execution_count": 20,
   "metadata": {
    "collapsed": false,
    "scrolled": false
   },
   "outputs": [
    {
     "name": "stdout",
     "output_type": "stream",
     "text": [
      "KEY_WORD\n",
      "=================================\n",
      "\n",
      "CV Score:  0.247641409127\n",
      "\n",
      "Dummy Score:  0.20420457697\n",
      "\n",
      "\n",
      "Salary & Coefs:\n",
      "(1, array([-0.04609744, -0.03534747, -0.05662844, ..., -0.08540821,\n",
      "       -0.06808206, -0.03446468]))\n",
      "(3, array([-0.03899481, -0.03501601, -0.0253731 , ..., -0.34770245,\n",
      "       -0.07690603, -0.03170895]))\n",
      "(4, array([-0.0461532 , -0.03943986, -0.06734705, ..., -0.36555727,\n",
      "       -0.09001154, -0.04293142]))\n",
      "(6, array([-0.09703542, -0.09549489, -0.07659559, ...,  0.39239356,\n",
      "       -0.16900593, -0.07886796]))\n",
      "(8, array([-0.06633007, -0.0417763 , -0.03112554, ..., -0.26182536,\n",
      "        0.55840173,  0.50634135]))\n",
      "(2, array([-0.04421378,  0.39063751,  0.39491688, ...,  0.56737835,\n",
      "       -0.04985818, -0.04965251]))\n",
      "(5, array([ 0.4292425 , -0.05198144, -0.04096319, ..., -0.36733438,\n",
      "       -0.05782429, -0.06923292]))\n",
      "(7, array([-0.05141582, -0.05928845, -0.06761169, ...,  0.23832962,\n",
      "       -0.03209589, -0.14090564]))\n",
      "\n",
      "STATE\n",
      "=================================\n",
      "\n",
      "CV Score:  0.176559304539\n",
      "\n",
      "Dummy Score:  0.20420457697\n",
      "\n",
      "\n",
      "Salary & Coefs:\n",
      "(1, array([ 0.21076396]))\n",
      "(3, array([-0.10266214]))\n",
      "(4, array([ 0.0286924]))\n",
      "(6, array([ 0.11004981]))\n",
      "(8, array([-0.80607893]))\n",
      "(2, array([ 0.58531903]))\n",
      "(5, array([-0.14290237]))\n",
      "(7, array([-0.29056825]))\n",
      "\n",
      "REVIEW_SCORE\n",
      "=================================\n",
      "\n",
      "CV Score:  0.20420457697\n",
      "\n",
      "Dummy Score:  0.20420457697\n",
      "\n",
      "\n",
      "Salary & Coefs:\n",
      "(1, array([ 0.24279796]))\n",
      "(3, array([-0.1883475]))\n",
      "(4, array([ 0.07363598]))\n",
      "(6, array([-0.19668818]))\n",
      "(8, array([ 0.03664928]))\n",
      "(2, array([-0.18024622]))\n",
      "(5, array([-0.11978094]))\n",
      "(7, array([-0.09226661]))\n",
      "\n",
      "COMBO\n",
      "=================================\n",
      "\n",
      "CV Score:  0.18206929572\n",
      "\n",
      "Dummy Score:  0.20420457697\n",
      "\n",
      "\n",
      "Salary & Coefs:\n",
      "(1, array([ 0.20513619,  0.22434281]))\n",
      "(3, array([-0.09534479, -0.17564836]))\n",
      "(4, array([ 0.02620627,  0.07053973]))\n",
      "(6, array([ 0.11480882, -0.20675777]))\n",
      "(8, array([-0.81420792,  0.13672187]))\n",
      "(2, array([ 0.59480255, -0.26464335]))\n",
      "(5, array([-0.13956778, -0.10526196]))\n",
      "(7, array([-0.28850148, -0.06615967]))\n",
      "\n"
     ]
    }
   ],
   "source": [
    "print 'KEY_WORD'\n",
    "X = key_words\n",
    "y = jobs.sal_bins\n",
    "CVSvDummy(lr, X, y)\n",
    "\n",
    "print 'STATE'\n",
    "x=jobs[['state_number']]\n",
    "y=y\n",
    "CVSvDummy(lr, x, y)\n",
    "\n",
    "print 'REVIEW_SCORE'\n",
    "x=jobs[['reviews_score']]\n",
    "y=y\n",
    "CVSvDummy(lr, x, y)\n",
    "\n",
    "print 'COMBO'\n",
    "x=jobs[['state_number', 'reviews_score', ]]\n",
    "y=y\n",
    "CVSvDummy(lr, x, y)\n"
   ]
  },
  {
   "cell_type": "markdown",
   "metadata": {},
   "source": [
    "### Narrow the scope: Focus on salary bin 1"
   ]
  },
  {
   "cell_type": "code",
   "execution_count": 21,
   "metadata": {
    "collapsed": false,
    "scrolled": true
   },
   "outputs": [
    {
     "name": "stdout",
     "output_type": "stream",
     "text": [
      "(551, 18)\n",
      "(551, 600)\n",
      "KEY_WORD\n",
      "=================================\n",
      "\n",
      "CV Score:  0.635104629233\n",
      "\n",
      "Dummy Score:  0.539018551496\n",
      "\n",
      "\n",
      "Salary & Coefs:\n",
      "(1, array([-0.12431381, -0.18579361,  0.41891134, -0.15362254, -0.11988349,\n",
      "        0.18278723, -0.18080447, -0.24221321, -0.24209299,  0.62393514,\n",
      "       -0.09786161,  0.89613586, -0.36646341, -0.26306965, -0.28916767,\n",
      "        0.24199367,  0.34442398, -0.30674641, -0.16119114,  0.04975248,\n",
      "       -0.32777567, -0.01258472,  0.06426546,  0.2523161 , -0.15605856,\n",
      "       -0.04682436, -0.17680197,  0.440985  , -0.12431381,  0.43428848,\n",
      "        0.29229824, -0.1548334 ,  0.50916022, -0.93224917,  0.32061398,\n",
      "        0.57110289, -0.37041462, -0.23850672,  0.41726738, -0.36889885,\n",
      "       -0.17900171,  0.354434  , -0.16033015,  0.31523469,  0.23078054,\n",
      "       -0.11593092,  0.38459274, -0.1209049 ,  0.42558136, -0.14988214,\n",
      "       -0.12997657, -0.01605283, -0.18125383,  0.07820405,  0.69187527,\n",
      "        0.23078054,  0.23078054, -0.1781952 ,  0.17340255,  0.27860156,\n",
      "        0.21598892,  0.99259105, -0.32726947, -0.16119114,  0.21042329,\n",
      "        1.39817026,  0.21949044,  0.42211106,  0.28491875, -0.22365197,\n",
      "        0.63432374,  0.23418414, -0.14449411, -0.14449411,  0.43719319,\n",
      "       -0.19539237, -0.06139979,  0.71728171, -0.26432438, -0.01836612,\n",
      "        0.2523161 , -0.1983715 , -0.13497366,  0.27316876,  0.17560356,\n",
      "       -0.28694259,  0.17340255,  0.04076636, -0.38457794, -0.11259477,\n",
      "       -0.51496273, -0.21352474, -0.1548334 ,  0.32636243, -0.61687346,\n",
      "        1.18663196, -0.1224778 , -0.23068942, -0.13497366, -0.11988349,\n",
      "       -0.17409185, -0.12792777, -0.26717537, -0.18529363,  0.0586845 ,\n",
      "       -0.48957868, -0.07550362, -1.77328366,  0.36790803, -0.17900171,\n",
      "       -0.15704915, -0.26306965, -0.26759901,  0.31516106, -0.21969444,\n",
      "       -0.1505572 , -0.25079297, -0.19194109,  0.56065105,  0.25656219,\n",
      "        0.28290577,  0.02592503,  0.2523161 ,  1.01219764, -0.5509215 ,\n",
      "        0.06750281, -0.16438871, -0.31535142, -1.41189809, -0.55913585,\n",
      "        0.2638075 , -0.2348741 ,  0.29561984, -0.14988214, -0.15481755,\n",
      "        0.17560356, -0.26736685,  0.17340255,  0.36354109,  0.39022956,\n",
      "       -0.29016483, -0.11526378, -0.42882581, -0.02911604, -0.24866741,\n",
      "       -0.14583369, -0.24385547,  0.14410139, -0.21895886,  0.18302834,\n",
      "       -0.64002542, -0.16048989, -0.1549229 , -0.200805  , -0.37287749,\n",
      "       -0.1898191 ,  0.39976212,  0.36587736, -0.33229156,  0.64785418,\n",
      "        0.24805559, -0.40493843,  0.16104458, -0.3510178 ,  0.32990994,\n",
      "       -0.17092866, -0.21483277,  0.354434  , -0.12792777, -0.1395912 ,\n",
      "        0.00705102,  0.27265434, -0.15823235, -0.53964779,  0.25503288,\n",
      "        0.23633531, -0.19945159, -0.19945159, -0.27764767, -0.19194109,\n",
      "       -0.16051978,  0.36252648, -0.36646341,  0.28040206,  0.15704337,\n",
      "        0.36790803, -0.18868677,  0.23696754,  0.63374093,  1.2364895 ,\n",
      "        0.26496863, -0.15481755, -0.19201117,  0.23682042, -0.29487044,\n",
      "       -0.26041974,  0.21069528, -0.20085041, -0.18868677,  0.1777475 ,\n",
      "        0.46229882, -0.28694259,  0.01903038,  0.46229882, -0.16874545,\n",
      "        0.16104458, -0.0217119 ,  0.00934823, -0.16874545, -0.26313842,\n",
      "        0.26299407, -0.13946996, -0.21890252,  0.28290577, -0.42360012,\n",
      "       -0.13946996, -0.18579361, -0.28092502, -0.12997657,  0.85357045,\n",
      "       -0.6626477 ,  0.50438336,  0.00985533, -0.77777895, -0.6160075 ,\n",
      "        0.23191596,  0.37223902,  0.23851786,  0.30404457, -0.33737578,\n",
      "        0.30886087, -0.1395912 , -0.21598349,  0.23539937,  0.31278227,\n",
      "       -0.15605856, -0.28730116, -0.12431381, -0.14401927, -0.11526378,\n",
      "        0.21042329,  0.36760948, -0.19362976, -0.16919671, -0.94982392,\n",
      "       -0.15362254, -0.11593092, -0.16033015,  0.27265434, -0.25079297,\n",
      "       -0.21352474, -0.13813551, -0.22202665, -0.569001  ,  0.49508303,\n",
      "        0.28134171, -0.10368588,  0.58842287, -0.14401927, -0.35530404,\n",
      "       -0.1505572 , -0.3855482 , -0.17304269,  0.17986582, -0.26432438,\n",
      "       -0.29994356, -0.16021113, -0.10088877, -0.40079515, -0.16919671,\n",
      "        0.57985598,  0.22857316,  0.05476439, -0.236417  ,  0.21949044,\n",
      "        0.12189062,  0.24531351, -0.13837289,  0.48579329, -0.2288919 ,\n",
      "       -0.17092866,  0.17526149,  0.24628938,  0.23070911, -0.30144902,\n",
      "        0.0828897 , -0.1505572 ,  0.17526149,  0.22292957, -0.42402006,\n",
      "       -0.20546797,  0.27441641,  0.21598892, -0.03851985, -0.23600884,\n",
      "       -0.27356189, -0.2158373 ,  0.33849009,  0.17526149,  0.97712173,\n",
      "       -0.440835  , -0.15823235, -0.2419864 , -0.15605856, -0.10088877,\n",
      "       -0.34944209, -0.21608107, -0.16048989,  0.32626129, -0.36646341,\n",
      "       -0.17409185, -0.69440598,  0.21598892, -0.5501078 , -0.18708127,\n",
      "       -0.16919671,  0.57654338, -0.10826653,  0.28262295,  0.23851786,\n",
      "       -0.18868677, -0.10866005, -0.13946996,  0.03340652,  0.47507562,\n",
      "        0.23633531,  0.40258127, -0.14401927, -0.76816318, -0.12590827,\n",
      "       -0.09396023,  0.27479751,  0.28809561, -0.10088877, -0.16048537,\n",
      "        0.28914081, -0.39731642, -0.64843477,  0.04037992, -0.13813551,\n",
      "       -0.11737812,  0.20423471, -0.08389192,  0.208795  , -0.35788097,\n",
      "        0.66062525, -0.37360794,  0.41801956, -0.22814395, -0.26306965,\n",
      "        0.25503288,  0.35255777, -0.23830105, -0.42897493, -0.19074879,\n",
      "        0.27127786,  0.2246285 , -0.21890252,  0.24011988, -0.00186609,\n",
      "        0.07558869,  0.28491875, -0.19016748, -0.26083948, -0.14583369,\n",
      "       -0.33139264, -0.2882812 , -0.16824734,  0.28262295, -0.20797591,\n",
      "        0.2502223 , -0.17226324,  0.39209328,  0.1927056 , -0.37299512,\n",
      "       -0.39979488, -0.10088877, -0.26031831, -0.63494436, -0.48723283,\n",
      "       -0.11526378, -0.00584505, -0.26759901,  0.1073517 ,  0.9512405 ,\n",
      "        0.16880379,  0.13808731, -0.27118399, -0.22814395,  0.02347125,\n",
      "       -0.1145693 , -0.18125383, -0.1145693 , -0.11593092, -0.26596289,\n",
      "        0.23078054, -0.71637243,  0.15362533,  0.08336831, -0.06284528,\n",
      "        0.18302834, -0.2482025 , -0.16139421, -0.33229156, -0.35485998,\n",
      "       -0.19941596, -0.16299939,  0.45850739,  0.23418414,  0.23633531,\n",
      "       -0.30908152, -0.41508145,  0.51322095,  0.2502223 ,  0.23078054,\n",
      "       -0.09786161, -0.13948605, -0.12997657, -0.11988349, -0.13897031,\n",
      "        0.16465459, -0.19074879, -0.20146617, -0.12792777,  0.21812651,\n",
      "       -0.1750143 , -0.34963819,  0.17190198, -0.17409185, -0.1505572 ,\n",
      "        0.18302834,  0.35374264, -0.3166747 ,  0.24449726, -0.69599631,\n",
      "        0.48301049, -0.17092866, -0.16874545, -0.12792777, -0.37684281,\n",
      "       -0.30908152,  0.29034779,  0.04837104, -0.25594134,  0.20439266,\n",
      "        0.2167022 , -0.03674789,  0.39603389, -0.34222044,  0.21848713,\n",
      "        0.32821093, -0.32939195,  0.65294602,  0.27441641, -0.12008382,\n",
      "       -0.2419864 , -0.18868677,  0.23682042,  0.32135657, -0.17226324,\n",
      "       -0.19362976,  0.1777475 ,  0.24980077,  0.77307994,  0.21613565,\n",
      "        0.55167607, -0.23309604,  0.38043834, -0.23599244, -0.25791843,\n",
      "        0.23710792, -0.34760468, -0.1483907 , -0.01694411, -0.18953543,\n",
      "        0.30886087, -0.15704915,  0.28040206, -0.2785912 , -0.26739604,\n",
      "       -0.12792777, -0.12431381, -0.13884146, -0.18080447, -0.4021586 ,\n",
      "        0.23682042, -0.23449698,  0.52140051, -0.12592483, -0.1781952 ,\n",
      "       -0.13884146,  0.39209328,  0.44845146,  0.72277579, -0.04629202,\n",
      "       -0.08675487,  0.01694385,  1.75832655,  0.23078054,  0.354434  ,\n",
      "       -0.14401927, -0.23752346, -0.15643469,  0.31797008, -0.33408633,\n",
      "       -0.28934951,  0.1927056 , -0.23823376,  0.24449726,  0.28331115,\n",
      "       -0.11988349, -0.23599244, -0.22649406,  0.13808731,  0.20423471,\n",
      "       -0.15641309,  0.16880379, -0.19194109, -0.13948605,  0.22462599,\n",
      "        0.15362533, -0.66450566, -0.1395912 , -0.24240658,  0.35304025,\n",
      "       -0.24866741,  1.05644963,  0.32636243, -0.18696434, -0.16021113,\n",
      "        0.16121627,  0.21549116,  0.65927263,  0.28331115,  0.70100817,\n",
      "       -0.12997657,  0.34259304,  0.33089175,  0.26355519, -0.13949698,\n",
      "        0.41891134, -0.15439741, -0.34165488, -0.23449698, -0.16099231,\n",
      "       -0.11593092, -0.1983715 , -0.26306965, -0.13014087, -0.29837693,\n",
      "       -0.17163752, -0.19194109, -0.16048989,  0.28551053,  0.10624703,\n",
      "       -0.43285404, -1.079944  ,  0.51640069, -0.12519597, -0.18058865,\n",
      "        0.27127786, -0.14449411, -0.81384764, -0.35815665, -0.10866005,\n",
      "        0.27316876, -0.14401927, -0.22759091, -0.22814395,  0.19792175,\n",
      "        0.19792175, -0.12431381, -0.45259086,  0.23851786,  0.21549116,\n",
      "       -0.02856491,  0.22462599,  0.3602968 , -0.16119114,  0.354434  ,\n",
      "       -0.16033015, -0.26596289,  0.24011988, -0.24120099,  0.21253148,\n",
      "       -0.20656437,  0.12189062,  0.32738696,  0.05523322, -0.14988214,\n",
      "        0.09981434, -0.13014087,  0.06484005, -0.11076603,  0.21549116,\n",
      "        0.21613565,  0.05523322, -0.3171477 , -0.15439741, -0.17226324]))\n",
      "\n",
      "STATE\n",
      "=================================\n",
      "\n",
      "CV Score:  0.540820353297\n",
      "\n",
      "Dummy Score:  0.539018551496\n",
      "\n",
      "\n",
      "Salary & Coefs:\n",
      "(1, array([-0.19969771]))\n",
      "\n",
      "REVIEW_SCORE\n",
      "=================================\n",
      "\n",
      "CV Score:  0.586242739821\n",
      "\n",
      "Dummy Score:  0.539018551496\n",
      "\n",
      "\n",
      "Salary & Coefs:\n",
      "(1, array([-0.38163184]))\n",
      "\n",
      "COMBO: STATE & REVIEW\n",
      "=================================\n",
      "\n",
      "CV Score:  0.597069329546\n",
      "\n",
      "Dummy Score:  0.539018551496\n",
      "\n",
      "\n",
      "Salary & Coefs:\n",
      "(1, array([-0.18140572, -0.33379631]))\n",
      "\n"
     ]
    }
   ],
   "source": [
    "jobs_low = jobs[jobs.sal_bins <= 2]\n",
    "\n",
    "tfidf = TfidfVectorizer()\n",
    "key_words_low = tfidf.fit_transform(jobs_low.job_title).toarray()\n",
    "\n",
    "print jobs_low.shape\n",
    "print key_words_low.shape\n",
    "\n",
    "print 'KEY_WORD'\n",
    "X = key_words_low\n",
    "y = jobs_low.sal_bins\n",
    "CVSvDummy(lr, X, y)\n",
    "\n",
    "print 'STATE'\n",
    "x=jobs_low[['state_number']]\n",
    "y=y\n",
    "CVSvDummy(lr, x, y)\n",
    "\n",
    "print 'REVIEW_SCORE'\n",
    "x=jobs_low[['reviews_score']]\n",
    "y=y\n",
    "CVSvDummy(lr, x, y)\n",
    "\n",
    "print 'COMBO: STATE & REVIEW'\n",
    "x=jobs_low[['state_number', 'reviews_score', ]]\n",
    "y=y\n",
    "CVSvDummy(lr, x, y)\n"
   ]
  },
  {
   "cell_type": "markdown",
   "metadata": {},
   "source": [
    "#### Key words appears to be the strongest indicator of salary"
   ]
  },
  {
   "cell_type": "code",
   "execution_count": 22,
   "metadata": {
    "collapsed": false
   },
   "outputs": [
    {
     "name": "stdout",
     "output_type": "stream",
     "text": [
      "Confusion Matrix\n",
      "[[63 23]\n",
      " [36 60]]\n",
      "\n",
      "Classification Report:\n",
      "             precision    recall  f1-score   support\n",
      "\n",
      "          1     0.6364    0.7326    0.6811        86\n",
      "          2     0.7229    0.6250    0.6704        96\n",
      "\n",
      "avg / total     0.6820    0.6758    0.6754       182\n",
      "\n",
      "\n"
     ]
    }
   ],
   "source": [
    "lr = LogisticRegression(class_weight='balanced')\n",
    "x=key_words_low\n",
    "\n",
    "#Train-Test Split\n",
    "x_train, x_test, y_train, y_test = train_test_split(x, y, test_size=0.33, random_state=42)\n",
    "\n",
    "lr.fit(x_train,y_train)\n",
    "y_pred = lr.predict(x_test)\n",
    "\n",
    "cm = confusion_matrix(y_test,y_pred)\n",
    "cr = classification_report(y_test, y_pred, digits=4)\n",
    "\n",
    "print 'Confusion Matrix'\n",
    "print cm\n",
    "print\n",
    "\n",
    "print 'Classification Report:'\n",
    "print cr\n",
    "print "
   ]
  },
  {
   "cell_type": "markdown",
   "metadata": {},
   "source": [
    "#### The default Logistic Regression parameters are the be best after conducting a GridSearchCV"
   ]
  },
  {
   "cell_type": "code",
   "execution_count": 23,
   "metadata": {
    "collapsed": true
   },
   "outputs": [],
   "source": [
    "from sklearn.grid_search import GridSearchCV"
   ]
  },
  {
   "cell_type": "code",
   "execution_count": 24,
   "metadata": {
    "collapsed": false
   },
   "outputs": [
    {
     "data": {
      "text/plain": [
       "GridSearchCV(cv=None, error_score='raise',\n",
       "       estimator=LogisticRegression(C=1.0, class_weight='balanced', dual=False,\n",
       "          fit_intercept=True, intercept_scaling=1, max_iter=100,\n",
       "          multi_class='ovr', n_jobs=1, penalty='l2', random_state=None,\n",
       "          solver='liblinear', tol=0.0001, verbose=0, warm_start=False),\n",
       "       fit_params={}, iid=True, n_jobs=1,\n",
       "       param_grid={'C': [0.5, 1, 1.5, 2]}, pre_dispatch='2*n_jobs',\n",
       "       refit=True, scoring=None, verbose=0)"
      ]
     },
     "execution_count": 24,
     "metadata": {},
     "output_type": "execute_result"
    }
   ],
   "source": [
    "params = {'C':[0.5, 1, 1.5, 2]}\n",
    "\n",
    "search = GridSearchCV(lr,params)\n",
    "search"
   ]
  },
  {
   "cell_type": "markdown",
   "metadata": {},
   "source": [
    "#### Logistic Regression on  Job Description"
   ]
  },
  {
   "cell_type": "code",
   "execution_count": 25,
   "metadata": {
    "collapsed": false
   },
   "outputs": [
    {
     "name": "stdout",
     "output_type": "stream",
     "text": [
      "(2713, 18)\n",
      "(2713, 4428)\n",
      "KEY_WORD_JOB_DESC\n",
      "=================================\n",
      "\n",
      "CV Score:  0.221546572964\n",
      "\n",
      "Dummy Score:  0.20420457697\n",
      "\n",
      "\n",
      "Salary & Coefs:\n",
      "(1, array([ 0.09633122,  0.01703271,  0.07406928, ..., -0.01802644,\n",
      "       -0.09989672, -0.11013773]))\n",
      "(3, array([-0.40080744, -0.33831634, -0.08858698, ..., -0.01687739,\n",
      "       -0.07054719, -0.1926451 ]))\n",
      "(4, array([-0.46810806,  0.37976689, -0.10948756, ..., -0.03048562,\n",
      "       -0.04287564, -0.09915315]))\n",
      "(6, array([-0.2680275 , -0.15853808,  0.02724551, ..., -0.04758801,\n",
      "       -0.06959812, -0.00638549]))\n",
      "(8, array([-0.32561938, -0.37104058, -0.15334346, ..., -0.06128399,\n",
      "       -0.09050635,  1.03798119]))\n",
      "(2, array([ 0.5193582 , -0.03606082, -0.12771159, ..., -0.04026103,\n",
      "       -0.09992745, -0.14153582]))\n",
      "(5, array([-0.14566215,  0.31927877,  0.00250354, ...,  0.29583363,\n",
      "       -0.14340898, -0.21450077]))\n",
      "(7, array([ 0.62505331,  0.19662517,  0.16305767, ..., -0.10163851,\n",
      "        0.44549377, -0.18518696]))\n",
      "\n"
     ]
    }
   ],
   "source": [
    "tfidf = TfidfVectorizer()\n",
    "key_words_job_desc = tfidf.fit_transform(jobs.job_description).toarray()\n",
    "\n",
    "print jobs.shape\n",
    "print key_words_job_desc.shape\n",
    "\n",
    "print 'KEY_WORD_JOB_DESC'\n",
    "X = key_words_job_desc\n",
    "y = jobs.sal_bins\n",
    "CVSvDummy(lr, X, y)"
   ]
  },
  {
   "cell_type": "code",
   "execution_count": 26,
   "metadata": {
    "collapsed": false
   },
   "outputs": [
    {
     "name": "stdout",
     "output_type": "stream",
     "text": [
      "KEY_WORD_JOB_DESC\n",
      "=================================\n",
      "\n",
      "CV Score:  0.637135751264\n",
      "\n",
      "Dummy Score:  0.539018551496\n",
      "\n",
      "\n",
      "Salary & Coefs:\n",
      "(1, array([-0.27381866, -0.1851031 , -0.07366179, ..., -0.24311555,\n",
      "        0.14971884, -0.11940071]))\n",
      "\n"
     ]
    }
   ],
   "source": [
    "key_words_job_desc = tfidf.fit_transform(jobs_low.job_description).toarray()\n",
    "print 'KEY_WORD_JOB_DESC'\n",
    "X = key_words_job_desc\n",
    "y = jobs_low.sal_bins\n",
    "CVSvDummy(lr, X, y)"
   ]
  },
  {
   "cell_type": "markdown",
   "metadata": {},
   "source": [
    "## Key Words - Job Title"
   ]
  },
  {
   "cell_type": "code",
   "execution_count": 27,
   "metadata": {
    "collapsed": false
   },
   "outputs": [
    {
     "name": "stdout",
     "output_type": "stream",
     "text": [
      "(2713, 18)\n",
      "(2713, 1448)\n",
      "           word  elasticnet_coef\n",
      "388    director         3.220899\n",
      "1410         vp         2.907141\n",
      "1041  principal         2.683916\n",
      "1009   platform         2.609830\n",
      "1050    product         2.448194\n",
      "97    architect         2.238296\n",
      "760        lead         2.123692\n",
      "341        data         2.096103\n",
      "614        head         2.032224\n",
      "609      hadoop         1.984952\n",
      "1226  solutions         1.956434\n",
      "557    frontend         1.876836\n",
      "1222   software         1.823754\n",
      "135         avp         1.705201\n",
      "1052   products         1.693194\n",
      "                 word  elasticnet_coef\n",
      "510               fgp        -1.517902\n",
      "115         associate        -1.553633\n",
      "506            fellow        -1.626073\n",
      "1281       supervisor        -1.626450\n",
      "191   biostatistician        -1.717757\n",
      "458     environmental        -1.755988\n",
      "724                it        -1.823963\n",
      "1284          support        -1.877146\n",
      "1234       specialist        -1.991426\n",
      "1023     postdoctoral        -2.199271\n",
      "74            analyst        -2.256348\n",
      "113         assistant        -2.487792\n",
      "693        instructor        -2.547283\n",
      "1309     technologist        -2.587197\n",
      "306       coordinator        -3.195776\n"
     ]
    },
    {
     "name": "stderr",
     "output_type": "stream",
     "text": [
      "/Users/allenbyron/anaconda/lib/python2.7/site-packages/ipykernel/__main__.py:16: FutureWarning: sort(columns=....) is deprecated, use sort_values(by=.....)\n"
     ]
    }
   ],
   "source": [
    "tfidf = TfidfVectorizer()\n",
    "key_words = tfidf.fit_transform(jobs.job_title).toarray()\n",
    "\n",
    "print jobs.shape\n",
    "print key_words.shape\n",
    "\n",
    "X = key_words\n",
    "y = jobs.sal_bins\n",
    "\n",
    "elastic = ElasticNetCV()\n",
    "elastic.fit(X,y)\n",
    "\n",
    "word_impact = pd.DataFrame()\n",
    "word_impact['word'] = tfidf.get_feature_names()\n",
    "word_impact['elasticnet_coef'] = elastic.coef_\n",
    "sorted_words = word_impact.sort(columns='elasticnet_coef', ascending=False)\n",
    "print sorted_words.head(15)\n",
    "print sorted_words.tail(15)"
   ]
  },
  {
   "cell_type": "markdown",
   "metadata": {},
   "source": [
    "## Key Words - Job Description"
   ]
  },
  {
   "cell_type": "code",
   "execution_count": 28,
   "metadata": {
    "collapsed": false
   },
   "outputs": [
    {
     "name": "stdout",
     "output_type": "stream",
     "text": [
      "(2713, 18)\n",
      "(2713, 4428)\n",
      "            word  elasticnet_coef\n",
      "1033        data         3.926169\n",
      "3559  scientists         3.008703\n",
      "475          big         2.849147\n",
      "3057    platform         2.360463\n",
      "3554     science         2.335879\n",
      "2010   implement         1.955046\n",
      "3176     product         1.834529\n",
      "1866       hands         1.794240\n",
      "564        build         1.776105\n",
      "2319        lead         1.772007\n",
      "468         best         1.710472\n",
      "4085         top         1.692846\n",
      "567     building         1.622576\n",
      "1171    director         1.580197\n",
      "3542       scale         1.541589\n",
      "               word  elasticnet_coef\n",
      "1401  environmental        -1.081689\n",
      "3859    strategists        -1.086894\n",
      "244         analyst        -1.107337\n",
      "535            both        -1.152908\n",
      "3123        prepare        -1.157570\n",
      "760      collection        -1.298922\n",
      "3455        results        -1.301222\n",
      "2176      interpret        -1.315410\n",
      "1937       hospital        -1.351071\n",
      "1895         health        -1.351496\n",
      "252        analyzes        -1.393052\n",
      "3426       research        -1.440000\n",
      "247      analytical        -1.628172\n",
      "3407        reports        -1.817593\n",
      "242        analysis        -1.971737\n"
     ]
    },
    {
     "name": "stderr",
     "output_type": "stream",
     "text": [
      "/Users/allenbyron/anaconda/lib/python2.7/site-packages/ipykernel/__main__.py:16: FutureWarning: sort(columns=....) is deprecated, use sort_values(by=.....)\n"
     ]
    }
   ],
   "source": [
    "tfidf = TfidfVectorizer()\n",
    "key_words = tfidf.fit_transform(jobs.job_description).toarray()\n",
    "\n",
    "print jobs.shape\n",
    "print key_words.shape\n",
    "\n",
    "X = key_words\n",
    "y = jobs.sal_bins\n",
    "\n",
    "elastic = ElasticNetCV()\n",
    "elastic.fit(X,y)\n",
    "\n",
    "word_impact = pd.DataFrame()\n",
    "word_impact['word'] = tfidf.get_feature_names()\n",
    "word_impact['elasticnet_coef'] = elastic.coef_\n",
    "sorted_words = word_impact.sort(columns='elasticnet_coef', ascending=False)\n",
    "print sorted_words.head(15)\n",
    "print sorted_words.tail(15)"
   ]
  },
  {
   "cell_type": "markdown",
   "metadata": {},
   "source": [
    "## Possible Next Steps \n",
    "\n",
    "* **Use Other Models:** Lasso, Ridge, GridSearchCV\n",
    "* **Try Predicting:** Build function to test job titles\n",
    "* **Try Reshapping Data:** There are alternate dataset shapes available "
   ]
  }
 ],
 "metadata": {
  "kernelspec": {
   "display_name": "Python 2",
   "language": "python",
   "name": "python2"
  },
  "language_info": {
   "codemirror_mode": {
    "name": "ipython",
    "version": 2
   },
   "file_extension": ".py",
   "mimetype": "text/x-python",
   "name": "python",
   "nbconvert_exporter": "python",
   "pygments_lexer": "ipython2",
   "version": "2.7.12"
  }
 },
 "nbformat": 4,
 "nbformat_minor": 0
}
